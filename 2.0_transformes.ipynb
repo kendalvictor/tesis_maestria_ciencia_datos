{
 "cells": [
  {
   "cell_type": "code",
   "execution_count": 1,
   "id": "30a316a5-5663-4ba0-9743-4ca658bbed00",
   "metadata": {},
   "outputs": [
    {
     "name": "stdout",
     "output_type": "stream",
     "text": [
      "Requirement already satisfied: transformers in c:\\programdata\\anaconda3\\lib\\site-packages (4.6.1)\n",
      "Requirement already satisfied: tokenizers<0.11,>=0.10.1 in c:\\programdata\\anaconda3\\lib\\site-packages (from transformers) (0.10.3)\n",
      "Requirement already satisfied: filelock in c:\\programdata\\anaconda3\\lib\\site-packages (from transformers) (3.0.12)\n",
      "Requirement already satisfied: numpy>=1.17 in c:\\programdata\\anaconda3\\lib\\site-packages (from transformers) (1.19.5)\n",
      "Requirement already satisfied: requests in c:\\programdata\\anaconda3\\lib\\site-packages (from transformers) (2.25.1)\n",
      "Requirement already satisfied: huggingface-hub==0.0.8 in c:\\programdata\\anaconda3\\lib\\site-packages (from transformers) (0.0.8)\n",
      "Requirement already satisfied: packaging in c:\\programdata\\anaconda3\\lib\\site-packages (from transformers) (20.9)\n",
      "Requirement already satisfied: regex!=2019.12.17 in c:\\programdata\\anaconda3\\lib\\site-packages (from transformers) (2021.4.4)\n",
      "Requirement already satisfied: tqdm>=4.27 in c:\\programdata\\anaconda3\\lib\\site-packages (from transformers) (4.59.0)\n",
      "Requirement already satisfied: sacremoses in c:\\programdata\\anaconda3\\lib\\site-packages (from transformers) (0.0.45)\n",
      "Requirement already satisfied: pyparsing>=2.0.2 in c:\\programdata\\anaconda3\\lib\\site-packages (from packaging->transformers) (2.4.7)\n",
      "Requirement already satisfied: chardet<5,>=3.0.2 in c:\\programdata\\anaconda3\\lib\\site-packages (from requests->transformers) (3.0.4)\n",
      "Requirement already satisfied: idna<3,>=2.5 in c:\\programdata\\anaconda3\\lib\\site-packages (from requests->transformers) (2.10)\n",
      "Requirement already satisfied: urllib3<1.27,>=1.21.1 in c:\\programdata\\anaconda3\\lib\\site-packages (from requests->transformers) (1.26.4)\n",
      "Requirement already satisfied: certifi>=2017.4.17 in c:\\programdata\\anaconda3\\lib\\site-packages (from requests->transformers) (2021.5.30)\n",
      "Requirement already satisfied: six in c:\\programdata\\anaconda3\\lib\\site-packages (from sacremoses->transformers) (1.16.0)\n",
      "Requirement already satisfied: click in c:\\programdata\\anaconda3\\lib\\site-packages (from sacremoses->transformers) (8.0.0)\n",
      "Requirement already satisfied: joblib in c:\\programdata\\anaconda3\\lib\\site-packages (from sacremoses->transformers) (1.0.1)\n",
      "Requirement already satisfied: colorama in c:\\programdata\\anaconda3\\lib\\site-packages (from click->sacremoses->transformers) (0.4.4)\n"
     ]
    }
   ],
   "source": [
    "!pip install transformers"
   ]
  },
  {
   "cell_type": "code",
   "execution_count": 2,
   "id": "afef82b0-cc39-4029-836d-056682b7ebec",
   "metadata": {},
   "outputs": [
    {
     "name": "stdout",
     "output_type": "stream",
     "text": [
      "Requirement already satisfied: rouge-metric in c:\\programdata\\anaconda3\\lib\\site-packages (1.0.1)\n"
     ]
    }
   ],
   "source": [
    "!pip install rouge-metric"
   ]
  },
  {
   "cell_type": "code",
   "execution_count": 9,
   "id": "a28ab78a-f05f-4bec-8e83-1e9e6dcded10",
   "metadata": {},
   "outputs": [],
   "source": [
    "import glob\n",
    "\n",
    "import pandas as pd"
   ]
  },
  {
   "cell_type": "code",
   "execution_count": 10,
   "id": "0f2a6384-5ae8-422d-b56c-bfa5c4523bc1",
   "metadata": {},
   "outputs": [
    {
     "data": {
      "text/html": [
       "<div>\n",
       "<style scoped>\n",
       "    .dataframe tbody tr th:only-of-type {\n",
       "        vertical-align: middle;\n",
       "    }\n",
       "\n",
       "    .dataframe tbody tr th {\n",
       "        vertical-align: top;\n",
       "    }\n",
       "\n",
       "    .dataframe thead th {\n",
       "        text-align: right;\n",
       "    }\n",
       "</style>\n",
       "<table border=\"1\" class=\"dataframe\">\n",
       "  <thead>\n",
       "    <tr style=\"text-align: right;\">\n",
       "      <th></th>\n",
       "      <th>dia</th>\n",
       "      <th>tipo</th>\n",
       "      <th>titulo</th>\n",
       "      <th>contenido</th>\n",
       "      <th>tamanio</th>\n",
       "    </tr>\n",
       "  </thead>\n",
       "  <tbody>\n",
       "    <tr>\n",
       "      <th>0</th>\n",
       "      <td>04072021</td>\n",
       "      <td>descartado</td>\n",
       "      <td>4-de-julio-en-estados-unidos-en-vivo-joe-biden...</td>\n",
       "      <td>El presidente de Estados Unidos, Joe Biden, re...</td>\n",
       "      <td>466</td>\n",
       "    </tr>\n",
       "    <tr>\n",
       "      <th>1</th>\n",
       "      <td>04072021</td>\n",
       "      <td>descartado</td>\n",
       "      <td>4-de-julio-estados-unidos-se-asoma-a-la-normal...</td>\n",
       "      <td>Los estadounidenses celebraron este domingo su...</td>\n",
       "      <td>620</td>\n",
       "    </tr>\n",
       "    <tr>\n",
       "      <th>2</th>\n",
       "      <td>04072021</td>\n",
       "      <td>descartado</td>\n",
       "      <td>coronavirus-actualmente-hay-presentes-nueve-va...</td>\n",
       "      <td>Después de más de un año del comienzo de la pa...</td>\n",
       "      <td>466</td>\n",
       "    </tr>\n",
       "    <tr>\n",
       "      <th>3</th>\n",
       "      <td>04072021</td>\n",
       "      <td>descartado</td>\n",
       "      <td>coronavirus-argentina-en-vivo-hoy-domingo-04-d...</td>\n",
       "      <td>Argentina reportó este domingo 9.000 nuevos ca...</td>\n",
       "      <td>442</td>\n",
       "    </tr>\n",
       "    <tr>\n",
       "      <th>4</th>\n",
       "      <td>04072021</td>\n",
       "      <td>descartado</td>\n",
       "      <td>coronavirus-china-en-vivo-hoy-sabado-03-de-jul...</td>\n",
       "      <td>La Comisión Nacional de Sanidad de China anunc...</td>\n",
       "      <td>250</td>\n",
       "    </tr>\n",
       "    <tr>\n",
       "      <th>5</th>\n",
       "      <td>04072021</td>\n",
       "      <td>descartado</td>\n",
       "      <td>coronavirus-colombia-en-vivo-hoy-domingo-04-de...</td>\n",
       "      <td>Colombia reportó este domingo 582 muertes por ...</td>\n",
       "      <td>378</td>\n",
       "    </tr>\n",
       "    <tr>\n",
       "      <th>6</th>\n",
       "      <td>04072021</td>\n",
       "      <td>descartado</td>\n",
       "      <td>coronavirus-estados-unidos-antonhy-fauci-pide-...</td>\n",
       "      <td>El principal epidemiólogo del Gobierno de Esta...</td>\n",
       "      <td>490</td>\n",
       "    </tr>\n",
       "    <tr>\n",
       "      <th>7</th>\n",
       "      <td>04072021</td>\n",
       "      <td>descartado</td>\n",
       "      <td>coronavirus-la-quinta-oleada-de-la-covid-19-en...</td>\n",
       "      <td>La quinta oleada de la COVID-19 que afecta a I...</td>\n",
       "      <td>513</td>\n",
       "    </tr>\n",
       "    <tr>\n",
       "      <th>8</th>\n",
       "      <td>04072021</td>\n",
       "      <td>descartado</td>\n",
       "      <td>coronavirus-nicolas-maduro-le-pide-a-covax-env...</td>\n",
       "      <td>El presidente de Venezuela, Nicolás Maduro, le...</td>\n",
       "      <td>405</td>\n",
       "    </tr>\n",
       "    <tr>\n",
       "      <th>9</th>\n",
       "      <td>04072021</td>\n",
       "      <td>descartado</td>\n",
       "      <td>coronavirus-rusia-en-vivo-hoy-domingo-4-de-jul...</td>\n",
       "      <td>Rusia registró este domingo 25.142 nuevos caso...</td>\n",
       "      <td>328</td>\n",
       "    </tr>\n",
       "    <tr>\n",
       "      <th>10</th>\n",
       "      <td>04072021</td>\n",
       "      <td>descartado</td>\n",
       "      <td>coronavirus-uruguay-en-vivo-hoy-domingo-04-de-...</td>\n",
       "      <td>Uruguay registró este domingo 547 casos nuevos...</td>\n",
       "      <td>368</td>\n",
       "    </tr>\n",
       "    <tr>\n",
       "      <th>11</th>\n",
       "      <td>04072021</td>\n",
       "      <td>descartado</td>\n",
       "      <td>hongo-negro-en-mexico-todo-comenzo-como-un-dol...</td>\n",
       "      <td>La familia de Lhyzeth Jiménez Leyva, quien tra...</td>\n",
       "      <td>889</td>\n",
       "    </tr>\n",
       "    <tr>\n",
       "      <th>12</th>\n",
       "      <td>04072021</td>\n",
       "      <td>descartado</td>\n",
       "      <td>ivan-duque-coronavirus-el-presidente-de-colomb...</td>\n",
       "      <td>El presidente de Colombia, Iván Duque, recibió...</td>\n",
       "      <td>343</td>\n",
       "    </tr>\n",
       "    <tr>\n",
       "      <th>13</th>\n",
       "      <td>04072021</td>\n",
       "      <td>original</td>\n",
       "      <td>bono-dignidad-quienes-recibirian-el-nuevo-subs...</td>\n",
       "      <td>Un nuevo subsidio por parte del Estado podría ...</td>\n",
       "      <td>320</td>\n",
       "    </tr>\n",
       "    <tr>\n",
       "      <th>14</th>\n",
       "      <td>04072021</td>\n",
       "      <td>original</td>\n",
       "      <td>covid-19-17-de-adultos-mayores-de-70-anos-no-r...</td>\n",
       "      <td>La presidenta ejecutiva del Seguro Social (EsS...</td>\n",
       "      <td>230</td>\n",
       "    </tr>\n",
       "    <tr>\n",
       "      <th>15</th>\n",
       "      <td>04072021</td>\n",
       "      <td>original</td>\n",
       "      <td>covid-19-a-que-hora-inicia-el-toque-de-queda-e...</td>\n",
       "      <td>Del lunes 21 de junio hasta el domingo 11 de j...</td>\n",
       "      <td>155</td>\n",
       "    </tr>\n",
       "    <tr>\n",
       "      <th>16</th>\n",
       "      <td>04072021</td>\n",
       "      <td>original</td>\n",
       "      <td>covid-19-cuales-son-las-restricciones-en-lima-...</td>\n",
       "      <td>Este sábado 3 y domingo 4 de julio, los ciudad...</td>\n",
       "      <td>462</td>\n",
       "    </tr>\n",
       "    <tr>\n",
       "      <th>17</th>\n",
       "      <td>04072021</td>\n",
       "      <td>original</td>\n",
       "      <td>covid-19-cuando-iniciara-y-donde-se-realizara-...</td>\n",
       "      <td>Desde este miércoles 30 de junio, las personas...</td>\n",
       "      <td>308</td>\n",
       "    </tr>\n",
       "    <tr>\n",
       "      <th>18</th>\n",
       "      <td>04072021</td>\n",
       "      <td>original</td>\n",
       "      <td>covid-19-inmunizacion-de-adolescentes-de-12-a-...</td>\n",
       "      <td>Arturo Granados, vocero del Ministerio de Salu...</td>\n",
       "      <td>422</td>\n",
       "    </tr>\n",
       "    <tr>\n",
       "      <th>19</th>\n",
       "      <td>04072021</td>\n",
       "      <td>original</td>\n",
       "      <td>covid-19-ministro-de-salud-no-descarto-ampliar...</td>\n",
       "      <td>El ministro de Salud Óscar Ugarte, no descartó...</td>\n",
       "      <td>481</td>\n",
       "    </tr>\n",
       "  </tbody>\n",
       "</table>\n",
       "</div>"
      ],
      "text/plain": [
       "         dia        tipo                                             titulo  \\\n",
       "0   04072021  descartado  4-de-julio-en-estados-unidos-en-vivo-joe-biden...   \n",
       "1   04072021  descartado  4-de-julio-estados-unidos-se-asoma-a-la-normal...   \n",
       "2   04072021  descartado  coronavirus-actualmente-hay-presentes-nueve-va...   \n",
       "3   04072021  descartado  coronavirus-argentina-en-vivo-hoy-domingo-04-d...   \n",
       "4   04072021  descartado  coronavirus-china-en-vivo-hoy-sabado-03-de-jul...   \n",
       "5   04072021  descartado  coronavirus-colombia-en-vivo-hoy-domingo-04-de...   \n",
       "6   04072021  descartado  coronavirus-estados-unidos-antonhy-fauci-pide-...   \n",
       "7   04072021  descartado  coronavirus-la-quinta-oleada-de-la-covid-19-en...   \n",
       "8   04072021  descartado  coronavirus-nicolas-maduro-le-pide-a-covax-env...   \n",
       "9   04072021  descartado  coronavirus-rusia-en-vivo-hoy-domingo-4-de-jul...   \n",
       "10  04072021  descartado  coronavirus-uruguay-en-vivo-hoy-domingo-04-de-...   \n",
       "11  04072021  descartado  hongo-negro-en-mexico-todo-comenzo-como-un-dol...   \n",
       "12  04072021  descartado  ivan-duque-coronavirus-el-presidente-de-colomb...   \n",
       "13  04072021    original  bono-dignidad-quienes-recibirian-el-nuevo-subs...   \n",
       "14  04072021    original  covid-19-17-de-adultos-mayores-de-70-anos-no-r...   \n",
       "15  04072021    original  covid-19-a-que-hora-inicia-el-toque-de-queda-e...   \n",
       "16  04072021    original  covid-19-cuales-son-las-restricciones-en-lima-...   \n",
       "17  04072021    original  covid-19-cuando-iniciara-y-donde-se-realizara-...   \n",
       "18  04072021    original  covid-19-inmunizacion-de-adolescentes-de-12-a-...   \n",
       "19  04072021    original  covid-19-ministro-de-salud-no-descarto-ampliar...   \n",
       "\n",
       "                                            contenido  tamanio  \n",
       "0   El presidente de Estados Unidos, Joe Biden, re...      466  \n",
       "1   Los estadounidenses celebraron este domingo su...      620  \n",
       "2   Después de más de un año del comienzo de la pa...      466  \n",
       "3   Argentina reportó este domingo 9.000 nuevos ca...      442  \n",
       "4   La Comisión Nacional de Sanidad de China anunc...      250  \n",
       "5   Colombia reportó este domingo 582 muertes por ...      378  \n",
       "6   El principal epidemiólogo del Gobierno de Esta...      490  \n",
       "7   La quinta oleada de la COVID-19 que afecta a I...      513  \n",
       "8   El presidente de Venezuela, Nicolás Maduro, le...      405  \n",
       "9   Rusia registró este domingo 25.142 nuevos caso...      328  \n",
       "10  Uruguay registró este domingo 547 casos nuevos...      368  \n",
       "11  La familia de Lhyzeth Jiménez Leyva, quien tra...      889  \n",
       "12  El presidente de Colombia, Iván Duque, recibió...      343  \n",
       "13  Un nuevo subsidio por parte del Estado podría ...      320  \n",
       "14  La presidenta ejecutiva del Seguro Social (EsS...      230  \n",
       "15  Del lunes 21 de junio hasta el domingo 11 de j...      155  \n",
       "16  Este sábado 3 y domingo 4 de julio, los ciudad...      462  \n",
       "17  Desde este miércoles 30 de junio, las personas...      308  \n",
       "18  Arturo Granados, vocero del Ministerio de Salu...      422  \n",
       "19  El ministro de Salud Óscar Ugarte, no descartó...      481  "
      ]
     },
     "execution_count": 10,
     "metadata": {},
     "output_type": "execute_result"
    }
   ],
   "source": [
    "dicc_data = {\n",
    "    'dia': [],\n",
    "    'tipo': [],\n",
    "    'titulo': [],\n",
    "    'contenido': [],\n",
    "    'tamanio': []\n",
    "}\n",
    "\n",
    "for file in glob.iglob('news/**/*.txt', recursive=True):\n",
    "    listado = file.split('\\\\')\n",
    "    #print(listado)\n",
    "    with open(file, encoding='UTF-8') as f:\n",
    "        new = f.read()\n",
    "        dicc_data['dia'].append(listado[1])\n",
    "        dicc_data['tipo'].append(listado[2])\n",
    "        dicc_data['titulo'].append(listado[-1].split('.')[0])\n",
    "        dicc_data['contenido'].append(new)\n",
    "        dicc_data['tamanio'].append(len(new.split(' ')))\n",
    "        \n",
    "data = pd.DataFrame(dicc_data)\n",
    "del dicc_data\n",
    "data.head(20)"
   ]
  },
  {
   "cell_type": "code",
   "execution_count": 11,
   "id": "c018ca31-456a-44e5-bfa8-d4e3071a9552",
   "metadata": {},
   "outputs": [
    {
     "data": {
      "text/html": [
       "<div>\n",
       "<style scoped>\n",
       "    .dataframe tbody tr th:only-of-type {\n",
       "        vertical-align: middle;\n",
       "    }\n",
       "\n",
       "    .dataframe tbody tr th {\n",
       "        vertical-align: top;\n",
       "    }\n",
       "\n",
       "    .dataframe thead th {\n",
       "        text-align: right;\n",
       "    }\n",
       "</style>\n",
       "<table border=\"1\" class=\"dataframe\">\n",
       "  <thead>\n",
       "    <tr style=\"text-align: right;\">\n",
       "      <th></th>\n",
       "      <th>dia</th>\n",
       "      <th>tipo</th>\n",
       "      <th>titulo</th>\n",
       "      <th>contenido</th>\n",
       "      <th>tamanio</th>\n",
       "    </tr>\n",
       "  </thead>\n",
       "  <tbody>\n",
       "    <tr>\n",
       "      <th>216</th>\n",
       "      <td>2021-06-29</td>\n",
       "      <td>original</td>\n",
       "      <td>minsa-reporta-100-decesos-y-2422-nuevos-contag...</td>\n",
       "      <td>El Ministerio de Salud (Minsa) informó este lu...</td>\n",
       "      <td>256</td>\n",
       "    </tr>\n",
       "    <tr>\n",
       "      <th>217</th>\n",
       "      <td>2021-06-29</td>\n",
       "      <td>original</td>\n",
       "      <td>sistema-inmune-fortalecelo-comiendo-estos-alim...</td>\n",
       "      <td>La pandemia del nuevo coronavirus nos ha abier...</td>\n",
       "      <td>447</td>\n",
       "    </tr>\n",
       "    <tr>\n",
       "      <th>218</th>\n",
       "      <td>2021-06-29</td>\n",
       "      <td>original</td>\n",
       "      <td>vacuna-covid-19-mas-de-cuatro-millones-232-mil...</td>\n",
       "      <td>El Ministerio de Salud (Minsa) informó que has...</td>\n",
       "      <td>291</td>\n",
       "    </tr>\n",
       "    <tr>\n",
       "      <th>219</th>\n",
       "      <td>2021-06-29</td>\n",
       "      <td>original</td>\n",
       "      <td>vacuna-covid-19-mas-de-cuatro-millones-288-mil...</td>\n",
       "      <td>El Ministerio de Salud (Minsa) informó que has...</td>\n",
       "      <td>291</td>\n",
       "    </tr>\n",
       "    <tr>\n",
       "      <th>220</th>\n",
       "      <td>2021-06-29</td>\n",
       "      <td>original</td>\n",
       "      <td>variante-delta-de-covid-19-minsa-descarto-apli...</td>\n",
       "      <td>El Instituto Nacional de Salud (INS), entidad ...</td>\n",
       "      <td>296</td>\n",
       "    </tr>\n",
       "  </tbody>\n",
       "</table>\n",
       "</div>"
      ],
      "text/plain": [
       "           dia      tipo                                             titulo  \\\n",
       "216 2021-06-29  original  minsa-reporta-100-decesos-y-2422-nuevos-contag...   \n",
       "217 2021-06-29  original  sistema-inmune-fortalecelo-comiendo-estos-alim...   \n",
       "218 2021-06-29  original  vacuna-covid-19-mas-de-cuatro-millones-232-mil...   \n",
       "219 2021-06-29  original  vacuna-covid-19-mas-de-cuatro-millones-288-mil...   \n",
       "220 2021-06-29  original  variante-delta-de-covid-19-minsa-descarto-apli...   \n",
       "\n",
       "                                             contenido  tamanio  \n",
       "216  El Ministerio de Salud (Minsa) informó este lu...      256  \n",
       "217  La pandemia del nuevo coronavirus nos ha abier...      447  \n",
       "218  El Ministerio de Salud (Minsa) informó que has...      291  \n",
       "219  El Ministerio de Salud (Minsa) informó que has...      291  \n",
       "220  El Instituto Nacional de Salud (INS), entidad ...      296  "
      ]
     },
     "execution_count": 11,
     "metadata": {},
     "output_type": "execute_result"
    }
   ],
   "source": [
    "data = data[data['tipo'] == 'original']\n",
    "data['dia'] = pd.to_datetime(\n",
    "    data['dia'], errors='coerce', format='%d%m%Y'\n",
    ")\n",
    "data.tail()"
   ]
  },
  {
   "cell_type": "code",
   "execution_count": 12,
   "id": "3f89563b-14ad-4849-a6d7-820a273fcca2",
   "metadata": {},
   "outputs": [
    {
     "data": {
      "text/html": [
       "<div>\n",
       "<style scoped>\n",
       "    .dataframe tbody tr th:only-of-type {\n",
       "        vertical-align: middle;\n",
       "    }\n",
       "\n",
       "    .dataframe tbody tr th {\n",
       "        vertical-align: top;\n",
       "    }\n",
       "\n",
       "    .dataframe thead th {\n",
       "        text-align: right;\n",
       "    }\n",
       "</style>\n",
       "<table border=\"1\" class=\"dataframe\">\n",
       "  <thead>\n",
       "    <tr style=\"text-align: right;\">\n",
       "      <th></th>\n",
       "      <th>contenido</th>\n",
       "      <th>tamanio</th>\n",
       "    </tr>\n",
       "    <tr>\n",
       "      <th>dia</th>\n",
       "      <th></th>\n",
       "      <th></th>\n",
       "    </tr>\n",
       "  </thead>\n",
       "  <tbody>\n",
       "    <tr>\n",
       "      <th>2021-06-14</th>\n",
       "      <td>La ciudadanía puede verificar a través de la p...</td>\n",
       "      <td>4296</td>\n",
       "    </tr>\n",
       "    <tr>\n",
       "      <th>2021-06-26</th>\n",
       "      <td>El ministro de Salud Óscar Ugarte informó que ...</td>\n",
       "      <td>8214</td>\n",
       "    </tr>\n",
       "    <tr>\n",
       "      <th>2021-06-27</th>\n",
       "      <td>La Municipalidad de Cieneguilla inauguró este ...</td>\n",
       "      <td>6477</td>\n",
       "    </tr>\n",
       "    <tr>\n",
       "      <th>2021-06-28</th>\n",
       "      <td>En el marco de la segunda ola de contagios por...</td>\n",
       "      <td>1558</td>\n",
       "    </tr>\n",
       "    <tr>\n",
       "      <th>2021-06-29</th>\n",
       "      <td>¿Cómo saber si todavía puedo cobrar el Bono 60...</td>\n",
       "      <td>4485</td>\n",
       "    </tr>\n",
       "    <tr>\n",
       "      <th>2021-07-04</th>\n",
       "      <td>Un nuevo subsidio por parte del Estado podría ...</td>\n",
       "      <td>8274</td>\n",
       "    </tr>\n",
       "    <tr>\n",
       "      <th>2021-07-11</th>\n",
       "      <td>Los laboratorios Pfizer y BioNTech anunciaron ...</td>\n",
       "      <td>7330</td>\n",
       "    </tr>\n",
       "  </tbody>\n",
       "</table>\n",
       "</div>"
      ],
      "text/plain": [
       "                                                    contenido  tamanio\n",
       "dia                                                                   \n",
       "2021-06-14  La ciudadanía puede verificar a través de la p...     4296\n",
       "2021-06-26  El ministro de Salud Óscar Ugarte informó que ...     8214\n",
       "2021-06-27  La Municipalidad de Cieneguilla inauguró este ...     6477\n",
       "2021-06-28  En el marco de la segunda ola de contagios por...     1558\n",
       "2021-06-29  ¿Cómo saber si todavía puedo cobrar el Bono 60...     4485\n",
       "2021-07-04  Un nuevo subsidio por parte del Estado podría ...     8274\n",
       "2021-07-11  Los laboratorios Pfizer y BioNTech anunciaron ...     7330"
      ]
     },
     "execution_count": 12,
     "metadata": {},
     "output_type": "execute_result"
    }
   ],
   "source": [
    "contenido = data.groupby(by=['dia']).agg({\n",
    "    'contenido': lambda _: '\\n'.join(list(_)),\n",
    "    'tamanio': 'sum'\n",
    "}).sort_index().iloc[8:]\n",
    "\n",
    "contenido"
   ]
  },
  {
   "cell_type": "code",
   "execution_count": 43,
   "id": "27c56480-984a-477a-bc1c-758a513992ca",
   "metadata": {},
   "outputs": [],
   "source": []
  },
  {
   "cell_type": "code",
   "execution_count": 13,
   "id": "dfbb1bcd-bbb7-40b5-b0d2-f805fdacec1c",
   "metadata": {},
   "outputs": [
    {
     "name": "stderr",
     "output_type": "stream",
     "text": [
      "C:\\ProgramData\\Anaconda3\\lib\\site-packages\\torchaudio\\extension\\extension.py:13: UserWarning: torchaudio C++ extension is not available.\n",
      "  warnings.warn('torchaudio C++ extension is not available.')\n",
      "C:\\ProgramData\\Anaconda3\\lib\\site-packages\\torchaudio\\backend\\utils.py:89: UserWarning: No audio backend is available.\n",
      "  warnings.warn('No audio backend is available.')\n"
     ]
    },
    {
     "data": {
      "text/plain": [
       "[{'summary_text': ' Machine learning is the study of computer algorithms that improve automatically through experience and by the use of data . Machine learning, deep learning, and neural networks are all sub-fields of artificial intelligence . As big data continues to grow, the market demand for data scientists will increase .'}]"
      ]
     },
     "execution_count": 13,
     "metadata": {},
     "output_type": "execute_result"
    }
   ],
   "source": [
    "from transformers import pipeline\n",
    "txt = r'''\n",
    "Machine learning is the study of computer algorithms that improve automatically through experience and by the use of data. It is seen as a part of artificial intelligence. Machine learning is an important component of the growing field of data \n",
    "science . Machine learning, deep learning, and neural networks are all sub-fields of artificial intelligence . As big data continues to grow, the market demand for data scientists will increase, requiring them to assist in the identification of \n",
    "the most relevant business questions. Machine learning is a method of data analysis that automates analytical model building. It is a branch of artificial intelligence based on the idea that systems can learn from data, identify patterns and make \n",
    "decisions with minimal human intervention.\n",
    "'''\n",
    "nlp = pipeline(task='summarization')\n",
    "nlp(txt, max_length=130, min_length=30)"
   ]
  },
  {
   "cell_type": "code",
   "execution_count": 14,
   "id": "fc834af5-fdea-421b-9bbf-df5e00803f8b",
   "metadata": {},
   "outputs": [
    {
     "data": {
      "text/plain": [
       "'El Instituto Nacional de Salud (INS), entidad del Ministerio de Salud (Minsa), descartó que se vaya aplicar un cerco epidemiológico en todo Comas ante la detección de un caso de la variante Delta del COVID-19 en dicho distrito.\\nEn diálogo con Canal N, el jefe del INS, Víctor Suárez, explicó que será “difícil” aplicar el cerco epidemiológico en Comas debido a que no existen “fronteras reales” entre distritos y por las “actividades sociales y económicas” que se desarrollan en estas zonas.\\n“El movimiento social es muy dinámico y está relacionado con las actividades sociales y económicas, creo que es difícil, no tenemos fronteras reales entre Comas y los que son los demás distritos”, expresó Suárez.\\n“Y probablemente estos contactos que se han identificado en Comas tengan, a su vez, contactos en otros distritos, por lo que no sería muy práctica esa indicación que se menciona”, agregó.\\n“Lo que se está haciendo es el cerco epidemiológico, que significa en estos casos el rastreo de contactos, se ha hecho un listado de todos los contactos del caso que se ha identificado y se están buscando todos estos casos y, a su vez, generando nueva lista de contactos para identificar nuevas personas que pudieran eventualmente ser portadoras de esta variante Delta para indicar el aislamiento domiciliario”, manifestó el jefe del INS.\\nMás temprano, el viceministro de Salud Pública, Gustavo Rosell, detalló que se ha enviado a Comas un equipo, conformado por especialistas del Centro Nacional de Epidemiología y Control de Enfermedades (CDC), el Instituto Nacional de Salud (INS) y la Dirección de Redes Integradas de Salud (Diris) Lima Norte, para establecer la historia epidemiológica y los contactos confirmados.\\nRosell indicó que se continuará con la investigación epidemiológica y toma de muestras a otros grupos de personas para ampliar la vigilancia genómica durante los próximos días.'"
      ]
     },
     "execution_count": 14,
     "metadata": {},
     "output_type": "execute_result"
    }
   ],
   "source": [
    "new"
   ]
  },
  {
   "cell_type": "code",
   "execution_count": 15,
   "id": "37baa68e-e139-43da-9c6f-d942d8dbcae8",
   "metadata": {},
   "outputs": [
    {
     "data": {
      "text/plain": [
       "[{'summary_text': ' El Instituto Nacional de Salud (INS) descartó aplicar un cerco epidemiológico en todo Comas ante detección of un caso de variante Delta del COVID-19 . El jefe del INS, Víctor Suárez, said no existen ‘fronteras reales reales” entre distritos . El viceministro of Salud Pública Gustavo Rosell said that se ha enviado a Comas un equipo toma de muestras .'}]"
      ]
     },
     "execution_count": 15,
     "metadata": {},
     "output_type": "execute_result"
    }
   ],
   "source": [
    "nlp = pipeline(task='summarization')\n",
    "nlp(new, max_length=500, min_length=30)"
   ]
  },
  {
   "cell_type": "code",
   "execution_count": null,
   "id": "452a1dac-9251-43b7-a5fd-5fbda7d9f75d",
   "metadata": {},
   "outputs": [],
   "source": []
  },
  {
   "cell_type": "code",
   "execution_count": null,
   "id": "81cb9de0-9fdf-42d7-b605-79c700736ce9",
   "metadata": {},
   "outputs": [],
   "source": []
  },
  {
   "cell_type": "code",
   "execution_count": null,
   "id": "0da8c3e1-918a-42de-9aff-a8f52b047a4c",
   "metadata": {},
   "outputs": [],
   "source": []
  },
  {
   "cell_type": "code",
   "execution_count": null,
   "id": "2b3e4b61-a289-4630-958e-9acaf50b6f7d",
   "metadata": {},
   "outputs": [],
   "source": []
  },
  {
   "cell_type": "code",
   "execution_count": null,
   "id": "d95937d2-9b97-4bb5-9862-9c08b0032800",
   "metadata": {},
   "outputs": [],
   "source": []
  },
  {
   "cell_type": "code",
   "execution_count": null,
   "id": "45608ae9-91bd-4b74-98f7-7924dd9b2f58",
   "metadata": {},
   "outputs": [],
   "source": []
  },
  {
   "cell_type": "code",
   "execution_count": null,
   "id": "f63cebce-ce47-4294-a365-c76379eba0b1",
   "metadata": {},
   "outputs": [],
   "source": []
  },
  {
   "cell_type": "code",
   "execution_count": null,
   "id": "8b58a519-13ba-4bfb-adbd-90639c9853da",
   "metadata": {},
   "outputs": [],
   "source": []
  },
  {
   "cell_type": "code",
   "execution_count": 1,
   "id": "9b7d44ae-f873-4fa9-a80e-941c31d6b68f",
   "metadata": {},
   "outputs": [
    {
     "data": {
      "text/plain": [
       "0.18918079776442961"
      ]
     },
     "execution_count": 1,
     "metadata": {},
     "output_type": "execute_result"
    }
   ],
   "source": [
    "from scipy.spatial.distance import jensenshannon\n",
    "\n",
    "a = [0.2, 0.4, 0.4]\n",
    "b = [0.3, 0.2, 0.5]\n",
    "\n",
    "jensenshannon(a,b, base=2.0)"
   ]
  },
  {
   "cell_type": "code",
   "execution_count": 2,
   "id": "c35426f2-5c5d-4043-96d1-c4f0ecad6c5b",
   "metadata": {},
   "outputs": [
    {
     "data": {
      "text/plain": [
       "0.03578937424278602"
      ]
     },
     "execution_count": 2,
     "metadata": {},
     "output_type": "execute_result"
    }
   ],
   "source": [
    "jensenshannon(a,b, base=2.0) ** 2"
   ]
  },
  {
   "cell_type": "code",
   "execution_count": null,
   "id": "ebb93228-5b88-4601-bf08-aa32a0ca6f35",
   "metadata": {},
   "outputs": [],
   "source": []
  },
  {
   "cell_type": "code",
   "execution_count": 3,
   "id": "fa29c387-d050-4955-8f08-7a1769e17602",
   "metadata": {},
   "outputs": [
    {
     "data": {
      "text/plain": [
       "0.1885034041198646"
      ]
     },
     "execution_count": 3,
     "metadata": {},
     "output_type": "execute_result"
    }
   ],
   "source": [
    "a = [0.9, 0.6, 0.1]\n",
    "b = [0.3, 0.2, 0.5]\n",
    "\n",
    "jensenshannon(a,b, base=2.0) ** 2"
   ]
  },
  {
   "cell_type": "code",
   "execution_count": null,
   "id": "3c8ffb48-d04e-47a9-8e0e-b0abe7e53117",
   "metadata": {},
   "outputs": [],
   "source": []
  },
  {
   "cell_type": "code",
   "execution_count": 4,
   "id": "03a5a35e-b3a0-4ed5-bd3e-ea6c743f078a",
   "metadata": {},
   "outputs": [
    {
     "data": {
      "text/plain": [
       "0.0"
      ]
     },
     "execution_count": 4,
     "metadata": {},
     "output_type": "execute_result"
    }
   ],
   "source": [
    "a = [0.2, 0.6, 0.1]\n",
    "b = [0.2, 0.6, 0.1]\n",
    "\n",
    "jensenshannon(a,b, base=2.0) ** 2"
   ]
  },
  {
   "cell_type": "code",
   "execution_count": null,
   "id": "0ec9370d-b826-40ba-9de9-4ce99d67130a",
   "metadata": {},
   "outputs": [],
   "source": []
  },
  {
   "cell_type": "code",
   "execution_count": null,
   "id": "a057202d-ef3c-4d2f-8884-d803f447d4b5",
   "metadata": {},
   "outputs": [],
   "source": []
  }
 ],
 "metadata": {
  "kernelspec": {
   "display_name": "Python 3",
   "language": "python",
   "name": "python3"
  },
  "language_info": {
   "codemirror_mode": {
    "name": "ipython",
    "version": 3
   },
   "file_extension": ".py",
   "mimetype": "text/x-python",
   "name": "python",
   "nbconvert_exporter": "python",
   "pygments_lexer": "ipython3",
   "version": "3.8.5"
  }
 },
 "nbformat": 4,
 "nbformat_minor": 5
}
