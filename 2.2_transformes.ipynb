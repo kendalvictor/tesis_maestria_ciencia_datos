{
 "cells": [
  {
   "cell_type": "code",
   "execution_count": 1,
   "id": "57d056db-9a40-4f6c-9060-c72ecca242f3",
   "metadata": {},
   "outputs": [],
   "source": [
    "import glob\n",
    "import os\n",
    "\n",
    "\n",
    "from wordcloud import WordCloud, STOPWORDS\n",
    "from nltk.corpus import stopwords\n",
    "\n",
    "import pandas as pd\n",
    "\n",
    "from PIL import Image \n",
    "import matplotlib.pylab as plt"
   ]
  },
  {
   "cell_type": "code",
   "execution_count": 2,
   "id": "3c77658b-6b13-495c-81ee-0a91d8764430",
   "metadata": {},
   "outputs": [],
   "source": [
    "import os\n",
    "import re\n",
    "import time\n",
    "from pathlib import Path\n",
    "import shutil\n",
    "import glob\n",
    "import string\n",
    "import unicodedata\n",
    "from datetime import datetime, timedelta\n",
    "\n",
    "import pandas as pd\n",
    "from selenium import webdriver\n",
    "from selenium.webdriver.chrome.options import Options\n",
    "from selenium.webdriver.support.select import Select\n",
    "from sqlalchemy import create_engine\n",
    "from selenium.webdriver.support.ui import WebDriverWait\n",
    "from selenium.webdriver.support import expected_conditions as EC\n",
    "from selenium.webdriver.common.by import By\n",
    "\n",
    "from unicodedata import normalize, category"
   ]
  },
  {
   "cell_type": "code",
   "execution_count": null,
   "id": "7fca6a88-caef-4bdb-9b2c-cfcaa31419f6",
   "metadata": {},
   "outputs": [],
   "source": [
    "import numpy as np\n",
    "import pandas as pd\n",
    "import nltk\n",
    "import re\n",
    "from nltk.tokenize import sent_tokenize\n",
    "from nltk.corpus import stopwords\n",
    "from gensim.models import Word2Vec\n",
    "from scipy import spatial\n",
    "import networkx as nx"
   ]
  },
  {
   "cell_type": "code",
   "execution_count": null,
   "id": "0cf1af30-6ee5-42fc-9a41-3c72217c74d4",
   "metadata": {},
   "outputs": [],
   "source": [
    "class ApplyTransform(object):\n",
    "    \n",
    "    def __init__(self, hoy_format=None,  metodo=1):\n",
    "        #-------------------------- Habilitacion de ruta --------------------------#\n",
    "        self.folder_news = 'news'\n",
    "        if not os.path.exists(self.folder_news):\n",
    "            os.makedirs(self.folder_news)\n",
    "        \n",
    "        self.hoy = datetime.today()\n",
    "        self.hoy_format = self.hoy.strftime('%d%m%Y') if hoy_format is None else hoy_format\n",
    "        self.newsletter_path = os.path.join(self.folder_news, self.hoy_format, 'consolidado')\n",
    "        \n",
    "        path_ = os.path.join(self.newsletter_path, 'consolidado.csv'.format(metodo))\n",
    "        data = pd.read_csv(path_, encoding='UTF-8')\n",
    "        self.data = data[data['tipo'] == 'original']\n",
    "        #display(data)\n",
    "        \n",
    "\n",
    "    def get_text(self):\n",
    "        self.parseado = '.'.join(list(self.data[self.data['tipo'] == 'original']['oracion']))\n",
    "        return self.parseado"
   ]
  },
  {
   "cell_type": "code",
   "execution_count": null,
   "id": "59addf4b-8017-4633-b929-70187e803df8",
   "metadata": {},
   "outputs": [],
   "source": [
    "apply_text_rank = ApplyTransform()"
   ]
  },
  {
   "cell_type": "code",
   "execution_count": null,
   "id": "a76b97d6-9f2a-4612-9187-f5fd97fd3ef6",
   "metadata": {},
   "outputs": [],
   "source": [
    "texto = apply_text_rank.get_text()\n",
    "texto"
   ]
  },
  {
   "cell_type": "code",
   "execution_count": null,
   "id": "46d6a2b9-7723-4659-aacb-d0dc4f92efd0",
   "metadata": {},
   "outputs": [],
   "source": [
    "from transformers import pipeline\n",
    "\n",
    "nlp = pipeline(task='summarization')\n",
    "nlp(texto[:1023], max_length=500, min_length=30)"
   ]
  },
  {
   "cell_type": "code",
   "execution_count": null,
   "id": "02dac2e1-572d-4fcd-b0bf-8480f768e306",
   "metadata": {},
   "outputs": [],
   "source": []
  },
  {
   "cell_type": "code",
   "execution_count": null,
   "id": "bdd64d0d-d61a-4070-afc8-0474d2f76519",
   "metadata": {},
   "outputs": [],
   "source": []
  },
  {
   "cell_type": "code",
   "execution_count": null,
   "id": "2e308af0-46de-4ba2-bd0a-fe863670c3bc",
   "metadata": {},
   "outputs": [],
   "source": []
  },
  {
   "cell_type": "code",
   "execution_count": null,
   "id": "5a3b3ef6-6d2a-44db-9454-5e36262e5fd6",
   "metadata": {},
   "outputs": [],
   "source": []
  },
  {
   "cell_type": "code",
   "execution_count": null,
   "id": "92cd6fd0-a033-464a-a7dd-53e8f7a560b0",
   "metadata": {},
   "outputs": [],
   "source": []
  },
  {
   "cell_type": "code",
   "execution_count": null,
   "id": "1ed8f849-7e18-42bc-8063-32799f61ce64",
   "metadata": {},
   "outputs": [],
   "source": []
  },
  {
   "cell_type": "code",
   "execution_count": null,
   "id": "7bf7c51d-24d2-4433-9d46-ac75d52a6681",
   "metadata": {},
   "outputs": [],
   "source": []
  },
  {
   "cell_type": "code",
   "execution_count": null,
   "id": "038fb446-a03b-427b-90ce-76c9665f596e",
   "metadata": {},
   "outputs": [],
   "source": []
  },
  {
   "cell_type": "code",
   "execution_count": 22,
   "id": "6ef4629f-bc55-44e5-84e0-3429f3b60717",
   "metadata": {},
   "outputs": [],
   "source": [
    "#_path_consolidado = os.path.join(\n",
    "#    apply_text_rank.newsletter_path.replace('parseado', 'consolidado'), 'consolidado.csv'\n",
    "#)"
   ]
  },
  {
   "cell_type": "code",
   "execution_count": 23,
   "id": "0ab26177-70b4-4fa2-baac-8b71a7974ea5",
   "metadata": {},
   "outputs": [],
   "source": [
    "#consolidado = pd.read_csv(_path_consolidado, encoding=\"utf-8\")\n",
    "#consolidado = consolidado[consolidado['tipo'] == 'original']\n",
    "#consolidado.head(20)"
   ]
  },
  {
   "cell_type": "code",
   "execution_count": 24,
   "id": "89e8b268-1382-4b58-9ada-d73545193090",
   "metadata": {},
   "outputs": [],
   "source": [
    "#consolidado = consolidado.merge(\n",
    "#    _scores, \n",
    "#    how='left', \n",
    "#    on='parseado_1'\n",
    "#)\n",
    "\n",
    "#consolidado.head()"
   ]
  },
  {
   "cell_type": "code",
   "execution_count": null,
   "id": "dcbe0c84-79a6-4221-9d07-64178c0618db",
   "metadata": {},
   "outputs": [],
   "source": []
  },
  {
   "cell_type": "code",
   "execution_count": null,
   "id": "ca439106-833b-4273-b824-f06fcedbaa84",
   "metadata": {},
   "outputs": [],
   "source": []
  },
  {
   "cell_type": "code",
   "execution_count": null,
   "id": "0eca4cb9-b297-4f44-aee7-5c3fa3370e16",
   "metadata": {},
   "outputs": [],
   "source": []
  },
  {
   "cell_type": "code",
   "execution_count": null,
   "id": "3ad14cf7-d93a-42c6-b063-c4fcf2fd9e29",
   "metadata": {},
   "outputs": [],
   "source": []
  }
 ],
 "metadata": {
  "kernelspec": {
   "display_name": "Python 3",
   "language": "python",
   "name": "python3"
  },
  "language_info": {
   "codemirror_mode": {
    "name": "ipython",
    "version": 3
   },
   "file_extension": ".py",
   "mimetype": "text/x-python",
   "name": "python",
   "nbconvert_exporter": "python",
   "pygments_lexer": "ipython3",
   "version": "3.8.5"
  }
 },
 "nbformat": 4,
 "nbformat_minor": 5
}
