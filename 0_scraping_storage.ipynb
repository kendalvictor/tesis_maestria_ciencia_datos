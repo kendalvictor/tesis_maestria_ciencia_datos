{
 "cells": [
  {
   "cell_type": "code",
   "execution_count": 1,
   "id": "30cd1094-f1ca-456a-8b49-20705bf52438",
   "metadata": {},
   "outputs": [],
   "source": [
    "import os\n",
    "import re\n",
    "import time\n",
    "from pathlib import Path\n",
    "import shutil\n",
    "import glob\n",
    "import string\n",
    "import unicodedata\n",
    "from datetime import datetime, timedelta\n",
    "\n",
    "import pandas as pd\n",
    "from selenium import webdriver\n",
    "from selenium.webdriver.chrome.options import Options\n",
    "from selenium.webdriver.support.select import Select\n",
    "from sqlalchemy import create_engine\n",
    "from selenium.webdriver.support.ui import WebDriverWait\n",
    "from selenium.webdriver.support import expected_conditions as EC\n",
    "from selenium.webdriver.common.by import By"
   ]
  },
  {
   "cell_type": "code",
   "execution_count": 2,
   "id": "aa74aa39-9c00-434a-bf3b-1bd8fbc0ae8f",
   "metadata": {},
   "outputs": [],
   "source": [
    "#os.path.join(os.getcwd(), 'news')\n",
    "\n",
    "#for file in glob.iglob('news/**/*.txt', recursive=True):\n",
    "#    print(file)\n",
    "#"
   ]
  },
  {
   "cell_type": "code",
   "execution_count": 3,
   "id": "dde3c366-ea8e-43f9-85df-80cdb2e2dbe7",
   "metadata": {},
   "outputs": [],
   "source": [
    "#str(datetime.now())"
   ]
  },
  {
   "cell_type": "code",
   "execution_count": 4,
   "id": "bcdb6669-5134-48a7-8332-9de0d66d94df",
   "metadata": {},
   "outputs": [],
   "source": [
    "#if not os.path.exists('news'):\n",
    "#    os.makedirs('news')"
   ]
  },
  {
   "cell_type": "code",
   "execution_count": 5,
   "id": "3f56d5e1-ac6f-4721-a021-5c66353c7556",
   "metadata": {},
   "outputs": [],
   "source": [
    "#os.path.join('news', 'utils')"
   ]
  },
  {
   "cell_type": "code",
   "execution_count": 6,
   "id": "dffa84d8-581e-4e04-9a1e-706cd3fa73b0",
   "metadata": {
    "tags": []
   },
   "outputs": [],
   "source": [
    "#datetime.now().strftime('%d%m%Y')"
   ]
  },
  {
   "cell_type": "code",
   "execution_count": 7,
   "id": "638b1f2f-fc80-4f99-8c13-09139f242610",
   "metadata": {},
   "outputs": [],
   "source": [
    "#os.getcwd()"
   ]
  },
  {
   "cell_type": "code",
   "execution_count": 8,
   "id": "10d48171-65b5-4c10-bf58-24af6baacae1",
   "metadata": {},
   "outputs": [],
   "source": [
    "class ComercioCovidCrawler(object):\n",
    "    def __init__(self, url_comercio='https://elcomercio.pe/noticias/coronavirus/'):\n",
    "        #-------------------------- Habilitacion de ruta --------------------------#\n",
    "        self.folder_news = 'news'\n",
    "        if not os.path.exists(self.folder_news):\n",
    "            os.makedirs(self.folder_news)\n",
    "            \n",
    "        self.hoy = datetime.today()\n",
    "        self.hoy_format = self.hoy.strftime('%d%m%Y')\n",
    "        self.newsletter_path = os.path.join(self.folder_news, self.hoy_format, 'original')\n",
    "        if not os.path.exists(self.newsletter_path):\n",
    "            os.makedirs(self.newsletter_path)\n",
    "        #--------------------------------------------------------------------------#\n",
    "        \n",
    "        self.current_path = os.path.join(os.getcwd(), 'utils')\n",
    "        self.links = []\n",
    "        self.news = []\n",
    "        self.tags_descartados = ['/tvmas/', '/mundo/', '/videos/']\n",
    "        \n",
    "        options = Options()\n",
    "        options.add_argument(\"--incognito\")\n",
    "        options.add_experimental_option(\"prefs\", {\n",
    "            \"download.default_directory\": r\"{0}\".format(self.current_path),\n",
    "            \"download.prompt_for_download\": False,\n",
    "            \"download.directory_upgrade\": True,\n",
    "            \"safebrowsing.enabled\": True\n",
    "        })\n",
    "        \n",
    "        self.driver_path = os.path.join(self.current_path, 'chromedriver.exe')\n",
    "        print(self.driver_path )\n",
    "        self.url = url_comercio\n",
    "        self.driver = webdriver.Chrome(self.driver_path, options=options)\n",
    "    \n",
    "    def page_load(self, url=''):\n",
    "        if url == '':\n",
    "            url = self.url\n",
    "            \n",
    "        self.driver.get(url)\n",
    "        print(\" \")\n",
    "        print(\"Ingresando: {}\".format(url))\n",
    "        time.sleep(3)\n",
    "        \n",
    "    def search_links(self):\n",
    "        elements = self.driver.find_elements_by_class_name(\"story-item__information-box\")\n",
    "        self.links = [element.find_element_by_tag_name('a').get_attribute('href') for element in elements]\n",
    "        print(\"{} noticias encontradas\".format(len(self.links)))\n",
    "    \n",
    "    def descarte(self, new):\n",
    "        for tag in self.tags_descartados:\n",
    "            if tag in new:\n",
    "                return 1\n",
    "        return 0\n",
    "    \n",
    "    def path_related_with_new(self, new):\n",
    "        name_file = new.split('/')[-2].lower()[:108] + '.txt'\n",
    "        \n",
    "        return os.path.join(\n",
    "            self.newsletter_path, \n",
    "            name_file\n",
    "        ) \n",
    "    \n",
    "    def validation_exists_in_storage(self, new):\n",
    "        path_ = self.path_related_with_new(new)\n",
    "        \n",
    "        if os.path.isfile(path_):\n",
    "            print(\"NOTICIA YA ALMACENADA EL DÍA DE HOY\")\n",
    "            return None\n",
    "        \n",
    "        return path_\n",
    "        \n",
    "    def get_content_new(self, new):\n",
    "        path_ = self.validation_exists_in_storage(new)\n",
    "        if not path_:\n",
    "            return None\n",
    "        \n",
    "        print(\" \")\n",
    "        print(path_)\n",
    "        \n",
    "        ## Load\n",
    "        self.page_load(new)\n",
    "        \n",
    "        ## extract content\n",
    "        txt_ = '\\n'.join(\n",
    "            [el.text for el in self.driver.find_elements_by_class_name('story-contents__font-paragraph')]\n",
    "        ).strip()\n",
    "        if len(txt_) == 0:\n",
    "            raise Exception(\"ERROR: CONTENIDO NULO DE NOTICIA POR SOLICITUD DE SUBSCRIPCIÓN\")\n",
    "            \n",
    "        ## SAving\n",
    "        myfile = Path(path_)\n",
    "        myfile.touch(exist_ok=True)\n",
    "        \n",
    "        with open(path_, 'w+', encoding=\"utf-8\") as file:\n",
    "            file.write(txt_)\n",
    "            \n",
    "        \n",
    "    def storage(self):\n",
    "        print(self.news)\n",
    "        for new in self.news:\n",
    "            try:\n",
    "                self.get_content_new(new)\n",
    "                print(\"-\"*100)\n",
    "            except Exception as e:\n",
    "                print(\"ERROR: \", str(e))\n",
    "                print(\"-\"*100)\n",
    "    \n",
    "    def get_relevants_news(self):\n",
    "        seleccionadas = [new for new in self.links if self.descarte(new) == 0]\n",
    "        descartadas = [new for new in self.links if new not in seleccionadas]\n",
    "        \n",
    "        print(\"{} noticias descartadas\".format(len(descartadas)))\n",
    "        print(descartadas)\n",
    "        print(\"-\"*50)\n",
    "        print(\"{} noticias seleccionadas\".format(len(seleccionadas)))\n",
    "        print(\"\")\n",
    "        #print(seleccionadas)\n",
    "        self.news = seleccionadas"
   ]
  },
  {
   "cell_type": "code",
   "execution_count": 9,
   "id": "63c29688-9096-4395-b5a5-93582df7189b",
   "metadata": {},
   "outputs": [],
   "source": [
    "#ComercioCovidCrawler()"
   ]
  },
  {
   "cell_type": "code",
   "execution_count": null,
   "id": "323a689a-bbac-490c-b7bb-46e984650df6",
   "metadata": {},
   "outputs": [
    {
     "name": "stdout",
     "output_type": "stream",
     "text": [
      "C:\\Users\\Villacorta\\STORAGE\\tesis_maestria_ciencia_datos\\utils\\chromedriver.exe\n",
      " \n",
      "Ingresando: https://elcomercio.pe/noticias/coronavirus/\n"
     ]
    }
   ],
   "source": [
    "try:\n",
    "    comercio.driver.close()\n",
    "except:\n",
    "    pass\n",
    "\n",
    "comercio = ComercioCovidCrawler()\n",
    "comercio.page_load()\n",
    "comercio.search_links()\n",
    "comercio.get_relevants_news()\n",
    "comercio.storage()"
   ]
  },
  {
   "cell_type": "code",
   "execution_count": null,
   "id": "4c2b6a4e-dcb3-43cd-8bde-f3c308ffbc3e",
   "metadata": {},
   "outputs": [],
   "source": [
    "#comercio.links"
   ]
  },
  {
   "cell_type": "code",
   "execution_count": null,
   "id": "ffab2662-d6da-4ed7-9340-a39cc2f08b83",
   "metadata": {},
   "outputs": [],
   "source": [
    "len('vacuna-covid-19-mas-de-tres-millones-496-mil-peruanos-fueron-inmunizados-contra-el-coronavirus-nndc-noticia/')"
   ]
  },
  {
   "cell_type": "code",
   "execution_count": null,
   "id": "374517a0-d05f-422c-8319-fbe85f9b565c",
   "metadata": {},
   "outputs": [],
   "source": []
  }
 ],
 "metadata": {
  "kernelspec": {
   "display_name": "Python 3",
   "language": "python",
   "name": "python3"
  },
  "language_info": {
   "codemirror_mode": {
    "name": "ipython",
    "version": 3
   },
   "file_extension": ".py",
   "mimetype": "text/x-python",
   "name": "python",
   "nbconvert_exporter": "python",
   "pygments_lexer": "ipython3",
   "version": "3.8.5"
  }
 },
 "nbformat": 4,
 "nbformat_minor": 5
}
