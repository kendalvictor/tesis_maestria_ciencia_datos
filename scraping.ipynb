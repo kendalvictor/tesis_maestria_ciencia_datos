{
 "cells": [
  {
   "cell_type": "code",
   "execution_count": 1,
   "id": "30cd1094-f1ca-456a-8b49-20705bf52438",
   "metadata": {},
   "outputs": [],
   "source": [
    "import os\n",
    "import re\n",
    "import time\n",
    "import shutil\n",
    "import string\n",
    "import unicodedata\n",
    "from datetime import datetime, timedelta\n",
    "\n",
    "import pandas as pd\n",
    "from selenium import webdriver\n",
    "from selenium.webdriver.chrome.options import Options\n",
    "from selenium.webdriver.support.select import Select\n",
    "from sqlalchemy import create_engine\n",
    "from selenium.webdriver.support.ui import WebDriverWait\n",
    "from selenium.webdriver.support import expected_conditions as EC\n",
    "from selenium.webdriver.common.by import By"
   ]
  },
  {
   "cell_type": "code",
   "execution_count": null,
   "id": "aa74aa39-9c00-434a-bf3b-1bd8fbc0ae8f",
   "metadata": {},
   "outputs": [],
   "source": [
    "def get_paises():\n",
    "    "
   ]
  },
  {
   "cell_type": "code",
   "execution_count": 17,
   "id": "10d48171-65b5-4c10-bf58-24af6baacae1",
   "metadata": {},
   "outputs": [],
   "source": [
    "class ComercioCovidCrawler(object):\n",
    "    def __init__(self, url_comercio='https://elcomercio.pe/noticias/coronavirus/'):\n",
    "        self.hoy = datetime.today()\n",
    "        self.hoy_format = self.hoy.strftime('%d/%m/%Y')\n",
    "        self.ayer = self.hoy - timedelta(days=1)\n",
    "        self.ayer_format = self.ayer.strftime('%d/%m/%Y')\n",
    "        self.current_path = os.path.join(os.getcwd(), 'utils')\n",
    "        self.links = []\n",
    "        self.news = []\n",
    "        self.tags_descartados = ['/tvmas/', '/mundo/', '/videos/']\n",
    "        \n",
    "        options = Options()\n",
    "        options.add_argument(\"--incognito\")\n",
    "        options.add_experimental_option(\"prefs\", {\n",
    "            \"download.default_directory\": r\"{0}\".format(self.current_path),\n",
    "            \"download.prompt_for_download\": False,\n",
    "            \"download.directory_upgrade\": True,\n",
    "            \"safebrowsing.enabled\": True\n",
    "        })\n",
    "        \n",
    "        self.driver_path = os.path.join(self.current_path, 'chromedriver.exe')\n",
    "        print(self.driver_path)\n",
    "        self.url = url_comercio\n",
    "        self.driver = webdriver.Chrome(self.driver_path, options=options)\n",
    "    \n",
    "    def page_load(self):\n",
    "        print(\"****LOAD PAGE*****\")\n",
    "        self.driver.get(self.url)\n",
    "        time.sleep(3)\n",
    "        \n",
    "    def search_links(self):\n",
    "        elements = self.driver.find_elements_by_class_name(\"story-item__information-box\")\n",
    "        self.links = [element.find_element_by_tag_name('a').get_attribute('href') for element in elements]\n",
    "        print(\"{} noticias encontradas\".format(len(self.links)))\n",
    "        \n",
    "    def descarte(self, new):\n",
    "        for tag in self.tags_descartados:\n",
    "            if tag in new:\n",
    "                return 1\n",
    "        return 0\n",
    "        \n",
    "    def get_relevants_news(self):\n",
    "        seleccionadas = [new for new in self.links if self.descarte(new) == 0]\n",
    "        descartadas = [new for new in self.links if new not in seleccionadas]\n",
    "        \n",
    "        print(\"SELECCIONADAS\")\n",
    "        print(\"/\"*100)\n",
    "        print(seleccionadas)\n",
    "        \n",
    "        print(\"DESCARTADAS\")\n",
    "        print(\"/\"*100)\n",
    "        print(descartadas)\n",
    "        \n",
    "        self.news = seleccionadas"
   ]
  },
  {
   "cell_type": "code",
   "execution_count": null,
   "id": "63c29688-9096-4395-b5a5-93582df7189b",
   "metadata": {},
   "outputs": [],
   "source": []
  },
  {
   "cell_type": "code",
   "execution_count": 18,
   "id": "323a689a-bbac-490c-b7bb-46e984650df6",
   "metadata": {},
   "outputs": [
    {
     "name": "stdout",
     "output_type": "stream",
     "text": [
      "C:\\Users\\Villacorta\\STORAGE\\tesis_maestria_ciencia_datos\\utils\\chromedriver.exe\n",
      "****LOAD PAGE*****\n",
      "50 noticias encontradas\n",
      "SELECCIONADAS\n",
      "////////////////////////////////////////////////////////////////////////////////////////////////////\n",
      "['https://elcomercio.pe/respuestas/link-aqui-bono-600-soles-consulta-aqui-con-tu-dni-si-eres-beneficiario-del-subsidio-por-el-covid-19-bonos-covid-19-coronavirus-gobierno-del-peru-revtli-noticia/', 'https://elcomercio.pe/peru/coronavirus-peru-covid-19-en-vivo-hoy-23-mayo-2021-casos-muertos-y-ultima-hora-muertes-infectados-vacuna-covid-pfizer-sinopharm-vacunacion-covid-19-francisco-sagasti-ministerio-de-salud-minsa-oscar-ugarte-noticia/', 'https://elcomercio.pe/lima/sucesos/covid-19-dia-hora-distritos-centro-de-inmunizacion-y-mas-sobre-la-vacunacion-a-personas-entre-65-a-69-anos-coronavirus-pongo-el-hombro-lima-callao-minsa-nndc-noticia/', 'https://elcomercio.pe/lima/sucesos/oscar-ugarte-sobre-tercera-ola-de-covid-19-riesgo-existe-depende-de-nosotros-mismos-minsa-coronavirus-peru-nndc-noticia/', 'https://elcomercio.pe/lima/sucesos/francisco-sagasti-quiero-transmitir-al-nuevo-presidente-que-es-lo-que-habria-que-hacer-ante-eventual-tercera-ola-de-covid-19-coronavirus-peru-vacunas-nndc-noticia/', 'https://elcomercio.pe/lima/sucesos/coronavirus-mas-dos-millones-184-mil-ya-fueron-inmunizados-contra-el-covid-19-nndc-noticia/', 'https://elcomercio.pe/respuestas/restricciones-y-toque-de-queda-en-lima-y-callao-por-covid-19-que-se-puede-hacer-y-que-no-hoy-domingo-23-de-mayo-coronavirus-nivel-de-alerta-muy-alto-peru-nnda-nnlt-noticia/', 'https://elcomercio.pe/lima/sucesos/minsa-reporta-238-fallecidos-y-1652-nuevos-contagios-de-covid-19-en-las-ultimas-24-horas-segunda-ola-coronavirus-nndc-noticia/', 'https://elcomercio.pe/tecnologia/ciencias/covid-19-como-es-el-sindrome-posterior-que-sufren-los-pacientes-que-superaron-la-enfermedad-noticia/', 'https://elcomercio.pe/peru/coronavirus-peru-covid-19-en-vivo-hoy-sabado-22-de-mayo-del-2021-ultimas-noticias-casos-y-cifras-oficiales-en-el-dia-433-del-estado-de-emergencia-muertes-infectados-vacuna-covid-pfizer-sinopharm-vacunacion-covid-19-francisco-sagasti-ministerio-de-salud-minsa-oscar-ugarte-noticia/', 'https://elcomercio.pe/vamos/ciudad-de-arequipa-y-el-valle-y-canon-del-colca-obtienen-el-sello-internacional-safe-travels-mincetur-covid-19-coronavirus-nndc-noticia/', 'https://elcomercio.pe/tecnologia/ciencias/coronavirus-creador-de-la-vacuna-de-pfizer-preve-una-proteccion-del-75-contra-la-variante-descubierta-en-india-covid-19-nndc-noticia/', 'https://elcomercio.pe/lima/covid-19-26-restaurantes-en-san-isidro-obtienen-certificado-de-local-bioseguro-para-atencion-en-medio-de-la-pandemia-nndc-noticia/', 'https://elcomercio.pe/tecnologia/ciencias/por-que-es-tan-dificil-calcular-el-numero-de-fallecidos-por-covid-19-noticia/', 'https://elcomercio.pe/peru/piura-tendra-el-primer-centro-de-telemedicina-en-el-hospital-iii-jose-cayetano-heredia-de-essalud-nndc-noticia/', 'https://elcomercio.pe/economia/dia-1/turismo-de-vacunas-turismo-de-vacuna-viajes-a-estados-unidos-reactivan-los-vuelos-internacionales-en-medio-de-la-pandemia-del-covid-19-viajes-a-eeuu-vacunacion-en-estados-unidos-noticia/', 'https://elcomercio.pe/somos/historias/vacunacion-en-estados-unidos-vacuna-travel-asi-es-la-experiencia-de-viajar-con-la-primera-agencia-de-turismo-de-vacuna-del-peru-pfizer-moderna-aptz-noticia/', 'https://elcomercio.pe/lima/sucesos/covid-19-voluntarios-de-juegos-panamericanos-se-suman-a-la-jornada-de-vacunacion-en-lima-y-callao-coronavirus-legado-lima-2019-peru-nndc-noticia/', 'https://elcomercio.pe/lima/sucesos/vacuna-covid-19-mas-de-dos-millones-115-mil-peruanos-ya-fueron-inmunizados-contra-el-coronavirus-minsa-vacunacion-pongo-el-hombro-nndc-noticia/', 'https://elcomercio.pe/lima/sucesos/francisco-sagasti-sobre-compra-de-vacunas-contra-el-covid-19-ayudo-mucho-que-varios-tuvieramos-una-experiencia-internacional-coronavirus-nndc-noticia/', 'https://elcomercio.pe/lima/sucesos/pongo-el-hombro-adultos-mayores-de-65-anos-a-mas-ya-pueden-consultar-en-que-fecha-y-lugar-seran-vacunados-contra-el-covid-19-coronavirus-nndc-noticia/', 'https://elcomercio.pe/lima/sucesos/covid-19-marina-de-guerra-culmina-con-exito-la-vacunacion-de-sus-miembros-ministerio-de-defensa-fuerzas-armadas-nndc-noticia/']\n",
      "DESCARTADAS\n",
      "////////////////////////////////////////////////////////////////////////////////////////////////////\n",
      "['https://elcomercio.pe/mundo/latinoamerica/coronavirus-brasil-jair-bolsonaro-lidera-una-caravana-de-motos-a-las-puertas-de-tercera-ola-covid-19-fotos-nndc-noticia/', 'https://elcomercio.pe/videos/pais/comas-mas-de-150-personas-fueron-intervenidas-en-night-club-nnav-amtv-detenidos-en-night-club-comas-coronavirus-noticia/', 'https://elcomercio.pe/mundo/latinoamerica/coronavirus-chile-en-vivo-hoy-domingo-23-de-mayo-del-2021-chile-registra-6500-nuevos-casos-de-covid-19-pero-los-pacientes-criticos-no-aumentan-ultimo-minuto-minuto-a-minuto-online-sebastian-pinera-noticia/', 'https://elcomercio.pe/mundo/latinoamerica/coronavirus-colombia-vacunacion-redujo-en-50-muertes-en-mayores-de-70-anos-por-covid-19-en-bogota-noticia/', 'https://elcomercio.pe/mundo/eeuu/vacuna-contra-el-covid-19-cdc-autoridades-sanitarias-de-estados-unidos-senalan-problemas-cardiacos-en-jovenes-vacunados-contra-el-coronavirus-noticia/', 'https://elcomercio.pe/tvmas/farandula/federico-salazar-tras-dar-positivo-a-covid-19-me-encuentro-bien-dentro-de-todo-coronavirus-nndc-noticia/', 'https://elcomercio.pe/tvmas/farandula/katia-condos-y-su-mensaje-luego-que-federico-salazar-diera-positivo-a-covid-19-nndc-noticia/', 'https://elcomercio.pe/mundo/asia/coronavirus-india-detecta-casi-9000-casos-de-letal-hongo-negro-en-pacientes-de-covid-19-murcomicosis-noticia/', 'https://elcomercio.pe/mundo/europa/coronavirus-la-variante-india-del-covid-19-domina-en-varias-partes-del-reino-unido-nndc-noticia/', 'https://elcomercio.pe/mundo/asia/coronavirus-en-india-hoy-domingo-23-de-mayo-del-2021-india-se-acerca-a-los-300000-muertos-por-covid-19-mientras-bajan-los-nuevos-contagios-en-directo-minuto-a-minuto-nueva-delhi-mumbai-noticia/', 'https://elcomercio.pe/mundo/latinoamerica/coronavirus-haiti-decreta-el-estado-de-emergencia-sanitaria-durante-8-dias-por-covid-19-noticia/', 'https://elcomercio.pe/mundo/eeuu/coronavirus-usa-estados-unidos-como-han-reaccionado-los-estadounidenses-a-la-disposicion-que-los-vacunados-dejen-las-mascarillas-nndc-noticia/', 'https://elcomercio.pe/mundo/mexico/coronavirus-mexico-en-vivo-hoy-sabado-22-de-mayo-del-2021-mexico-registra-341-nuevas-muertes-y-2586-nuevos-contagios-de-covid-19-en-un-dia-amlo-en-directo-minuto-a-minuto-noticia/', 'https://elcomercio.pe/mundo/eeuu/coronavirus-estados-unidos-en-vivo-hoy-sabado-22-de-mayo-del-2021-estados-unidos-registra-449-muertes-y-18419-contagios-por-covid-19-en-un-dia-anthony-fauci-eeuu-usa-joe-biden-coronavirus-pandemia-fallecidos-noticia/', 'https://elcomercio.pe/videos/pais/vacunacion-covid-19-dia-hora-y-todos-los-detalles-sobre-la-inmunizacion-a-personas-entre-60-y-69-anos-nnav-vr-video-noticia/', 'https://elcomercio.pe/mundo/actualidad/coronavirus-vacunas-de-pfizer-y-astrazeneca-son-eficaces-contra-la-variante-india-del-covid-19-noticia/', 'https://elcomercio.pe/mundo/latinoamerica/coronavirus-colombia-en-vivo-hoy-sabado-22-de-mayo-del-2021-colombia-registra-18737-contagios-y-509-fallecidos-por-covid-19-en-un-dia-minuto-a-minuto-en-directo-ivan-duque-noticia/', 'https://elcomercio.pe/mundo/latinoamerica/coronavirus-brasil-en-vivo-hoy-sabado-22-de-mayo-del-2021-brasil-registra-1899-muertes-por-covid-19-en-medio-de-alertas-sobre-tercera-ola-sao-paulo-rio-de-janeiro-en-directo-minuto-a-minuto-noticia/', 'https://elcomercio.pe/videos/global/argentina-inicio-este-sabado-nueve-dias-de-confinamiento-total-en-el-peor-momento-de-la-pandemia-nnav-agefe-noticia/', 'https://elcomercio.pe/mundo/latinoamerica/coronavirus-ecuador-en-vivo-hoy-sabado-22-de-mayo-del-2021-ecuador-suma-1219-casos-de-coronavirus-en-un-dia-y-acumula-417840-en-pandemia-en-directo-minuto-a-minuto-noticia/', 'https://elcomercio.pe/mundo/latinoamerica/coronavirus-chile-en-vivo-hoy-sabado-22-de-mayo-del-2021-chile-registra-repunte-de-casos-de-coronavirus-pese-a-rapida-vacunacion-ultimo-minuto-minuto-a-minuto-online-sebastian-pinera-noticia/', 'https://elcomercio.pe/mundo/europa/coronavirus-italia-supera-los-30-millones-de-dosis-de-vacunas-inyectadas-covid-19-noticia/', 'https://elcomercio.pe/tvmas/farandula/pedro-suarez-vertiz-tras-vacunarse-contra-el-covid-19-mi-enfermedad-neuromuscular-me-ayudo-instagram-coronavirus-nndc-noticia/', 'https://elcomercio.pe/mundo/actualidad/coronavirus-oms-las-prioridades-sanitarias-mas-alla-de-la-pandemia-en-la-asamblea-anual-de-la-organizacion-mundial-de-la-salud-covid-19-nndc-noticia/', 'https://elcomercio.pe/mundo/asia/coronavirus-india-gobierno-indio-ordena-a-redes-sociales-suprimir-expresion-variante-india-del-covid-19-noticia/', 'https://elcomercio.pe/tvmas/famosos/romeo-santos-confirmo-la-muerte-de-su-tio-a-causa-del-coronavirus-nndc-noticia/', 'https://elcomercio.pe/mundo/actualidad/coronavirus-mas-de-60-paises-en-desarrollo-piden-suspender-tres-anos-las-patentes-en-las-vacunas-contra-el-covid-19-organizacion-mundial-del-comercio-omc-nndc-noticia/', 'https://elcomercio.pe/mundo/europa/francia-la-torre-eiffel-lastrada-por-el-coronavirus-necesita-decenas-de-millones-de-euros-noticia/']\n"
     ]
    }
   ],
   "source": [
    "try:\n",
    "    comercio.driver.close()\n",
    "except:\n",
    "    pass\n",
    "comercio = ComercioCovidCrawler()\n",
    "comercio.page_load()\n",
    "comercio.search_links()\n",
    "comercio.get_relevants_news()"
   ]
  },
  {
   "cell_type": "code",
   "execution_count": 19,
   "id": "4c2b6a4e-dcb3-43cd-8bde-f3c308ffbc3e",
   "metadata": {},
   "outputs": [],
   "source": [
    "#comercio.links"
   ]
  },
  {
   "cell_type": "code",
   "execution_count": null,
   "id": "ffab2662-d6da-4ed7-9340-a39cc2f08b83",
   "metadata": {},
   "outputs": [],
   "source": []
  }
 ],
 "metadata": {
  "kernelspec": {
   "display_name": "Python 3",
   "language": "python",
   "name": "python3"
  },
  "language_info": {
   "codemirror_mode": {
    "name": "ipython",
    "version": 3
   },
   "file_extension": ".py",
   "mimetype": "text/x-python",
   "name": "python",
   "nbconvert_exporter": "python",
   "pygments_lexer": "ipython3",
   "version": "3.8.5"
  }
 },
 "nbformat": 4,
 "nbformat_minor": 5
}
