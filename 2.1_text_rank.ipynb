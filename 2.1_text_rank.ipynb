{
 "cells": [
  {
   "cell_type": "code",
   "execution_count": 5,
   "id": "57d056db-9a40-4f6c-9060-c72ecca242f3",
   "metadata": {},
   "outputs": [],
   "source": [
    "import glob\n",
    "import os\n",
    "\n",
    "\n",
    "from wordcloud import WordCloud, STOPWORDS\n",
    "from nltk.corpus import stopwords\n",
    "\n",
    "import pandas as pd\n",
    "\n",
    "from PIL import Image \n",
    "import matplotlib.pylab as plt"
   ]
  },
  {
   "cell_type": "code",
   "execution_count": 8,
   "id": "3c77658b-6b13-495c-81ee-0a91d8764430",
   "metadata": {},
   "outputs": [],
   "source": [
    "import os\n",
    "import re\n",
    "import time\n",
    "from pathlib import Path\n",
    "import shutil\n",
    "import glob\n",
    "import string\n",
    "import unicodedata\n",
    "from datetime import datetime, timedelta\n",
    "\n",
    "import pandas as pd\n",
    "from selenium import webdriver\n",
    "from selenium.webdriver.chrome.options import Options\n",
    "from selenium.webdriver.support.select import Select\n",
    "from sqlalchemy import create_engine\n",
    "from selenium.webdriver.support.ui import WebDriverWait\n",
    "from selenium.webdriver.support import expected_conditions as EC\n",
    "from selenium.webdriver.common.by import By\n",
    "\n",
    "from unicodedata import normalize, category"
   ]
  },
  {
   "cell_type": "code",
   "execution_count": 23,
   "id": "7fca6a88-caef-4bdb-9b2c-cfcaa31419f6",
   "metadata": {},
   "outputs": [],
   "source": [
    "import numpy as np\n",
    "import pandas as pd\n",
    "import nltk\n",
    "import re\n",
    "from nltk.tokenize import sent_tokenize\n",
    "from nltk.corpus import stopwords\n",
    "from gensim.models import Word2Vec\n",
    "from scipy import spatial\n",
    "import networkx as nx"
   ]
  },
  {
   "cell_type": "code",
   "execution_count": 28,
   "id": "0cf1af30-6ee5-42fc-9a41-3c72217c74d4",
   "metadata": {},
   "outputs": [],
   "source": [
    "class ApplyTextRank(object):\n",
    "    \n",
    "    def __init__(self, hoy_format=None,  metodo=1):\n",
    "        #-------------------------- Habilitacion de ruta --------------------------#\n",
    "        self.folder_news = 'news'\n",
    "        if not os.path.exists(self.folder_news):\n",
    "            os.makedirs(self.folder_news)\n",
    "        \n",
    "        self.hoy = datetime.today()\n",
    "        self.hoy_format = self.hoy.strftime('%d%m%Y') if hoy_format is None else hoy_format\n",
    "        \n",
    "        self.newsletter_path = os.path.join(self.folder_news, self.hoy_format, 'parseado')\n",
    "        \n",
    "        path_ = os.path.join(self.newsletter_path, 'metodo_{}.txt'.format(metodo))\n",
    "        with open(path_, 'r', encoding=\"utf-8\") as file:\n",
    "            parseado = file.read().replace('\\n', '.')\n",
    "            \n",
    "        self._sentences = [oracion.replace('.', '') for oracion in sent_tokenize(parseado)]\n",
    "        self._stopwords = stopwords.words('spanish')\n",
    "\n",
    "        \n",
    "    def remove_stopwords(self):\n",
    "        self._sentences = [\n",
    "            [words for words in sentence.split(' ') if words not in self._stopwords] \n",
    "            for sentence in self._sentences\n",
    "        ]\n",
    "        "
   ]
  },
  {
   "cell_type": "code",
   "execution_count": 34,
   "id": "731df4e5-2a16-4adb-825e-f57de25ee9f4",
   "metadata": {},
   "outputs": [],
   "source": [
    "apply_text_rank = ApplyTextRank()\n",
    "apply_text_rank.remove_stopwords()\n",
    "#apply_text_rank._sentences"
   ]
  },
  {
   "cell_type": "code",
   "execution_count": 35,
   "id": "060d9b7c-2585-48b8-8b1d-d311ec8e8384",
   "metadata": {},
   "outputs": [],
   "source": [
    "w2v = Word2Vec(\n",
    "    apply_text_rank._sentences, \n",
    "    size=1,\n",
    "    min_count=1,\n",
    "    iter=1000\n",
    ")"
   ]
  },
  {
   "cell_type": "code",
   "execution_count": 37,
   "id": "5c3d40cd-cf49-42d2-b4f5-5d11360324d2",
   "metadata": {},
   "outputs": [
    {
     "name": "stderr",
     "output_type": "stream",
     "text": [
      "<ipython-input-37-516a21e910ff>:2: DeprecationWarning: Call to deprecated `__getitem__` (Method will be removed in 4.0.0, use self.wv.__getitem__() instead).\n",
      "  [w2v[word][0] for word in words]\n"
     ]
    }
   ],
   "source": [
    "sentence_embeddings = [\n",
    "    [w2v[word][0] for word in words] \n",
    "    for words in apply_text_rank._sentences\n",
    "]"
   ]
  },
  {
   "cell_type": "code",
   "execution_count": 38,
   "id": "78b922d4-29ec-4e2c-a0c6-f6ad9c9a67ac",
   "metadata": {},
   "outputs": [
    {
     "data": {
      "text/plain": [
       "417"
      ]
     },
     "execution_count": 38,
     "metadata": {},
     "output_type": "execute_result"
    }
   ],
   "source": [
    "max_len =max(\n",
    "    [len(tokens) for tokens in apply_text_rank._sentences]\n",
    ")\n",
    "max_len"
   ]
  },
  {
   "cell_type": "code",
   "execution_count": 39,
   "id": "71707353-8b31-40db-9e14-4c2326cd8852",
   "metadata": {},
   "outputs": [],
   "source": [
    "sentence_embeddings = [\n",
    "    np.pad(embedding,(0,max_len-len(embedding)),'constant') \n",
    "    for embedding in sentence_embeddings\n",
    "]"
   ]
  },
  {
   "cell_type": "code",
   "execution_count": 42,
   "id": "a2a18f5c-41ad-453d-a915-77fb1aaa4849",
   "metadata": {},
   "outputs": [
    {
     "data": {
      "text/plain": [
       "(15, 15)"
      ]
     },
     "execution_count": 42,
     "metadata": {},
     "output_type": "execute_result"
    }
   ],
   "source": [
    "similarity_matrix = np.zeros([len(apply_text_rank._sentences), len(apply_text_rank._sentences)])\n",
    "similarity_matrix.shape"
   ]
  },
  {
   "cell_type": "code",
   "execution_count": 43,
   "id": "ebf4d4de-e0d8-46da-bdd0-a05a13affdcb",
   "metadata": {},
   "outputs": [],
   "source": [
    "for i, row_embedding in enumerate(sentence_embeddings):\n",
    "    for j, column_embedding in enumerate(sentence_embeddings):\n",
    "        similarity_matrix[i][j] = 1 - spatial.distance.cosine(row_embedding, column_embedding)"
   ]
  },
  {
   "cell_type": "markdown",
   "id": "a246fdc3-2bc8-47cf-95c3-efdd69b3cabc",
   "metadata": {},
   "source": [
    "### PAGE RANK"
   ]
  },
  {
   "cell_type": "code",
   "execution_count": 44,
   "id": "6a3af4ea-87f0-4502-9ae3-901537fec5c5",
   "metadata": {},
   "outputs": [],
   "source": [
    "nx_graph = nx.from_numpy_array(similarity_matrix)\n",
    "scores = nx.pagerank(nx_graph)"
   ]
  },
  {
   "cell_type": "code",
   "execution_count": 45,
   "id": "743a8798-9997-45db-807b-5c7e4a368556",
   "metadata": {},
   "outputs": [
    {
     "data": {
      "text/plain": [
       "{0: 0.06831668601221846,\n",
       " 1: 0.07028714988740042,\n",
       " 2: 0.058081250660500156,\n",
       " 3: 0.06215739469081619,\n",
       " 4: 0.06530097658879047,\n",
       " 5: 0.06776864347324314,\n",
       " 6: 0.06774956393315905,\n",
       " 7: 0.07043381072422315,\n",
       " 8: 0.06378356776319019,\n",
       " 9: 0.058846710303357856,\n",
       " 10: 0.07078004667285599,\n",
       " 11: 0.07144961215364169,\n",
       " 12: 0.0714407069831776,\n",
       " 13: 0.06531997718251457,\n",
       " 14: 0.06828390297091104}"
      ]
     },
     "execution_count": 45,
     "metadata": {},
     "output_type": "execute_result"
    }
   ],
   "source": [
    "scores"
   ]
  },
  {
   "cell_type": "code",
   "execution_count": null,
   "id": "fe526872-8e03-494a-87ef-8423e6cedd7d",
   "metadata": {},
   "outputs": [],
   "source": []
  },
  {
   "cell_type": "markdown",
   "id": "7dc1b112-f200-450f-8c3a-0b40c315f51b",
   "metadata": {},
   "source": [
    "### TOP"
   ]
  },
  {
   "cell_type": "code",
   "execution_count": 55,
   "id": "9857596d-9f3c-4e0a-8aa9-1dcfdf2a19b3",
   "metadata": {},
   "outputs": [],
   "source": [
    "top_sentence={\n",
    "    sentence[:scores[index] for index, sentence in list(enumerate(apply_text_rank._sentences))\n",
    "}"
   ]
  },
  {
   "cell_type": "code",
   "execution_count": 56,
   "id": "ddf73f7c-b11f-486c-9ed7-ed641e402284",
   "metadata": {},
   "outputs": [
    {
     "data": {
      "text/plain": [
       "{'pandemia': 0.06831668601221846,\n",
       " 'autoridad': 0.07028714988740042,\n",
       " 'personas': 0.058081250660500156,\n",
       " 'direccion': 0.06215739469081619,\n",
       " 'presidenta': 0.06530097658879047,\n",
       " 'ministerio': 0.06531997718251457,\n",
       " 'vuelta': 0.07043381072422315,\n",
       " 'menos': 0.06378356776319019,\n",
       " 'suponia': 0.058846710303357856,\n",
       " 'ministro': 0.06828390297091104}"
      ]
     },
     "execution_count": 56,
     "metadata": {},
     "output_type": "execute_result"
    }
   ],
   "source": [
    "top_sentence"
   ]
  },
  {
   "cell_type": "code",
   "execution_count": null,
   "id": "5d8c355c-fb52-4c58-8a40-7e1251a56210",
   "metadata": {},
   "outputs": [],
   "source": []
  }
 ],
 "metadata": {
  "kernelspec": {
   "display_name": "Python 3",
   "language": "python",
   "name": "python3"
  },
  "language_info": {
   "codemirror_mode": {
    "name": "ipython",
    "version": 3
   },
   "file_extension": ".py",
   "mimetype": "text/x-python",
   "name": "python",
   "nbconvert_exporter": "python",
   "pygments_lexer": "ipython3",
   "version": "3.8.5"
  }
 },
 "nbformat": 4,
 "nbformat_minor": 5
}
