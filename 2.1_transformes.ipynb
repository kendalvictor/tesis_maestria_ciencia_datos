{
 "cells": [
  {
   "cell_type": "markdown",
   "id": "8b02d6df-56f7-446f-8d26-5a1d833c765b",
   "metadata": {},
   "source": [
    "### >> DEPENDENCIAS PREVIAS"
   ]
  },
  {
   "cell_type": "raw",
   "id": "087f245c-74bf-473d-9154-e72cebc06cbd",
   "metadata": {},
   "source": [
    "!git clone https://github.com/huggingface/transformers\n",
    "%cd transformers\n",
    "!pip install ."
   ]
  },
  {
   "cell_type": "code",
   "execution_count": 1,
   "id": "afef82b0-cc39-4029-836d-056682b7ebec",
   "metadata": {},
   "outputs": [
    {
     "name": "stdout",
     "output_type": "stream",
     "text": [
      "Requirement already satisfied: rouge-metric in c:\\programdata\\anaconda3\\lib\\site-packages (1.0.1)\n"
     ]
    }
   ],
   "source": [
    "!pip install rouge-metric"
   ]
  },
  {
   "cell_type": "code",
   "execution_count": 2,
   "id": "fb855e41-a578-48df-8067-ad7e6bcebda5",
   "metadata": {},
   "outputs": [
    {
     "name": "stdout",
     "output_type": "stream",
     "text": [
      "Requirement already satisfied: sentencepiece in c:\\programdata\\anaconda3\\lib\\site-packages (0.1.96)\n"
     ]
    }
   ],
   "source": [
    "!pip install sentencepiece"
   ]
  },
  {
   "cell_type": "code",
   "execution_count": 21,
   "id": "8d3dc0db-2dfd-47ff-9803-f694d3f39d5e",
   "metadata": {},
   "outputs": [
    {
     "name": "stdout",
     "output_type": "stream",
     "text": [
      "Collecting bert-extractive-summarizer\n",
      "  Downloading bert_extractive_summarizer-0.9.0-py3-none-any.whl (24 kB)\n",
      "Requirement already satisfied: scikit-learn in c:\\programdata\\anaconda3\\lib\\site-packages (from bert-extractive-summarizer) (0.24.2)\n",
      "Requirement already satisfied: transformers in c:\\programdata\\anaconda3\\lib\\site-packages (from bert-extractive-summarizer) (4.15.0.dev0)\n",
      "Requirement already satisfied: spacy in c:\\users\\villacorta\\appdata\\roaming\\python\\python38\\site-packages (from bert-extractive-summarizer) (2.3.7)\n",
      "Requirement already satisfied: numpy>=1.13.3 in c:\\programdata\\anaconda3\\lib\\site-packages (from scikit-learn->bert-extractive-summarizer) (1.19.5)\n",
      "Requirement already satisfied: threadpoolctl>=2.0.0 in c:\\programdata\\anaconda3\\lib\\site-packages (from scikit-learn->bert-extractive-summarizer) (2.1.0)\n",
      "Requirement already satisfied: scipy>=0.19.1 in c:\\programdata\\anaconda3\\lib\\site-packages (from scikit-learn->bert-extractive-summarizer) (1.6.2)\n",
      "Requirement already satisfied: joblib>=0.11 in c:\\programdata\\anaconda3\\lib\\site-packages (from scikit-learn->bert-extractive-summarizer) (1.0.1)\n",
      "Requirement already satisfied: plac<1.2.0,>=0.9.6 in c:\\users\\villacorta\\appdata\\roaming\\python\\python38\\site-packages (from spacy->bert-extractive-summarizer) (1.1.3)\n",
      "Requirement already satisfied: requests<3.0.0,>=2.13.0 in c:\\programdata\\anaconda3\\lib\\site-packages (from spacy->bert-extractive-summarizer) (2.25.1)\n",
      "Requirement already satisfied: thinc<7.5.0,>=7.4.1 in c:\\users\\villacorta\\appdata\\roaming\\python\\python38\\site-packages (from spacy->bert-extractive-summarizer) (7.4.5)\n",
      "Requirement already satisfied: catalogue<1.1.0,>=0.0.7 in c:\\users\\villacorta\\appdata\\roaming\\python\\python38\\site-packages (from spacy->bert-extractive-summarizer) (1.0.0)\n",
      "Requirement already satisfied: tqdm<5.0.0,>=4.38.0 in c:\\programdata\\anaconda3\\lib\\site-packages (from spacy->bert-extractive-summarizer) (4.49.0)\n",
      "Requirement already satisfied: blis<0.8.0,>=0.4.0 in c:\\programdata\\anaconda3\\lib\\site-packages (from spacy->bert-extractive-summarizer) (0.7.4)\n",
      "Requirement already satisfied: preshed<3.1.0,>=3.0.2 in c:\\programdata\\anaconda3\\lib\\site-packages (from spacy->bert-extractive-summarizer) (3.0.5)\n",
      "Requirement already satisfied: wasabi<1.1.0,>=0.4.0 in c:\\programdata\\anaconda3\\lib\\site-packages (from spacy->bert-extractive-summarizer) (0.8.2)\n",
      "Requirement already satisfied: cymem<2.1.0,>=2.0.2 in c:\\programdata\\anaconda3\\lib\\site-packages (from spacy->bert-extractive-summarizer) (2.0.5)\n",
      "Requirement already satisfied: srsly<1.1.0,>=1.0.2 in c:\\programdata\\anaconda3\\lib\\site-packages (from spacy->bert-extractive-summarizer) (1.0.5)\n",
      "Requirement already satisfied: murmurhash<1.1.0,>=0.28.0 in c:\\programdata\\anaconda3\\lib\\site-packages (from spacy->bert-extractive-summarizer) (1.0.5)\n",
      "Requirement already satisfied: setuptools in c:\\programdata\\anaconda3\\lib\\site-packages (from spacy->bert-extractive-summarizer) (52.0.0.post20210125)\n",
      "Requirement already satisfied: urllib3<1.27,>=1.21.1 in c:\\programdata\\anaconda3\\lib\\site-packages (from requests<3.0.0,>=2.13.0->spacy->bert-extractive-summarizer) (1.26.4)\n",
      "Requirement already satisfied: chardet<5,>=3.0.2 in c:\\programdata\\anaconda3\\lib\\site-packages (from requests<3.0.0,>=2.13.0->spacy->bert-extractive-summarizer) (3.0.4)\n",
      "Requirement already satisfied: certifi>=2017.4.17 in c:\\programdata\\anaconda3\\lib\\site-packages (from requests<3.0.0,>=2.13.0->spacy->bert-extractive-summarizer) (2021.10.8)\n",
      "Requirement already satisfied: idna<3,>=2.5 in c:\\programdata\\anaconda3\\lib\\site-packages (from requests<3.0.0,>=2.13.0->spacy->bert-extractive-summarizer) (2.10)\n",
      "Requirement already satisfied: packaging>=20.0 in c:\\programdata\\anaconda3\\lib\\site-packages (from transformers->bert-extractive-summarizer) (20.9)\n",
      "Requirement already satisfied: regex!=2019.12.17 in c:\\programdata\\anaconda3\\lib\\site-packages (from transformers->bert-extractive-summarizer) (2021.4.4)\n",
      "Requirement already satisfied: filelock in c:\\programdata\\anaconda3\\lib\\site-packages (from transformers->bert-extractive-summarizer) (3.0.12)\n",
      "Requirement already satisfied: sacremoses in c:\\programdata\\anaconda3\\lib\\site-packages (from transformers->bert-extractive-summarizer) (0.0.45)\n",
      "Requirement already satisfied: pyyaml>=5.1 in c:\\programdata\\anaconda3\\lib\\site-packages (from transformers->bert-extractive-summarizer) (5.4.1)\n",
      "Requirement already satisfied: huggingface-hub<1.0,>=0.1.0 in c:\\programdata\\anaconda3\\lib\\site-packages (from transformers->bert-extractive-summarizer) (0.2.1)\n",
      "Requirement already satisfied: tokenizers<0.11,>=0.10.1 in c:\\programdata\\anaconda3\\lib\\site-packages (from transformers->bert-extractive-summarizer) (0.10.3)\n",
      "Requirement already satisfied: typing-extensions>=3.7.4.3 in c:\\programdata\\anaconda3\\lib\\site-packages (from huggingface-hub<1.0,>=0.1.0->transformers->bert-extractive-summarizer) (3.7.4.3)\n",
      "Requirement already satisfied: pyparsing>=2.0.2 in c:\\programdata\\anaconda3\\lib\\site-packages (from packaging>=20.0->transformers->bert-extractive-summarizer) (2.4.7)\n",
      "Requirement already satisfied: click in c:\\programdata\\anaconda3\\lib\\site-packages (from sacremoses->transformers->bert-extractive-summarizer) (7.1.2)\n",
      "Requirement already satisfied: six in c:\\programdata\\anaconda3\\lib\\site-packages (from sacremoses->transformers->bert-extractive-summarizer) (1.15.0)\n",
      "Installing collected packages: bert-extractive-summarizer\n",
      "Successfully installed bert-extractive-summarizer-0.9.0\n"
     ]
    }
   ],
   "source": [
    "!pip install bert-extractive-summarizer"
   ]
  },
  {
   "cell_type": "markdown",
   "id": "cb32b186-9c75-41a2-8180-7b2529224bea",
   "metadata": {},
   "source": [
    "### >> IMPORTACIONES"
   ]
  },
  {
   "cell_type": "code",
   "execution_count": 3,
   "id": "a28ab78a-f05f-4bec-8e83-1e9e6dcded10",
   "metadata": {},
   "outputs": [],
   "source": [
    "# nativo\n",
    "import glob\n",
    "from datetime import datetime\n",
    "\n",
    "#terceros\n",
    "import pandas as pd"
   ]
  },
  {
   "cell_type": "code",
   "execution_count": null,
   "id": "31f37f7f-0455-4995-b0c6-affabe46762a",
   "metadata": {},
   "outputs": [],
   "source": []
  },
  {
   "cell_type": "markdown",
   "id": "50c3e4cd-4e62-4dd9-a8a7-c3e8a532fd8b",
   "metadata": {},
   "source": [
    "### >> CONFIG"
   ]
  },
  {
   "cell_type": "code",
   "execution_count": 4,
   "id": "7b482ee6-b25a-4cef-911b-136df516549b",
   "metadata": {},
   "outputs": [
    {
     "data": {
      "text/plain": [
       "'2021_12_18_14_53_26'"
      ]
     },
     "execution_count": 4,
     "metadata": {},
     "output_type": "execute_result"
    }
   ],
   "source": [
    "marca_tiempo = str(datetime.now()).split('.')[0].replace('-', '_').replace(' ', '_').replace(':', '_')\n",
    "marca_tiempo"
   ]
  },
  {
   "cell_type": "code",
   "execution_count": null,
   "id": "afdf4e26-6db4-48d5-b58c-e3eea6fae3ca",
   "metadata": {},
   "outputs": [],
   "source": []
  },
  {
   "cell_type": "markdown",
   "id": "74c0dc7c-0d45-4e05-8e97-8f2dade82f84",
   "metadata": {},
   "source": [
    "### >> CARGA DE HISTORICO DE NOTIICIAS"
   ]
  },
  {
   "cell_type": "code",
   "execution_count": 5,
   "id": "0f2a6384-5ae8-422d-b56c-bfa5c4523bc1",
   "metadata": {},
   "outputs": [
    {
     "data": {
      "text/html": [
       "<div>\n",
       "<style scoped>\n",
       "    .dataframe tbody tr th:only-of-type {\n",
       "        vertical-align: middle;\n",
       "    }\n",
       "\n",
       "    .dataframe tbody tr th {\n",
       "        vertical-align: top;\n",
       "    }\n",
       "\n",
       "    .dataframe thead th {\n",
       "        text-align: right;\n",
       "    }\n",
       "</style>\n",
       "<table border=\"1\" class=\"dataframe\">\n",
       "  <thead>\n",
       "    <tr style=\"text-align: right;\">\n",
       "      <th></th>\n",
       "      <th>dia</th>\n",
       "      <th>tipo</th>\n",
       "      <th>titulo</th>\n",
       "      <th>contenido</th>\n",
       "      <th>tamanio</th>\n",
       "    </tr>\n",
       "  </thead>\n",
       "  <tbody>\n",
       "    <tr>\n",
       "      <th>0</th>\n",
       "      <td>01082021</td>\n",
       "      <td>descartado</td>\n",
       "      <td>coronavirus-bolivia-en-vivo-hoy-sabado-31-de-j...</td>\n",
       "      <td>Bolivia registró este sábado 15 fallecidos a c...</td>\n",
       "      <td>406</td>\n",
       "    </tr>\n",
       "    <tr>\n",
       "      <th>1</th>\n",
       "      <td>01082021</td>\n",
       "      <td>descartado</td>\n",
       "      <td>coronavirus-estados-unidos-vacunados-contra-el...</td>\n",
       "      <td>En otro desalentador revés a las acciones de E...</td>\n",
       "      <td>460</td>\n",
       "    </tr>\n",
       "    <tr>\n",
       "      <th>2</th>\n",
       "      <td>01082021</td>\n",
       "      <td>descartado</td>\n",
       "      <td>coronavirus-japon-tokio-registra-por-primera-v...</td>\n",
       "      <td>Las autoridades de la capital de Japón, Tokio,...</td>\n",
       "      <td>232</td>\n",
       "    </tr>\n",
       "    <tr>\n",
       "      <th>3</th>\n",
       "      <td>01082021</td>\n",
       "      <td>descartado</td>\n",
       "      <td>coronavirus-sputnik-v-las-demoras-quejas-y-can...</td>\n",
       "      <td>El gobierno peruano adquirió recientemente 20 ...</td>\n",
       "      <td>904</td>\n",
       "    </tr>\n",
       "    <tr>\n",
       "      <th>4</th>\n",
       "      <td>01082021</td>\n",
       "      <td>descartado</td>\n",
       "      <td>coronavirus-usa-joe-biden-el-presidente-de-est...</td>\n",
       "      <td>El presidente de Estados Unidos, Joe Biden, ha...</td>\n",
       "      <td>264</td>\n",
       "    </tr>\n",
       "    <tr>\n",
       "      <th>5</th>\n",
       "      <td>01082021</td>\n",
       "      <td>descartado</td>\n",
       "      <td>covid-19-coronavirus-no-podran-trabajar-hacer-...</td>\n",
       "      <td>Arabia Saudita prohíbe a partir de este doming...</td>\n",
       "      <td>376</td>\n",
       "    </tr>\n",
       "    <tr>\n",
       "      <th>6</th>\n",
       "      <td>01082021</td>\n",
       "      <td>descartado</td>\n",
       "      <td>covid-19-estudios-cientificos-erroneos-aliment...</td>\n",
       "      <td>Estudios científicos con metodología deficient...</td>\n",
       "      <td>709</td>\n",
       "    </tr>\n",
       "    <tr>\n",
       "      <th>7</th>\n",
       "      <td>01082021</td>\n",
       "      <td>original</td>\n",
       "      <td>bono-600-link-revisa-aqui-si-eres-beneficiario...</td>\n",
       "      <td>La pandemia de coronavirus ha dejado a muchas ...</td>\n",
       "      <td>365</td>\n",
       "    </tr>\n",
       "    <tr>\n",
       "      <th>8</th>\n",
       "      <td>01082021</td>\n",
       "      <td>original</td>\n",
       "      <td>covid-19-conoce-los-paraderos-donde-se-entrega...</td>\n",
       "      <td>La Autoridad de Transporte Urbano para Lima y ...</td>\n",
       "      <td>277</td>\n",
       "    </tr>\n",
       "    <tr>\n",
       "      <th>9</th>\n",
       "      <td>01082021</td>\n",
       "      <td>original</td>\n",
       "      <td>covid-19-cuales-son-las-restricciones-para-el-...</td>\n",
       "      <td>Las personas que viven en Lima y Callao tendrá...</td>\n",
       "      <td>741</td>\n",
       "    </tr>\n",
       "    <tr>\n",
       "      <th>10</th>\n",
       "      <td>01082021</td>\n",
       "      <td>original</td>\n",
       "      <td>covid-19-este-sabado-31-de-julio-se-inicia-vac...</td>\n",
       "      <td>La Dirección Regional de Salud de Tacna inform...</td>\n",
       "      <td>155</td>\n",
       "    </tr>\n",
       "    <tr>\n",
       "      <th>11</th>\n",
       "      <td>01082021</td>\n",
       "      <td>original</td>\n",
       "      <td>fiorella-molinelli-rechaza-imputaciones-por-pr...</td>\n",
       "      <td>La presidenta ejecutiva de Essalud, Fiorella M...</td>\n",
       "      <td>472</td>\n",
       "    </tr>\n",
       "    <tr>\n",
       "      <th>12</th>\n",
       "      <td>01082021</td>\n",
       "      <td>original</td>\n",
       "      <td>ministerio-de-salud-reporta-28-fallecidos-y-19...</td>\n",
       "      <td>El Ministerio de Salud (Minsa) informó el 30 d...</td>\n",
       "      <td>177</td>\n",
       "    </tr>\n",
       "    <tr>\n",
       "      <th>13</th>\n",
       "      <td>01082021</td>\n",
       "      <td>original</td>\n",
       "      <td>minsa-reporta-27-fallecidos-y-2099-nuevos-cont...</td>\n",
       "      <td>El Ministerio de Salud (Minsa) informó el 31 d...</td>\n",
       "      <td>177</td>\n",
       "    </tr>\n",
       "    <tr>\n",
       "      <th>14</th>\n",
       "      <td>01082021</td>\n",
       "      <td>original</td>\n",
       "      <td>netflix-cual-sera-el-requisito-que-pida-para-t...</td>\n",
       "      <td>La vuelta al trabajo presencial en uno de los ...</td>\n",
       "      <td>284</td>\n",
       "    </tr>\n",
       "    <tr>\n",
       "      <th>15</th>\n",
       "      <td>01082021</td>\n",
       "      <td>original</td>\n",
       "      <td>tokio-2020-por-que-protestan-los-japoneses-con...</td>\n",
       "      <td>Al menos una media del 56,4 % en Tokio y sus a...</td>\n",
       "      <td>559</td>\n",
       "    </tr>\n",
       "    <tr>\n",
       "      <th>16</th>\n",
       "      <td>01082021</td>\n",
       "      <td>original</td>\n",
       "      <td>vacuna-covid-19-aislamiento-por-renato-cisnero...</td>\n",
       "      <td>Se suponía que, llegadas las últimas semanas d...</td>\n",
       "      <td>707</td>\n",
       "    </tr>\n",
       "    <tr>\n",
       "      <th>17</th>\n",
       "      <td>01082021</td>\n",
       "      <td>original</td>\n",
       "      <td>vacuna-covid-19-minsa-informa-que-este-fin-de-...</td>\n",
       "      <td>El Ministerio de Salud (Minsa) informó que est...</td>\n",
       "      <td>265</td>\n",
       "    </tr>\n",
       "    <tr>\n",
       "      <th>18</th>\n",
       "      <td>01082021</td>\n",
       "      <td>original</td>\n",
       "      <td>vacunacion-covid-19-en-peru-mas-de-siete-millo...</td>\n",
       "      <td>El Ministerio de Salud (Minsa) informó que has...</td>\n",
       "      <td>292</td>\n",
       "    </tr>\n",
       "    <tr>\n",
       "      <th>19</th>\n",
       "      <td>01082021</td>\n",
       "      <td>original</td>\n",
       "      <td>vacunacion-covid-19-mas-de-siete-millones-984-...</td>\n",
       "      <td>El Ministerio de Salud (Minsa) informó que has...</td>\n",
       "      <td>292</td>\n",
       "    </tr>\n",
       "  </tbody>\n",
       "</table>\n",
       "</div>"
      ],
      "text/plain": [
       "         dia        tipo                                             titulo  \\\n",
       "0   01082021  descartado  coronavirus-bolivia-en-vivo-hoy-sabado-31-de-j...   \n",
       "1   01082021  descartado  coronavirus-estados-unidos-vacunados-contra-el...   \n",
       "2   01082021  descartado  coronavirus-japon-tokio-registra-por-primera-v...   \n",
       "3   01082021  descartado  coronavirus-sputnik-v-las-demoras-quejas-y-can...   \n",
       "4   01082021  descartado  coronavirus-usa-joe-biden-el-presidente-de-est...   \n",
       "5   01082021  descartado  covid-19-coronavirus-no-podran-trabajar-hacer-...   \n",
       "6   01082021  descartado  covid-19-estudios-cientificos-erroneos-aliment...   \n",
       "7   01082021    original  bono-600-link-revisa-aqui-si-eres-beneficiario...   \n",
       "8   01082021    original  covid-19-conoce-los-paraderos-donde-se-entrega...   \n",
       "9   01082021    original  covid-19-cuales-son-las-restricciones-para-el-...   \n",
       "10  01082021    original  covid-19-este-sabado-31-de-julio-se-inicia-vac...   \n",
       "11  01082021    original  fiorella-molinelli-rechaza-imputaciones-por-pr...   \n",
       "12  01082021    original  ministerio-de-salud-reporta-28-fallecidos-y-19...   \n",
       "13  01082021    original  minsa-reporta-27-fallecidos-y-2099-nuevos-cont...   \n",
       "14  01082021    original  netflix-cual-sera-el-requisito-que-pida-para-t...   \n",
       "15  01082021    original  tokio-2020-por-que-protestan-los-japoneses-con...   \n",
       "16  01082021    original  vacuna-covid-19-aislamiento-por-renato-cisnero...   \n",
       "17  01082021    original  vacuna-covid-19-minsa-informa-que-este-fin-de-...   \n",
       "18  01082021    original  vacunacion-covid-19-en-peru-mas-de-siete-millo...   \n",
       "19  01082021    original  vacunacion-covid-19-mas-de-siete-millones-984-...   \n",
       "\n",
       "                                            contenido  tamanio  \n",
       "0   Bolivia registró este sábado 15 fallecidos a c...      406  \n",
       "1   En otro desalentador revés a las acciones de E...      460  \n",
       "2   Las autoridades de la capital de Japón, Tokio,...      232  \n",
       "3   El gobierno peruano adquirió recientemente 20 ...      904  \n",
       "4   El presidente de Estados Unidos, Joe Biden, ha...      264  \n",
       "5   Arabia Saudita prohíbe a partir de este doming...      376  \n",
       "6   Estudios científicos con metodología deficient...      709  \n",
       "7   La pandemia de coronavirus ha dejado a muchas ...      365  \n",
       "8   La Autoridad de Transporte Urbano para Lima y ...      277  \n",
       "9   Las personas que viven en Lima y Callao tendrá...      741  \n",
       "10  La Dirección Regional de Salud de Tacna inform...      155  \n",
       "11  La presidenta ejecutiva de Essalud, Fiorella M...      472  \n",
       "12  El Ministerio de Salud (Minsa) informó el 30 d...      177  \n",
       "13  El Ministerio de Salud (Minsa) informó el 31 d...      177  \n",
       "14  La vuelta al trabajo presencial en uno de los ...      284  \n",
       "15  Al menos una media del 56,4 % en Tokio y sus a...      559  \n",
       "16  Se suponía que, llegadas las últimas semanas d...      707  \n",
       "17  El Ministerio de Salud (Minsa) informó que est...      265  \n",
       "18  El Ministerio de Salud (Minsa) informó que has...      292  \n",
       "19  El Ministerio de Salud (Minsa) informó que has...      292  "
      ]
     },
     "execution_count": 5,
     "metadata": {},
     "output_type": "execute_result"
    }
   ],
   "source": [
    "dicc_data = {\n",
    "    'dia': [],\n",
    "    'tipo': [],\n",
    "    'titulo': [],\n",
    "    'contenido': [],\n",
    "    'tamanio': []\n",
    "}\n",
    "\n",
    "for file in glob.iglob('news/**/*.txt', recursive=True):\n",
    "    listado = file.split('\\\\')\n",
    "    #print(listado)\n",
    "    with open(file, encoding='UTF-8') as f:\n",
    "        new = f.read()\n",
    "        dicc_data['dia'].append(listado[1])\n",
    "        dicc_data['tipo'].append(listado[2])\n",
    "        dicc_data['titulo'].append(listado[-1].split('.')[0])\n",
    "        dicc_data['contenido'].append(new)\n",
    "        dicc_data['tamanio'].append(len(new.split(' ')))\n",
    "        \n",
    "data = pd.DataFrame(dicc_data)\n",
    "del dicc_data\n",
    "data.head(20)"
   ]
  },
  {
   "cell_type": "code",
   "execution_count": 6,
   "id": "c018ca31-456a-44e5-bfa8-d4e3071a9552",
   "metadata": {},
   "outputs": [
    {
     "data": {
      "text/html": [
       "<div>\n",
       "<style scoped>\n",
       "    .dataframe tbody tr th:only-of-type {\n",
       "        vertical-align: middle;\n",
       "    }\n",
       "\n",
       "    .dataframe tbody tr th {\n",
       "        vertical-align: top;\n",
       "    }\n",
       "\n",
       "    .dataframe thead th {\n",
       "        text-align: right;\n",
       "    }\n",
       "</style>\n",
       "<table border=\"1\" class=\"dataframe\">\n",
       "  <thead>\n",
       "    <tr style=\"text-align: right;\">\n",
       "      <th></th>\n",
       "      <th>dia</th>\n",
       "      <th>tipo</th>\n",
       "      <th>titulo</th>\n",
       "      <th>contenido</th>\n",
       "      <th>tamanio</th>\n",
       "    </tr>\n",
       "  </thead>\n",
       "  <tbody>\n",
       "    <tr>\n",
       "      <th>307</th>\n",
       "      <td>2021-12-18</td>\n",
       "      <td>original</td>\n",
       "      <td>premier-league-pep-guardiola-dio-negativo-tras...</td>\n",
       "      <td>La Premier League está atravesando por una cri...</td>\n",
       "      <td>426</td>\n",
       "    </tr>\n",
       "    <tr>\n",
       "      <th>306</th>\n",
       "      <td>2021-12-18</td>\n",
       "      <td>original</td>\n",
       "      <td>omicron-las-preguntas-mas-frecuentes-sobre-la-...</td>\n",
       "      <td>Ómicron es una variante del coronavirus detect...</td>\n",
       "      <td>538</td>\n",
       "    </tr>\n",
       "    <tr>\n",
       "      <th>305</th>\n",
       "      <td>2021-12-18</td>\n",
       "      <td>original</td>\n",
       "      <td>omicron-como-responde-nuestro-sistema-inmunolo...</td>\n",
       "      <td>En la lucha contra el coronavirus, un componen...</td>\n",
       "      <td>1130</td>\n",
       "    </tr>\n",
       "    <tr>\n",
       "      <th>304</th>\n",
       "      <td>2021-12-18</td>\n",
       "      <td>original</td>\n",
       "      <td>minsa-advierte-que-90-de-pacientes-hospitaliza...</td>\n",
       "      <td>El ministro de Salud, Hernando Cevallos, advir...</td>\n",
       "      <td>374</td>\n",
       "    </tr>\n",
       "    <tr>\n",
       "      <th>308</th>\n",
       "      <td>2021-12-18</td>\n",
       "      <td>original</td>\n",
       "      <td>resumen-2021-negacionistas-asi-va-la-situacion...</td>\n",
       "      <td>El movimiento antivacuna ha encontrado en la p...</td>\n",
       "      <td>1035</td>\n",
       "    </tr>\n",
       "  </tbody>\n",
       "</table>\n",
       "</div>"
      ],
      "text/plain": [
       "           dia      tipo                                             titulo  \\\n",
       "307 2021-12-18  original  premier-league-pep-guardiola-dio-negativo-tras...   \n",
       "306 2021-12-18  original  omicron-las-preguntas-mas-frecuentes-sobre-la-...   \n",
       "305 2021-12-18  original  omicron-como-responde-nuestro-sistema-inmunolo...   \n",
       "304 2021-12-18  original  minsa-advierte-que-90-de-pacientes-hospitaliza...   \n",
       "308 2021-12-18  original  resumen-2021-negacionistas-asi-va-la-situacion...   \n",
       "\n",
       "                                             contenido  tamanio  \n",
       "307  La Premier League está atravesando por una cri...      426  \n",
       "306  Ómicron es una variante del coronavirus detect...      538  \n",
       "305  En la lucha contra el coronavirus, un componen...     1130  \n",
       "304  El ministro de Salud, Hernando Cevallos, advir...      374  \n",
       "308  El movimiento antivacuna ha encontrado en la p...     1035  "
      ]
     },
     "execution_count": 6,
     "metadata": {},
     "output_type": "execute_result"
    }
   ],
   "source": [
    "data = data[data['tipo'] == 'original']\n",
    "data['dia'] = pd.to_datetime(\n",
    "    data['dia'], errors='coerce', format='%d%m%Y'\n",
    ")\n",
    "data = data.sort_values(by=['dia'], ascending=True)\n",
    "data.tail()"
   ]
  },
  {
   "cell_type": "code",
   "execution_count": 7,
   "id": "3f89563b-14ad-4849-a6d7-820a273fcca2",
   "metadata": {},
   "outputs": [],
   "source": [
    "#contenido = data.groupby(by=['dia']).agg({\n",
    "#    'contenido': lambda _: '\\n'.join(list(_)),\n",
    "#    'tamanio': 'sum'\n",
    "#}).sort_index().iloc[8:]\n",
    "\n",
    "#contenido"
   ]
  },
  {
   "cell_type": "code",
   "execution_count": null,
   "id": "23fd0d04-793e-4001-b984-3a37c5c66639",
   "metadata": {},
   "outputs": [],
   "source": []
  },
  {
   "cell_type": "markdown",
   "id": "a29220bf-e6bb-4304-86ba-5e1fb39c25cf",
   "metadata": {},
   "source": [
    "## >> ULTIMAS NOTICIAS"
   ]
  },
  {
   "cell_type": "code",
   "execution_count": 8,
   "id": "d6a766cf-d31e-49d1-a242-8b548d3631a3",
   "metadata": {},
   "outputs": [
    {
     "data": {
      "text/html": [
       "<div>\n",
       "<style scoped>\n",
       "    .dataframe tbody tr th:only-of-type {\n",
       "        vertical-align: middle;\n",
       "    }\n",
       "\n",
       "    .dataframe tbody tr th {\n",
       "        vertical-align: top;\n",
       "    }\n",
       "\n",
       "    .dataframe thead th {\n",
       "        text-align: right;\n",
       "    }\n",
       "</style>\n",
       "<table border=\"1\" class=\"dataframe\">\n",
       "  <thead>\n",
       "    <tr style=\"text-align: right;\">\n",
       "      <th></th>\n",
       "      <th>dia</th>\n",
       "      <th>tipo</th>\n",
       "      <th>titulo</th>\n",
       "      <th>contenido</th>\n",
       "      <th>tamanio</th>\n",
       "    </tr>\n",
       "  </thead>\n",
       "  <tbody>\n",
       "    <tr>\n",
       "      <th>307</th>\n",
       "      <td>2021-12-18</td>\n",
       "      <td>original</td>\n",
       "      <td>premier-league-pep-guardiola-dio-negativo-tras...</td>\n",
       "      <td>La Premier League está atravesando por una cri...</td>\n",
       "      <td>426</td>\n",
       "    </tr>\n",
       "    <tr>\n",
       "      <th>306</th>\n",
       "      <td>2021-12-18</td>\n",
       "      <td>original</td>\n",
       "      <td>omicron-las-preguntas-mas-frecuentes-sobre-la-...</td>\n",
       "      <td>Ómicron es una variante del coronavirus detect...</td>\n",
       "      <td>538</td>\n",
       "    </tr>\n",
       "    <tr>\n",
       "      <th>305</th>\n",
       "      <td>2021-12-18</td>\n",
       "      <td>original</td>\n",
       "      <td>omicron-como-responde-nuestro-sistema-inmunolo...</td>\n",
       "      <td>En la lucha contra el coronavirus, un componen...</td>\n",
       "      <td>1130</td>\n",
       "    </tr>\n",
       "    <tr>\n",
       "      <th>304</th>\n",
       "      <td>2021-12-18</td>\n",
       "      <td>original</td>\n",
       "      <td>minsa-advierte-que-90-de-pacientes-hospitaliza...</td>\n",
       "      <td>El ministro de Salud, Hernando Cevallos, advir...</td>\n",
       "      <td>374</td>\n",
       "    </tr>\n",
       "    <tr>\n",
       "      <th>308</th>\n",
       "      <td>2021-12-18</td>\n",
       "      <td>original</td>\n",
       "      <td>resumen-2021-negacionistas-asi-va-la-situacion...</td>\n",
       "      <td>El movimiento antivacuna ha encontrado en la p...</td>\n",
       "      <td>1035</td>\n",
       "    </tr>\n",
       "  </tbody>\n",
       "</table>\n",
       "</div>"
      ],
      "text/plain": [
       "           dia      tipo                                             titulo  \\\n",
       "307 2021-12-18  original  premier-league-pep-guardiola-dio-negativo-tras...   \n",
       "306 2021-12-18  original  omicron-las-preguntas-mas-frecuentes-sobre-la-...   \n",
       "305 2021-12-18  original  omicron-como-responde-nuestro-sistema-inmunolo...   \n",
       "304 2021-12-18  original  minsa-advierte-que-90-de-pacientes-hospitaliza...   \n",
       "308 2021-12-18  original  resumen-2021-negacionistas-asi-va-la-situacion...   \n",
       "\n",
       "                                             contenido  tamanio  \n",
       "307  La Premier League está atravesando por una cri...      426  \n",
       "306  Ómicron es una variante del coronavirus detect...      538  \n",
       "305  En la lucha contra el coronavirus, un componen...     1130  \n",
       "304  El ministro de Salud, Hernando Cevallos, advir...      374  \n",
       "308  El movimiento antivacuna ha encontrado en la p...     1035  "
      ]
     },
     "execution_count": 8,
     "metadata": {},
     "output_type": "execute_result"
    }
   ],
   "source": [
    "ultimas_noticias = data.iloc[-5:]\n",
    "ultimas_noticias"
   ]
  },
  {
   "cell_type": "code",
   "execution_count": null,
   "id": "e70bc71a-8dc1-4462-8faa-7be0ff7eb68b",
   "metadata": {},
   "outputs": [],
   "source": []
  },
  {
   "cell_type": "markdown",
   "id": "e85d2dea-9da7-4542-ba9c-fb18895f0fff",
   "metadata": {},
   "source": [
    "## >> PEGASUS MULTIIDIOMA"
   ]
  },
  {
   "cell_type": "code",
   "execution_count": 9,
   "id": "cf7d2390-3230-49e6-9ec8-a7cb07455256",
   "metadata": {},
   "outputs": [
    {
     "data": {
      "text/plain": [
       "'cpu'"
      ]
     },
     "execution_count": 9,
     "metadata": {},
     "output_type": "execute_result"
    }
   ],
   "source": [
    "import torch\n",
    "torch_device = 'cuda' if torch.cuda.is_available() else 'cpu'\n",
    "torch_device"
   ]
  },
  {
   "cell_type": "code",
   "execution_count": 10,
   "id": "2ed335f5-0c37-4d2e-9a8a-1ca947396f8b",
   "metadata": {},
   "outputs": [
    {
     "name": "stdout",
     "output_type": "stream",
     "text": [
      "<class 'transformers.models.pegasus.tokenization_pegasus.PegasusTokenizer'>\n",
      "<class 'transformers.models.pegasus.modeling_pegasus.PegasusForConditionalGeneration'>\n",
      "Wall time: 3min 29s\n"
     ]
    }
   ],
   "source": [
    "%%time\n",
    "\n",
    "from transformers import PegasusForConditionalGeneration, PegasusTokenizer\n",
    "\n",
    "model_name = 'google/pegasus-reddit_tifu'\n",
    "tokenizer = PegasusTokenizer.from_pretrained(model_name)\n",
    "print(type(tokenizer))\n",
    "\n",
    "model_pegasus = PegasusForConditionalGeneration.from_pretrained(model_name).to(torch_device)\n",
    "print(type(model_pegasus))"
   ]
  },
  {
   "cell_type": "code",
   "execution_count": 54,
   "id": "f22b95ad-3d73-4a9d-a8ed-f28701598b2d",
   "metadata": {},
   "outputs": [],
   "source": [
    "#help(model_pegasus.generate)"
   ]
  },
  {
   "cell_type": "code",
   "execution_count": 52,
   "id": "dd0b3435-0dc7-4ea9-8a34-6ba5b37de355",
   "metadata": {},
   "outputs": [],
   "source": [
    "#help(tokenizer.batch_decode)"
   ]
  },
  {
   "cell_type": "code",
   "execution_count": 55,
   "id": "085688e4-4d62-4312-9f6b-2f0d23c2a3fa",
   "metadata": {},
   "outputs": [
    {
     "name": "stderr",
     "output_type": "stream",
     "text": [
      "C:\\ProgramData\\Anaconda3\\lib\\site-packages\\transformers\\tokenization_utils_base.py:3415: FutureWarning: \n",
      "`prepare_seq2seq_batch` is deprecated and will be removed in version 5 of HuggingFace Transformers. Use the regular\n",
      "`__call__` method to prepare your inputs and the tokenizer under the `as_target_tokenizer` context manager to prepare\n",
      "your targets.\n",
      "\n",
      "Here is a short example:\n",
      "\n",
      "model_inputs = tokenizer(src_texts, ...)\n",
      "with tokenizer.as_target_tokenizer():\n",
      "    labels = tokenizer(tgt_texts, ...)\n",
      "model_inputs[\"labels\"] = labels[\"input_ids\"]\n",
      "\n",
      "See the documentation of your specific tokenizer for more details on the specific arguments to the tokenizer of choice.\n",
      "For a more complete example, see the implementation of `prepare_seq2seq_batch`.\n",
      "\n",
      "  warnings.warn(formatted_warning, FutureWarning)\n"
     ]
    },
    {
     "name": "stdout",
     "output_type": "stream",
     "text": [
      "{'input_ids': tensor([[ 1946,  6235,  2493, 14828,   105,   134,   551, 36088, 18405, 15489,\n",
      "         20765,  3533,   110, 40872, 15398,  2700, 19585,  2497,   718, 55632,\n",
      "         18089,  9293, 10182,   275,  1191,  7573,   105,   114, 22858,   326,\n",
      "           261,   718, 14595,   599,  1666,   772,  6581,  3082, 19028, 16847,\n",
      "           107,  5522,   213, 20154,   718,  1596,  2956,   554,   718,  6034,\n",
      "           304,  2653,   105, 62643,   108,  5420,   672,   891, 33743,  4689,\n",
      "          5139,  4464, 51500,   110, 34275,  9562,  2997,  9345, 35062,  1152,\n",
      "         17189, 13489,   554,   114, 29901, 10327, 15489,  9345, 33539,   554,\n",
      "           718, 34502,  3106, 91132,  3106,  5209, 26897, 53902,  9345, 30980,\n",
      "         21336, 10327,   107,  3130, 44555,   454, 23367, 52345,   105,  6045,\n",
      "           108, 32557,   110,   772, 39321,   110, 46120,   718,   114,  9768,\n",
      "          2915,  1596, 12009, 26590, 22255, 19683, 83751,   108,  2069,   105,\n",
      "           304, 20765,   110, 67750,  5355, 14595, 44717,  3106,   718,   110,\n",
      "           363, 83425,  6670,   105,   454,  2997,  3119,  2294,   105,   116,\n",
      "          3752,   304,   718,  3119,   558,   304,   114, 11866,   107, 13446,\n",
      "         46416,   108,  3119, 37352,  3347,   718,  1133, 62303, 22204,   326,\n",
      "          6580,  9094,  5209,  7258,  5355, 29902,   105,  9293,  3119,   110,\n",
      "         28064,   105,   454, 14828,  1858,  8158, 60310, 27102,  9094,  5355,\n",
      "          3119,   891,  7882, 33867,   718,  4585, 44078, 11545,   114,  3119,\n",
      "          9293,  7258,   181,  5877,   105,   107,  2726, 44717,  3106, 75571,\n",
      "           105, 37944,   116,  7258,   105,  1114, 49138,  9293,  9345,  1133,\n",
      "          9885, 23367,   718,  1149,   114,   105,  3106, 62383,  8422,   105,\n",
      "          1596,   711, 10327,   718,  1596,   804,   718, 55632, 18089,   220,\n",
      "          5355, 49409,   415, 22175,   107,  5522,   110, 11923,  1406, 15398,\n",
      "           108, 53902,   110, 40872,   105,   304, 85463,  4464, 20765, 22858,\n",
      "         16183, 39616,  8357,   110, 78948, 15972,  5355,   110, 49700,  7639,\n",
      "           105,   454, 13035, 42685,  2683,   107, 72369,   116,  2653,   105,\n",
      "           116, 15962,  2534,   108,  2997,   222, 40758, 27901,  4480, 49138,\n",
      "          9293, 26897,   110,   116, 12502,   105, 57905,   304, 39608,  2997,\n",
      "          9345,   804, 13544,  9293,  7258,  9800,  9944, 40448, 12045, 51500,\n",
      "          7994,  5196,   110, 34275,  9562,   107, 35416,  7258, 17838, 25271,\n",
      "          3347,   108,  9345,   110, 18442,  1152, 37944,   718, 14595,   402,\n",
      "         22702, 16903, 12153,  3106,   123, 14507,   105,  5420,  9345,   110,\n",
      "           105, 84585,  8194, 23752, 28865,   116,  8357,  7248, 12947, 46455,\n",
      "          4464,   148,  3220, 30468,   105,   304,  5209,   799, 59948,  2997,\n",
      "          3119, 76529,   316, 11974,   718, 31885, 12515,   105, 12744,   107,\n",
      "          3130, 20040,   114,   363,  6035,   105,  2700,   110, 71041,  7920,\n",
      "           108, 24414,  1227,   142,  3036,  6670,   105, 13035,   920,  5877,\n",
      "         30441,  6581,  3068,   105,   144, 24726, 83536, 18648,   115, 42925,\n",
      "         59730,  6581, 42685, 20154,  4734, 49141,   107,  5522,   116, 56289,\n",
      "         11974,   108, 53902, 11743,  7770,   105,   114, 53319,   107,  5378,\n",
      "          9345, 57905,   304, 39608,  2997,  3119,   729,   554,   108,  9345,\n",
      "           110, 18442,  1152, 37944, 62383,  8422,   105,  9345, 23395,   497,\n",
      "         24181, 17711, 15489,   297,   326,   718,  3119,  6235,  2493,  8357,\n",
      "           118,  6520,   297,   326,   718,  3119,   718, 16355, 19920,   105,\n",
      "           454,  9293,  7258,  2997, 87052, 12135,   105,   114, 14595, 82613,\n",
      "          2997,  3119,   110, 77402, 26202, 34958,  9094,  8357, 18648, 22858,\n",
      "           326,   261,   718,  3119, 11495,   105,  5181,   143, 31815, 13692,\n",
      "           446,  1858,  8441,   158, 20397, 55347,   718,  3119,   110, 54454,\n",
      "         42430,  1204,  2997,  9345, 42685, 20154,   873,   107,  2133,   981,\n",
      "           107,  1825,   110, 24397,   729,  6637,   108, 53902, 20283,   105,\n",
      "          1596,     1]]), 'attention_mask': tensor([[1, 1, 1, 1, 1, 1, 1, 1, 1, 1, 1, 1, 1, 1, 1, 1, 1, 1, 1, 1, 1, 1, 1, 1,\n",
      "         1, 1, 1, 1, 1, 1, 1, 1, 1, 1, 1, 1, 1, 1, 1, 1, 1, 1, 1, 1, 1, 1, 1, 1,\n",
      "         1, 1, 1, 1, 1, 1, 1, 1, 1, 1, 1, 1, 1, 1, 1, 1, 1, 1, 1, 1, 1, 1, 1, 1,\n",
      "         1, 1, 1, 1, 1, 1, 1, 1, 1, 1, 1, 1, 1, 1, 1, 1, 1, 1, 1, 1, 1, 1, 1, 1,\n",
      "         1, 1, 1, 1, 1, 1, 1, 1, 1, 1, 1, 1, 1, 1, 1, 1, 1, 1, 1, 1, 1, 1, 1, 1,\n",
      "         1, 1, 1, 1, 1, 1, 1, 1, 1, 1, 1, 1, 1, 1, 1, 1, 1, 1, 1, 1, 1, 1, 1, 1,\n",
      "         1, 1, 1, 1, 1, 1, 1, 1, 1, 1, 1, 1, 1, 1, 1, 1, 1, 1, 1, 1, 1, 1, 1, 1,\n",
      "         1, 1, 1, 1, 1, 1, 1, 1, 1, 1, 1, 1, 1, 1, 1, 1, 1, 1, 1, 1, 1, 1, 1, 1,\n",
      "         1, 1, 1, 1, 1, 1, 1, 1, 1, 1, 1, 1, 1, 1, 1, 1, 1, 1, 1, 1, 1, 1, 1, 1,\n",
      "         1, 1, 1, 1, 1, 1, 1, 1, 1, 1, 1, 1, 1, 1, 1, 1, 1, 1, 1, 1, 1, 1, 1, 1,\n",
      "         1, 1, 1, 1, 1, 1, 1, 1, 1, 1, 1, 1, 1, 1, 1, 1, 1, 1, 1, 1, 1, 1, 1, 1,\n",
      "         1, 1, 1, 1, 1, 1, 1, 1, 1, 1, 1, 1, 1, 1, 1, 1, 1, 1, 1, 1, 1, 1, 1, 1,\n",
      "         1, 1, 1, 1, 1, 1, 1, 1, 1, 1, 1, 1, 1, 1, 1, 1, 1, 1, 1, 1, 1, 1, 1, 1,\n",
      "         1, 1, 1, 1, 1, 1, 1, 1, 1, 1, 1, 1, 1, 1, 1, 1, 1, 1, 1, 1, 1, 1, 1, 1,\n",
      "         1, 1, 1, 1, 1, 1, 1, 1, 1, 1, 1, 1, 1, 1, 1, 1, 1, 1, 1, 1, 1, 1, 1, 1,\n",
      "         1, 1, 1, 1, 1, 1, 1, 1, 1, 1, 1, 1, 1, 1, 1, 1, 1, 1, 1, 1, 1, 1, 1, 1,\n",
      "         1, 1, 1, 1, 1, 1, 1, 1, 1, 1, 1, 1, 1, 1, 1, 1, 1, 1, 1, 1, 1, 1, 1, 1,\n",
      "         1, 1, 1, 1, 1, 1, 1, 1, 1, 1, 1, 1, 1, 1, 1, 1, 1, 1, 1, 1, 1, 1, 1, 1,\n",
      "         1, 1, 1, 1, 1, 1, 1, 1, 1, 1, 1, 1, 1, 1, 1, 1, 1, 1, 1, 1, 1, 1, 1, 1,\n",
      "         1, 1, 1, 1, 1, 1, 1, 1, 1, 1, 1, 1, 1, 1, 1, 1, 1, 1, 1, 1, 1, 1, 1, 1,\n",
      "         1, 1, 1, 1, 1, 1, 1, 1, 1, 1, 1, 1, 1, 1, 1, 1, 1, 1, 1, 1, 1, 1, 1, 1,\n",
      "         1, 1, 1, 1, 1, 1, 1, 1]])}\n",
      "{'input_ids': tensor([[  110,   105, 60148,   110,   772, 20765, 11982,   326,  6581, 55632,\n",
      "         18089,  6595,  9094, 94342, 30607,  3275,   718,  1596,   213,   116,\n",
      "          5209,  9293, 15489, 13035, 51158, 21671,   554,   718,  7662,   208,\n",
      "         17083,   105,   454, 71168, 13653, 23772,   551,   718, 93037,  9345,\n",
      "         15383,  6563,   718,  3119,   891,   526, 23722,   108,  2997, 73861,\n",
      "           114,  9073, 16363,   718, 13035,   979,   554,  2997,  3119, 80618,\n",
      "           454, 19920,   105,   454,   107,   110,   105, 60148,   110,   772,\n",
      "         20765, 22858, 16183, 77090,   105,   454,  6581, 68431,   121,  6257,\n",
      "          1594,  5729,   143,  2734, 55632, 18089,   132, 24378,   718,  3119,\n",
      "           891,   526, 23722,   312, 69050,  5138, 52119,   114, 14383,   116,\n",
      "           718,   220, 19575, 23207,  2997, 18497, 10777,  5181,   108,  5209,\n",
      "         23853, 20215,  2997, 34327,   105,  2073, 26133,   107,  7410,   970,\n",
      "         30712,   110,   772,  9345, 43701,  3178,   105,   208, 12744,   718,\n",
      "           110, 26310, 59730,  2132,   554,   114,  3119, 11982,   326,   856,\n",
      "          9293, 22204,   326,  6595,  9094,  2997,  3119, 28552, 16903,   252,\n",
      "         10161,   718, 56888,   108,  5209,   718, 28806,   772,   824,   772,\n",
      "           108, 32557,  3119, 19822,   108,  9293,   171, 27551,   148,  3220,\n",
      "           114, 31815,   346, 42158, 49586,  3119,  7662,   208, 17083,   105,\n",
      "           454,   718,  3119,   891,   526, 23722,   107,   566,  7258, 42014,\n",
      "           326,  2895,   105,  5196, 51556,   216,  6670,   105,   110,   105,\n",
      "         60148,   107, 41124,  5425,   105,   144, 34261,   114,  4170, 44555,\n",
      "         14595,   110, 41804,   105, 37190,  3106,   110,   772,  9293,  9345,\n",
      "          5807,  8886, 10226,   105,   304,   110, 26310, 10327, 28352, 49586,\n",
      "          2997,  9345, 22266,   554,   718, 20765, 20251,  5355,   115, 15191,\n",
      "         22412, 44146, 31298,   108,  1596,  2717, 18766,   554,  9293, 40448,\n",
      "           105,   110, 90643,   116,   213, 23343,   108,   148,  3220,   110,\n",
      "         15728,  8386,   114,  3119, 77090,   105,   454,  1916,   107, 15995,\n",
      "         54453, 30980, 21336, 13426,   108,   185,   304,  1596,   110, 27075,\n",
      "          5196,  9293,   220,   110, 25428,   105, 45803,   110, 78948, 84777,\n",
      "           148,  3220,   114, 31815,  5355,   110,  8292, 12637,  4429, 10295,\n",
      "         11982,   326,  2894,  4259, 21809,  5877,   105,  9345, 53964,   772,\n",
      "         10769, 10507,   202, 39352, 12008, 64035, 24266,  8086,  1579,   108,\n",
      "          1758,   956,   718,  3119, 21411, 23646,  6670,   105,   454, 80429,\n",
      "          1114,   718,  3119, 85564,   143, 58033,   250, 52635, 22858, 16183,\n",
      "         77090,   105,   454,   185,  4464,  4511,   304, 18222, 34713,  2997,\n",
      "          3119, 10601,   105,   304,   718, 12955,   105, 23343,  2894,   114,\n",
      "           105, 17289,   105,   107, 12006,  8886,   110,   116, 15398,  6595,\n",
      "         10327,   113, 78983, 34713,  2997,  2870,   107, 34327,   105,  2073,\n",
      "         26133,   108, 42083,   208, 67778,  5209,  9345,  2014,  7920, 11770,\n",
      "          2683, 10182, 33102, 24704, 15398,  9293, 14595, 34502,  3106, 14828,\n",
      "           105,   454, 28749,  1152, 75785,   718,   118,  3225, 24943, 17337,\n",
      "         31350,   107,   110,   105, 60148, 15782,   551,   105,   304, 21272,\n",
      "          3119, 11982,   326,  9574,   326,  2997, 22580,   114,   636, 17499,\n",
      "           718,  2997, 12744,   108,   718, 37564,   105, 42685, 35005,  5181,\n",
      "          3119,  1977,   304,   718,  3119,  6742, 17083,   105,   454,  1465,\n",
      "           304,   108, 63991, 10622,  7249, 39903,  1227,   107,   110,   105,\n",
      "         20159,   116, 44680,  5139,   105, 72349, 33803, 49586,   114,  3119,\n",
      "         11982,   326, 19822,   152,  2726,   110, 41804,   105, 37190,  3106,\n",
      "          4259, 34275,  5878,  9293,   110, 20803,   116, 15782,   551,   105,\n",
      "          1321,  5355,  7770, 21809,   108, 32557, 66222, 38669,  5355,   110,\n",
      "         54855, 17865, 11982,   772,  6581,  5807,   718,  3119, 53512,   108,\n",
      "          4429,     1]]), 'attention_mask': tensor([[1, 1, 1, 1, 1, 1, 1, 1, 1, 1, 1, 1, 1, 1, 1, 1, 1, 1, 1, 1, 1, 1, 1, 1,\n",
      "         1, 1, 1, 1, 1, 1, 1, 1, 1, 1, 1, 1, 1, 1, 1, 1, 1, 1, 1, 1, 1, 1, 1, 1,\n",
      "         1, 1, 1, 1, 1, 1, 1, 1, 1, 1, 1, 1, 1, 1, 1, 1, 1, 1, 1, 1, 1, 1, 1, 1,\n",
      "         1, 1, 1, 1, 1, 1, 1, 1, 1, 1, 1, 1, 1, 1, 1, 1, 1, 1, 1, 1, 1, 1, 1, 1,\n",
      "         1, 1, 1, 1, 1, 1, 1, 1, 1, 1, 1, 1, 1, 1, 1, 1, 1, 1, 1, 1, 1, 1, 1, 1,\n",
      "         1, 1, 1, 1, 1, 1, 1, 1, 1, 1, 1, 1, 1, 1, 1, 1, 1, 1, 1, 1, 1, 1, 1, 1,\n",
      "         1, 1, 1, 1, 1, 1, 1, 1, 1, 1, 1, 1, 1, 1, 1, 1, 1, 1, 1, 1, 1, 1, 1, 1,\n",
      "         1, 1, 1, 1, 1, 1, 1, 1, 1, 1, 1, 1, 1, 1, 1, 1, 1, 1, 1, 1, 1, 1, 1, 1,\n",
      "         1, 1, 1, 1, 1, 1, 1, 1, 1, 1, 1, 1, 1, 1, 1, 1, 1, 1, 1, 1, 1, 1, 1, 1,\n",
      "         1, 1, 1, 1, 1, 1, 1, 1, 1, 1, 1, 1, 1, 1, 1, 1, 1, 1, 1, 1, 1, 1, 1, 1,\n",
      "         1, 1, 1, 1, 1, 1, 1, 1, 1, 1, 1, 1, 1, 1, 1, 1, 1, 1, 1, 1, 1, 1, 1, 1,\n",
      "         1, 1, 1, 1, 1, 1, 1, 1, 1, 1, 1, 1, 1, 1, 1, 1, 1, 1, 1, 1, 1, 1, 1, 1,\n",
      "         1, 1, 1, 1, 1, 1, 1, 1, 1, 1, 1, 1, 1, 1, 1, 1, 1, 1, 1, 1, 1, 1, 1, 1,\n",
      "         1, 1, 1, 1, 1, 1, 1, 1, 1, 1, 1, 1, 1, 1, 1, 1, 1, 1, 1, 1, 1, 1, 1, 1,\n",
      "         1, 1, 1, 1, 1, 1, 1, 1, 1, 1, 1, 1, 1, 1, 1, 1, 1, 1, 1, 1, 1, 1, 1, 1,\n",
      "         1, 1, 1, 1, 1, 1, 1, 1, 1, 1, 1, 1, 1, 1, 1, 1, 1, 1, 1, 1, 1, 1, 1, 1,\n",
      "         1, 1, 1, 1, 1, 1, 1, 1, 1, 1, 1, 1, 1, 1, 1, 1, 1, 1, 1, 1, 1, 1, 1, 1,\n",
      "         1, 1, 1, 1, 1, 1, 1, 1, 1, 1, 1, 1, 1, 1, 1, 1, 1, 1, 1, 1, 1, 1, 1, 1,\n",
      "         1, 1, 1, 1, 1, 1, 1, 1, 1, 1, 1, 1, 1, 1, 1, 1, 1, 1, 1, 1, 1, 1, 1, 1,\n",
      "         1, 1, 1, 1, 1, 1, 1, 1, 1, 1, 1, 1, 1, 1, 1, 1, 1, 1, 1, 1, 1, 1, 1, 1,\n",
      "         1, 1, 1, 1, 1, 1, 1, 1, 1, 1, 1, 1, 1, 1, 1, 1, 1, 1, 1, 1, 1, 1, 1, 1,\n",
      "         1, 1, 1, 1, 1, 1, 1, 1]])}\n",
      "{'input_ids': tensor([[ 5522,  3119, 23853,  6969, 36154,  9345, 55632, 18089,   108,  1596,\n",
      "          3453,   326,   110, 29621,   261,  6581, 78304,   304,   115, 21418,\n",
      "          6045,   105,   838, 13230,   114, 10365,  2915,   105,  3119,   134,\n",
      "         59748,   105,   454,   151, 14595,  1857, 14307,   420, 28951,   107,\n",
      "         52635,   116,  2717,  2497,   105, 24250,  2997,   118,  3225,   718,\n",
      "          2604, 33102,   110,   116, 15398,   146, 35670, 17838, 55347, 34713,\n",
      "         15489,  7215, 18648, 80618, 24250,   142, 27727, 20534,   220,  1449,\n",
      "           454, 13035, 79895,   772,   718,   110,  7655,   116,  8357,  5311,\n",
      "          5139,  3119, 11982,   326,   110,   105, 60148,  6581, 55632, 18089,\n",
      "           108,   114,  1024,  3106,  9293,  7258, 18527,   252, 20209,  3275,\n",
      "         77075,  9293, 18648,   110, 46719, 87345,   107, 57244, 44872,   116,\n",
      "         10018,   497, 15489, 18648, 80618, 24250, 32557, 15489,  3119,   115,\n",
      "         10956, 27309,   105,   454,   108, 14595,  1857, 14307,   420, 28951,\n",
      "          7258,   114, 17726, 44892,   114,  3119,  2717,  2497,   105,  2558,\n",
      "         16900,   143,   772, 39384,   304,   312,  9293,  7258,   213,  2497,\n",
      "          2997,  9345, 55632, 18089, 18791, 24341,  5371,  1662, 13622, 92047,\n",
      "          2915, 18648,   110, 55555,  9801, 20503,  5209,  2997,  9344,  6520,\n",
      "          2700, 32245, 27137, 10324,   107, 13446, 46416,   108, 14595,  1857,\n",
      "         14307,   420, 28951,   220,  1601,  3119,   110,   105, 20802,  5728,\n",
      "          2997, 95685,   107,  1825,   178, 10830,   108,   185, 24740, 20765,\n",
      "         56485,  1858, 35406, 12009,  2278,  6186,  5209,  1229,   490, 32737,\n",
      "          3347,  9293,   110,   772,   440, 34713,   215,   208, 13426, 83536,\n",
      "          1596, 25637,   497,   718, 36295,   860, 50698, 39608,  2894, 25206,\n",
      "         31864, 10104, 45284,   108,   115, 21418,   105, 32346,   718,  7364,\n",
      "           107,   202, 70539, 19920,   105,   454,   108,  7258,  3626,   454,\n",
      "          2700, 11522,  3106, 28682,  3106,   110, 29621,   261,   151,  5522,\n",
      "         14595, 74234,  3106,  5209,   110, 31815,   116, 28806,   772,   114,\n",
      "          3119,   114,  9885, 20268,   105,   454,  6581,  5807,  2997,  9345,\n",
      "         15319,   420,  6770,   108, 20765,   116,  2717,  2497,   105, 24250,\n",
      "           110, 46695,   105,  1321,  5929,  1483,  8357,   920, 49409, 12135,\n",
      "          2700, 13489,   554,   718, 24908, 10848,   304,  6114, 33743, 52679,\n",
      "         35062, 22208,  6581, 78304,   304,   115, 21418,  6045,   105,   838,\n",
      "         13230,   185,   386, 60533,  1577,  2726,  4561, 10507,  2997, 51556,\n",
      "           216, 15972,  1601, 14595,   185, 24103, 12555,   105, 17106,  3106,\n",
      "          2894,  9293, 10459, 44680, 33959, 44555,  9345,  4567,  5209,  9345,\n",
      "         10537,   718,   112, 17499, 14595, 45439,   105, 29776,  3106, 87170,\n",
      "           116,   108,  9293,  1601,  6114,   105, 28712,  3106,  8357, 23853,\n",
      "         15213,   108, 52679, 95527,  8357, 37347,  5139,   107,   781, 32799,\n",
      "         32600, 51556,   216, 26971, 14595,   185, 18324,   551,   105,  2073,\n",
      "         13178,   116,  2894, 73861, 92024,   116,  2997,  6595,  2915,  5209,\n",
      "           860, 16657, 48830, 14595, 15115,   105,  6317,  3106,   108, 73584,\n",
      "         18405, 11434, 22681, 48117,   116,   110, 29621,   261,  9293,  1787,\n",
      "         33823,   114,   110, 28865, 11876,  2653,   105,   116, 44570, 24378,\n",
      "         10993,   108, 18648, 50266, 21158,   110, 55555,  9801, 20503,   185,\n",
      "         10997, 45770,   116,   710,   772,   227,  4429,   110, 55555,  9801,\n",
      "         20503,   185,  4618, 14313,   105, 20191,   116,  2894,  9293, 14108,\n",
      "          1227,  3119, 95753,   105,   454,   114,   110, 55555,  9801, 20503,\n",
      "          5311, 55347,   116,   718, 22403, 12080,   107,   185,  1005,   116,\n",
      "         32557, 56306, 21638,   112,  3347,  9345,   110,   105, 25682,  5209,\n",
      "           108,  5355,   110,   116, 69537,   108,  7447,   105,  2915,  2700,\n",
      "           115, 23281,   490, 10018,   497, 32557,  1917, 33773, 11402,   143,\n",
      "         18316,     1]]), 'attention_mask': tensor([[1, 1, 1, 1, 1, 1, 1, 1, 1, 1, 1, 1, 1, 1, 1, 1, 1, 1, 1, 1, 1, 1, 1, 1,\n",
      "         1, 1, 1, 1, 1, 1, 1, 1, 1, 1, 1, 1, 1, 1, 1, 1, 1, 1, 1, 1, 1, 1, 1, 1,\n",
      "         1, 1, 1, 1, 1, 1, 1, 1, 1, 1, 1, 1, 1, 1, 1, 1, 1, 1, 1, 1, 1, 1, 1, 1,\n",
      "         1, 1, 1, 1, 1, 1, 1, 1, 1, 1, 1, 1, 1, 1, 1, 1, 1, 1, 1, 1, 1, 1, 1, 1,\n",
      "         1, 1, 1, 1, 1, 1, 1, 1, 1, 1, 1, 1, 1, 1, 1, 1, 1, 1, 1, 1, 1, 1, 1, 1,\n",
      "         1, 1, 1, 1, 1, 1, 1, 1, 1, 1, 1, 1, 1, 1, 1, 1, 1, 1, 1, 1, 1, 1, 1, 1,\n",
      "         1, 1, 1, 1, 1, 1, 1, 1, 1, 1, 1, 1, 1, 1, 1, 1, 1, 1, 1, 1, 1, 1, 1, 1,\n",
      "         1, 1, 1, 1, 1, 1, 1, 1, 1, 1, 1, 1, 1, 1, 1, 1, 1, 1, 1, 1, 1, 1, 1, 1,\n",
      "         1, 1, 1, 1, 1, 1, 1, 1, 1, 1, 1, 1, 1, 1, 1, 1, 1, 1, 1, 1, 1, 1, 1, 1,\n",
      "         1, 1, 1, 1, 1, 1, 1, 1, 1, 1, 1, 1, 1, 1, 1, 1, 1, 1, 1, 1, 1, 1, 1, 1,\n",
      "         1, 1, 1, 1, 1, 1, 1, 1, 1, 1, 1, 1, 1, 1, 1, 1, 1, 1, 1, 1, 1, 1, 1, 1,\n",
      "         1, 1, 1, 1, 1, 1, 1, 1, 1, 1, 1, 1, 1, 1, 1, 1, 1, 1, 1, 1, 1, 1, 1, 1,\n",
      "         1, 1, 1, 1, 1, 1, 1, 1, 1, 1, 1, 1, 1, 1, 1, 1, 1, 1, 1, 1, 1, 1, 1, 1,\n",
      "         1, 1, 1, 1, 1, 1, 1, 1, 1, 1, 1, 1, 1, 1, 1, 1, 1, 1, 1, 1, 1, 1, 1, 1,\n",
      "         1, 1, 1, 1, 1, 1, 1, 1, 1, 1, 1, 1, 1, 1, 1, 1, 1, 1, 1, 1, 1, 1, 1, 1,\n",
      "         1, 1, 1, 1, 1, 1, 1, 1, 1, 1, 1, 1, 1, 1, 1, 1, 1, 1, 1, 1, 1, 1, 1, 1,\n",
      "         1, 1, 1, 1, 1, 1, 1, 1, 1, 1, 1, 1, 1, 1, 1, 1, 1, 1, 1, 1, 1, 1, 1, 1,\n",
      "         1, 1, 1, 1, 1, 1, 1, 1, 1, 1, 1, 1, 1, 1, 1, 1, 1, 1, 1, 1, 1, 1, 1, 1,\n",
      "         1, 1, 1, 1, 1, 1, 1, 1, 1, 1, 1, 1, 1, 1, 1, 1, 1, 1, 1, 1, 1, 1, 1, 1,\n",
      "         1, 1, 1, 1, 1, 1, 1, 1, 1, 1, 1, 1, 1, 1, 1, 1, 1, 1, 1, 1, 1, 1, 1, 1,\n",
      "         1, 1, 1, 1, 1, 1, 1, 1, 1, 1, 1, 1, 1, 1, 1, 1, 1, 1, 1, 1, 1, 1, 1, 1,\n",
      "         1, 1, 1, 1, 1, 1, 1, 1]])}\n",
      "{'input_ids': tensor([[ 3130,  2958, 29170,   718, 85564,   108, 87154,   597, 38847, 19153,\n",
      "           108,  4259, 21809,  5877,   105,  9293,  9345,  8895,   718, 12955,\n",
      "         41804,   772,  9293,  1916, 34713,  7258,   110, 45365, 42868, 56057,\n",
      "          2241, 92024,   116,  5209,  2997,  3119,  3261, 30712,   718, 58013,\n",
      "           252, 30550,   222, 23847, 23249,   116,   143, 17261,   187,   158,\n",
      "          1601, 38365,  9293,   220, 14828,   105,   454, 80618, 42430,   116,\n",
      "          4429,  4760, 76476,   454, 20765,   171, 14411, 36154,  9345, 55632,\n",
      "         18089,   143,  7768, 44078, 77761,   107,   185,  1005,   116,   497,\n",
      "           220, 76476,  9293, 10411,  5355,  2500,   772,   108,   110, 53263,\n",
      "          5355,   860, 20534, 31298,   110, 41804,   105, 80496,   107,  1946,\n",
      "         80618,   454, 19920,   105,   454, 36154,  3119,  4585, 44078, 11545,\n",
      "           108,   110, 22985,   497,  5355, 18648, 44717, 21158,   718,  1133,\n",
      "         13683,  6670,   105,   454,   108,  1601,  9345,   114, 33882,  2653,\n",
      "           105,   116,   356,   326,  9293,  2069, 62089,  8357,  2997, 87052,\n",
      "         12135,  3119,   891,   526, 23722,  2894,   167,   116, 10334,  8158,\n",
      "          3119,  2253, 57237,   252,   108, 40448, 12045,  9345,  3119, 16091,\n",
      "         66759,  6581,   342,  1804,   718,   110, 70377, 25105, 37707,  9345,\n",
      "         55632, 18089,  9293,  3119, 16091,   105,  9345, 11504,  6128, 83536,\n",
      "          9345, 52635, 20154, 16749, 30517,  9703,   144, 43659,   108,  2997,\n",
      "           654,   326, 20761, 39703,   107, 27563,   554,   114,  3119,   110,\n",
      "         48661,  5678, 30712,   718, 18648, 49964,   551, 59730,   718, 17599,\n",
      "           718,   114,   105,   554,  5209,  3119,  1133, 10823,   768, 19920,\n",
      "           105,   454,   718, 20765, 33773, 11402, 23899, 49374,   110,  7078,\n",
      "          6581,  4585, 44078, 11545,   108, 51906, 32557,   110, 10823, 68910,\n",
      "           105,  2997,  9345, 21781,  9345,  2958, 29170,   597, 38847, 19153,\n",
      "          2997, 13243, 10629,   105,  9293,   185, 20503, 56868,   116,   718,\n",
      "         27107, 21276,  5209,   202,   105,   554, 65515, 21272,   105,   454,\n",
      "          1596,   356,   326,   920,   497,  8357,  9345, 94466,   446,  1858,\n",
      "          8441,  2997,  9345,  9293,   112, 17499,   718,  3046, 16364,   130,\n",
      "         19231,   551,  3119, 63079, 70879, 21276,   718, 13902,  3119, 71444,\n",
      "           718,   118,  3225,   819,  5209,  1229, 29244, 13313,  1577, 16347,\n",
      "         14828,   554,   108,   597, 38847, 19153, 63768,   105, 15319, 31276,\n",
      "          5139,  5355,  3119, 80618,   454, 19920,   105,   454, 36154,  9345,\n",
      "          4585, 44078, 11545,  5209,   920,  1897, 21711, 18648, 44717, 21158,\n",
      "           718,  1133, 13683,  6670,   105,   454, 32557,  9345,   214,   554,\n",
      "           718, 30222,  5046, 11403,   108,  9345,  8240,  9581,  6670, 66759,\n",
      "          3068,   105,   116, 13230,   108,   729,   144, 19667, 14595, 13529,\n",
      "           772, 10591,  4935, 30550,  5209, 50686, 70694, 18648, 14697,   772,\n",
      "           525,   772,   107,  5522,  4429, 10091,  1171,   554,   108,  9345,\n",
      "         50162,   718, 85564,  1093,   105,  9293,  4957,   105, 10182,  1561,\n",
      "           105,  9345, 50534,   718, 13035, 14750, 24524,  6670,   105,   454,\n",
      "         93810, 23249, 80618, 42430,  5355,   171,   116,   171, 14411, 32557,\n",
      "           711, 10327,  6581,   115,  5153,   116,  1431, 29857, 79292,   110,\n",
      "         89526,  9293,   440, 70202, 18648,   110, 57104, 32397,   718, 26449,\n",
      "         11417,  2997,   110, 43813,   920, 11776,   105,   454,  6581, 12955,\n",
      "           105,   116,   107,   714,   105,  1483,   134,   551,   105,   116,\n",
      "           108,  9345,  2958, 29170,   597, 38847, 19153,  4478,   105,  9293,\n",
      "          2997, 14595,   110,   105, 84585,   116,   213, 23343,  1596,   916,\n",
      "           718,   377, 21302, 28552, 16903, 12153,  3106,   220, 80618, 44872,\n",
      "           116,  1251,   326, 54855,   661,   114,  9073, 16363,  6581,  4585,\n",
      "         44078, 11545,   107,   185, 13037, 14595,   110,   105, 84585,   116,\n",
      "           213,     1]]), 'attention_mask': tensor([[1, 1, 1, 1, 1, 1, 1, 1, 1, 1, 1, 1, 1, 1, 1, 1, 1, 1, 1, 1, 1, 1, 1, 1,\n",
      "         1, 1, 1, 1, 1, 1, 1, 1, 1, 1, 1, 1, 1, 1, 1, 1, 1, 1, 1, 1, 1, 1, 1, 1,\n",
      "         1, 1, 1, 1, 1, 1, 1, 1, 1, 1, 1, 1, 1, 1, 1, 1, 1, 1, 1, 1, 1, 1, 1, 1,\n",
      "         1, 1, 1, 1, 1, 1, 1, 1, 1, 1, 1, 1, 1, 1, 1, 1, 1, 1, 1, 1, 1, 1, 1, 1,\n",
      "         1, 1, 1, 1, 1, 1, 1, 1, 1, 1, 1, 1, 1, 1, 1, 1, 1, 1, 1, 1, 1, 1, 1, 1,\n",
      "         1, 1, 1, 1, 1, 1, 1, 1, 1, 1, 1, 1, 1, 1, 1, 1, 1, 1, 1, 1, 1, 1, 1, 1,\n",
      "         1, 1, 1, 1, 1, 1, 1, 1, 1, 1, 1, 1, 1, 1, 1, 1, 1, 1, 1, 1, 1, 1, 1, 1,\n",
      "         1, 1, 1, 1, 1, 1, 1, 1, 1, 1, 1, 1, 1, 1, 1, 1, 1, 1, 1, 1, 1, 1, 1, 1,\n",
      "         1, 1, 1, 1, 1, 1, 1, 1, 1, 1, 1, 1, 1, 1, 1, 1, 1, 1, 1, 1, 1, 1, 1, 1,\n",
      "         1, 1, 1, 1, 1, 1, 1, 1, 1, 1, 1, 1, 1, 1, 1, 1, 1, 1, 1, 1, 1, 1, 1, 1,\n",
      "         1, 1, 1, 1, 1, 1, 1, 1, 1, 1, 1, 1, 1, 1, 1, 1, 1, 1, 1, 1, 1, 1, 1, 1,\n",
      "         1, 1, 1, 1, 1, 1, 1, 1, 1, 1, 1, 1, 1, 1, 1, 1, 1, 1, 1, 1, 1, 1, 1, 1,\n",
      "         1, 1, 1, 1, 1, 1, 1, 1, 1, 1, 1, 1, 1, 1, 1, 1, 1, 1, 1, 1, 1, 1, 1, 1,\n",
      "         1, 1, 1, 1, 1, 1, 1, 1, 1, 1, 1, 1, 1, 1, 1, 1, 1, 1, 1, 1, 1, 1, 1, 1,\n",
      "         1, 1, 1, 1, 1, 1, 1, 1, 1, 1, 1, 1, 1, 1, 1, 1, 1, 1, 1, 1, 1, 1, 1, 1,\n",
      "         1, 1, 1, 1, 1, 1, 1, 1, 1, 1, 1, 1, 1, 1, 1, 1, 1, 1, 1, 1, 1, 1, 1, 1,\n",
      "         1, 1, 1, 1, 1, 1, 1, 1, 1, 1, 1, 1, 1, 1, 1, 1, 1, 1, 1, 1, 1, 1, 1, 1,\n",
      "         1, 1, 1, 1, 1, 1, 1, 1, 1, 1, 1, 1, 1, 1, 1, 1, 1, 1, 1, 1, 1, 1, 1, 1,\n",
      "         1, 1, 1, 1, 1, 1, 1, 1, 1, 1, 1, 1, 1, 1, 1, 1, 1, 1, 1, 1, 1, 1, 1, 1,\n",
      "         1, 1, 1, 1, 1, 1, 1, 1, 1, 1, 1, 1, 1, 1, 1, 1, 1, 1, 1, 1, 1, 1, 1, 1,\n",
      "         1, 1, 1, 1, 1, 1, 1, 1, 1, 1, 1, 1, 1, 1, 1, 1, 1, 1, 1, 1, 1, 1, 1, 1,\n",
      "         1, 1, 1, 1, 1, 1, 1, 1]])}\n",
      "{'input_ids': tensor([[ 3130,   110, 41532, 65115,  1857, 31420, 12637,  8886, 87722, 10327,\n",
      "          2997,  3119,   891,   526, 23722,  6581, 55632, 18089, 49809,  8357,\n",
      "           118, 24034, 15972,  4464,   108,  5355,  5425,   105,   144, 34261,\n",
      "          8240, 19811, 66871,   116,  9293,  7258, 33102,   110, 75340, 10327,\n",
      "          2997, 18648,   110, 43609,   772,   718, 48670, 25967,   116,  3834,\n",
      "           105,  6123,   772,   718,  5440,  2534,   216,  6969,  5209, 16648,\n",
      "          5878, 15398, 81552,  6284,   110, 85488,  1114,  2997, 18648,  1108,\n",
      "           772,   525,   772,   107,  2604, 12858,  9293, 67117,  6670,   105,\n",
      "         21272,  3119,   142,  5371, 23839, 16237,   115,   261, 10507,   105,\n",
      "         19438,   718,  2700, 11522,  3106, 14750, 28680,   108,   114, 31815,\n",
      "         16648, 25478, 45803,  9293, 14828,   105,   454, 95091, 17499,  2997,\n",
      "         12955,   105, 23343,   718,   112, 17499, 14595, 10156,   772,   108,\n",
      "           110, 43813,  3138,   105,   304,  2653,   105,   116,  8695,   772,\n",
      "           108,  2653,   105,   116,  8148,  3106,   107, 29283,  8255,  1483,\n",
      "          1601, 30222, 13313,   116,   108, 41129,  3834,   105,  6123,   772,\n",
      "         28910, 57915,   116,   114, 29621,  1121, 15489,  3119, 73584,   144,\n",
      "          6121,   718, 50561, 41113, 21272,  4429,   220, 21272, 80618, 44872,\n",
      "           116,   108, 41129, 93231, 55074,  2653,   105,   116,   110, 69980,\n",
      "         18284,   116, 76476,   454,  2294,   105,   454, 46339,   116,  5355,\n",
      "          9345, 68882,   554,  5209,  2997,  2700, 11522,  1483,  1322,   772,\n",
      "          2700, 22291, 32397,   233,   363,   554,  3119,  2107,   105,   304,\n",
      "           121, 13035,   641, 13692,  3834, 16355,   105,   115, 56944,   554,\n",
      "           110, 46120,  9293, 18648, 80618, 24250, 36154,  9345,  4585, 44078,\n",
      "         11545,   107,   398,   105, 24311,  3119,   891, 61726, 40797, 33762,\n",
      "         19920,   105,   454,   718, 14595,  1857, 31420, 12637,  2997,  9345,\n",
      "           110, 64315,   107,  1946,  2653,   105,   116, 17838, 55347, 14451,\n",
      "         19920,   105,   454,  1857, 31420, 12637,   110, 10823, 68910,   105,\n",
      "          2997, 81041, 43923, 22186,   108,  9345, 19043,   326,   261,   116,\n",
      "          9293, 20283,   105,  2700,  6388,   316,   490,   718,   296, 21302,\n",
      "         38365,  7258,  5355, 33285, 49138,  2997,  3119,  1863,  8357,  8255,\n",
      "          2915, 36154,  3119, 80618,   454, 19920,   105,   454,  9345,  7994,\n",
      "          5196,  3138,   105,   304,  9293, 18648,  2253, 20900, 33227,  4480,\n",
      "         49138,  3119,   110, 15728, 79277,   718,  3119, 11982,   326,   110,\n",
      "           105, 60148,   107,  6334,   110,   116, 15398,  9345, 10057, 54817,\n",
      "           304,  5285, 43327,  6046,  9345, 87719,  5153,  2497,   114,  3119,\n",
      "         12478,   304,   108,   920,  1572, 24764,   105, 18648,   443,   772,\n",
      "          6581,   110, 81491,   148,  3220,  9345,  7978,  1191, 36288, 16389,\n",
      "         18405,  3119, 16648, 50709,  6670,   105,   454,   114, 80618,   454,\n",
      "         59948,  2997, 14595, 29857, 79292,   116,   272,  2534, 13467,   471,\n",
      "           554,  5355,  9345,   891,   105, 33969,  1572, 15489,  7215,   114,\n",
      "         25077,  1321, 36154, 13035, 73584,   144,  6121,   107,   185,  1667,\n",
      "           112, 29635,  7994, 73584,   144, 33227, 19226,  7994,  7249, 41453,\n",
      "           116,   227,  7258, 15782,   105,   304,  7189,   420,  2997, 20765,\n",
      "          2712, 23425,   304,   718,  3119, 14451, 19920,   105,   454,   108,\n",
      "          2997,  3119,  9293,  7936, 12196,   110,   267, 16183,  6008, 30222,\n",
      "          5046, 11403,  5209, 30980,   105,  5355,  3119,   130,  2687, 31298,\n",
      "           718,  1596,   110, 34208,  6770,   718, 49800, 36974,   107,  4600,\n",
      "          2253, 20900, 33227, 19855,  9022, 46928, 33102,  4478, 10327,  9293,\n",
      "          1596,  8895,   718,  3119, 14750, 24524,  6670,   105,   454, 10182,\n",
      "          8886,   110,   116, 15398, 80618, 42430,   107,  8784, 81041, 43923,\n",
      "         22186, 76476,  2997, 42685,   146,   304,  9345,  6114,   105,   144,\n",
      "         24130,     1]]), 'attention_mask': tensor([[1, 1, 1, 1, 1, 1, 1, 1, 1, 1, 1, 1, 1, 1, 1, 1, 1, 1, 1, 1, 1, 1, 1, 1,\n",
      "         1, 1, 1, 1, 1, 1, 1, 1, 1, 1, 1, 1, 1, 1, 1, 1, 1, 1, 1, 1, 1, 1, 1, 1,\n",
      "         1, 1, 1, 1, 1, 1, 1, 1, 1, 1, 1, 1, 1, 1, 1, 1, 1, 1, 1, 1, 1, 1, 1, 1,\n",
      "         1, 1, 1, 1, 1, 1, 1, 1, 1, 1, 1, 1, 1, 1, 1, 1, 1, 1, 1, 1, 1, 1, 1, 1,\n",
      "         1, 1, 1, 1, 1, 1, 1, 1, 1, 1, 1, 1, 1, 1, 1, 1, 1, 1, 1, 1, 1, 1, 1, 1,\n",
      "         1, 1, 1, 1, 1, 1, 1, 1, 1, 1, 1, 1, 1, 1, 1, 1, 1, 1, 1, 1, 1, 1, 1, 1,\n",
      "         1, 1, 1, 1, 1, 1, 1, 1, 1, 1, 1, 1, 1, 1, 1, 1, 1, 1, 1, 1, 1, 1, 1, 1,\n",
      "         1, 1, 1, 1, 1, 1, 1, 1, 1, 1, 1, 1, 1, 1, 1, 1, 1, 1, 1, 1, 1, 1, 1, 1,\n",
      "         1, 1, 1, 1, 1, 1, 1, 1, 1, 1, 1, 1, 1, 1, 1, 1, 1, 1, 1, 1, 1, 1, 1, 1,\n",
      "         1, 1, 1, 1, 1, 1, 1, 1, 1, 1, 1, 1, 1, 1, 1, 1, 1, 1, 1, 1, 1, 1, 1, 1,\n",
      "         1, 1, 1, 1, 1, 1, 1, 1, 1, 1, 1, 1, 1, 1, 1, 1, 1, 1, 1, 1, 1, 1, 1, 1,\n",
      "         1, 1, 1, 1, 1, 1, 1, 1, 1, 1, 1, 1, 1, 1, 1, 1, 1, 1, 1, 1, 1, 1, 1, 1,\n",
      "         1, 1, 1, 1, 1, 1, 1, 1, 1, 1, 1, 1, 1, 1, 1, 1, 1, 1, 1, 1, 1, 1, 1, 1,\n",
      "         1, 1, 1, 1, 1, 1, 1, 1, 1, 1, 1, 1, 1, 1, 1, 1, 1, 1, 1, 1, 1, 1, 1, 1,\n",
      "         1, 1, 1, 1, 1, 1, 1, 1, 1, 1, 1, 1, 1, 1, 1, 1, 1, 1, 1, 1, 1, 1, 1, 1,\n",
      "         1, 1, 1, 1, 1, 1, 1, 1, 1, 1, 1, 1, 1, 1, 1, 1, 1, 1, 1, 1, 1, 1, 1, 1,\n",
      "         1, 1, 1, 1, 1, 1, 1, 1, 1, 1, 1, 1, 1, 1, 1, 1, 1, 1, 1, 1, 1, 1, 1, 1,\n",
      "         1, 1, 1, 1, 1, 1, 1, 1, 1, 1, 1, 1, 1, 1, 1, 1, 1, 1, 1, 1, 1, 1, 1, 1,\n",
      "         1, 1, 1, 1, 1, 1, 1, 1, 1, 1, 1, 1, 1, 1, 1, 1, 1, 1, 1, 1, 1, 1, 1, 1,\n",
      "         1, 1, 1, 1, 1, 1, 1, 1, 1, 1, 1, 1, 1, 1, 1, 1, 1, 1, 1, 1, 1, 1, 1, 1,\n",
      "         1, 1, 1, 1, 1, 1, 1, 1, 1, 1, 1, 1, 1, 1, 1, 1, 1, 1, 1, 1, 1, 1, 1, 1,\n",
      "         1, 1, 1, 1, 1, 1, 1, 1]])}\n",
      "Wall time: 5min 37s\n",
      "Parser   : 143 ms\n"
     ]
    },
    {
     "name": "stderr",
     "output_type": "stream",
     "text": [
      "<timed exec>:8: SettingWithCopyWarning: \n",
      "A value is trying to be set on a copy of a slice from a DataFrame.\n",
      "Try using .loc[row_indexer,col_indexer] = value instead\n",
      "\n",
      "See the caveats in the documentation: https://pandas.pydata.org/pandas-docs/stable/user_guide/indexing.html#returning-a-view-versus-a-copy\n"
     ]
    },
    {
     "data": {
      "text/html": [
       "<div>\n",
       "<style scoped>\n",
       "    .dataframe tbody tr th:only-of-type {\n",
       "        vertical-align: middle;\n",
       "    }\n",
       "\n",
       "    .dataframe tbody tr th {\n",
       "        vertical-align: top;\n",
       "    }\n",
       "\n",
       "    .dataframe thead th {\n",
       "        text-align: right;\n",
       "    }\n",
       "</style>\n",
       "<table border=\"1\" class=\"dataframe\">\n",
       "  <thead>\n",
       "    <tr style=\"text-align: right;\">\n",
       "      <th></th>\n",
       "      <th>dia</th>\n",
       "      <th>tipo</th>\n",
       "      <th>titulo</th>\n",
       "      <th>contenido</th>\n",
       "      <th>tamanio</th>\n",
       "      <th>resumen_pegaus</th>\n",
       "      <th>resumen_bert</th>\n",
       "      <th>resumen_gtp_2</th>\n",
       "    </tr>\n",
       "  </thead>\n",
       "  <tbody>\n",
       "    <tr>\n",
       "      <th>307</th>\n",
       "      <td>2021-12-18</td>\n",
       "      <td>original</td>\n",
       "      <td>premier-league-pep-guardiola-dio-negativo-tras...</td>\n",
       "      <td>La Premier League está atravesando por una cri...</td>\n",
       "      <td>426</td>\n",
       "      <td>el técnico de los ‘ciudadanos’ abandonarse el ...</td>\n",
       "      <td>La Premier League está atravesando por una cri...</td>\n",
       "      <td>La Premier League está atravesando por una cri...</td>\n",
       "    </tr>\n",
       "    <tr>\n",
       "      <th>306</th>\n",
       "      <td>2021-12-18</td>\n",
       "      <td>original</td>\n",
       "      <td>omicron-las-preguntas-mas-frecuentes-sobre-la-...</td>\n",
       "      <td>Ómicron es una variante del coronavirus detect...</td>\n",
       "      <td>538</td>\n",
       "      <td>micron es una variante del coronavirus detecta...</td>\n",
       "      <td>Ómicron es una variante del coronavirus detect...</td>\n",
       "      <td>Ómicron es una variante del coronavirus detect...</td>\n",
       "    </tr>\n",
       "    <tr>\n",
       "      <th>305</th>\n",
       "      <td>2021-12-18</td>\n",
       "      <td>original</td>\n",
       "      <td>omicron-como-responde-nuestro-sistema-inmunolo...</td>\n",
       "      <td>En la lucha contra el coronavirus, un componen...</td>\n",
       "      <td>1130</td>\n",
       "      <td>en la lucha contra el coronavirus, un componen...</td>\n",
       "      <td>En la lucha contra el coronavirus, un componen...</td>\n",
       "      <td>En la lucha contra el coronavirus, un componen...</td>\n",
       "    </tr>\n",
       "    <tr>\n",
       "      <th>304</th>\n",
       "      <td>2021-12-18</td>\n",
       "      <td>original</td>\n",
       "      <td>minsa-advierte-que-90-de-pacientes-hospitaliza...</td>\n",
       "      <td>El ministro de Salud, Hernando Cevallos, advir...</td>\n",
       "      <td>374</td>\n",
       "      <td>el ministro de Salud, Hernando Cevallos, advir...</td>\n",
       "      <td>El ministro de Salud, Hernando Cevallos, advir...</td>\n",
       "      <td>El ministro de Salud, Hernando Cevallos, advir...</td>\n",
       "    </tr>\n",
       "    <tr>\n",
       "      <th>308</th>\n",
       "      <td>2021-12-18</td>\n",
       "      <td>original</td>\n",
       "      <td>resumen-2021-negacionistas-asi-va-la-situacion...</td>\n",
       "      <td>El movimiento antivacuna ha encontrado en la p...</td>\n",
       "      <td>1035</td>\n",
       "      <td>el movimiento antivacuna ha encontrado en la p...</td>\n",
       "      <td>El movimiento antivacuna ha encontrado en la p...</td>\n",
       "      <td>El movimiento antivacuna ha encontrado en la p...</td>\n",
       "    </tr>\n",
       "  </tbody>\n",
       "</table>\n",
       "</div>"
      ],
      "text/plain": [
       "           dia      tipo                                             titulo  \\\n",
       "307 2021-12-18  original  premier-league-pep-guardiola-dio-negativo-tras...   \n",
       "306 2021-12-18  original  omicron-las-preguntas-mas-frecuentes-sobre-la-...   \n",
       "305 2021-12-18  original  omicron-como-responde-nuestro-sistema-inmunolo...   \n",
       "304 2021-12-18  original  minsa-advierte-que-90-de-pacientes-hospitaliza...   \n",
       "308 2021-12-18  original  resumen-2021-negacionistas-asi-va-la-situacion...   \n",
       "\n",
       "                                             contenido  tamanio  \\\n",
       "307  La Premier League está atravesando por una cri...      426   \n",
       "306  Ómicron es una variante del coronavirus detect...      538   \n",
       "305  En la lucha contra el coronavirus, un componen...     1130   \n",
       "304  El ministro de Salud, Hernando Cevallos, advir...      374   \n",
       "308  El movimiento antivacuna ha encontrado en la p...     1035   \n",
       "\n",
       "                                        resumen_pegaus  \\\n",
       "307  el técnico de los ‘ciudadanos’ abandonarse el ...   \n",
       "306  micron es una variante del coronavirus detecta...   \n",
       "305  en la lucha contra el coronavirus, un componen...   \n",
       "304  el ministro de Salud, Hernando Cevallos, advir...   \n",
       "308  el movimiento antivacuna ha encontrado en la p...   \n",
       "\n",
       "                                          resumen_bert  \\\n",
       "307  La Premier League está atravesando por una cri...   \n",
       "306  Ómicron es una variante del coronavirus detect...   \n",
       "305  En la lucha contra el coronavirus, un componen...   \n",
       "304  El ministro de Salud, Hernando Cevallos, advir...   \n",
       "308  El movimiento antivacuna ha encontrado en la p...   \n",
       "\n",
       "                                         resumen_gtp_2  \n",
       "307  La Premier League está atravesando por una cri...  \n",
       "306  Ómicron es una variante del coronavirus detect...  \n",
       "305  En la lucha contra el coronavirus, un componen...  \n",
       "304  El ministro de Salud, Hernando Cevallos, advir...  \n",
       "308  El movimiento antivacuna ha encontrado en la p...  "
      ]
     },
     "execution_count": 55,
     "metadata": {},
     "output_type": "execute_result"
    }
   ],
   "source": [
    "%%time\n",
    "\n",
    "def get_resumen_pegausus_ingles(texto, model):\n",
    "    batch = tokenizer.prepare_seq2seq_batch([texto], truncation=True, padding='longest', return_tensors=\"pt\").to(torch_device)\n",
    "    print(batch)\n",
    "    translated = model.generate(min_length=64, max_length=512 ,**batch)\n",
    "    tgt_text = tokenizer.batch_decode(translated, skip_special_tokens=True)\n",
    "    return tgt_text[0]\n",
    "\n",
    "ultimas_noticias['resumen_pegaus'] = ultimas_noticias['contenido'].apply(lambda _: get_resumen_pegausus_ingles(_, model_pegasus))\n",
    "ultimas_noticias.head()"
   ]
  },
  {
   "cell_type": "code",
   "execution_count": 56,
   "id": "db05b26f-421d-47e0-af78-781fcfa15698",
   "metadata": {},
   "outputs": [],
   "source": [
    "ultimas_noticias.to_csv('resumenes_ultimas_noticias_{}.csv'.format(marca_tiempo), index=False)"
   ]
  },
  {
   "cell_type": "code",
   "execution_count": null,
   "id": "c58bf4b1-0e74-4589-a10f-71573649acf5",
   "metadata": {},
   "outputs": [],
   "source": []
  },
  {
   "cell_type": "markdown",
   "id": "f94d2326-1d8b-4a40-b703-9bf65c59d43c",
   "metadata": {},
   "source": [
    "### >> BERT SUMMARIZER"
   ]
  },
  {
   "cell_type": "code",
   "execution_count": 30,
   "id": "7087c363-3430-4589-9628-460c784bc330",
   "metadata": {},
   "outputs": [
    {
     "name": "stderr",
     "output_type": "stream",
     "text": [
      "Some weights of the model checkpoint at bert-large-uncased were not used when initializing BertModel: ['cls.seq_relationship.weight', 'cls.predictions.transform.LayerNorm.weight', 'cls.predictions.bias', 'cls.predictions.transform.dense.weight', 'cls.predictions.transform.LayerNorm.bias', 'cls.seq_relationship.bias', 'cls.predictions.transform.dense.bias', 'cls.predictions.decoder.weight']\n",
      "- This IS expected if you are initializing BertModel from the checkpoint of a model trained on another task or with another architecture (e.g. initializing a BertForSequenceClassification model from a BertForPreTraining model).\n",
      "- This IS NOT expected if you are initializing BertModel from the checkpoint of a model that you expect to be exactly identical (initializing a BertForSequenceClassification model from a BertForSequenceClassification model).\n"
     ]
    }
   ],
   "source": [
    "from summarizer import Summarizer, TransformerSummarizer\n",
    "bert_model = Summarizer()"
   ]
  },
  {
   "cell_type": "code",
   "execution_count": 31,
   "id": "68d90b01-ec4b-48a6-a401-aa31c6969c07",
   "metadata": {},
   "outputs": [
    {
     "name": "stderr",
     "output_type": "stream",
     "text": [
      "<ipython-input-31-e4bf5d1cb0d7>:7: SettingWithCopyWarning: \n",
      "A value is trying to be set on a copy of a slice from a DataFrame.\n",
      "Try using .loc[row_indexer,col_indexer] = value instead\n",
      "\n",
      "See the caveats in the documentation: https://pandas.pydata.org/pandas-docs/stable/user_guide/indexing.html#returning-a-view-versus-a-copy\n",
      "  ultimas_noticias['resumen_bert'] = ultimas_noticias['contenido'].apply(get_resumen_bert)\n"
     ]
    },
    {
     "data": {
      "text/html": [
       "<div>\n",
       "<style scoped>\n",
       "    .dataframe tbody tr th:only-of-type {\n",
       "        vertical-align: middle;\n",
       "    }\n",
       "\n",
       "    .dataframe tbody tr th {\n",
       "        vertical-align: top;\n",
       "    }\n",
       "\n",
       "    .dataframe thead th {\n",
       "        text-align: right;\n",
       "    }\n",
       "</style>\n",
       "<table border=\"1\" class=\"dataframe\">\n",
       "  <thead>\n",
       "    <tr style=\"text-align: right;\">\n",
       "      <th></th>\n",
       "      <th>dia</th>\n",
       "      <th>tipo</th>\n",
       "      <th>titulo</th>\n",
       "      <th>contenido</th>\n",
       "      <th>tamanio</th>\n",
       "      <th>resumen_pegaus</th>\n",
       "      <th>resumen_bert</th>\n",
       "    </tr>\n",
       "  </thead>\n",
       "  <tbody>\n",
       "    <tr>\n",
       "      <th>307</th>\n",
       "      <td>2021-12-18</td>\n",
       "      <td>original</td>\n",
       "      <td>premier-league-pep-guardiola-dio-negativo-tras...</td>\n",
       "      <td>La Premier League está atravesando por una cri...</td>\n",
       "      <td>426</td>\n",
       "      <td>el técnico de los ‘ciudadanos’ abandonarse el ...</td>\n",
       "      <td>La Premier League está atravesando por una cri...</td>\n",
       "    </tr>\n",
       "    <tr>\n",
       "      <th>306</th>\n",
       "      <td>2021-12-18</td>\n",
       "      <td>original</td>\n",
       "      <td>omicron-las-preguntas-mas-frecuentes-sobre-la-...</td>\n",
       "      <td>Ómicron es una variante del coronavirus detect...</td>\n",
       "      <td>538</td>\n",
       "      <td>micron es una variante del coronavirus detecta...</td>\n",
       "      <td>Ómicron es una variante del coronavirus detect...</td>\n",
       "    </tr>\n",
       "    <tr>\n",
       "      <th>305</th>\n",
       "      <td>2021-12-18</td>\n",
       "      <td>original</td>\n",
       "      <td>omicron-como-responde-nuestro-sistema-inmunolo...</td>\n",
       "      <td>En la lucha contra el coronavirus, un componen...</td>\n",
       "      <td>1130</td>\n",
       "      <td>en la lucha contra el coronavirus, un componen...</td>\n",
       "      <td>En la lucha contra el coronavirus, un componen...</td>\n",
       "    </tr>\n",
       "    <tr>\n",
       "      <th>304</th>\n",
       "      <td>2021-12-18</td>\n",
       "      <td>original</td>\n",
       "      <td>minsa-advierte-que-90-de-pacientes-hospitaliza...</td>\n",
       "      <td>El ministro de Salud, Hernando Cevallos, advir...</td>\n",
       "      <td>374</td>\n",
       "      <td>el ministro de Salud, Hernando Cevallos, advir...</td>\n",
       "      <td>El ministro de Salud, Hernando Cevallos, advir...</td>\n",
       "    </tr>\n",
       "    <tr>\n",
       "      <th>308</th>\n",
       "      <td>2021-12-18</td>\n",
       "      <td>original</td>\n",
       "      <td>resumen-2021-negacionistas-asi-va-la-situacion...</td>\n",
       "      <td>El movimiento antivacuna ha encontrado en la p...</td>\n",
       "      <td>1035</td>\n",
       "      <td>el movimiento antivacuna ha encontrado en la p...</td>\n",
       "      <td>El movimiento antivacuna ha encontrado en la p...</td>\n",
       "    </tr>\n",
       "  </tbody>\n",
       "</table>\n",
       "</div>"
      ],
      "text/plain": [
       "           dia      tipo                                             titulo  \\\n",
       "307 2021-12-18  original  premier-league-pep-guardiola-dio-negativo-tras...   \n",
       "306 2021-12-18  original  omicron-las-preguntas-mas-frecuentes-sobre-la-...   \n",
       "305 2021-12-18  original  omicron-como-responde-nuestro-sistema-inmunolo...   \n",
       "304 2021-12-18  original  minsa-advierte-que-90-de-pacientes-hospitaliza...   \n",
       "308 2021-12-18  original  resumen-2021-negacionistas-asi-va-la-situacion...   \n",
       "\n",
       "                                             contenido  tamanio  \\\n",
       "307  La Premier League está atravesando por una cri...      426   \n",
       "306  Ómicron es una variante del coronavirus detect...      538   \n",
       "305  En la lucha contra el coronavirus, un componen...     1130   \n",
       "304  El ministro de Salud, Hernando Cevallos, advir...      374   \n",
       "308  El movimiento antivacuna ha encontrado en la p...     1035   \n",
       "\n",
       "                                        resumen_pegaus  \\\n",
       "307  el técnico de los ‘ciudadanos’ abandonarse el ...   \n",
       "306  micron es una variante del coronavirus detecta...   \n",
       "305  en la lucha contra el coronavirus, un componen...   \n",
       "304  el ministro de Salud, Hernando Cevallos, advir...   \n",
       "308  el movimiento antivacuna ha encontrado en la p...   \n",
       "\n",
       "                                          resumen_bert  \n",
       "307  La Premier League está atravesando por una cri...  \n",
       "306  Ómicron es una variante del coronavirus detect...  \n",
       "305  En la lucha contra el coronavirus, un componen...  \n",
       "304  El ministro de Salud, Hernando Cevallos, advir...  \n",
       "308  El movimiento antivacuna ha encontrado en la p...  "
      ]
     },
     "execution_count": 31,
     "metadata": {},
     "output_type": "execute_result"
    }
   ],
   "source": [
    "def get_resumen_bert(texto):\n",
    "    return ''.join(\n",
    "        bert_model(texto, min_length=60, max_length=1024)\n",
    "    )\n",
    "\n",
    "ultimas_noticias['resumen_bert'] = ultimas_noticias['contenido'].apply(get_resumen_bert)\n",
    "ultimas_noticias.head()"
   ]
  },
  {
   "cell_type": "code",
   "execution_count": 33,
   "id": "c1052c95-fb96-4a4d-ad4e-a6084ffd7fef",
   "metadata": {},
   "outputs": [],
   "source": [
    "ultimas_noticias.to_csv('resumenes_ultimas_noticias_{}.csv'.format(marca_tiempo), index=False)"
   ]
  },
  {
   "cell_type": "code",
   "execution_count": null,
   "id": "9fcff4bb-d3e9-4818-806d-e2207f58d211",
   "metadata": {},
   "outputs": [],
   "source": []
  },
  {
   "cell_type": "markdown",
   "id": "f44555ef-c5b1-46bb-9405-13fdbc8989bd",
   "metadata": {},
   "source": [
    "### >> GTP-2"
   ]
  },
  {
   "cell_type": "code",
   "execution_count": 34,
   "id": "dd80f763-9b6d-4148-9303-4905e0fe9714",
   "metadata": {},
   "outputs": [
    {
     "data": {
      "application/vnd.jupyter.widget-view+json": {
       "model_id": "1cab3c1a690549d2bce0f430fc7eadde",
       "version_major": 2,
       "version_minor": 0
      },
      "text/plain": [
       "HBox(children=(FloatProgress(value=0.0, description='Downloading', max=718.0, style=ProgressStyle(description_…"
      ]
     },
     "metadata": {},
     "output_type": "display_data"
    },
    {
     "name": "stdout",
     "output_type": "stream",
     "text": [
      "\n"
     ]
    },
    {
     "data": {
      "application/vnd.jupyter.widget-view+json": {
       "model_id": "35956441749349ec8eb4d4b736027394",
       "version_major": 2,
       "version_minor": 0
      },
      "text/plain": [
       "HBox(children=(FloatProgress(value=0.0, description='Downloading', max=1520013706.0, style=ProgressStyle(descr…"
      ]
     },
     "metadata": {},
     "output_type": "display_data"
    },
    {
     "name": "stdout",
     "output_type": "stream",
     "text": [
      "\n"
     ]
    },
    {
     "data": {
      "application/vnd.jupyter.widget-view+json": {
       "model_id": "fdf8e2c9d85e4a77b22be63ccea2e85c",
       "version_major": 2,
       "version_minor": 0
      },
      "text/plain": [
       "HBox(children=(FloatProgress(value=0.0, description='Downloading', max=1042301.0, style=ProgressStyle(descript…"
      ]
     },
     "metadata": {},
     "output_type": "display_data"
    },
    {
     "name": "stdout",
     "output_type": "stream",
     "text": [
      "\n"
     ]
    },
    {
     "data": {
      "application/vnd.jupyter.widget-view+json": {
       "model_id": "9651762e5658406389fc1caddea16c76",
       "version_major": 2,
       "version_minor": 0
      },
      "text/plain": [
       "HBox(children=(FloatProgress(value=0.0, description='Downloading', max=456318.0, style=ProgressStyle(descripti…"
      ]
     },
     "metadata": {},
     "output_type": "display_data"
    },
    {
     "name": "stdout",
     "output_type": "stream",
     "text": [
      "\n"
     ]
    },
    {
     "data": {
      "application/vnd.jupyter.widget-view+json": {
       "model_id": "08e17080346d414d836a65156a95b930",
       "version_major": 2,
       "version_minor": 0
      },
      "text/plain": [
       "HBox(children=(FloatProgress(value=0.0, description='Downloading', max=1355256.0, style=ProgressStyle(descript…"
      ]
     },
     "metadata": {},
     "output_type": "display_data"
    },
    {
     "name": "stdout",
     "output_type": "stream",
     "text": [
      "\n"
     ]
    },
    {
     "name": "stderr",
     "output_type": "stream",
     "text": [
      "<timed exec>:8: SettingWithCopyWarning: \n",
      "A value is trying to be set on a copy of a slice from a DataFrame.\n",
      "Try using .loc[row_indexer,col_indexer] = value instead\n",
      "\n",
      "See the caveats in the documentation: https://pandas.pydata.org/pandas-docs/stable/user_guide/indexing.html#returning-a-view-versus-a-copy\n"
     ]
    },
    {
     "name": "stdout",
     "output_type": "stream",
     "text": [
      "Wall time: 8min 28s\n"
     ]
    },
    {
     "data": {
      "text/html": [
       "<div>\n",
       "<style scoped>\n",
       "    .dataframe tbody tr th:only-of-type {\n",
       "        vertical-align: middle;\n",
       "    }\n",
       "\n",
       "    .dataframe tbody tr th {\n",
       "        vertical-align: top;\n",
       "    }\n",
       "\n",
       "    .dataframe thead th {\n",
       "        text-align: right;\n",
       "    }\n",
       "</style>\n",
       "<table border=\"1\" class=\"dataframe\">\n",
       "  <thead>\n",
       "    <tr style=\"text-align: right;\">\n",
       "      <th></th>\n",
       "      <th>dia</th>\n",
       "      <th>tipo</th>\n",
       "      <th>titulo</th>\n",
       "      <th>contenido</th>\n",
       "      <th>tamanio</th>\n",
       "      <th>resumen_pegaus</th>\n",
       "      <th>resumen_bert</th>\n",
       "      <th>resumen_gtp_2</th>\n",
       "    </tr>\n",
       "  </thead>\n",
       "  <tbody>\n",
       "    <tr>\n",
       "      <th>307</th>\n",
       "      <td>2021-12-18</td>\n",
       "      <td>original</td>\n",
       "      <td>premier-league-pep-guardiola-dio-negativo-tras...</td>\n",
       "      <td>La Premier League está atravesando por una cri...</td>\n",
       "      <td>426</td>\n",
       "      <td>el técnico de los ‘ciudadanos’ abandonarse el ...</td>\n",
       "      <td>La Premier League está atravesando por una cri...</td>\n",
       "      <td>La Premier League está atravesando por una cri...</td>\n",
       "    </tr>\n",
       "    <tr>\n",
       "      <th>306</th>\n",
       "      <td>2021-12-18</td>\n",
       "      <td>original</td>\n",
       "      <td>omicron-las-preguntas-mas-frecuentes-sobre-la-...</td>\n",
       "      <td>Ómicron es una variante del coronavirus detect...</td>\n",
       "      <td>538</td>\n",
       "      <td>micron es una variante del coronavirus detecta...</td>\n",
       "      <td>Ómicron es una variante del coronavirus detect...</td>\n",
       "      <td>Ómicron es una variante del coronavirus detect...</td>\n",
       "    </tr>\n",
       "    <tr>\n",
       "      <th>305</th>\n",
       "      <td>2021-12-18</td>\n",
       "      <td>original</td>\n",
       "      <td>omicron-como-responde-nuestro-sistema-inmunolo...</td>\n",
       "      <td>En la lucha contra el coronavirus, un componen...</td>\n",
       "      <td>1130</td>\n",
       "      <td>en la lucha contra el coronavirus, un componen...</td>\n",
       "      <td>En la lucha contra el coronavirus, un componen...</td>\n",
       "      <td>En la lucha contra el coronavirus, un componen...</td>\n",
       "    </tr>\n",
       "    <tr>\n",
       "      <th>304</th>\n",
       "      <td>2021-12-18</td>\n",
       "      <td>original</td>\n",
       "      <td>minsa-advierte-que-90-de-pacientes-hospitaliza...</td>\n",
       "      <td>El ministro de Salud, Hernando Cevallos, advir...</td>\n",
       "      <td>374</td>\n",
       "      <td>el ministro de Salud, Hernando Cevallos, advir...</td>\n",
       "      <td>El ministro de Salud, Hernando Cevallos, advir...</td>\n",
       "      <td>El ministro de Salud, Hernando Cevallos, advir...</td>\n",
       "    </tr>\n",
       "    <tr>\n",
       "      <th>308</th>\n",
       "      <td>2021-12-18</td>\n",
       "      <td>original</td>\n",
       "      <td>resumen-2021-negacionistas-asi-va-la-situacion...</td>\n",
       "      <td>El movimiento antivacuna ha encontrado en la p...</td>\n",
       "      <td>1035</td>\n",
       "      <td>el movimiento antivacuna ha encontrado en la p...</td>\n",
       "      <td>El movimiento antivacuna ha encontrado en la p...</td>\n",
       "      <td>El movimiento antivacuna ha encontrado en la p...</td>\n",
       "    </tr>\n",
       "  </tbody>\n",
       "</table>\n",
       "</div>"
      ],
      "text/plain": [
       "           dia      tipo                                             titulo  \\\n",
       "307 2021-12-18  original  premier-league-pep-guardiola-dio-negativo-tras...   \n",
       "306 2021-12-18  original  omicron-las-preguntas-mas-frecuentes-sobre-la-...   \n",
       "305 2021-12-18  original  omicron-como-responde-nuestro-sistema-inmunolo...   \n",
       "304 2021-12-18  original  minsa-advierte-que-90-de-pacientes-hospitaliza...   \n",
       "308 2021-12-18  original  resumen-2021-negacionistas-asi-va-la-situacion...   \n",
       "\n",
       "                                             contenido  tamanio  \\\n",
       "307  La Premier League está atravesando por una cri...      426   \n",
       "306  Ómicron es una variante del coronavirus detect...      538   \n",
       "305  En la lucha contra el coronavirus, un componen...     1130   \n",
       "304  El ministro de Salud, Hernando Cevallos, advir...      374   \n",
       "308  El movimiento antivacuna ha encontrado en la p...     1035   \n",
       "\n",
       "                                        resumen_pegaus  \\\n",
       "307  el técnico de los ‘ciudadanos’ abandonarse el ...   \n",
       "306  micron es una variante del coronavirus detecta...   \n",
       "305  en la lucha contra el coronavirus, un componen...   \n",
       "304  el ministro de Salud, Hernando Cevallos, advir...   \n",
       "308  el movimiento antivacuna ha encontrado en la p...   \n",
       "\n",
       "                                          resumen_bert  \\\n",
       "307  La Premier League está atravesando por una cri...   \n",
       "306  Ómicron es una variante del coronavirus detect...   \n",
       "305  En la lucha contra el coronavirus, un componen...   \n",
       "304  El ministro de Salud, Hernando Cevallos, advir...   \n",
       "308  El movimiento antivacuna ha encontrado en la p...   \n",
       "\n",
       "                                         resumen_gtp_2  \n",
       "307  La Premier League está atravesando por una cri...  \n",
       "306  Ómicron es una variante del coronavirus detect...  \n",
       "305  En la lucha contra el coronavirus, un componen...  \n",
       "304  El ministro de Salud, Hernando Cevallos, advir...  \n",
       "308  El movimiento antivacuna ha encontrado en la p...  "
      ]
     },
     "execution_count": 34,
     "metadata": {},
     "output_type": "execute_result"
    }
   ],
   "source": [
    "%%time\n",
    "\n",
    "GPT2_model = TransformerSummarizer(transformer_type=\"GPT2\", transformer_model_key=\"gpt2-medium\")\n",
    "\n",
    "def get_resumen_gtp_2(texto):\n",
    "    return ''.join(\n",
    "        GPT2_model(texto, min_length=60, max_length=1024)\n",
    "    )\n",
    "\n",
    "ultimas_noticias['resumen_gtp_2'] = ultimas_noticias['contenido'].apply(get_resumen_gtp_2)\n",
    "ultimas_noticias.head()"
   ]
  },
  {
   "cell_type": "code",
   "execution_count": 36,
   "id": "4901bf74-3c1a-4b97-b1a7-d3134e8a1080",
   "metadata": {},
   "outputs": [],
   "source": [
    "ultimas_noticias.to_csv('resumenes_ultimas_noticias_{}.csv'.format(marca_tiempo), index=False)"
   ]
  },
  {
   "cell_type": "code",
   "execution_count": null,
   "id": "2e51ea0e-2e5e-4228-9af3-c90e00e2150c",
   "metadata": {},
   "outputs": [],
   "source": []
  },
  {
   "cell_type": "markdown",
   "id": "5f15f877-5048-4cff-9279-540f03e35c7b",
   "metadata": {},
   "source": [
    "### >> MT5 SMALL "
   ]
  },
  {
   "cell_type": "code",
   "execution_count": 60,
   "id": "9ff59c72-be8f-469f-94d6-bad2ce187c05",
   "metadata": {},
   "outputs": [],
   "source": [
    "from transformers import pipeline\n",
    "summarizer_mt5_small = pipeline(\"summarization\", model=\"josmunpen/mt5-small-spanish-summarization\")#\"facebook/bart-large-cnn\")"
   ]
  },
  {
   "cell_type": "code",
   "execution_count": 63,
   "id": "df6e021c-0973-41f0-9277-8c2eacf2abf9",
   "metadata": {},
   "outputs": [
    {
     "name": "stderr",
     "output_type": "stream",
     "text": [
      "<ipython-input-63-90f84eb6ccb0>:4: SettingWithCopyWarning: \n",
      "A value is trying to be set on a copy of a slice from a DataFrame.\n",
      "Try using .loc[row_indexer,col_indexer] = value instead\n",
      "\n",
      "See the caveats in the documentation: https://pandas.pydata.org/pandas-docs/stable/user_guide/indexing.html#returning-a-view-versus-a-copy\n",
      "  ultimas_noticias['resumen_mt5_small'] = ultimas_noticias['contenido'].apply(get_resumen_mt5_small)\n"
     ]
    },
    {
     "data": {
      "text/html": [
       "<div>\n",
       "<style scoped>\n",
       "    .dataframe tbody tr th:only-of-type {\n",
       "        vertical-align: middle;\n",
       "    }\n",
       "\n",
       "    .dataframe tbody tr th {\n",
       "        vertical-align: top;\n",
       "    }\n",
       "\n",
       "    .dataframe thead th {\n",
       "        text-align: right;\n",
       "    }\n",
       "</style>\n",
       "<table border=\"1\" class=\"dataframe\">\n",
       "  <thead>\n",
       "    <tr style=\"text-align: right;\">\n",
       "      <th></th>\n",
       "      <th>dia</th>\n",
       "      <th>tipo</th>\n",
       "      <th>titulo</th>\n",
       "      <th>contenido</th>\n",
       "      <th>tamanio</th>\n",
       "      <th>resumen_pegaus</th>\n",
       "      <th>resumen_bert</th>\n",
       "      <th>resumen_gtp_2</th>\n",
       "      <th>resumen_mt5_small</th>\n",
       "    </tr>\n",
       "  </thead>\n",
       "  <tbody>\n",
       "    <tr>\n",
       "      <th>307</th>\n",
       "      <td>2021-12-18</td>\n",
       "      <td>original</td>\n",
       "      <td>premier-league-pep-guardiola-dio-negativo-tras...</td>\n",
       "      <td>La Premier League está atravesando por una cri...</td>\n",
       "      <td>426</td>\n",
       "      <td>el técnico de los ‘ciudadanos’ abandonarse el ...</td>\n",
       "      <td>La Premier League está atravesando por una cri...</td>\n",
       "      <td>La Premier League está atravesando por una cri...</td>\n",
       "      <td>la crisis de la crisis de la crisis de la cris...</td>\n",
       "    </tr>\n",
       "    <tr>\n",
       "      <th>306</th>\n",
       "      <td>2021-12-18</td>\n",
       "      <td>original</td>\n",
       "      <td>omicron-las-preguntas-mas-frecuentes-sobre-la-...</td>\n",
       "      <td>Ómicron es una variante del coronavirus detect...</td>\n",
       "      <td>538</td>\n",
       "      <td>micron es una variante del coronavirus detecta...</td>\n",
       "      <td>Ómicron es una variante del coronavirus detect...</td>\n",
       "      <td>Ómicron es una variante del coronavirus detect...</td>\n",
       "      <td>¿custituirá la variante del coronavirus? ¿qué ...</td>\n",
       "    </tr>\n",
       "    <tr>\n",
       "      <th>305</th>\n",
       "      <td>2021-12-18</td>\n",
       "      <td>original</td>\n",
       "      <td>omicron-como-responde-nuestro-sistema-inmunolo...</td>\n",
       "      <td>En la lucha contra el coronavirus, un componen...</td>\n",
       "      <td>1130</td>\n",
       "      <td>en la lucha contra el coronavirus, un componen...</td>\n",
       "      <td>En la lucha contra el coronavirus, un componen...</td>\n",
       "      <td>En la lucha contra el coronavirus, un componen...</td>\n",
       "      <td>los anticuerpos apuestan por la vía atención c...</td>\n",
       "    </tr>\n",
       "    <tr>\n",
       "      <th>304</th>\n",
       "      <td>2021-12-18</td>\n",
       "      <td>original</td>\n",
       "      <td>minsa-advierte-que-90-de-pacientes-hospitaliza...</td>\n",
       "      <td>El ministro de Salud, Hernando Cevallos, advir...</td>\n",
       "      <td>374</td>\n",
       "      <td>el ministro de Salud, Hernando Cevallos, advir...</td>\n",
       "      <td>El ministro de Salud, Hernando Cevallos, advir...</td>\n",
       "      <td>El ministro de Salud, Hernando Cevallos, advir...</td>\n",
       "      <td>el ministro de salud dice que el 90% de los ho...</td>\n",
       "    </tr>\n",
       "    <tr>\n",
       "      <th>308</th>\n",
       "      <td>2021-12-18</td>\n",
       "      <td>original</td>\n",
       "      <td>resumen-2021-negacionistas-asi-va-la-situacion...</td>\n",
       "      <td>El movimiento antivacuna ha encontrado en la p...</td>\n",
       "      <td>1035</td>\n",
       "      <td>el movimiento antivacuna ha encontrado en la p...</td>\n",
       "      <td>El movimiento antivacuna ha encontrado en la p...</td>\n",
       "      <td>El movimiento antivacuna ha encontrado en la p...</td>\n",
       "      <td>nuevas protestas antivacunas contra el coronav...</td>\n",
       "    </tr>\n",
       "  </tbody>\n",
       "</table>\n",
       "</div>"
      ],
      "text/plain": [
       "           dia      tipo                                             titulo  \\\n",
       "307 2021-12-18  original  premier-league-pep-guardiola-dio-negativo-tras...   \n",
       "306 2021-12-18  original  omicron-las-preguntas-mas-frecuentes-sobre-la-...   \n",
       "305 2021-12-18  original  omicron-como-responde-nuestro-sistema-inmunolo...   \n",
       "304 2021-12-18  original  minsa-advierte-que-90-de-pacientes-hospitaliza...   \n",
       "308 2021-12-18  original  resumen-2021-negacionistas-asi-va-la-situacion...   \n",
       "\n",
       "                                             contenido  tamanio  \\\n",
       "307  La Premier League está atravesando por una cri...      426   \n",
       "306  Ómicron es una variante del coronavirus detect...      538   \n",
       "305  En la lucha contra el coronavirus, un componen...     1130   \n",
       "304  El ministro de Salud, Hernando Cevallos, advir...      374   \n",
       "308  El movimiento antivacuna ha encontrado en la p...     1035   \n",
       "\n",
       "                                        resumen_pegaus  \\\n",
       "307  el técnico de los ‘ciudadanos’ abandonarse el ...   \n",
       "306  micron es una variante del coronavirus detecta...   \n",
       "305  en la lucha contra el coronavirus, un componen...   \n",
       "304  el ministro de Salud, Hernando Cevallos, advir...   \n",
       "308  el movimiento antivacuna ha encontrado en la p...   \n",
       "\n",
       "                                          resumen_bert  \\\n",
       "307  La Premier League está atravesando por una cri...   \n",
       "306  Ómicron es una variante del coronavirus detect...   \n",
       "305  En la lucha contra el coronavirus, un componen...   \n",
       "304  El ministro de Salud, Hernando Cevallos, advir...   \n",
       "308  El movimiento antivacuna ha encontrado en la p...   \n",
       "\n",
       "                                         resumen_gtp_2  \\\n",
       "307  La Premier League está atravesando por una cri...   \n",
       "306  Ómicron es una variante del coronavirus detect...   \n",
       "305  En la lucha contra el coronavirus, un componen...   \n",
       "304  El ministro de Salud, Hernando Cevallos, advir...   \n",
       "308  El movimiento antivacuna ha encontrado en la p...   \n",
       "\n",
       "                                     resumen_mt5_small  \n",
       "307  la crisis de la crisis de la crisis de la cris...  \n",
       "306  ¿custituirá la variante del coronavirus? ¿qué ...  \n",
       "305  los anticuerpos apuestan por la vía atención c...  \n",
       "304  el ministro de salud dice que el 90% de los ho...  \n",
       "308  nuevas protestas antivacunas contra el coronav...  "
      ]
     },
     "execution_count": 63,
     "metadata": {},
     "output_type": "execute_result"
    }
   ],
   "source": [
    "def get_resumen_mt5_small(texto):\n",
    "    return summarizer_mt5_small(texto, do_sample=False, min_length=64, max_length=512)[0].get('summary_text', '')\n",
    "\n",
    "ultimas_noticias['resumen_mt5_small'] = ultimas_noticias['contenido'].apply(get_resumen_mt5_small)\n",
    "ultimas_noticias.head()"
   ]
  },
  {
   "cell_type": "code",
   "execution_count": 64,
   "id": "33b2e4f9-0c25-49b9-b044-e9597051a34d",
   "metadata": {},
   "outputs": [],
   "source": [
    "ultimas_noticias.to_csv('resumenes_ultimas_noticias_{}.csv'.format(marca_tiempo), index=False)"
   ]
  },
  {
   "cell_type": "code",
   "execution_count": null,
   "id": "aa818d8d-ff87-410b-ab3a-c340eef658d7",
   "metadata": {},
   "outputs": [],
   "source": []
  },
  {
   "cell_type": "markdown",
   "id": "9fc62f10-2a7a-4633-a1fe-608916fe3075",
   "metadata": {},
   "source": [
    "### >> ROBERTA"
   ]
  },
  {
   "cell_type": "code",
   "execution_count": 67,
   "id": "47a3bf70-9cd8-47bc-b308-0df3a4f9a390",
   "metadata": {},
   "outputs": [
    {
     "data": {
      "application/vnd.jupyter.widget-view+json": {
       "model_id": "9f8f1c21b5734ac6999e1b8c4bc2d5c3",
       "version_major": 2,
       "version_minor": 0
      },
      "text/plain": [
       "HBox(children=(FloatProgress(value=0.0, description='Downloading', max=851290.0, style=ProgressStyle(descripti…"
      ]
     },
     "metadata": {},
     "output_type": "display_data"
    },
    {
     "name": "stdout",
     "output_type": "stream",
     "text": [
      "\n"
     ]
    },
    {
     "data": {
      "application/vnd.jupyter.widget-view+json": {
       "model_id": "34428113b48a4978816f83e8aa4c1ea7",
       "version_major": 2,
       "version_minor": 0
      },
      "text/plain": [
       "HBox(children=(FloatProgress(value=0.0, description='Downloading', max=508942.0, style=ProgressStyle(descripti…"
      ]
     },
     "metadata": {},
     "output_type": "display_data"
    },
    {
     "name": "stdout",
     "output_type": "stream",
     "text": [
      "\n"
     ]
    },
    {
     "data": {
      "application/vnd.jupyter.widget-view+json": {
       "model_id": "261dea945f3042b08d02466e7a35883f",
       "version_major": 2,
       "version_minor": 0
      },
      "text/plain": [
       "HBox(children=(FloatProgress(value=0.0, description='Downloading', max=1461378.0, style=ProgressStyle(descript…"
      ]
     },
     "metadata": {},
     "output_type": "display_data"
    },
    {
     "name": "stdout",
     "output_type": "stream",
     "text": [
      "\n"
     ]
    },
    {
     "data": {
      "application/vnd.jupyter.widget-view+json": {
       "model_id": "a2621d027aff4b6bbcfab168d1bdce5e",
       "version_major": 2,
       "version_minor": 0
      },
      "text/plain": [
       "HBox(children=(FloatProgress(value=0.0, description='Downloading', max=772.0, style=ProgressStyle(description_…"
      ]
     },
     "metadata": {},
     "output_type": "display_data"
    },
    {
     "name": "stdout",
     "output_type": "stream",
     "text": [
      "\n"
     ]
    },
    {
     "data": {
      "application/vnd.jupyter.widget-view+json": {
       "model_id": "a51e1e952fc64620907e41c5c1944f36",
       "version_major": 2,
       "version_minor": 0
      },
      "text/plain": [
       "HBox(children=(FloatProgress(value=0.0, description='Downloading', max=1121.0, style=ProgressStyle(description…"
      ]
     },
     "metadata": {},
     "output_type": "display_data"
    },
    {
     "name": "stdout",
     "output_type": "stream",
     "text": [
      "\n"
     ]
    },
    {
     "data": {
      "application/vnd.jupyter.widget-view+json": {
       "model_id": "e63c2244cfae4ba6956760d5e2e106fb",
       "version_major": 2,
       "version_minor": 0
      },
      "text/plain": [
       "HBox(children=(FloatProgress(value=0.0, description='Downloading', max=4623.0, style=ProgressStyle(description…"
      ]
     },
     "metadata": {},
     "output_type": "display_data"
    },
    {
     "name": "stdout",
     "output_type": "stream",
     "text": [
      "\n"
     ]
    },
    {
     "data": {
      "application/vnd.jupyter.widget-view+json": {
       "model_id": "8d33ff6567ad4e9aaa54475c8db89702",
       "version_major": 2,
       "version_minor": 0
      },
      "text/plain": [
       "HBox(children=(FloatProgress(value=0.0, description='Downloading', max=614798389.0, style=ProgressStyle(descri…"
      ]
     },
     "metadata": {},
     "output_type": "display_data"
    },
    {
     "name": "stdout",
     "output_type": "stream",
     "text": [
      "\n"
     ]
    },
    {
     "name": "stderr",
     "output_type": "stream",
     "text": [
      "The following encoder weights were not tied to the decoder ['roberta/pooler']\n",
      "The following encoder weights were not tied to the decoder ['roberta/pooler']\n"
     ]
    },
    {
     "name": "stdout",
     "output_type": "stream",
     "text": [
      "Wall time: 3min 12s\n"
     ]
    },
    {
     "data": {
      "text/plain": [
       "transformers.models.encoder_decoder.modeling_encoder_decoder.EncoderDecoderModel"
      ]
     },
     "execution_count": 67,
     "metadata": {},
     "output_type": "execute_result"
    }
   ],
   "source": [
    "%%time\n",
    "\n",
    "from transformers import RobertaTokenizerFast, EncoderDecoderModel\n",
    "\n",
    "ckpt = 'Narrativa/bsc_roberta2roberta_shared-spanish-finetuned-mlsum-summarization'\n",
    "tokenizer = RobertaTokenizerFast.from_pretrained(ckpt)\n",
    "model_roberta = EncoderDecoderModel.from_pretrained(ckpt).to(torch_device)\n",
    "type(model_roberta)"
   ]
  },
  {
   "cell_type": "code",
   "execution_count": 72,
   "id": "14768e6c-0ed7-498e-8807-95e1c077a8d9",
   "metadata": {},
   "outputs": [
    {
     "name": "stderr",
     "output_type": "stream",
     "text": [
      "Setting `pad_token_id` to `eos_token_id`:2 for open-end generation.\n",
      "Setting `pad_token_id` to `eos_token_id`:2 for open-end generation.\n",
      "Setting `pad_token_id` to `eos_token_id`:2 for open-end generation.\n",
      "Setting `pad_token_id` to `eos_token_id`:2 for open-end generation.\n",
      "Setting `pad_token_id` to `eos_token_id`:2 for open-end generation.\n",
      "<ipython-input-72-e7c174f2f8a8>:8: SettingWithCopyWarning: \n",
      "A value is trying to be set on a copy of a slice from a DataFrame.\n",
      "Try using .loc[row_indexer,col_indexer] = value instead\n",
      "\n",
      "See the caveats in the documentation: https://pandas.pydata.org/pandas-docs/stable/user_guide/indexing.html#returning-a-view-versus-a-copy\n",
      "  ultimas_noticias['resumen_roberta'] = ultimas_noticias['contenido'].apply(generate_summary_roberta)\n"
     ]
    },
    {
     "data": {
      "text/html": [
       "<div>\n",
       "<style scoped>\n",
       "    .dataframe tbody tr th:only-of-type {\n",
       "        vertical-align: middle;\n",
       "    }\n",
       "\n",
       "    .dataframe tbody tr th {\n",
       "        vertical-align: top;\n",
       "    }\n",
       "\n",
       "    .dataframe thead th {\n",
       "        text-align: right;\n",
       "    }\n",
       "</style>\n",
       "<table border=\"1\" class=\"dataframe\">\n",
       "  <thead>\n",
       "    <tr style=\"text-align: right;\">\n",
       "      <th></th>\n",
       "      <th>dia</th>\n",
       "      <th>tipo</th>\n",
       "      <th>titulo</th>\n",
       "      <th>contenido</th>\n",
       "      <th>tamanio</th>\n",
       "      <th>resumen_pegaus</th>\n",
       "      <th>resumen_bert</th>\n",
       "      <th>resumen_gtp_2</th>\n",
       "      <th>resumen_mt5_small</th>\n",
       "      <th>resumen_roberta</th>\n",
       "    </tr>\n",
       "  </thead>\n",
       "  <tbody>\n",
       "    <tr>\n",
       "      <th>307</th>\n",
       "      <td>2021-12-18</td>\n",
       "      <td>original</td>\n",
       "      <td>premier-league-pep-guardiola-dio-negativo-tras...</td>\n",
       "      <td>La Premier League está atravesando por una cri...</td>\n",
       "      <td>426</td>\n",
       "      <td>el técnico de los ‘ciudadanos’ abandonarse el ...</td>\n",
       "      <td>La Premier League está atravesando por una cri...</td>\n",
       "      <td>La Premier League está atravesando por una cri...</td>\n",
       "      <td>la crisis de la crisis de la crisis de la cris...</td>\n",
       "      <td>El entrenador del Manchester City, de 50 años,...</td>\n",
       "    </tr>\n",
       "    <tr>\n",
       "      <th>306</th>\n",
       "      <td>2021-12-18</td>\n",
       "      <td>original</td>\n",
       "      <td>omicron-las-preguntas-mas-frecuentes-sobre-la-...</td>\n",
       "      <td>Ómicron es una variante del coronavirus detect...</td>\n",
       "      <td>538</td>\n",
       "      <td>micron es una variante del coronavirus detecta...</td>\n",
       "      <td>Ómicron es una variante del coronavirus detect...</td>\n",
       "      <td>Ómicron es una variante del coronavirus detect...</td>\n",
       "      <td>¿custituirá la variante del coronavirus? ¿qué ...</td>\n",
       "      <td>La variante es una variante del'SARS-CoV4' que...</td>\n",
       "    </tr>\n",
       "    <tr>\n",
       "      <th>305</th>\n",
       "      <td>2021-12-18</td>\n",
       "      <td>original</td>\n",
       "      <td>omicron-como-responde-nuestro-sistema-inmunolo...</td>\n",
       "      <td>En la lucha contra el coronavirus, un componen...</td>\n",
       "      <td>1130</td>\n",
       "      <td>en la lucha contra el coronavirus, un componen...</td>\n",
       "      <td>En la lucha contra el coronavirus, un componen...</td>\n",
       "      <td>En la lucha contra el coronavirus, un componen...</td>\n",
       "      <td>los anticuerpos apuestan por la vía atención c...</td>\n",
       "      <td>Los anticuerpos se adhieren a las proteínas de...</td>\n",
       "    </tr>\n",
       "    <tr>\n",
       "      <th>304</th>\n",
       "      <td>2021-12-18</td>\n",
       "      <td>original</td>\n",
       "      <td>minsa-advierte-que-90-de-pacientes-hospitaliza...</td>\n",
       "      <td>El ministro de Salud, Hernando Cevallos, advir...</td>\n",
       "      <td>374</td>\n",
       "      <td>el ministro de Salud, Hernando Cevallos, advir...</td>\n",
       "      <td>El ministro de Salud, Hernando Cevallos, advir...</td>\n",
       "      <td>El ministro de Salud, Hernando Cevallos, advir...</td>\n",
       "      <td>el ministro de salud dice que el 90% de los ho...</td>\n",
       "      <td>El ministro de Salud afirma que el 90% de los ...</td>\n",
       "    </tr>\n",
       "    <tr>\n",
       "      <th>308</th>\n",
       "      <td>2021-12-18</td>\n",
       "      <td>original</td>\n",
       "      <td>resumen-2021-negacionistas-asi-va-la-situacion...</td>\n",
       "      <td>El movimiento antivacuna ha encontrado en la p...</td>\n",
       "      <td>1035</td>\n",
       "      <td>el movimiento antivacuna ha encontrado en la p...</td>\n",
       "      <td>El movimiento antivacuna ha encontrado en la p...</td>\n",
       "      <td>El movimiento antivacuna ha encontrado en la p...</td>\n",
       "      <td>nuevas protestas antivacunas contra el coronav...</td>\n",
       "      <td>El movimiento antivacuna ha encontrado en la p...</td>\n",
       "    </tr>\n",
       "  </tbody>\n",
       "</table>\n",
       "</div>"
      ],
      "text/plain": [
       "           dia      tipo                                             titulo  \\\n",
       "307 2021-12-18  original  premier-league-pep-guardiola-dio-negativo-tras...   \n",
       "306 2021-12-18  original  omicron-las-preguntas-mas-frecuentes-sobre-la-...   \n",
       "305 2021-12-18  original  omicron-como-responde-nuestro-sistema-inmunolo...   \n",
       "304 2021-12-18  original  minsa-advierte-que-90-de-pacientes-hospitaliza...   \n",
       "308 2021-12-18  original  resumen-2021-negacionistas-asi-va-la-situacion...   \n",
       "\n",
       "                                             contenido  tamanio  \\\n",
       "307  La Premier League está atravesando por una cri...      426   \n",
       "306  Ómicron es una variante del coronavirus detect...      538   \n",
       "305  En la lucha contra el coronavirus, un componen...     1130   \n",
       "304  El ministro de Salud, Hernando Cevallos, advir...      374   \n",
       "308  El movimiento antivacuna ha encontrado en la p...     1035   \n",
       "\n",
       "                                        resumen_pegaus  \\\n",
       "307  el técnico de los ‘ciudadanos’ abandonarse el ...   \n",
       "306  micron es una variante del coronavirus detecta...   \n",
       "305  en la lucha contra el coronavirus, un componen...   \n",
       "304  el ministro de Salud, Hernando Cevallos, advir...   \n",
       "308  el movimiento antivacuna ha encontrado en la p...   \n",
       "\n",
       "                                          resumen_bert  \\\n",
       "307  La Premier League está atravesando por una cri...   \n",
       "306  Ómicron es una variante del coronavirus detect...   \n",
       "305  En la lucha contra el coronavirus, un componen...   \n",
       "304  El ministro de Salud, Hernando Cevallos, advir...   \n",
       "308  El movimiento antivacuna ha encontrado en la p...   \n",
       "\n",
       "                                         resumen_gtp_2  \\\n",
       "307  La Premier League está atravesando por una cri...   \n",
       "306  Ómicron es una variante del coronavirus detect...   \n",
       "305  En la lucha contra el coronavirus, un componen...   \n",
       "304  El ministro de Salud, Hernando Cevallos, advir...   \n",
       "308  El movimiento antivacuna ha encontrado en la p...   \n",
       "\n",
       "                                     resumen_mt5_small  \\\n",
       "307  la crisis de la crisis de la crisis de la cris...   \n",
       "306  ¿custituirá la variante del coronavirus? ¿qué ...   \n",
       "305  los anticuerpos apuestan por la vía atención c...   \n",
       "304  el ministro de salud dice que el 90% de los ho...   \n",
       "308  nuevas protestas antivacunas contra el coronav...   \n",
       "\n",
       "                                       resumen_roberta  \n",
       "307  El entrenador del Manchester City, de 50 años,...  \n",
       "306  La variante es una variante del'SARS-CoV4' que...  \n",
       "305  Los anticuerpos se adhieren a las proteínas de...  \n",
       "304  El ministro de Salud afirma que el 90% de los ...  \n",
       "308  El movimiento antivacuna ha encontrado en la p...  "
      ]
     },
     "execution_count": 72,
     "metadata": {},
     "output_type": "execute_result"
    }
   ],
   "source": [
    "def generate_summary_roberta(text):\n",
    "    inputs = tokenizer([text], padding=\"max_length\", truncation=True, max_length=512, return_tensors=\"pt\")\n",
    "    input_ids = inputs.input_ids.to(torch_device)\n",
    "    attention_mask = inputs.attention_mask.to(torch_device)\n",
    "    output = model_roberta.generate(input_ids, attention_mask=attention_mask)\n",
    "    return tokenizer.decode(output[0], skip_special_tokens=True)\n",
    "\n",
    "ultimas_noticias['resumen_roberta'] = ultimas_noticias['contenido'].apply(generate_summary_roberta)\n",
    "ultimas_noticias.head()"
   ]
  },
  {
   "cell_type": "code",
   "execution_count": 73,
   "id": "69f4d248-7c4f-4d92-834d-5fa0158a7ea3",
   "metadata": {},
   "outputs": [],
   "source": [
    "ultimas_noticias.to_csv('resumenes_ultimas_noticias_{}.csv'.format(marca_tiempo), index=False)"
   ]
  },
  {
   "cell_type": "code",
   "execution_count": null,
   "id": "523373be-4719-4508-8a62-d2331a3112d9",
   "metadata": {},
   "outputs": [],
   "source": []
  },
  {
   "cell_type": "code",
   "execution_count": null,
   "id": "00411764-0cd1-4c0c-8fd6-a0a937397022",
   "metadata": {},
   "outputs": [],
   "source": []
  },
  {
   "cell_type": "code",
   "execution_count": null,
   "id": "754c2a8e-6cae-41fe-bb7a-8837704ff16d",
   "metadata": {},
   "outputs": [],
   "source": []
  },
  {
   "cell_type": "code",
   "execution_count": null,
   "id": "2b3e4b61-a289-4630-958e-9acaf50b6f7d",
   "metadata": {},
   "outputs": [],
   "source": []
  },
  {
   "cell_type": "code",
   "execution_count": null,
   "id": "d95937d2-9b97-4bb5-9862-9c08b0032800",
   "metadata": {},
   "outputs": [],
   "source": []
  },
  {
   "cell_type": "code",
   "execution_count": null,
   "id": "45608ae9-91bd-4b74-98f7-7924dd9b2f58",
   "metadata": {},
   "outputs": [],
   "source": []
  },
  {
   "cell_type": "code",
   "execution_count": null,
   "id": "f63cebce-ce47-4294-a365-c76379eba0b1",
   "metadata": {},
   "outputs": [],
   "source": []
  },
  {
   "cell_type": "code",
   "execution_count": null,
   "id": "8b58a519-13ba-4bfb-adbd-90639c9853da",
   "metadata": {},
   "outputs": [],
   "source": []
  },
  {
   "cell_type": "code",
   "execution_count": 74,
   "id": "9b7d44ae-f873-4fa9-a80e-941c31d6b68f",
   "metadata": {},
   "outputs": [
    {
     "data": {
      "text/plain": [
       "0.18918079776442961"
      ]
     },
     "execution_count": 74,
     "metadata": {},
     "output_type": "execute_result"
    }
   ],
   "source": [
    "from scipy.spatial.distance import jensenshannon\n",
    "\n",
    "a = [0.2, 0.4, 0.4]\n",
    "b = [0.3, 0.2, 0.5]\n",
    "\n",
    "jensenshannon(a,b, base=2.0)"
   ]
  },
  {
   "cell_type": "code",
   "execution_count": 75,
   "id": "c35426f2-5c5d-4043-96d1-c4f0ecad6c5b",
   "metadata": {},
   "outputs": [
    {
     "data": {
      "text/plain": [
       "0.03578937424278602"
      ]
     },
     "execution_count": 75,
     "metadata": {},
     "output_type": "execute_result"
    }
   ],
   "source": [
    "jensenshannon(a,b, base=2.0) ** 2"
   ]
  },
  {
   "cell_type": "code",
   "execution_count": null,
   "id": "ebb93228-5b88-4601-bf08-aa32a0ca6f35",
   "metadata": {},
   "outputs": [],
   "source": []
  },
  {
   "cell_type": "code",
   "execution_count": 76,
   "id": "fa29c387-d050-4955-8f08-7a1769e17602",
   "metadata": {},
   "outputs": [
    {
     "data": {
      "text/plain": [
       "0.1885034041198646"
      ]
     },
     "execution_count": 76,
     "metadata": {},
     "output_type": "execute_result"
    }
   ],
   "source": [
    "a = [0.9, 0.6, 0.1]\n",
    "b = [0.3, 0.2, 0.5]\n",
    "\n",
    "jensenshannon(a,b, base=2.0) ** 2"
   ]
  },
  {
   "cell_type": "code",
   "execution_count": null,
   "id": "3c8ffb48-d04e-47a9-8e0e-b0abe7e53117",
   "metadata": {},
   "outputs": [],
   "source": []
  },
  {
   "cell_type": "code",
   "execution_count": 77,
   "id": "03a5a35e-b3a0-4ed5-bd3e-ea6c743f078a",
   "metadata": {},
   "outputs": [
    {
     "data": {
      "text/plain": [
       "0.0"
      ]
     },
     "execution_count": 77,
     "metadata": {},
     "output_type": "execute_result"
    }
   ],
   "source": [
    "a = [0.2, 0.6, 0.1]\n",
    "b = [0.2, 0.6, 0.1]\n",
    "\n",
    "jensenshannon(a,b, base=2.0) ** 2"
   ]
  },
  {
   "cell_type": "code",
   "execution_count": null,
   "id": "0ec9370d-b826-40ba-9de9-4ce99d67130a",
   "metadata": {},
   "outputs": [],
   "source": []
  },
  {
   "cell_type": "code",
   "execution_count": null,
   "id": "a057202d-ef3c-4d2f-8884-d803f447d4b5",
   "metadata": {},
   "outputs": [],
   "source": []
  }
 ],
 "metadata": {
  "kernelspec": {
   "display_name": "Python 3",
   "language": "python",
   "name": "python3"
  },
  "language_info": {
   "codemirror_mode": {
    "name": "ipython",
    "version": 3
   },
   "file_extension": ".py",
   "mimetype": "text/x-python",
   "name": "python",
   "nbconvert_exporter": "python",
   "pygments_lexer": "ipython3",
   "version": "3.8.5"
  }
 },
 "nbformat": 4,
 "nbformat_minor": 5
}
