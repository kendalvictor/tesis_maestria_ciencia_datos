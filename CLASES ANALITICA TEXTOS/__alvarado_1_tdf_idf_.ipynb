{
 "cells": [
  {
   "cell_type": "code",
   "execution_count": 1,
   "id": "bb3b0bd7-0992-4785-b894-e07f084a4cc7",
   "metadata": {},
   "outputs": [],
   "source": [
    "import os\n",
    "import re\n",
    "import time\n",
    "from pathlib import Path\n",
    "import shutil\n",
    "import glob\n",
    "import string\n",
    "import unicodedata\n",
    "from datetime import datetime, timedelta\n",
    "\n",
    "import pandas as pd\n",
    "from selenium import webdriver\n",
    "from selenium.webdriver.chrome.options import Options\n",
    "from selenium.webdriver.support.select import Select\n",
    "from sqlalchemy import create_engine\n",
    "from selenium.webdriver.support.ui import WebDriverWait\n",
    "from selenium.webdriver.support import expected_conditions as EC\n",
    "from selenium.webdriver.common.by import By\n",
    "\n",
    "from unicodedata import normalize, category"
   ]
  },
  {
   "cell_type": "code",
   "execution_count": 2,
   "id": "3d8af48c-8833-4cb0-bfbc-c06509c02d34",
   "metadata": {},
   "outputs": [
    {
     "name": "stdout",
     "output_type": "stream",
     "text": [
      "{'tu', 'estando', 'sintiendo', 'estaría', 'yo', 'tenemos', 'estaremos', 'has', 'quien', 'tus', 'tengo', 'habido', 'esté', 'hay', 'nuestro', 'hayas', 'tengamos', 'fuerais', 'tuyos', 'tuviese', 'antes', 'hubiese', 'una', 'ya', 'esa', 'o', 'mucho', 'fuéramos', 'éramos', 'hubiera', 'tienes', 'con', 'les', 'fuimos', 'fuésemos', 'ellos', 'hayamos', 'es', 'haya', 'tuvo', 'habiendo', 'seremos', 'esto', 'estado', 'está', 'esas', 'estabais', 'estará', 'fuera', 'estés', 'estuvieseis', 'tendríamos', 'estuviesen', 'entre', 'algunos', 'hayan', 'estuvieron', 'sentido', 'nuestra', 'tenida', 'estuviera', 'habría', 'tenía', 'fuese', 'no', 'hasta', 'otras', 'tuviésemos', 'que', 'será', 'algo', 'tendremos', 'el', 'quienes', 'tenido', 'hube', 'habremos', 'hubiste', 'nosotros', 'del', 'tuya', 'se', 'como', 'en', 'mí', 'he', 'mías', 'hubierais', 'era', 'fueran', 'tendrán', 'tuvieran', 'estadas', 'unos', 'hubieran', 'míos', 'tuviesen', 'eran', 'tendrá', 'ha', 'estarás', 'nuestros', 'los', 'tened', 'hubimos', 'vosotras', 'porque', 'otra', 'estoy', 'esta', 'un', 'tengas', 'lo', 'estás', 'ella', 'fui', 'serás', 'sí', 'fueron', 'las', 'son', 'suya', 'tuyo', 'sus', 'tenían', 'hubieron', 'tendríais', 'cuando', 'habríais', 'hubieras', 'estarían', 'por', 'estad', 'sentidos', 'uno', 'desde', 'ti', 'habrían', 'nuestras', 'hubiéramos', 'había', 'estuvo', 'estar', 'durante', 'tenidos', 'habré', 'sin', 'tuviera', 'estuviésemos', 'han', 'seríamos', 'esos', 'hubiesen', 'teniendo', 'ante', 'vosotros', 'hubo', 'muchos', 'estaban', 'habrán', 'otros', 'tuvieras', 'seas', 'mía', 'estaríais', 'qué', 'tuvieron', 'fueseis', 'estén', 'tuvimos', 'tú', 'nos', 'estuviste', 'nada', 'hubieseis', 'estamos', 'eso', 'estuvieses', 'todos', 'serías', 'soy', 'me', 'estarías', 'tenéis', 'estuviese', 'tuvieses', 'eres', 'todo', 'muy', 'habéis', 'cual', 'fuesen', 'tendría', 'nosotras', 'erais', 'tuviste', 'estéis', 'le', 'estuvieras', 'sois', 'estuvierais', 'habías', 'estáis', 'tendréis', 'habidos', 'tendré', 'estabas', 'sería', 'y', 'sean', 'estábamos', 'tenidas', 'tanto', 'mío', 'pero', 'estuvimos', 'teníamos', 'este', 'otro', 'seamos', 'tienen', 'habíamos', 'teníais', 'tuvierais', 'suyas', 'e', 'tenías', 'tendrás', 'os', 'vuestros', 'poco', 'seré', 'seáis', 'suyo', 'sentida', 'tuviéramos', 'estados', 'estemos', 'tuve', 'habían', 'habida', 'fuisteis', 'estuvisteis', 'tiene', 'más', 'te', 'ellas', 'hubieses', 'algunas', 'de', 'serían', 'estaréis', 'siente', 'seríais', 'tendrías', 'sentidas', 'vuestro', 'contra', 'estuviéramos', 'habíais', 'estuve', 'al', 'tendrían', 'hubisteis', 'sea', 'hubiésemos', 'tengan', 'vuestra', 'estaré', 'él', 'mi', 'sobre', 'hayáis', 'estada', 'mis', 'tuyas', 'somos', 'habrías', 'ese', 'habríamos', 'estuvieran', 'eras', 'estarán', 'estas', 'tuvisteis', 'fueras', 'tenga', 'seréis', 'ni', 'a', 'su', 'donde', 'habrás', 'habréis', 'tengáis', 'suyos', 'vuestras', 'estos', 'la', 'habidas', 'sentid', 'para', 'fueses', 'fuiste', 'fue', 'estaba', 'estaríamos', 'hemos', 'también', 'habrá', 'tuvieseis', 'serán', 'están'}\n"
     ]
    }
   ],
   "source": [
    "import nltk\n",
    "from nltk.corpus import stopwords\n",
    "from nltk.stem.snowball import SnowballStemmer\n",
    "\n",
    "stopset = set(stopwords.words(\"spanish\"))\n",
    "print(stopset)"
   ]
  },
  {
   "cell_type": "code",
   "execution_count": 3,
   "id": "64668385-0bd1-48f0-a2f9-c90b73b41935",
   "metadata": {},
   "outputs": [
    {
     "name": "stdout",
     "output_type": "stream",
     "text": [
      "(200, 91)\n"
     ]
    },
    {
     "data": {
      "text/html": [
       "<div>\n",
       "<style scoped>\n",
       "    .dataframe tbody tr th:only-of-type {\n",
       "        vertical-align: middle;\n",
       "    }\n",
       "\n",
       "    .dataframe tbody tr th {\n",
       "        vertical-align: top;\n",
       "    }\n",
       "\n",
       "    .dataframe thead th {\n",
       "        text-align: right;\n",
       "    }\n",
       "</style>\n",
       "<table border=\"1\" class=\"dataframe\">\n",
       "  <thead>\n",
       "    <tr style=\"text-align: right;\">\n",
       "      <th></th>\n",
       "      <th>user_id</th>\n",
       "      <th>status_id</th>\n",
       "      <th>created_at</th>\n",
       "      <th>screen_name</th>\n",
       "      <th>text</th>\n",
       "      <th>source</th>\n",
       "      <th>display_text_width</th>\n",
       "      <th>reply_to_status_id</th>\n",
       "      <th>reply_to_user_id</th>\n",
       "      <th>reply_to_screen_name</th>\n",
       "      <th>...</th>\n",
       "      <th>favourites_count</th>\n",
       "      <th>account_created_at</th>\n",
       "      <th>verified</th>\n",
       "      <th>profile_url</th>\n",
       "      <th>profile_expanded_url</th>\n",
       "      <th>account_lang</th>\n",
       "      <th>profile_banner_url</th>\n",
       "      <th>profile_background_url</th>\n",
       "      <th>profile_image_url</th>\n",
       "      <th>text2</th>\n",
       "    </tr>\n",
       "  </thead>\n",
       "  <tbody>\n",
       "    <tr>\n",
       "      <th>0</th>\n",
       "      <td>187077341</td>\n",
       "      <td>1420117682163228672</td>\n",
       "      <td>2021-07-27 20:23:34</td>\n",
       "      <td>Seahawk_Davo</td>\n",
       "      <td>@intensaaa2020 Mmm ya me fastidie, no me gusta...</td>\n",
       "      <td>Twitter for Android</td>\n",
       "      <td>68</td>\n",
       "      <td>1.419892e+18</td>\n",
       "      <td>1.337034e+18</td>\n",
       "      <td>intensaaa2020</td>\n",
       "      <td>...</td>\n",
       "      <td>1856</td>\n",
       "      <td>2010-09-05 05:30:41</td>\n",
       "      <td>False</td>\n",
       "      <td>NaN</td>\n",
       "      <td>NaN</td>\n",
       "      <td>NaN</td>\n",
       "      <td>https://pbs.twimg.com/profile_banners/18707734...</td>\n",
       "      <td>http://abs.twimg.com/images/themes/theme18/bg.gif</td>\n",
       "      <td>http://pbs.twimg.com/profile_images/8402706560...</td>\n",
       "      <td>@intensaaa2020 Mmm ya me fastidie, no me gusta...</td>\n",
       "    </tr>\n",
       "    <tr>\n",
       "      <th>1</th>\n",
       "      <td>754923173422833665</td>\n",
       "      <td>1420117600227536899</td>\n",
       "      <td>2021-07-27 20:23:15</td>\n",
       "      <td>susiurbizu</td>\n",
       "      <td>No saben lo mucho que quisiera que me gustara ...</td>\n",
       "      <td>Twitter for iPhone</td>\n",
       "      <td>70</td>\n",
       "      <td>NaN</td>\n",
       "      <td>NaN</td>\n",
       "      <td>NaN</td>\n",
       "      <td>...</td>\n",
       "      <td>4451</td>\n",
       "      <td>2016-07-18 06:18:05</td>\n",
       "      <td>False</td>\n",
       "      <td>NaN</td>\n",
       "      <td>NaN</td>\n",
       "      <td>NaN</td>\n",
       "      <td>https://pbs.twimg.com/profile_banners/75492317...</td>\n",
       "      <td>NaN</td>\n",
       "      <td>http://pbs.twimg.com/profile_images/1392738046...</td>\n",
       "      <td>No saben lo mucho que quisiera que me gustara ...</td>\n",
       "    </tr>\n",
       "    <tr>\n",
       "      <th>2</th>\n",
       "      <td>4518941727</td>\n",
       "      <td>1420117528110587905</td>\n",
       "      <td>2021-07-27 20:22:57</td>\n",
       "      <td>Veothfolnir</td>\n",
       "      <td>Escribo mal porque he bebido medio litro de ce...</td>\n",
       "      <td>TweetDeck</td>\n",
       "      <td>100</td>\n",
       "      <td>NaN</td>\n",
       "      <td>NaN</td>\n",
       "      <td>NaN</td>\n",
       "      <td>...</td>\n",
       "      <td>25370</td>\n",
       "      <td>2015-12-18 00:02:33</td>\n",
       "      <td>False</td>\n",
       "      <td>https://t.co/0pxjj8LIZr</td>\n",
       "      <td>https://www.youtube.com/channel/UCRsjWfA-Z4veF...</td>\n",
       "      <td>NaN</td>\n",
       "      <td>https://pbs.twimg.com/profile_banners/45189417...</td>\n",
       "      <td>NaN</td>\n",
       "      <td>http://pbs.twimg.com/profile_images/1340260811...</td>\n",
       "      <td>Escribo mal porque he bebido medio litro de ce...</td>\n",
       "    </tr>\n",
       "    <tr>\n",
       "      <th>3</th>\n",
       "      <td>1284180586257670147</td>\n",
       "      <td>1420117527384965121</td>\n",
       "      <td>2021-07-27 20:22:57</td>\n",
       "      <td>tu_tio_teviola</td>\n",
       "      <td>@marlasuarezzz Cerveza, Vino, Whisky, Helado j...</td>\n",
       "      <td>Twitter for Android</td>\n",
       "      <td>42</td>\n",
       "      <td>1.420092e+18</td>\n",
       "      <td>1.282937e+18</td>\n",
       "      <td>marlasuarezzz</td>\n",
       "      <td>...</td>\n",
       "      <td>18904</td>\n",
       "      <td>2020-07-17 17:38:24</td>\n",
       "      <td>False</td>\n",
       "      <td>NaN</td>\n",
       "      <td>NaN</td>\n",
       "      <td>NaN</td>\n",
       "      <td>https://pbs.twimg.com/profile_banners/12841805...</td>\n",
       "      <td>NaN</td>\n",
       "      <td>http://pbs.twimg.com/profile_images/1417326584...</td>\n",
       "      <td>@marlasuarezzz Cerveza, Vino, Whisky, Helado j...</td>\n",
       "    </tr>\n",
       "    <tr>\n",
       "      <th>4</th>\n",
       "      <td>1338605739221413888</td>\n",
       "      <td>1420117511786442752</td>\n",
       "      <td>2021-07-27 20:22:53</td>\n",
       "      <td>topdescuentostg</td>\n",
       "      <td>💥Taza de Café, 18oz Vaso Termico Café Termo Do...</td>\n",
       "      <td>FRIKItwitter</td>\n",
       "      <td>260</td>\n",
       "      <td>NaN</td>\n",
       "      <td>NaN</td>\n",
       "      <td>NaN</td>\n",
       "      <td>...</td>\n",
       "      <td>0</td>\n",
       "      <td>2020-12-14 22:04:48</td>\n",
       "      <td>False</td>\n",
       "      <td>https://t.co/ks5VRb7KD1</td>\n",
       "      <td>https://t.me/TOP_Descuentos</td>\n",
       "      <td>NaN</td>\n",
       "      <td>https://pbs.twimg.com/profile_banners/13386057...</td>\n",
       "      <td>NaN</td>\n",
       "      <td>http://pbs.twimg.com/profile_images/1338609798...</td>\n",
       "      <td>💥Taza de Café, 18oz Vaso Termico Café Termo Do...</td>\n",
       "    </tr>\n",
       "  </tbody>\n",
       "</table>\n",
       "<p>5 rows × 91 columns</p>\n",
       "</div>"
      ],
      "text/plain": [
       "               user_id            status_id          created_at  \\\n",
       "0            187077341  1420117682163228672 2021-07-27 20:23:34   \n",
       "1   754923173422833665  1420117600227536899 2021-07-27 20:23:15   \n",
       "2           4518941727  1420117528110587905 2021-07-27 20:22:57   \n",
       "3  1284180586257670147  1420117527384965121 2021-07-27 20:22:57   \n",
       "4  1338605739221413888  1420117511786442752 2021-07-27 20:22:53   \n",
       "\n",
       "       screen_name                                               text  \\\n",
       "0     Seahawk_Davo  @intensaaa2020 Mmm ya me fastidie, no me gusta...   \n",
       "1       susiurbizu  No saben lo mucho que quisiera que me gustara ...   \n",
       "2      Veothfolnir  Escribo mal porque he bebido medio litro de ce...   \n",
       "3   tu_tio_teviola  @marlasuarezzz Cerveza, Vino, Whisky, Helado j...   \n",
       "4  topdescuentostg  💥Taza de Café, 18oz Vaso Termico Café Termo Do...   \n",
       "\n",
       "                source  display_text_width  reply_to_status_id  \\\n",
       "0  Twitter for Android                  68        1.419892e+18   \n",
       "1   Twitter for iPhone                  70                 NaN   \n",
       "2            TweetDeck                 100                 NaN   \n",
       "3  Twitter for Android                  42        1.420092e+18   \n",
       "4         FRIKItwitter                 260                 NaN   \n",
       "\n",
       "   reply_to_user_id reply_to_screen_name  ...  favourites_count  \\\n",
       "0      1.337034e+18        intensaaa2020  ...              1856   \n",
       "1               NaN                  NaN  ...              4451   \n",
       "2               NaN                  NaN  ...             25370   \n",
       "3      1.282937e+18        marlasuarezzz  ...             18904   \n",
       "4               NaN                  NaN  ...                 0   \n",
       "\n",
       "   account_created_at  verified              profile_url  \\\n",
       "0 2010-09-05 05:30:41     False                      NaN   \n",
       "1 2016-07-18 06:18:05     False                      NaN   \n",
       "2 2015-12-18 00:02:33     False  https://t.co/0pxjj8LIZr   \n",
       "3 2020-07-17 17:38:24     False                      NaN   \n",
       "4 2020-12-14 22:04:48     False  https://t.co/ks5VRb7KD1   \n",
       "\n",
       "                                profile_expanded_url  account_lang  \\\n",
       "0                                                NaN           NaN   \n",
       "1                                                NaN           NaN   \n",
       "2  https://www.youtube.com/channel/UCRsjWfA-Z4veF...           NaN   \n",
       "3                                                NaN           NaN   \n",
       "4                        https://t.me/TOP_Descuentos           NaN   \n",
       "\n",
       "                                  profile_banner_url  \\\n",
       "0  https://pbs.twimg.com/profile_banners/18707734...   \n",
       "1  https://pbs.twimg.com/profile_banners/75492317...   \n",
       "2  https://pbs.twimg.com/profile_banners/45189417...   \n",
       "3  https://pbs.twimg.com/profile_banners/12841805...   \n",
       "4  https://pbs.twimg.com/profile_banners/13386057...   \n",
       "\n",
       "                              profile_background_url  \\\n",
       "0  http://abs.twimg.com/images/themes/theme18/bg.gif   \n",
       "1                                                NaN   \n",
       "2                                                NaN   \n",
       "3                                                NaN   \n",
       "4                                                NaN   \n",
       "\n",
       "                                   profile_image_url  \\\n",
       "0  http://pbs.twimg.com/profile_images/8402706560...   \n",
       "1  http://pbs.twimg.com/profile_images/1392738046...   \n",
       "2  http://pbs.twimg.com/profile_images/1340260811...   \n",
       "3  http://pbs.twimg.com/profile_images/1417326584...   \n",
       "4  http://pbs.twimg.com/profile_images/1338609798...   \n",
       "\n",
       "                                               text2  \n",
       "0  @intensaaa2020 Mmm ya me fastidie, no me gusta...  \n",
       "1  No saben lo mucho que quisiera que me gustara ...  \n",
       "2  Escribo mal porque he bebido medio litro de ce...  \n",
       "3  @marlasuarezzz Cerveza, Vino, Whisky, Helado j...  \n",
       "4  💥Taza de Café, 18oz Vaso Termico Café Termo Do...  \n",
       "\n",
       "[5 rows x 91 columns]"
      ]
     },
     "execution_count": 3,
     "metadata": {},
     "output_type": "execute_result"
    }
   ],
   "source": [
    "tweets = pd.read_excel('trinoscerveza.xlsx')\n",
    "print(tweets.shape)\n",
    "tweets.head()"
   ]
  },
  {
   "cell_type": "code",
   "execution_count": 4,
   "id": "7d2546bb-107b-4166-8340-f8229b086663",
   "metadata": {},
   "outputs": [],
   "source": [
    "#tweets = pd.read_csv('ejercicio_tuits.csv', encoding='ISO-8859-1')\n",
    "\n",
    "#if 'Unnamed: 0' in tweets.columns:\n",
    "#    del tweets['Unnamed: 0']\n",
    "    \n",
    "#tweets['created_date'] = pd.to_datetime(tweets['created'])\n",
    "#tweets['periodo'] = tweets['created_date'].apply(lambda x: x.strftime('%Y%m'))\n",
    "#tweets['n_words'] = tweets['text'].apply(lambda _: len(_.split()))\n",
    "\n",
    "#tweets.head(50)"
   ]
  },
  {
   "cell_type": "code",
   "execution_count": null,
   "id": "2b93cfbb-0d28-4313-8d17-9748461248eb",
   "metadata": {},
   "outputs": [],
   "source": []
  },
  {
   "cell_type": "markdown",
   "id": "54fc899d-32cd-4a70-bb8f-a039d7432724",
   "metadata": {},
   "source": [
    "### NULOS"
   ]
  },
  {
   "cell_type": "code",
   "execution_count": 5,
   "id": "bb751ef7-f6d2-48a8-b19e-b767d394b6aa",
   "metadata": {},
   "outputs": [
    {
     "data": {
      "text/plain": [
       "user_id                     0\n",
       "status_id                   0\n",
       "created_at                  0\n",
       "screen_name                 0\n",
       "text                        0\n",
       "                         ... \n",
       "account_lang              200\n",
       "profile_banner_url         23\n",
       "profile_background_url     94\n",
       "profile_image_url           0\n",
       "text2                       0\n",
       "Length: 91, dtype: int64"
      ]
     },
     "execution_count": 5,
     "metadata": {},
     "output_type": "execute_result"
    }
   ],
   "source": [
    "tweets.isnull().sum()"
   ]
  },
  {
   "cell_type": "code",
   "execution_count": null,
   "id": "5a2ed842-c937-447a-855b-9603132867b4",
   "metadata": {},
   "outputs": [],
   "source": []
  },
  {
   "cell_type": "markdown",
   "id": "e9c49696-5e14-4579-ba9a-d6f70a5d41a7",
   "metadata": {},
   "source": [
    "### LIMPIANDO STOPWORDS POR DEFECTO"
   ]
  },
  {
   "cell_type": "code",
   "execution_count": 6,
   "id": "818aba68-7a32-4591-8b8d-e41106360da8",
   "metadata": {},
   "outputs": [
    {
     "name": "stdout",
     "output_type": "stream",
     "text": [
      "['tu', 'estando', 'sintiendo', 'estaria', 'yo', 'tenemos', 'estaremos', 'has', 'quien', 'tus', 'tengo', 'habido', 'este', 'hay', 'nuestro', 'hayas', 'tengamos', 'fuerais', 'tuyos', 'tuviese', 'antes', 'hubiese', 'una', 'ya', 'esa', 'o', 'mucho', 'fueramos', 'eramos', 'hubiera', 'tienes', 'con', 'les', 'fuimos', 'fuesemos', 'ellos', 'hayamos', 'es', 'haya', 'tuvo', 'habiendo', 'seremos', 'esto', 'estado', 'esta', 'esas', 'estabais', 'estara', 'fuera', 'estes', 'estuvieseis', 'tendriamos', 'estuviesen', 'entre', 'algunos', 'hayan', 'estuvieron', 'sentido', 'nuestra', 'tenida', 'estuviera', 'habria', 'tenia', 'fuese', 'no', 'hasta', 'otras', 'tuviesemos', 'que', 'sera', 'algo', 'tendremos', 'el', 'quienes', 'tenido', 'hube', 'habremos', 'hubiste', 'nosotros', 'del', 'tuya', 'se', 'como', 'en', 'mi', 'he', 'mias', 'hubierais', 'era', 'fueran', 'tendran', 'tuvieran', 'estadas', 'unos', 'hubieran', 'mios', 'tuviesen', 'eran', 'tendra', 'ha', 'estaras', 'nuestros', 'los', 'tened', 'hubimos', 'vosotras', 'porque', 'otra', 'estoy', 'esta', 'un', 'tengas', 'lo', 'estas', 'ella', 'fui', 'seras', 'si', 'fueron', 'las', 'son', 'suya', 'tuyo', 'sus', 'tenian', 'hubieron', 'tendriais', 'cuando', 'habriais', 'hubieras', 'estarian', 'por', 'estad', 'sentidos', 'uno', 'desde', 'ti', 'habrian', 'nuestras', 'hubieramos', 'habia', 'estuvo', 'estar', 'durante', 'tenidos', 'habre', 'sin', 'tuviera', 'estuviesemos', 'han', 'seriamos', 'esos', 'hubiesen', 'teniendo', 'ante', 'vosotros', 'hubo', 'muchos', 'estaban', 'habran', 'otros', 'tuvieras', 'seas', 'mia', 'estariais', 'que', 'tuvieron', 'fueseis', 'esten', 'tuvimos', 'tu', 'nos', 'estuviste', 'nada', 'hubieseis', 'estamos', 'eso', 'estuvieses', 'todos', 'serias', 'soy', 'me', 'estarias', 'teneis', 'estuviese', 'tuvieses', 'eres', 'todo', 'muy', 'habeis', 'cual', 'fuesen', 'tendria', 'nosotras', 'erais', 'tuviste', 'esteis', 'le', 'estuvieras', 'sois', 'estuvierais', 'habias', 'estais', 'tendreis', 'habidos', 'tendre', 'estabas', 'seria', 'y', 'sean', 'estabamos', 'tenidas', 'tanto', 'mio', 'pero', 'estuvimos', 'teniamos', 'este', 'otro', 'seamos', 'tienen', 'habiamos', 'teniais', 'tuvierais', 'suyas', 'e', 'tenias', 'tendras', 'os', 'vuestros', 'poco', 'sere', 'seais', 'suyo', 'sentida', 'tuvieramos', 'estados', 'estemos', 'tuve', 'habian', 'habida', 'fuisteis', 'estuvisteis', 'tiene', 'mas', 'te', 'ellas', 'hubieses', 'algunas', 'de', 'serian', 'estareis', 'siente', 'seriais', 'tendrias', 'sentidas', 'vuestro', 'contra', 'estuvieramos', 'habiais', 'estuve', 'al', 'tendrian', 'hubisteis', 'sea', 'hubiesemos', 'tengan', 'vuestra', 'estare', 'el', 'mi', 'sobre', 'hayais', 'estada', 'mis', 'tuyas', 'somos', 'habrias', 'ese', 'habriamos', 'estuvieran', 'eras', 'estaran', 'estas', 'tuvisteis', 'fueras', 'tenga', 'sereis', 'ni', 'a', 'su', 'donde', 'habras', 'habreis', 'tengais', 'suyos', 'vuestras', 'estos', 'la', 'habidas', 'sentid', 'para', 'fueses', 'fuiste', 'fue', 'estaba', 'estariamos', 'hemos', 'tambien', 'habra', 'tuvieseis', 'seran', 'estan']\n"
     ]
    }
   ],
   "source": [
    "from unicodedata import normalize, category\n",
    "\n",
    "def clean_text_1(_text):\n",
    "    \"\"\"\n",
    "        Ll : minusculas\n",
    "        Zs : espacios\n",
    "        Lu : mayusculas\n",
    "        Nd : numeros\n",
    "        Mn : tildes\n",
    "        Ps : abre dieresis, .....\n",
    "        Pe : cierra dieresis, .......\n",
    "        Pi : abre parentesis, .....\n",
    "        Po : cierra parentesis, punto, coma, .....        \n",
    "        ...\n",
    "    \"\"\"\n",
    "    selects_characters = ['Ll', 'Zs', 'Lu']\n",
    "    \n",
    "    return ''.join([_.lower() for _ in normalize('NFD', _text.replace(' ', 'ZZZ')) if category(_) in selects_characters])\n",
    "\n",
    "stopset_cleaned = [clean_text_1(word) for word in stopset]\n",
    "print(stopset_cleaned)"
   ]
  },
  {
   "cell_type": "code",
   "execution_count": null,
   "id": "2b3678de-b3f8-4a43-817b-def8b86263ba",
   "metadata": {},
   "outputs": [],
   "source": []
  },
  {
   "cell_type": "markdown",
   "id": "23b47c9b-0508-4ac1-86ba-2d8f6d176dba",
   "metadata": {},
   "source": [
    "### LIMPIANDO TWEETS"
   ]
  },
  {
   "cell_type": "code",
   "execution_count": 7,
   "id": "d288e809-c653-4b36-aacb-11e0b9f42143",
   "metadata": {},
   "outputs": [],
   "source": [
    "#!pip install spacy                                  -- descomentar la 1era vez"
   ]
  },
  {
   "cell_type": "code",
   "execution_count": 8,
   "id": "308611e7-867c-45ec-b241-0ec2bf1945ef",
   "metadata": {},
   "outputs": [],
   "source": [
    "#!pip install stanza                                 -- descomentar la 1era vez"
   ]
  },
  {
   "cell_type": "code",
   "execution_count": 9,
   "id": "d9b4ae0d-3c65-458e-b1fe-715c15d13622",
   "metadata": {},
   "outputs": [],
   "source": [
    "#!pip install \"spacy-stanza<0.3.0\" --user            -- descomentar la 1era vez"
   ]
  },
  {
   "cell_type": "code",
   "execution_count": 10,
   "id": "128d54bc-fa50-48b7-a8af-a5d612b4b1fd",
   "metadata": {},
   "outputs": [],
   "source": [
    "import stanza"
   ]
  },
  {
   "cell_type": "code",
   "execution_count": 11,
   "id": "22e2ed8c-6b42-4045-af67-1bfe6a365d9c",
   "metadata": {},
   "outputs": [],
   "source": [
    "#stanza.download('es')                                -- descomentar la 1era vez"
   ]
  },
  {
   "cell_type": "code",
   "execution_count": 12,
   "id": "330615fc-1e9c-4800-a1cf-35a45d1f0838",
   "metadata": {},
   "outputs": [],
   "source": [
    "from spacy_stanza import StanzaLanguage"
   ]
  },
  {
   "cell_type": "code",
   "execution_count": 13,
   "id": "f569839b-1e14-4b84-b27b-dcc9e1e6ee57",
   "metadata": {},
   "outputs": [
    {
     "name": "stderr",
     "output_type": "stream",
     "text": [
      "2021-11-05 19:42:29 INFO: Loading these models for language: es (Spanish):\n",
      "=======================\n",
      "| Processor | Package |\n",
      "-----------------------\n",
      "| tokenize  | ancora  |\n",
      "| mwt       | ancora  |\n",
      "| pos       | ancora  |\n",
      "| lemma     | ancora  |\n",
      "| depparse  | ancora  |\n",
      "| ner       | conll02 |\n",
      "=======================\n",
      "\n",
      "2021-11-05 19:42:29 INFO: Use device: cpu\n",
      "2021-11-05 19:42:29 INFO: Loading: tokenize\n",
      "2021-11-05 19:42:29 INFO: Loading: mwt\n",
      "2021-11-05 19:42:29 INFO: Loading: pos\n",
      "2021-11-05 19:42:31 INFO: Loading: lemma\n",
      "2021-11-05 19:42:31 INFO: Loading: depparse\n",
      "2021-11-05 19:42:31 INFO: Loading: ner\n",
      "2021-11-05 19:42:32 INFO: Done loading processors!\n"
     ]
    }
   ],
   "source": [
    "snlp = stanza.Pipeline(lang=\"es\")\n",
    "nlp = StanzaLanguage(snlp)"
   ]
  },
  {
   "cell_type": "code",
   "execution_count": null,
   "id": "b6fc40b2-30e7-4e15-8e7d-ea7e73be7228",
   "metadata": {},
   "outputs": [],
   "source": []
  },
  {
   "cell_type": "markdown",
   "id": "0f808417-627d-45bb-a52c-78d6d3eaabb7",
   "metadata": {},
   "source": [
    "#### Ampliando STOPWORDS"
   ]
  },
  {
   "cell_type": "code",
   "execution_count": 14,
   "id": "fb09b6c1-292d-423a-9989-005b837e312b",
   "metadata": {},
   "outputs": [
    {
     "name": "stdout",
     "output_type": "stream",
     "text": [
      "313\n",
      "315\n"
     ]
    }
   ],
   "source": [
    "print(len(stopset_cleaned))\n",
    "stopset_cleaned = stopset_cleaned + ['caption', 'image']\n",
    "print(len(stopset_cleaned))"
   ]
  },
  {
   "cell_type": "markdown",
   "id": "dff3225c-b06b-4953-963e-d9725d0767f3",
   "metadata": {},
   "source": [
    "### LEMMATIZACION QUITANDO STOP WORDS"
   ]
  },
  {
   "cell_type": "code",
   "execution_count": 15,
   "id": "7f07d22b-5d02-4227-b325-6778292dc6f4",
   "metadata": {},
   "outputs": [
    {
     "name": "stdout",
     "output_type": "stream",
     "text": [
      "💪 🏻 🤣 :/ 💥 ❌ 👁 🛒 ✅ :/ :/ :/ 😂 ❤ 😍 :/ :/ :/ 😝 🤣 😇 :/ 😲 🚔 d: :/ 🤠 :/ :/ 🍺 🐔 🍺 :/ 😂 🏀 :/ 😢 😯 😎 :/ XD ♀ 🏼 :/ 📺 d: 😂 :/ 👽 :/ 😩 :/ :/ :/ 📌 :/ ✅ :') 😌 😂 :/ ♀ 🏻 🤦 :/ 💨 😮 😫 :/ :/ 😅 😂 :/ :/ :/ 😂 ☺ 😆 :/ :( :/ :/ :/ 🎉 🙌 😍 😩 😜 😪 🤣 😆 😂 🤣 😎 :/ :/ :/ :/ :/ :/ 😭 💫 😵 😤 :/ 📩 ✔ 📦 :/ Wall time: 1.33 s\n"
     ]
    }
   ],
   "source": [
    "%%time\n",
    "\n",
    "import emot\n",
    "import swifter\n",
    "\n",
    "text = ':-) Woohooo😍✌️'\n",
    "\n",
    "def clean_mean(val):\n",
    "    return val.replace('_', ' ').replace('-', ' ').replace(':', ' ') + ' '\n",
    "\n",
    "def handle_emoji_emoti(text):\n",
    "    for emoti in emot.emo_unicode.EMOTICONS:\n",
    "        if emoti in text:\n",
    "            text = text.replace(emoti, ' ' + clean_mean(emot.emo_unicode.EMOTICONS.get(emoti, '')))\n",
    "            print(emoti, end=' ')\n",
    "\n",
    "    for emoti in emot.emo_unicode.UNICODE_EMO:\n",
    "        if emoti in text:\n",
    "            text = text.replace(emoti, ' ' + clean_mean(emot.emo_unicode.UNICODE_EMO.get(emoti, '')))\n",
    "            print(emoti, end=' ')\n",
    "\n",
    "    for emoti in emot.emo_unicode.EMOTICONS_EMO:\n",
    "        if emoti in text:\n",
    "            text = text.replace(emoti, ' ' + clean_mean(emot.emo_unicode.EMOTICONS_EMO.get(emoti, '')))\n",
    "            print(emoti, end=' ')\n",
    "        \n",
    "    return text\n",
    "        \n",
    "\n",
    "tweets['tweet_emot'] = tweets['text'].apply(handle_emoji_emoti)"
   ]
  },
  {
   "cell_type": "code",
   "execution_count": null,
   "id": "e9c924f8-ed0e-444f-8c2c-61b8d0364977",
   "metadata": {},
   "outputs": [],
   "source": []
  },
  {
   "cell_type": "code",
   "execution_count": 16,
   "id": "5b1dc0d4-59c3-4cbc-a4a5-74b81db27145",
   "metadata": {},
   "outputs": [
    {
     "name": "stdout",
     "output_type": "stream",
     "text": [
      "Wall time: 4min 15s\n"
     ]
    }
   ],
   "source": [
    "%%time\n",
    "\n",
    "import functools\n",
    "\n",
    "def clean_tweet(new):\n",
    "    tokenizacion = [\n",
    "        [\n",
    "           ''.join([token.lemma_ for token in nlp(clean_text_1(_))]) for _ in nltk.word_tokenize(sentence) \n",
    "                         if len(clean_text_1(_)) > 0 and clean_text_1(_) not in stopset_cleaned\n",
    "        ] for sentence in nltk.sent_tokenize(new)\n",
    "    ]\n",
    "    \n",
    "    return \" \".join(functools.reduce(lambda x ,y : x + y , tokenizacion))+\" \"\n",
    "\n",
    "tweets['tweet_cleaned'] = tweets['tweet_emot'].apply(clean_tweet)"
   ]
  },
  {
   "cell_type": "code",
   "execution_count": 18,
   "id": "70792715-a821-4295-abfc-e5691463df14",
   "metadata": {},
   "outputs": [
    {
     "data": {
      "text/html": [
       "<div>\n",
       "<style scoped>\n",
       "    .dataframe tbody tr th:only-of-type {\n",
       "        vertical-align: middle;\n",
       "    }\n",
       "\n",
       "    .dataframe tbody tr th {\n",
       "        vertical-align: top;\n",
       "    }\n",
       "\n",
       "    .dataframe thead th {\n",
       "        text-align: right;\n",
       "    }\n",
       "</style>\n",
       "<table border=\"1\" class=\"dataframe\">\n",
       "  <thead>\n",
       "    <tr style=\"text-align: right;\">\n",
       "      <th></th>\n",
       "      <th>user_id</th>\n",
       "      <th>status_id</th>\n",
       "      <th>created_at</th>\n",
       "      <th>screen_name</th>\n",
       "      <th>text</th>\n",
       "      <th>source</th>\n",
       "      <th>display_text_width</th>\n",
       "      <th>reply_to_status_id</th>\n",
       "      <th>reply_to_user_id</th>\n",
       "      <th>reply_to_screen_name</th>\n",
       "      <th>...</th>\n",
       "      <th>verified</th>\n",
       "      <th>profile_url</th>\n",
       "      <th>profile_expanded_url</th>\n",
       "      <th>account_lang</th>\n",
       "      <th>profile_banner_url</th>\n",
       "      <th>profile_background_url</th>\n",
       "      <th>profile_image_url</th>\n",
       "      <th>text2</th>\n",
       "      <th>tweet_emot</th>\n",
       "      <th>tweet_cleaned</th>\n",
       "    </tr>\n",
       "  </thead>\n",
       "  <tbody>\n",
       "    <tr>\n",
       "      <th>195</th>\n",
       "      <td>1145047622</td>\n",
       "      <td>1420109137275461642</td>\n",
       "      <td>2021-07-27 19:49:37</td>\n",
       "      <td>MrTrocolo</td>\n",
       "      <td>Ganas de tomarme 18L cerveza pero ninguna de m...</td>\n",
       "      <td>Twitter for iPhone</td>\n",
       "      <td>61</td>\n",
       "      <td>NaN</td>\n",
       "      <td>NaN</td>\n",
       "      <td>NaN</td>\n",
       "      <td>...</td>\n",
       "      <td>False</td>\n",
       "      <td>NaN</td>\n",
       "      <td>NaN</td>\n",
       "      <td>NaN</td>\n",
       "      <td>https://pbs.twimg.com/profile_banners/11450476...</td>\n",
       "      <td>http://abs.twimg.com/images/themes/theme1/bg.png</td>\n",
       "      <td>http://pbs.twimg.com/profile_images/1417061926...</td>\n",
       "      <td>Ganas de tomarme 18L cerveza pero ninguna de m...</td>\n",
       "      <td>Ganas de tomarme 18L cerveza pero ninguna de m...</td>\n",
       "      <td>gana tomaryo l cerveza ninguno moverme sofa</td>\n",
       "    </tr>\n",
       "    <tr>\n",
       "      <th>196</th>\n",
       "      <td>1346200940811055108</td>\n",
       "      <td>1420108906982952967</td>\n",
       "      <td>2021-07-27 19:48:42</td>\n",
       "      <td>dexdian_</td>\n",
       "      <td>@AUR0NBUH0 cerveza\\n#KCAMexico #AuronPlay #Joa...</td>\n",
       "      <td>Twitter Web App</td>\n",
       "      <td>45</td>\n",
       "      <td>1.420106e+18</td>\n",
       "      <td>1.261208e+18</td>\n",
       "      <td>AUR0NBUH0</td>\n",
       "      <td>...</td>\n",
       "      <td>False</td>\n",
       "      <td>NaN</td>\n",
       "      <td>NaN</td>\n",
       "      <td>NaN</td>\n",
       "      <td>https://pbs.twimg.com/profile_banners/13462009...</td>\n",
       "      <td>NaN</td>\n",
       "      <td>http://pbs.twimg.com/profile_images/1415395399...</td>\n",
       "      <td>@AUR0NBUH0 cerveza\\n#KCAMexico #AuronPlay #Joa...</td>\n",
       "      <td>@AUR0NBUH0 cerveza\\n#KCAMexico #AuronPlay #Joa...</td>\n",
       "      <td>aurnbuh cerveza kcamexico auronplar joaquinbon...</td>\n",
       "    </tr>\n",
       "    <tr>\n",
       "      <th>197</th>\n",
       "      <td>60033096</td>\n",
       "      <td>1420108885206110212</td>\n",
       "      <td>2021-07-27 19:48:37</td>\n",
       "      <td>razanon</td>\n",
       "      <td>@yosoylalimon @senora_rubia Barda es un ejempl...</td>\n",
       "      <td>Twitter for Android</td>\n",
       "      <td>214</td>\n",
       "      <td>1.420108e+18</td>\n",
       "      <td>1.274265e+18</td>\n",
       "      <td>yosoylalimon</td>\n",
       "      <td>...</td>\n",
       "      <td>False</td>\n",
       "      <td>NaN</td>\n",
       "      <td>NaN</td>\n",
       "      <td>NaN</td>\n",
       "      <td>https://pbs.twimg.com/profile_banners/60033096...</td>\n",
       "      <td>http://abs.twimg.com/images/themes/theme1/bg.png</td>\n",
       "      <td>http://pbs.twimg.com/profile_images/1325819388...</td>\n",
       "      <td>@yosoylalimon @senora_rubia Barda es un ejempl...</td>\n",
       "      <td>@yosoylalimon @senora_rubia Barda es un ejempl...</td>\n",
       "      <td>yosoylalimon senorarubir barda ejemplo vacio c...</td>\n",
       "    </tr>\n",
       "    <tr>\n",
       "      <th>198</th>\n",
       "      <td>921522062816174080</td>\n",
       "      <td>1420108867053236225</td>\n",
       "      <td>2021-07-27 19:48:32</td>\n",
       "      <td>E_BPinki</td>\n",
       "      <td>si me vacune ayer puedo beber cerveza hoy??? d...</td>\n",
       "      <td>Twitter for iPhone</td>\n",
       "      <td>55</td>\n",
       "      <td>NaN</td>\n",
       "      <td>NaN</td>\n",
       "      <td>NaN</td>\n",
       "      <td>...</td>\n",
       "      <td>False</td>\n",
       "      <td>NaN</td>\n",
       "      <td>NaN</td>\n",
       "      <td>NaN</td>\n",
       "      <td>https://pbs.twimg.com/profile_banners/92152206...</td>\n",
       "      <td>NaN</td>\n",
       "      <td>http://pbs.twimg.com/profile_images/1400526715...</td>\n",
       "      <td>si me vacune ayer puedo beber cerveza hoy??? d...</td>\n",
       "      <td>si me vacune ayer puedo beber cerveza hoy??? d...</td>\n",
       "      <td>vacunir ayer poder beber cerveza hoy duda</td>\n",
       "    </tr>\n",
       "    <tr>\n",
       "      <th>199</th>\n",
       "      <td>1354941251771117579</td>\n",
       "      <td>1420108797071212547</td>\n",
       "      <td>2021-07-27 19:48:16</td>\n",
       "      <td>ARSXNISTLULLABY</td>\n",
       "      <td>ㅤ\\n⠀⠀⠀⠀⠀⠀⠀⠀⠀⠀⠀❛ㅤAtrapala en la primera media h...</td>\n",
       "      <td>Twitter for Android</td>\n",
       "      <td>86</td>\n",
       "      <td>NaN</td>\n",
       "      <td>NaN</td>\n",
       "      <td>NaN</td>\n",
       "      <td>...</td>\n",
       "      <td>False</td>\n",
       "      <td>NaN</td>\n",
       "      <td>NaN</td>\n",
       "      <td>NaN</td>\n",
       "      <td>https://pbs.twimg.com/profile_banners/13549412...</td>\n",
       "      <td>NaN</td>\n",
       "      <td>http://pbs.twimg.com/profile_images/1419805725...</td>\n",
       "      <td>ㅤ\\n⠀⠀⠀⠀⠀⠀⠀⠀⠀⠀⠀❛ㅤAtrapala en la primera media h...</td>\n",
       "      <td>ㅤ\\n⠀⠀⠀⠀⠀⠀⠀⠀⠀⠀⠀❛ㅤAtrapala en la primera media h...</td>\n",
       "      <td>atrapala primero medio hora invitar mantequill...</td>\n",
       "    </tr>\n",
       "  </tbody>\n",
       "</table>\n",
       "<p>5 rows × 93 columns</p>\n",
       "</div>"
      ],
      "text/plain": [
       "                 user_id            status_id          created_at  \\\n",
       "195           1145047622  1420109137275461642 2021-07-27 19:49:37   \n",
       "196  1346200940811055108  1420108906982952967 2021-07-27 19:48:42   \n",
       "197             60033096  1420108885206110212 2021-07-27 19:48:37   \n",
       "198   921522062816174080  1420108867053236225 2021-07-27 19:48:32   \n",
       "199  1354941251771117579  1420108797071212547 2021-07-27 19:48:16   \n",
       "\n",
       "         screen_name                                               text  \\\n",
       "195        MrTrocolo  Ganas de tomarme 18L cerveza pero ninguna de m...   \n",
       "196         dexdian_  @AUR0NBUH0 cerveza\\n#KCAMexico #AuronPlay #Joa...   \n",
       "197          razanon  @yosoylalimon @senora_rubia Barda es un ejempl...   \n",
       "198         E_BPinki  si me vacune ayer puedo beber cerveza hoy??? d...   \n",
       "199  ARSXNISTLULLABY  ㅤ\\n⠀⠀⠀⠀⠀⠀⠀⠀⠀⠀⠀❛ㅤAtrapala en la primera media h...   \n",
       "\n",
       "                  source  display_text_width  reply_to_status_id  \\\n",
       "195   Twitter for iPhone                  61                 NaN   \n",
       "196      Twitter Web App                  45        1.420106e+18   \n",
       "197  Twitter for Android                 214        1.420108e+18   \n",
       "198   Twitter for iPhone                  55                 NaN   \n",
       "199  Twitter for Android                  86                 NaN   \n",
       "\n",
       "     reply_to_user_id reply_to_screen_name  ...  verified  profile_url  \\\n",
       "195               NaN                  NaN  ...     False          NaN   \n",
       "196      1.261208e+18            AUR0NBUH0  ...     False          NaN   \n",
       "197      1.274265e+18         yosoylalimon  ...     False          NaN   \n",
       "198               NaN                  NaN  ...     False          NaN   \n",
       "199               NaN                  NaN  ...     False          NaN   \n",
       "\n",
       "     profile_expanded_url  account_lang  \\\n",
       "195                   NaN           NaN   \n",
       "196                   NaN           NaN   \n",
       "197                   NaN           NaN   \n",
       "198                   NaN           NaN   \n",
       "199                   NaN           NaN   \n",
       "\n",
       "                                    profile_banner_url  \\\n",
       "195  https://pbs.twimg.com/profile_banners/11450476...   \n",
       "196  https://pbs.twimg.com/profile_banners/13462009...   \n",
       "197  https://pbs.twimg.com/profile_banners/60033096...   \n",
       "198  https://pbs.twimg.com/profile_banners/92152206...   \n",
       "199  https://pbs.twimg.com/profile_banners/13549412...   \n",
       "\n",
       "                               profile_background_url  \\\n",
       "195  http://abs.twimg.com/images/themes/theme1/bg.png   \n",
       "196                                               NaN   \n",
       "197  http://abs.twimg.com/images/themes/theme1/bg.png   \n",
       "198                                               NaN   \n",
       "199                                               NaN   \n",
       "\n",
       "                                     profile_image_url  \\\n",
       "195  http://pbs.twimg.com/profile_images/1417061926...   \n",
       "196  http://pbs.twimg.com/profile_images/1415395399...   \n",
       "197  http://pbs.twimg.com/profile_images/1325819388...   \n",
       "198  http://pbs.twimg.com/profile_images/1400526715...   \n",
       "199  http://pbs.twimg.com/profile_images/1419805725...   \n",
       "\n",
       "                                                 text2  \\\n",
       "195  Ganas de tomarme 18L cerveza pero ninguna de m...   \n",
       "196  @AUR0NBUH0 cerveza\\n#KCAMexico #AuronPlay #Joa...   \n",
       "197  @yosoylalimon @senora_rubia Barda es un ejempl...   \n",
       "198  si me vacune ayer puedo beber cerveza hoy??? d...   \n",
       "199  ㅤ\\n⠀⠀⠀⠀⠀⠀⠀⠀⠀⠀⠀❛ㅤAtrapala en la primera media h...   \n",
       "\n",
       "                                            tweet_emot  \\\n",
       "195  Ganas de tomarme 18L cerveza pero ninguna de m...   \n",
       "196  @AUR0NBUH0 cerveza\\n#KCAMexico #AuronPlay #Joa...   \n",
       "197  @yosoylalimon @senora_rubia Barda es un ejempl...   \n",
       "198  si me vacune ayer puedo beber cerveza hoy??? d...   \n",
       "199  ㅤ\\n⠀⠀⠀⠀⠀⠀⠀⠀⠀⠀⠀❛ㅤAtrapala en la primera media h...   \n",
       "\n",
       "                                         tweet_cleaned  \n",
       "195       gana tomaryo l cerveza ninguno moverme sofa   \n",
       "196  aurnbuh cerveza kcamexico auronplar joaquinbon...  \n",
       "197  yosoylalimon senorarubir barda ejemplo vacio c...  \n",
       "198         vacunir ayer poder beber cerveza hoy duda   \n",
       "199  atrapala primero medio hora invitar mantequill...  \n",
       "\n",
       "[5 rows x 93 columns]"
      ]
     },
     "execution_count": 18,
     "metadata": {},
     "output_type": "execute_result"
    }
   ],
   "source": [
    "tweets.tail()"
   ]
  },
  {
   "cell_type": "code",
   "execution_count": 19,
   "id": "b05db22c-8f55-4ee6-9921-1d7f0dffbbb0",
   "metadata": {},
   "outputs": [],
   "source": [
    "tweets.to_csv('tweets_cleaned.csv', index=False)"
   ]
  },
  {
   "cell_type": "code",
   "execution_count": 20,
   "id": "293e12a8-61b2-478c-82df-27961c87418e",
   "metadata": {},
   "outputs": [
    {
     "data": {
      "text/plain": [
       "<AxesSubplot:>"
      ]
     },
     "execution_count": 20,
     "metadata": {},
     "output_type": "execute_result"
    },
    {
     "data": {
      "image/png": "[encoded data removed]",
      "text/plain": [
       "<Figure size 432x288 with 1 Axes>"
      ]
     },
     "metadata": {
      "needs_background": "light"
     },
     "output_type": "display_data"
    }
   ],
   "source": [
    "tweets['n_words_cleaned'] = tweets['tweet_cleaned'].apply(lambda _: len(_.split()))\n",
    "tweets['n_words_cleaned'].hist()"
   ]
  },
  {
   "cell_type": "code",
   "execution_count": 21,
   "id": "1e8e0bb3-39d1-4e8e-9e5f-ea7987329f4c",
   "metadata": {},
   "outputs": [
    {
     "data": {
      "text/html": [
       "<div>\n",
       "<style scoped>\n",
       "    .dataframe tbody tr th:only-of-type {\n",
       "        vertical-align: middle;\n",
       "    }\n",
       "\n",
       "    .dataframe tbody tr th {\n",
       "        vertical-align: top;\n",
       "    }\n",
       "\n",
       "    .dataframe thead th {\n",
       "        text-align: right;\n",
       "    }\n",
       "</style>\n",
       "<table border=\"1\" class=\"dataframe\">\n",
       "  <thead>\n",
       "    <tr style=\"text-align: right;\">\n",
       "      <th></th>\n",
       "      <th>profile_url</th>\n",
       "      <th>profile_expanded_url</th>\n",
       "      <th>account_lang</th>\n",
       "      <th>profile_banner_url</th>\n",
       "      <th>profile_background_url</th>\n",
       "      <th>profile_image_url</th>\n",
       "      <th>text2</th>\n",
       "      <th>tweet_emot</th>\n",
       "      <th>tweet_cleaned</th>\n",
       "      <th>n_words_cleaned</th>\n",
       "    </tr>\n",
       "  </thead>\n",
       "  <tbody>\n",
       "    <tr>\n",
       "      <th>0</th>\n",
       "      <td>NaN</td>\n",
       "      <td>NaN</td>\n",
       "      <td>NaN</td>\n",
       "      <td>https://pbs.twimg.com/profile_banners/18707734...</td>\n",
       "      <td>http://abs.twimg.com/images/themes/theme18/bg.gif</td>\n",
       "      <td>http://pbs.twimg.com/profile_images/8402706560...</td>\n",
       "      <td>@intensaaa2020 Mmm ya me fastidie, no me gusta...</td>\n",
       "      <td>@intensaaa2020 Mmm ya me fastidie, no me gusta...</td>\n",
       "      <td>intensaar mmm fastidiar gustar beber casi dw a...</td>\n",
       "      <td>9</td>\n",
       "    </tr>\n",
       "    <tr>\n",
       "      <th>1</th>\n",
       "      <td>NaN</td>\n",
       "      <td>NaN</td>\n",
       "      <td>NaN</td>\n",
       "      <td>https://pbs.twimg.com/profile_banners/75492317...</td>\n",
       "      <td>NaN</td>\n",
       "      <td>http://pbs.twimg.com/profile_images/1392738046...</td>\n",
       "      <td>No saben lo mucho que quisiera que me gustara ...</td>\n",
       "      <td>No saben lo mucho que quisiera que me gustara ...</td>\n",
       "      <td>saber querer gustar cerveza nomas</td>\n",
       "      <td>5</td>\n",
       "    </tr>\n",
       "    <tr>\n",
       "      <th>2</th>\n",
       "      <td>https://t.co/0pxjj8LIZr</td>\n",
       "      <td>https://www.youtube.com/channel/UCRsjWfA-Z4veF...</td>\n",
       "      <td>NaN</td>\n",
       "      <td>https://pbs.twimg.com/profile_banners/45189417...</td>\n",
       "      <td>NaN</td>\n",
       "      <td>http://pbs.twimg.com/profile_images/1340260811...</td>\n",
       "      <td>Escribo mal porque he bebido medio litro de ce...</td>\n",
       "      <td>Escribo mal porque he bebido medio litro de ce...</td>\n",
       "      <td>escribir mal bebido medio litro cerveza ingest...</td>\n",
       "      <td>12</td>\n",
       "    </tr>\n",
       "    <tr>\n",
       "      <th>3</th>\n",
       "      <td>NaN</td>\n",
       "      <td>NaN</td>\n",
       "      <td>NaN</td>\n",
       "      <td>https://pbs.twimg.com/profile_banners/12841805...</td>\n",
       "      <td>NaN</td>\n",
       "      <td>http://pbs.twimg.com/profile_images/1417326584...</td>\n",
       "      <td>@marlasuarezzz Cerveza, Vino, Whisky, Helado j...</td>\n",
       "      <td>@marlasuarezzz Cerveza, Vino, Whisky, Helado j...</td>\n",
       "      <td>marlasuarezzz cerveza venir whisky helado jeje...</td>\n",
       "      <td>16</td>\n",
       "    </tr>\n",
       "    <tr>\n",
       "      <th>4</th>\n",
       "      <td>https://t.co/ks5VRb7KD1</td>\n",
       "      <td>https://t.me/TOP_Descuentos</td>\n",
       "      <td>NaN</td>\n",
       "      <td>https://pbs.twimg.com/profile_banners/13386057...</td>\n",
       "      <td>NaN</td>\n",
       "      <td>http://pbs.twimg.com/profile_images/1338609798...</td>\n",
       "      <td>💥Taza de Café, 18oz Vaso Termico Café Termo Do...</td>\n",
       "      <td>collision Taza de Café, 18oz Vaso Termico Ca...</td>\n",
       "      <td>collision taza cafe oz vaso termico cafe termo...</td>\n",
       "      <td>55</td>\n",
       "    </tr>\n",
       "  </tbody>\n",
       "</table>\n",
       "</div>"
      ],
      "text/plain": [
       "               profile_url                               profile_expanded_url  \\\n",
       "0                      NaN                                                NaN   \n",
       "1                      NaN                                                NaN   \n",
       "2  https://t.co/0pxjj8LIZr  https://www.youtube.com/channel/UCRsjWfA-Z4veF...   \n",
       "3                      NaN                                                NaN   \n",
       "4  https://t.co/ks5VRb7KD1                        https://t.me/TOP_Descuentos   \n",
       "\n",
       "   account_lang                                 profile_banner_url  \\\n",
       "0           NaN  https://pbs.twimg.com/profile_banners/18707734...   \n",
       "1           NaN  https://pbs.twimg.com/profile_banners/75492317...   \n",
       "2           NaN  https://pbs.twimg.com/profile_banners/45189417...   \n",
       "3           NaN  https://pbs.twimg.com/profile_banners/12841805...   \n",
       "4           NaN  https://pbs.twimg.com/profile_banners/13386057...   \n",
       "\n",
       "                              profile_background_url  \\\n",
       "0  http://abs.twimg.com/images/themes/theme18/bg.gif   \n",
       "1                                                NaN   \n",
       "2                                                NaN   \n",
       "3                                                NaN   \n",
       "4                                                NaN   \n",
       "\n",
       "                                   profile_image_url  \\\n",
       "0  http://pbs.twimg.com/profile_images/8402706560...   \n",
       "1  http://pbs.twimg.com/profile_images/1392738046...   \n",
       "2  http://pbs.twimg.com/profile_images/1340260811...   \n",
       "3  http://pbs.twimg.com/profile_images/1417326584...   \n",
       "4  http://pbs.twimg.com/profile_images/1338609798...   \n",
       "\n",
       "                                               text2  \\\n",
       "0  @intensaaa2020 Mmm ya me fastidie, no me gusta...   \n",
       "1  No saben lo mucho que quisiera que me gustara ...   \n",
       "2  Escribo mal porque he bebido medio litro de ce...   \n",
       "3  @marlasuarezzz Cerveza, Vino, Whisky, Helado j...   \n",
       "4  💥Taza de Café, 18oz Vaso Termico Café Termo Do...   \n",
       "\n",
       "                                          tweet_emot  \\\n",
       "0  @intensaaa2020 Mmm ya me fastidie, no me gusta...   \n",
       "1  No saben lo mucho que quisiera que me gustara ...   \n",
       "2  Escribo mal porque he bebido medio litro de ce...   \n",
       "3  @marlasuarezzz Cerveza, Vino, Whisky, Helado j...   \n",
       "4    collision Taza de Café, 18oz Vaso Termico Ca...   \n",
       "\n",
       "                                       tweet_cleaned  n_words_cleaned  \n",
       "0  intensaar mmm fastidiar gustar beber casi dw a...                9  \n",
       "1                 saber querer gustar cerveza nomas                 5  \n",
       "2  escribir mal bebido medio litro cerveza ingest...               12  \n",
       "3  marlasuarezzz cerveza venir whisky helado jeje...               16  \n",
       "4  collision taza cafe oz vaso termico cafe termo...               55  "
      ]
     },
     "execution_count": 21,
     "metadata": {},
     "output_type": "execute_result"
    }
   ],
   "source": [
    "tweets.iloc[:,-10:].head()"
   ]
  },
  {
   "cell_type": "code",
   "execution_count": 22,
   "id": "7bcd2503-0bc7-4531-9e81-afb571275881",
   "metadata": {},
   "outputs": [
    {
     "data": {
      "text/plain": [
       "(200, 94)"
      ]
     },
     "execution_count": 22,
     "metadata": {},
     "output_type": "execute_result"
    }
   ],
   "source": [
    "tweets.shape"
   ]
  },
  {
   "cell_type": "code",
   "execution_count": null,
   "id": "c4fc1bf1-3b4b-4faf-a8d7-0c86bbd61099",
   "metadata": {},
   "outputs": [],
   "source": []
  },
  {
   "cell_type": "markdown",
   "id": "478ecdce-f24a-46fc-a195-f26953d7a721",
   "metadata": {},
   "source": [
    "### TOKENS"
   ]
  },
  {
   "cell_type": "code",
   "execution_count": 28,
   "id": "787d506a-27fd-4b2d-b9ae-f3fd79e6c1a9",
   "metadata": {},
   "outputs": [
    {
     "data": {
      "text/html": [
       "<div>\n",
       "<style scoped>\n",
       "    .dataframe tbody tr th:only-of-type {\n",
       "        vertical-align: middle;\n",
       "    }\n",
       "\n",
       "    .dataframe tbody tr th {\n",
       "        vertical-align: top;\n",
       "    }\n",
       "\n",
       "    .dataframe thead th {\n",
       "        text-align: right;\n",
       "    }\n",
       "</style>\n",
       "<table border=\"1\" class=\"dataframe\">\n",
       "  <thead>\n",
       "    <tr style=\"text-align: right;\">\n",
       "      <th></th>\n",
       "      <th>user_id</th>\n",
       "      <th>status_id</th>\n",
       "      <th>created_at</th>\n",
       "      <th>screen_name</th>\n",
       "      <th>text</th>\n",
       "      <th>source</th>\n",
       "      <th>display_text_width</th>\n",
       "      <th>reply_to_status_id</th>\n",
       "      <th>reply_to_user_id</th>\n",
       "      <th>reply_to_screen_name</th>\n",
       "      <th>...</th>\n",
       "      <th>profile_expanded_url</th>\n",
       "      <th>account_lang</th>\n",
       "      <th>profile_banner_url</th>\n",
       "      <th>profile_background_url</th>\n",
       "      <th>profile_image_url</th>\n",
       "      <th>text2</th>\n",
       "      <th>tweet_emot</th>\n",
       "      <th>tweet_cleaned</th>\n",
       "      <th>n_words_cleaned</th>\n",
       "      <th>texto_tokenizado</th>\n",
       "    </tr>\n",
       "  </thead>\n",
       "  <tbody>\n",
       "    <tr>\n",
       "      <th>0</th>\n",
       "      <td>187077341</td>\n",
       "      <td>1420117682163228672</td>\n",
       "      <td>2021-07-27 20:23:34</td>\n",
       "      <td>Seahawk_Davo</td>\n",
       "      <td>@intensaaa2020 Mmm ya me fastidie, no me gusta...</td>\n",
       "      <td>Twitter for Android</td>\n",
       "      <td>68</td>\n",
       "      <td>1.419892e+18</td>\n",
       "      <td>1.337034e+18</td>\n",
       "      <td>intensaaa2020</td>\n",
       "      <td>...</td>\n",
       "      <td>NaN</td>\n",
       "      <td>NaN</td>\n",
       "      <td>https://pbs.twimg.com/profile_banners/18707734...</td>\n",
       "      <td>http://abs.twimg.com/images/themes/theme18/bg.gif</td>\n",
       "      <td>http://pbs.twimg.com/profile_images/8402706560...</td>\n",
       "      <td>@intensaaa2020 Mmm ya me fastidie, no me gusta...</td>\n",
       "      <td>@intensaaa2020 Mmm ya me fastidie, no me gusta...</td>\n",
       "      <td>intensaar mmm fastidiar gustar beber casi dw a...</td>\n",
       "      <td>9</td>\n",
       "      <td>[intensaar, mmm, fastidiar, gustar, beber, cas...</td>\n",
       "    </tr>\n",
       "    <tr>\n",
       "      <th>1</th>\n",
       "      <td>754923173422833665</td>\n",
       "      <td>1420117600227536899</td>\n",
       "      <td>2021-07-27 20:23:15</td>\n",
       "      <td>susiurbizu</td>\n",
       "      <td>No saben lo mucho que quisiera que me gustara ...</td>\n",
       "      <td>Twitter for iPhone</td>\n",
       "      <td>70</td>\n",
       "      <td>NaN</td>\n",
       "      <td>NaN</td>\n",
       "      <td>NaN</td>\n",
       "      <td>...</td>\n",
       "      <td>NaN</td>\n",
       "      <td>NaN</td>\n",
       "      <td>https://pbs.twimg.com/profile_banners/75492317...</td>\n",
       "      <td>NaN</td>\n",
       "      <td>http://pbs.twimg.com/profile_images/1392738046...</td>\n",
       "      <td>No saben lo mucho que quisiera que me gustara ...</td>\n",
       "      <td>No saben lo mucho que quisiera que me gustara ...</td>\n",
       "      <td>saber querer gustar cerveza nomas</td>\n",
       "      <td>5</td>\n",
       "      <td>[saber, querer, gustar, cerveza, nomas]</td>\n",
       "    </tr>\n",
       "    <tr>\n",
       "      <th>2</th>\n",
       "      <td>4518941727</td>\n",
       "      <td>1420117528110587905</td>\n",
       "      <td>2021-07-27 20:22:57</td>\n",
       "      <td>Veothfolnir</td>\n",
       "      <td>Escribo mal porque he bebido medio litro de ce...</td>\n",
       "      <td>TweetDeck</td>\n",
       "      <td>100</td>\n",
       "      <td>NaN</td>\n",
       "      <td>NaN</td>\n",
       "      <td>NaN</td>\n",
       "      <td>...</td>\n",
       "      <td>https://www.youtube.com/channel/UCRsjWfA-Z4veF...</td>\n",
       "      <td>NaN</td>\n",
       "      <td>https://pbs.twimg.com/profile_banners/45189417...</td>\n",
       "      <td>NaN</td>\n",
       "      <td>http://pbs.twimg.com/profile_images/1340260811...</td>\n",
       "      <td>Escribo mal porque he bebido medio litro de ce...</td>\n",
       "      <td>Escribo mal porque he bebido medio litro de ce...</td>\n",
       "      <td>escribir mal bebido medio litro cerveza ingest...</td>\n",
       "      <td>12</td>\n",
       "      <td>[escribir, mal, bebido, medio, litro, cerveza,...</td>\n",
       "    </tr>\n",
       "    <tr>\n",
       "      <th>3</th>\n",
       "      <td>1284180586257670147</td>\n",
       "      <td>1420117527384965121</td>\n",
       "      <td>2021-07-27 20:22:57</td>\n",
       "      <td>tu_tio_teviola</td>\n",
       "      <td>@marlasuarezzz Cerveza, Vino, Whisky, Helado j...</td>\n",
       "      <td>Twitter for Android</td>\n",
       "      <td>42</td>\n",
       "      <td>1.420092e+18</td>\n",
       "      <td>1.282937e+18</td>\n",
       "      <td>marlasuarezzz</td>\n",
       "      <td>...</td>\n",
       "      <td>NaN</td>\n",
       "      <td>NaN</td>\n",
       "      <td>https://pbs.twimg.com/profile_banners/12841805...</td>\n",
       "      <td>NaN</td>\n",
       "      <td>http://pbs.twimg.com/profile_images/1417326584...</td>\n",
       "      <td>@marlasuarezzz Cerveza, Vino, Whisky, Helado j...</td>\n",
       "      <td>@marlasuarezzz Cerveza, Vino, Whisky, Helado j...</td>\n",
       "      <td>marlasuarezzz cerveza venir whisky helado jeje...</td>\n",
       "      <td>16</td>\n",
       "      <td>[marlasuarezzz, cerveza, venir, whisky, helado...</td>\n",
       "    </tr>\n",
       "    <tr>\n",
       "      <th>4</th>\n",
       "      <td>1338605739221413888</td>\n",
       "      <td>1420117511786442752</td>\n",
       "      <td>2021-07-27 20:22:53</td>\n",
       "      <td>topdescuentostg</td>\n",
       "      <td>💥Taza de Café, 18oz Vaso Termico Café Termo Do...</td>\n",
       "      <td>FRIKItwitter</td>\n",
       "      <td>260</td>\n",
       "      <td>NaN</td>\n",
       "      <td>NaN</td>\n",
       "      <td>NaN</td>\n",
       "      <td>...</td>\n",
       "      <td>https://t.me/TOP_Descuentos</td>\n",
       "      <td>NaN</td>\n",
       "      <td>https://pbs.twimg.com/profile_banners/13386057...</td>\n",
       "      <td>NaN</td>\n",
       "      <td>http://pbs.twimg.com/profile_images/1338609798...</td>\n",
       "      <td>💥Taza de Café, 18oz Vaso Termico Café Termo Do...</td>\n",
       "      <td>collision Taza de Café, 18oz Vaso Termico Ca...</td>\n",
       "      <td>collision taza cafe oz vaso termico cafe termo...</td>\n",
       "      <td>55</td>\n",
       "      <td>[collision, taza, cafe, oz, vaso, termico, caf...</td>\n",
       "    </tr>\n",
       "  </tbody>\n",
       "</table>\n",
       "<p>5 rows × 95 columns</p>\n",
       "</div>"
      ],
      "text/plain": [
       "               user_id            status_id          created_at  \\\n",
       "0            187077341  1420117682163228672 2021-07-27 20:23:34   \n",
       "1   754923173422833665  1420117600227536899 2021-07-27 20:23:15   \n",
       "2           4518941727  1420117528110587905 2021-07-27 20:22:57   \n",
       "3  1284180586257670147  1420117527384965121 2021-07-27 20:22:57   \n",
       "4  1338605739221413888  1420117511786442752 2021-07-27 20:22:53   \n",
       "\n",
       "       screen_name                                               text  \\\n",
       "0     Seahawk_Davo  @intensaaa2020 Mmm ya me fastidie, no me gusta...   \n",
       "1       susiurbizu  No saben lo mucho que quisiera que me gustara ...   \n",
       "2      Veothfolnir  Escribo mal porque he bebido medio litro de ce...   \n",
       "3   tu_tio_teviola  @marlasuarezzz Cerveza, Vino, Whisky, Helado j...   \n",
       "4  topdescuentostg  💥Taza de Café, 18oz Vaso Termico Café Termo Do...   \n",
       "\n",
       "                source  display_text_width  reply_to_status_id  \\\n",
       "0  Twitter for Android                  68        1.419892e+18   \n",
       "1   Twitter for iPhone                  70                 NaN   \n",
       "2            TweetDeck                 100                 NaN   \n",
       "3  Twitter for Android                  42        1.420092e+18   \n",
       "4         FRIKItwitter                 260                 NaN   \n",
       "\n",
       "   reply_to_user_id reply_to_screen_name  ...  \\\n",
       "0      1.337034e+18        intensaaa2020  ...   \n",
       "1               NaN                  NaN  ...   \n",
       "2               NaN                  NaN  ...   \n",
       "3      1.282937e+18        marlasuarezzz  ...   \n",
       "4               NaN                  NaN  ...   \n",
       "\n",
       "                                profile_expanded_url  account_lang  \\\n",
       "0                                                NaN           NaN   \n",
       "1                                                NaN           NaN   \n",
       "2  https://www.youtube.com/channel/UCRsjWfA-Z4veF...           NaN   \n",
       "3                                                NaN           NaN   \n",
       "4                        https://t.me/TOP_Descuentos           NaN   \n",
       "\n",
       "                                  profile_banner_url  \\\n",
       "0  https://pbs.twimg.com/profile_banners/18707734...   \n",
       "1  https://pbs.twimg.com/profile_banners/75492317...   \n",
       "2  https://pbs.twimg.com/profile_banners/45189417...   \n",
       "3  https://pbs.twimg.com/profile_banners/12841805...   \n",
       "4  https://pbs.twimg.com/profile_banners/13386057...   \n",
       "\n",
       "                              profile_background_url  \\\n",
       "0  http://abs.twimg.com/images/themes/theme18/bg.gif   \n",
       "1                                                NaN   \n",
       "2                                                NaN   \n",
       "3                                                NaN   \n",
       "4                                                NaN   \n",
       "\n",
       "                                   profile_image_url  \\\n",
       "0  http://pbs.twimg.com/profile_images/8402706560...   \n",
       "1  http://pbs.twimg.com/profile_images/1392738046...   \n",
       "2  http://pbs.twimg.com/profile_images/1340260811...   \n",
       "3  http://pbs.twimg.com/profile_images/1417326584...   \n",
       "4  http://pbs.twimg.com/profile_images/1338609798...   \n",
       "\n",
       "                                               text2  \\\n",
       "0  @intensaaa2020 Mmm ya me fastidie, no me gusta...   \n",
       "1  No saben lo mucho que quisiera que me gustara ...   \n",
       "2  Escribo mal porque he bebido medio litro de ce...   \n",
       "3  @marlasuarezzz Cerveza, Vino, Whisky, Helado j...   \n",
       "4  💥Taza de Café, 18oz Vaso Termico Café Termo Do...   \n",
       "\n",
       "                                          tweet_emot  \\\n",
       "0  @intensaaa2020 Mmm ya me fastidie, no me gusta...   \n",
       "1  No saben lo mucho que quisiera que me gustara ...   \n",
       "2  Escribo mal porque he bebido medio litro de ce...   \n",
       "3  @marlasuarezzz Cerveza, Vino, Whisky, Helado j...   \n",
       "4    collision Taza de Café, 18oz Vaso Termico Ca...   \n",
       "\n",
       "                                       tweet_cleaned n_words_cleaned  \\\n",
       "0  intensaar mmm fastidiar gustar beber casi dw a...               9   \n",
       "1                 saber querer gustar cerveza nomas                5   \n",
       "2  escribir mal bebido medio litro cerveza ingest...              12   \n",
       "3  marlasuarezzz cerveza venir whisky helado jeje...              16   \n",
       "4  collision taza cafe oz vaso termico cafe termo...              55   \n",
       "\n",
       "                                    texto_tokenizado  \n",
       "0  [intensaar, mmm, fastidiar, gustar, beber, cas...  \n",
       "1            [saber, querer, gustar, cerveza, nomas]  \n",
       "2  [escribir, mal, bebido, medio, litro, cerveza,...  \n",
       "3  [marlasuarezzz, cerveza, venir, whisky, helado...  \n",
       "4  [collision, taza, cafe, oz, vaso, termico, caf...  \n",
       "\n",
       "[5 rows x 95 columns]"
      ]
     },
     "execution_count": 28,
     "metadata": {},
     "output_type": "execute_result"
    }
   ],
   "source": [
    "tweets['texto_tokenizado'] = tweets['tweet_cleaned'].apply(lambda _: _.split())\n",
    "tweets.head()"
   ]
  },
  {
   "cell_type": "code",
   "execution_count": 29,
   "id": "b6ba756e-324f-4bb2-b6c9-8e2bc5960700",
   "metadata": {},
   "outputs": [
    {
     "data": {
      "text/html": [
       "<div>\n",
       "<style scoped>\n",
       "    .dataframe tbody tr th:only-of-type {\n",
       "        vertical-align: middle;\n",
       "    }\n",
       "\n",
       "    .dataframe tbody tr th {\n",
       "        vertical-align: top;\n",
       "    }\n",
       "\n",
       "    .dataframe thead th {\n",
       "        text-align: right;\n",
       "    }\n",
       "</style>\n",
       "<table border=\"1\" class=\"dataframe\">\n",
       "  <thead>\n",
       "    <tr style=\"text-align: right;\">\n",
       "      <th></th>\n",
       "      <th>user_id</th>\n",
       "      <th>status_id</th>\n",
       "      <th>created_at</th>\n",
       "      <th>screen_name</th>\n",
       "      <th>token</th>\n",
       "    </tr>\n",
       "  </thead>\n",
       "  <tbody>\n",
       "    <tr>\n",
       "      <th>0</th>\n",
       "      <td>187077341</td>\n",
       "      <td>1420117682163228672</td>\n",
       "      <td>2021-07-27 20:23:34</td>\n",
       "      <td>Seahawk_Davo</td>\n",
       "      <td>intensaar</td>\n",
       "    </tr>\n",
       "    <tr>\n",
       "      <th>0</th>\n",
       "      <td>187077341</td>\n",
       "      <td>1420117682163228672</td>\n",
       "      <td>2021-07-27 20:23:34</td>\n",
       "      <td>Seahawk_Davo</td>\n",
       "      <td>mmm</td>\n",
       "    </tr>\n",
       "    <tr>\n",
       "      <th>0</th>\n",
       "      <td>187077341</td>\n",
       "      <td>1420117682163228672</td>\n",
       "      <td>2021-07-27 20:23:34</td>\n",
       "      <td>Seahawk_Davo</td>\n",
       "      <td>fastidiar</td>\n",
       "    </tr>\n",
       "    <tr>\n",
       "      <th>0</th>\n",
       "      <td>187077341</td>\n",
       "      <td>1420117682163228672</td>\n",
       "      <td>2021-07-27 20:23:34</td>\n",
       "      <td>Seahawk_Davo</td>\n",
       "      <td>gustar</td>\n",
       "    </tr>\n",
       "    <tr>\n",
       "      <th>0</th>\n",
       "      <td>187077341</td>\n",
       "      <td>1420117682163228672</td>\n",
       "      <td>2021-07-27 20:23:34</td>\n",
       "      <td>Seahawk_Davo</td>\n",
       "      <td>beber</td>\n",
       "    </tr>\n",
       "  </tbody>\n",
       "</table>\n",
       "</div>"
      ],
      "text/plain": [
       "     user_id            status_id          created_at   screen_name      token\n",
       "0  187077341  1420117682163228672 2021-07-27 20:23:34  Seahawk_Davo  intensaar\n",
       "0  187077341  1420117682163228672 2021-07-27 20:23:34  Seahawk_Davo        mmm\n",
       "0  187077341  1420117682163228672 2021-07-27 20:23:34  Seahawk_Davo  fastidiar\n",
       "0  187077341  1420117682163228672 2021-07-27 20:23:34  Seahawk_Davo     gustar\n",
       "0  187077341  1420117682163228672 2021-07-27 20:23:34  Seahawk_Davo      beber"
      ]
     },
     "execution_count": 29,
     "metadata": {},
     "output_type": "execute_result"
    }
   ],
   "source": [
    "tweets_tidy = tweets[['user_id', 'status_id', 'created_at', 'screen_name', 'tweet_cleaned', 'texto_tokenizado']].explode(column='texto_tokenizado')\n",
    "tweets_tidy = tweets_tidy.drop(columns='tweet_cleaned')\n",
    "tweets_tidy = tweets_tidy.rename(columns={'texto_tokenizado':'token'})\n",
    "tweets_tidy.head()"
   ]
  },
  {
   "cell_type": "code",
   "execution_count": 30,
   "id": "d5c9a487-8204-4304-84b9-378f23c4511e",
   "metadata": {},
   "outputs": [
    {
     "data": {
      "text/plain": [
       "((2604, 5), (200, 95))"
      ]
     },
     "execution_count": 30,
     "metadata": {},
     "output_type": "execute_result"
    }
   ],
   "source": [
    "tweets_tidy.shape, tweets.shape"
   ]
  },
  {
   "cell_type": "code",
   "execution_count": 32,
   "id": "014fe39a-dff3-43dd-b79f-182efc656e4b",
   "metadata": {},
   "outputs": [
    {
     "name": "stdout",
     "output_type": "stream",
     "text": [
      "--------------------------\n",
      "Palabras totales por autor\n",
      "--------------------------\n"
     ]
    },
    {
     "data": {
      "text/plain": [
       "screen_name\n",
       "0ffs3twl         18\n",
       "118ari           24\n",
       "1nteGral_Rice    10\n",
       "80DREWALLS        9\n",
       "ADNJMx           15\n",
       "                 ..\n",
       "victor_jrp       28\n",
       "workerfemme      18\n",
       "ydnation_         9\n",
       "yuprad0           7\n",
       "zucepunk         47\n",
       "Name: token, Length: 198, dtype: int64"
      ]
     },
     "execution_count": 32,
     "metadata": {},
     "output_type": "execute_result"
    }
   ],
   "source": [
    "# Palabras totales utilizadas por cada autor\n",
    "# ==============================================================================\n",
    "print('--------------------------')\n",
    "print('Palabras totales por autor')\n",
    "print('--------------------------')\n",
    "tweets_tidy.groupby(by='screen_name')['token'].count()"
   ]
  },
  {
   "cell_type": "code",
   "execution_count": 33,
   "id": "d833387d-f9e2-4faf-9325-b0bbafcdc89c",
   "metadata": {},
   "outputs": [
    {
     "name": "stdout",
     "output_type": "stream",
     "text": [
      "----------------------------\n",
      "Palabras distintas por autor\n",
      "----------------------------\n"
     ]
    },
    {
     "data": {
      "text/plain": [
       "screen_name\n",
       "0ffs3twl         17\n",
       "118ari           23\n",
       "1nteGral_Rice    10\n",
       "80DREWALLS        9\n",
       "ADNJMx           15\n",
       "                 ..\n",
       "victor_jrp       28\n",
       "workerfemme      17\n",
       "ydnation_         8\n",
       "yuprad0           7\n",
       "zucepunk         17\n",
       "Name: token, Length: 198, dtype: int64"
      ]
     },
     "execution_count": 33,
     "metadata": {},
     "output_type": "execute_result"
    }
   ],
   "source": [
    "# Palabras distintas utilizadas por cada autor\n",
    "# ==============================================================================\n",
    "print('----------------------------')\n",
    "print('Palabras distintas por autor')\n",
    "print('----------------------------')\n",
    "tweets_tidy.groupby(by='screen_name')['token'].nunique()"
   ]
  },
  {
   "cell_type": "code",
   "execution_count": 35,
   "id": "44e91406-6ef5-49af-90c2-97d56b9f2582",
   "metadata": {},
   "outputs": [
    {
     "name": "stdout",
     "output_type": "stream",
     "text": [
      "(2604, 5)\n",
      "(2561, 5)\n"
     ]
    }
   ],
   "source": [
    "print(tweets_tidy.shape)\n",
    "tweets_tidy = tweets_tidy[tweets_tidy['token'] != 'https']\n",
    "print(tweets_tidy.shape)"
   ]
  },
  {
   "cell_type": "code",
   "execution_count": 36,
   "id": "163c6c52-d40a-4d83-96e0-b8a5023fde1a",
   "metadata": {},
   "outputs": [
    {
     "data": {
      "text/html": [
       "<div>\n",
       "<style scoped>\n",
       "    .dataframe tbody tr th:only-of-type {\n",
       "        vertical-align: middle;\n",
       "    }\n",
       "\n",
       "    .dataframe tbody tr th {\n",
       "        vertical-align: top;\n",
       "    }\n",
       "\n",
       "    .dataframe thead th {\n",
       "        text-align: right;\n",
       "    }\n",
       "</style>\n",
       "<table border=\"1\" class=\"dataframe\">\n",
       "  <thead>\n",
       "    <tr style=\"text-align: right;\">\n",
       "      <th></th>\n",
       "      <th></th>\n",
       "      <th>screen_name</th>\n",
       "      <th>token</th>\n",
       "      <th>count</th>\n",
       "    </tr>\n",
       "    <tr>\n",
       "      <th>screen_name</th>\n",
       "      <th></th>\n",
       "      <th></th>\n",
       "      <th></th>\n",
       "      <th></th>\n",
       "    </tr>\n",
       "  </thead>\n",
       "  <tbody>\n",
       "    <tr>\n",
       "      <th rowspan=\"5\" valign=\"top\">0ffs3twl</th>\n",
       "      <th>3</th>\n",
       "      <td>0ffs3twl</td>\n",
       "      <td>cerveza</td>\n",
       "      <td>2</td>\n",
       "    </tr>\n",
       "    <tr>\n",
       "      <th>0</th>\n",
       "      <td>0ffs3twl</td>\n",
       "      <td>annoyed</td>\n",
       "      <td>1</td>\n",
       "    </tr>\n",
       "    <tr>\n",
       "      <th>1</th>\n",
       "      <td>0ffs3twl</td>\n",
       "      <td>beber</td>\n",
       "      <td>1</td>\n",
       "    </tr>\n",
       "    <tr>\n",
       "      <th>2</th>\n",
       "      <td>0ffs3twl</td>\n",
       "      <td>casi</td>\n",
       "      <td>1</td>\n",
       "    </tr>\n",
       "    <tr>\n",
       "      <th>4</th>\n",
       "      <td>0ffs3twl</td>\n",
       "      <td>hesitanttcozdekctl</td>\n",
       "      <td>1</td>\n",
       "    </tr>\n",
       "    <tr>\n",
       "      <th>...</th>\n",
       "      <th>...</th>\n",
       "      <td>...</td>\n",
       "      <td>...</td>\n",
       "      <td>...</td>\n",
       "    </tr>\n",
       "    <tr>\n",
       "      <th rowspan=\"5\" valign=\"top\">zucepunk</th>\n",
       "      <th>2326</th>\n",
       "      <td>zucepunk</td>\n",
       "      <td>joy</td>\n",
       "      <td>7</td>\n",
       "    </tr>\n",
       "    <tr>\n",
       "      <th>2322</th>\n",
       "      <td>zucepunk</td>\n",
       "      <td>face</td>\n",
       "      <td>7</td>\n",
       "    </tr>\n",
       "    <tr>\n",
       "      <th>2330</th>\n",
       "      <td>zucepunk</td>\n",
       "      <td>tears</td>\n",
       "      <td>7</td>\n",
       "    </tr>\n",
       "    <tr>\n",
       "      <th>2327</th>\n",
       "      <td>zucepunk</td>\n",
       "      <td>of</td>\n",
       "      <td>7</td>\n",
       "    </tr>\n",
       "    <tr>\n",
       "      <th>2334</th>\n",
       "      <td>zucepunk</td>\n",
       "      <td>with</td>\n",
       "      <td>7</td>\n",
       "    </tr>\n",
       "  </tbody>\n",
       "</table>\n",
       "<p>956 rows × 3 columns</p>\n",
       "</div>"
      ],
      "text/plain": [
       "                 screen_name               token  count\n",
       "screen_name                                            \n",
       "0ffs3twl    3       0ffs3twl             cerveza      2\n",
       "            0       0ffs3twl             annoyed      1\n",
       "            1       0ffs3twl               beber      1\n",
       "            2       0ffs3twl                casi      1\n",
       "            4       0ffs3twl  hesitanttcozdekctl      1\n",
       "...                      ...                 ...    ...\n",
       "zucepunk    2326    zucepunk                 joy      7\n",
       "            2322    zucepunk                face      7\n",
       "            2330    zucepunk               tears      7\n",
       "            2327    zucepunk                  of      7\n",
       "            2334    zucepunk                with      7\n",
       "\n",
       "[956 rows x 3 columns]"
      ]
     },
     "execution_count": 36,
     "metadata": {},
     "output_type": "execute_result"
    }
   ],
   "source": [
    "tweets_tidy.groupby(['screen_name','token'])['token'] \\\n",
    " .count() \\\n",
    " .reset_index(name='count') \\\n",
    " .groupby('screen_name') \\\n",
    " .apply(lambda x: x.sort_values('count', ascending=False).head(5))"
   ]
  },
  {
   "cell_type": "code",
   "execution_count": 52,
   "id": "4ec4326f-4d68-4e01-bc9f-ed2721b14a33",
   "metadata": {},
   "outputs": [],
   "source": [
    "import numpy as np\n",
    "tweets['autor'] = tweets['screen_name'].copy()"
   ]
  },
  {
   "cell_type": "code",
   "execution_count": 44,
   "id": "e6c6569f-ef01-4558-8ede-eaa084f7e618",
   "metadata": {},
   "outputs": [],
   "source": [
    "from scipy.spatial.distance import cosine\n",
    "\n",
    "def similitud_coseno(a,b):\n",
    "    distancia = cosine(a,b)\n",
    "    return 1-distancia"
   ]
  },
  {
   "cell_type": "code",
   "execution_count": 40,
   "id": "c49c9bcf-a487-48e7-bebd-dfe781886b2e",
   "metadata": {},
   "outputs": [
    {
     "data": {
      "text/plain": [
       "374"
      ]
     },
     "execution_count": 40,
     "metadata": {},
     "output_type": "execute_result"
    }
   ],
   "source": [
    "import gc\n",
    "gc.collect()"
   ]
  },
  {
   "cell_type": "code",
   "execution_count": 41,
   "id": "2318bdf2-4ab5-473d-b8f6-967b87c946c1",
   "metadata": {},
   "outputs": [],
   "source": [
    "from sklearn.feature_extraction.text import TfidfVectorizer\n",
    "import nltk"
   ]
  },
  {
   "cell_type": "code",
   "execution_count": 42,
   "id": "a5ed8dab-74d1-4db8-afeb-c3b527be0e6b",
   "metadata": {},
   "outputs": [
    {
     "data": {
      "text/plain": [
       "44"
      ]
     },
     "execution_count": 42,
     "metadata": {},
     "output_type": "execute_result"
    }
   ],
   "source": [
    "import gc\n",
    "gc.collect()"
   ]
  },
  {
   "cell_type": "code",
   "execution_count": 53,
   "id": "eb90eb58-83e1-4318-b24a-ddf054d664f9",
   "metadata": {},
   "outputs": [
    {
     "data": {
      "text/html": [
       "<div>\n",
       "<style scoped>\n",
       "    .dataframe tbody tr th:only-of-type {\n",
       "        vertical-align: middle;\n",
       "    }\n",
       "\n",
       "    .dataframe tbody tr th {\n",
       "        vertical-align: top;\n",
       "    }\n",
       "\n",
       "    .dataframe thead th {\n",
       "        text-align: right;\n",
       "    }\n",
       "</style>\n",
       "<table border=\"1\" class=\"dataframe\">\n",
       "  <thead>\n",
       "    <tr style=\"text-align: right;\">\n",
       "      <th></th>\n",
       "      <th>user_id</th>\n",
       "      <th>status_id</th>\n",
       "      <th>created_at</th>\n",
       "      <th>screen_name</th>\n",
       "      <th>tweet_cleaned</th>\n",
       "      <th>texto_tokenizado</th>\n",
       "    </tr>\n",
       "  </thead>\n",
       "  <tbody>\n",
       "    <tr>\n",
       "      <th>0</th>\n",
       "      <td>187077341</td>\n",
       "      <td>1420117682163228672</td>\n",
       "      <td>2021-07-27 20:23:34</td>\n",
       "      <td>Seahawk_Davo</td>\n",
       "      <td>intensaar mmm fastidiar gustar beber casi dw a...</td>\n",
       "      <td>[intensaar, mmm, fastidiar, gustar, beber, cas...</td>\n",
       "    </tr>\n",
       "    <tr>\n",
       "      <th>1</th>\n",
       "      <td>754923173422833665</td>\n",
       "      <td>1420117600227536899</td>\n",
       "      <td>2021-07-27 20:23:15</td>\n",
       "      <td>susiurbizu</td>\n",
       "      <td>saber querer gustar cerveza nomas</td>\n",
       "      <td>[saber, querer, gustar, cerveza, nomas]</td>\n",
       "    </tr>\n",
       "    <tr>\n",
       "      <th>2</th>\n",
       "      <td>4518941727</td>\n",
       "      <td>1420117528110587905</td>\n",
       "      <td>2021-07-27 20:22:57</td>\n",
       "      <td>Veothfolnir</td>\n",
       "      <td>escribir mal bebido medio litro cerveza ingest...</td>\n",
       "      <td>[escribir, mal, bebido, medio, litro, cerveza,...</td>\n",
       "    </tr>\n",
       "    <tr>\n",
       "      <th>3</th>\n",
       "      <td>1284180586257670147</td>\n",
       "      <td>1420117527384965121</td>\n",
       "      <td>2021-07-27 20:22:57</td>\n",
       "      <td>tu_tio_teviola</td>\n",
       "      <td>marlasuarezzz cerveza venir whisky helado jeje...</td>\n",
       "      <td>[marlasuarezzz, cerveza, venir, whisky, helado...</td>\n",
       "    </tr>\n",
       "    <tr>\n",
       "      <th>4</th>\n",
       "      <td>1338605739221413888</td>\n",
       "      <td>1420117511786442752</td>\n",
       "      <td>2021-07-27 20:22:53</td>\n",
       "      <td>topdescuentostg</td>\n",
       "      <td>collision taza cafe oz vaso termico cafe termo...</td>\n",
       "      <td>[collision, taza, cafe, oz, vaso, termico, caf...</td>\n",
       "    </tr>\n",
       "  </tbody>\n",
       "</table>\n",
       "</div>"
      ],
      "text/plain": [
       "               user_id            status_id          created_at  \\\n",
       "0            187077341  1420117682163228672 2021-07-27 20:23:34   \n",
       "1   754923173422833665  1420117600227536899 2021-07-27 20:23:15   \n",
       "2           4518941727  1420117528110587905 2021-07-27 20:22:57   \n",
       "3  1284180586257670147  1420117527384965121 2021-07-27 20:22:57   \n",
       "4  1338605739221413888  1420117511786442752 2021-07-27 20:22:53   \n",
       "\n",
       "       screen_name                                      tweet_cleaned  \\\n",
       "0     Seahawk_Davo  intensaar mmm fastidiar gustar beber casi dw a...   \n",
       "1       susiurbizu                 saber querer gustar cerveza nomas    \n",
       "2      Veothfolnir  escribir mal bebido medio litro cerveza ingest...   \n",
       "3   tu_tio_teviola  marlasuarezzz cerveza venir whisky helado jeje...   \n",
       "4  topdescuentostg  collision taza cafe oz vaso termico cafe termo...   \n",
       "\n",
       "                                    texto_tokenizado  \n",
       "0  [intensaar, mmm, fastidiar, gustar, beber, cas...  \n",
       "1            [saber, querer, gustar, cerveza, nomas]  \n",
       "2  [escribir, mal, bebido, medio, litro, cerveza,...  \n",
       "3  [marlasuarezzz, cerveza, venir, whisky, helado...  \n",
       "4  [collision, taza, cafe, oz, vaso, termico, caf...  "
      ]
     },
     "execution_count": 53,
     "metadata": {},
     "output_type": "execute_result"
    }
   ],
   "source": [
    "tweets[['user_id', 'status_id', 'created_at', 'screen_name', 'tweet_cleaned', 'texto_tokenizado']].head()"
   ]
  },
  {
   "cell_type": "code",
   "execution_count": 48,
   "id": "f2a1df14-3858-4251-a948-125c90859935",
   "metadata": {},
   "outputs": [
    {
     "data": {
      "text/plain": [
       "189"
      ]
     },
     "execution_count": 48,
     "metadata": {},
     "output_type": "execute_result"
    }
   ],
   "source": [
    "gc.collect()"
   ]
  },
  {
   "cell_type": "code",
   "execution_count": 49,
   "id": "28ae924c-fbd0-4072-8851-c394835bbccc",
   "metadata": {},
   "outputs": [
    {
     "name": "stdout",
     "output_type": "stream",
     "text": [
      "315\n",
      "316\n"
     ]
    }
   ],
   "source": [
    "print(len(stopset_cleaned))\n",
    "stopset_cleaned = stopset_cleaned + ['https']\n",
    "print(len(stopset_cleaned))"
   ]
  },
  {
   "cell_type": "code",
   "execution_count": 54,
   "id": "2fd9bec0-9545-4153-8370-ecc4daf99757",
   "metadata": {},
   "outputs": [],
   "source": [
    "datos_X = tweets['tweet_cleaned']\n",
    "datos_y = tweets['autor']"
   ]
  },
  {
   "cell_type": "code",
   "execution_count": 56,
   "id": "a1233b9f-e84c-4901-9d57-72b845b00a22",
   "metadata": {},
   "outputs": [
    {
     "data": {
      "text/plain": [
       "(200,)"
      ]
     },
     "execution_count": 56,
     "metadata": {},
     "output_type": "execute_result"
    }
   ],
   "source": [
    "datos_X.shape"
   ]
  },
  {
   "cell_type": "code",
   "execution_count": 57,
   "id": "f603fc24-5dbb-4ff9-9662-6d852b4e765d",
   "metadata": {},
   "outputs": [
    {
     "data": {
      "text/plain": [
       "StremsCarlos      0.010\n",
       "leitag            0.010\n",
       "lnadmor           0.005\n",
       "ruff0_            0.005\n",
       "JulianRojas_B     0.005\n",
       "                  ...  \n",
       "Soylupianez       0.005\n",
       "LuisDementia      0.005\n",
       "ruizchristiang    0.005\n",
       "OctaviaMaigler    0.005\n",
       "YermanyG          0.005\n",
       "Name: autor, Length: 198, dtype: float64"
      ]
     },
     "execution_count": 57,
     "metadata": {},
     "output_type": "execute_result"
    }
   ],
   "source": [
    "datos_y.value_counts(normalize=True)"
   ]
  },
  {
   "cell_type": "code",
   "execution_count": 58,
   "id": "72f48134-5553-42fb-863a-2cfa1fdc1918",
   "metadata": {},
   "outputs": [],
   "source": [
    "SEED = 29082013\n",
    "import random as rn\n",
    "\n",
    "os.environ['PYTHONHASHSEED']=str(SEED)\n",
    "np.random.seed(SEED)\n",
    "rn.seed(SEED)"
   ]
  },
  {
   "cell_type": "code",
   "execution_count": 59,
   "id": "de2dfda6-fde8-4c3c-8ed3-d84bdce3c00b",
   "metadata": {},
   "outputs": [],
   "source": [
    "from sklearn import svm\n",
    "from sklearn.model_selection import train_test_split\n",
    "from sklearn.model_selection import GridSearchCV\n",
    "from sklearn.metrics import confusion_matrix\n",
    "\n",
    "X_train, X_test, y_train, y_test = train_test_split(\n",
    "    datos_X,\n",
    "    datos_y,\n",
    "    test_size = 0.2,\n",
    "    random_state = SEED\n",
    "    \n",
    ")"
   ]
  },
  {
   "cell_type": "code",
   "execution_count": 60,
   "id": "76497dd9-4474-43a3-b795-82a6010c6846",
   "metadata": {},
   "outputs": [],
   "source": [
    "def clean_tweet_list(new):\n",
    "    tokenizacion = [\n",
    "        [\n",
    "           ''.join([token.lemma_ for token in nlp(clean_text_1(_))]) for _ in nltk.word_tokenize(sentence) \n",
    "                         if len(clean_text_1(_)) > 0 and clean_text_1(_) not in stopset_cleaned\n",
    "        ] for sentence in nltk.sent_tokenize(new)\n",
    "    ]\n",
    "    \n",
    "    return list(functools.reduce(lambda x , y : x + y , tokenizacion))"
   ]
  },
  {
   "cell_type": "code",
   "execution_count": 61,
   "id": "813d197b-b4ec-4e47-bfb6-f306eea62632",
   "metadata": {},
   "outputs": [
    {
     "name": "stderr",
     "output_type": "stream",
     "text": [
      "C:\\ProgramData\\Anaconda3\\lib\\site-packages\\sklearn\\feature_extraction\\text.py:489: UserWarning: The parameter 'token_pattern' will not be used since 'tokenizer' is not None'\n",
      "  warnings.warn(\"The parameter 'token_pattern' will not be used\"\n"
     ]
    },
    {
     "data": {
      "text/plain": [
       "TfidfVectorizer(max_df=0.9, min_df=0.01,\n",
       "                stop_words=['tu', 'estando', 'sintiendo', 'estaria', 'yo',\n",
       "                            'tenemos', 'estaremos', 'has', 'quien', 'tus',\n",
       "                            'tengo', 'habido', 'este', 'hay', 'nuestro',\n",
       "                            'hayas', 'tengamos', 'fuerais', 'tuyos', 'tuviese',\n",
       "                            'antes', 'hubiese', 'una', 'ya', 'esa', 'o',\n",
       "                            'mucho', 'fueramos', 'eramos', 'hubiera', ...],\n",
       "                tokenizer=<function clean_tweet_list at 0x000001CCE2AE5EE0>)"
      ]
     },
     "execution_count": 61,
     "metadata": {},
     "output_type": "execute_result"
    }
   ],
   "source": [
    "tfidf_vectorizador = TfidfVectorizer(\n",
    "                        tokenizer  = clean_tweet_list,\n",
    "                        min_df     = 0.01,\n",
    "                        max_df     = 0.9,\n",
    "                        stop_words = stopset_cleaned\n",
    "                    )\n",
    "tfidf_vectorizador.fit(X_train)"
   ]
  },
  {
   "cell_type": "code",
   "execution_count": 62,
   "id": "1e3aa27b-7c56-4355-8b27-a126fa0b94af",
   "metadata": {},
   "outputs": [],
   "source": [
    "tfidf_train = tfidf_vectorizador.transform(X_train)\n",
    "tfidf_test  = tfidf_vectorizador.transform(X_test)"
   ]
  },
  {
   "cell_type": "code",
   "execution_count": 63,
   "id": "f077b625-d57a-442f-b51c-54071c9c49fb",
   "metadata": {},
   "outputs": [
    {
     "name": "stdout",
     "output_type": "stream",
     "text": [
      " Número de tokens creados: 209\n",
      "['abrir', 'abuelo', 'acabar', 'acuerdo', 'agua', 'aguantar', 'ahi', 'ahora', 'alcohol', 'alcoholico']\n"
     ]
    }
   ],
   "source": [
    "print(f\" Número de tokens creados: {len(tfidf_vectorizador.get_feature_names())}\")\n",
    "print(tfidf_vectorizador.get_feature_names()[:10])"
   ]
  },
  {
   "cell_type": "code",
   "execution_count": null,
   "id": "56ebedb2-ca32-4eb8-9525-c6abeaf1c3f8",
   "metadata": {},
   "outputs": [],
   "source": []
  },
  {
   "cell_type": "markdown",
   "id": "cc9cb27e-5544-497a-9d4b-3bea5fda50e8",
   "metadata": {},
   "source": [
    "### MODELAMIENTO"
   ]
  },
  {
   "cell_type": "code",
   "execution_count": null,
   "id": "3e91a345-3c00-4bb5-b364-c581a7d27b0d",
   "metadata": {},
   "outputs": [],
   "source": [
    "# Entrenamiento del modelo SVM\n",
    "# ==============================================================================\n",
    "modelo_svm_lineal = svm.SVC(kernel= \"linear\")\n",
    "modelo_svm_lineal.fit(X=tfidf_train, y= y_train)"
   ]
  },
  {
   "cell_type": "code",
   "execution_count": null,
   "id": "888fc6ef-d021-4156-8c13-252fb76af49c",
   "metadata": {},
   "outputs": [],
   "source": [
    "# Grid de hiperparámetros\n",
    "# ==============================================================================\n",
    "param_grid = {\n",
    "    'C': np.logspace(-5, 3, 50),\n",
    "    'shrinking': [True, False],\n",
    "    'probability': [True, False],\n",
    "    'class_weight': ['balanced', None]\n",
    "}\n",
    "\n",
    "# Búsqueda por validación cruzada\n",
    "# ==============================================================================\n",
    "grid = GridSearchCV(\n",
    "        estimator  = svm.SVC(kernel= \"linear\"),\n",
    "        param_grid = param_grid,\n",
    "        scoring    = 'accuracy',\n",
    "        n_jobs     = -1,\n",
    "        cv         = 5, \n",
    "        verbose    = 0,\n",
    "        return_train_score = True\n",
    "      )\n",
    "\n",
    "# Se asigna el resultado a _ para que no se imprima por pantalla\n",
    "_ = grid.fit(X = tfidf_train, y = y_train)\n",
    "\n",
    "# Resultados del grid\n",
    "# ==============================================================================\n",
    "resultados = pd.DataFrame(grid.cv_results_)\n",
    "resultados.filter(regex = '(param.*|mean_t|std_t)')\\\n",
    "    .drop(columns = 'params')\\\n",
    "    .sort_values('mean_test_score', ascending = False).head(10)"
   ]
  },
  {
   "cell_type": "code",
   "execution_count": null,
   "id": "5cccc895-7f1e-4adf-b0a5-927386dd1093",
   "metadata": {},
   "outputs": [],
   "source": [
    "resultados = pd.DataFrame(grid.cv_results_)\n",
    "resultados.filter(regex = '(param.*|mean_t|std_t)')\\\n",
    "    .drop(columns = 'params')\\\n",
    "    .sort_values('mean_test_score', ascending = False).head(10)"
   ]
  },
  {
   "cell_type": "code",
   "execution_count": null,
   "id": "8e6feb8f-2b97-4694-8ce1-360a40155806",
   "metadata": {},
   "outputs": [],
   "source": [
    "# Mejores hiperparámetros por validación cruzada\n",
    "# ==============================================================================\n",
    "print(\"----------------------------------------\")\n",
    "print(\"Mejores hiperparámetros encontrados (cv)\")\n",
    "print(\"----------------------------------------\")\n",
    "print(grid.best_params_, \":\", grid.best_score_, grid.scoring)\n",
    "\n",
    "modelo_final = grid.best_estimator_"
   ]
  },
  {
   "cell_type": "code",
   "execution_count": null,
   "id": "e98533f0-cbdd-4b92-a964-2a3f40de3436",
   "metadata": {},
   "outputs": [],
   "source": [
    "predicciones_test = modelo_final.predict(X=tfidf_test)\n",
    "\n",
    "print(\"-------------\")\n",
    "print(\"Error de test\")\n",
    "print(\"-------------\")\n",
    "\n",
    "print(f\"Número de clasificaciones erróneas de un total de {tfidf_test.shape[0]} \" \\\n",
    "      f\"clasificaciones: {(y_test != predicciones_test).sum()}\"\n",
    ")\n",
    "print(f\"% de error: {100*(y_test != predicciones_test).mean()}\")\n",
    "\n",
    "print(\"\")\n",
    "print(\"-------------------\")\n",
    "print(\"Matriz de confusión\")\n",
    "\n",
    "print(\"-------------------\")\n",
    "\n",
    "pd.DataFrame(\n",
    "    confusion_matrix(\n",
    "        y_true = y_test, \n",
    "        y_pred= predicciones_test\n",
    "    ),\n",
    "    columns= autores,\n",
    "    index = autores\n",
    ").style.background_gradient(axis=0)"
   ]
  },
  {
   "cell_type": "code",
   "execution_count": null,
   "id": "eb81dfb5-6469-4125-83ab-0e1f50751584",
   "metadata": {},
   "outputs": [],
   "source": []
  },
  {
   "cell_type": "code",
   "execution_count": null,
   "id": "8202bf6f-d826-4b3c-9ec0-2ff05f63a59d",
   "metadata": {},
   "outputs": [],
   "source": []
  },
  {
   "cell_type": "code",
   "execution_count": null,
   "id": "92094846-3137-431d-86a9-304b71f43fc1",
   "metadata": {},
   "outputs": [],
   "source": [
    "# Entrenamiento del modelo SVM\n",
    "# ==============================================================================\n",
    "modelo_svm_lineal = svm.SVC(kernel= \"sigmoid\")\n",
    "modelo_svm_lineal.fit(X=tfidf_train, y= y_train)"
   ]
  },
  {
   "cell_type": "code",
   "execution_count": null,
   "id": "fe95e57e-2f69-4c92-94f3-bfcae2f68399",
   "metadata": {},
   "outputs": [],
   "source": [
    "# Grid de hiperparámetros\n",
    "# ==============================================================================\n",
    "param_grid = {\n",
    "    'C': np.logspace(-5, 3, 50),\n",
    "    'shrinking': [True, False],\n",
    "    'probability': [True, False],\n",
    "    'class_weight': ['balanced', None],\n",
    "    'gamma': ['scale', 'auto']\n",
    "}\n",
    "\n",
    "# Búsqueda por validación cruzada\n",
    "# ==============================================================================\n",
    "grid = GridSearchCV(\n",
    "        estimator  = svm.SVC(kernel= \"sigmoid\"),\n",
    "        param_grid = param_grid,\n",
    "        scoring    = 'accuracy',\n",
    "        n_jobs     = -1,\n",
    "        cv         = 5, \n",
    "        verbose    = 0,\n",
    "        return_train_score = True\n",
    "      )\n",
    "\n",
    "# Se asigna el resultado a _ para que no se imprima por pantalla\n",
    "_ = grid.fit(X = tfidf_train, y = y_train)\n",
    "\n",
    "# Resultados del grid\n",
    "# ==============================================================================\n",
    "resultados = pd.DataFrame(grid.cv_results_)\n",
    "resultados.filter(regex = '(param.*|mean_t|std_t)')\\\n",
    "    .drop(columns = 'params')\\\n",
    "    .sort_values('mean_test_score', ascending = False).head(10)"
   ]
  },
  {
   "cell_type": "code",
   "execution_count": null,
   "id": "8c1c18a0-9be6-4a87-954e-541900de86a1",
   "metadata": {},
   "outputs": [],
   "source": [
    "# Mejores hiperparámetros por validación cruzada\n",
    "# ==============================================================================\n",
    "print(\"----------------------------------------\")\n",
    "print(\"Mejores hiperparámetros encontrados (cv)\")\n",
    "print(\"----------------------------------------\")\n",
    "print(grid.best_params_, \":\", grid.best_score_, grid.scoring)\n",
    "\n",
    "modelo_final = grid.best_estimator_"
   ]
  },
  {
   "cell_type": "code",
   "execution_count": null,
   "id": "c36ec595-d80b-4552-8e7b-da46da105e66",
   "metadata": {},
   "outputs": [],
   "source": [
    "predicciones_test = modelo_final.predict(X=tfidf_test)\n",
    "\n",
    "print(\"-------------\")\n",
    "print(\"Error de test\")\n",
    "print(\"-------------\")\n",
    "\n",
    "print(f\"Número de clasificaciones erróneas de un total de {tfidf_test.shape[0]} \" \\\n",
    "      f\"clasificaciones: {(y_test != predicciones_test).sum()}\"\n",
    ")\n",
    "print(f\"% de error: {100*(y_test != predicciones_test).mean()}\")\n",
    "\n",
    "print(\"\")\n",
    "print(\"-------------------\")\n",
    "print(\"Matriz de confusión\")\n",
    "\n",
    "print(\"-------------------\")\n",
    "\n",
    "pd.DataFrame(\n",
    "    confusion_matrix(\n",
    "        y_true = y_test, \n",
    "        y_pred= predicciones_test\n",
    "    ),\n",
    "    columns= autores,\n",
    "    index = autores\n",
    ").style.background_gradient(axis=0)"
   ]
  },
  {
   "cell_type": "code",
   "execution_count": null,
   "id": "a958ca0a-6f7f-42bd-927a-519b7889d0f4",
   "metadata": {},
   "outputs": [],
   "source": []
  },
  {
   "cell_type": "code",
   "execution_count": null,
   "id": "183f10ab-2326-4ee6-88ba-7843dbff7f8f",
   "metadata": {},
   "outputs": [],
   "source": [
    "# Entrenamiento del modelo SVM\n",
    "# ==============================================================================\n",
    "modelo_svm_lineal = svm.SVC(kernel= \"poly\")\n",
    "modelo_svm_lineal.fit(X=tfidf_train, y= y_train)"
   ]
  },
  {
   "cell_type": "code",
   "execution_count": null,
   "id": "7c40b756-89a2-4095-b6d0-087fc0b55d19",
   "metadata": {},
   "outputs": [],
   "source": [
    "# Grid de hiperparámetros\n",
    "# ==============================================================================\n",
    "param_grid = {\n",
    "    'C': np.logspace(-5, 3, 50),\n",
    "    'shrinking': [True, False],\n",
    "    'probability': [True, False],\n",
    "    'class_weight': ['balanced', None],\n",
    "    'gamma': ['scale', 'auto'],\n",
    "    'degree': [1, 2, 3, 4]\n",
    "}\n",
    "\n",
    "# Búsqueda por validación cruzada\n",
    "# ==============================================================================\n",
    "grid = GridSearchCV(\n",
    "        estimator  = svm.SVC(kernel= \"poly\"),\n",
    "        param_grid = param_grid,\n",
    "        scoring    = 'accuracy',\n",
    "        n_jobs     = -1,\n",
    "        cv         = 5, \n",
    "        verbose    = 0,\n",
    "        return_train_score = True\n",
    "      )\n",
    "\n",
    "# Se asigna el resultado a _ para que no se imprima por pantalla\n",
    "_ = grid.fit(X = tfidf_train, y = y_train)\n",
    "\n",
    "# Resultados del grid\n",
    "# ==============================================================================\n",
    "resultados = pd.DataFrame(grid.cv_results_)\n",
    "resultados.filter(regex = '(param.*|mean_t|std_t)')\\\n",
    "    .drop(columns = 'params')\\\n",
    "    .sort_values('mean_test_score', ascending = False).head(10)"
   ]
  },
  {
   "cell_type": "code",
   "execution_count": null,
   "id": "40e0ea6f-ccd2-4517-99b9-a74c7b97caa9",
   "metadata": {},
   "outputs": [],
   "source": [
    "# Mejores hiperparámetros por validación cruzada\n",
    "# ==============================================================================\n",
    "print(\"----------------------------------------\")\n",
    "print(\"Mejores hiperparámetros encontrados (cv)\")\n",
    "print(\"----------------------------------------\")\n",
    "print(grid.best_params_, \":\", grid.best_score_, grid.scoring)\n",
    "\n",
    "modelo_final = grid.best_estimator_"
   ]
  },
  {
   "cell_type": "code",
   "execution_count": null,
   "id": "3dc79f7c-e164-4daa-8943-7a54256ffa62",
   "metadata": {},
   "outputs": [],
   "source": [
    "predicciones_test = modelo_final.predict(X=tfidf_test)\n",
    "\n",
    "print(\"-------------\")\n",
    "print(\"Error de test\")\n",
    "print(\"-------------\")\n",
    "\n",
    "print(f\"Número de clasificaciones erróneas de un total de {tfidf_test.shape[0]} \" \\\n",
    "      f\"clasificaciones: {(y_test != predicciones_test).sum()}\"\n",
    ")\n",
    "print(f\"% de error: {100*(y_test != predicciones_test).mean()}\")\n",
    "\n",
    "print(\"\")\n",
    "print(\"-------------------\")\n",
    "print(\"Matriz de confusión\")\n",
    "\n",
    "print(\"-------------------\")\n",
    "\n",
    "pd.DataFrame(\n",
    "    confusion_matrix(\n",
    "        y_true = y_test, \n",
    "        y_pred= predicciones_test\n",
    "    ),\n",
    "    columns= autores,\n",
    "    index = autores\n",
    ").style.background_gradient(axis=0)"
   ]
  },
  {
   "cell_type": "code",
   "execution_count": null,
   "id": "c93318d0-dbd5-4e20-90e4-5e079b99fee9",
   "metadata": {},
   "outputs": [],
   "source": []
  }
 ],
 "metadata": {
  "kernelspec": {
   "display_name": "Python 3",
   "language": "python",
   "name": "python3"
  },
  "language_info": {
   "codemirror_mode": {
    "name": "ipython",
    "version": 3
   },
   "file_extension": ".py",
   "mimetype": "text/x-python",
   "name": "python",
   "nbconvert_exporter": "python",
   "pygments_lexer": "ipython3",
   "version": "3.8.5"
  }
 },
 "nbformat": 4,
 "nbformat_minor": 5
}
