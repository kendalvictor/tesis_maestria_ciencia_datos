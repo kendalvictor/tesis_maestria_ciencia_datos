{
 "cells": [
  {
   "cell_type": "code",
   "execution_count": 1,
   "id": "adaptive-barcelona",
   "metadata": {},
   "outputs": [],
   "source": [
    "## VICTOR DICE:\n",
    "import os\n",
    "import gc\n",
    "import time\n",
    "import requests\n",
    "import subprocess\n",
    "import random as rn\n",
    "from datetime import datetime, timedelta\n",
    "from dateutil.relativedelta import relativedelta\n",
    "\n",
    "import socks\n",
    "import socket\n",
    "import pymssql\n",
    "import numpy as np\n",
    "import pandas as pd\n",
    "\n",
    "import warnings\n",
    "warnings.filterwarnings(\"ignore\")\n",
    "# warnings.simplefilter(action='ignore', category=FutureWarning)\n",
    "pd.set_option('display.max_rows', 500)\n",
    "pd.set_option('display.max_columns', 500)\n",
    "pd.set_option('display.width', 1000)\n",
    "pd.set_option('display.max_colwidth', -1)\n",
    "\n",
    "SEED = int(time.time() / 1000)\n",
    "os.environ['PYTHONHASHSEED'] = str(SEED)\n",
    "np.random.seed(SEED)\n",
    "rn.seed(SEED)"
   ]
  },
  {
   "cell_type": "code",
   "execution_count": null,
   "id": "excess-taiwan",
   "metadata": {},
   "outputs": [],
   "source": []
  },
  {
   "cell_type": "code",
   "execution_count": 4,
   "id": "balanced-venture",
   "metadata": {},
   "outputs": [],
   "source": [
    "agents_tor = [\n",
    "    'Mozilla/5.0 (Windows NT 10.0; rv:78.0) Gecko/20100101 Firefox/78.0'\n",
    "]\n",
    "\n",
    "headers_tor = {\n",
    "    'content-type': \"application/x-www-form-urlencoded\",\n",
    "    'User-Agent': rn.choice(agents_tor),\n",
    "}\n",
    "\n",
    "letras = \"abcdefghijklmnopqrstuvwyz\"\n",
    "\n",
    "def traducir(texto, desde='es', hacia='en'):\n",
    "    time.sleep(10)\n",
    "    user_aletorio = ''.join([rn.choice(letras) for _ in range(8)])\n",
    "    pass_aleatorio = ''.join([rn.choice(letras) for _ in range(8)])\n",
    "    \n",
    "    socks.set_default_proxy(socks.SOCKS5, \"127.0.0.1\", 9150, True, user_aletorio, pass_aleatorio)\n",
    "    socket.socket = socks.socksocket\n",
    "    \n",
    "    headers_tor.update(\n",
    "        {\n",
    "            'User-Agent': rn.choice(agents_tor),\n",
    "            'X-Forwarded-For': requests.get('http://ifconfig.me/ip').text\n",
    "        }\n",
    "    )\n",
    "    \n",
    "    url_ = 'https://translate.googleapis.com/translate_a/single?client=gtx&sl={}&tl={}&dt=t&q={}'\n",
    "    response = requests.get(\n",
    "        url_.format(desde, hacia, texto), headers=headers_tor\n",
    "    )\n",
    "    \n",
    "    return response.json()[0][0][0] if response.status_code == 200 else 'ERROR'"
   ]
  },
  {
   "cell_type": "code",
   "execution_count": 5,
   "id": "hybrid-lawsuit",
   "metadata": {},
   "outputs": [
    {
     "data": {
      "text/plain": [
       "'🚨 it is important that you know this'"
      ]
     },
     "execution_count": 5,
     "metadata": {},
     "output_type": "execute_result"
    }
   ],
   "source": [
    "traducir('🚨 es importante que sepas esto')"
   ]
  },
  {
   "cell_type": "code",
   "execution_count": null,
   "id": "severe-thesaurus",
   "metadata": {},
   "outputs": [],
   "source": []
  },
  {
   "cell_type": "markdown",
   "id": "parliamentary-presentation",
   "metadata": {},
   "source": [
    "### DATA"
   ]
  },
  {
   "cell_type": "code",
   "execution_count": 6,
   "id": "prerequisite-situation",
   "metadata": {},
   "outputs": [
    {
     "data": {
      "text/html": [
       "<div>\n",
       "<style scoped>\n",
       "    .dataframe tbody tr th:only-of-type {\n",
       "        vertical-align: middle;\n",
       "    }\n",
       "\n",
       "    .dataframe tbody tr th {\n",
       "        vertical-align: top;\n",
       "    }\n",
       "\n",
       "    .dataframe thead th {\n",
       "        text-align: right;\n",
       "    }\n",
       "</style>\n",
       "<table border=\"1\" class=\"dataframe\">\n",
       "  <thead>\n",
       "    <tr style=\"text-align: right;\">\n",
       "      <th></th>\n",
       "      <th>ndeg</th>\n",
       "      <th>id-envio</th>\n",
       "      <th>fecha</th>\n",
       "      <th>hora</th>\n",
       "      <th>feedback-hasta</th>\n",
       "      <th>empresa</th>\n",
       "      <th>usuario</th>\n",
       "      <th>nombre</th>\n",
       "      <th>boletin</th>\n",
       "      <th>cod-archivo</th>\n",
       "      <th>asunto</th>\n",
       "      <th>cantidad-carga</th>\n",
       "      <th>cantidad-enviado</th>\n",
       "      <th>entregado</th>\n",
       "      <th>cola-de-envio</th>\n",
       "      <th>ignorado</th>\n",
       "      <th>rebotado-soft</th>\n",
       "      <th>rebotado</th>\n",
       "      <th>fallidos</th>\n",
       "      <th>open-rate</th>\n",
       "      <th>click</th>\n",
       "    </tr>\n",
       "  </thead>\n",
       "  <tbody>\n",
       "    <tr>\n",
       "      <th>0</th>\n",
       "      <td>119132</td>\n",
       "      <td>15620</td>\n",
       "      <td>2021-03-09</td>\n",
       "      <td>14:30</td>\n",
       "      <td>2021-03-10 20:56:15</td>\n",
       "      <td>Digital Transformation Executive</td>\n",
       "      <td>pvalero</td>\n",
       "      <td>(final) 09032021_6437_Envio HTML Interbank 09/03_comercio</td>\n",
       "      <td>09032021_6437_Envio HTML Interbank 09/03_comercio</td>\n",
       "      <td>09032021_6437_Envio HTML Interbank 09/03_comercio</td>\n",
       "      <td>llega a mas clientes vendiendo por internet 💻👌</td>\n",
       "      <td>18695</td>\n",
       "      <td>18090</td>\n",
       "      <td>14924</td>\n",
       "      <td>0</td>\n",
       "      <td>2809</td>\n",
       "      <td>334</td>\n",
       "      <td>23</td>\n",
       "      <td>605</td>\n",
       "      <td>1062</td>\n",
       "      <td>44</td>\n",
       "    </tr>\n",
       "    <tr>\n",
       "      <th>1</th>\n",
       "      <td>119131</td>\n",
       "      <td>15619</td>\n",
       "      <td>2021-03-09</td>\n",
       "      <td>02:30</td>\n",
       "      <td>2021-03-10 20:59:30</td>\n",
       "      <td>Digital Transformation Executive</td>\n",
       "      <td>pvalero</td>\n",
       "      <td>(final) 09032021_6436_Envio HTML Interbank 09/03_servicios</td>\n",
       "      <td>09032021_6436_Envio HTML Interbank 09/03_servicios</td>\n",
       "      <td>09032021_6436_Envio HTML Interbank 09/03_servicios</td>\n",
       "      <td>incrementa tu productividad y ahorra costos en tu negocio 💻👌</td>\n",
       "      <td>38163</td>\n",
       "      <td>36696</td>\n",
       "      <td>32320</td>\n",
       "      <td>0</td>\n",
       "      <td>3432</td>\n",
       "      <td>893</td>\n",
       "      <td>51</td>\n",
       "      <td>1467</td>\n",
       "      <td>2660</td>\n",
       "      <td>94</td>\n",
       "    </tr>\n",
       "    <tr>\n",
       "      <th>2</th>\n",
       "      <td>119053</td>\n",
       "      <td>15599</td>\n",
       "      <td>2021-03-03</td>\n",
       "      <td>17:51</td>\n",
       "      <td>2021-03-05 00:55:07</td>\n",
       "      <td>Digital Transformation Executive</td>\n",
       "      <td>pvalero</td>\n",
       "      <td>(final) 03032021_6382_HTML - Envío Canal Seguro BE</td>\n",
       "      <td>03032021_6382_HTML - Envío Canal Seguro BE</td>\n",
       "      <td>03032021_6382_HTML - Envio Canal Seguro BE</td>\n",
       "      <td>Conoce las medidas de seguridad de App Interbank Empresas</td>\n",
       "      <td>2137</td>\n",
       "      <td>2122</td>\n",
       "      <td>1339</td>\n",
       "      <td>0</td>\n",
       "      <td>459</td>\n",
       "      <td>290</td>\n",
       "      <td>34</td>\n",
       "      <td>15</td>\n",
       "      <td>400</td>\n",
       "      <td>43</td>\n",
       "    </tr>\n",
       "    <tr>\n",
       "      <th>3</th>\n",
       "      <td>118972</td>\n",
       "      <td>15564</td>\n",
       "      <td>2021-02-25</td>\n",
       "      <td>13:41</td>\n",
       "      <td>2021-03-03 01:10:14</td>\n",
       "      <td>Digital Transformation Executive</td>\n",
       "      <td>pvalero</td>\n",
       "      <td>(final) 25022021_6318_HTML televentas grupo 2</td>\n",
       "      <td>25022021_6318_HTML televentas grupo 2</td>\n",
       "      <td>25022021_6318_HTML televentas grupo 2</td>\n",
       "      <td>conoce el tipo de cambio exclusivo para tu empresa</td>\n",
       "      <td>2127</td>\n",
       "      <td>2091</td>\n",
       "      <td>1804</td>\n",
       "      <td>0</td>\n",
       "      <td>174</td>\n",
       "      <td>113</td>\n",
       "      <td>0</td>\n",
       "      <td>36</td>\n",
       "      <td>546</td>\n",
       "      <td>11</td>\n",
       "    </tr>\n",
       "    <tr>\n",
       "      <th>4</th>\n",
       "      <td>118955</td>\n",
       "      <td>15555</td>\n",
       "      <td>2021-02-24</td>\n",
       "      <td>12:56</td>\n",
       "      <td>2021-03-01 22:23:10</td>\n",
       "      <td>Digital Transformation Executive</td>\n",
       "      <td>pvalero</td>\n",
       "      <td>(final) 24022021_6301_html Interbank - Envio 24/02</td>\n",
       "      <td>24022021_6301_html Interbank - Envio 24/02</td>\n",
       "      <td>24022021_6301_html Interbank - Envio 2402</td>\n",
       "      <td>juntos impulsaremos tu negocio gratis y desde casa.</td>\n",
       "      <td>21082</td>\n",
       "      <td>20451</td>\n",
       "      <td>18299</td>\n",
       "      <td>0</td>\n",
       "      <td>1567</td>\n",
       "      <td>567</td>\n",
       "      <td>18</td>\n",
       "      <td>631</td>\n",
       "      <td>2653</td>\n",
       "      <td>466</td>\n",
       "    </tr>\n",
       "  </tbody>\n",
       "</table>\n",
       "</div>"
      ],
      "text/plain": [
       "     ndeg  id-envio       fecha   hora       feedback-hasta                           empresa  usuario                                                      nombre                                             boletin                                         cod-archivo                                                         asunto  cantidad-carga  cantidad-enviado  entregado  cola-de-envio  ignorado  rebotado-soft  rebotado  fallidos  open-rate  click\n",
       "0  119132  15620     2021-03-09  14:30  2021-03-10 20:56:15  Digital Transformation Executive  pvalero  (final) 09032021_6437_Envio HTML Interbank 09/03_comercio   09032021_6437_Envio HTML Interbank 09/03_comercio   09032021_6437_Envio HTML Interbank 09/03_comercio    llega a mas clientes vendiendo por internet 💻👌                18695           18090             14924      0              2809      334            23        605       1062       44   \n",
       "1  119131  15619     2021-03-09  02:30  2021-03-10 20:59:30  Digital Transformation Executive  pvalero  (final) 09032021_6436_Envio HTML Interbank 09/03_servicios  09032021_6436_Envio HTML Interbank 09/03_servicios  09032021_6436_Envio HTML Interbank 09/03_servicios   incrementa tu productividad y ahorra costos en tu negocio 💻👌  38163           36696             32320      0              3432      893            51        1467      2660       94   \n",
       "2  119053  15599     2021-03-03  17:51  2021-03-05 00:55:07  Digital Transformation Executive  pvalero  (final) 03032021_6382_HTML - Envío Canal Seguro BE          03032021_6382_HTML - Envío Canal Seguro BE          03032021_6382_HTML - Envio Canal Seguro BE          Conoce las medidas de seguridad de App Interbank Empresas      2137            2122              1339       0              459       290            34        15        400        43   \n",
       "3  118972  15564     2021-02-25  13:41  2021-03-03 01:10:14  Digital Transformation Executive  pvalero  (final) 25022021_6318_HTML televentas grupo 2               25022021_6318_HTML televentas grupo 2               25022021_6318_HTML televentas grupo 2                conoce el tipo de cambio exclusivo para tu empresa            2127            2091              1804       0              174       113            0         36        546        11   \n",
       "4  118955  15555     2021-02-24  12:56  2021-03-01 22:23:10  Digital Transformation Executive  pvalero  (final) 24022021_6301_html Interbank - Envio 24/02          24022021_6301_html Interbank - Envio 24/02          24022021_6301_html Interbank - Envio 2402            juntos impulsaremos tu negocio gratis y desde casa.           21082           20451             18299      0              1567      567            18        631       2653       466  "
      ]
     },
     "execution_count": 6,
     "metadata": {},
     "output_type": "execute_result"
    }
   ],
   "source": [
    "data = pd.read_csv('campanias.csv')\n",
    "data.head()"
   ]
  },
  {
   "cell_type": "code",
   "execution_count": 7,
   "id": "liquid-peripheral",
   "metadata": {},
   "outputs": [
    {
     "ename": "ConnectionError",
     "evalue": "('Connection aborted.', RemoteDisconnected('Remote end closed connection without response'))",
     "output_type": "error",
     "traceback": [
      "\u001b[1;31m---------------------------------------------------------------------------\u001b[0m",
      "\u001b[1;31mRemoteDisconnected\u001b[0m                        Traceback (most recent call last)",
      "\u001b[1;32mC:\\ProgramData\\Anaconda3\\lib\\site-packages\\urllib3\\connectionpool.py\u001b[0m in \u001b[0;36murlopen\u001b[1;34m(self, method, url, body, headers, retries, redirect, assert_same_host, timeout, pool_timeout, release_conn, chunked, body_pos, **response_kw)\u001b[0m\n\u001b[0;32m    698\u001b[0m             \u001b[1;31m# Make the request on the httplib connection object.\u001b[0m\u001b[1;33m\u001b[0m\u001b[1;33m\u001b[0m\u001b[1;33m\u001b[0m\u001b[0m\n\u001b[1;32m--> 699\u001b[1;33m             httplib_response = self._make_request(\n\u001b[0m\u001b[0;32m    700\u001b[0m                 \u001b[0mconn\u001b[0m\u001b[1;33m,\u001b[0m\u001b[1;33m\u001b[0m\u001b[1;33m\u001b[0m\u001b[0m\n",
      "\u001b[1;32mC:\\ProgramData\\Anaconda3\\lib\\site-packages\\urllib3\\connectionpool.py\u001b[0m in \u001b[0;36m_make_request\u001b[1;34m(self, conn, method, url, timeout, chunked, **httplib_request_kw)\u001b[0m\n\u001b[0;32m    444\u001b[0m                     \u001b[1;31m# Otherwise it looks like a bug in the code.\u001b[0m\u001b[1;33m\u001b[0m\u001b[1;33m\u001b[0m\u001b[1;33m\u001b[0m\u001b[0m\n\u001b[1;32m--> 445\u001b[1;33m                     \u001b[0msix\u001b[0m\u001b[1;33m.\u001b[0m\u001b[0mraise_from\u001b[0m\u001b[1;33m(\u001b[0m\u001b[0me\u001b[0m\u001b[1;33m,\u001b[0m \u001b[1;32mNone\u001b[0m\u001b[1;33m)\u001b[0m\u001b[1;33m\u001b[0m\u001b[1;33m\u001b[0m\u001b[0m\n\u001b[0m\u001b[0;32m    446\u001b[0m         \u001b[1;32mexcept\u001b[0m \u001b[1;33m(\u001b[0m\u001b[0mSocketTimeout\u001b[0m\u001b[1;33m,\u001b[0m \u001b[0mBaseSSLError\u001b[0m\u001b[1;33m,\u001b[0m \u001b[0mSocketError\u001b[0m\u001b[1;33m)\u001b[0m \u001b[1;32mas\u001b[0m \u001b[0me\u001b[0m\u001b[1;33m:\u001b[0m\u001b[1;33m\u001b[0m\u001b[1;33m\u001b[0m\u001b[0m\n",
      "\u001b[1;32mC:\\ProgramData\\Anaconda3\\lib\\site-packages\\urllib3\\packages\\six.py\u001b[0m in \u001b[0;36mraise_from\u001b[1;34m(value, from_value)\u001b[0m\n",
      "\u001b[1;32mC:\\ProgramData\\Anaconda3\\lib\\site-packages\\urllib3\\connectionpool.py\u001b[0m in \u001b[0;36m_make_request\u001b[1;34m(self, conn, method, url, timeout, chunked, **httplib_request_kw)\u001b[0m\n\u001b[0;32m    439\u001b[0m                 \u001b[1;32mtry\u001b[0m\u001b[1;33m:\u001b[0m\u001b[1;33m\u001b[0m\u001b[1;33m\u001b[0m\u001b[0m\n\u001b[1;32m--> 440\u001b[1;33m                     \u001b[0mhttplib_response\u001b[0m \u001b[1;33m=\u001b[0m \u001b[0mconn\u001b[0m\u001b[1;33m.\u001b[0m\u001b[0mgetresponse\u001b[0m\u001b[1;33m(\u001b[0m\u001b[1;33m)\u001b[0m\u001b[1;33m\u001b[0m\u001b[1;33m\u001b[0m\u001b[0m\n\u001b[0m\u001b[0;32m    441\u001b[0m                 \u001b[1;32mexcept\u001b[0m \u001b[0mBaseException\u001b[0m \u001b[1;32mas\u001b[0m \u001b[0me\u001b[0m\u001b[1;33m:\u001b[0m\u001b[1;33m\u001b[0m\u001b[1;33m\u001b[0m\u001b[0m\n",
      "\u001b[1;32mC:\\ProgramData\\Anaconda3\\lib\\http\\client.py\u001b[0m in \u001b[0;36mgetresponse\u001b[1;34m(self)\u001b[0m\n\u001b[0;32m   1346\u001b[0m             \u001b[1;32mtry\u001b[0m\u001b[1;33m:\u001b[0m\u001b[1;33m\u001b[0m\u001b[1;33m\u001b[0m\u001b[0m\n\u001b[1;32m-> 1347\u001b[1;33m                 \u001b[0mresponse\u001b[0m\u001b[1;33m.\u001b[0m\u001b[0mbegin\u001b[0m\u001b[1;33m(\u001b[0m\u001b[1;33m)\u001b[0m\u001b[1;33m\u001b[0m\u001b[1;33m\u001b[0m\u001b[0m\n\u001b[0m\u001b[0;32m   1348\u001b[0m             \u001b[1;32mexcept\u001b[0m \u001b[0mConnectionError\u001b[0m\u001b[1;33m:\u001b[0m\u001b[1;33m\u001b[0m\u001b[1;33m\u001b[0m\u001b[0m\n",
      "\u001b[1;32mC:\\ProgramData\\Anaconda3\\lib\\http\\client.py\u001b[0m in \u001b[0;36mbegin\u001b[1;34m(self)\u001b[0m\n\u001b[0;32m    306\u001b[0m         \u001b[1;32mwhile\u001b[0m \u001b[1;32mTrue\u001b[0m\u001b[1;33m:\u001b[0m\u001b[1;33m\u001b[0m\u001b[1;33m\u001b[0m\u001b[0m\n\u001b[1;32m--> 307\u001b[1;33m             \u001b[0mversion\u001b[0m\u001b[1;33m,\u001b[0m \u001b[0mstatus\u001b[0m\u001b[1;33m,\u001b[0m \u001b[0mreason\u001b[0m \u001b[1;33m=\u001b[0m \u001b[0mself\u001b[0m\u001b[1;33m.\u001b[0m\u001b[0m_read_status\u001b[0m\u001b[1;33m(\u001b[0m\u001b[1;33m)\u001b[0m\u001b[1;33m\u001b[0m\u001b[1;33m\u001b[0m\u001b[0m\n\u001b[0m\u001b[0;32m    308\u001b[0m             \u001b[1;32mif\u001b[0m \u001b[0mstatus\u001b[0m \u001b[1;33m!=\u001b[0m \u001b[0mCONTINUE\u001b[0m\u001b[1;33m:\u001b[0m\u001b[1;33m\u001b[0m\u001b[1;33m\u001b[0m\u001b[0m\n",
      "\u001b[1;32mC:\\ProgramData\\Anaconda3\\lib\\http\\client.py\u001b[0m in \u001b[0;36m_read_status\u001b[1;34m(self)\u001b[0m\n\u001b[0;32m    275\u001b[0m             \u001b[1;31m# sending a valid response.\u001b[0m\u001b[1;33m\u001b[0m\u001b[1;33m\u001b[0m\u001b[1;33m\u001b[0m\u001b[0m\n\u001b[1;32m--> 276\u001b[1;33m             raise RemoteDisconnected(\"Remote end closed connection without\"\n\u001b[0m\u001b[0;32m    277\u001b[0m                                      \" response\")\n",
      "\u001b[1;31mRemoteDisconnected\u001b[0m: Remote end closed connection without response",
      "\nDuring handling of the above exception, another exception occurred:\n",
      "\u001b[1;31mProtocolError\u001b[0m                             Traceback (most recent call last)",
      "\u001b[1;32mC:\\ProgramData\\Anaconda3\\lib\\site-packages\\requests\\adapters.py\u001b[0m in \u001b[0;36msend\u001b[1;34m(self, request, stream, timeout, verify, cert, proxies)\u001b[0m\n\u001b[0;32m    438\u001b[0m             \u001b[1;32mif\u001b[0m \u001b[1;32mnot\u001b[0m \u001b[0mchunked\u001b[0m\u001b[1;33m:\u001b[0m\u001b[1;33m\u001b[0m\u001b[1;33m\u001b[0m\u001b[0m\n\u001b[1;32m--> 439\u001b[1;33m                 resp = conn.urlopen(\n\u001b[0m\u001b[0;32m    440\u001b[0m                     \u001b[0mmethod\u001b[0m\u001b[1;33m=\u001b[0m\u001b[0mrequest\u001b[0m\u001b[1;33m.\u001b[0m\u001b[0mmethod\u001b[0m\u001b[1;33m,\u001b[0m\u001b[1;33m\u001b[0m\u001b[1;33m\u001b[0m\u001b[0m\n",
      "\u001b[1;32mC:\\ProgramData\\Anaconda3\\lib\\site-packages\\urllib3\\connectionpool.py\u001b[0m in \u001b[0;36murlopen\u001b[1;34m(self, method, url, body, headers, retries, redirect, assert_same_host, timeout, pool_timeout, release_conn, chunked, body_pos, **response_kw)\u001b[0m\n\u001b[0;32m    754\u001b[0m \u001b[1;33m\u001b[0m\u001b[0m\n\u001b[1;32m--> 755\u001b[1;33m             retries = retries.increment(\n\u001b[0m\u001b[0;32m    756\u001b[0m                 \u001b[0mmethod\u001b[0m\u001b[1;33m,\u001b[0m \u001b[0murl\u001b[0m\u001b[1;33m,\u001b[0m \u001b[0merror\u001b[0m\u001b[1;33m=\u001b[0m\u001b[0me\u001b[0m\u001b[1;33m,\u001b[0m \u001b[0m_pool\u001b[0m\u001b[1;33m=\u001b[0m\u001b[0mself\u001b[0m\u001b[1;33m,\u001b[0m \u001b[0m_stacktrace\u001b[0m\u001b[1;33m=\u001b[0m\u001b[0msys\u001b[0m\u001b[1;33m.\u001b[0m\u001b[0mexc_info\u001b[0m\u001b[1;33m(\u001b[0m\u001b[1;33m)\u001b[0m\u001b[1;33m[\u001b[0m\u001b[1;36m2\u001b[0m\u001b[1;33m]\u001b[0m\u001b[1;33m\u001b[0m\u001b[1;33m\u001b[0m\u001b[0m\n",
      "\u001b[1;32mC:\\ProgramData\\Anaconda3\\lib\\site-packages\\urllib3\\util\\retry.py\u001b[0m in \u001b[0;36mincrement\u001b[1;34m(self, method, url, response, error, _pool, _stacktrace)\u001b[0m\n\u001b[0;32m    531\u001b[0m             \u001b[1;32mif\u001b[0m \u001b[0mread\u001b[0m \u001b[1;32mis\u001b[0m \u001b[1;32mFalse\u001b[0m \u001b[1;32mor\u001b[0m \u001b[1;32mnot\u001b[0m \u001b[0mself\u001b[0m\u001b[1;33m.\u001b[0m\u001b[0m_is_method_retryable\u001b[0m\u001b[1;33m(\u001b[0m\u001b[0mmethod\u001b[0m\u001b[1;33m)\u001b[0m\u001b[1;33m:\u001b[0m\u001b[1;33m\u001b[0m\u001b[1;33m\u001b[0m\u001b[0m\n\u001b[1;32m--> 532\u001b[1;33m                 \u001b[1;32mraise\u001b[0m \u001b[0msix\u001b[0m\u001b[1;33m.\u001b[0m\u001b[0mreraise\u001b[0m\u001b[1;33m(\u001b[0m\u001b[0mtype\u001b[0m\u001b[1;33m(\u001b[0m\u001b[0merror\u001b[0m\u001b[1;33m)\u001b[0m\u001b[1;33m,\u001b[0m \u001b[0merror\u001b[0m\u001b[1;33m,\u001b[0m \u001b[0m_stacktrace\u001b[0m\u001b[1;33m)\u001b[0m\u001b[1;33m\u001b[0m\u001b[1;33m\u001b[0m\u001b[0m\n\u001b[0m\u001b[0;32m    533\u001b[0m             \u001b[1;32melif\u001b[0m \u001b[0mread\u001b[0m \u001b[1;32mis\u001b[0m \u001b[1;32mnot\u001b[0m \u001b[1;32mNone\u001b[0m\u001b[1;33m:\u001b[0m\u001b[1;33m\u001b[0m\u001b[1;33m\u001b[0m\u001b[0m\n",
      "\u001b[1;32mC:\\ProgramData\\Anaconda3\\lib\\site-packages\\urllib3\\packages\\six.py\u001b[0m in \u001b[0;36mreraise\u001b[1;34m(tp, value, tb)\u001b[0m\n\u001b[0;32m    733\u001b[0m             \u001b[1;32mif\u001b[0m \u001b[0mvalue\u001b[0m\u001b[1;33m.\u001b[0m\u001b[0m__traceback__\u001b[0m \u001b[1;32mis\u001b[0m \u001b[1;32mnot\u001b[0m \u001b[0mtb\u001b[0m\u001b[1;33m:\u001b[0m\u001b[1;33m\u001b[0m\u001b[1;33m\u001b[0m\u001b[0m\n\u001b[1;32m--> 734\u001b[1;33m                 \u001b[1;32mraise\u001b[0m \u001b[0mvalue\u001b[0m\u001b[1;33m.\u001b[0m\u001b[0mwith_traceback\u001b[0m\u001b[1;33m(\u001b[0m\u001b[0mtb\u001b[0m\u001b[1;33m)\u001b[0m\u001b[1;33m\u001b[0m\u001b[1;33m\u001b[0m\u001b[0m\n\u001b[0m\u001b[0;32m    735\u001b[0m             \u001b[1;32mraise\u001b[0m \u001b[0mvalue\u001b[0m\u001b[1;33m\u001b[0m\u001b[1;33m\u001b[0m\u001b[0m\n",
      "\u001b[1;32mC:\\ProgramData\\Anaconda3\\lib\\site-packages\\urllib3\\connectionpool.py\u001b[0m in \u001b[0;36murlopen\u001b[1;34m(self, method, url, body, headers, retries, redirect, assert_same_host, timeout, pool_timeout, release_conn, chunked, body_pos, **response_kw)\u001b[0m\n\u001b[0;32m    698\u001b[0m             \u001b[1;31m# Make the request on the httplib connection object.\u001b[0m\u001b[1;33m\u001b[0m\u001b[1;33m\u001b[0m\u001b[1;33m\u001b[0m\u001b[0m\n\u001b[1;32m--> 699\u001b[1;33m             httplib_response = self._make_request(\n\u001b[0m\u001b[0;32m    700\u001b[0m                 \u001b[0mconn\u001b[0m\u001b[1;33m,\u001b[0m\u001b[1;33m\u001b[0m\u001b[1;33m\u001b[0m\u001b[0m\n",
      "\u001b[1;32mC:\\ProgramData\\Anaconda3\\lib\\site-packages\\urllib3\\connectionpool.py\u001b[0m in \u001b[0;36m_make_request\u001b[1;34m(self, conn, method, url, timeout, chunked, **httplib_request_kw)\u001b[0m\n\u001b[0;32m    444\u001b[0m                     \u001b[1;31m# Otherwise it looks like a bug in the code.\u001b[0m\u001b[1;33m\u001b[0m\u001b[1;33m\u001b[0m\u001b[1;33m\u001b[0m\u001b[0m\n\u001b[1;32m--> 445\u001b[1;33m                     \u001b[0msix\u001b[0m\u001b[1;33m.\u001b[0m\u001b[0mraise_from\u001b[0m\u001b[1;33m(\u001b[0m\u001b[0me\u001b[0m\u001b[1;33m,\u001b[0m \u001b[1;32mNone\u001b[0m\u001b[1;33m)\u001b[0m\u001b[1;33m\u001b[0m\u001b[1;33m\u001b[0m\u001b[0m\n\u001b[0m\u001b[0;32m    446\u001b[0m         \u001b[1;32mexcept\u001b[0m \u001b[1;33m(\u001b[0m\u001b[0mSocketTimeout\u001b[0m\u001b[1;33m,\u001b[0m \u001b[0mBaseSSLError\u001b[0m\u001b[1;33m,\u001b[0m \u001b[0mSocketError\u001b[0m\u001b[1;33m)\u001b[0m \u001b[1;32mas\u001b[0m \u001b[0me\u001b[0m\u001b[1;33m:\u001b[0m\u001b[1;33m\u001b[0m\u001b[1;33m\u001b[0m\u001b[0m\n",
      "\u001b[1;32mC:\\ProgramData\\Anaconda3\\lib\\site-packages\\urllib3\\packages\\six.py\u001b[0m in \u001b[0;36mraise_from\u001b[1;34m(value, from_value)\u001b[0m\n",
      "\u001b[1;32mC:\\ProgramData\\Anaconda3\\lib\\site-packages\\urllib3\\connectionpool.py\u001b[0m in \u001b[0;36m_make_request\u001b[1;34m(self, conn, method, url, timeout, chunked, **httplib_request_kw)\u001b[0m\n\u001b[0;32m    439\u001b[0m                 \u001b[1;32mtry\u001b[0m\u001b[1;33m:\u001b[0m\u001b[1;33m\u001b[0m\u001b[1;33m\u001b[0m\u001b[0m\n\u001b[1;32m--> 440\u001b[1;33m                     \u001b[0mhttplib_response\u001b[0m \u001b[1;33m=\u001b[0m \u001b[0mconn\u001b[0m\u001b[1;33m.\u001b[0m\u001b[0mgetresponse\u001b[0m\u001b[1;33m(\u001b[0m\u001b[1;33m)\u001b[0m\u001b[1;33m\u001b[0m\u001b[1;33m\u001b[0m\u001b[0m\n\u001b[0m\u001b[0;32m    441\u001b[0m                 \u001b[1;32mexcept\u001b[0m \u001b[0mBaseException\u001b[0m \u001b[1;32mas\u001b[0m \u001b[0me\u001b[0m\u001b[1;33m:\u001b[0m\u001b[1;33m\u001b[0m\u001b[1;33m\u001b[0m\u001b[0m\n",
      "\u001b[1;32mC:\\ProgramData\\Anaconda3\\lib\\http\\client.py\u001b[0m in \u001b[0;36mgetresponse\u001b[1;34m(self)\u001b[0m\n\u001b[0;32m   1346\u001b[0m             \u001b[1;32mtry\u001b[0m\u001b[1;33m:\u001b[0m\u001b[1;33m\u001b[0m\u001b[1;33m\u001b[0m\u001b[0m\n\u001b[1;32m-> 1347\u001b[1;33m                 \u001b[0mresponse\u001b[0m\u001b[1;33m.\u001b[0m\u001b[0mbegin\u001b[0m\u001b[1;33m(\u001b[0m\u001b[1;33m)\u001b[0m\u001b[1;33m\u001b[0m\u001b[1;33m\u001b[0m\u001b[0m\n\u001b[0m\u001b[0;32m   1348\u001b[0m             \u001b[1;32mexcept\u001b[0m \u001b[0mConnectionError\u001b[0m\u001b[1;33m:\u001b[0m\u001b[1;33m\u001b[0m\u001b[1;33m\u001b[0m\u001b[0m\n",
      "\u001b[1;32mC:\\ProgramData\\Anaconda3\\lib\\http\\client.py\u001b[0m in \u001b[0;36mbegin\u001b[1;34m(self)\u001b[0m\n\u001b[0;32m    306\u001b[0m         \u001b[1;32mwhile\u001b[0m \u001b[1;32mTrue\u001b[0m\u001b[1;33m:\u001b[0m\u001b[1;33m\u001b[0m\u001b[1;33m\u001b[0m\u001b[0m\n\u001b[1;32m--> 307\u001b[1;33m             \u001b[0mversion\u001b[0m\u001b[1;33m,\u001b[0m \u001b[0mstatus\u001b[0m\u001b[1;33m,\u001b[0m \u001b[0mreason\u001b[0m \u001b[1;33m=\u001b[0m \u001b[0mself\u001b[0m\u001b[1;33m.\u001b[0m\u001b[0m_read_status\u001b[0m\u001b[1;33m(\u001b[0m\u001b[1;33m)\u001b[0m\u001b[1;33m\u001b[0m\u001b[1;33m\u001b[0m\u001b[0m\n\u001b[0m\u001b[0;32m    308\u001b[0m             \u001b[1;32mif\u001b[0m \u001b[0mstatus\u001b[0m \u001b[1;33m!=\u001b[0m \u001b[0mCONTINUE\u001b[0m\u001b[1;33m:\u001b[0m\u001b[1;33m\u001b[0m\u001b[1;33m\u001b[0m\u001b[0m\n",
      "\u001b[1;32mC:\\ProgramData\\Anaconda3\\lib\\http\\client.py\u001b[0m in \u001b[0;36m_read_status\u001b[1;34m(self)\u001b[0m\n\u001b[0;32m    275\u001b[0m             \u001b[1;31m# sending a valid response.\u001b[0m\u001b[1;33m\u001b[0m\u001b[1;33m\u001b[0m\u001b[1;33m\u001b[0m\u001b[0m\n\u001b[1;32m--> 276\u001b[1;33m             raise RemoteDisconnected(\"Remote end closed connection without\"\n\u001b[0m\u001b[0;32m    277\u001b[0m                                      \" response\")\n",
      "\u001b[1;31mProtocolError\u001b[0m: ('Connection aborted.', RemoteDisconnected('Remote end closed connection without response'))",
      "\nDuring handling of the above exception, another exception occurred:\n",
      "\u001b[1;31mConnectionError\u001b[0m                           Traceback (most recent call last)",
      "\u001b[1;32m<ipython-input-7-d97a11ad5b2f>\u001b[0m in \u001b[0;36m<module>\u001b[1;34m\u001b[0m\n\u001b[1;32m----> 1\u001b[1;33m \u001b[0mdata\u001b[0m\u001b[1;33m[\u001b[0m\u001b[1;34m'asunto_ingles'\u001b[0m\u001b[1;33m]\u001b[0m \u001b[1;33m=\u001b[0m \u001b[0mdata\u001b[0m\u001b[1;33m[\u001b[0m\u001b[1;34m'asunto'\u001b[0m\u001b[1;33m]\u001b[0m\u001b[1;33m.\u001b[0m\u001b[0mapply\u001b[0m\u001b[1;33m(\u001b[0m\u001b[1;32mlambda\u001b[0m \u001b[0m_\u001b[0m\u001b[1;33m:\u001b[0m \u001b[0mtraducir\u001b[0m\u001b[1;33m(\u001b[0m\u001b[0m_\u001b[0m\u001b[1;33m)\u001b[0m\u001b[1;33m)\u001b[0m\u001b[1;33m\u001b[0m\u001b[1;33m\u001b[0m\u001b[0m\n\u001b[0m",
      "\u001b[1;32mC:\\ProgramData\\Anaconda3\\lib\\site-packages\\pandas\\core\\series.py\u001b[0m in \u001b[0;36mapply\u001b[1;34m(self, func, convert_dtype, args, **kwds)\u001b[0m\n\u001b[0;32m   4136\u001b[0m             \u001b[1;32melse\u001b[0m\u001b[1;33m:\u001b[0m\u001b[1;33m\u001b[0m\u001b[1;33m\u001b[0m\u001b[0m\n\u001b[0;32m   4137\u001b[0m                 \u001b[0mvalues\u001b[0m \u001b[1;33m=\u001b[0m \u001b[0mself\u001b[0m\u001b[1;33m.\u001b[0m\u001b[0mastype\u001b[0m\u001b[1;33m(\u001b[0m\u001b[0mobject\u001b[0m\u001b[1;33m)\u001b[0m\u001b[1;33m.\u001b[0m\u001b[0m_values\u001b[0m\u001b[1;33m\u001b[0m\u001b[1;33m\u001b[0m\u001b[0m\n\u001b[1;32m-> 4138\u001b[1;33m                 \u001b[0mmapped\u001b[0m \u001b[1;33m=\u001b[0m \u001b[0mlib\u001b[0m\u001b[1;33m.\u001b[0m\u001b[0mmap_infer\u001b[0m\u001b[1;33m(\u001b[0m\u001b[0mvalues\u001b[0m\u001b[1;33m,\u001b[0m \u001b[0mf\u001b[0m\u001b[1;33m,\u001b[0m \u001b[0mconvert\u001b[0m\u001b[1;33m=\u001b[0m\u001b[0mconvert_dtype\u001b[0m\u001b[1;33m)\u001b[0m\u001b[1;33m\u001b[0m\u001b[1;33m\u001b[0m\u001b[0m\n\u001b[0m\u001b[0;32m   4139\u001b[0m \u001b[1;33m\u001b[0m\u001b[0m\n\u001b[0;32m   4140\u001b[0m         \u001b[1;32mif\u001b[0m \u001b[0mlen\u001b[0m\u001b[1;33m(\u001b[0m\u001b[0mmapped\u001b[0m\u001b[1;33m)\u001b[0m \u001b[1;32mand\u001b[0m \u001b[0misinstance\u001b[0m\u001b[1;33m(\u001b[0m\u001b[0mmapped\u001b[0m\u001b[1;33m[\u001b[0m\u001b[1;36m0\u001b[0m\u001b[1;33m]\u001b[0m\u001b[1;33m,\u001b[0m \u001b[0mSeries\u001b[0m\u001b[1;33m)\u001b[0m\u001b[1;33m:\u001b[0m\u001b[1;33m\u001b[0m\u001b[1;33m\u001b[0m\u001b[0m\n",
      "\u001b[1;32mpandas\\_libs\\lib.pyx\u001b[0m in \u001b[0;36mpandas._libs.lib.map_infer\u001b[1;34m()\u001b[0m\n",
      "\u001b[1;32m<ipython-input-7-d97a11ad5b2f>\u001b[0m in \u001b[0;36m<lambda>\u001b[1;34m(_)\u001b[0m\n\u001b[1;32m----> 1\u001b[1;33m \u001b[0mdata\u001b[0m\u001b[1;33m[\u001b[0m\u001b[1;34m'asunto_ingles'\u001b[0m\u001b[1;33m]\u001b[0m \u001b[1;33m=\u001b[0m \u001b[0mdata\u001b[0m\u001b[1;33m[\u001b[0m\u001b[1;34m'asunto'\u001b[0m\u001b[1;33m]\u001b[0m\u001b[1;33m.\u001b[0m\u001b[0mapply\u001b[0m\u001b[1;33m(\u001b[0m\u001b[1;32mlambda\u001b[0m \u001b[0m_\u001b[0m\u001b[1;33m:\u001b[0m \u001b[0mtraducir\u001b[0m\u001b[1;33m(\u001b[0m\u001b[0m_\u001b[0m\u001b[1;33m)\u001b[0m\u001b[1;33m)\u001b[0m\u001b[1;33m\u001b[0m\u001b[1;33m\u001b[0m\u001b[0m\n\u001b[0m",
      "\u001b[1;32m<ipython-input-4-638ab06fed74>\u001b[0m in \u001b[0;36mtraducir\u001b[1;34m(texto, desde, hacia)\u001b[0m\n\u001b[0;32m     26\u001b[0m \u001b[1;33m\u001b[0m\u001b[0m\n\u001b[0;32m     27\u001b[0m     \u001b[0murl_\u001b[0m \u001b[1;33m=\u001b[0m \u001b[1;34m'https://translate.googleapis.com/translate_a/single?client=gtx&sl={}&tl={}&dt=t&q={}'\u001b[0m\u001b[1;33m\u001b[0m\u001b[1;33m\u001b[0m\u001b[0m\n\u001b[1;32m---> 28\u001b[1;33m     response = requests.get(\n\u001b[0m\u001b[0;32m     29\u001b[0m         \u001b[0murl_\u001b[0m\u001b[1;33m.\u001b[0m\u001b[0mformat\u001b[0m\u001b[1;33m(\u001b[0m\u001b[0mdesde\u001b[0m\u001b[1;33m,\u001b[0m \u001b[0mhacia\u001b[0m\u001b[1;33m,\u001b[0m \u001b[0mtexto\u001b[0m\u001b[1;33m)\u001b[0m\u001b[1;33m,\u001b[0m \u001b[0mheaders\u001b[0m\u001b[1;33m=\u001b[0m\u001b[0mheaders_tor\u001b[0m\u001b[1;33m\u001b[0m\u001b[1;33m\u001b[0m\u001b[0m\n\u001b[0;32m     30\u001b[0m     )\n",
      "\u001b[1;32mC:\\ProgramData\\Anaconda3\\lib\\site-packages\\requests\\api.py\u001b[0m in \u001b[0;36mget\u001b[1;34m(url, params, **kwargs)\u001b[0m\n\u001b[0;32m     74\u001b[0m \u001b[1;33m\u001b[0m\u001b[0m\n\u001b[0;32m     75\u001b[0m     \u001b[0mkwargs\u001b[0m\u001b[1;33m.\u001b[0m\u001b[0msetdefault\u001b[0m\u001b[1;33m(\u001b[0m\u001b[1;34m'allow_redirects'\u001b[0m\u001b[1;33m,\u001b[0m \u001b[1;32mTrue\u001b[0m\u001b[1;33m)\u001b[0m\u001b[1;33m\u001b[0m\u001b[1;33m\u001b[0m\u001b[0m\n\u001b[1;32m---> 76\u001b[1;33m     \u001b[1;32mreturn\u001b[0m \u001b[0mrequest\u001b[0m\u001b[1;33m(\u001b[0m\u001b[1;34m'get'\u001b[0m\u001b[1;33m,\u001b[0m \u001b[0murl\u001b[0m\u001b[1;33m,\u001b[0m \u001b[0mparams\u001b[0m\u001b[1;33m=\u001b[0m\u001b[0mparams\u001b[0m\u001b[1;33m,\u001b[0m \u001b[1;33m**\u001b[0m\u001b[0mkwargs\u001b[0m\u001b[1;33m)\u001b[0m\u001b[1;33m\u001b[0m\u001b[1;33m\u001b[0m\u001b[0m\n\u001b[0m\u001b[0;32m     77\u001b[0m \u001b[1;33m\u001b[0m\u001b[0m\n\u001b[0;32m     78\u001b[0m \u001b[1;33m\u001b[0m\u001b[0m\n",
      "\u001b[1;32mC:\\ProgramData\\Anaconda3\\lib\\site-packages\\requests\\api.py\u001b[0m in \u001b[0;36mrequest\u001b[1;34m(method, url, **kwargs)\u001b[0m\n\u001b[0;32m     59\u001b[0m     \u001b[1;31m# cases, and look like a memory leak in others.\u001b[0m\u001b[1;33m\u001b[0m\u001b[1;33m\u001b[0m\u001b[1;33m\u001b[0m\u001b[0m\n\u001b[0;32m     60\u001b[0m     \u001b[1;32mwith\u001b[0m \u001b[0msessions\u001b[0m\u001b[1;33m.\u001b[0m\u001b[0mSession\u001b[0m\u001b[1;33m(\u001b[0m\u001b[1;33m)\u001b[0m \u001b[1;32mas\u001b[0m \u001b[0msession\u001b[0m\u001b[1;33m:\u001b[0m\u001b[1;33m\u001b[0m\u001b[1;33m\u001b[0m\u001b[0m\n\u001b[1;32m---> 61\u001b[1;33m         \u001b[1;32mreturn\u001b[0m \u001b[0msession\u001b[0m\u001b[1;33m.\u001b[0m\u001b[0mrequest\u001b[0m\u001b[1;33m(\u001b[0m\u001b[0mmethod\u001b[0m\u001b[1;33m=\u001b[0m\u001b[0mmethod\u001b[0m\u001b[1;33m,\u001b[0m \u001b[0murl\u001b[0m\u001b[1;33m=\u001b[0m\u001b[0murl\u001b[0m\u001b[1;33m,\u001b[0m \u001b[1;33m**\u001b[0m\u001b[0mkwargs\u001b[0m\u001b[1;33m)\u001b[0m\u001b[1;33m\u001b[0m\u001b[1;33m\u001b[0m\u001b[0m\n\u001b[0m\u001b[0;32m     62\u001b[0m \u001b[1;33m\u001b[0m\u001b[0m\n\u001b[0;32m     63\u001b[0m \u001b[1;33m\u001b[0m\u001b[0m\n",
      "\u001b[1;32mC:\\ProgramData\\Anaconda3\\lib\\site-packages\\requests\\sessions.py\u001b[0m in \u001b[0;36mrequest\u001b[1;34m(self, method, url, params, data, headers, cookies, files, auth, timeout, allow_redirects, proxies, hooks, stream, verify, cert, json)\u001b[0m\n\u001b[0;32m    540\u001b[0m         }\n\u001b[0;32m    541\u001b[0m         \u001b[0msend_kwargs\u001b[0m\u001b[1;33m.\u001b[0m\u001b[0mupdate\u001b[0m\u001b[1;33m(\u001b[0m\u001b[0msettings\u001b[0m\u001b[1;33m)\u001b[0m\u001b[1;33m\u001b[0m\u001b[1;33m\u001b[0m\u001b[0m\n\u001b[1;32m--> 542\u001b[1;33m         \u001b[0mresp\u001b[0m \u001b[1;33m=\u001b[0m \u001b[0mself\u001b[0m\u001b[1;33m.\u001b[0m\u001b[0msend\u001b[0m\u001b[1;33m(\u001b[0m\u001b[0mprep\u001b[0m\u001b[1;33m,\u001b[0m \u001b[1;33m**\u001b[0m\u001b[0msend_kwargs\u001b[0m\u001b[1;33m)\u001b[0m\u001b[1;33m\u001b[0m\u001b[1;33m\u001b[0m\u001b[0m\n\u001b[0m\u001b[0;32m    543\u001b[0m \u001b[1;33m\u001b[0m\u001b[0m\n\u001b[0;32m    544\u001b[0m         \u001b[1;32mreturn\u001b[0m \u001b[0mresp\u001b[0m\u001b[1;33m\u001b[0m\u001b[1;33m\u001b[0m\u001b[0m\n",
      "\u001b[1;32mC:\\ProgramData\\Anaconda3\\lib\\site-packages\\requests\\sessions.py\u001b[0m in \u001b[0;36msend\u001b[1;34m(self, request, **kwargs)\u001b[0m\n\u001b[0;32m    653\u001b[0m \u001b[1;33m\u001b[0m\u001b[0m\n\u001b[0;32m    654\u001b[0m         \u001b[1;31m# Send the request\u001b[0m\u001b[1;33m\u001b[0m\u001b[1;33m\u001b[0m\u001b[1;33m\u001b[0m\u001b[0m\n\u001b[1;32m--> 655\u001b[1;33m         \u001b[0mr\u001b[0m \u001b[1;33m=\u001b[0m \u001b[0madapter\u001b[0m\u001b[1;33m.\u001b[0m\u001b[0msend\u001b[0m\u001b[1;33m(\u001b[0m\u001b[0mrequest\u001b[0m\u001b[1;33m,\u001b[0m \u001b[1;33m**\u001b[0m\u001b[0mkwargs\u001b[0m\u001b[1;33m)\u001b[0m\u001b[1;33m\u001b[0m\u001b[1;33m\u001b[0m\u001b[0m\n\u001b[0m\u001b[0;32m    656\u001b[0m \u001b[1;33m\u001b[0m\u001b[0m\n\u001b[0;32m    657\u001b[0m         \u001b[1;31m# Total elapsed time of the request (approximately)\u001b[0m\u001b[1;33m\u001b[0m\u001b[1;33m\u001b[0m\u001b[1;33m\u001b[0m\u001b[0m\n",
      "\u001b[1;32mC:\\ProgramData\\Anaconda3\\lib\\site-packages\\requests\\adapters.py\u001b[0m in \u001b[0;36msend\u001b[1;34m(self, request, stream, timeout, verify, cert, proxies)\u001b[0m\n\u001b[0;32m    496\u001b[0m \u001b[1;33m\u001b[0m\u001b[0m\n\u001b[0;32m    497\u001b[0m         \u001b[1;32mexcept\u001b[0m \u001b[1;33m(\u001b[0m\u001b[0mProtocolError\u001b[0m\u001b[1;33m,\u001b[0m \u001b[0msocket\u001b[0m\u001b[1;33m.\u001b[0m\u001b[0merror\u001b[0m\u001b[1;33m)\u001b[0m \u001b[1;32mas\u001b[0m \u001b[0merr\u001b[0m\u001b[1;33m:\u001b[0m\u001b[1;33m\u001b[0m\u001b[1;33m\u001b[0m\u001b[0m\n\u001b[1;32m--> 498\u001b[1;33m             \u001b[1;32mraise\u001b[0m \u001b[0mConnectionError\u001b[0m\u001b[1;33m(\u001b[0m\u001b[0merr\u001b[0m\u001b[1;33m,\u001b[0m \u001b[0mrequest\u001b[0m\u001b[1;33m=\u001b[0m\u001b[0mrequest\u001b[0m\u001b[1;33m)\u001b[0m\u001b[1;33m\u001b[0m\u001b[1;33m\u001b[0m\u001b[0m\n\u001b[0m\u001b[0;32m    499\u001b[0m \u001b[1;33m\u001b[0m\u001b[0m\n\u001b[0;32m    500\u001b[0m         \u001b[1;32mexcept\u001b[0m \u001b[0mMaxRetryError\u001b[0m \u001b[1;32mas\u001b[0m \u001b[0me\u001b[0m\u001b[1;33m:\u001b[0m\u001b[1;33m\u001b[0m\u001b[1;33m\u001b[0m\u001b[0m\n",
      "\u001b[1;31mConnectionError\u001b[0m: ('Connection aborted.', RemoteDisconnected('Remote end closed connection without response'))"
     ]
    }
   ],
   "source": [
    "data['asunto_ingles'] = data['asunto'].apply(lambda _: traducir(_))"
   ]
  },
  {
   "cell_type": "code",
   "execution_count": null,
   "id": "piano-technician",
   "metadata": {},
   "outputs": [],
   "source": [
    "data['asunto_ingles'] = data['asunto_ingles'].apply(lambda _: traducir(_) if 'ERROR' in _.upper() else _)"
   ]
  },
  {
   "cell_type": "code",
   "execution_count": null,
   "id": "controversial-browser",
   "metadata": {},
   "outputs": [],
   "source": [
    "traducir(\n",
    "    list(data[data['asunto_ingles'] == 'ERROR']['asunto'])[0]\n",
    ")"
   ]
  },
  {
   "cell_type": "code",
   "execution_count": null,
   "id": "diagnostic-charles",
   "metadata": {},
   "outputs": [],
   "source": [
    "data.loc[37, 'asunto_ingles'] = 'Do you already know the special exchange rate we have for your company?'"
   ]
  },
  {
   "cell_type": "code",
   "execution_count": null,
   "id": "tropical-salad",
   "metadata": {},
   "outputs": [],
   "source": [
    "data[['asunto_ingles', 'asunto']].tail(60)"
   ]
  },
  {
   "cell_type": "code",
   "execution_count": null,
   "id": "generous-highlight",
   "metadata": {},
   "outputs": [],
   "source": [
    "data.dtypes"
   ]
  },
  {
   "cell_type": "code",
   "execution_count": null,
   "id": "designing-litigation",
   "metadata": {},
   "outputs": [],
   "source": [
    "data.isnull().sum()"
   ]
  },
  {
   "cell_type": "markdown",
   "id": "prime-steal",
   "metadata": {},
   "source": [
    "### Conversion de emojis y/o emoticones ---> significado"
   ]
  },
  {
   "cell_type": "code",
   "execution_count": null,
   "id": "graduate-savings",
   "metadata": {},
   "outputs": [],
   "source": [
    "import emot\n",
    "\n",
    "text = ':-) Woohooo😍✌️'\n",
    "\n",
    "def clean_mean(val):\n",
    "    return val.replace('_', ' ').replace('-', ' ').replace(':', ' ')\n",
    "\n",
    "def handle_emoji_emoti(text):\n",
    "    for emoti in emot.emo_unicode.EMOTICONS:\n",
    "        if emoti in text:\n",
    "            text = text.replace(emoti, ' ' + clean_mean(emot.emo_unicode.EMOTICONS.get(emoti, '')))\n",
    "            print(emoti, end=' ')\n",
    "\n",
    "    for emoti in emot.emo_unicode.UNICODE_EMO:\n",
    "        if emoti in text:\n",
    "            text = text.replace(emoti, ' ' + clean_mean(emot.emo_unicode.UNICODE_EMO.get(emoti, '')))\n",
    "            print(emoti, end=' ')\n",
    "\n",
    "    for emoti in emot.emo_unicode.EMOTICONS_EMO:\n",
    "        if emoti in text:\n",
    "            text = text.replace(emoti, ' ' + clean_mean(emot.emo_unicode.EMOTICONS_EMO.get(emoti, '')))\n",
    "            print(emoti, end=' ')\n",
    "        \n",
    "    return text\n",
    "        \n",
    "text = handle_emoji_emoti(text)\n",
    "print(text)"
   ]
  },
  {
   "cell_type": "code",
   "execution_count": null,
   "id": "measured-genome",
   "metadata": {},
   "outputs": [],
   "source": [
    "data['asunto_ingles'] = data['asunto_ingles'].apply(lambda _: handle_emoji_emoti(_))"
   ]
  },
  {
   "cell_type": "code",
   "execution_count": null,
   "id": "superb-champagne",
   "metadata": {},
   "outputs": [],
   "source": [
    "data[['asunto_ingles', 'asunto']].head(60)"
   ]
  },
  {
   "cell_type": "code",
   "execution_count": null,
   "id": "macro-macedonia",
   "metadata": {},
   "outputs": [],
   "source": []
  },
  {
   "cell_type": "code",
   "execution_count": null,
   "id": "centered-dream",
   "metadata": {},
   "outputs": [],
   "source": []
  },
  {
   "cell_type": "markdown",
   "id": "precise-thong",
   "metadata": {},
   "source": [
    "### RATIOS"
   ]
  },
  {
   "cell_type": "code",
   "execution_count": null,
   "id": "eastern-therapist",
   "metadata": {},
   "outputs": [],
   "source": [
    "data.head()"
   ]
  },
  {
   "cell_type": "code",
   "execution_count": null,
   "id": "blocked-address",
   "metadata": {},
   "outputs": [],
   "source": [
    "data['open_rate'] = data[['entregado', 'open-rate']].apply(lambda _: _[1] / _[0], axis=1)\n",
    "data['open_rate'].hist()"
   ]
  },
  {
   "cell_type": "code",
   "execution_count": null,
   "id": "aging-dayton",
   "metadata": {},
   "outputs": [],
   "source": [
    "data['ratio_click_campania'] = data[['entregado', 'click']].apply(lambda _: _[1] / _[0], axis=1)\n",
    "data['ratio_click_campania'].hist()"
   ]
  },
  {
   "cell_type": "code",
   "execution_count": null,
   "id": "frozen-banner",
   "metadata": {},
   "outputs": [],
   "source": [
    "data['open_rate_later_click'] = data[['open-rate', 'click']].apply(lambda _: _[1] / _[0], axis=1)\n",
    "data['open_rate_later_click'].hist()"
   ]
  },
  {
   "cell_type": "code",
   "execution_count": null,
   "id": "grateful-gender",
   "metadata": {},
   "outputs": [],
   "source": []
  },
  {
   "cell_type": "code",
   "execution_count": null,
   "id": "global-timing",
   "metadata": {},
   "outputs": [],
   "source": []
  },
  {
   "cell_type": "markdown",
   "id": "cordless-calculator",
   "metadata": {},
   "source": [
    "### SENTIMENT"
   ]
  },
  {
   "cell_type": "code",
   "execution_count": null,
   "id": "fallen-chassis",
   "metadata": {},
   "outputs": [],
   "source": [
    "import nltk\n",
    "from nltk.corpus import stopwords\n",
    "stopwords_english = stopwords.words('english')\n",
    "\n",
    "print(stopwords_english)"
   ]
  },
  {
   "cell_type": "code",
   "execution_count": null,
   "id": "boring-sally",
   "metadata": {},
   "outputs": [],
   "source": [
    "data['asunto_ingles'] = data['asunto_ingles'].apply(\n",
    "    lambda _:  ' '.join([word for word in _.split() if word not in stopwords_english]).strip()\n",
    ")"
   ]
  },
  {
   "cell_type": "code",
   "execution_count": null,
   "id": "endless-encyclopedia",
   "metadata": {},
   "outputs": [],
   "source": []
  },
  {
   "cell_type": "code",
   "execution_count": null,
   "id": "hawaiian-surfing",
   "metadata": {},
   "outputs": [],
   "source": []
  },
  {
   "cell_type": "markdown",
   "id": "median-elimination",
   "metadata": {},
   "source": [
    "### AGREGANDO MAYOR INFLUENCIA \"!\""
   ]
  },
  {
   "cell_type": "code",
   "execution_count": null,
   "id": "domestic-water",
   "metadata": {},
   "outputs": [],
   "source": [
    "def convert_upper_for_admiration(text_1):\n",
    "    for word in text_1.split():\n",
    "        if '!' in word:\n",
    "            text_1 = text_1.replace(word, word.upper())\n",
    "    \n",
    "    return text_1\n",
    "\n",
    "data['asunto_ingles'] = data['asunto_ingles'].apply(lambda _: convert_upper_for_admiration(_))"
   ]
  },
  {
   "cell_type": "code",
   "execution_count": null,
   "id": "neural-incident",
   "metadata": {},
   "outputs": [],
   "source": [
    "data['asunto_ingles'].head(60)"
   ]
  },
  {
   "cell_type": "code",
   "execution_count": null,
   "id": "civilian-lending",
   "metadata": {},
   "outputs": [],
   "source": []
  },
  {
   "cell_type": "markdown",
   "id": "initial-weather",
   "metadata": {},
   "source": [
    "### APPLY SENTUMENT WITH VADER"
   ]
  },
  {
   "cell_type": "code",
   "execution_count": null,
   "id": "martial-sleeve",
   "metadata": {},
   "outputs": [],
   "source": [
    "from vaderSentiment.vaderSentiment import SentimentIntensityAnalyzer\n",
    "analyser = SentimentIntensityAnalyzer()"
   ]
  },
  {
   "cell_type": "code",
   "execution_count": null,
   "id": "senior-chocolate",
   "metadata": {},
   "outputs": [],
   "source": []
  },
  {
   "cell_type": "code",
   "execution_count": null,
   "id": "outer-oklahoma",
   "metadata": {},
   "outputs": [],
   "source": []
  },
  {
   "cell_type": "code",
   "execution_count": null,
   "id": "senior-flush",
   "metadata": {},
   "outputs": [],
   "source": [
    "data['sentiment_dict'] = data['asunto_ingles'].apply(lambda _: analyser.polarity_scores(_))\n",
    "data['sentiment_dict'].head()"
   ]
  },
  {
   "cell_type": "code",
   "execution_count": null,
   "id": "assigned-southeast",
   "metadata": {},
   "outputs": [],
   "source": [
    "data['negativo'] = data['sentiment_dict'].apply(lambda _: _.get('neg', 0))\n",
    "data['positivo'] = data['sentiment_dict'].apply(lambda _: _.get('pos', 0))\n",
    "data['neutro'] = data['sentiment_dict'].apply(lambda _: _.get('neu', 0))\n",
    "data['composicion'] = data['sentiment_dict'].apply(lambda _: _.get('compound', 0))"
   ]
  },
  {
   "cell_type": "code",
   "execution_count": null,
   "id": "satellite-montreal",
   "metadata": {},
   "outputs": [],
   "source": [
    "data['negativo'].hist()"
   ]
  },
  {
   "cell_type": "code",
   "execution_count": null,
   "id": "interesting-merchandise",
   "metadata": {},
   "outputs": [],
   "source": [
    "data['positivo'].hist()"
   ]
  },
  {
   "cell_type": "code",
   "execution_count": null,
   "id": "married-adolescent",
   "metadata": {},
   "outputs": [],
   "source": [
    "data['neutro'].hist()"
   ]
  },
  {
   "cell_type": "code",
   "execution_count": null,
   "id": "happy-breath",
   "metadata": {},
   "outputs": [],
   "source": [
    "data['composicion'].hist()"
   ]
  },
  {
   "cell_type": "code",
   "execution_count": null,
   "id": "looking-observation",
   "metadata": {},
   "outputs": [],
   "source": []
  },
  {
   "cell_type": "code",
   "execution_count": null,
   "id": "seeing-bracket",
   "metadata": {},
   "outputs": [],
   "source": []
  },
  {
   "cell_type": "markdown",
   "id": "liable-indonesian",
   "metadata": {},
   "source": [
    "### CORRELACION"
   ]
  },
  {
   "cell_type": "code",
   "execution_count": null,
   "id": "unauthorized-latter",
   "metadata": {},
   "outputs": [],
   "source": [
    "data[['open_rate', 'open_rate_later_click', 'ratio_click_campania', 'neutro', 'positivo', 'negativo', 'composicion']].corr(\n",
    "    method='spearman').style.background_gradient(cmap='coolwarm', axis=None).set_precision(3)"
   ]
  },
  {
   "cell_type": "code",
   "execution_count": null,
   "id": "chubby-pastor",
   "metadata": {},
   "outputs": [],
   "source": [
    "import matplotlib.pyplot as plt\n",
    "import matplotlib.cm as cm\n",
    "import seaborn as sns\n",
    "\n",
    "g = sns.PairGrid(data, vars=[\"negativo\",\"neutro\", \"composicion\", \"positivo\"])\n",
    "g.map_diag(sns.kdeplot)\n",
    "g.map_offdiag(sns.scatterplot, hue=data[\"open_rate\"], s=100, linewidth=0, palette='YlOrBr')\n",
    "g.axes[1, -1].legend(loc=\"center left\", bbox_to_anchor=(.7, .5))"
   ]
  },
  {
   "cell_type": "code",
   "execution_count": null,
   "id": "accompanied-announcement",
   "metadata": {},
   "outputs": [],
   "source": [
    "def graph_relation_continuos(data, col_x, col_y):\n",
    "    fig, axes = plt.subplots(nrows=1, ncols=2, figsize=(15, 5))\n",
    "\n",
    "    sns.kdeplot(\n",
    "        data=data, x=col_x, y=col_y, fill=True, ax=axes[0]\n",
    "    )\n",
    "    sns.regplot(\n",
    "        x=col_x, y=col_y, data=data, robust=True, ax=axes[1]\n",
    "    )"
   ]
  },
  {
   "cell_type": "code",
   "execution_count": null,
   "id": "south-regard",
   "metadata": {},
   "outputs": [],
   "source": [
    "graph_relation_continuos(data, \"neutro\", \"open_rate\")    ---- open rate"
   ]
  },
  {
   "cell_type": "code",
   "execution_count": null,
   "id": "historical-cleanup",
   "metadata": {},
   "outputs": [],
   "source": [
    "graph_relation_continuos(data, \"neutro\", \"ratio_click_campania\")"
   ]
  },
  {
   "cell_type": "code",
   "execution_count": null,
   "id": "precise-modem",
   "metadata": {},
   "outputs": [],
   "source": [
    "graph_relation_continuos(data, \"positivo\", \"open_rate\")"
   ]
  },
  {
   "cell_type": "code",
   "execution_count": null,
   "id": "cognitive-accountability",
   "metadata": {},
   "outputs": [],
   "source": [
    "graph_relation_continuos(data, \"positivo\", \"ratio_click_campania\")"
   ]
  },
  {
   "cell_type": "code",
   "execution_count": null,
   "id": "posted-fellowship",
   "metadata": {},
   "outputs": [],
   "source": [
    "graph_relation_continuos(data, \"negativo\", \"open_rate\")"
   ]
  },
  {
   "cell_type": "code",
   "execution_count": null,
   "id": "increased-chicago",
   "metadata": {},
   "outputs": [],
   "source": [
    "data[data['negativo'] > 0.3][['asunto', 'asunto_ingles', 'open_rate', 'neutro', 'positivo', 'negativo', 'composicion']].head(60)"
   ]
  },
  {
   "cell_type": "code",
   "execution_count": null,
   "id": "supported-import",
   "metadata": {},
   "outputs": [],
   "source": [
    "data[data['open_rate'] > 0.3][['asunto', 'asunto_ingles', 'open_rate', 'neutro', 'positivo', 'negativo', 'composicion']]"
   ]
  },
  {
   "cell_type": "code",
   "execution_count": null,
   "id": "precise-suicide",
   "metadata": {},
   "outputs": [],
   "source": [
    "graph_relation_continuos(data, \"composicion\", \"open_rate\")"
   ]
  },
  {
   "cell_type": "code",
   "execution_count": null,
   "id": "marine-emperor",
   "metadata": {},
   "outputs": [],
   "source": [
    "sns.kdeplot(\n",
    "    data=data, x='positivo', y='neutro', fill=True\n",
    ")"
   ]
  },
  {
   "cell_type": "code",
   "execution_count": null,
   "id": "attended-penguin",
   "metadata": {},
   "outputs": [],
   "source": [
    "123024 / 3"
   ]
  },
  {
   "cell_type": "code",
   "execution_count": null,
   "id": "impressed-miniature",
   "metadata": {},
   "outputs": [],
   "source": [
    "len(\"\"\"\n",
    "sambraonline.com The DNS query name does not exist: sambraonline.com.                          \n",
    "\"\"\")"
   ]
  },
  {
   "cell_type": "code",
   "execution_count": null,
   "id": "fabulous-solid",
   "metadata": {},
   "outputs": [],
   "source": [
    "len(\"\"\"\n",
    "sambraonline.com The DNS query name does not exist: sambraonline.com.                  \n",
    "\"\"\")"
   ]
  },
  {
   "cell_type": "code",
   "execution_count": null,
   "id": "forbidden-september",
   "metadata": {},
   "outputs": [],
   "source": []
  },
  {
   "cell_type": "code",
   "execution_count": null,
   "id": "da51f7e6-3b5b-4b12-9473-adfff2a33878",
   "metadata": {},
   "outputs": [],
   "source": []
  }
 ],
 "metadata": {
  "kernelspec": {
   "display_name": "Python 3",
   "language": "python",
   "name": "python3"
  },
  "language_info": {
   "codemirror_mode": {
    "name": "ipython",
    "version": 3
   },
   "file_extension": ".py",
   "mimetype": "text/x-python",
   "name": "python",
   "nbconvert_exporter": "python",
   "pygments_lexer": "ipython3",
   "version": "3.8.5"
  }
 },
 "nbformat": 4,
 "nbformat_minor": 5
}
