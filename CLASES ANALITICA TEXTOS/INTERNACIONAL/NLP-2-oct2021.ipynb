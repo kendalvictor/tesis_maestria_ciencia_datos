{
 "cells": [
  {
   "cell_type": "markdown",
   "metadata": {
    "application/vnd.databricks.v1+cell": {
     "inputWidgets": {},
     "nuid": "ab5f4dac-4f82-4ded-8d29-14125218f3fb",
     "showTitle": false,
     "title": ""
    },
    "id": "im74RVioFa0y"
   },
   "source": [
    "#Representación del lenguaje natural\n",
    "El objetivo de este notebook es mostrar mecanismos que permitan representar diferentes elementos del lenguaje natural (palabras, textos) y a partir de ellos derivar aplicaciónes de procesamiento del lenguaje natural\n",
    "## El corpus\n",
    "Una primera etapa de representación implica tener una colección de documentos sobre la cual hacer la representación. Por ello es importante distinguir y obtener la colección de documentos."
   ]
  },
  {
   "cell_type": "code",
   "execution_count": 1,
   "metadata": {
    "application/vnd.databricks.v1+cell": {
     "inputWidgets": {},
     "nuid": "fb51bcf0-1037-438b-9c17-ed41a60546c4",
     "showTitle": false,
     "title": ""
    },
    "executionInfo": {
     "elapsed": 2857,
     "status": "ok",
     "timestamp": 1634668049517,
     "user": {
      "displayName": "Jorge Andrés Alvarado",
      "photoUrl": "https://lh3.googleusercontent.com/a-/AOh14Gjswgjr-dpsb8qToq_658bd-POx30Oqup6RBBFA=s64",
      "userId": "16955788008997872737"
     },
     "user_tz": 300
    },
    "id": "hhJ3qzsXFa08"
   },
   "outputs": [],
   "source": [
    "import sklearn\n",
    "import os, re, string, collections, random\n",
    "import spacy\n",
    "import nltk\n",
    "import numpy, matplotlib\n",
    "import pandas as pd"
   ]
  },
  {
   "cell_type": "markdown",
   "metadata": {
    "application/vnd.databricks.v1+cell": {
     "inputWidgets": {},
     "nuid": "6b8bc6df-9ebc-4318-b19e-54fb802007e7",
     "showTitle": false,
     "title": ""
    },
    "id": "qzG9AtN9Fa0_"
   },
   "source": [
    "Vamos a mostrar primero la capacidad de NLTK de crear un corpus"
   ]
  },
  {
   "cell_type": "code",
   "execution_count": 2,
   "metadata": {
    "colab": {
     "base_uri": "https://localhost:8080/"
    },
    "executionInfo": {
     "elapsed": 64589,
     "status": "ok",
     "timestamp": 1634668117949,
     "user": {
      "displayName": "Jorge Andrés Alvarado",
      "photoUrl": "https://lh3.googleusercontent.com/a-/AOh14Gjswgjr-dpsb8qToq_658bd-POx30Oqup6RBBFA=s64",
      "userId": "16955788008997872737"
     },
     "user_tz": 300
    },
    "id": "bBkt3OdhG9rs",
    "outputId": "d32fde24-0f2a-473e-ad8c-38a5ef122f95"
   },
   "outputs": [
    {
     "name": "stdout",
     "output_type": "stream",
     "text": [
      "Mounted at /content/drive/\n"
     ]
    }
   ],
   "source": [
    "from google.colab import drive\n",
    "drive.mount(\"/content/drive/\")"
   ]
  },
  {
   "cell_type": "code",
   "execution_count": 10,
   "metadata": {
    "application/vnd.databricks.v1+cell": {
     "inputWidgets": {},
     "nuid": "df3ede2a-3ef2-4c0f-937b-bf709e199015",
     "showTitle": false,
     "title": ""
    },
    "colab": {
     "base_uri": "https://localhost:8080/"
    },
    "executionInfo": {
     "elapsed": 240,
     "status": "ok",
     "timestamp": 1634668186084,
     "user": {
      "displayName": "Jorge Andrés Alvarado",
      "photoUrl": "https://lh3.googleusercontent.com/a-/AOh14Gjswgjr-dpsb8qToq_658bd-POx30Oqup6RBBFA=s64",
      "userId": "16955788008997872737"
     },
     "user_tz": 300
    },
    "id": "XtUjFvAPFa1A",
    "outputId": "d1bc0d42-b1fa-4380-955c-b364f09eab99"
   },
   "outputs": [
    {
     "data": {
      "text/plain": [
       "['13_CLS_Final.txt',\n",
       " 'canales.csv',\n",
       " 'candido-de-voltaire.txt',\n",
       " 'cuentos_allan_poe.txt',\n",
       " 'el-buscon.txt',\n",
       " 'elquijote.txt',\n",
       " 'fabulas_samaniego.txt',\n",
       " 'juan_tenorio.txt',\n",
       " 'libro_cocina.txt',\n",
       " 'milyuna_t1.txt',\n",
       " 'nuevo_testamento_valera.txt',\n",
       " 'obras-escogidas_becquer.txt',\n",
       " 'odisea.txt',\n",
       " 'relacionhistoricasucesosdetupacamaru.txt',\n",
       " 'sentiment/13_CLS_Final.txt',\n",
       " 'sentiment/13_CLS_Final2.txt',\n",
       " 'sentiment/13_CLS_Final3.txt',\n",
       " 'sentiment/tass14.txt',\n",
       " 'sentiment/tass14neg.txt',\n",
       " 'sentiment/tass14pos.txt',\n",
       " 'tass14neg.txt',\n",
       " 'tass14pos.txt',\n",
       " 'tass14tot.xlsx',\n",
       " 'tradiciones_peruanas_ricardo_palma.txt']"
      ]
     },
     "execution_count": 10,
     "metadata": {},
     "output_type": "execute_result"
    }
   ],
   "source": [
    "from nltk.corpus import PlaintextCorpusReader\n",
    "corpus_root=\"/content/drive/My Drive/corpus\"\n",
    "corpusesp=PlaintextCorpusReader(corpus_root,\".*\")\n",
    "\"\"\"para ver que archivos quedaron\"\"\"\n",
    "corpusesp.fileids()\n"
   ]
  },
  {
   "cell_type": "markdown",
   "metadata": {
    "application/vnd.databricks.v1+cell": {
     "inputWidgets": {},
     "nuid": "8334dc20-9a85-469a-a027-543c1ccc5178",
     "showTitle": false,
     "title": ""
    },
    "id": "yv2ulJ6yFa1B"
   },
   "source": [
    "Ahora veamos una de sus capacidades: ver las frecuencias en diferentes documentos y compararlas. Resulta evidente que podemos entender características de un documento a partir de su comparación con otros documentos"
   ]
  },
  {
   "cell_type": "code",
   "execution_count": null,
   "metadata": {
    "application/vnd.databricks.v1+cell": {
     "inputWidgets": {},
     "nuid": "c3c3b92b-1333-493d-92d1-4268bca5eef7",
     "showTitle": false,
     "title": ""
    },
    "colab": {
     "base_uri": "https://localhost:8080/"
    },
    "executionInfo": {
     "elapsed": 5663,
     "status": "ok",
     "timestamp": 1620244879221,
     "user": {
      "displayName": "Jorge Andrés Alvarado",
      "photoUrl": "https://lh3.googleusercontent.com/a-/AOh14Gjswgjr-dpsb8qToq_658bd-POx30Oqup6RBBFA=s64",
      "userId": "16955788008997872737"
     },
     "user_tz": 300
    },
    "id": "fXobQvppFa1B",
    "outputId": "4d72b11e-a548-4068-8ea4-e70b3130415a"
   },
   "outputs": [
    {
     "name": "stdout",
     "output_type": "stream",
     "text": [
      "                                         hombre  mujer \n",
      "                 candido-de-voltaire.txt     47      0 \n",
      "                   cuentos_allan_poe.txt     36     26 \n",
      "                           el-buscon.txt     57     22 \n",
      "                           elquijote.txt    258    222 \n",
      "                   fabulas_samaniego.txt     53      9 \n",
      "                        juan_tenorio.txt     46      8 \n",
      "                        libro_cocina.txt     11      1 \n",
      "                          milyuna_t1.txt     46     51 \n",
      "             nuevo_testamento_valera.txt     65     20 \n",
      "             obras-escogidas_becquer.txt     42     72 \n",
      "                              odisea.txt    118     97 \n",
      "relacionhistoricasucesosdetupacamaru.txt      5      0 \n",
      "  tradiciones_peruanas_ricardo_palma.txt     37     33 \n"
     ]
    }
   ],
   "source": [
    "condf=nltk.ConditionalFreqDist(\n",
    "        (libro,palabra)\n",
    "        for libro in corpusesp.fileids()\n",
    "        for palabra in corpusesp.words(libro))\n",
    "\n",
    "condf.tabulate(samples=[\"hombre\",\"mujer\"])\n"
   ]
  },
  {
   "cell_type": "markdown",
   "metadata": {
    "application/vnd.databricks.v1+cell": {
     "inputWidgets": {},
     "nuid": "28f87a84-f695-4a18-8614-97f23e5e19ee",
     "showTitle": false,
     "title": ""
    },
    "id": "t_drz8WoFa1C"
   },
   "source": [
    "Ello lleva a pensar que comparando los documentos podemos obtener un resumen (Wordcloud) del documento que, en el fondo, es la representación del documento.\n",
    "Para ello vamos a crear nuestro propio corpus de manera iterativa con archivos de texto"
   ]
  },
  {
   "cell_type": "code",
   "execution_count": 27,
   "metadata": {
    "application/vnd.databricks.v1+cell": {
     "inputWidgets": {},
     "nuid": "d1105373-a415-4287-a1a1-04371fed9e8c",
     "showTitle": false,
     "title": ""
    },
    "executionInfo": {
     "elapsed": 262,
     "status": "ok",
     "timestamp": 1634668551051,
     "user": {
      "displayName": "Jorge Andrés Alvarado",
      "photoUrl": "https://lh3.googleusercontent.com/a-/AOh14Gjswgjr-dpsb8qToq_658bd-POx30Oqup6RBBFA=s64",
      "userId": "16955788008997872737"
     },
     "user_tz": 300
    },
    "id": "_LLZ1JaxFa1D"
   },
   "outputs": [],
   "source": [
    "os.chdir(\"/content/drive/My Drive/corpus\")\n",
    "documents = []\n",
    "for f in os.listdir():\n",
    "    if f[-4:] == '.txt':\n",
    "        documents.append(f[:-4])\n",
    "\n"
   ]
  },
  {
   "cell_type": "code",
   "execution_count": 28,
   "metadata": {
    "application/vnd.databricks.v1+cell": {
     "inputWidgets": {},
     "nuid": "9c046034-0da4-4b4d-99c4-851b1012a22a",
     "showTitle": false,
     "title": ""
    },
    "colab": {
     "base_uri": "https://localhost:8080/"
    },
    "executionInfo": {
     "elapsed": 60,
     "status": "ok",
     "timestamp": 1634668553116,
     "user": {
      "displayName": "Jorge Andrés Alvarado",
      "photoUrl": "https://lh3.googleusercontent.com/a-/AOh14Gjswgjr-dpsb8qToq_658bd-POx30Oqup6RBBFA=s64",
      "userId": "16955788008997872737"
     },
     "user_tz": 300
    },
    "id": "eXMQjFx1Fa1E",
    "outputId": "113cfc36-6fbc-49e2-edc0-73015a92f69f"
   },
   "outputs": [
    {
     "data": {
      "text/plain": [
       "['milyuna_t1',\n",
       " 'relacionhistoricasucesosdetupacamaru',\n",
       " 'tradiciones_peruanas_ricardo_palma',\n",
       " 'elquijote',\n",
       " 'cuentos_allan_poe',\n",
       " 'juan_tenorio',\n",
       " 'libro_cocina',\n",
       " 'obras-escogidas_becquer',\n",
       " 'candido-de-voltaire',\n",
       " 'el-buscon',\n",
       " 'nuevo_testamento_valera',\n",
       " 'fabulas_samaniego',\n",
       " 'odisea']"
      ]
     },
     "execution_count": 28,
     "metadata": {},
     "output_type": "execute_result"
    }
   ],
   "source": [
    "documents"
   ]
  },
  {
   "cell_type": "code",
   "execution_count": null,
   "metadata": {
    "application/vnd.databricks.v1+cell": {
     "inputWidgets": {},
     "nuid": "794e764d-6c62-4434-ad5e-827cd8cbfc00",
     "showTitle": false,
     "title": ""
    },
    "colab": {
     "base_uri": "https://localhost:8080/"
    },
    "executionInfo": {
     "elapsed": 451,
     "status": "ok",
     "timestamp": 1620244928949,
     "user": {
      "displayName": "Jorge Andrés Alvarado",
      "photoUrl": "https://lh3.googleusercontent.com/a-/AOh14Gjswgjr-dpsb8qToq_658bd-POx30Oqup6RBBFA=s64",
      "userId": "16955788008997872737"
     },
     "user_tz": 300
    },
    "id": "mo-iGP7OFa1F",
    "outputId": "952fa5ee-d629-4863-ba03-85afbea28d00"
   },
   "outputs": [
    {
     "data": {
      "text/plain": [
       "13"
      ]
     },
     "execution_count": 8,
     "metadata": {
      "tags": []
     },
     "output_type": "execute_result"
    }
   ],
   "source": [
    "len(documents)"
   ]
  },
  {
   "cell_type": "code",
   "execution_count": 29,
   "metadata": {
    "application/vnd.databricks.v1+cell": {
     "inputWidgets": {},
     "nuid": "6f0f3381-a4da-41c3-93ef-835b4b5220e6",
     "showTitle": false,
     "title": ""
    },
    "colab": {
     "base_uri": "https://localhost:8080/"
    },
    "executionInfo": {
     "elapsed": 264,
     "status": "ok",
     "timestamp": 1634668569223,
     "user": {
      "displayName": "Jorge Andrés Alvarado",
      "photoUrl": "https://lh3.googleusercontent.com/a-/AOh14Gjswgjr-dpsb8qToq_658bd-POx30Oqup6RBBFA=s64",
      "userId": "16955788008997872737"
     },
     "user_tz": 300
    },
    "id": "SkxUNHHtFa1H",
    "outputId": "5270f494-c88d-4107-8b2b-f15fede0f077"
   },
   "outputs": [
    {
     "data": {
      "text/plain": [
       "13"
      ]
     },
     "execution_count": 29,
     "metadata": {},
     "output_type": "execute_result"
    }
   ],
   "source": [
    "contents = []\n",
    "for document in documents:\n",
    "    with open(document+'.txt', 'r', encoding=\"UTF-8\") as f:\n",
    "        contents.append(f.read())\n",
    "len(contents)\n"
   ]
  },
  {
   "cell_type": "code",
   "execution_count": 30,
   "metadata": {
    "application/vnd.databricks.v1+cell": {
     "inputWidgets": {},
     "nuid": "43c2396c-55a5-4389-8f35-78510ef7e9f8",
     "showTitle": false,
     "title": ""
    },
    "executionInfo": {
     "elapsed": 270,
     "status": "ok",
     "timestamp": 1634668573299,
     "user": {
      "displayName": "Jorge Andrés Alvarado",
      "photoUrl": "https://lh3.googleusercontent.com/a-/AOh14Gjswgjr-dpsb8qToq_658bd-POx30Oqup6RBBFA=s64",
      "userId": "16955788008997872737"
     },
     "user_tz": 300
    },
    "id": "uEUVEmD8Fa1J"
   },
   "outputs": [],
   "source": [
    "for i in range(0,len(contents)):\n",
    "    inicio=contents[i].find(\"EBOOK\")\n",
    "    final=contents[i].find(\"END OF\")\n",
    "    contents[i]=contents[i][inicio:final]"
   ]
  },
  {
   "cell_type": "code",
   "execution_count": 31,
   "metadata": {
    "application/vnd.databricks.v1+cell": {
     "inputWidgets": {},
     "nuid": "70088e1f-d150-445d-849e-1f8896b6853a",
     "showTitle": false,
     "title": ""
    },
    "executionInfo": {
     "elapsed": 335,
     "status": "ok",
     "timestamp": 1634668576769,
     "user": {
      "displayName": "Jorge Andrés Alvarado",
      "photoUrl": "https://lh3.googleusercontent.com/a-/AOh14Gjswgjr-dpsb8qToq_658bd-POx30Oqup6RBBFA=s64",
      "userId": "16955788008997872737"
     },
     "user_tz": 300
    },
    "id": "OP7dxcLjFa1K"
   },
   "outputs": [],
   "source": [
    "for i in range(len(contents)):\n",
    "    contents[i] = re.sub(\"\\\"\",\" \",contents[i])\n",
    "    contents[i] = re.sub (\"\\n|\\t\",\" \",contents[i])\n",
    "    contents[i]=contents[i].lower()\n"
   ]
  },
  {
   "cell_type": "markdown",
   "metadata": {
    "application/vnd.databricks.v1+cell": {
     "inputWidgets": {},
     "nuid": "231c4c14-67e8-44d7-a4aa-b9e2d4937dda",
     "showTitle": false,
     "title": ""
    },
    "id": "lCXTMQo5Fa1K"
   },
   "source": [
    "## TF-IDF: Representación de textos y palabras\n",
    "Vamos a utilizar una técnica denominada TF-IDF para encontrar las palabras más relevantes de un texto a partir de su comparación con otros textos. En particular TF-IDF relaciona la frecuencia de los términos en el texto (documento) y la frecuencia de los mismos términos en la colección de documentos. A mayor frecuencia del término/palabra (TF=Term frequency), mayor importancia; a mayor porcentaje de documentos con el término/palabra, **menor** importancia (por eso se llama IDF: Inverse Document Frequency)\n",
    "Inicialmente cargamos las librerías necesarias para hacerlo de forma automática"
   ]
  },
  {
   "cell_type": "code",
   "execution_count": null,
   "metadata": {
    "application/vnd.databricks.v1+cell": {
     "inputWidgets": {},
     "nuid": "e2c2c62c-d077-46de-a955-313368c25f30",
     "showTitle": false,
     "title": ""
    },
    "id": "c_4Q014JFa1L"
   },
   "outputs": [],
   "source": [
    "from sklearn.feature_extraction.text import TfidfVectorizer, CountVectorizer"
   ]
  },
  {
   "cell_type": "markdown",
   "metadata": {
    "application/vnd.databricks.v1+cell": {
     "inputWidgets": {},
     "nuid": "1740bbc3-2c08-49ca-9dc9-001526e8d853",
     "showTitle": false,
     "title": ""
    },
    "id": "4VlmVHqTFa1M"
   },
   "source": [
    "Después de usar Scikitlearn para calcular TF-IDF, son necesarios varios arreglos de conversión de la matriz resultante. El más relevante en la teoría es la conversión a matrices densas para ahorrar espacio y recursos. Así mismo es necesario definir una frecuencia máxima de documentos (max_df) para evitar stopwords, una frecuencia mínima de documentos (min_df) para usar palabras compartidas, y un número máximo de palabras (max_features) puesto que la dimensionalidad del lenguaje (número de palabras) es alta y costosa computacionalmente."
   ]
  },
  {
   "cell_type": "code",
   "execution_count": null,
   "metadata": {
    "application/vnd.databricks.v1+cell": {
     "inputWidgets": {},
     "nuid": "74f65983-016c-4458-ab77-547f031dbe14",
     "showTitle": false,
     "title": ""
    },
    "colab": {
     "base_uri": "https://localhost:8080/",
     "height": 363
    },
    "executionInfo": {
     "elapsed": 1697,
     "status": "ok",
     "timestamp": 1620245146875,
     "user": {
      "displayName": "Jorge Andrés Alvarado",
      "photoUrl": "https://lh3.googleusercontent.com/a-/AOh14Gjswgjr-dpsb8qToq_658bd-POx30Oqup6RBBFA=s64",
      "userId": "16955788008997872737"
     },
     "user_tz": 300
    },
    "id": "L48rRDOiFa1M",
    "outputId": "839adc71-70c9-48d0-952e-e953d834acd7"
   },
   "outputs": [
    {
     "data": {
      "text/html": [
       "<div>\n",
       "<style scoped>\n",
       "    .dataframe tbody tr th:only-of-type {\n",
       "        vertical-align: middle;\n",
       "    }\n",
       "\n",
       "    .dataframe tbody tr th {\n",
       "        vertical-align: top;\n",
       "    }\n",
       "\n",
       "    .dataframe thead th {\n",
       "        text-align: right;\n",
       "    }\n",
       "</style>\n",
       "<table border=\"1\" class=\"dataframe\">\n",
       "  <thead>\n",
       "    <tr style=\"text-align: right;\">\n",
       "      <th></th>\n",
       "      <th>0</th>\n",
       "      <th>1</th>\n",
       "      <th>2</th>\n",
       "      <th>3</th>\n",
       "      <th>4</th>\n",
       "      <th>5</th>\n",
       "      <th>6</th>\n",
       "      <th>7</th>\n",
       "      <th>8</th>\n",
       "      <th>9</th>\n",
       "      <th>10</th>\n",
       "      <th>11</th>\n",
       "      <th>12</th>\n",
       "    </tr>\n",
       "  </thead>\n",
       "  <tbody>\n",
       "    <tr>\n",
       "      <th>10</th>\n",
       "      <td>0.003577</td>\n",
       "      <td>0.017969</td>\n",
       "      <td>0.012628</td>\n",
       "      <td>0.000143</td>\n",
       "      <td>0.002403</td>\n",
       "      <td>0.0</td>\n",
       "      <td>0.009528</td>\n",
       "      <td>0.000000</td>\n",
       "      <td>0.0</td>\n",
       "      <td>0.0</td>\n",
       "      <td>0.073500</td>\n",
       "      <td>0.013002</td>\n",
       "      <td>0.004377</td>\n",
       "    </tr>\n",
       "    <tr>\n",
       "      <th>11</th>\n",
       "      <td>0.003859</td>\n",
       "      <td>0.011077</td>\n",
       "      <td>0.004541</td>\n",
       "      <td>0.000000</td>\n",
       "      <td>0.002593</td>\n",
       "      <td>0.0</td>\n",
       "      <td>0.004233</td>\n",
       "      <td>0.000000</td>\n",
       "      <td>0.0</td>\n",
       "      <td>0.0</td>\n",
       "      <td>0.077312</td>\n",
       "      <td>0.018703</td>\n",
       "      <td>0.003333</td>\n",
       "    </tr>\n",
       "    <tr>\n",
       "      <th>12</th>\n",
       "      <td>0.005145</td>\n",
       "      <td>0.006923</td>\n",
       "      <td>0.002271</td>\n",
       "      <td>0.000000</td>\n",
       "      <td>0.002593</td>\n",
       "      <td>0.0</td>\n",
       "      <td>0.006046</td>\n",
       "      <td>0.000000</td>\n",
       "      <td>0.0</td>\n",
       "      <td>0.0</td>\n",
       "      <td>0.077312</td>\n",
       "      <td>0.009351</td>\n",
       "      <td>0.002222</td>\n",
       "    </tr>\n",
       "    <tr>\n",
       "      <th>14</th>\n",
       "      <td>0.004174</td>\n",
       "      <td>0.005991</td>\n",
       "      <td>0.004912</td>\n",
       "      <td>0.000000</td>\n",
       "      <td>0.000000</td>\n",
       "      <td>0.0</td>\n",
       "      <td>0.004578</td>\n",
       "      <td>0.000000</td>\n",
       "      <td>0.0</td>\n",
       "      <td>0.0</td>\n",
       "      <td>0.083628</td>\n",
       "      <td>0.007586</td>\n",
       "      <td>0.007210</td>\n",
       "    </tr>\n",
       "    <tr>\n",
       "      <th>15</th>\n",
       "      <td>0.003859</td>\n",
       "      <td>0.004154</td>\n",
       "      <td>0.002271</td>\n",
       "      <td>0.000000</td>\n",
       "      <td>0.000000</td>\n",
       "      <td>0.0</td>\n",
       "      <td>0.009674</td>\n",
       "      <td>0.003693</td>\n",
       "      <td>0.0</td>\n",
       "      <td>0.0</td>\n",
       "      <td>0.075330</td>\n",
       "      <td>0.011689</td>\n",
       "      <td>0.004722</td>\n",
       "    </tr>\n",
       "    <tr>\n",
       "      <th>16</th>\n",
       "      <td>0.003577</td>\n",
       "      <td>0.006417</td>\n",
       "      <td>0.002105</td>\n",
       "      <td>0.000143</td>\n",
       "      <td>0.002403</td>\n",
       "      <td>0.0</td>\n",
       "      <td>0.003363</td>\n",
       "      <td>0.000000</td>\n",
       "      <td>0.0</td>\n",
       "      <td>0.0</td>\n",
       "      <td>0.069825</td>\n",
       "      <td>0.006501</td>\n",
       "      <td>0.002575</td>\n",
       "    </tr>\n",
       "    <tr>\n",
       "      <th>18</th>\n",
       "      <td>0.006431</td>\n",
       "      <td>0.011077</td>\n",
       "      <td>0.006812</td>\n",
       "      <td>0.000000</td>\n",
       "      <td>0.007778</td>\n",
       "      <td>0.0</td>\n",
       "      <td>0.001814</td>\n",
       "      <td>0.000000</td>\n",
       "      <td>0.0</td>\n",
       "      <td>0.0</td>\n",
       "      <td>0.075330</td>\n",
       "      <td>0.007013</td>\n",
       "      <td>0.004166</td>\n",
       "    </tr>\n",
       "    <tr>\n",
       "      <th>20</th>\n",
       "      <td>0.005565</td>\n",
       "      <td>0.019471</td>\n",
       "      <td>0.004912</td>\n",
       "      <td>0.000000</td>\n",
       "      <td>0.000000</td>\n",
       "      <td>0.0</td>\n",
       "      <td>0.009811</td>\n",
       "      <td>0.000000</td>\n",
       "      <td>0.0</td>\n",
       "      <td>0.0</td>\n",
       "      <td>0.079339</td>\n",
       "      <td>0.020230</td>\n",
       "      <td>0.004206</td>\n",
       "    </tr>\n",
       "    <tr>\n",
       "      <th>25</th>\n",
       "      <td>0.005145</td>\n",
       "      <td>0.018000</td>\n",
       "      <td>0.004541</td>\n",
       "      <td>0.000000</td>\n",
       "      <td>0.000000</td>\n",
       "      <td>0.0</td>\n",
       "      <td>0.005442</td>\n",
       "      <td>0.001847</td>\n",
       "      <td>0.0</td>\n",
       "      <td>0.0</td>\n",
       "      <td>0.061453</td>\n",
       "      <td>0.004676</td>\n",
       "      <td>0.003333</td>\n",
       "    </tr>\n",
       "    <tr>\n",
       "      <th>30</th>\n",
       "      <td>0.003021</td>\n",
       "      <td>0.013008</td>\n",
       "      <td>0.000000</td>\n",
       "      <td>0.000000</td>\n",
       "      <td>0.000000</td>\n",
       "      <td>0.0</td>\n",
       "      <td>0.019171</td>\n",
       "      <td>0.000000</td>\n",
       "      <td>0.0</td>\n",
       "      <td>0.0</td>\n",
       "      <td>0.053541</td>\n",
       "      <td>0.010981</td>\n",
       "      <td>0.003914</td>\n",
       "    </tr>\n",
       "  </tbody>\n",
       "</table>\n",
       "</div>"
      ],
      "text/plain": [
       "          0         1         2         3   ...   9         10        11        12\n",
       "10  0.003577  0.017969  0.012628  0.000143  ...  0.0  0.073500  0.013002  0.004377\n",
       "11  0.003859  0.011077  0.004541  0.000000  ...  0.0  0.077312  0.018703  0.003333\n",
       "12  0.005145  0.006923  0.002271  0.000000  ...  0.0  0.077312  0.009351  0.002222\n",
       "14  0.004174  0.005991  0.004912  0.000000  ...  0.0  0.083628  0.007586  0.007210\n",
       "15  0.003859  0.004154  0.002271  0.000000  ...  0.0  0.075330  0.011689  0.004722\n",
       "16  0.003577  0.006417  0.002105  0.000143  ...  0.0  0.069825  0.006501  0.002575\n",
       "18  0.006431  0.011077  0.006812  0.000000  ...  0.0  0.075330  0.007013  0.004166\n",
       "20  0.005565  0.019471  0.004912  0.000000  ...  0.0  0.079339  0.020230  0.004206\n",
       "25  0.005145  0.018000  0.004541  0.000000  ...  0.0  0.061453  0.004676  0.003333\n",
       "30  0.003021  0.013008  0.000000  0.000000  ...  0.0  0.053541  0.010981  0.003914\n",
       "\n",
       "[10 rows x 13 columns]"
      ]
     },
     "execution_count": 20,
     "metadata": {
      "tags": []
     },
     "output_type": "execute_result"
    }
   ],
   "source": [
    "##calcular TF-IDF\n",
    "vectores=TfidfVectorizer(max_df=0.9,min_df=2,max_features=1000)\n",
    "tfs=vectores.fit_transform(contents)\n",
    "##guardar los nombres\n",
    "nombres=vectores.get_feature_names()\n",
    "#convertir la matriz a densa, luego lista, luego dataframe y trasponerla\n",
    "matriz=tfs.todense()\n",
    "matlist=matriz.tolist()\n",
    "finalm=pd.DataFrame(matlist,columns=nombres)\n",
    "final2=finalm.transpose()\n",
    "final2.head(10)\n"
   ]
  },
  {
   "cell_type": "markdown",
   "metadata": {
    "application/vnd.databricks.v1+cell": {
     "inputWidgets": {},
     "nuid": "0eb96264-5bb5-4540-8c66-b1a1940fb791",
     "showTitle": false,
     "title": ""
    },
    "id": "sqm8jGTrFa1N"
   },
   "source": [
    "Obtenemos una matriz de términos vs documentos, en donde podríamos definir numéricamente un término como su vector de TF-IDF en los documentos, y definir numéricamente un documento como su vector de términos en términos de TF-IDF. Usaremos esa potente idea de construir vectores numéricos (de términos o de documentos) más adelante como un elemento central a la hora de realizar aplicaciones de lenguaje natural."
   ]
  },
  {
   "cell_type": "code",
   "execution_count": null,
   "metadata": {
    "application/vnd.databricks.v1+cell": {
     "inputWidgets": {},
     "nuid": "d48a84c0-9771-4501-ae99-5ccf4b896838",
     "showTitle": false,
     "title": ""
    },
    "colab": {
     "base_uri": "https://localhost:8080/"
    },
    "executionInfo": {
     "elapsed": 449,
     "status": "ok",
     "timestamp": 1620244958717,
     "user": {
      "displayName": "Jorge Andrés Alvarado",
      "photoUrl": "https://lh3.googleusercontent.com/a-/AOh14Gjswgjr-dpsb8qToq_658bd-POx30Oqup6RBBFA=s64",
      "userId": "16955788008997872737"
     },
     "user_tz": 300
    },
    "id": "qBTCIkXHFa1O",
    "outputId": "12c51365-8b2b-4d6e-89a0-1f4a8939b6fc"
   },
   "outputs": [
    {
     "data": {
      "text/plain": [
       "(1000, 13)"
      ]
     },
     "execution_count": 14,
     "metadata": {
      "tags": []
     },
     "output_type": "execute_result"
    }
   ],
   "source": [
    "final2.shape"
   ]
  },
  {
   "cell_type": "markdown",
   "metadata": {
    "application/vnd.databricks.v1+cell": {
     "inputWidgets": {},
     "nuid": "7b565300-af39-400a-a5a3-0ecc4daae745",
     "showTitle": false,
     "title": ""
    },
    "id": "k13mCz6cFa1O"
   },
   "source": [
    "Vamos a ordenar cada documento según sus palabras más *importantes* o *diferenciales* , las que tienen mayor TF-IDF"
   ]
  },
  {
   "cell_type": "code",
   "execution_count": null,
   "metadata": {
    "application/vnd.databricks.v1+cell": {
     "inputWidgets": {},
     "nuid": "1a4b3e61-6c2f-4a3b-a3bb-19f4e84f40b3",
     "showTitle": false,
     "title": ""
    },
    "colab": {
     "base_uri": "https://localhost:8080/",
     "height": 363
    },
    "executionInfo": {
     "elapsed": 477,
     "status": "ok",
     "timestamp": 1620245153138,
     "user": {
      "displayName": "Jorge Andrés Alvarado",
      "photoUrl": "https://lh3.googleusercontent.com/a-/AOh14Gjswgjr-dpsb8qToq_658bd-POx30Oqup6RBBFA=s64",
      "userId": "16955788008997872737"
     },
     "user_tz": 300
    },
    "id": "ikZjYo4CFa1P",
    "outputId": "9eb5e51a-3fa5-4f90-c54d-368da2ae54e0"
   },
   "outputs": [
    {
     "data": {
      "text/html": [
       "<div>\n",
       "<style scoped>\n",
       "    .dataframe tbody tr th:only-of-type {\n",
       "        vertical-align: middle;\n",
       "    }\n",
       "\n",
       "    .dataframe tbody tr th {\n",
       "        vertical-align: top;\n",
       "    }\n",
       "\n",
       "    .dataframe thead th {\n",
       "        text-align: right;\n",
       "    }\n",
       "</style>\n",
       "<table border=\"1\" class=\"dataframe\">\n",
       "  <thead>\n",
       "    <tr style=\"text-align: right;\">\n",
       "      <th></th>\n",
       "      <th>7</th>\n",
       "      <th>palabra</th>\n",
       "    </tr>\n",
       "  </thead>\n",
       "  <tbody>\n",
       "    <tr>\n",
       "      <th>jesús</th>\n",
       "      <td>0.007098</td>\n",
       "      <td>jesús</td>\n",
       "    </tr>\n",
       "    <tr>\n",
       "      <th>vosotros</th>\n",
       "      <td>0.023963</td>\n",
       "      <td>vosotros</td>\n",
       "    </tr>\n",
       "    <tr>\n",
       "      <th>mí</th>\n",
       "      <td>0.067996</td>\n",
       "      <td>mí</td>\n",
       "    </tr>\n",
       "    <tr>\n",
       "      <th>discípulos</th>\n",
       "      <td>0.000000</td>\n",
       "      <td>discípulos</td>\n",
       "    </tr>\n",
       "    <tr>\n",
       "      <th>judíos</th>\n",
       "      <td>0.011830</td>\n",
       "      <td>judíos</td>\n",
       "    </tr>\n",
       "    <tr>\n",
       "      <th>ley</th>\n",
       "      <td>0.000000</td>\n",
       "      <td>ley</td>\n",
       "    </tr>\n",
       "    <tr>\n",
       "      <th>había</th>\n",
       "      <td>0.323718</td>\n",
       "      <td>había</td>\n",
       "    </tr>\n",
       "    <tr>\n",
       "      <th>dijo</th>\n",
       "      <td>0.078343</td>\n",
       "      <td>dijo</td>\n",
       "    </tr>\n",
       "    <tr>\n",
       "      <th>tú</th>\n",
       "      <td>0.112862</td>\n",
       "      <td>tú</td>\n",
       "    </tr>\n",
       "    <tr>\n",
       "      <th>cristo</th>\n",
       "      <td>0.000000</td>\n",
       "      <td>cristo</td>\n",
       "    </tr>\n",
       "  </tbody>\n",
       "</table>\n",
       "</div>"
      ],
      "text/plain": [
       "                   7     palabra\n",
       "jesús       0.007098       jesús\n",
       "vosotros    0.023963    vosotros\n",
       "mí          0.067996          mí\n",
       "discípulos  0.000000  discípulos\n",
       "judíos      0.011830      judíos\n",
       "ley         0.000000         ley\n",
       "había       0.323718       había\n",
       "dijo        0.078343        dijo\n",
       "tú          0.112862          tú\n",
       "cristo      0.000000      cristo"
      ]
     },
     "execution_count": 21,
     "metadata": {
      "tags": []
     },
     "output_type": "execute_result"
    }
   ],
   "source": [
    "poetfidf=final2.sort_values([4], ascending=False)\n",
    "quijotfidf=final2.sort_values([3], ascending=False)\n",
    "cocinatfidf=final2.sort_values([6], ascending=False)\n",
    "bibliatfidf=final2.sort_values([10], ascending=False)\n",
    "bibliatfidf[\"palabra\"]=bibliatfidf.index\n",
    "bibliafinal=bibliatfidf[[7,\"palabra\"]]\n",
    "bibliafinal.head(10)"
   ]
  },
  {
   "cell_type": "code",
   "execution_count": null,
   "metadata": {
    "application/vnd.databricks.v1+cell": {
     "inputWidgets": {},
     "nuid": "1f5b9cd8-8e63-4163-9991-3049a79d13bf",
     "showTitle": false,
     "title": ""
    },
    "colab": {
     "base_uri": "https://localhost:8080/",
     "height": 363
    },
    "executionInfo": {
     "elapsed": 440,
     "status": "ok",
     "timestamp": 1620245203916,
     "user": {
      "displayName": "Jorge Andrés Alvarado",
      "photoUrl": "https://lh3.googleusercontent.com/a-/AOh14Gjswgjr-dpsb8qToq_658bd-POx30Oqup6RBBFA=s64",
      "userId": "16955788008997872737"
     },
     "user_tz": 300
    },
    "id": "9dAhNRrVFa1P",
    "outputId": "1a8087ad-68c3-4187-dc46-b2520db1f468"
   },
   "outputs": [
    {
     "data": {
      "text/html": [
       "<div>\n",
       "<style scoped>\n",
       "    .dataframe tbody tr th:only-of-type {\n",
       "        vertical-align: middle;\n",
       "    }\n",
       "\n",
       "    .dataframe tbody tr th {\n",
       "        vertical-align: top;\n",
       "    }\n",
       "\n",
       "    .dataframe thead th {\n",
       "        text-align: right;\n",
       "    }\n",
       "</style>\n",
       "<table border=\"1\" class=\"dataframe\">\n",
       "  <thead>\n",
       "    <tr style=\"text-align: right;\">\n",
       "      <th></th>\n",
       "      <th>6</th>\n",
       "      <th>palabra</th>\n",
       "    </tr>\n",
       "  </thead>\n",
       "  <tbody>\n",
       "    <tr>\n",
       "      <th>salsa</th>\n",
       "      <td>0.383554</td>\n",
       "      <td>salsa</td>\n",
       "    </tr>\n",
       "    <tr>\n",
       "      <th>manteca</th>\n",
       "      <td>0.359180</td>\n",
       "      <td>manteca</td>\n",
       "    </tr>\n",
       "    <tr>\n",
       "      <th>caldo</th>\n",
       "      <td>0.288138</td>\n",
       "      <td>caldo</td>\n",
       "    </tr>\n",
       "    <tr>\n",
       "      <th>despues</th>\n",
       "      <td>0.268299</td>\n",
       "      <td>despues</td>\n",
       "    </tr>\n",
       "    <tr>\n",
       "      <th>pimienta</th>\n",
       "      <td>0.237574</td>\n",
       "      <td>pimienta</td>\n",
       "    </tr>\n",
       "    <tr>\n",
       "      <th>sal</th>\n",
       "      <td>0.236441</td>\n",
       "      <td>sal</td>\n",
       "    </tr>\n",
       "    <tr>\n",
       "      <th>cacerola</th>\n",
       "      <td>0.178980</td>\n",
       "      <td>cacerola</td>\n",
       "    </tr>\n",
       "    <tr>\n",
       "      <th>cocer</th>\n",
       "      <td>0.164065</td>\n",
       "      <td>cocer</td>\n",
       "    </tr>\n",
       "    <tr>\n",
       "      <th>sopa</th>\n",
       "      <td>0.127670</td>\n",
       "      <td>sopa</td>\n",
       "    </tr>\n",
       "    <tr>\n",
       "      <th>cocido</th>\n",
       "      <td>0.121712</td>\n",
       "      <td>cocido</td>\n",
       "    </tr>\n",
       "  </tbody>\n",
       "</table>\n",
       "</div>"
      ],
      "text/plain": [
       "                 6   palabra\n",
       "salsa     0.383554     salsa\n",
       "manteca   0.359180   manteca\n",
       "caldo     0.288138     caldo\n",
       "despues   0.268299   despues\n",
       "pimienta  0.237574  pimienta\n",
       "sal       0.236441       sal\n",
       "cacerola  0.178980  cacerola\n",
       "cocer     0.164065     cocer\n",
       "sopa      0.127670      sopa\n",
       "cocido    0.121712    cocido"
      ]
     },
     "execution_count": 23,
     "metadata": {
      "tags": []
     },
     "output_type": "execute_result"
    }
   ],
   "source": [
    "cocinatfidf[\"palabra\"]=cocinatfidf.index\n",
    "cocinafinal=cocinatfidf[[6,\"palabra\"]]\n",
    "cocinafinal.head(10)\n"
   ]
  },
  {
   "cell_type": "markdown",
   "metadata": {
    "application/vnd.databricks.v1+cell": {
     "inputWidgets": {},
     "nuid": "36fa9826-b693-4987-a80f-3872762ccf40",
     "showTitle": false,
     "title": ""
    },
    "id": "GxIhTgjaFa1P"
   },
   "source": [
    "Eso nos permite generar un wordlcoud más limpio de lo que diferencia a un documento"
   ]
  },
  {
   "cell_type": "code",
   "execution_count": null,
   "metadata": {
    "application/vnd.databricks.v1+cell": {
     "inputWidgets": {},
     "nuid": "b3de739f-3258-47b8-878f-f0b2e302a1d0",
     "showTitle": false,
     "title": ""
    },
    "colab": {
     "base_uri": "https://localhost:8080/",
     "height": 216
    },
    "executionInfo": {
     "elapsed": 1180,
     "status": "ok",
     "timestamp": 1620245213606,
     "user": {
      "displayName": "Jorge Andrés Alvarado",
      "photoUrl": "https://lh3.googleusercontent.com/a-/AOh14Gjswgjr-dpsb8qToq_658bd-POx30Oqup6RBBFA=s64",
      "userId": "16955788008997872737"
     },
     "user_tz": 300
    },
    "id": "nHFEtOKwFa1Q",
    "outputId": "ed493f3a-9ade-4338-fc2b-574855516fbd"
   },
   "outputs": [
    {
     "data": {
      "image/png": "[encoded data removed]",
      "text/plain": [
       "<Figure size 432x288 with 1 Axes>"
      ]
     },
     "metadata": {
      "needs_background": "light",
      "tags": []
     },
     "output_type": "display_data"
    },
    {
     "data": {
      "text/plain": [
       "None"
      ]
     },
     "metadata": {
      "tags": []
     },
     "output_type": "display_data"
    }
   ],
   "source": [
    "import matplotlib.pyplot as plt\n",
    "from wordcloud import WordCloud\n",
    "\n",
    "##Wordcloud con las palabras del tf-idf\n",
    "diccio={}\n",
    "for freq,name in cocinafinal.values:\n",
    "    diccio[name]=freq\n",
    "\n",
    "nube = WordCloud()\n",
    "nube.generate_from_frequencies(frequencies=diccio)\n",
    "plt.figure()\n",
    "plt.imshow(nube, interpolation=\"bilinear\")\n",
    "plt.axis(\"off\")\n",
    "figura1=plt.show()\n",
    "display(figura1)"
   ]
  },
  {
   "cell_type": "markdown",
   "metadata": {
    "application/vnd.databricks.v1+cell": {
     "inputWidgets": {},
     "nuid": "44fa3b2b-895a-46dd-8a0e-7bcb2b7a359e",
     "showTitle": false,
     "title": ""
    },
    "id": "nVnF0NuaFa1Y"
   },
   "source": [
    "## Distancia entre vectores (términos,documentos) y sus aplicaciones: La similitud coseno\n",
    "Una vez se representan los documentos (o términos) como vectores es posible calcular una distancia entre ellos.\n",
    "La distancia coseno es ideal si se requiere comparar documentos más largos con otros más cortos, y también para  vectores con muchos ceros. Por eso es ideal en contextos de NLP.\n",
    "Por ejemplo, podemos usarlo como motor de búsqueda:"
   ]
  },
  {
   "cell_type": "code",
   "execution_count": null,
   "metadata": {
    "application/vnd.databricks.v1+cell": {
     "inputWidgets": {},
     "nuid": "8c00f61b-b11e-4a86-a01f-ea644bc8c15c",
     "showTitle": false,
     "title": ""
    },
    "id": "sB3xAauYFa1Y"
   },
   "outputs": [],
   "source": [
    "busqueda=\"importancia del reciclaje\"\n",
    "oracion0=\"El reciclaje de papel es importante para el bien del mundo\"\n",
    "oracion1=\"El quijote es un personaje de novela inigualable. Sus ocurrencias y sus andanzas son inimitables\"\n",
    "oracion2=\"El papel es un elemento que puede ser sometido a reciclaje. En el mundo cada vez hay más importancia en este tema\"\n",
    "oracionpoc=[busqueda,oracion0,oracion1,oracion2]\n"
   ]
  },
  {
   "cell_type": "markdown",
   "metadata": {
    "application/vnd.databricks.v1+cell": {
     "inputWidgets": {},
     "nuid": "b20458d6-b720-4e78-a42d-005582c5240b",
     "showTitle": false,
     "title": ""
    },
    "id": "ynYX9R3cFa1Y"
   },
   "source": [
    "Ahora calculamos su TF-IDF, y luego su distancia coseno. Quien tenga menor distancia coseno es el mejor \"match\" para la búsqueda; en este caso, como se calcula la similitud (1- distancia coseno), se debe buscar la mayor similitud."
   ]
  },
  {
   "cell_type": "code",
   "execution_count": null,
   "metadata": {
    "application/vnd.databricks.v1+cell": {
     "inputWidgets": {},
     "nuid": "d2943dfd-ccff-4d80-918b-2b8268268ec6",
     "showTitle": false,
     "title": ""
    },
    "colab": {
     "base_uri": "https://localhost:8080/"
    },
    "executionInfo": {
     "elapsed": 484,
     "status": "ok",
     "timestamp": 1620245322167,
     "user": {
      "displayName": "Jorge Andrés Alvarado",
      "photoUrl": "https://lh3.googleusercontent.com/a-/AOh14Gjswgjr-dpsb8qToq_658bd-POx30Oqup6RBBFA=s64",
      "userId": "16955788008997872737"
     },
     "user_tz": 300
    },
    "id": "VA1m-h22Fa1Z",
    "outputId": "d4e7b054-14c9-47a7-802e-a41d12e6aedb"
   },
   "outputs": [
    {
     "name": "stdout",
     "output_type": "stream",
     "text": [
      "[[0.32025631 0.         0.23094011]]\n"
     ]
    }
   ],
   "source": [
    "vect = TfidfVectorizer(use_idf=False, norm=\"l1\")\n",
    "tocoocz1=vect.fit_transform(oracionpoc)\n",
    "nombrescoocz1=vect.get_feature_names()\n",
    "matrizcz1=tocoocz1.todense()\n",
    "matlistcz1=matrizcz1.tolist()\n",
    "import pandas as pd\n",
    "finalcz1=pd.DataFrame(matlistcz1,columns=nombrescoocz1)\n",
    "from sklearn.metrics.pairwise import cosine_similarity\n",
    "buscando=cosine_similarity(finalcz1[0:1],finalcz1[1:4])\n",
    "print(buscando)"
   ]
  },
  {
   "cell_type": "markdown",
   "metadata": {
    "application/vnd.databricks.v1+cell": {
     "inputWidgets": {},
     "nuid": "b17c2f23-4776-41e2-b012-775d15d4aaa3",
     "showTitle": false,
     "title": ""
    },
    "id": "uukFZolZFa1Z"
   },
   "source": [
    "Nótese que es indispensable que haya palabras exactamente iguales. Sin embargo eso puede trabajarse (o resolverse) con representaciones de palabras.\n",
    "También podemos hacer un sistema de respuesta a preguntas:"
   ]
  },
  {
   "cell_type": "code",
   "execution_count": null,
   "metadata": {
    "application/vnd.databricks.v1+cell": {
     "inputWidgets": {},
     "nuid": "41149c45-8066-4c9b-8365-929eb7142882",
     "showTitle": false,
     "title": ""
    },
    "colab": {
     "base_uri": "https://localhost:8080/"
    },
    "executionInfo": {
     "elapsed": 562,
     "status": "ok",
     "timestamp": 1620245330934,
     "user": {
      "displayName": "Jorge Andrés Alvarado",
      "photoUrl": "https://lh3.googleusercontent.com/a-/AOh14Gjswgjr-dpsb8qToq_658bd-POx30Oqup6RBBFA=s64",
      "userId": "16955788008997872737"
     },
     "user_tz": 300
    },
    "id": "-v30NLalFa1a",
    "outputId": "75b04039-bb7d-4de6-cc07-52e91c699666"
   },
   "outputs": [
    {
     "name": "stdout",
     "output_type": "stream",
     "text": [
      "[[0.4472136  0.2236068  0.18898224]]\n"
     ]
    }
   ],
   "source": [
    "busqueda=\"¿qué vende su tienda?\"\n",
    "resp0=\"la tienda vende artículos deportivos\"\n",
    "resp1=\"La tienda tiene horario de 8 a 5\"\n",
    "resp2=\"La tienda tiene los precios más bajos\"\n",
    "\n",
    "oracionpoc=[busqueda,resp0,resp1,resp2]\n",
    "\n",
    "tocoocz1=vect.fit_transform(oracionpoc)\n",
    "nombrescoocz1=vect.get_feature_names()\n",
    "matrizcz1=tocoocz1.todense()\n",
    "matlistcz1=matrizcz1.tolist()\n",
    "finalcz1=pd.DataFrame(matlistcz1,columns=nombrescoocz1)\n",
    "from sklearn.metrics.pairwise import cosine_similarity\n",
    "respondiendo=cosine_similarity(finalcz1[0:1],finalcz1[1:4])\n",
    "print(respondiendo)"
   ]
  },
  {
   "cell_type": "markdown",
   "metadata": {
    "application/vnd.databricks.v1+cell": {
     "inputWidgets": {},
     "nuid": "6badb94c-5928-4e65-bd7e-96ee88ad9b4a",
     "showTitle": false,
     "title": ""
    },
    "id": "-eDGFC_3Fa1a"
   },
   "source": [
    "También podemos hacer agrupaciones de textos, clasificando los mismos en grupos. Vamos a agrupar canales de televisión según sus descripciones"
   ]
  },
  {
   "cell_type": "code",
   "execution_count": null,
   "metadata": {
    "colab": {
     "base_uri": "https://localhost:8080/",
     "height": 77,
     "resources": {
      "http://localhost:8080/nbextensions/google.colab/files.js": {
       "data": "Ly8gQ29weXJpZ2h0IDIwMTcgR29vZ2xlIExMQwovLwovLyBMaWNlbnNlZCB1bmRlciB0aGUgQXBhY2hlIExpY2Vuc2UsIFZlcnNpb24gMi4wICh0aGUgIkxpY2Vuc2UiKTsKLy8geW91IG1heSBub3QgdXNlIHRoaXMgZmlsZSBleGNlcHQgaW4gY29tcGxpYW5jZSB3aXRoIHRoZSBMaWNlbnNlLgovLyBZb3UgbWF5IG9idGFpbiBhIGNvcHkgb2YgdGhlIExpY2Vuc2UgYXQKLy8KLy8gICAgICBodHRwOi8vd3d3LmFwYWNoZS5vcmcvbGljZW5zZXMvTElDRU5TRS0yLjAKLy8KLy8gVW5sZXNzIHJlcXVpcmVkIGJ5IGFwcGxpY2FibGUgbGF3IG9yIGFncmVlZCB0byBpbiB3cml0aW5nLCBzb2Z0d2FyZQovLyBkaXN0cmlidXRlZCB1bmRlciB0aGUgTGljZW5zZSBpcyBkaXN0cmlidXRlZCBvbiBhbiAiQVMgSVMiIEJBU0lTLAovLyBXSVRIT1VUIFdBUlJBTlRJRVMgT1IgQ09ORElUSU9OUyBPRiBBTlkgS0lORCwgZWl0aGVyIGV4cHJlc3Mgb3IgaW1wbGllZC4KLy8gU2VlIHRoZSBMaWNlbnNlIGZvciB0aGUgc3BlY2lmaWMgbGFuZ3VhZ2UgZ292ZXJuaW5nIHBlcm1pc3Npb25zIGFuZAovLyBsaW1pdGF0aW9ucyB1bmRlciB0aGUgTGljZW5zZS4KCi8qKgogKiBAZmlsZW92ZXJ2aWV3IEhlbHBlcnMgZm9yIGdvb2dsZS5jb2xhYiBQeXRob24gbW9kdWxlLgogKi8KKGZ1bmN0aW9uKHNjb3BlKSB7CmZ1bmN0aW9uIHNwYW4odGV4dCwgc3R5bGVBdHRyaWJ1dGVzID0ge30pIHsKICBjb25zdCBlbGVtZW50ID0gZG9jdW1lbnQuY3JlYXRlRWxlbWVudCgnc3BhbicpOwogIGVsZW1lbnQudGV4dENvbnRlbnQgPSB0ZXh0OwogIGZvciAoY29uc3Qga2V5IG9mIE9iamVjdC5rZXlzKHN0eWxlQXR0cmlidXRlcykpIHsKICAgIGVsZW1lbnQuc3R5bGVba2V5XSA9IHN0eWxlQXR0cmlidXRlc1trZXldOwogIH0KICByZXR1cm4gZWxlbWVudDsKfQoKLy8gTWF4IG51bWJlciBvZiBieXRlcyB3aGljaCB3aWxsIGJlIHVwbG9hZGVkIGF0IGEgdGltZS4KY29uc3QgTUFYX1BBWUxPQURfU0laRSA9IDEwMCAqIDEwMjQ7CgpmdW5jdGlvbiBfdXBsb2FkRmlsZXMoaW5wdXRJZCwgb3V0cHV0SWQpIHsKICBjb25zdCBzdGVwcyA9IHVwbG9hZEZpbGVzU3RlcChpbnB1dElkLCBvdXRwdXRJZCk7CiAgY29uc3Qgb3V0cHV0RWxlbWVudCA9IGRvY3VtZW50LmdldEVsZW1lbnRCeUlkKG91dHB1dElkKTsKICAvLyBDYWNoZSBzdGVwcyBvbiB0aGUgb3V0cHV0RWxlbWVudCB0byBtYWtlIGl0IGF2YWlsYWJsZSBmb3IgdGhlIG5leHQgY2FsbAogIC8vIHRvIHVwbG9hZEZpbGVzQ29udGludWUgZnJvbSBQeXRob24uCiAgb3V0cHV0RWxlbWVudC5zdGVwcyA9IHN0ZXBzOwoKICByZXR1cm4gX3VwbG9hZEZpbGVzQ29udGludWUob3V0cHV0SWQpOwp9CgovLyBUaGlzIGlzIHJvdWdobHkgYW4gYXN5bmMgZ2VuZXJhdG9yIChub3Qgc3VwcG9ydGVkIGluIHRoZSBicm93c2VyIHlldCksCi8vIHdoZXJlIHRoZXJlIGFyZSBtdWx0aXBsZSBhc3luY2hyb25vdXMgc3RlcHMgYW5kIHRoZSBQeXRob24gc2lkZSBpcyBnb2luZwovLyB0byBwb2xsIGZvciBjb21wbGV0aW9uIG9mIGVhY2ggc3RlcC4KLy8gVGhpcyB1c2VzIGEgUHJvbWlzZSB0byBibG9jayB0aGUgcHl0aG9uIHNpZGUgb24gY29tcGxldGlvbiBvZiBlYWNoIHN0ZXAsCi8vIHRoZW4gcGFzc2VzIHRoZSByZXN1bHQgb2YgdGhlIHByZXZpb3VzIHN0ZXAgYXMgdGhlIGlucHV0IHRvIHRoZSBuZXh0IHN0ZXAuCmZ1bmN0aW9uIF91cGxvYWRGaWxlc0NvbnRpbnVlKG91dHB1dElkKSB7CiAgY29uc3Qgb3V0cHV0RWxlbWVudCA9IGRvY3VtZW50LmdldEVsZW1lbnRCeUlkKG91dHB1dElkKTsKICBjb25zdCBzdGVwcyA9IG91dHB1dEVsZW1lbnQuc3RlcHM7CgogIGNvbnN0IG5leHQgPSBzdGVwcy5uZXh0KG91dHB1dEVsZW1lbnQubGFzdFByb21pc2VWYWx1ZSk7CiAgcmV0dXJuIFByb21pc2UucmVzb2x2ZShuZXh0LnZhbHVlLnByb21pc2UpLnRoZW4oKHZhbHVlKSA9PiB7CiAgICAvLyBDYWNoZSB0aGUgbGFzdCBwcm9taXNlIHZhbHVlIHRvIG1ha2UgaXQgYXZhaWxhYmxlIHRvIHRoZSBuZXh0CiAgICAvLyBzdGVwIG9mIHRoZSBnZW5lcmF0b3IuCiAgICBvdXRwdXRFbGVtZW50Lmxhc3RQcm9taXNlVmFsdWUgPSB2YWx1ZTsKICAgIHJldHVybiBuZXh0LnZhbHVlLnJlc3BvbnNlOwogIH0pOwp9CgovKioKICogR2VuZXJhdG9yIGZ1bmN0aW9uIHdoaWNoIGlzIGNhbGxlZCBiZXR3ZWVuIGVhY2ggYXN5bmMgc3RlcCBvZiB0aGUgdXBsb2FkCiAqIHByb2Nlc3MuCiAqIEBwYXJhbSB7c3RyaW5nfSBpbnB1dElkIEVsZW1lbnQgSUQgb2YgdGhlIGlucHV0IGZpbGUgcGlja2VyIGVsZW1lbnQuCiAqIEBwYXJhbSB7c3RyaW5nfSBvdXRwdXRJZCBFbGVtZW50IElEIG9mIHRoZSBvdXRwdXQgZGlzcGxheS4KICogQHJldHVybiB7IUl0ZXJhYmxlPCFPYmplY3Q+fSBJdGVyYWJsZSBvZiBuZXh0IHN0ZXBzLgogKi8KZnVuY3Rpb24qIHVwbG9hZEZpbGVzU3RlcChpbnB1dElkLCBvdXRwdXRJZCkgewogIGNvbnN0IGlucHV0RWxlbWVudCA9IGRvY3VtZW50LmdldEVsZW1lbnRCeUlkKGlucHV0SWQpOwogIGlucHV0RWxlbWVudC5kaXNhYmxlZCA9IGZhbHNlOwoKICBjb25zdCBvdXRwdXRFbGVtZW50ID0gZG9jdW1lbnQuZ2V0RWxlbWVudEJ5SWQob3V0cHV0SWQpOwogIG91dHB1dEVsZW1lbnQuaW5uZXJIVE1MID0gJyc7CgogIGNvbnN0IHBpY2tlZFByb21pc2UgPSBuZXcgUHJvbWlzZSgocmVzb2x2ZSkgPT4gewogICAgaW5wdXRFbGVtZW50LmFkZEV2ZW50TGlzdGVuZXIoJ2NoYW5nZScsIChlKSA9PiB7CiAgICAgIHJlc29sdmUoZS50YXJnZXQuZmlsZXMpOwogICAgfSk7CiAgfSk7CgogIGNvbnN0IGNhbmNlbCA9IGRvY3VtZW50LmNyZWF0ZUVsZW1lbnQoJ2J1dHRvbicpOwogIGlucHV0RWxlbWVudC5wYXJlbnRFbGVtZW50LmFwcGVuZENoaWxkKGNhbmNlbCk7CiAgY2FuY2VsLnRleHRDb250ZW50ID0gJ0NhbmNlbCB1cGxvYWQnOwogIGNvbnN0IGNhbmNlbFByb21pc2UgPSBuZXcgUHJvbWlzZSgocmVzb2x2ZSkgPT4gewogICAgY2FuY2VsLm9uY2xpY2sgPSAoKSA9PiB7CiAgICAgIHJlc29sdmUobnVsbCk7CiAgICB9OwogIH0pOwoKICAvLyBXYWl0IGZvciB0aGUgdXNlciB0byBwaWNrIHRoZSBmaWxlcy4KICBjb25zdCBmaWxlcyA9IHlpZWxkIHsKICAgIHByb21pc2U6IFByb21pc2UucmFjZShbcGlja2VkUHJvbWlzZSwgY2FuY2VsUHJvbWlzZV0pLAogICAgcmVzcG9uc2U6IHsKICAgICAgYWN0aW9uOiAnc3RhcnRpbmcnLAogICAgfQogIH07CgogIGNhbmNlbC5yZW1vdmUoKTsKCiAgLy8gRGlzYWJsZSB0aGUgaW5wdXQgZWxlbWVudCBzaW5jZSBmdXJ0aGVyIHBpY2tzIGFyZSBub3QgYWxsb3dlZC4KICBpbnB1dEVsZW1lbnQuZGlzYWJsZWQgPSB0cnVlOwoKICBpZiAoIWZpbGVzKSB7CiAgICByZXR1cm4gewogICAgICByZXNwb25zZTogewogICAgICAgIGFjdGlvbjogJ2NvbXBsZXRlJywKICAgICAgfQogICAgfTsKICB9CgogIGZvciAoY29uc3QgZmlsZSBvZiBmaWxlcykgewogICAgY29uc3QgbGkgPSBkb2N1bWVudC5jcmVhdGVFbGVtZW50KCdsaScpOwogICAgbGkuYXBwZW5kKHNwYW4oZmlsZS5uYW1lLCB7Zm9udFdlaWdodDogJ2JvbGQnfSkpOwogICAgbGkuYXBwZW5kKHNwYW4oCiAgICAgICAgYCgke2ZpbGUudHlwZSB8fCAnbi9hJ30pIC0gJHtmaWxlLnNpemV9IGJ5dGVzLCBgICsKICAgICAgICBgbGFzdCBtb2RpZmllZDogJHsKICAgICAgICAgICAgZmlsZS5sYXN0TW9kaWZpZWREYXRlID8gZmlsZS5sYXN0TW9kaWZpZWREYXRlLnRvTG9jYWxlRGF0ZVN0cmluZygpIDoKICAgICAgICAgICAgICAgICAgICAgICAgICAgICAgICAgICAgJ24vYSd9IC0gYCkpOwogICAgY29uc3QgcGVyY2VudCA9IHNwYW4oJzAlIGRvbmUnKTsKICAgIGxpLmFwcGVuZENoaWxkKHBlcmNlbnQpOwoKICAgIG91dHB1dEVsZW1lbnQuYXBwZW5kQ2hpbGQobGkpOwoKICAgIGNvbnN0IGZpbGVEYXRhUHJvbWlzZSA9IG5ldyBQcm9taXNlKChyZXNvbHZlKSA9PiB7CiAgICAgIGNvbnN0IHJlYWRlciA9IG5ldyBGaWxlUmVhZGVyKCk7CiAgICAgIHJlYWRlci5vbmxvYWQgPSAoZSkgPT4gewogICAgICAgIHJlc29sdmUoZS50YXJnZXQucmVzdWx0KTsKICAgICAgfTsKICAgICAgcmVhZGVyLnJlYWRBc0FycmF5QnVmZmVyKGZpbGUpOwogICAgfSk7CiAgICAvLyBXYWl0IGZvciB0aGUgZGF0YSB0byBiZSByZWFkeS4KICAgIGxldCBmaWxlRGF0YSA9IHlpZWxkIHsKICAgICAgcHJvbWlzZTogZmlsZURhdGFQcm9taXNlLAogICAgICByZXNwb25zZTogewogICAgICAgIGFjdGlvbjogJ2NvbnRpbnVlJywKICAgICAgfQogICAgfTsKCiAgICAvLyBVc2UgYSBjaHVua2VkIHNlbmRpbmcgdG8gYXZvaWQgbWVzc2FnZSBzaXplIGxpbWl0cy4gU2VlIGIvNjIxMTU2NjAuCiAgICBsZXQgcG9zaXRpb24gPSAwOwogICAgd2hpbGUgKHBvc2l0aW9uIDwgZmlsZURhdGEuYnl0ZUxlbmd0aCkgewogICAgICBjb25zdCBsZW5ndGggPSBNYXRoLm1pbihmaWxlRGF0YS5ieXRlTGVuZ3RoIC0gcG9zaXRpb24sIE1BWF9QQVlMT0FEX1NJWkUpOwogICAgICBjb25zdCBjaHVuayA9IG5ldyBVaW50OEFycmF5KGZpbGVEYXRhLCBwb3NpdGlvbiwgbGVuZ3RoKTsKICAgICAgcG9zaXRpb24gKz0gbGVuZ3RoOwoKICAgICAgY29uc3QgYmFzZTY0ID0gYnRvYShTdHJpbmcuZnJvbUNoYXJDb2RlLmFwcGx5KG51bGwsIGNodW5rKSk7CiAgICAgIHlpZWxkIHsKICAgICAgICByZXNwb25zZTogewogICAgICAgICAgYWN0aW9uOiAnYXBwZW5kJywKICAgICAgICAgIGZpbGU6IGZpbGUubmFtZSwKICAgICAgICAgIGRhdGE6IGJhc2U2NCwKICAgICAgICB9LAogICAgICB9OwogICAgICBwZXJjZW50LnRleHRDb250ZW50ID0KICAgICAgICAgIGAke01hdGgucm91bmQoKHBvc2l0aW9uIC8gZmlsZURhdGEuYnl0ZUxlbmd0aCkgKiAxMDApfSUgZG9uZWA7CiAgICB9CiAgfQoKICAvLyBBbGwgZG9uZS4KICB5aWVsZCB7CiAgICByZXNwb25zZTogewogICAgICBhY3Rpb246ICdjb21wbGV0ZScsCiAgICB9CiAgfTsKfQoKc2NvcGUuZ29vZ2xlID0gc2NvcGUuZ29vZ2xlIHx8IHt9OwpzY29wZS5nb29nbGUuY29sYWIgPSBzY29wZS5nb29nbGUuY29sYWIgfHwge307CnNjb3BlLmdvb2dsZS5jb2xhYi5fZmlsZXMgPSB7CiAgX3VwbG9hZEZpbGVzLAogIF91cGxvYWRGaWxlc0NvbnRpbnVlLAp9Owp9KShzZWxmKTsK",
       "headers": [
        [
         "content-type",
         "application/javascript"
        ]
       ],
       "ok": true,
       "status": 200,
       "status_text": "OK"
      }
     }
    },
    "executionInfo": {
     "elapsed": 95110,
     "status": "ok",
     "timestamp": 1620245545579,
     "user": {
      "displayName": "Jorge Andrés Alvarado",
      "photoUrl": "https://lh3.googleusercontent.com/a-/AOh14Gjswgjr-dpsb8qToq_658bd-POx30Oqup6RBBFA=s64",
      "userId": "16955788008997872737"
     },
     "user_tz": 300
    },
    "id": "skq-oMQuJjUb",
    "outputId": "3c23302b-ad2d-4a80-923a-52ca1d6e9c29"
   },
   "outputs": [
    {
     "data": {
      "text/html": [
       "\n",
       "     <input type=\"file\" id=\"files-ac0669d7-dede-4774-ad33-1bd6f719a917\" name=\"files[]\" multiple disabled\n",
       "        style=\"border:none\" />\n",
       "     <output id=\"result-ac0669d7-dede-4774-ad33-1bd6f719a917\">\n",
       "      Upload widget is only available when the cell has been executed in the\n",
       "      current browser session. Please rerun this cell to enable.\n",
       "      </output>\n",
       "      <script src=\"/nbextensions/google.colab/files.js\"></script> "
      ],
      "text/plain": [
       "<IPython.core.display.HTML object>"
      ]
     },
     "metadata": {
      "tags": []
     },
     "output_type": "display_data"
    },
    {
     "name": "stdout",
     "output_type": "stream",
     "text": [
      "Saving canales.csv to canales.csv\n"
     ]
    }
   ],
   "source": [
    "from google.colab import files\n",
    "uploaded = files.upload()"
   ]
  },
  {
   "cell_type": "code",
   "execution_count": null,
   "metadata": {
    "application/vnd.databricks.v1+cell": {
     "inputWidgets": {},
     "nuid": "1ad30d9c-1ebe-4df7-8f75-0b2c432c2dc5",
     "showTitle": false,
     "title": ""
    },
    "colab": {
     "base_uri": "https://localhost:8080/",
     "height": 238
    },
    "executionInfo": {
     "elapsed": 446,
     "status": "ok",
     "timestamp": 1620245564567,
     "user": {
      "displayName": "Jorge Andrés Alvarado",
      "photoUrl": "https://lh3.googleusercontent.com/a-/AOh14Gjswgjr-dpsb8qToq_658bd-POx30Oqup6RBBFA=s64",
      "userId": "16955788008997872737"
     },
     "user_tz": 300
    },
    "id": "XEtNyOIYFa1b",
    "outputId": "e90fab85-1ea5-4beb-b41b-ec4b076d551d"
   },
   "outputs": [
    {
     "data": {
      "text/html": [
       "<div>\n",
       "<style scoped>\n",
       "    .dataframe tbody tr th:only-of-type {\n",
       "        vertical-align: middle;\n",
       "    }\n",
       "\n",
       "    .dataframe tbody tr th {\n",
       "        vertical-align: top;\n",
       "    }\n",
       "\n",
       "    .dataframe thead th {\n",
       "        text-align: right;\n",
       "    }\n",
       "</style>\n",
       "<table border=\"1\" class=\"dataframe\">\n",
       "  <thead>\n",
       "    <tr style=\"text-align: right;\">\n",
       "      <th></th>\n",
       "      <th>id</th>\n",
       "      <th>channel</th>\n",
       "      <th>descripcion</th>\n",
       "    </tr>\n",
       "  </thead>\n",
       "  <tbody>\n",
       "    <tr>\n",
       "      <th>0</th>\n",
       "      <td>1</td>\n",
       "      <td>6.1 Multimedios Guadalajara</td>\n",
       "      <td>Además de la programación de noticieros y depo...</td>\n",
       "    </tr>\n",
       "    <tr>\n",
       "      <th>1</th>\n",
       "      <td>2</td>\n",
       "      <td>A&amp;E</td>\n",
       "      <td>El canal se centró originalmente en la program...</td>\n",
       "    </tr>\n",
       "    <tr>\n",
       "      <th>2</th>\n",
       "      <td>3</td>\n",
       "      <td>A+</td>\n",
       "      <td>Es una red de canales de televisión mexicana d...</td>\n",
       "    </tr>\n",
       "    <tr>\n",
       "      <th>3</th>\n",
       "      <td>4</td>\n",
       "      <td>Adenalina</td>\n",
       "      <td>Encontré Adrenalina pero no Adenalina asumo qu...</td>\n",
       "    </tr>\n",
       "    <tr>\n",
       "      <th>4</th>\n",
       "      <td>5</td>\n",
       "      <td>ADN40</td>\n",
       "      <td>Es un canal de televisión abierta mexicana pr...</td>\n",
       "    </tr>\n",
       "    <tr>\n",
       "      <th>5</th>\n",
       "      <td>6</td>\n",
       "      <td>AMC</td>\n",
       "      <td>AMC es un canal de televisión por suscripción ...</td>\n",
       "    </tr>\n",
       "  </tbody>\n",
       "</table>\n",
       "</div>"
      ],
      "text/plain": [
       "   id  ...                                        descripcion\n",
       "0   1  ...  Además de la programación de noticieros y depo...\n",
       "1   2  ...  El canal se centró originalmente en la program...\n",
       "2   3  ...  Es una red de canales de televisión mexicana d...\n",
       "3   4  ...  Encontré Adrenalina pero no Adenalina asumo qu...\n",
       "4   5  ...   Es un canal de televisión abierta mexicana pr...\n",
       "5   6  ...  AMC es un canal de televisión por suscripción ...\n",
       "\n",
       "[6 rows x 3 columns]"
      ]
     },
     "execution_count": 42,
     "metadata": {
      "tags": []
     },
     "output_type": "execute_result"
    }
   ],
   "source": [
    "\n",
    "\n",
    "canal = pd.read_csv(\"canales.csv\", sep=\";\", encoding=\"latin-1\")\n",
    "canal.head(6)\n",
    "\n",
    "\n"
   ]
  },
  {
   "cell_type": "markdown",
   "metadata": {
    "application/vnd.databricks.v1+cell": {
     "inputWidgets": {},
     "nuid": "e8f560ce-5773-4c3c-a052-acf59fa5bf78",
     "showTitle": false,
     "title": ""
    },
    "id": "2nP6yZjLFa1b"
   },
   "source": [
    "Creamos el Tf-idf de cada descripción de canal"
   ]
  },
  {
   "cell_type": "code",
   "execution_count": null,
   "metadata": {
    "application/vnd.databricks.v1+cell": {
     "inputWidgets": {},
     "nuid": "efafe333-89b1-4ac8-a85c-1d12c98076a0",
     "showTitle": false,
     "title": ""
    },
    "colab": {
     "base_uri": "https://localhost:8080/",
     "height": 412
    },
    "executionInfo": {
     "elapsed": 708,
     "status": "ok",
     "timestamp": 1620245570720,
     "user": {
      "displayName": "Jorge Andrés Alvarado",
      "photoUrl": "https://lh3.googleusercontent.com/a-/AOh14Gjswgjr-dpsb8qToq_658bd-POx30Oqup6RBBFA=s64",
      "userId": "16955788008997872737"
     },
     "user_tz": 300
    },
    "id": "f6wXvVcfFa1b",
    "outputId": "f5e4e568-de53-4b39-f81c-c2f8efbda43e"
   },
   "outputs": [
    {
     "data": {
      "text/html": [
       "<div>\n",
       "<style scoped>\n",
       "    .dataframe tbody tr th:only-of-type {\n",
       "        vertical-align: middle;\n",
       "    }\n",
       "\n",
       "    .dataframe tbody tr th {\n",
       "        vertical-align: top;\n",
       "    }\n",
       "\n",
       "    .dataframe thead th {\n",
       "        text-align: right;\n",
       "    }\n",
       "</style>\n",
       "<table border=\"1\" class=\"dataframe\">\n",
       "  <thead>\n",
       "    <tr style=\"text-align: right;\">\n",
       "      <th></th>\n",
       "      <th>10</th>\n",
       "      <th>11</th>\n",
       "      <th>12</th>\n",
       "      <th>1990</th>\n",
       "      <th>1991</th>\n",
       "      <th>1994</th>\n",
       "      <th>1996</th>\n",
       "      <th>1997</th>\n",
       "      <th>20</th>\n",
       "      <th>2002</th>\n",
       "      <th>2007</th>\n",
       "      <th>2008</th>\n",
       "      <th>2010</th>\n",
       "      <th>2012</th>\n",
       "      <th>2016</th>\n",
       "      <th>2017</th>\n",
       "      <th>2019</th>\n",
       "      <th>22</th>\n",
       "      <th>24</th>\n",
       "      <th>30</th>\n",
       "      <th>31</th>\n",
       "      <th>60</th>\n",
       "      <th>abierta</th>\n",
       "      <th>aborda</th>\n",
       "      <th>abreviado</th>\n",
       "      <th>abril</th>\n",
       "      <th>acción</th>\n",
       "      <th>actor</th>\n",
       "      <th>actual</th>\n",
       "      <th>actuales</th>\n",
       "      <th>actualidad</th>\n",
       "      <th>actualmente</th>\n",
       "      <th>adaptación</th>\n",
       "      <th>además</th>\n",
       "      <th>administrado</th>\n",
       "      <th>adolescentes</th>\n",
       "      <th>adulto</th>\n",
       "      <th>adultos</th>\n",
       "      <th>afiliadas</th>\n",
       "      <th>agenda</th>\n",
       "      <th>...</th>\n",
       "      <th>universal</th>\n",
       "      <th>univision</th>\n",
       "      <th>univisión</th>\n",
       "      <th>uno</th>\n",
       "      <th>urbano</th>\n",
       "      <th>utah</th>\n",
       "      <th>vacio</th>\n",
       "      <th>valentina</th>\n",
       "      <th>valores</th>\n",
       "      <th>variada</th>\n",
       "      <th>varias</th>\n",
       "      <th>variedad</th>\n",
       "      <th>variedades</th>\n",
       "      <th>varios</th>\n",
       "      <th>vespertino</th>\n",
       "      <th>vez</th>\n",
       "      <th>viacomcbs</th>\n",
       "      <th>vida</th>\n",
       "      <th>viernes</th>\n",
       "      <th>viewers</th>\n",
       "      <th>virtual</th>\n",
       "      <th>visión</th>\n",
       "      <th>vista</th>\n",
       "      <th>vivo</th>\n",
       "      <th>vuelve</th>\n",
       "      <th>vídeos</th>\n",
       "      <th>walt</th>\n",
       "      <th>warner</th>\n",
       "      <th>warnermedia</th>\n",
       "      <th>wild</th>\n",
       "      <th>with</th>\n",
       "      <th>woki</th>\n",
       "      <th>xhaw</th>\n",
       "      <th>xy</th>\n",
       "      <th>ya</th>\n",
       "      <th>zaragoza</th>\n",
       "      <th>zoológico</th>\n",
       "      <th>éxito</th>\n",
       "      <th>último</th>\n",
       "      <th>últimos</th>\n",
       "    </tr>\n",
       "  </thead>\n",
       "  <tbody>\n",
       "    <tr>\n",
       "      <th>0</th>\n",
       "      <td>0.0</td>\n",
       "      <td>0.0</td>\n",
       "      <td>0.0</td>\n",
       "      <td>0.0</td>\n",
       "      <td>0.0</td>\n",
       "      <td>0.0</td>\n",
       "      <td>0.0</td>\n",
       "      <td>0.0</td>\n",
       "      <td>0.0</td>\n",
       "      <td>0.00000</td>\n",
       "      <td>0.000000</td>\n",
       "      <td>0.000000</td>\n",
       "      <td>0.0</td>\n",
       "      <td>0.0</td>\n",
       "      <td>0.0</td>\n",
       "      <td>0.00000</td>\n",
       "      <td>0.000000</td>\n",
       "      <td>0.0</td>\n",
       "      <td>0.0</td>\n",
       "      <td>0.0</td>\n",
       "      <td>0.0</td>\n",
       "      <td>0.0</td>\n",
       "      <td>0.000000</td>\n",
       "      <td>0.0</td>\n",
       "      <td>0.0</td>\n",
       "      <td>0.0</td>\n",
       "      <td>0.000000</td>\n",
       "      <td>0.0</td>\n",
       "      <td>0.0</td>\n",
       "      <td>0.0</td>\n",
       "      <td>0.0</td>\n",
       "      <td>0.0</td>\n",
       "      <td>0.0</td>\n",
       "      <td>0.120626</td>\n",
       "      <td>0.0</td>\n",
       "      <td>0.0</td>\n",
       "      <td>0.0</td>\n",
       "      <td>0.0</td>\n",
       "      <td>0.0</td>\n",
       "      <td>0.000000</td>\n",
       "      <td>...</td>\n",
       "      <td>0.0</td>\n",
       "      <td>0.0</td>\n",
       "      <td>0.0</td>\n",
       "      <td>0.0</td>\n",
       "      <td>0.0</td>\n",
       "      <td>0.0</td>\n",
       "      <td>0.0</td>\n",
       "      <td>0.0</td>\n",
       "      <td>0.0</td>\n",
       "      <td>0.0</td>\n",
       "      <td>0.0</td>\n",
       "      <td>0.0</td>\n",
       "      <td>0.000000</td>\n",
       "      <td>0.0</td>\n",
       "      <td>0.17832</td>\n",
       "      <td>0.0</td>\n",
       "      <td>0.0</td>\n",
       "      <td>0.0</td>\n",
       "      <td>0.0</td>\n",
       "      <td>0.00000</td>\n",
       "      <td>0.0</td>\n",
       "      <td>0.0</td>\n",
       "      <td>0.0</td>\n",
       "      <td>0.0</td>\n",
       "      <td>0.0</td>\n",
       "      <td>0.0</td>\n",
       "      <td>0.0</td>\n",
       "      <td>0.0</td>\n",
       "      <td>0.0</td>\n",
       "      <td>0.000000</td>\n",
       "      <td>0.0</td>\n",
       "      <td>0.0</td>\n",
       "      <td>0.0</td>\n",
       "      <td>0.0</td>\n",
       "      <td>0.0</td>\n",
       "      <td>0.0</td>\n",
       "      <td>0.000000</td>\n",
       "      <td>0.0</td>\n",
       "      <td>0.000000</td>\n",
       "      <td>0.000000</td>\n",
       "    </tr>\n",
       "    <tr>\n",
       "      <th>1</th>\n",
       "      <td>0.0</td>\n",
       "      <td>0.0</td>\n",
       "      <td>0.0</td>\n",
       "      <td>0.0</td>\n",
       "      <td>0.0</td>\n",
       "      <td>0.0</td>\n",
       "      <td>0.0</td>\n",
       "      <td>0.0</td>\n",
       "      <td>0.0</td>\n",
       "      <td>0.08874</td>\n",
       "      <td>0.000000</td>\n",
       "      <td>0.000000</td>\n",
       "      <td>0.0</td>\n",
       "      <td>0.0</td>\n",
       "      <td>0.0</td>\n",
       "      <td>0.08874</td>\n",
       "      <td>0.000000</td>\n",
       "      <td>0.0</td>\n",
       "      <td>0.0</td>\n",
       "      <td>0.0</td>\n",
       "      <td>0.0</td>\n",
       "      <td>0.0</td>\n",
       "      <td>0.000000</td>\n",
       "      <td>0.0</td>\n",
       "      <td>0.0</td>\n",
       "      <td>0.0</td>\n",
       "      <td>0.000000</td>\n",
       "      <td>0.0</td>\n",
       "      <td>0.0</td>\n",
       "      <td>0.0</td>\n",
       "      <td>0.0</td>\n",
       "      <td>0.0</td>\n",
       "      <td>0.0</td>\n",
       "      <td>0.000000</td>\n",
       "      <td>0.0</td>\n",
       "      <td>0.0</td>\n",
       "      <td>0.0</td>\n",
       "      <td>0.0</td>\n",
       "      <td>0.0</td>\n",
       "      <td>0.000000</td>\n",
       "      <td>...</td>\n",
       "      <td>0.0</td>\n",
       "      <td>0.0</td>\n",
       "      <td>0.0</td>\n",
       "      <td>0.0</td>\n",
       "      <td>0.0</td>\n",
       "      <td>0.0</td>\n",
       "      <td>0.0</td>\n",
       "      <td>0.0</td>\n",
       "      <td>0.0</td>\n",
       "      <td>0.0</td>\n",
       "      <td>0.0</td>\n",
       "      <td>0.0</td>\n",
       "      <td>0.000000</td>\n",
       "      <td>0.0</td>\n",
       "      <td>0.00000</td>\n",
       "      <td>0.0</td>\n",
       "      <td>0.0</td>\n",
       "      <td>0.0</td>\n",
       "      <td>0.0</td>\n",
       "      <td>0.08874</td>\n",
       "      <td>0.0</td>\n",
       "      <td>0.0</td>\n",
       "      <td>0.0</td>\n",
       "      <td>0.0</td>\n",
       "      <td>0.0</td>\n",
       "      <td>0.0</td>\n",
       "      <td>0.0</td>\n",
       "      <td>0.0</td>\n",
       "      <td>0.0</td>\n",
       "      <td>0.000000</td>\n",
       "      <td>0.0</td>\n",
       "      <td>0.0</td>\n",
       "      <td>0.0</td>\n",
       "      <td>0.0</td>\n",
       "      <td>0.0</td>\n",
       "      <td>0.0</td>\n",
       "      <td>0.000000</td>\n",
       "      <td>0.0</td>\n",
       "      <td>0.000000</td>\n",
       "      <td>0.000000</td>\n",
       "    </tr>\n",
       "    <tr>\n",
       "      <th>2</th>\n",
       "      <td>0.0</td>\n",
       "      <td>0.0</td>\n",
       "      <td>0.0</td>\n",
       "      <td>0.0</td>\n",
       "      <td>0.0</td>\n",
       "      <td>0.0</td>\n",
       "      <td>0.0</td>\n",
       "      <td>0.0</td>\n",
       "      <td>0.0</td>\n",
       "      <td>0.00000</td>\n",
       "      <td>0.000000</td>\n",
       "      <td>0.000000</td>\n",
       "      <td>0.0</td>\n",
       "      <td>0.0</td>\n",
       "      <td>0.0</td>\n",
       "      <td>0.00000</td>\n",
       "      <td>0.000000</td>\n",
       "      <td>0.0</td>\n",
       "      <td>0.0</td>\n",
       "      <td>0.0</td>\n",
       "      <td>0.0</td>\n",
       "      <td>0.0</td>\n",
       "      <td>0.000000</td>\n",
       "      <td>0.0</td>\n",
       "      <td>0.0</td>\n",
       "      <td>0.0</td>\n",
       "      <td>0.000000</td>\n",
       "      <td>0.0</td>\n",
       "      <td>0.0</td>\n",
       "      <td>0.0</td>\n",
       "      <td>0.0</td>\n",
       "      <td>0.0</td>\n",
       "      <td>0.0</td>\n",
       "      <td>0.000000</td>\n",
       "      <td>0.0</td>\n",
       "      <td>0.0</td>\n",
       "      <td>0.0</td>\n",
       "      <td>0.0</td>\n",
       "      <td>0.0</td>\n",
       "      <td>0.000000</td>\n",
       "      <td>...</td>\n",
       "      <td>0.0</td>\n",
       "      <td>0.0</td>\n",
       "      <td>0.0</td>\n",
       "      <td>0.0</td>\n",
       "      <td>0.0</td>\n",
       "      <td>0.0</td>\n",
       "      <td>0.0</td>\n",
       "      <td>0.0</td>\n",
       "      <td>0.0</td>\n",
       "      <td>0.0</td>\n",
       "      <td>0.0</td>\n",
       "      <td>0.0</td>\n",
       "      <td>0.000000</td>\n",
       "      <td>0.0</td>\n",
       "      <td>0.00000</td>\n",
       "      <td>0.0</td>\n",
       "      <td>0.0</td>\n",
       "      <td>0.0</td>\n",
       "      <td>0.0</td>\n",
       "      <td>0.00000</td>\n",
       "      <td>0.0</td>\n",
       "      <td>0.0</td>\n",
       "      <td>0.0</td>\n",
       "      <td>0.0</td>\n",
       "      <td>0.0</td>\n",
       "      <td>0.0</td>\n",
       "      <td>0.0</td>\n",
       "      <td>0.0</td>\n",
       "      <td>0.0</td>\n",
       "      <td>0.000000</td>\n",
       "      <td>0.0</td>\n",
       "      <td>0.0</td>\n",
       "      <td>0.0</td>\n",
       "      <td>0.0</td>\n",
       "      <td>0.0</td>\n",
       "      <td>0.0</td>\n",
       "      <td>0.000000</td>\n",
       "      <td>0.0</td>\n",
       "      <td>0.000000</td>\n",
       "      <td>0.000000</td>\n",
       "    </tr>\n",
       "    <tr>\n",
       "      <th>3</th>\n",
       "      <td>0.0</td>\n",
       "      <td>0.0</td>\n",
       "      <td>0.0</td>\n",
       "      <td>0.0</td>\n",
       "      <td>0.0</td>\n",
       "      <td>0.0</td>\n",
       "      <td>0.0</td>\n",
       "      <td>0.0</td>\n",
       "      <td>0.0</td>\n",
       "      <td>0.00000</td>\n",
       "      <td>0.000000</td>\n",
       "      <td>0.000000</td>\n",
       "      <td>0.0</td>\n",
       "      <td>0.0</td>\n",
       "      <td>0.0</td>\n",
       "      <td>0.00000</td>\n",
       "      <td>0.148957</td>\n",
       "      <td>0.0</td>\n",
       "      <td>0.0</td>\n",
       "      <td>0.0</td>\n",
       "      <td>0.0</td>\n",
       "      <td>0.0</td>\n",
       "      <td>0.000000</td>\n",
       "      <td>0.0</td>\n",
       "      <td>0.0</td>\n",
       "      <td>0.0</td>\n",
       "      <td>0.000000</td>\n",
       "      <td>0.0</td>\n",
       "      <td>0.0</td>\n",
       "      <td>0.0</td>\n",
       "      <td>0.0</td>\n",
       "      <td>0.0</td>\n",
       "      <td>0.0</td>\n",
       "      <td>0.000000</td>\n",
       "      <td>0.0</td>\n",
       "      <td>0.0</td>\n",
       "      <td>0.0</td>\n",
       "      <td>0.0</td>\n",
       "      <td>0.0</td>\n",
       "      <td>0.000000</td>\n",
       "      <td>...</td>\n",
       "      <td>0.0</td>\n",
       "      <td>0.0</td>\n",
       "      <td>0.0</td>\n",
       "      <td>0.0</td>\n",
       "      <td>0.0</td>\n",
       "      <td>0.0</td>\n",
       "      <td>0.0</td>\n",
       "      <td>0.0</td>\n",
       "      <td>0.0</td>\n",
       "      <td>0.0</td>\n",
       "      <td>0.0</td>\n",
       "      <td>0.0</td>\n",
       "      <td>0.148957</td>\n",
       "      <td>0.0</td>\n",
       "      <td>0.00000</td>\n",
       "      <td>0.0</td>\n",
       "      <td>0.0</td>\n",
       "      <td>0.0</td>\n",
       "      <td>0.0</td>\n",
       "      <td>0.00000</td>\n",
       "      <td>0.0</td>\n",
       "      <td>0.0</td>\n",
       "      <td>0.0</td>\n",
       "      <td>0.0</td>\n",
       "      <td>0.0</td>\n",
       "      <td>0.0</td>\n",
       "      <td>0.0</td>\n",
       "      <td>0.0</td>\n",
       "      <td>0.0</td>\n",
       "      <td>0.000000</td>\n",
       "      <td>0.0</td>\n",
       "      <td>0.0</td>\n",
       "      <td>0.0</td>\n",
       "      <td>0.0</td>\n",
       "      <td>0.0</td>\n",
       "      <td>0.0</td>\n",
       "      <td>0.000000</td>\n",
       "      <td>0.0</td>\n",
       "      <td>0.000000</td>\n",
       "      <td>0.000000</td>\n",
       "    </tr>\n",
       "    <tr>\n",
       "      <th>4</th>\n",
       "      <td>0.0</td>\n",
       "      <td>0.0</td>\n",
       "      <td>0.0</td>\n",
       "      <td>0.0</td>\n",
       "      <td>0.0</td>\n",
       "      <td>0.0</td>\n",
       "      <td>0.0</td>\n",
       "      <td>0.0</td>\n",
       "      <td>0.0</td>\n",
       "      <td>0.00000</td>\n",
       "      <td>0.000000</td>\n",
       "      <td>0.000000</td>\n",
       "      <td>0.0</td>\n",
       "      <td>0.0</td>\n",
       "      <td>0.0</td>\n",
       "      <td>0.00000</td>\n",
       "      <td>0.000000</td>\n",
       "      <td>0.0</td>\n",
       "      <td>0.0</td>\n",
       "      <td>0.0</td>\n",
       "      <td>0.0</td>\n",
       "      <td>0.0</td>\n",
       "      <td>0.164492</td>\n",
       "      <td>0.0</td>\n",
       "      <td>0.0</td>\n",
       "      <td>0.0</td>\n",
       "      <td>0.000000</td>\n",
       "      <td>0.0</td>\n",
       "      <td>0.0</td>\n",
       "      <td>0.0</td>\n",
       "      <td>0.0</td>\n",
       "      <td>0.0</td>\n",
       "      <td>0.0</td>\n",
       "      <td>0.000000</td>\n",
       "      <td>0.0</td>\n",
       "      <td>0.0</td>\n",
       "      <td>0.0</td>\n",
       "      <td>0.0</td>\n",
       "      <td>0.0</td>\n",
       "      <td>0.000000</td>\n",
       "      <td>...</td>\n",
       "      <td>0.0</td>\n",
       "      <td>0.0</td>\n",
       "      <td>0.0</td>\n",
       "      <td>0.0</td>\n",
       "      <td>0.0</td>\n",
       "      <td>0.0</td>\n",
       "      <td>0.0</td>\n",
       "      <td>0.0</td>\n",
       "      <td>0.0</td>\n",
       "      <td>0.0</td>\n",
       "      <td>0.0</td>\n",
       "      <td>0.0</td>\n",
       "      <td>0.000000</td>\n",
       "      <td>0.0</td>\n",
       "      <td>0.00000</td>\n",
       "      <td>0.0</td>\n",
       "      <td>0.0</td>\n",
       "      <td>0.0</td>\n",
       "      <td>0.0</td>\n",
       "      <td>0.00000</td>\n",
       "      <td>0.0</td>\n",
       "      <td>0.0</td>\n",
       "      <td>0.0</td>\n",
       "      <td>0.0</td>\n",
       "      <td>0.0</td>\n",
       "      <td>0.0</td>\n",
       "      <td>0.0</td>\n",
       "      <td>0.0</td>\n",
       "      <td>0.0</td>\n",
       "      <td>0.000000</td>\n",
       "      <td>0.0</td>\n",
       "      <td>0.0</td>\n",
       "      <td>0.0</td>\n",
       "      <td>0.0</td>\n",
       "      <td>0.0</td>\n",
       "      <td>0.0</td>\n",
       "      <td>0.000000</td>\n",
       "      <td>0.0</td>\n",
       "      <td>0.000000</td>\n",
       "      <td>0.000000</td>\n",
       "    </tr>\n",
       "    <tr>\n",
       "      <th>5</th>\n",
       "      <td>0.0</td>\n",
       "      <td>0.0</td>\n",
       "      <td>0.0</td>\n",
       "      <td>0.0</td>\n",
       "      <td>0.0</td>\n",
       "      <td>0.0</td>\n",
       "      <td>0.0</td>\n",
       "      <td>0.0</td>\n",
       "      <td>0.0</td>\n",
       "      <td>0.00000</td>\n",
       "      <td>0.110732</td>\n",
       "      <td>0.110732</td>\n",
       "      <td>0.0</td>\n",
       "      <td>0.0</td>\n",
       "      <td>0.0</td>\n",
       "      <td>0.00000</td>\n",
       "      <td>0.000000</td>\n",
       "      <td>0.0</td>\n",
       "      <td>0.0</td>\n",
       "      <td>0.0</td>\n",
       "      <td>0.0</td>\n",
       "      <td>0.0</td>\n",
       "      <td>0.000000</td>\n",
       "      <td>0.0</td>\n",
       "      <td>0.0</td>\n",
       "      <td>0.0</td>\n",
       "      <td>0.000000</td>\n",
       "      <td>0.0</td>\n",
       "      <td>0.0</td>\n",
       "      <td>0.0</td>\n",
       "      <td>0.0</td>\n",
       "      <td>0.0</td>\n",
       "      <td>0.0</td>\n",
       "      <td>0.000000</td>\n",
       "      <td>0.0</td>\n",
       "      <td>0.0</td>\n",
       "      <td>0.0</td>\n",
       "      <td>0.0</td>\n",
       "      <td>0.0</td>\n",
       "      <td>0.110732</td>\n",
       "      <td>...</td>\n",
       "      <td>0.0</td>\n",
       "      <td>0.0</td>\n",
       "      <td>0.0</td>\n",
       "      <td>0.0</td>\n",
       "      <td>0.0</td>\n",
       "      <td>0.0</td>\n",
       "      <td>0.0</td>\n",
       "      <td>0.0</td>\n",
       "      <td>0.0</td>\n",
       "      <td>0.0</td>\n",
       "      <td>0.0</td>\n",
       "      <td>0.0</td>\n",
       "      <td>0.000000</td>\n",
       "      <td>0.0</td>\n",
       "      <td>0.00000</td>\n",
       "      <td>0.0</td>\n",
       "      <td>0.0</td>\n",
       "      <td>0.0</td>\n",
       "      <td>0.0</td>\n",
       "      <td>0.00000</td>\n",
       "      <td>0.0</td>\n",
       "      <td>0.0</td>\n",
       "      <td>0.0</td>\n",
       "      <td>0.0</td>\n",
       "      <td>0.0</td>\n",
       "      <td>0.0</td>\n",
       "      <td>0.0</td>\n",
       "      <td>0.0</td>\n",
       "      <td>0.0</td>\n",
       "      <td>0.000000</td>\n",
       "      <td>0.0</td>\n",
       "      <td>0.0</td>\n",
       "      <td>0.0</td>\n",
       "      <td>0.0</td>\n",
       "      <td>0.0</td>\n",
       "      <td>0.0</td>\n",
       "      <td>0.000000</td>\n",
       "      <td>0.0</td>\n",
       "      <td>0.000000</td>\n",
       "      <td>0.110732</td>\n",
       "    </tr>\n",
       "    <tr>\n",
       "      <th>6</th>\n",
       "      <td>0.0</td>\n",
       "      <td>0.0</td>\n",
       "      <td>0.0</td>\n",
       "      <td>0.0</td>\n",
       "      <td>0.0</td>\n",
       "      <td>0.0</td>\n",
       "      <td>0.0</td>\n",
       "      <td>0.0</td>\n",
       "      <td>0.0</td>\n",
       "      <td>0.00000</td>\n",
       "      <td>0.000000</td>\n",
       "      <td>0.000000</td>\n",
       "      <td>0.0</td>\n",
       "      <td>0.0</td>\n",
       "      <td>0.0</td>\n",
       "      <td>0.00000</td>\n",
       "      <td>0.000000</td>\n",
       "      <td>0.0</td>\n",
       "      <td>0.0</td>\n",
       "      <td>0.0</td>\n",
       "      <td>0.0</td>\n",
       "      <td>0.0</td>\n",
       "      <td>0.000000</td>\n",
       "      <td>0.0</td>\n",
       "      <td>0.0</td>\n",
       "      <td>0.0</td>\n",
       "      <td>0.000000</td>\n",
       "      <td>0.0</td>\n",
       "      <td>0.0</td>\n",
       "      <td>0.0</td>\n",
       "      <td>0.0</td>\n",
       "      <td>0.0</td>\n",
       "      <td>0.0</td>\n",
       "      <td>0.000000</td>\n",
       "      <td>0.0</td>\n",
       "      <td>0.0</td>\n",
       "      <td>0.0</td>\n",
       "      <td>0.0</td>\n",
       "      <td>0.0</td>\n",
       "      <td>0.000000</td>\n",
       "      <td>...</td>\n",
       "      <td>0.0</td>\n",
       "      <td>0.0</td>\n",
       "      <td>0.0</td>\n",
       "      <td>0.0</td>\n",
       "      <td>0.0</td>\n",
       "      <td>0.0</td>\n",
       "      <td>0.0</td>\n",
       "      <td>0.0</td>\n",
       "      <td>0.0</td>\n",
       "      <td>0.0</td>\n",
       "      <td>0.0</td>\n",
       "      <td>0.0</td>\n",
       "      <td>0.000000</td>\n",
       "      <td>0.0</td>\n",
       "      <td>0.00000</td>\n",
       "      <td>0.0</td>\n",
       "      <td>0.0</td>\n",
       "      <td>0.0</td>\n",
       "      <td>0.0</td>\n",
       "      <td>0.00000</td>\n",
       "      <td>0.0</td>\n",
       "      <td>0.0</td>\n",
       "      <td>0.0</td>\n",
       "      <td>0.0</td>\n",
       "      <td>0.0</td>\n",
       "      <td>0.0</td>\n",
       "      <td>0.0</td>\n",
       "      <td>0.0</td>\n",
       "      <td>0.0</td>\n",
       "      <td>0.112562</td>\n",
       "      <td>0.0</td>\n",
       "      <td>0.0</td>\n",
       "      <td>0.0</td>\n",
       "      <td>0.0</td>\n",
       "      <td>0.0</td>\n",
       "      <td>0.0</td>\n",
       "      <td>0.119801</td>\n",
       "      <td>0.0</td>\n",
       "      <td>0.106947</td>\n",
       "      <td>0.000000</td>\n",
       "    </tr>\n",
       "    <tr>\n",
       "      <th>7</th>\n",
       "      <td>0.0</td>\n",
       "      <td>0.0</td>\n",
       "      <td>0.0</td>\n",
       "      <td>0.0</td>\n",
       "      <td>0.0</td>\n",
       "      <td>0.0</td>\n",
       "      <td>0.0</td>\n",
       "      <td>0.0</td>\n",
       "      <td>0.0</td>\n",
       "      <td>0.00000</td>\n",
       "      <td>0.000000</td>\n",
       "      <td>0.000000</td>\n",
       "      <td>0.0</td>\n",
       "      <td>0.0</td>\n",
       "      <td>0.0</td>\n",
       "      <td>0.00000</td>\n",
       "      <td>0.000000</td>\n",
       "      <td>0.0</td>\n",
       "      <td>0.0</td>\n",
       "      <td>0.0</td>\n",
       "      <td>0.0</td>\n",
       "      <td>0.0</td>\n",
       "      <td>0.000000</td>\n",
       "      <td>0.0</td>\n",
       "      <td>0.0</td>\n",
       "      <td>0.0</td>\n",
       "      <td>0.000000</td>\n",
       "      <td>0.0</td>\n",
       "      <td>0.0</td>\n",
       "      <td>0.0</td>\n",
       "      <td>0.0</td>\n",
       "      <td>0.0</td>\n",
       "      <td>0.0</td>\n",
       "      <td>0.000000</td>\n",
       "      <td>0.0</td>\n",
       "      <td>0.0</td>\n",
       "      <td>0.0</td>\n",
       "      <td>0.0</td>\n",
       "      <td>0.0</td>\n",
       "      <td>0.000000</td>\n",
       "      <td>...</td>\n",
       "      <td>0.0</td>\n",
       "      <td>0.0</td>\n",
       "      <td>0.0</td>\n",
       "      <td>0.0</td>\n",
       "      <td>0.0</td>\n",
       "      <td>0.0</td>\n",
       "      <td>1.0</td>\n",
       "      <td>0.0</td>\n",
       "      <td>0.0</td>\n",
       "      <td>0.0</td>\n",
       "      <td>0.0</td>\n",
       "      <td>0.0</td>\n",
       "      <td>0.000000</td>\n",
       "      <td>0.0</td>\n",
       "      <td>0.00000</td>\n",
       "      <td>0.0</td>\n",
       "      <td>0.0</td>\n",
       "      <td>0.0</td>\n",
       "      <td>0.0</td>\n",
       "      <td>0.00000</td>\n",
       "      <td>0.0</td>\n",
       "      <td>0.0</td>\n",
       "      <td>0.0</td>\n",
       "      <td>0.0</td>\n",
       "      <td>0.0</td>\n",
       "      <td>0.0</td>\n",
       "      <td>0.0</td>\n",
       "      <td>0.0</td>\n",
       "      <td>0.0</td>\n",
       "      <td>0.000000</td>\n",
       "      <td>0.0</td>\n",
       "      <td>0.0</td>\n",
       "      <td>0.0</td>\n",
       "      <td>0.0</td>\n",
       "      <td>0.0</td>\n",
       "      <td>0.0</td>\n",
       "      <td>0.000000</td>\n",
       "      <td>0.0</td>\n",
       "      <td>0.000000</td>\n",
       "      <td>0.000000</td>\n",
       "    </tr>\n",
       "    <tr>\n",
       "      <th>8</th>\n",
       "      <td>0.0</td>\n",
       "      <td>0.0</td>\n",
       "      <td>0.0</td>\n",
       "      <td>0.0</td>\n",
       "      <td>0.0</td>\n",
       "      <td>0.0</td>\n",
       "      <td>0.0</td>\n",
       "      <td>0.0</td>\n",
       "      <td>0.0</td>\n",
       "      <td>0.00000</td>\n",
       "      <td>0.000000</td>\n",
       "      <td>0.000000</td>\n",
       "      <td>0.0</td>\n",
       "      <td>0.0</td>\n",
       "      <td>0.0</td>\n",
       "      <td>0.00000</td>\n",
       "      <td>0.000000</td>\n",
       "      <td>0.0</td>\n",
       "      <td>0.0</td>\n",
       "      <td>0.0</td>\n",
       "      <td>0.0</td>\n",
       "      <td>0.0</td>\n",
       "      <td>0.000000</td>\n",
       "      <td>0.0</td>\n",
       "      <td>0.0</td>\n",
       "      <td>0.0</td>\n",
       "      <td>0.000000</td>\n",
       "      <td>0.0</td>\n",
       "      <td>0.0</td>\n",
       "      <td>0.0</td>\n",
       "      <td>0.0</td>\n",
       "      <td>0.0</td>\n",
       "      <td>0.0</td>\n",
       "      <td>0.000000</td>\n",
       "      <td>0.0</td>\n",
       "      <td>0.0</td>\n",
       "      <td>0.0</td>\n",
       "      <td>0.0</td>\n",
       "      <td>0.0</td>\n",
       "      <td>0.000000</td>\n",
       "      <td>...</td>\n",
       "      <td>0.0</td>\n",
       "      <td>0.0</td>\n",
       "      <td>0.0</td>\n",
       "      <td>0.0</td>\n",
       "      <td>0.0</td>\n",
       "      <td>0.0</td>\n",
       "      <td>1.0</td>\n",
       "      <td>0.0</td>\n",
       "      <td>0.0</td>\n",
       "      <td>0.0</td>\n",
       "      <td>0.0</td>\n",
       "      <td>0.0</td>\n",
       "      <td>0.000000</td>\n",
       "      <td>0.0</td>\n",
       "      <td>0.00000</td>\n",
       "      <td>0.0</td>\n",
       "      <td>0.0</td>\n",
       "      <td>0.0</td>\n",
       "      <td>0.0</td>\n",
       "      <td>0.00000</td>\n",
       "      <td>0.0</td>\n",
       "      <td>0.0</td>\n",
       "      <td>0.0</td>\n",
       "      <td>0.0</td>\n",
       "      <td>0.0</td>\n",
       "      <td>0.0</td>\n",
       "      <td>0.0</td>\n",
       "      <td>0.0</td>\n",
       "      <td>0.0</td>\n",
       "      <td>0.000000</td>\n",
       "      <td>0.0</td>\n",
       "      <td>0.0</td>\n",
       "      <td>0.0</td>\n",
       "      <td>0.0</td>\n",
       "      <td>0.0</td>\n",
       "      <td>0.0</td>\n",
       "      <td>0.000000</td>\n",
       "      <td>0.0</td>\n",
       "      <td>0.000000</td>\n",
       "      <td>0.000000</td>\n",
       "    </tr>\n",
       "    <tr>\n",
       "      <th>9</th>\n",
       "      <td>0.0</td>\n",
       "      <td>0.0</td>\n",
       "      <td>0.0</td>\n",
       "      <td>0.0</td>\n",
       "      <td>0.0</td>\n",
       "      <td>0.0</td>\n",
       "      <td>0.0</td>\n",
       "      <td>0.0</td>\n",
       "      <td>0.0</td>\n",
       "      <td>0.00000</td>\n",
       "      <td>0.000000</td>\n",
       "      <td>0.000000</td>\n",
       "      <td>0.0</td>\n",
       "      <td>0.0</td>\n",
       "      <td>0.0</td>\n",
       "      <td>0.00000</td>\n",
       "      <td>0.000000</td>\n",
       "      <td>0.0</td>\n",
       "      <td>0.0</td>\n",
       "      <td>0.0</td>\n",
       "      <td>0.0</td>\n",
       "      <td>0.0</td>\n",
       "      <td>0.000000</td>\n",
       "      <td>0.0</td>\n",
       "      <td>0.0</td>\n",
       "      <td>0.0</td>\n",
       "      <td>0.206765</td>\n",
       "      <td>0.0</td>\n",
       "      <td>0.0</td>\n",
       "      <td>0.0</td>\n",
       "      <td>0.0</td>\n",
       "      <td>0.0</td>\n",
       "      <td>0.0</td>\n",
       "      <td>0.000000</td>\n",
       "      <td>0.0</td>\n",
       "      <td>0.0</td>\n",
       "      <td>0.0</td>\n",
       "      <td>0.0</td>\n",
       "      <td>0.0</td>\n",
       "      <td>0.000000</td>\n",
       "      <td>...</td>\n",
       "      <td>0.0</td>\n",
       "      <td>0.0</td>\n",
       "      <td>0.0</td>\n",
       "      <td>0.0</td>\n",
       "      <td>0.0</td>\n",
       "      <td>0.0</td>\n",
       "      <td>0.0</td>\n",
       "      <td>0.0</td>\n",
       "      <td>0.0</td>\n",
       "      <td>0.0</td>\n",
       "      <td>0.0</td>\n",
       "      <td>0.0</td>\n",
       "      <td>0.000000</td>\n",
       "      <td>0.0</td>\n",
       "      <td>0.00000</td>\n",
       "      <td>0.0</td>\n",
       "      <td>0.0</td>\n",
       "      <td>0.0</td>\n",
       "      <td>0.0</td>\n",
       "      <td>0.00000</td>\n",
       "      <td>0.0</td>\n",
       "      <td>0.0</td>\n",
       "      <td>0.0</td>\n",
       "      <td>0.0</td>\n",
       "      <td>0.0</td>\n",
       "      <td>0.0</td>\n",
       "      <td>0.0</td>\n",
       "      <td>0.0</td>\n",
       "      <td>0.0</td>\n",
       "      <td>0.000000</td>\n",
       "      <td>0.0</td>\n",
       "      <td>0.0</td>\n",
       "      <td>0.0</td>\n",
       "      <td>0.0</td>\n",
       "      <td>0.0</td>\n",
       "      <td>0.0</td>\n",
       "      <td>0.000000</td>\n",
       "      <td>0.0</td>\n",
       "      <td>0.000000</td>\n",
       "      <td>0.000000</td>\n",
       "    </tr>\n",
       "  </tbody>\n",
       "</table>\n",
       "<p>10 rows × 738 columns</p>\n",
       "</div>"
      ],
      "text/plain": [
       "    10   11   12  1990  1991  ...  zaragoza  zoológico  éxito    último   últimos\n",
       "0  0.0  0.0  0.0   0.0   0.0  ...       0.0   0.000000    0.0  0.000000  0.000000\n",
       "1  0.0  0.0  0.0   0.0   0.0  ...       0.0   0.000000    0.0  0.000000  0.000000\n",
       "2  0.0  0.0  0.0   0.0   0.0  ...       0.0   0.000000    0.0  0.000000  0.000000\n",
       "3  0.0  0.0  0.0   0.0   0.0  ...       0.0   0.000000    0.0  0.000000  0.000000\n",
       "4  0.0  0.0  0.0   0.0   0.0  ...       0.0   0.000000    0.0  0.000000  0.000000\n",
       "5  0.0  0.0  0.0   0.0   0.0  ...       0.0   0.000000    0.0  0.000000  0.110732\n",
       "6  0.0  0.0  0.0   0.0   0.0  ...       0.0   0.119801    0.0  0.106947  0.000000\n",
       "7  0.0  0.0  0.0   0.0   0.0  ...       0.0   0.000000    0.0  0.000000  0.000000\n",
       "8  0.0  0.0  0.0   0.0   0.0  ...       0.0   0.000000    0.0  0.000000  0.000000\n",
       "9  0.0  0.0  0.0   0.0   0.0  ...       0.0   0.000000    0.0  0.000000  0.000000\n",
       "\n",
       "[10 rows x 738 columns]"
      ]
     },
     "execution_count": 43,
     "metadata": {
      "tags": []
     },
     "output_type": "execute_result"
    }
   ],
   "source": [
    "\n",
    "listcanal=canal[\"descripcion\"].tolist()\n",
    "vectores=TfidfVectorizer(max_df=0.9,min_df=2,max_features=1000)\n",
    "tfs=vectores.fit_transform(listcanal)\n",
    "nombres=vectores.get_feature_names()\n",
    "matriz=tfs.todense()\n",
    "matlist=matriz.tolist()\n",
    "finalm=pd.DataFrame(matlist,columns=nombres)\n",
    "final2=finalm.transpose()\n",
    "finalm.head(10)\n"
   ]
  },
  {
   "cell_type": "code",
   "execution_count": null,
   "metadata": {
    "application/vnd.databricks.v1+cell": {
     "inputWidgets": {},
     "nuid": "ec6052f6-cfd2-4a9a-9985-fd0b210917ed",
     "showTitle": false,
     "title": ""
    },
    "colab": {
     "base_uri": "https://localhost:8080/"
    },
    "executionInfo": {
     "elapsed": 436,
     "status": "ok",
     "timestamp": 1620245817267,
     "user": {
      "displayName": "Jorge Andrés Alvarado",
      "photoUrl": "https://lh3.googleusercontent.com/a-/AOh14Gjswgjr-dpsb8qToq_658bd-POx30Oqup6RBBFA=s64",
      "userId": "16955788008997872737"
     },
     "user_tz": 300
    },
    "id": "uPj6Iu3xFa1c",
    "outputId": "ed264b11-2901-4f33-e5a3-b7c147f68e6a"
   },
   "outputs": [
    {
     "data": {
      "text/plain": [
       "(128, 738)"
      ]
     },
     "execution_count": 45,
     "metadata": {
      "tags": []
     },
     "output_type": "execute_result"
    }
   ],
   "source": [
    "finalm.shape"
   ]
  },
  {
   "cell_type": "markdown",
   "metadata": {
    "application/vnd.databricks.v1+cell": {
     "inputWidgets": {},
     "nuid": "c5805cbb-ae40-4118-bf2d-65cd4c96803d",
     "showTitle": false,
     "title": ""
    },
    "id": "B7ZmeCxOFa1c"
   },
   "source": [
    "Calculamos la similitud coseno entre canales"
   ]
  },
  {
   "cell_type": "code",
   "execution_count": null,
   "metadata": {
    "application/vnd.databricks.v1+cell": {
     "inputWidgets": {},
     "nuid": "ceac382d-b668-4006-9c99-13beb255ef8d",
     "showTitle": false,
     "title": ""
    },
    "colab": {
     "base_uri": "https://localhost:8080/"
    },
    "executionInfo": {
     "elapsed": 451,
     "status": "ok",
     "timestamp": 1620245840709,
     "user": {
      "displayName": "Jorge Andrés Alvarado",
      "photoUrl": "https://lh3.googleusercontent.com/a-/AOh14Gjswgjr-dpsb8qToq_658bd-POx30Oqup6RBBFA=s64",
      "userId": "16955788008997872737"
     },
     "user_tz": 300
    },
    "id": "vRQDQYzPFa1c",
    "outputId": "ac028726-b8a2-4179-9d3c-bb97c3dae573"
   },
   "outputs": [
    {
     "data": {
      "text/plain": [
       "array([[1.        , 0.0205017 , 0.21784372, 0.111739  , 0.23906156],\n",
       "       [0.0205017 , 1.        , 0.03874311, 0.17893965, 0.03078678],\n",
       "       [0.21784372, 0.03874311, 1.        , 0.11023448, 0.44038309],\n",
       "       [0.111739  , 0.17893965, 0.11023448, 1.        , 0.0978965 ],\n",
       "       [0.23906156, 0.03078678, 0.44038309, 0.0978965 , 1.        ]])"
      ]
     },
     "execution_count": 46,
     "metadata": {
      "tags": []
     },
     "output_type": "execute_result"
    }
   ],
   "source": [
    "similitudes=cosine_similarity(finalm[0:129],finalm[0:129])\n",
    "similitudes[0:5,0:5]\n"
   ]
  },
  {
   "cell_type": "markdown",
   "metadata": {
    "application/vnd.databricks.v1+cell": {
     "inputWidgets": {},
     "nuid": "d2ac20fc-0553-421b-8d4e-532ffe5f998f",
     "showTitle": false,
     "title": ""
    },
    "id": "7OaV1V0hFa1d"
   },
   "source": [
    "para aplicar K-means debemos normalizar la distancia coseno"
   ]
  },
  {
   "cell_type": "code",
   "execution_count": null,
   "metadata": {
    "application/vnd.databricks.v1+cell": {
     "inputWidgets": {},
     "nuid": "8adeb537-ef83-4a33-b807-6a1966bea11a",
     "showTitle": false,
     "title": ""
    },
    "colab": {
     "base_uri": "https://localhost:8080/"
    },
    "executionInfo": {
     "elapsed": 434,
     "status": "ok",
     "timestamp": 1620245848606,
     "user": {
      "displayName": "Jorge Andrés Alvarado",
      "photoUrl": "https://lh3.googleusercontent.com/a-/AOh14Gjswgjr-dpsb8qToq_658bd-POx30Oqup6RBBFA=s64",
      "userId": "16955788008997872737"
     },
     "user_tz": 300
    },
    "id": "sTgEqlvqFa1d",
    "outputId": "3342ab5a-bc35-4773-c661-60014d6851c5"
   },
   "outputs": [
    {
     "name": "stderr",
     "output_type": "stream",
     "text": [
      "/usr/local/lib/python3.7/dist-packages/ipykernel_launcher.py:2: FutureWarning: Support for multi-dimensional indexing (e.g. `obj[:, None]`) is deprecated and will be removed in a future version.  Convert to a numpy array before indexing instead.\n",
      "  \n"
     ]
    }
   ],
   "source": [
    "import numpy as np\n",
    "length = np.sqrt((finalm**2).sum(axis=1))[:,None]\n",
    "finalm2 = finalm / length\n"
   ]
  },
  {
   "cell_type": "markdown",
   "metadata": {
    "application/vnd.databricks.v1+cell": {
     "inputWidgets": {},
     "nuid": "8ebc3ab6-7d48-41d0-9eaf-d3d55347e877",
     "showTitle": false,
     "title": ""
    },
    "id": "QGU-eTBmFa1d"
   },
   "source": [
    "para aplicar k-medias miramos el gráfico de codo y así proponer un número de clusteres"
   ]
  },
  {
   "cell_type": "code",
   "execution_count": null,
   "metadata": {
    "application/vnd.databricks.v1+cell": {
     "inputWidgets": {},
     "nuid": "dcf0e732-e8a4-435e-8407-34a05cb32f93",
     "showTitle": false,
     "title": ""
    },
    "colab": {
     "base_uri": "https://localhost:8080/",
     "height": 313
    },
    "executionInfo": {
     "elapsed": 16411,
     "status": "ok",
     "timestamp": 1620245871436,
     "user": {
      "displayName": "Jorge Andrés Alvarado",
      "photoUrl": "https://lh3.googleusercontent.com/a-/AOh14Gjswgjr-dpsb8qToq_658bd-POx30Oqup6RBBFA=s64",
      "userId": "16955788008997872737"
     },
     "user_tz": 300
    },
    "id": "TnAQY30fFa1d",
    "outputId": "a938ff3f-729f-4eac-9026-400062363478"
   },
   "outputs": [
    {
     "data": {
      "image/png": "[encoded data removed]",
      "text/plain": [
       "<Figure size 432x288 with 1 Axes>"
      ]
     },
     "metadata": {
      "needs_background": "light",
      "tags": []
     },
     "output_type": "display_data"
    },
    {
     "data": {
      "text/plain": [
       "None"
      ]
     },
     "metadata": {
      "tags": []
     },
     "output_type": "display_data"
    }
   ],
   "source": [
    "from sklearn.cluster import KMeans\n",
    "import matplotlib\n",
    "import matplotlib.pyplot as plt\n",
    "\n",
    "Nc = range(1, 50)\n",
    "kmeans = [KMeans(n_clusters=i) for i in Nc]\n",
    "score = [kmeans[i].fit(finalm2).score(finalm2) for i in range(len(kmeans))]\n",
    "score\n",
    "plt.plot(Nc,score)\n",
    "plt.xlabel('Number of Clusters')\n",
    "plt.ylabel('Score')\n",
    "plt.title('Elbow Curve')\n",
    "codo=plt.show()\n",
    "display(codo)"
   ]
  },
  {
   "cell_type": "markdown",
   "metadata": {
    "application/vnd.databricks.v1+cell": {
     "inputWidgets": {},
     "nuid": "c6e17dec-a8d6-4c62-829a-1c6e731e4bc3",
     "showTitle": false,
     "title": ""
    },
    "id": "QR_p0WSPFa1e"
   },
   "source": [
    "Ejecutamos un k-medias y miramos sus resultados"
   ]
  },
  {
   "cell_type": "code",
   "execution_count": null,
   "metadata": {
    "application/vnd.databricks.v1+cell": {
     "inputWidgets": {},
     "nuid": "70f70e2d-2443-40c1-8057-f7df140600c1",
     "showTitle": false,
     "title": ""
    },
    "colab": {
     "base_uri": "https://localhost:8080/"
    },
    "executionInfo": {
     "elapsed": 705,
     "status": "ok",
     "timestamp": 1620245878371,
     "user": {
      "displayName": "Jorge Andrés Alvarado",
      "photoUrl": "https://lh3.googleusercontent.com/a-/AOh14Gjswgjr-dpsb8qToq_658bd-POx30Oqup6RBBFA=s64",
      "userId": "16955788008997872737"
     },
     "user_tz": 300
    },
    "id": "oMQ7vu2pFa1e",
    "outputId": "a59dde37-203c-4809-8de7-a1dd0b1ed97c"
   },
   "outputs": [
    {
     "name": "stdout",
     "output_type": "stream",
     "text": [
      "[[ 0.00000000e+00  3.56308691e-02  0.00000000e+00 ...  3.79222117e-02\n",
      "   0.00000000e+00  0.00000000e+00]\n",
      " [ 0.00000000e+00  8.67361738e-19  6.91768511e-03 ...  6.50521303e-19\n",
      "   3.24105472e-03  2.51662857e-03]\n",
      " [ 0.00000000e+00  0.00000000e+00  0.00000000e+00 ...  0.00000000e+00\n",
      "   0.00000000e+00  0.00000000e+00]\n",
      " ...\n",
      " [ 0.00000000e+00  4.33680869e-19  2.12434049e-02 ... -2.16840434e-19\n",
      "  -8.67361738e-19  0.00000000e+00]\n",
      " [ 0.00000000e+00  0.00000000e+00 -8.67361738e-19 ...  2.16840434e-19\n",
      "   0.00000000e+00  0.00000000e+00]\n",
      " [ 0.00000000e+00  0.00000000e+00  0.00000000e+00 ...  0.00000000e+00\n",
      "   0.00000000e+00  0.00000000e+00]]\n"
     ]
    }
   ],
   "source": [
    "kmeans = KMeans(n_clusters=10).fit(finalm2)\n",
    "centroids = kmeans.cluster_centers_\n",
    "print(centroids)\n",
    "\n"
   ]
  },
  {
   "cell_type": "code",
   "execution_count": null,
   "metadata": {
    "application/vnd.databricks.v1+cell": {
     "inputWidgets": {},
     "nuid": "38679f2f-728d-4467-84bc-d5f31c91a887",
     "showTitle": false,
     "title": ""
    },
    "colab": {
     "base_uri": "https://localhost:8080/",
     "height": 424
    },
    "executionInfo": {
     "elapsed": 482,
     "status": "ok",
     "timestamp": 1620245885648,
     "user": {
      "displayName": "Jorge Andrés Alvarado",
      "photoUrl": "https://lh3.googleusercontent.com/a-/AOh14Gjswgjr-dpsb8qToq_658bd-POx30Oqup6RBBFA=s64",
      "userId": "16955788008997872737"
     },
     "user_tz": 300
    },
    "id": "vNRUUrYVFa1e",
    "outputId": "23b78a5b-7ed4-4c7f-9f65-95b6c924dcb3"
   },
   "outputs": [
    {
     "data": {
      "text/html": [
       "<div>\n",
       "<style scoped>\n",
       "    .dataframe tbody tr th:only-of-type {\n",
       "        vertical-align: middle;\n",
       "    }\n",
       "\n",
       "    .dataframe tbody tr th {\n",
       "        vertical-align: top;\n",
       "    }\n",
       "\n",
       "    .dataframe thead th {\n",
       "        text-align: right;\n",
       "    }\n",
       "</style>\n",
       "<table border=\"1\" class=\"dataframe\">\n",
       "  <thead>\n",
       "    <tr style=\"text-align: right;\">\n",
       "      <th></th>\n",
       "      <th>id</th>\n",
       "      <th>canal</th>\n",
       "      <th>descripcion</th>\n",
       "      <th>cluster</th>\n",
       "    </tr>\n",
       "  </thead>\n",
       "  <tbody>\n",
       "    <tr>\n",
       "      <th>12</th>\n",
       "      <td>13</td>\n",
       "      <td>Azteca Uno -1 Hr.</td>\n",
       "      <td>No encontré información</td>\n",
       "      <td>0</td>\n",
       "    </tr>\n",
       "    <tr>\n",
       "      <th>96</th>\n",
       "      <td>97</td>\n",
       "      <td>Once Ninos</td>\n",
       "      <td>Canal 11 (actualmente estilizado como once), e...</td>\n",
       "      <td>0</td>\n",
       "    </tr>\n",
       "    <tr>\n",
       "      <th>32</th>\n",
       "      <td>33</td>\n",
       "      <td>Canal Once</td>\n",
       "      <td>Canal 11 es la primera cadena de televisión ed...</td>\n",
       "      <td>0</td>\n",
       "    </tr>\n",
       "    <tr>\n",
       "      <th>57</th>\n",
       "      <td>58</td>\n",
       "      <td>Foro Tv</td>\n",
       "      <td>Canal enfocado principalmente a los noticieros...</td>\n",
       "      <td>0</td>\n",
       "    </tr>\n",
       "    <tr>\n",
       "      <th>13</th>\n",
       "      <td>14</td>\n",
       "      <td>Azteca Uno -2 Hrs.</td>\n",
       "      <td>No encontré información</td>\n",
       "      <td>0</td>\n",
       "    </tr>\n",
       "    <tr>\n",
       "      <th>...</th>\n",
       "      <td>...</td>\n",
       "      <td>...</td>\n",
       "      <td>...</td>\n",
       "      <td>...</td>\n",
       "    </tr>\n",
       "    <tr>\n",
       "      <th>0</th>\n",
       "      <td>1</td>\n",
       "      <td>6.1 Multimedios Guadalajara</td>\n",
       "      <td>Además de la programación de noticieros y depo...</td>\n",
       "      <td>6</td>\n",
       "    </tr>\n",
       "    <tr>\n",
       "      <th>63</th>\n",
       "      <td>64</td>\n",
       "      <td>FX</td>\n",
       "      <td>Canal orientado a jóvenes y adultos. Emite ser...</td>\n",
       "      <td>6</td>\n",
       "    </tr>\n",
       "    <tr>\n",
       "      <th>76</th>\n",
       "      <td>77</td>\n",
       "      <td>La Octava</td>\n",
       "      <td>XHFAMX-TDT es una estación de televisión comer...</td>\n",
       "      <td>6</td>\n",
       "    </tr>\n",
       "    <tr>\n",
       "      <th>17</th>\n",
       "      <td>18</td>\n",
       "      <td>Boomerang</td>\n",
       "      <td>Boomerang es un canal de televisión por suscri...</td>\n",
       "      <td>6</td>\n",
       "    </tr>\n",
       "    <tr>\n",
       "      <th>50</th>\n",
       "      <td>51</td>\n",
       "      <td>E! Entertainment</td>\n",
       "      <td>Canal en que se transmiten trailers de películ...</td>\n",
       "      <td>6</td>\n",
       "    </tr>\n",
       "  </tbody>\n",
       "</table>\n",
       "<p>100 rows × 4 columns</p>\n",
       "</div>"
      ],
      "text/plain": [
       "    id  ... cluster\n",
       "12  13  ...       0\n",
       "96  97  ...       0\n",
       "32  33  ...       0\n",
       "57  58  ...       0\n",
       "13  14  ...       0\n",
       "..  ..  ...     ...\n",
       "0    1  ...       6\n",
       "63  64  ...       6\n",
       "76  77  ...       6\n",
       "17  18  ...       6\n",
       "50  51  ...       6\n",
       "\n",
       "[100 rows x 4 columns]"
      ]
     },
     "execution_count": 50,
     "metadata": {
      "tags": []
     },
     "output_type": "execute_result"
    }
   ],
   "source": [
    "labels = pd.DataFrame(kmeans.predict(finalm2))\n",
    "totalcl=pd.concat([canal,labels],axis=1)\n",
    "totalcl.columns=[\"id\",\"canal\",\"descripcion\",\"cluster\"]\n",
    "totalcl.sort_values(by=['cluster'], inplace=True)\n",
    "totalcl.head(100)\n"
   ]
  },
  {
   "cell_type": "markdown",
   "metadata": {
    "application/vnd.databricks.v1+cell": {
     "inputWidgets": {},
     "nuid": "538eaa1f-a030-4c96-9c02-1a89a7906441",
     "showTitle": false,
     "title": ""
    },
    "id": "gy30Af0JFa1f"
   },
   "source": [
    "##Generación de lenguaje natural\n",
    "Los generadores de lenguaje natural tiene como objetivo predecir, dado un texto anterior, el texto que viene después. Si bien su aplicación inicial es simplemente ser predictores de texto, se han convertido en herramienta fundamental para las aplicaciones modernas de NLP, pues generan una representación del lenguaje. Miremos:"
   ]
  },
  {
   "cell_type": "code",
   "execution_count": 32,
   "metadata": {
    "application/vnd.databricks.v1+cell": {
     "inputWidgets": {},
     "nuid": "1052ac0c-3268-48b7-9b1f-206751ee9bd6",
     "showTitle": false,
     "title": ""
    },
    "executionInfo": {
     "elapsed": 214,
     "status": "ok",
     "timestamp": 1634668591222,
     "user": {
      "displayName": "Jorge Andrés Alvarado",
      "photoUrl": "https://lh3.googleusercontent.com/a-/AOh14Gjswgjr-dpsb8qToq_658bd-POx30Oqup6RBBFA=s64",
      "userId": "16955788008997872737"
     },
     "user_tz": 300
    },
    "id": "-7VpS7DhFa1f"
   },
   "outputs": [],
   "source": [
    "import nltk \n",
    "from nltk import bigrams, trigrams\n",
    "\n",
    "from collections import Counter, defaultdict\n",
    "\n",
    "       \n",
    "candido=corpusesp.words(\"candido-de-voltaire.txt\")\n",
    "\n",
    "pares=nltk.bigrams(candido)\n",
    "generator=nltk.ConditionalFreqDist(pares)\n",
    "\n",
    "##de pronto cambiar a 3 para hablar de predictor de texto\"\n",
    "def predictor(dist,palabra,num):\n",
    "    for i in range(num):\n",
    "        print(palabra,end=\" \")\n",
    "        palabra=dist[palabra].max()\n",
    "\n"
   ]
  },
  {
   "cell_type": "code",
   "execution_count": 33,
   "metadata": {
    "application/vnd.databricks.v1+cell": {
     "inputWidgets": {},
     "nuid": "e80a0294-6541-43c9-88ba-cf2e3b8a2c3d",
     "showTitle": false,
     "title": ""
    },
    "colab": {
     "base_uri": "https://localhost:8080/"
    },
    "executionInfo": {
     "elapsed": 263,
     "status": "ok",
     "timestamp": 1634668596922,
     "user": {
      "displayName": "Jorge Andrés Alvarado",
      "photoUrl": "https://lh3.googleusercontent.com/a-/AOh14Gjswgjr-dpsb8qToq_658bd-POx30Oqup6RBBFA=s64",
      "userId": "16955788008997872737"
     },
     "user_tz": 300
    },
    "id": "0ddvtwbGFa1f",
    "outputId": "e4eebd49-326e-411e-c65d-ad24a4e52656"
   },
   "outputs": [
    {
     "name": "stdout",
     "output_type": "stream",
     "text": [
      "vieja , y el señor baron , y el señor baron , "
     ]
    }
   ],
   "source": [
    "#probar vieja, hizo, real#        \n",
    "predictor(generator,\"vieja\",12)\n"
   ]
  },
  {
   "cell_type": "code",
   "execution_count": null,
   "metadata": {
    "application/vnd.databricks.v1+cell": {
     "inputWidgets": {},
     "nuid": "e2c5d9a2-6004-43e3-bd9e-86dc97dd9395",
     "showTitle": false,
     "title": ""
    },
    "colab": {
     "base_uri": "https://localhost:8080/"
    },
    "executionInfo": {
     "elapsed": 506,
     "status": "ok",
     "timestamp": 1620245990048,
     "user": {
      "displayName": "Jorge Andrés Alvarado",
      "photoUrl": "https://lh3.googleusercontent.com/a-/AOh14Gjswgjr-dpsb8qToq_658bd-POx30Oqup6RBBFA=s64",
      "userId": "16955788008997872737"
     },
     "user_tz": 300
    },
    "id": "Fb4E8a4mFa1f",
    "outputId": "f0ce7f50-b4a1-4e2b-8c81-91567bc667bc"
   },
   "outputs": [
    {
     "data": {
      "text/plain": [
       "FreqDist({',': 15,\n",
       "          '.': 10,\n",
       "          ';': 7,\n",
       "          'anduviéron': 1,\n",
       "          'atravesáron': 1,\n",
       "          'cayó': 1,\n",
       "          'con': 1,\n",
       "          'cuidaba': 1,\n",
       "          'dando': 1,\n",
       "          'de': 1,\n",
       "          'el': 1,\n",
       "          'en': 4,\n",
       "          'estan': 1,\n",
       "          'habia': 1,\n",
       "          'la': 1,\n",
       "          'los': 1,\n",
       "          'quando': 1,\n",
       "          'que': 3,\n",
       "          'razon': 1,\n",
       "          'remedió': 2,\n",
       "          'se': 2,\n",
       "          'á': 3})"
      ]
     },
     "execution_count": 54,
     "metadata": {
      "tags": []
     },
     "output_type": "execute_result"
    }
   ],
   "source": [
    "generator[\"vieja\"]"
   ]
  },
  {
   "cell_type": "markdown",
   "metadata": {
    "id": "wTyeV1KzyYl1"
   },
   "source": [
    "Ahora vamos a hacer un generador más complejo (basado en un ejemplo visto en analyticsvidtha). Creo un contenedor de modelo:"
   ]
  },
  {
   "cell_type": "code",
   "execution_count": 34,
   "metadata": {
    "colab": {
     "base_uri": "https://localhost:8080/"
    },
    "executionInfo": {
     "elapsed": 2388,
     "status": "ok",
     "timestamp": 1634668604700,
     "user": {
      "displayName": "Jorge Andrés Alvarado",
      "photoUrl": "https://lh3.googleusercontent.com/a-/AOh14Gjswgjr-dpsb8qToq_658bd-POx30Oqup6RBBFA=s64",
      "userId": "16955788008997872737"
     },
     "user_tz": 300
    },
    "id": "9fbTPyKfyPh1",
    "outputId": "bec9b455-cc0b-4bea-f42b-98fd102704d9"
   },
   "outputs": [
    {
     "name": "stdout",
     "output_type": "stream",
     "text": [
      "[nltk_data] Downloading package punkt to /root/nltk_data...\n",
      "[nltk_data]   Package punkt is already up-to-date!\n"
     ]
    },
    {
     "data": {
      "text/plain": [
       "['don',\n",
       " 'quijote',\n",
       " '***',\n",
       " 'produced',\n",
       " 'by',\n",
       " 'an',\n",
       " 'anonymous',\n",
       " 'project',\n",
       " 'gutenberg',\n",
       " 'volunteer',\n",
       " '.',\n",
       " 'text',\n",
       " 'file',\n",
       " 'corrections',\n",
       " 'and',\n",
       " 'new',\n",
       " 'html',\n",
       " 'file',\n",
       " 'by',\n",
       " 'joaquin',\n",
       " 'cuenca',\n",
       " 'abela',\n",
       " '.',\n",
       " 'el',\n",
       " 'ingenioso',\n",
       " 'hidalgo',\n",
       " 'don',\n",
       " 'quijote',\n",
       " 'de',\n",
       " 'la',\n",
       " 'mancha',\n",
       " 'tasa',\n",
       " 'yo',\n",
       " ',',\n",
       " 'juan',\n",
       " 'gallo',\n",
       " 'de',\n",
       " 'andrada',\n",
       " ',',\n",
       " 'escribano',\n",
       " 'de',\n",
       " 'cámara',\n",
       " 'del',\n",
       " 'rey',\n",
       " 'nuestro',\n",
       " 'señor',\n",
       " ',',\n",
       " 'de',\n",
       " 'los',\n",
       " 'que',\n",
       " 'residen',\n",
       " 'en',\n",
       " 'su',\n",
       " 'consejo',\n",
       " ',',\n",
       " 'certifico',\n",
       " 'y',\n",
       " 'doy',\n",
       " 'fe',\n",
       " 'que',\n",
       " ',',\n",
       " 'habiendo',\n",
       " 'visto',\n",
       " 'por',\n",
       " 'los',\n",
       " 'señores',\n",
       " 'dél',\n",
       " 'un',\n",
       " 'libro',\n",
       " 'intitulado',\n",
       " 'el',\n",
       " 'ingenioso',\n",
       " 'hidalgo',\n",
       " 'de',\n",
       " 'la',\n",
       " 'mancha',\n",
       " ',',\n",
       " 'compuesto',\n",
       " 'por',\n",
       " 'miguel',\n",
       " 'de',\n",
       " 'cervantes',\n",
       " 'saavedra',\n",
       " ',',\n",
       " 'tasaron',\n",
       " 'cada',\n",
       " 'pliego',\n",
       " 'del',\n",
       " 'dicho',\n",
       " 'libro',\n",
       " 'a',\n",
       " 'tres',\n",
       " 'maravedís',\n",
       " 'y',\n",
       " 'medio',\n",
       " ';',\n",
       " 'el',\n",
       " 'cual',\n",
       " 'tiene']"
      ]
     },
     "execution_count": 34,
     "metadata": {},
     "output_type": "execute_result"
    }
   ],
   "source": [
    "import nltk\n",
    "nltk.download('punkt')\n",
    "model = defaultdict(lambda: defaultdict(lambda: 0))\n",
    "prueba3=nltk.word_tokenize(contents[3])\n",
    "prueba3[1:100]\n"
   ]
  },
  {
   "cell_type": "markdown",
   "metadata": {
    "id": "JfZTy_OZykFU"
   },
   "source": [
    "Cuento las frecuencias de co-ocurrencias en trigramas"
   ]
  },
  {
   "cell_type": "code",
   "execution_count": 35,
   "metadata": {
    "executionInfo": {
     "elapsed": 1531,
     "status": "ok",
     "timestamp": 1634668611174,
     "user": {
      "displayName": "Jorge Andrés Alvarado",
      "photoUrl": "https://lh3.googleusercontent.com/a-/AOh14Gjswgjr-dpsb8qToq_658bd-POx30Oqup6RBBFA=s64",
      "userId": "16955788008997872737"
     },
     "user_tz": 300
    },
    "id": "pJQhRamiytcw"
   },
   "outputs": [],
   "source": [
    "   for w1, w2, w3 in trigrams(prueba3, pad_right=True, pad_left=True):\n",
    "        model[(w1, w2)][w3] += 1"
   ]
  },
  {
   "cell_type": "markdown",
   "metadata": {
    "id": "JunWnIEWyzV4"
   },
   "source": [
    "Transformo en probabilidades"
   ]
  },
  {
   "cell_type": "code",
   "execution_count": 36,
   "metadata": {
    "colab": {
     "base_uri": "https://localhost:8080/"
    },
    "executionInfo": {
     "elapsed": 598,
     "status": "ok",
     "timestamp": 1634668614375,
     "user": {
      "displayName": "Jorge Andrés Alvarado",
      "photoUrl": "https://lh3.googleusercontent.com/a-/AOh14Gjswgjr-dpsb8qToq_658bd-POx30Oqup6RBBFA=s64",
      "userId": "16955788008997872737"
     },
     "user_tz": 300
    },
    "id": "snSa741xy1zT",
    "outputId": "41d6d09a-f0d5-4b95-e23b-9ea591329613"
   },
   "outputs": [
    {
     "data": {
      "text/plain": [
       "{',': 0.08695652173913043,\n",
       " 'a': 0.043478260869565216,\n",
       " 'al': 0.043478260869565216,\n",
       " 'con': 0.043478260869565216,\n",
       " 'de': 0.2608695652173913,\n",
       " 'en': 0.08695652173913043,\n",
       " 'está': 0.043478260869565216,\n",
       " 'lleno': 0.043478260869565216,\n",
       " 'mostraba': 0.043478260869565216,\n",
       " 'no': 0.08695652173913043,\n",
       " 'pegaso': 0.043478260869565216,\n",
       " 'quedó': 0.043478260869565216,\n",
       " 'relinche': 0.043478260869565216,\n",
       " 'se': 0.043478260869565216,\n",
       " 'y': 0.043478260869565216}"
      ]
     },
     "execution_count": 36,
     "metadata": {},
     "output_type": "execute_result"
    }
   ],
   "source": [
    "for w1_w2 in model:\n",
    "    total_count = float(sum(model[w1_w2].values()))\n",
    "    for w3 in model[w1_w2]:\n",
    "        model[w1_w2][w3] /= total_count\n",
    "\n",
    "dict(model[\"el\",\"caballo\"])\n"
   ]
  },
  {
   "cell_type": "markdown",
   "metadata": {
    "id": "VmS2P7NYy6mI"
   },
   "source": [
    "Primer modelo: con palabras máximas"
   ]
  },
  {
   "cell_type": "code",
   "execution_count": 37,
   "metadata": {
    "colab": {
     "base_uri": "https://localhost:8080/"
    },
    "executionInfo": {
     "elapsed": 226,
     "status": "ok",
     "timestamp": 1634668632785,
     "user": {
      "displayName": "Jorge Andrés Alvarado",
      "photoUrl": "https://lh3.googleusercontent.com/a-/AOh14Gjswgjr-dpsb8qToq_658bd-POx30Oqup6RBBFA=s64",
      "userId": "16955788008997872737"
     },
     "user_tz": 300
    },
    "id": "aNXEMdEmy9CA",
    "outputId": "08e06f4c-ade0-4ae0-80ec-0b2ccaebf223"
   },
   "outputs": [
    {
     "name": "stdout",
     "output_type": "stream",
     "text": [
      "el caballo de madera , sobre todo , y , "
     ]
    }
   ],
   "source": [
    "def mln(pal1, pal2, num=10):\n",
    "    for i in range(num):\n",
    "        base=dict(model[pal1,pal2])\n",
    "        print(pal1, end=\" \")\n",
    "        pal1=pal2\n",
    "        pal2=max(base,key=base.get)\n",
    "\n",
    "\n",
    "mln(\"el\",\"caballo\")\n"
   ]
  },
  {
   "cell_type": "code",
   "execution_count": 38,
   "metadata": {
    "colab": {
     "base_uri": "https://localhost:8080/"
    },
    "executionInfo": {
     "elapsed": 233,
     "status": "ok",
     "timestamp": 1634668636696,
     "user": {
      "displayName": "Jorge Andrés Alvarado",
      "photoUrl": "https://lh3.googleusercontent.com/a-/AOh14Gjswgjr-dpsb8qToq_658bd-POx30Oqup6RBBFA=s64",
      "userId": "16955788008997872737"
     },
     "user_tz": 300
    },
    "id": "4qEElO1zzBEE",
    "outputId": "cb05cdbe-5a20-42b8-fc07-2f67de7385b0"
   },
   "outputs": [
    {
     "name": "stdout",
     "output_type": "stream",
     "text": [
      "don quijote , y , en el mundo , y "
     ]
    }
   ],
   "source": [
    "mln(\"don\", \"quijote\")\n"
   ]
  },
  {
   "cell_type": "markdown",
   "metadata": {
    "id": "PR_D-p4ZzCp6"
   },
   "source": [
    "Se crea un problema debido a los bucles o ciclos. Es mejor escoger una palabra aleatoria al menos."
   ]
  },
  {
   "cell_type": "code",
   "execution_count": 39,
   "metadata": {
    "colab": {
     "base_uri": "https://localhost:8080/"
    },
    "executionInfo": {
     "elapsed": 248,
     "status": "ok",
     "timestamp": 1634668640736,
     "user": {
      "displayName": "Jorge Andrés Alvarado",
      "photoUrl": "https://lh3.googleusercontent.com/a-/AOh14Gjswgjr-dpsb8qToq_658bd-POx30Oqup6RBBFA=s64",
      "userId": "16955788008997872737"
     },
     "user_tz": 300
    },
    "id": "-2B1yzjFzay2",
    "outputId": "72a5d684-daac-44fc-b6f5-a1952d5442e5"
   },
   "outputs": [
    {
     "name": "stdout",
     "output_type": "stream",
     "text": [
      "el caballo a un prado fuera de todo lo miraba atentamente , creyó todo lo que dijo camila : » -lotario , advierte lo que no es deshonra llamar hijo de un tal caballero es temerario y atrevido caballero que aquí pone el que traemos entre manos , y con este hechicero , con endriagos y con esto , comenzó a decir tantos denuestos y baldones a los escuderos dijo en alta voz radamanto- . ablándate , tigre ; humíllate , nembrot soberbio , no los sabía leer ni escrebir ; mas llegar uno por verla , y de los\n"
     ]
    }
   ],
   "source": [
    "text = [\"el\", \"caballo\"]\n",
    "\n",
    "sentence_finished = False\n",
    " \n",
    "while not sentence_finished:\n",
    "  # select a random probability threshold  \n",
    "  r = random.random()\n",
    "  accumulator = .0\n",
    "\n",
    "  for word in model[tuple(text[-2:])].keys():\n",
    "      accumulator += model[tuple(text[-2:])][word]\n",
    "      # select words that are above the probability threshold\n",
    "      if accumulator >= r:\n",
    "          text.append(word)\n",
    "          break\n",
    "\n",
    "  if text[-2:] == [None, None]:\n",
    "      sentence_finished = True\n",
    "\n",
    "  if len(text)==100:\n",
    "      sentence_finished = True\n",
    " \n",
    "print (' '.join([t for t in text if t]))\n"
   ]
  },
  {
   "cell_type": "markdown",
   "metadata": {
    "id": "LfibvSpzzhdH"
   },
   "source": [
    "O aun mejor, con palabras proporcionales a su probabilidad"
   ]
  },
  {
   "cell_type": "code",
   "execution_count": 40,
   "metadata": {
    "colab": {
     "base_uri": "https://localhost:8080/",
     "height": 91
    },
    "executionInfo": {
     "elapsed": 232,
     "status": "ok",
     "timestamp": 1634668650204,
     "user": {
      "displayName": "Jorge Andrés Alvarado",
      "photoUrl": "https://lh3.googleusercontent.com/a-/AOh14Gjswgjr-dpsb8qToq_658bd-POx30Oqup6RBBFA=s64",
      "userId": "16955788008997872737"
     },
     "user_tz": 300
    },
    "id": "bFXmLnyXzks3",
    "outputId": "62f726b9-64c1-4a68-af21-6ce1c53c1ac5"
   },
   "outputs": [
    {
     "data": {
      "application/vnd.google.colaboratory.intrinsic+json": {
       "type": "string"
      },
      "text/plain": [
       "'el caballo relinche , que está junto a sí mesmas . cuando llegaron a un lagarto que a mí me parece que no dejaban de huir ni de la mancha . la mejor vida , ya que dios me le ha sacado désta ) , que he de echar a las rigurosas manos de tristezas y melancolías . éste tiene dos hijos : el tal boticario ! de aquí adelante no me dieren de vida ; de sancho , y , llamando al ventero , que si lo tal , que aconsejar a su señor con tan buena que un cortesano caballero'"
      ]
     },
     "execution_count": 40,
     "metadata": {},
     "output_type": "execute_result"
    }
   ],
   "source": [
    "text3=\"el\"\n",
    "text4=\"caballo\"\n",
    "nueva=[text3,text4]\n",
    "i=0\n",
    "   \n",
    "while i<100:\n",
    "    temporal=random.choices(population=list(model[text3,text4].keys()),weights=list(model[text3,text4].values()),k=1)\n",
    "    nueva.append(temporal[0])\n",
    "    text3=text4\n",
    "    text4=temporal[0]    \n",
    "    i=i+1\n",
    "    \n",
    "totalcreado=\" \".join(nueva)\n",
    "totalcreado    \n"
   ]
  },
  {
   "cell_type": "markdown",
   "metadata": {
    "application/vnd.databricks.v1+cell": {
     "inputWidgets": {},
     "nuid": "69192975-26e8-4783-bf0a-8fa73b5db77e",
     "showTitle": false,
     "title": ""
    },
    "id": "rstqT9o_Fa1g"
   },
   "source": [
    "## Ontologías\n",
    "Otra manera fundamentalmente diferente de representar el lenguaje (y el conocimiento) son las ontologías.\n",
    "Vamos a explorar una de las ontologías más conocidas: Wordnet"
   ]
  },
  {
   "cell_type": "code",
   "execution_count": null,
   "metadata": {
    "application/vnd.databricks.v1+cell": {
     "inputWidgets": {},
     "nuid": "2dbf2e26-9b27-4c3b-bc2d-4593df9312cb",
     "showTitle": false,
     "title": ""
    },
    "colab": {
     "base_uri": "https://localhost:8080/"
    },
    "executionInfo": {
     "elapsed": 1861,
     "status": "ok",
     "timestamp": 1620246011782,
     "user": {
      "displayName": "Jorge Andrés Alvarado",
      "photoUrl": "https://lh3.googleusercontent.com/a-/AOh14Gjswgjr-dpsb8qToq_658bd-POx30Oqup6RBBFA=s64",
      "userId": "16955788008997872737"
     },
     "user_tz": 300
    },
    "id": "s4hkKIcSFa1g",
    "outputId": "99061bf9-af09-4fbe-9487-3d9b8bd3aa48"
   },
   "outputs": [
    {
     "name": "stdout",
     "output_type": "stream",
     "text": [
      "[nltk_data] Downloading package wordnet to /root/nltk_data...\n",
      "[nltk_data]   Unzipping corpora/wordnet.zip.\n",
      "[nltk_data] Downloading package omw to /root/nltk_data...\n",
      "[nltk_data]   Unzipping corpora/omw.zip.\n"
     ]
    }
   ],
   "source": [
    "nltk.download(\"wordnet\")\n",
    "nltk.download(\"omw\")\n",
    "\n",
    "from nltk.corpus import wordnet \n"
   ]
  },
  {
   "cell_type": "markdown",
   "metadata": {
    "application/vnd.databricks.v1+cell": {
     "inputWidgets": {},
     "nuid": "09ba7a9c-3a6d-46d2-a905-6fd9dcf0d6c4",
     "showTitle": false,
     "title": ""
    },
    "id": "w2pjq1hpFa1g"
   },
   "source": [
    "Es como tener un diccionario ampliado (tesauro) de términos, abordando de otro modo el conocimiento. Por ejemplo, ver todos los significados de una palabra."
   ]
  },
  {
   "cell_type": "code",
   "execution_count": null,
   "metadata": {
    "application/vnd.databricks.v1+cell": {
     "inputWidgets": {},
     "nuid": "bfcd3f44-eb5d-46d9-8445-710fd19617f4",
     "showTitle": false,
     "title": ""
    },
    "colab": {
     "base_uri": "https://localhost:8080/"
    },
    "executionInfo": {
     "elapsed": 2797,
     "status": "ok",
     "timestamp": 1620246020397,
     "user": {
      "displayName": "Jorge Andrés Alvarado",
      "photoUrl": "https://lh3.googleusercontent.com/a-/AOh14Gjswgjr-dpsb8qToq_658bd-POx30Oqup6RBBFA=s64",
      "userId": "16955788008997872737"
     },
     "user_tz": 300
    },
    "id": "4enKmSjbFa1g",
    "outputId": "23d1ad15-f111-4bee-9c51-6295e12cba2f"
   },
   "outputs": [
    {
     "data": {
      "text/plain": [
       "[Synset('diggings.n.02'),\n",
       " Synset('dwelling.n.01'),\n",
       " Synset('house.n.01'),\n",
       " Synset('house.n.06'),\n",
       " Synset('firm.n.01'),\n",
       " Synset('manufacturer.n.01'),\n",
       " Synset('family.n.01'),\n",
       " Synset('house.n.09'),\n",
       " Synset('home.n.03'),\n",
       " Synset('home.n.01'),\n",
       " Synset('home.n.07')]"
      ]
     },
     "execution_count": 56,
     "metadata": {
      "tags": []
     },
     "output_type": "execute_result"
    }
   ],
   "source": [
    "##extrae todos los posibles \"significados\"\n",
    "wordnet.synsets(\"casa\",lang=\"spa\")\n"
   ]
  },
  {
   "cell_type": "markdown",
   "metadata": {
    "application/vnd.databricks.v1+cell": {
     "inputWidgets": {},
     "nuid": "087fd6c8-49f2-4684-8dea-66a2d33942ab",
     "showTitle": false,
     "title": ""
    },
    "id": "HXeD7BFlFa1h"
   },
   "source": [
    "Por tanto puede usarse como un traductor, yendo de un idioma al otro. Por supuesto, la ambiguedad del idioma y el contexto van a dificultar la tarea."
   ]
  },
  {
   "cell_type": "code",
   "execution_count": null,
   "metadata": {
    "application/vnd.databricks.v1+cell": {
     "inputWidgets": {},
     "nuid": "34ada972-bd2d-43b3-ac11-eb48f1174b02",
     "showTitle": false,
     "title": ""
    },
    "colab": {
     "base_uri": "https://localhost:8080/"
    },
    "executionInfo": {
     "elapsed": 962,
     "status": "ok",
     "timestamp": 1620246024913,
     "user": {
      "displayName": "Jorge Andrés Alvarado",
      "photoUrl": "https://lh3.googleusercontent.com/a-/AOh14Gjswgjr-dpsb8qToq_658bd-POx30Oqup6RBBFA=s64",
      "userId": "16955788008997872737"
     },
     "user_tz": 300
    },
    "id": "AUyqD14WFa1h",
    "outputId": "98a4abc3-a1a4-4aaf-bc6f-e7a24d39c423"
   },
   "outputs": [
    {
     "data": {
      "text/plain": [
       "[Synset('lay.v.02'), Synset('bed.n.02')]"
      ]
     },
     "execution_count": 57,
     "metadata": {
      "tags": []
     },
     "output_type": "execute_result"
    }
   ],
   "source": [
    "##puedo usarlo de algun modo como un traductor\n",
    "wordnet.synsets(\"coucher\",lang=\"fra\")\n",
    "francesingles=wordnet.synsets(\"coucher\",lang=\"fra\")\n",
    "francesingles\n"
   ]
  },
  {
   "cell_type": "markdown",
   "metadata": {
    "application/vnd.databricks.v1+cell": {
     "inputWidgets": {},
     "nuid": "f6c944ce-f813-4316-83ea-652c753f217b",
     "showTitle": false,
     "title": ""
    },
    "id": "BRrRPkesFa1i"
   },
   "source": [
    "Tuve que pasar por el inglés para ir al español"
   ]
  },
  {
   "cell_type": "code",
   "execution_count": null,
   "metadata": {
    "application/vnd.databricks.v1+cell": {
     "inputWidgets": {},
     "nuid": "e137fe2a-3998-4688-88c9-9ffc69cddf3c",
     "showTitle": false,
     "title": ""
    },
    "colab": {
     "base_uri": "https://localhost:8080/"
    },
    "executionInfo": {
     "elapsed": 710,
     "status": "ok",
     "timestamp": 1620246030386,
     "user": {
      "displayName": "Jorge Andrés Alvarado",
      "photoUrl": "https://lh3.googleusercontent.com/a-/AOh14Gjswgjr-dpsb8qToq_658bd-POx30Oqup6RBBFA=s64",
      "userId": "16955788008997872737"
     },
     "user_tz": 300
    },
    "id": "w0zZqboEFa1i",
    "outputId": "155b5d18-de2a-4012-ff5b-51ae9991170b"
   },
   "outputs": [
    {
     "data": {
      "text/plain": [
       "['tumbar', 'lecho']"
      ]
     },
     "execution_count": 58,
     "metadata": {
      "tags": []
     },
     "output_type": "execute_result"
    }
   ],
   "source": [
    "espanol=[]\n",
    "for palabra in francesingles:\n",
    "    espanol.append(\" \".join(palabra.lemma_names(\"spa\")))\n",
    "espanol\n"
   ]
  },
  {
   "cell_type": "markdown",
   "metadata": {
    "application/vnd.databricks.v1+cell": {
     "inputWidgets": {},
     "nuid": "d53cc96d-0a9d-45f0-bd7c-e098b7f19820",
     "showTitle": false,
     "title": ""
    },
    "id": "L08v1iMHFa1i"
   },
   "source": [
    "Y luego de vuelta al inglés y al francés"
   ]
  },
  {
   "cell_type": "code",
   "execution_count": null,
   "metadata": {
    "application/vnd.databricks.v1+cell": {
     "inputWidgets": {},
     "nuid": "bdd8b1a1-8a04-454c-9700-a4e4450ecd56",
     "showTitle": false,
     "title": ""
    },
    "colab": {
     "base_uri": "https://localhost:8080/"
    },
    "executionInfo": {
     "elapsed": 462,
     "status": "ok",
     "timestamp": 1620246035867,
     "user": {
      "displayName": "Jorge Andrés Alvarado",
      "photoUrl": "https://lh3.googleusercontent.com/a-/AOh14Gjswgjr-dpsb8qToq_658bd-POx30Oqup6RBBFA=s64",
      "userId": "16955788008997872737"
     },
     "user_tz": 300
    },
    "id": "I6HLpVkMFa1j",
    "outputId": "0a4d57e1-38bb-4be0-d486-6d2c117a854e"
   },
   "outputs": [
    {
     "data": {
      "text/plain": [
       "[[Synset('knock.v.01'),\n",
       "  Synset('down.v.05'),\n",
       "  Synset('poleax.v.01'),\n",
       "  Synset('deck.v.03'),\n",
       "  Synset('lay.v.02'),\n",
       "  Synset('lie_down.v.01')],\n",
       " [Synset('bed.n.02'),\n",
       "  Synset('bedding_material.n.01'),\n",
       "  Synset('bed.n.03'),\n",
       "  Synset('riverbed.n.01')]]"
      ]
     },
     "execution_count": 59,
     "metadata": {
      "tags": []
     },
     "output_type": "execute_result"
    }
   ],
   "source": [
    "inglesback=[]\n",
    "for pal in espanol:\n",
    "    inglesback.append(wordnet.synsets(pal, lang=\"spa\"))\n",
    "inglesback\n"
   ]
  },
  {
   "cell_type": "code",
   "execution_count": null,
   "metadata": {
    "application/vnd.databricks.v1+cell": {
     "inputWidgets": {},
     "nuid": "23cae3ae-0853-42e5-8a8c-474973416523",
     "showTitle": false,
     "title": ""
    },
    "colab": {
     "base_uri": "https://localhost:8080/"
    },
    "executionInfo": {
     "elapsed": 431,
     "status": "ok",
     "timestamp": 1620246043146,
     "user": {
      "displayName": "Jorge Andrés Alvarado",
      "photoUrl": "https://lh3.googleusercontent.com/a-/AOh14Gjswgjr-dpsb8qToq_658bd-POx30Oqup6RBBFA=s64",
      "userId": "16955788008997872737"
     },
     "user_tz": 300
    },
    "id": "hoVthaK1Fa1k",
    "outputId": "a0747681-6ba9-4821-ae5e-42ba5bc0475f"
   },
   "outputs": [
    {
     "data": {
      "text/plain": [
       "[[],\n",
       " ['abattre', 'démolir'],\n",
       " [],\n",
       " ['étage', 'plancher', 'pont'],\n",
       " ['coucher', 'déposer', 'poser'],\n",
       " [\"s'étendre\"],\n",
       " ['coucher', 'lit', 'parterre', 'planche'],\n",
       " ['litière'],\n",
       " ['lit'],\n",
       " []]"
      ]
     },
     "execution_count": 60,
     "metadata": {
      "tags": []
     },
     "output_type": "execute_result"
    }
   ],
   "source": [
    "inglesfinal=[]\n",
    "for element in inglesback:\n",
    "    inglesfinal=inglesfinal+element\n",
    "francesfinal=[]\n",
    "for palabra in inglesfinal:\n",
    "    francesfinal.append(palabra.lemma_names(\"fra\"))\n",
    "francesfinal\n"
   ]
  },
  {
   "cell_type": "markdown",
   "metadata": {
    "application/vnd.databricks.v1+cell": {
     "inputWidgets": {},
     "nuid": "05c021a8-419c-4da5-ad90-904a5d2f3cbb",
     "showTitle": false,
     "title": ""
    },
    "id": "U61s-0NwFa1k"
   },
   "source": [
    "tenemos también definiciones, y ejemplos"
   ]
  },
  {
   "cell_type": "code",
   "execution_count": null,
   "metadata": {
    "application/vnd.databricks.v1+cell": {
     "inputWidgets": {},
     "nuid": "e302a925-f3ed-4759-b025-bb7e565f3395",
     "showTitle": false,
     "title": ""
    },
    "colab": {
     "base_uri": "https://localhost:8080/",
     "height": 36
    },
    "executionInfo": {
     "elapsed": 468,
     "status": "ok",
     "timestamp": 1620246047634,
     "user": {
      "displayName": "Jorge Andrés Alvarado",
      "photoUrl": "https://lh3.googleusercontent.com/a-/AOh14Gjswgjr-dpsb8qToq_658bd-POx30Oqup6RBBFA=s64",
      "userId": "16955788008997872737"
     },
     "user_tz": 300
    },
    "id": "68Q1wrhlFa1k",
    "outputId": "2fe1e564-6562-4613-cc53-2e2cdb9d50a1"
   },
   "outputs": [
    {
     "data": {
      "application/vnd.google.colaboratory.intrinsic+json": {
       "type": "string"
      },
      "text/plain": [
       "'assume a reclining position'"
      ]
     },
     "execution_count": 61,
     "metadata": {
      "tags": []
     },
     "output_type": "execute_result"
    }
   ],
   "source": [
    "inglesfinal[5].definition()\n"
   ]
  },
  {
   "cell_type": "code",
   "execution_count": null,
   "metadata": {
    "application/vnd.databricks.v1+cell": {
     "inputWidgets": {},
     "nuid": "07aeff45-c4fe-4dd3-80c3-416cd7c6af8a",
     "showTitle": false,
     "title": ""
    },
    "colab": {
     "base_uri": "https://localhost:8080/"
    },
    "executionInfo": {
     "elapsed": 441,
     "status": "ok",
     "timestamp": 1620246049596,
     "user": {
      "displayName": "Jorge Andrés Alvarado",
      "photoUrl": "https://lh3.googleusercontent.com/a-/AOh14Gjswgjr-dpsb8qToq_658bd-POx30Oqup6RBBFA=s64",
      "userId": "16955788008997872737"
     },
     "user_tz": 300
    },
    "id": "2QutukeTFa1k",
    "outputId": "2e54b85b-8e27-4862-e43c-24098cbbe542"
   },
   "outputs": [
    {
     "data": {
      "text/plain": [
       "['lie down on the bed until you feel better']"
      ]
     },
     "execution_count": 62,
     "metadata": {
      "tags": []
     },
     "output_type": "execute_result"
    }
   ],
   "source": [
    "inglesfinal[5].examples()\n"
   ]
  },
  {
   "cell_type": "markdown",
   "metadata": {
    "application/vnd.databricks.v1+cell": {
     "inputWidgets": {},
     "nuid": "d9fd645e-b83d-4d5e-85f1-a6c4be7f5289",
     "showTitle": false,
     "title": ""
    },
    "id": "FA-GCljMFa1l"
   },
   "source": [
    "El conocimiento está también clasificado en taxonomías, teniendo hiperónimos (categoría superior) e hipónimos (categoría inferior)"
   ]
  },
  {
   "cell_type": "code",
   "execution_count": null,
   "metadata": {
    "application/vnd.databricks.v1+cell": {
     "inputWidgets": {},
     "nuid": "4aabc298-de2f-4704-8a39-2647a490c808",
     "showTitle": false,
     "title": ""
    },
    "colab": {
     "base_uri": "https://localhost:8080/"
    },
    "executionInfo": {
     "elapsed": 401,
     "status": "ok",
     "timestamp": 1620246052594,
     "user": {
      "displayName": "Jorge Andrés Alvarado",
      "photoUrl": "https://lh3.googleusercontent.com/a-/AOh14Gjswgjr-dpsb8qToq_658bd-POx30Oqup6RBBFA=s64",
      "userId": "16955788008997872737"
     },
     "user_tz": 300
    },
    "id": "ystBnyM1Fa1l",
    "outputId": "1e7c8fba-930e-4b25-a5e4-f930604e04ee"
   },
   "outputs": [
    {
     "data": {
      "text/plain": [
       "[Synset('canine.n.02'), Synset('domestic_animal.n.01')]"
      ]
     },
     "execution_count": 63,
     "metadata": {
      "tags": []
     },
     "output_type": "execute_result"
    }
   ],
   "source": [
    "dog = wordnet.synset('dog.n.01')\n",
    "cat=wordnet.synset(\"cat.n.01\")\n",
    "duck=wordnet.synset(\"duck.n.01\")\n",
    "table=wordnet.synset(\"table.n.01\")\n",
    "\n",
    "dog.hypernyms()\n"
   ]
  },
  {
   "cell_type": "code",
   "execution_count": null,
   "metadata": {
    "application/vnd.databricks.v1+cell": {
     "inputWidgets": {},
     "nuid": "fb54a201-0d55-47b2-8f03-6e9e83900ba6",
     "showTitle": false,
     "title": ""
    },
    "colab": {
     "base_uri": "https://localhost:8080/"
    },
    "executionInfo": {
     "elapsed": 516,
     "status": "ok",
     "timestamp": 1620246057148,
     "user": {
      "displayName": "Jorge Andrés Alvarado",
      "photoUrl": "https://lh3.googleusercontent.com/a-/AOh14Gjswgjr-dpsb8qToq_658bd-POx30Oqup6RBBFA=s64",
      "userId": "16955788008997872737"
     },
     "user_tz": 300
    },
    "id": "ZQrDfqjmFa1l",
    "outputId": "b0518fa3-7738-47e9-8c32-7b0b2387fd88"
   },
   "outputs": [
    {
     "data": {
      "text/plain": [
       "[Synset('feline.n.01')]"
      ]
     },
     "execution_count": 64,
     "metadata": {
      "tags": []
     },
     "output_type": "execute_result"
    }
   ],
   "source": [
    "cat.hypernyms()\n"
   ]
  },
  {
   "cell_type": "code",
   "execution_count": null,
   "metadata": {
    "application/vnd.databricks.v1+cell": {
     "inputWidgets": {},
     "nuid": "15c61754-5af8-4c37-b213-42fd44c46fd2",
     "showTitle": false,
     "title": ""
    },
    "colab": {
     "base_uri": "https://localhost:8080/"
    },
    "executionInfo": {
     "elapsed": 467,
     "status": "ok",
     "timestamp": 1620246058745,
     "user": {
      "displayName": "Jorge Andrés Alvarado",
      "photoUrl": "https://lh3.googleusercontent.com/a-/AOh14Gjswgjr-dpsb8qToq_658bd-POx30Oqup6RBBFA=s64",
      "userId": "16955788008997872737"
     },
     "user_tz": 300
    },
    "id": "rL-TkSQmFa1m",
    "outputId": "7d38e493-33c0-482c-f215-5a8f0f6ad7c0"
   },
   "outputs": [
    {
     "data": {
      "text/plain": [
       "[Synset('basenji.n.01'),\n",
       " Synset('corgi.n.01'),\n",
       " Synset('cur.n.01'),\n",
       " Synset('dalmatian.n.02'),\n",
       " Synset('great_pyrenees.n.01'),\n",
       " Synset('griffon.n.02'),\n",
       " Synset('hunting_dog.n.01'),\n",
       " Synset('lapdog.n.01'),\n",
       " Synset('leonberg.n.01'),\n",
       " Synset('mexican_hairless.n.01'),\n",
       " Synset('newfoundland.n.01'),\n",
       " Synset('pooch.n.01'),\n",
       " Synset('poodle.n.01'),\n",
       " Synset('pug.n.01'),\n",
       " Synset('puppy.n.01'),\n",
       " Synset('spitz.n.01'),\n",
       " Synset('toy_dog.n.01'),\n",
       " Synset('working_dog.n.01')]"
      ]
     },
     "execution_count": 65,
     "metadata": {
      "tags": []
     },
     "output_type": "execute_result"
    }
   ],
   "source": [
    "dog.hyponyms()\n"
   ]
  },
  {
   "cell_type": "code",
   "execution_count": null,
   "metadata": {
    "application/vnd.databricks.v1+cell": {
     "inputWidgets": {},
     "nuid": "69d6e8c8-df71-409a-808a-91e4d3855615",
     "showTitle": false,
     "title": ""
    },
    "colab": {
     "base_uri": "https://localhost:8080/"
    },
    "executionInfo": {
     "elapsed": 452,
     "status": "ok",
     "timestamp": 1620246064396,
     "user": {
      "displayName": "Jorge Andrés Alvarado",
      "photoUrl": "https://lh3.googleusercontent.com/a-/AOh14Gjswgjr-dpsb8qToq_658bd-POx30Oqup6RBBFA=s64",
      "userId": "16955788008997872737"
     },
     "user_tz": 300
    },
    "id": "lfUqhcP4Fa1m",
    "outputId": "e272863e-4d78-47de-c443-2153db3c4ee2"
   },
   "outputs": [
    {
     "data": {
      "text/plain": [
       "[Synset('entity.n.01')]"
      ]
     },
     "execution_count": 66,
     "metadata": {
      "tags": []
     },
     "output_type": "execute_result"
    }
   ],
   "source": [
    "dog.root_hypernyms()\n"
   ]
  },
  {
   "cell_type": "code",
   "execution_count": null,
   "metadata": {
    "application/vnd.databricks.v1+cell": {
     "inputWidgets": {},
     "nuid": "e0f237bd-a217-46fb-a600-4315ee9be745",
     "showTitle": false,
     "title": ""
    },
    "colab": {
     "base_uri": "https://localhost:8080/"
    },
    "executionInfo": {
     "elapsed": 442,
     "status": "ok",
     "timestamp": 1620246066074,
     "user": {
      "displayName": "Jorge Andrés Alvarado",
      "photoUrl": "https://lh3.googleusercontent.com/a-/AOh14Gjswgjr-dpsb8qToq_658bd-POx30Oqup6RBBFA=s64",
      "userId": "16955788008997872737"
     },
     "user_tz": 300
    },
    "id": "TS6KLo0tFa1n",
    "outputId": "7acffb35-c272-4d07-821e-ada3eae56462"
   },
   "outputs": [
    {
     "data": {
      "text/plain": [
       "[Lemma('dog.n.01.dog'),\n",
       " Lemma('dog.n.01.domestic_dog'),\n",
       " Lemma('dog.n.01.Canis_familiaris')]"
      ]
     },
     "execution_count": 67,
     "metadata": {
      "tags": []
     },
     "output_type": "execute_result"
    }
   ],
   "source": [
    "dog.lemmas()\n"
   ]
  },
  {
   "cell_type": "markdown",
   "metadata": {
    "application/vnd.databricks.v1+cell": {
     "inputWidgets": {},
     "nuid": "2e0ee72b-253e-4e66-a841-f36fc0ea7b7a",
     "showTitle": false,
     "title": ""
    },
    "id": "Uf6uLY5YFa1o"
   },
   "source": [
    "gracias a la estructura taxonómica podemos también relacionar palabras, y calcular sus distancias."
   ]
  },
  {
   "cell_type": "code",
   "execution_count": null,
   "metadata": {
    "application/vnd.databricks.v1+cell": {
     "inputWidgets": {},
     "nuid": "e3639736-82fa-4a2a-8738-91593330e8fd",
     "showTitle": false,
     "title": ""
    },
    "colab": {
     "base_uri": "https://localhost:8080/"
    },
    "executionInfo": {
     "elapsed": 435,
     "status": "ok",
     "timestamp": 1620246073238,
     "user": {
      "displayName": "Jorge Andrés Alvarado",
      "photoUrl": "https://lh3.googleusercontent.com/a-/AOh14Gjswgjr-dpsb8qToq_658bd-POx30Oqup6RBBFA=s64",
      "userId": "16955788008997872737"
     },
     "user_tz": 300
    },
    "id": "zQA5sgp-Fa1o",
    "outputId": "7a804752-89d6-4131-8299-be255ebd5532"
   },
   "outputs": [
    {
     "data": {
      "text/plain": [
       "[Synset('entity.n.01')]"
      ]
     },
     "execution_count": 68,
     "metadata": {
      "tags": []
     },
     "output_type": "execute_result"
    }
   ],
   "source": [
    "wordnet.synset('dog.n.01').lowest_common_hypernyms(wordnet.synset('table.n.01'))\n"
   ]
  },
  {
   "cell_type": "code",
   "execution_count": null,
   "metadata": {
    "application/vnd.databricks.v1+cell": {
     "inputWidgets": {},
     "nuid": "dde00756-3702-4f2c-a46b-54cb8a207988",
     "showTitle": false,
     "title": ""
    },
    "colab": {
     "base_uri": "https://localhost:8080/"
    },
    "executionInfo": {
     "elapsed": 625,
     "status": "ok",
     "timestamp": 1620246075763,
     "user": {
      "displayName": "Jorge Andrés Alvarado",
      "photoUrl": "https://lh3.googleusercontent.com/a-/AOh14Gjswgjr-dpsb8qToq_658bd-POx30Oqup6RBBFA=s64",
      "userId": "16955788008997872737"
     },
     "user_tz": 300
    },
    "id": "BKZ4rlljFa1p",
    "outputId": "c662d120-84a5-4c5a-b230-2707b8ef9fdf"
   },
   "outputs": [
    {
     "data": {
      "text/plain": [
       "0.07142857142857142"
      ]
     },
     "execution_count": 69,
     "metadata": {
      "tags": []
     },
     "output_type": "execute_result"
    }
   ],
   "source": [
    "dog.path_similarity(table)\n"
   ]
  },
  {
   "cell_type": "code",
   "execution_count": null,
   "metadata": {
    "application/vnd.databricks.v1+cell": {
     "inputWidgets": {},
     "nuid": "63902728-2d7a-474a-9e70-f3894aca979d",
     "showTitle": false,
     "title": ""
    },
    "colab": {
     "base_uri": "https://localhost:8080/"
    },
    "executionInfo": {
     "elapsed": 450,
     "status": "ok",
     "timestamp": 1620246081120,
     "user": {
      "displayName": "Jorge Andrés Alvarado",
      "photoUrl": "https://lh3.googleusercontent.com/a-/AOh14Gjswgjr-dpsb8qToq_658bd-POx30Oqup6RBBFA=s64",
      "userId": "16955788008997872737"
     },
     "user_tz": 300
    },
    "id": "AsP5o6DzFa1p",
    "outputId": "382a88b1-accc-4fa7-f214-c1326cbd7095"
   },
   "outputs": [
    {
     "data": {
      "text/plain": [
       "0.2"
      ]
     },
     "execution_count": 70,
     "metadata": {
      "tags": []
     },
     "output_type": "execute_result"
    }
   ],
   "source": [
    "dog.path_similarity(cat)\n"
   ]
  },
  {
   "cell_type": "markdown",
   "metadata": {
    "application/vnd.databricks.v1+cell": {
     "inputWidgets": {},
     "nuid": "fd95ccea-f24c-40c5-81e4-50198f9a2ad3",
     "showTitle": false,
     "title": ""
    },
    "id": "xNiIWHW3Fa1p"
   },
   "source": [
    "En este notebook vimos distintas aproximaciones a la representación del lenguaje natural"
   ]
  }
 ],
 "metadata": {
  "application/vnd.databricks.v1+notebook": {
   "dashboards": [],
   "language": "python",
   "notebookName": "NLP-2",
   "notebookOrigID": 708434827944260,
   "widgets": {}
  },
  "colab": {
   "collapsed_sections": [],
   "name": "NLP-2-oct2021.ipynb",
   "provenance": [
    {
     "file_id": "1HqEDbRQ_nng6MimzIKxWNb5l3_aoTNOY",
     "timestamp": 1634666396583
    }
   ]
  },
  "kernelspec": {
   "display_name": "Python 3",
   "language": "python",
   "name": "python3"
  },
  "language_info": {
   "codemirror_mode": {
    "name": "ipython",
    "version": 3
   },
   "file_extension": ".py",
   "mimetype": "text/x-python",
   "name": "python",
   "nbconvert_exporter": "python",
   "pygments_lexer": "ipython3",
   "version": "3.8.5"
  }
 },
 "nbformat": 4,
 "nbformat_minor": 4
}
