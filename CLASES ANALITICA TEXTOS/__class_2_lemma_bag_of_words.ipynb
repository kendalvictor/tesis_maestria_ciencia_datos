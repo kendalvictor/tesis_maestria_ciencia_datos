{
 "cells": [
  {
   "cell_type": "code",
   "execution_count": 1,
   "id": "bb3b0bd7-0992-4785-b894-e07f084a4cc7",
   "metadata": {},
   "outputs": [],
   "source": [
    "import re\n",
    "import time\n",
    "from pathlib import Path\n",
    "import shutil\n",
    "import glob\n",
    "import string\n",
    "import unicodedata\n",
    "from datetime import datetime, timedelta\n",
    "\n",
    "import pandas as pd\n",
    "from selenium import webdriver\n",
    "from selenium.webdriver.chrome.options import Options\n",
    "from selenium.webdriver.support.select import Select\n",
    "from sqlalchemy import create_engine\n",
    "from selenium.webdriver.support.ui import WebDriverWait\n",
    "from selenium.webdriver.support import expected_conditions as EC\n",
    "from selenium.webdriver.common.by import By\n",
    "\n",
    "from unicodedata import normalize, category"
   ]
  },
  {
   "cell_type": "code",
   "execution_count": 2,
   "id": "3d8af48c-8833-4cb0-bfbc-c06509c02d34",
   "metadata": {},
   "outputs": [
    {
     "name": "stdout",
     "output_type": "stream",
     "text": [
      "{'al', 'hubiesen', 'sentidos', 'habrán', 'tendremos', 'estando', 'tendrías', 'tuviese', 'habremos', 'tuvieses', 'otra', 'lo', 'habréis', 'hayan', 'nuestros', 'tendrá', 'estás', 'unos', 'habría', 'tendré', 'hubiera', 'teniendo', 'nuestro', 'has', 'una', 'de', 'tuvieron', 'estuve', 'fueses', 'fuéramos', 'esta', 'tenidos', 'esto', 'le', 'un', 'con', 'como', 'hubiéramos', 'hayamos', 'sería', 'está', 'hubiésemos', 'cuando', 'fuiste', 'estuvisteis', 'estáis', 'fuerais', 'estamos', 'estuviéramos', 'poco', 'estén', 'estaríais', 'se', 'tus', 'tuyas', 'estaréis', 'muchos', 'que', 'estuvo', 'tengamos', 'tendrán', 'estad', 'siente', 'habidos', 'estada', 'mí', 'donde', 'fuimos', 'estoy', 'a', 'sea', 'qué', 'otras', 'estar', 'ellos', 'tenías', 'ese', 'estuvieseis', 'somos', 'hayas', 'te', 'estuvieran', 'están', 'hubieses', 'esa', 'seríamos', 'estaré', 'estuviera', 'tendréis', 'sentidas', 'tiene', 'estuvieras', 'el', 'contra', 'estuviste', 'fueron', 'vosotras', 'tenidas', 'yo', 'mis', 'estos', 'seremos', 'será', 'tendríais', 'estarás', 'quienes', 'fuisteis', 'quien', 'serías', 'hasta', 'es', 'tuviste', 'hubimos', 'habiendo', 'uno', 'estaríamos', 'tenéis', 'estarían', 'estarías', 'tuvieras', 'sean', 'soy', 'vuestros', 'tendría', 'tuviesen', 'ha', 'estas', 'sentid', 'hubierais', 'habrían', 'esos', 'hayáis', 'vuestras', 'estabais', 'habrías', 'serán', 'tuyo', 'tenía', 'mi', 'tuyos', 'eres', 'sentido', 'estábamos', 'hubo', 'tendrás', 'otro', 'habidas', 'habido', 'serían', 'vuestro', 'seré', 'ya', 'tenemos', 'míos', 'sus', 'del', 'tengas', 'tuviéramos', 'era', 'su', 'tengan', 'tuviera', 'estaría', 'la', 'estaremos', 'mucho', 'habías', 'tendríamos', 'estaba', 'para', 'fueran', 'ella', 'vosotros', 'hubiese', 'esas', 'hubieras', 'tened', 'estuviésemos', 'les', 'también', 'hube', 'tenido', 'o', 'eran', 'suyas', 'estaban', 'tuvisteis', 'este', 'hubisteis', 'son', 'mía', 'seáis', 'él', 'habrás', 'sois', 'las', 'fuera', 'fui', 'en', 'tuvimos', 'tuviésemos', 'tuve', 'tenga', 'cual', 'tuvieran', 'nada', 'porque', 'estará', 'estuvimos', 'hubiste', 'nos', 'han', 'sin', 'fueras', 'habéis', 'nuestra', 'estarán', 'habían', 'hubieran', 'sintiendo', 'estemos', 'tengáis', 'ni', 'haya', 'tenían', 'eso', 'todo', 'tanto', 'tuvieseis', 'fuesen', 'éramos', 'no', 'hay', 'estuvieses', 'habríais', 'serás', 'seríais', 'desde', 'vuestra', 'hubieseis', 'ellas', 'habida', 'estuviese', 'algunos', 'había', 'mías', 'e', 'ti', 'los', 'estés', 'tienen', 'habíamos', 'tuya', 'antes', 'estuviesen', 'estados', 'muy', 'durante', 'sobre', 'seréis', 'fue', 'estado', 'suyos', 'estéis', 'he', 'más', 'fuésemos', 'nosotras', 'estuvieron', 'me', 'seas', 'otros', 'estadas', 'por', 'pero', 'hemos', 'eras', 'estuvierais', 'sentida', 'tú', 'teníamos', 'suyo', 'tendrían', 'habré', 'tuvo', 'estabas', 'teníais', 'habríamos', 'tengo', 'todos', 'tienes', 'esté', 'entre', 'seamos', 'erais', 'tuvierais', 'algunas', 'algo', 'tenida', 'ante', 'sí', 'habrá', 'y', 'nosotros', 'tu', 'mío', 'os', 'hubieron', 'fuese', 'nuestras', 'habíais', 'suya', 'fueseis'}\n"
     ]
    }
   ],
   "source": [
    "import nltk\n",
    "from nltk.corpus import stopwords\n",
    "from nltk.stem.snowball import SnowballStemmer\n",
    "\n",
    "stopset = set(stopwords.words(\"spanish\"))\n",
    "print(stopset)"
   ]
  },
  {
   "cell_type": "code",
   "execution_count": null,
   "id": "64668385-0bd1-48f0-a2f9-c90b73b41935",
   "metadata": {},
   "outputs": [],
   "source": []
  },
  {
   "cell_type": "code",
   "execution_count": 3,
   "id": "548343a2-4f45-4d46-897b-28bffd663667",
   "metadata": {},
   "outputs": [
    {
     "data": {
      "text/plain": [
       "'24102021'"
      ]
     },
     "execution_count": 3,
     "metadata": {},
     "output_type": "execute_result"
    }
   ],
   "source": [
    "hoy = datetime.today()\n",
    "hoy_format = hoy.strftime('%d%m%Y') \n",
    "hoy_format"
   ]
  },
  {
   "cell_type": "code",
   "execution_count": 4,
   "id": "c391b396-bb94-4f53-9929-1a281065c0ba",
   "metadata": {},
   "outputs": [],
   "source": [
    "for file in glob.iglob('news/{}/**/*.txt'.format(hoy_format), recursive=True):\n",
    "    listado = file.replace('/', '\\\\').split('\\\\')\n",
    "    \n",
    "    if 'descartado' in listado:\n",
    "        continue\n",
    "        \n",
    "    print(listado)\n",
    "    with open(file, encoding='UTF-8') as f:\n",
    "        new = f.read()\n",
    "        \n",
    "    break"
   ]
  },
  {
   "cell_type": "code",
   "execution_count": 5,
   "id": "71aa2b13-2be8-4308-9598-e7d8bc47d808",
   "metadata": {},
   "outputs": [],
   "source": [
    "from unicodedata import normalize, category\n",
    "\n",
    "def clean_text_1(_text):\n",
    "    \"\"\"\n",
    "        Ll : minusculas\n",
    "        Zs : espacios\n",
    "        Lu : mayusculas\n",
    "        Nd : numeros\n",
    "        Mn : tildes\n",
    "        Ps : abre dieresis, .....\n",
    "        Pe : cierra dieresis, .......\n",
    "        Pi : abre parentesis, .....\n",
    "        Po : cierra parentesis, punto, coma, .....        \n",
    "        ...\n",
    "    \"\"\"\n",
    "    selects_characters = ['Ll', 'Zs', 'Lu']\n",
    "    \n",
    "    return ''.join([_.lower() for _ in normalize('NFD', _text.replace(' ', 'ZZZ')) if category(_) in selects_characters])"
   ]
  },
  {
   "cell_type": "code",
   "execution_count": null,
   "id": "4e780950-f54a-4d72-a274-a619825e8b51",
   "metadata": {},
   "outputs": [],
   "source": []
  },
  {
   "cell_type": "markdown",
   "id": "df0e6b95-71f5-4cd0-bc2f-eaea2ff9e6e0",
   "metadata": {},
   "source": [
    "### SIN QUITAR STOPWORDS"
   ]
  },
  {
   "cell_type": "code",
   "execution_count": null,
   "id": "6aa23d5a-d7db-466a-84dc-c12ff406a018",
   "metadata": {},
   "outputs": [],
   "source": [
    "tokenizacion = [\n",
    "    [clean_text_1(_) for _ in nltk.word_tokenize(sentence) if len(clean_text_1(_)) > 0] for sentence in nltk.sent_tokenize(new)\n",
    "]\n",
    "\n",
    "for oracion in tokenizacion:\n",
    "    print(oracion)\n",
    "    print(\"-\"*100)"
   ]
  },
  {
   "cell_type": "markdown",
   "id": "e9c49696-5e14-4579-ba9a-d6f70a5d41a7",
   "metadata": {},
   "source": [
    "### QUITANDO STOPWORDS"
   ]
  },
  {
   "cell_type": "code",
   "execution_count": null,
   "id": "818aba68-7a32-4591-8b8d-e41106360da8",
   "metadata": {},
   "outputs": [],
   "source": [
    "stopset_cleaned = [clean_text_1(word) for word in stopset]\n",
    "print(stopset_cleaned)"
   ]
  },
  {
   "cell_type": "code",
   "execution_count": null,
   "id": "48650bc9-726c-41bd-bee7-b293448c2f3b",
   "metadata": {},
   "outputs": [],
   "source": [
    "tokenizacion = [\n",
    "    [\n",
    "        clean_text_1(_) for _ in nltk.word_tokenize(sentence) \n",
    "                     if len(clean_text_1(_)) > 0 and clean_text_1(_) not in stopset_cleaned\n",
    "    ] for sentence in nltk.sent_tokenize(new)\n",
    "]\n",
    "\n",
    "for oracion in tokenizacion:\n",
    "    if len(oracion) <= 0:\n",
    "        continue\n",
    "\n",
    "    print(oracion)\n",
    "    print(\"-\"*100)"
   ]
  },
  {
   "cell_type": "code",
   "execution_count": null,
   "id": "2b3678de-b3f8-4a43-817b-def8b86263ba",
   "metadata": {},
   "outputs": [],
   "source": []
  },
  {
   "cell_type": "markdown",
   "id": "a1193442-9a4c-4de7-88bd-0ac23ae00940",
   "metadata": {},
   "source": [
    "### LEMMATIZACION"
   ]
  },
  {
   "cell_type": "code",
   "execution_count": null,
   "id": "d288e809-c653-4b36-aacb-11e0b9f42143",
   "metadata": {},
   "outputs": [],
   "source": [
    "#!pip install spacy                                  -- descomentar la 1era vez"
   ]
  },
  {
   "cell_type": "code",
   "execution_count": null,
   "id": "308611e7-867c-45ec-b241-0ec2bf1945ef",
   "metadata": {},
   "outputs": [],
   "source": [
    "#!pip install stanza                                 -- descomentar la 1era vez"
   ]
  },
  {
   "cell_type": "code",
   "execution_count": null,
   "id": "d9b4ae0d-3c65-458e-b1fe-715c15d13622",
   "metadata": {},
   "outputs": [],
   "source": [
    "#!pip install \"spacy-stanza<0.3.0\" --user            -- descomentar la 1era vez"
   ]
  },
  {
   "cell_type": "code",
   "execution_count": null,
   "id": "128d54bc-fa50-48b7-a8af-a5d612b4b1fd",
   "metadata": {},
   "outputs": [],
   "source": [
    "import stanza"
   ]
  },
  {
   "cell_type": "code",
   "execution_count": null,
   "id": "22e2ed8c-6b42-4045-af67-1bfe6a365d9c",
   "metadata": {},
   "outputs": [],
   "source": [
    "#stanza.download('es')                                -- descomentar la 1era vez"
   ]
  },
  {
   "cell_type": "code",
   "execution_count": null,
   "id": "330615fc-1e9c-4800-a1cf-35a45d1f0838",
   "metadata": {},
   "outputs": [],
   "source": [
    "from spacy_stanza import StanzaLanguage"
   ]
  },
  {
   "cell_type": "code",
   "execution_count": null,
   "id": "f569839b-1e14-4b84-b27b-dcc9e1e6ee57",
   "metadata": {},
   "outputs": [],
   "source": [
    "snlp = stanza.Pipeline(lang=\"es\")\n",
    "nlp = StanzaLanguage(snlp)"
   ]
  },
  {
   "cell_type": "code",
   "execution_count": null,
   "id": "5b1dc0d4-59c3-4cbc-a4a5-74b81db27145",
   "metadata": {},
   "outputs": [],
   "source": [
    "tokenizacion = [\n",
    "    [\n",
    "       ''.join(\n",
    "           [token.lemma_ for token in nlp(clean_text_1(_))]\n",
    "       ) for _ in nltk.word_tokenize(sentence) \n",
    "         if len(clean_text_1(_)) > 0 and clean_text_1(_) not in stopset_cleaned\n",
    "    ] for sentence in nltk.sent_tokenize(new)\n",
    "]\n",
    "\n",
    "for oracion in tokenizacion:\n",
    "    if len(oracion) <= 0:\n",
    "        continue\n",
    "\n",
    "    print(oracion)\n",
    "    print(\"-\"*100)"
   ]
  },
  {
   "cell_type": "code",
   "execution_count": null,
   "id": "cb8d3cb6-e52c-404c-84a7-9058658c6212",
   "metadata": {},
   "outputs": [],
   "source": []
  },
  {
   "cell_type": "markdown",
   "id": "4bf43db5-5aa5-485a-9811-5b98962f1d8e",
   "metadata": {},
   "source": [
    "### REGRESANDO A MODO TEXTO"
   ]
  },
  {
   "cell_type": "code",
   "execution_count": null,
   "id": "49719011-ab92-4cda-835b-0d1daeeffdf6",
   "metadata": {},
   "outputs": [],
   "source": [
    "textos = [' '.join(sentence) for sentence in tokenizacion]\n",
    "print(textos)"
   ]
  },
  {
   "cell_type": "code",
   "execution_count": null,
   "id": "6ab30914-5eb9-4120-b20d-aaf2dc020aab",
   "metadata": {},
   "outputs": [],
   "source": []
  },
  {
   "cell_type": "markdown",
   "id": "7379339b-2b95-4493-bd80-70b7fc14eece",
   "metadata": {},
   "source": [
    "### BOLSA DE PALABRAS"
   ]
  },
  {
   "cell_type": "code",
   "execution_count": null,
   "id": "a439b11a-c524-4b88-b705-60cc6c115a4e",
   "metadata": {},
   "outputs": [],
   "source": [
    "from sklearn.feature_extraction.text import CountVectorizer\n",
    "\n",
    "cv = CountVectorizer()\n",
    "cv_fit = cv.fit_transform(textos)"
   ]
  },
  {
   "cell_type": "code",
   "execution_count": null,
   "id": "0d02323d-a5c1-4418-9870-6b9de195763b",
   "metadata": {},
   "outputs": [],
   "source": [
    "cv_fit"
   ]
  },
  {
   "cell_type": "code",
   "execution_count": null,
   "id": "3cd729b3-963a-4c51-922e-eea24b7f0b53",
   "metadata": {},
   "outputs": [],
   "source": [
    "print([name for name in dir(cv_fit) if '__' not in name])"
   ]
  },
  {
   "cell_type": "code",
   "execution_count": null,
   "id": "447a5f30-93fa-4598-bf0a-b19d09946522",
   "metadata": {},
   "outputs": [],
   "source": [
    "print(cv.get_feature_names())"
   ]
  },
  {
   "cell_type": "code",
   "execution_count": null,
   "id": "8d256642-5b5c-42b3-b45d-2384cb2b18e8",
   "metadata": {},
   "outputs": [],
   "source": [
    "print(cv.vocabulary_)"
   ]
  },
  {
   "cell_type": "code",
   "execution_count": null,
   "id": "1df61b07-a79b-4da0-9bb9-3998182509fd",
   "metadata": {},
   "outputs": [],
   "source": [
    "tamanio_vocabulario = len(cv.vocabulary_)\n",
    "tamanio_vocabulario"
   ]
  },
  {
   "cell_type": "code",
   "execution_count": null,
   "id": "faede01f-e573-4c35-aaf5-531d1e219927",
   "metadata": {},
   "outputs": [],
   "source": [
    "cantidad_textos = len(textos)\n",
    "cantidad_textos"
   ]
  },
  {
   "cell_type": "code",
   "execution_count": null,
   "id": "202c0b8d-1953-48ec-b64c-50e8a41658ec",
   "metadata": {},
   "outputs": [],
   "source": [
    "espacios_con_ceros = cv_fit.toarray().sum(axis=1).sum()\n",
    "espacios_con_ceros"
   ]
  },
  {
   "cell_type": "markdown",
   "id": "e14d6285-da50-4775-b6fe-5ad9e8b53991",
   "metadata": {},
   "source": [
    "### Porcentaje de ceros"
   ]
  },
  {
   "cell_type": "code",
   "execution_count": null,
   "id": "ae1fb161-983a-4f43-ba3a-a7668dedd292",
   "metadata": {},
   "outputs": [],
   "source": [
    "sparsity = 1 - 172/ (119*14)\n",
    "sparsity"
   ]
  },
  {
   "cell_type": "code",
   "execution_count": null,
   "id": "9d98e2db-96f4-41c8-bd65-a0fc559c1807",
   "metadata": {},
   "outputs": [],
   "source": []
  },
  {
   "cell_type": "code",
   "execution_count": null,
   "id": "542f41fd-9873-443c-9fcd-e9e276643a2b",
   "metadata": {},
   "outputs": [],
   "source": []
  }
 ],
 "metadata": {
  "kernelspec": {
   "display_name": "Python 3",
   "language": "python",
   "name": "python3"
  },
  "language_info": {
   "codemirror_mode": {
    "name": "ipython",
    "version": 3
   },
   "file_extension": ".py",
   "mimetype": "text/x-python",
   "name": "python",
   "nbconvert_exporter": "python",
   "pygments_lexer": "ipython3",
   "version": "3.8.5"
  }
 },
 "nbformat": 4,
 "nbformat_minor": 5
}
