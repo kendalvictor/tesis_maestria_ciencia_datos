{
 "cells": [
  {
   "cell_type": "code",
   "execution_count": 1,
   "id": "bb3b0bd7-0992-4785-b894-e07f084a4cc7",
   "metadata": {},
   "outputs": [],
   "source": [
    "import re\n",
    "import time\n",
    "from pathlib import Path\n",
    "import shutil\n",
    "import glob\n",
    "import string\n",
    "import unicodedata\n",
    "from datetime import datetime, timedelta\n",
    "\n",
    "import pandas as pd\n",
    "from selenium import webdriver\n",
    "from selenium.webdriver.chrome.options import Options\n",
    "from selenium.webdriver.support.select import Select\n",
    "from sqlalchemy import create_engine\n",
    "from selenium.webdriver.support.ui import WebDriverWait\n",
    "from selenium.webdriver.support import expected_conditions as EC\n",
    "from selenium.webdriver.common.by import By\n",
    "\n",
    "from unicodedata import normalize, category"
   ]
  },
  {
   "cell_type": "code",
   "execution_count": 7,
   "id": "3d8af48c-8833-4cb0-bfbc-c06509c02d34",
   "metadata": {},
   "outputs": [
    {
     "name": "stdout",
     "output_type": "stream",
     "text": [
      "{'not', \"won't\", 'further', 'wouldn', 'yourselves', 'theirs', 'where', 'how', 'for', 'should', 'in', 'my', 'them', 'which', 'or', 'so', \"shan't\", 'if', 'when', 'this', \"mightn't\", 'didn', 'ma', 'is', 'over', 'myself', 'themselves', 'at', \"you've\", \"you're\", 'him', 'y', 'aren', 'ours', 'about', 'whom', 'a', 'will', 're', 'having', 'some', 'wasn', \"didn't\", 'won', 'to', 'she', \"wasn't\", 'o', \"hadn't\", 'why', \"hasn't\", 'because', 'than', \"haven't\", \"doesn't\", 'haven', 'off', 'all', 'are', 'was', 'were', \"should've\", 'mightn', 'weren', 'hasn', 'it', 'don', 'through', 'herself', 'i', 'up', 'hers', 'their', 'during', 'being', 's', 'ourselves', 'an', 'each', 'her', 'only', 'under', 'your', 'we', 'doing', \"don't\", 'did', 'below', 'now', 'ain', 't', 'me', 'the', 'its', 'couldn', 'very', 'you', 'yourself', \"aren't\", 'am', 'isn', 'until', 'by', 'on', \"you'd\", 'down', \"it's\", \"she's\", 'here', \"you'll\", 'doesn', 'he', 'such', \"that'll\", 'no', 'into', 'd', \"shouldn't\", 'our', 'nor', 'before', 'own', 'while', 'but', 'shouldn', 'more', 'other', 'then', 'hadn', 'do', 'they', 'does', 'once', 'as', 'most', 'these', 'above', 'can', 'with', 'm', 'that', 'both', 've', 'shan', 'needn', 'himself', 'be', 'after', 'what', \"mustn't\", \"couldn't\", 'yours', \"needn't\", 'same', \"weren't\", 'mustn', 'those', 'and', 'had', 'few', 'of', \"wouldn't\", 'against', 'any', 'his', 'have', \"isn't\", 'there', 'just', 'out', 'been', 'has', 'll', 'itself', 'again', 'too', 'who', 'from', 'between'}\n"
     ]
    }
   ],
   "source": [
    "import nltk\n",
    "from nltk.corpus import stopwords\n",
    "from nltk.stem.snowball import SnowballStemmer\n",
    "\n",
    "stopset = set(stopwords.words(\"english\"))\n",
    "print(stopset)"
   ]
  },
  {
   "cell_type": "code",
   "execution_count": 3,
   "id": "548343a2-4f45-4d46-897b-28bffd663667",
   "metadata": {},
   "outputs": [
    {
     "data": {
      "text/plain": [
       "'24102021'"
      ]
     },
     "execution_count": 3,
     "metadata": {},
     "output_type": "execute_result"
    }
   ],
   "source": [
    "hoy = datetime.today()\n",
    "hoy_format = hoy.strftime('%d%m%Y') \n",
    "hoy_format"
   ]
  },
  {
   "cell_type": "code",
   "execution_count": 16,
   "id": "f7ada651-99c3-4ac7-98dd-c5f8244df0cc",
   "metadata": {},
   "outputs": [
    {
     "name": "stdout",
     "output_type": "stream",
     "text": [
      "(1600, 5)\n"
     ]
    },
    {
     "data": {
      "text/html": [
       "<div>\n",
       "<style scoped>\n",
       "    .dataframe tbody tr th:only-of-type {\n",
       "        vertical-align: middle;\n",
       "    }\n",
       "\n",
       "    .dataframe tbody tr th {\n",
       "        vertical-align: top;\n",
       "    }\n",
       "\n",
       "    .dataframe thead th {\n",
       "        text-align: right;\n",
       "    }\n",
       "</style>\n",
       "<table border=\"1\" class=\"dataframe\">\n",
       "  <thead>\n",
       "    <tr style=\"text-align: right;\">\n",
       "      <th></th>\n",
       "      <th>deceptive</th>\n",
       "      <th>hotel</th>\n",
       "      <th>polarity</th>\n",
       "      <th>source</th>\n",
       "      <th>text</th>\n",
       "    </tr>\n",
       "  </thead>\n",
       "  <tbody>\n",
       "    <tr>\n",
       "      <th>0</th>\n",
       "      <td>truthful</td>\n",
       "      <td>conrad</td>\n",
       "      <td>positive</td>\n",
       "      <td>TripAdvisor</td>\n",
       "      <td>We stayed for a one night getaway with family ...</td>\n",
       "    </tr>\n",
       "    <tr>\n",
       "      <th>1</th>\n",
       "      <td>truthful</td>\n",
       "      <td>hyatt</td>\n",
       "      <td>positive</td>\n",
       "      <td>TripAdvisor</td>\n",
       "      <td>Triple A rate with upgrade to view room was le...</td>\n",
       "    </tr>\n",
       "    <tr>\n",
       "      <th>2</th>\n",
       "      <td>truthful</td>\n",
       "      <td>hyatt</td>\n",
       "      <td>positive</td>\n",
       "      <td>TripAdvisor</td>\n",
       "      <td>This comes a little late as I'm finally catchi...</td>\n",
       "    </tr>\n",
       "    <tr>\n",
       "      <th>3</th>\n",
       "      <td>truthful</td>\n",
       "      <td>omni</td>\n",
       "      <td>positive</td>\n",
       "      <td>TripAdvisor</td>\n",
       "      <td>The Omni Chicago really delivers on all fronts...</td>\n",
       "    </tr>\n",
       "    <tr>\n",
       "      <th>4</th>\n",
       "      <td>truthful</td>\n",
       "      <td>hyatt</td>\n",
       "      <td>positive</td>\n",
       "      <td>TripAdvisor</td>\n",
       "      <td>I asked for a high floor away from the elevato...</td>\n",
       "    </tr>\n",
       "  </tbody>\n",
       "</table>\n",
       "</div>"
      ],
      "text/plain": [
       "  deceptive   hotel  polarity       source  \\\n",
       "0  truthful  conrad  positive  TripAdvisor   \n",
       "1  truthful   hyatt  positive  TripAdvisor   \n",
       "2  truthful   hyatt  positive  TripAdvisor   \n",
       "3  truthful    omni  positive  TripAdvisor   \n",
       "4  truthful   hyatt  positive  TripAdvisor   \n",
       "\n",
       "                                                text  \n",
       "0  We stayed for a one night getaway with family ...  \n",
       "1  Triple A rate with upgrade to view room was le...  \n",
       "2  This comes a little late as I'm finally catchi...  \n",
       "3  The Omni Chicago really delivers on all fronts...  \n",
       "4  I asked for a high floor away from the elevato...  "
      ]
     },
     "execution_count": 16,
     "metadata": {},
     "output_type": "execute_result"
    }
   ],
   "source": [
    "data = pd.read_csv('deceptive-opinion.csv')\n",
    "print(data.shape)\n",
    "\n",
    "data.head()"
   ]
  },
  {
   "cell_type": "code",
   "execution_count": null,
   "id": "303a4974-9bcf-4919-86ae-76a729c05ded",
   "metadata": {},
   "outputs": [],
   "source": []
  },
  {
   "cell_type": "markdown",
   "id": "1c47e23d-0d91-4429-ad76-b57d5adfa345",
   "metadata": {},
   "source": [
    "## >> Limpinado caracteres extraños"
   ]
  },
  {
   "cell_type": "code",
   "execution_count": 17,
   "id": "71aa2b13-2be8-4308-9598-e7d8bc47d808",
   "metadata": {},
   "outputs": [],
   "source": [
    "from unicodedata import normalize, category\n",
    "\n",
    "def clean_text_1(_text):\n",
    "    \"\"\"\n",
    "        Ll : minusculas\n",
    "        Zs : espacios\n",
    "        Lu : mayusculas\n",
    "        Nd : numeros\n",
    "        Mn : tildes\n",
    "        Ps : abre dieresis, .....\n",
    "        Pe : cierra dieresis, .......\n",
    "        Pi : abre parentesis, .....\n",
    "        Po : cierra parentesis, punto, coma, .....        \n",
    "        ...\n",
    "    \"\"\"\n",
    "    selects_characters = ['Ll', 'Zs', 'Lu']\n",
    "    \n",
    "    return ''.join([_.lower() for _ in normalize('NFD', _text) if category(_) in selects_characters])"
   ]
  },
  {
   "cell_type": "code",
   "execution_count": 18,
   "id": "4e780950-f54a-4d72-a274-a619825e8b51",
   "metadata": {},
   "outputs": [
    {
     "data": {
      "text/html": [
       "<div>\n",
       "<style scoped>\n",
       "    .dataframe tbody tr th:only-of-type {\n",
       "        vertical-align: middle;\n",
       "    }\n",
       "\n",
       "    .dataframe tbody tr th {\n",
       "        vertical-align: top;\n",
       "    }\n",
       "\n",
       "    .dataframe thead th {\n",
       "        text-align: right;\n",
       "    }\n",
       "</style>\n",
       "<table border=\"1\" class=\"dataframe\">\n",
       "  <thead>\n",
       "    <tr style=\"text-align: right;\">\n",
       "      <th></th>\n",
       "      <th>deceptive</th>\n",
       "      <th>hotel</th>\n",
       "      <th>polarity</th>\n",
       "      <th>source</th>\n",
       "      <th>text</th>\n",
       "    </tr>\n",
       "  </thead>\n",
       "  <tbody>\n",
       "    <tr>\n",
       "      <th>0</th>\n",
       "      <td>truthful</td>\n",
       "      <td>conrad</td>\n",
       "      <td>positive</td>\n",
       "      <td>TripAdvisor</td>\n",
       "      <td>we stayed for a one night getaway with family ...</td>\n",
       "    </tr>\n",
       "    <tr>\n",
       "      <th>1</th>\n",
       "      <td>truthful</td>\n",
       "      <td>hyatt</td>\n",
       "      <td>positive</td>\n",
       "      <td>TripAdvisor</td>\n",
       "      <td>triple a rate with upgrade to view room was le...</td>\n",
       "    </tr>\n",
       "    <tr>\n",
       "      <th>2</th>\n",
       "      <td>truthful</td>\n",
       "      <td>hyatt</td>\n",
       "      <td>positive</td>\n",
       "      <td>TripAdvisor</td>\n",
       "      <td>this comes a little late as im finally catchin...</td>\n",
       "    </tr>\n",
       "    <tr>\n",
       "      <th>3</th>\n",
       "      <td>truthful</td>\n",
       "      <td>omni</td>\n",
       "      <td>positive</td>\n",
       "      <td>TripAdvisor</td>\n",
       "      <td>the omni chicago really delivers on all fronts...</td>\n",
       "    </tr>\n",
       "    <tr>\n",
       "      <th>4</th>\n",
       "      <td>truthful</td>\n",
       "      <td>hyatt</td>\n",
       "      <td>positive</td>\n",
       "      <td>TripAdvisor</td>\n",
       "      <td>i asked for a high floor away from the elevato...</td>\n",
       "    </tr>\n",
       "  </tbody>\n",
       "</table>\n",
       "</div>"
      ],
      "text/plain": [
       "  deceptive   hotel  polarity       source  \\\n",
       "0  truthful  conrad  positive  TripAdvisor   \n",
       "1  truthful   hyatt  positive  TripAdvisor   \n",
       "2  truthful   hyatt  positive  TripAdvisor   \n",
       "3  truthful    omni  positive  TripAdvisor   \n",
       "4  truthful   hyatt  positive  TripAdvisor   \n",
       "\n",
       "                                                text  \n",
       "0  we stayed for a one night getaway with family ...  \n",
       "1  triple a rate with upgrade to view room was le...  \n",
       "2  this comes a little late as im finally catchin...  \n",
       "3  the omni chicago really delivers on all fronts...  \n",
       "4  i asked for a high floor away from the elevato...  "
      ]
     },
     "execution_count": 18,
     "metadata": {},
     "output_type": "execute_result"
    }
   ],
   "source": [
    "data['text'] = data['text'].apply(clean_text_1)\n",
    "data.head()"
   ]
  },
  {
   "cell_type": "code",
   "execution_count": null,
   "id": "b83edb3e-528b-4ab9-82ce-ddf36f8d6192",
   "metadata": {},
   "outputs": [],
   "source": []
  },
  {
   "cell_type": "markdown",
   "id": "e9c49696-5e14-4579-ba9a-d6f70a5d41a7",
   "metadata": {},
   "source": [
    "### QUITANDO STOPWORDS"
   ]
  },
  {
   "cell_type": "code",
   "execution_count": 19,
   "id": "818aba68-7a32-4591-8b8d-e41106360da8",
   "metadata": {},
   "outputs": [
    {
     "name": "stdout",
     "output_type": "stream",
     "text": [
      "['not', 'wont', 'further', 'wouldn', 'yourselves', 'theirs', 'where', 'how', 'for', 'should', 'in', 'my', 'them', 'which', 'or', 'so', 'shant', 'if', 'when', 'this', 'mightnt', 'didn', 'ma', 'is', 'over', 'myself', 'themselves', 'at', 'youve', 'youre', 'him', 'y', 'aren', 'ours', 'about', 'whom', 'a', 'will', 're', 'having', 'some', 'wasn', 'didnt', 'won', 'to', 'she', 'wasnt', 'o', 'hadnt', 'why', 'hasnt', 'because', 'than', 'havent', 'doesnt', 'haven', 'off', 'all', 'are', 'was', 'were', 'shouldve', 'mightn', 'weren', 'hasn', 'it', 'don', 'through', 'herself', 'i', 'up', 'hers', 'their', 'during', 'being', 's', 'ourselves', 'an', 'each', 'her', 'only', 'under', 'your', 'we', 'doing', 'dont', 'did', 'below', 'now', 'ain', 't', 'me', 'the', 'its', 'couldn', 'very', 'you', 'yourself', 'arent', 'am', 'isn', 'until', 'by', 'on', 'youd', 'down', 'its', 'shes', 'here', 'youll', 'doesn', 'he', 'such', 'thatll', 'no', 'into', 'd', 'shouldnt', 'our', 'nor', 'before', 'own', 'while', 'but', 'shouldn', 'more', 'other', 'then', 'hadn', 'do', 'they', 'does', 'once', 'as', 'most', 'these', 'above', 'can', 'with', 'm', 'that', 'both', 've', 'shan', 'needn', 'himself', 'be', 'after', 'what', 'mustnt', 'couldnt', 'yours', 'neednt', 'same', 'werent', 'mustn', 'those', 'and', 'had', 'few', 'of', 'wouldnt', 'against', 'any', 'his', 'have', 'isnt', 'there', 'just', 'out', 'been', 'has', 'll', 'itself', 'again', 'too', 'who', 'from', 'between']\n"
     ]
    }
   ],
   "source": [
    "stopset_cleaned = [clean_text_1(word) for word in stopset]\n",
    "print(stopset_cleaned)"
   ]
  },
  {
   "cell_type": "code",
   "execution_count": 20,
   "id": "5530aed6-ef2f-4dd6-a877-9482c0b668d0",
   "metadata": {},
   "outputs": [
    {
     "data": {
      "text/html": [
       "<div>\n",
       "<style scoped>\n",
       "    .dataframe tbody tr th:only-of-type {\n",
       "        vertical-align: middle;\n",
       "    }\n",
       "\n",
       "    .dataframe tbody tr th {\n",
       "        vertical-align: top;\n",
       "    }\n",
       "\n",
       "    .dataframe thead th {\n",
       "        text-align: right;\n",
       "    }\n",
       "</style>\n",
       "<table border=\"1\" class=\"dataframe\">\n",
       "  <thead>\n",
       "    <tr style=\"text-align: right;\">\n",
       "      <th></th>\n",
       "      <th>deceptive</th>\n",
       "      <th>hotel</th>\n",
       "      <th>polarity</th>\n",
       "      <th>source</th>\n",
       "      <th>text</th>\n",
       "    </tr>\n",
       "  </thead>\n",
       "  <tbody>\n",
       "    <tr>\n",
       "      <th>0</th>\n",
       "      <td>truthful</td>\n",
       "      <td>conrad</td>\n",
       "      <td>positive</td>\n",
       "      <td>TripAdvisor</td>\n",
       "      <td>stayed one night getaway family thursday tripl...</td>\n",
       "    </tr>\n",
       "    <tr>\n",
       "      <th>1</th>\n",
       "      <td>truthful</td>\n",
       "      <td>hyatt</td>\n",
       "      <td>positive</td>\n",
       "      <td>TripAdvisor</td>\n",
       "      <td>triple rate upgrade view room less also includ...</td>\n",
       "    </tr>\n",
       "    <tr>\n",
       "      <th>2</th>\n",
       "      <td>truthful</td>\n",
       "      <td>hyatt</td>\n",
       "      <td>positive</td>\n",
       "      <td>TripAdvisor</td>\n",
       "      <td>comes little late im finally catching reviews ...</td>\n",
       "    </tr>\n",
       "    <tr>\n",
       "      <th>3</th>\n",
       "      <td>truthful</td>\n",
       "      <td>omni</td>\n",
       "      <td>positive</td>\n",
       "      <td>TripAdvisor</td>\n",
       "      <td>omni chicago really delivers fronts spaciousne...</td>\n",
       "    </tr>\n",
       "    <tr>\n",
       "      <th>4</th>\n",
       "      <td>truthful</td>\n",
       "      <td>hyatt</td>\n",
       "      <td>positive</td>\n",
       "      <td>TripAdvisor</td>\n",
       "      <td>asked high floor away elevator got room pleasa...</td>\n",
       "    </tr>\n",
       "  </tbody>\n",
       "</table>\n",
       "</div>"
      ],
      "text/plain": [
       "  deceptive   hotel  polarity       source  \\\n",
       "0  truthful  conrad  positive  TripAdvisor   \n",
       "1  truthful   hyatt  positive  TripAdvisor   \n",
       "2  truthful   hyatt  positive  TripAdvisor   \n",
       "3  truthful    omni  positive  TripAdvisor   \n",
       "4  truthful   hyatt  positive  TripAdvisor   \n",
       "\n",
       "                                                text  \n",
       "0  stayed one night getaway family thursday tripl...  \n",
       "1  triple rate upgrade view room less also includ...  \n",
       "2  comes little late im finally catching reviews ...  \n",
       "3  omni chicago really delivers fronts spaciousne...  \n",
       "4  asked high floor away elevator got room pleasa...  "
      ]
     },
     "execution_count": 20,
     "metadata": {},
     "output_type": "execute_result"
    }
   ],
   "source": [
    "data['text'] = data['text'].apply(lambda _: ' '.join([word for word in _.split() if word not in stopset_cleaned]))\n",
    "data.head()"
   ]
  },
  {
   "cell_type": "code",
   "execution_count": null,
   "id": "26838552-a93b-4a74-9a4b-01d563155938",
   "metadata": {},
   "outputs": [],
   "source": []
  },
  {
   "cell_type": "markdown",
   "id": "a1193442-9a4c-4de7-88bd-0ac23ae00940",
   "metadata": {},
   "source": [
    "### LEMMATIZACION"
   ]
  },
  {
   "cell_type": "code",
   "execution_count": 21,
   "id": "d288e809-c653-4b36-aacb-11e0b9f42143",
   "metadata": {},
   "outputs": [],
   "source": [
    "#!pip install spacy                                # -- descomentar la 1era vez"
   ]
  },
  {
   "cell_type": "code",
   "execution_count": 22,
   "id": "308611e7-867c-45ec-b241-0ec2bf1945ef",
   "metadata": {},
   "outputs": [],
   "source": [
    "#!pip install stanza                               #  -- descomentar la 1era vez"
   ]
  },
  {
   "cell_type": "code",
   "execution_count": 23,
   "id": "d9b4ae0d-3c65-458e-b1fe-715c15d13622",
   "metadata": {},
   "outputs": [],
   "source": [
    "#!pip install \"spacy-stanza<0.3.0\" --user          #  -- descomentar la 1era vez"
   ]
  },
  {
   "cell_type": "code",
   "execution_count": 24,
   "id": "128d54bc-fa50-48b7-a8af-a5d612b4b1fd",
   "metadata": {},
   "outputs": [],
   "source": [
    "import stanza"
   ]
  },
  {
   "cell_type": "code",
   "execution_count": 30,
   "id": "22e2ed8c-6b42-4045-af67-1bfe6a365d9c",
   "metadata": {},
   "outputs": [],
   "source": [
    "#stanza.download('en')                              #  -- descomentar la 1era vez"
   ]
  },
  {
   "cell_type": "code",
   "execution_count": 26,
   "id": "330615fc-1e9c-4800-a1cf-35a45d1f0838",
   "metadata": {},
   "outputs": [],
   "source": [
    "from spacy_stanza import StanzaLanguage"
   ]
  },
  {
   "cell_type": "code",
   "execution_count": 31,
   "id": "f569839b-1e14-4b84-b27b-dcc9e1e6ee57",
   "metadata": {},
   "outputs": [
    {
     "name": "stderr",
     "output_type": "stream",
     "text": [
      "2021-10-24 21:24:26 INFO: Loading these models for language: en (English):\n",
      "=========================\n",
      "| Processor | Package   |\n",
      "-------------------------\n",
      "| tokenize  | combined  |\n",
      "| pos       | combined  |\n",
      "| lemma     | combined  |\n",
      "| depparse  | combined  |\n",
      "| sentiment | sstplus   |\n",
      "| ner       | ontonotes |\n",
      "=========================\n",
      "\n",
      "2021-10-24 21:24:26 INFO: Use device: cpu\n",
      "2021-10-24 21:24:26 INFO: Loading: tokenize\n",
      "2021-10-24 21:24:27 INFO: Loading: pos\n",
      "2021-10-24 21:24:28 INFO: Loading: lemma\n",
      "2021-10-24 21:24:28 INFO: Loading: depparse\n",
      "2021-10-24 21:24:28 INFO: Loading: sentiment\n",
      "2021-10-24 21:24:29 INFO: Loading: ner\n",
      "2021-10-24 21:24:29 INFO: Done loading processors!\n"
     ]
    }
   ],
   "source": [
    "snlp = stanza.Pipeline(lang=\"en\")\n",
    "nlp = StanzaLanguage(snlp)"
   ]
  },
  {
   "cell_type": "code",
   "execution_count": 38,
   "id": "0905bdce-2d29-4f37-b89e-fb436b0afec9",
   "metadata": {},
   "outputs": [
    {
     "data": {
      "text/html": [
       "<div>\n",
       "<style scoped>\n",
       "    .dataframe tbody tr th:only-of-type {\n",
       "        vertical-align: middle;\n",
       "    }\n",
       "\n",
       "    .dataframe tbody tr th {\n",
       "        vertical-align: top;\n",
       "    }\n",
       "\n",
       "    .dataframe thead th {\n",
       "        text-align: right;\n",
       "    }\n",
       "</style>\n",
       "<table border=\"1\" class=\"dataframe\">\n",
       "  <thead>\n",
       "    <tr style=\"text-align: right;\">\n",
       "      <th></th>\n",
       "      <th>deceptive</th>\n",
       "      <th>hotel</th>\n",
       "      <th>polarity</th>\n",
       "      <th>source</th>\n",
       "      <th>text</th>\n",
       "      <th>lemmas</th>\n",
       "    </tr>\n",
       "  </thead>\n",
       "  <tbody>\n",
       "    <tr>\n",
       "      <th>0</th>\n",
       "      <td>truthful</td>\n",
       "      <td>conrad</td>\n",
       "      <td>positive</td>\n",
       "      <td>TripAdvisor</td>\n",
       "      <td>stayed one night getaway family thursday tripl...</td>\n",
       "      <td>stay one night getaway family Thursday triple ...</td>\n",
       "    </tr>\n",
       "    <tr>\n",
       "      <th>1</th>\n",
       "      <td>truthful</td>\n",
       "      <td>hyatt</td>\n",
       "      <td>positive</td>\n",
       "      <td>TripAdvisor</td>\n",
       "      <td>triple rate upgrade view room less also includ...</td>\n",
       "      <td>triple rate upgrade view room less also includ...</td>\n",
       "    </tr>\n",
       "    <tr>\n",
       "      <th>2</th>\n",
       "      <td>truthful</td>\n",
       "      <td>hyatt</td>\n",
       "      <td>positive</td>\n",
       "      <td>TripAdvisor</td>\n",
       "      <td>comes little late im finally catching reviews ...</td>\n",
       "      <td>come little late im finally catching review pa...</td>\n",
       "    </tr>\n",
       "    <tr>\n",
       "      <th>3</th>\n",
       "      <td>truthful</td>\n",
       "      <td>omni</td>\n",
       "      <td>positive</td>\n",
       "      <td>TripAdvisor</td>\n",
       "      <td>omni chicago really delivers fronts spaciousne...</td>\n",
       "      <td>omni chicago really deliver front spaciousness...</td>\n",
       "    </tr>\n",
       "    <tr>\n",
       "      <th>4</th>\n",
       "      <td>truthful</td>\n",
       "      <td>hyatt</td>\n",
       "      <td>positive</td>\n",
       "      <td>TripAdvisor</td>\n",
       "      <td>asked high floor away elevator got room pleasa...</td>\n",
       "      <td>ask high floor away elevator get room pleasant...</td>\n",
       "    </tr>\n",
       "  </tbody>\n",
       "</table>\n",
       "</div>"
      ],
      "text/plain": [
       "  deceptive   hotel  polarity       source  \\\n",
       "0  truthful  conrad  positive  TripAdvisor   \n",
       "1  truthful   hyatt  positive  TripAdvisor   \n",
       "2  truthful   hyatt  positive  TripAdvisor   \n",
       "3  truthful    omni  positive  TripAdvisor   \n",
       "4  truthful   hyatt  positive  TripAdvisor   \n",
       "\n",
       "                                                text  \\\n",
       "0  stayed one night getaway family thursday tripl...   \n",
       "1  triple rate upgrade view room less also includ...   \n",
       "2  comes little late im finally catching reviews ...   \n",
       "3  omni chicago really delivers fronts spaciousne...   \n",
       "4  asked high floor away elevator got room pleasa...   \n",
       "\n",
       "                                              lemmas  \n",
       "0  stay one night getaway family Thursday triple ...  \n",
       "1  triple rate upgrade view room less also includ...  \n",
       "2  come little late im finally catching review pa...  \n",
       "3  omni chicago really deliver front spaciousness...  \n",
       "4  ask high floor away elevator get room pleasant...  "
      ]
     },
     "execution_count": 38,
     "metadata": {},
     "output_type": "execute_result"
    }
   ],
   "source": [
    "data['lemmas'] = data['text'].apply(lambda _: ' '.join([token.lemma_ for token in nlp(_)]))\n",
    "data.head()"
   ]
  },
  {
   "cell_type": "code",
   "execution_count": 37,
   "id": "30998305-10aa-4f7d-b9b9-e3b73b648f15",
   "metadata": {},
   "outputs": [
    {
     "data": {
      "text/plain": [
       "'stayed one night getaway family thursday triple aaa rate steal th floor room complete plasma tv bose stereo voss evian water gorgeous bathroomno tub fine us concierge helpful cannot beat location flaw breakfast pricey service slowhours four kids four adults friday morning even though two tables restaurant food good worth wait would return heartbeat gem chicago'"
      ]
     },
     "execution_count": 37,
     "metadata": {},
     "output_type": "execute_result"
    }
   ],
   "source": [
    "data.iloc[0]['text']"
   ]
  },
  {
   "cell_type": "code",
   "execution_count": null,
   "id": "2a3d5f18-677c-438d-9b48-5f0d6482ce31",
   "metadata": {},
   "outputs": [],
   "source": []
  },
  {
   "cell_type": "markdown",
   "id": "f61f2b34-c089-4be3-b705-cf7fff921593",
   "metadata": {},
   "source": [
    "## >> DOCUMENT-TERM-MATRIX ( DTM ) basado en TDF.IDF"
   ]
  },
  {
   "cell_type": "code",
   "execution_count": 41,
   "id": "6ab30914-5eb9-4120-b20d-aaf2dc020aab",
   "metadata": {},
   "outputs": [],
   "source": [
    "from sklearn.feature_extraction.text import TfidfVectorizer,CountVectorizer\n",
    "\n",
    "vect = TfidfVectorizer(\n",
    "    stop_words=stopset_cleaned,\n",
    "    max_features=1000\n",
    ")"
   ]
  },
  {
   "cell_type": "code",
   "execution_count": 43,
   "id": "9ed315f6-00b6-49ed-96a8-b8b255d2bbb0",
   "metadata": {},
   "outputs": [],
   "source": [
    "vect_text = vect.fit_transform(data['lemmas'])"
   ]
  },
  {
   "cell_type": "code",
   "execution_count": 44,
   "id": "d4afd080-929e-4cf4-b69b-f206d5dee7be",
   "metadata": {},
   "outputs": [
    {
     "data": {
      "text/plain": [
       "<1600x1000 sparse matrix of type '<class 'numpy.float64'>'\n",
       "\twith 76356 stored elements in Compressed Sparse Row format>"
      ]
     },
     "execution_count": 44,
     "metadata": {},
     "output_type": "execute_result"
    }
   ],
   "source": [
    "vect_text"
   ]
  },
  {
   "cell_type": "code",
   "execution_count": null,
   "id": "acc66849-192e-4817-bf3c-ad8fe048eb01",
   "metadata": {},
   "outputs": [],
   "source": []
  },
  {
   "cell_type": "code",
   "execution_count": null,
   "id": "55171ba4-6c7e-474c-a92b-b0799ca852fd",
   "metadata": {},
   "outputs": [],
   "source": []
  },
  {
   "cell_type": "markdown",
   "id": "7379339b-2b95-4493-bd80-70b7fc14eece",
   "metadata": {},
   "source": [
    "### BOLSA DE PALABRAS"
   ]
  },
  {
   "cell_type": "code",
   "execution_count": null,
   "id": "a439b11a-c524-4b88-b705-60cc6c115a4e",
   "metadata": {},
   "outputs": [],
   "source": [
    "from sklearn.feature_extraction.text import CountVectorizer\n",
    "\n",
    "cv = CountVectorizer()\n",
    "cv_fit = cv.fit_transform(textos)"
   ]
  },
  {
   "cell_type": "code",
   "execution_count": null,
   "id": "0d02323d-a5c1-4418-9870-6b9de195763b",
   "metadata": {},
   "outputs": [],
   "source": [
    "cv_fit"
   ]
  },
  {
   "cell_type": "code",
   "execution_count": null,
   "id": "3cd729b3-963a-4c51-922e-eea24b7f0b53",
   "metadata": {},
   "outputs": [],
   "source": [
    "print([name for name in dir(cv_fit) if '__' not in name])"
   ]
  },
  {
   "cell_type": "code",
   "execution_count": null,
   "id": "447a5f30-93fa-4598-bf0a-b19d09946522",
   "metadata": {},
   "outputs": [],
   "source": [
    "print(cv.get_feature_names())"
   ]
  },
  {
   "cell_type": "code",
   "execution_count": null,
   "id": "8d256642-5b5c-42b3-b45d-2384cb2b18e8",
   "metadata": {},
   "outputs": [],
   "source": [
    "print(cv.vocabulary_)"
   ]
  },
  {
   "cell_type": "code",
   "execution_count": null,
   "id": "1df61b07-a79b-4da0-9bb9-3998182509fd",
   "metadata": {},
   "outputs": [],
   "source": [
    "tamanio_vocabulario = len(cv.vocabulary_)\n",
    "tamanio_vocabulario"
   ]
  },
  {
   "cell_type": "code",
   "execution_count": null,
   "id": "faede01f-e573-4c35-aaf5-531d1e219927",
   "metadata": {},
   "outputs": [],
   "source": [
    "cantidad_textos = len(textos)\n",
    "cantidad_textos"
   ]
  },
  {
   "cell_type": "code",
   "execution_count": null,
   "id": "202c0b8d-1953-48ec-b64c-50e8a41658ec",
   "metadata": {},
   "outputs": [],
   "source": [
    "espacios_con_ceros = cv_fit.toarray().sum(axis=1).sum()\n",
    "espacios_con_ceros"
   ]
  },
  {
   "cell_type": "markdown",
   "id": "e14d6285-da50-4775-b6fe-5ad9e8b53991",
   "metadata": {},
   "source": [
    "### Porcentaje de ceros"
   ]
  },
  {
   "cell_type": "code",
   "execution_count": null,
   "id": "ae1fb161-983a-4f43-ba3a-a7668dedd292",
   "metadata": {},
   "outputs": [],
   "source": [
    "sparsity = 1 - 172/ (119*14)\n",
    "sparsity"
   ]
  },
  {
   "cell_type": "code",
   "execution_count": null,
   "id": "9d98e2db-96f4-41c8-bd65-a0fc559c1807",
   "metadata": {},
   "outputs": [],
   "source": []
  },
  {
   "cell_type": "code",
   "execution_count": null,
   "id": "542f41fd-9873-443c-9fcd-e9e276643a2b",
   "metadata": {},
   "outputs": [],
   "source": []
  }
 ],
 "metadata": {
  "kernelspec": {
   "display_name": "Python 3",
   "language": "python",
   "name": "python3"
  },
  "language_info": {
   "codemirror_mode": {
    "name": "ipython",
    "version": 3
   },
   "file_extension": ".py",
   "mimetype": "text/x-python",
   "name": "python",
   "nbconvert_exporter": "python",
   "pygments_lexer": "ipython3",
   "version": "3.8.5"
  }
 },
 "nbformat": 4,
 "nbformat_minor": 5
}
