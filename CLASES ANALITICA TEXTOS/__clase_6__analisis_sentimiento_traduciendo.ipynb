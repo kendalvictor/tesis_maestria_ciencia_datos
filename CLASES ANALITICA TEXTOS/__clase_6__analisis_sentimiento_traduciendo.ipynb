{
 "cells": [
  {
   "cell_type": "code",
   "execution_count": 1,
   "id": "adaptive-barcelona",
   "metadata": {},
   "outputs": [],
   "source": [
    "## VICTOR DICE:\n",
    "import os\n",
    "import gc\n",
    "import time\n",
    "import json\n",
    "import requests\n",
    "import subprocess\n",
    "import random as rn\n",
    "from datetime import datetime, timedelta\n",
    "from dateutil.relativedelta import relativedelta\n",
    "\n",
    "import socks\n",
    "import socket\n",
    "import pymssql\n",
    "import numpy as np\n",
    "import pandas as pd\n",
    "from slugify  import slugify\n",
    "\n",
    "import warnings\n",
    "warnings.filterwarnings(\"ignore\")\n",
    "# warnings.simplefilter(action='ignore', category=FutureWarning)\n",
    "pd.set_option('display.max_rows', 500)\n",
    "pd.set_option('display.max_columns', 500)\n",
    "pd.set_option('display.width', 1000)\n",
    "pd.set_option('display.max_colwidth', -1)\n",
    "\n",
    "SEED = int(time.time() / 1000)\n",
    "os.environ['PYTHONHASHSEED'] = str(SEED)\n",
    "np.random.seed(SEED)\n",
    "rn.seed(SEED)"
   ]
  },
  {
   "cell_type": "code",
   "execution_count": null,
   "id": "d93c2080-1de7-486c-9acd-34340402f2ad",
   "metadata": {},
   "outputs": [],
   "source": []
  },
  {
   "cell_type": "markdown",
   "id": "2fa18f2c-b187-421c-9f47-b350389240a4",
   "metadata": {},
   "source": [
    "## >> UTILITARIOS"
   ]
  },
  {
   "cell_type": "code",
   "execution_count": 2,
   "id": "excess-taiwan",
   "metadata": {},
   "outputs": [
    {
     "name": "stdout",
     "output_type": "stream",
     "text": [
      "{'hubiera', 'sobre', 'donde', 'seríamos', 'seas', 'lo', 'ni', 'pero', 'tendréis', 'tenido', 'hayas', 'estuvisteis', 'estará', 'habidos', 'tuvieron', 'están', 'tuviste', 'estarán', 'sea', 'antes', 'él', 'estaríais', 'era', 'sentid', 'somos', 'tendrán', 'le', 'mía', 'o', 'estaríamos', 'estabas', 'habiendo', 'estados', 'he', 'éramos', 'fueras', 'tendrá', 'habré', 'una', 'mucho', 'habíais', 'fui', 'hubiéramos', 'fuiste', 'tuviera', 'habidas', 'desde', 'estuvieron', 'tú', 'tuyos', 'esa', 'tendrían', 'será', 'tuyo', 'tuya', 'sentidos', 'tendré', 'nosotros', 'y', 'hayan', 'hubimos', 'muy', 'estaréis', 'estarías', 'al', 'suyo', 'hubiste', 'tenemos', 'tiene', 'estuviésemos', 'estés', 'hubiésemos', 'sí', 'tuyas', 'suyos', 'contra', 'tengamos', 'te', 'sentida', 'habréis', 'a', 'hay', 'hubieras', 'unos', 'hayamos', 'un', 'tuviesen', 'sería', 'eran', 'fuerais', 'cuando', 'tenida', 'erais', 'fuisteis', 'tuvieran', 'estuve', 'otro', 'serían', 'tuviésemos', 'porque', 'sois', 'es', 'sin', 'les', 'tendremos', 'estos', 'ella', 'habrás', 'hubieseis', 'esté', 'nuestras', 'fueseis', 'estuvieseis', 'tuviéramos', 'por', 'seríais', 'estuviste', 'estuvieses', 'fuesen', 'este', 'eras', 'vuestros', 'estén', 'estéis', 'estar', 'sentido', 'estado', 'nuestros', 'habríamos', 'algunos', 'estas', 'estada', 'tened', 'entre', 'tus', 'tengan', 'tuvieses', 'otros', 'soy', 'vosotros', 'otras', 'del', 'las', 'como', 'habido', 'tu', 'estemos', 'teníamos', 'nos', 'para', 'con', 'habríais', 'está', 'estando', 'estuviera', 'fueran', 'tendrás', 'estuvimos', 'tuvisteis', 'algo', 'estás', 'los', 'nuestro', 'ese', 'serás', 'vuestra', 'cual', 'durante', 'estamos', 'habrán', 'hasta', 'esta', 'suya', 'tenidos', 'han', 'tuve', 'otra', 'sean', 'hube', 'fueses', 'el', 'de', 'fuimos', 'teniendo', 'estuvierais', 'sus', 'fuese', 'ellos', 'tenéis', 'estábamos', 'tendría', 'estaría', 'habían', 'ti', 'hayáis', 'estuviesen', 'estuviéramos', 'tendríamos', 'tengas', 'mí', 'fuéramos', 'hemos', 'habría', 'estarían', 'ante', 'ellas', 'haya', 'son', 'más', 'mi', 'tenías', 'tenga', 'tienen', 'quien', 'tuvo', 'seáis', 'tenía', 'no', 'uno', 'míos', 'tuvimos', 'me', 'estadas', 'suyas', 'la', 'fueron', 'estarás', 'quienes', 'estaré', 'has', 'nosotras', 'hubo', 'habrías', 'eres', 'estoy', 'fue', 'habremos', 'esas', 'esos', 'habíamos', 'habrían', 'hubiesen', 'hubisteis', 'nuestra', 'hubieran', 'siente', 'e', 'qué', 'teníais', 'estaba', 'hubierais', 'algunas', 'se', 'habéis', 'seamos', 'serías', 'habida', 'estuvo', 'fuésemos', 'estuviese', 'fuera', 'mías', 'había', 'todo', 'también', 'estáis', 'estaban', 'tengáis', 'tenidas', 'tienes', 'tuvieseis', 'tenían', 'tendríais', 'ya', 'en', 'tengo', 'que', 'vuestro', 'serán', 'habrá', 'su', 'tuviese', 'estaremos', 'vosotras', 'ha', 'habías', 'hubieses', 'os', 'sentidas', 'tendrías', 'nada', 'yo', 'todos', 'hubiese', 'tuvieras', 'mío', 'seremos', 'tuvierais', 'estuvieras', 'tanto', 'seréis', 'eso', 'hubieron', 'muchos', 'vuestras', 'estuvieran', 'estabais', 'sintiendo', 'mis', 'estad', 'poco', 'esto', 'seré'}\n"
     ]
    }
   ],
   "source": [
    "import nltk\n",
    "from nltk.corpus import stopwords\n",
    "from nltk.stem.snowball import SnowballStemmer\n",
    "\n",
    "stopset = set(stopwords.words(\"spanish\"))\n",
    "print(stopset)"
   ]
  },
  {
   "cell_type": "code",
   "execution_count": 3,
   "id": "ae0dc4c8-b661-487f-849f-d8c03846e386",
   "metadata": {},
   "outputs": [],
   "source": [
    "from unicodedata import normalize, category\n",
    "\n",
    "def clean_text_1(_text):\n",
    "    \"\"\"\n",
    "        Ll : minusculas\n",
    "        Zs : espacios\n",
    "        Lu : mayusculas\n",
    "        Nd : numeros\n",
    "        Mn : tildes\n",
    "        Ps : abre dieresis, .....\n",
    "        Pe : cierra dieresis, .......\n",
    "        Pi : abre parentesis, .....\n",
    "        Po : cierra parentesis, punto, coma, .....        \n",
    "        ...\n",
    "    \"\"\"\n",
    "    selects_characters = ['Ll', 'Zs', 'Lu']\n",
    "    \n",
    "    return ''.join([_.lower() for _ in normalize('NFD', _text.replace(' ', 'ZZZ')) if category(_) in selects_characters])"
   ]
  },
  {
   "cell_type": "code",
   "execution_count": 4,
   "id": "balanced-venture",
   "metadata": {},
   "outputs": [],
   "source": [
    "agents_tor = [\n",
    "    'Mozilla/5.0 (Windows NT 10.0; rv:78.0) Gecko/20100101 Firefox/78.0'\n",
    "]\n",
    "\n",
    "headers_tor = {\n",
    "    'content-type': \"application/x-www-form-urlencoded\",\n",
    "    'User-Agent': rn.choice(agents_tor),\n",
    "}\n",
    "\n",
    "letras = \"abcdefghijklmnopqrstuvwyz\"\n",
    "\n",
    "def traducir(texto, desde='es', hacia='en'): ### necesita config adicional en tu pc \n",
    "    time.sleep(1)\n",
    "    user_aletorio = ''.join([rn.choice(letras) for _ in range(8)])\n",
    "    pass_aleatorio = ''.join([rn.choice(letras) for _ in range(8)])\n",
    "    \n",
    "    socks.set_default_proxy(socks.SOCKS5, \"127.0.0.1\", 9150, True, user_aletorio, pass_aleatorio)\n",
    "    socket.socket = socks.socksocket\n",
    "    \n",
    "    headers_tor.update(\n",
    "        {\n",
    "            'User-Agent': rn.choice(agents_tor),\n",
    "            'X-Forwarded-For': requests.get('http://ifconfig.me/ip').text\n",
    "        }\n",
    "    )\n",
    "    \n",
    "    url_ = 'https://translate.googleapis.com/translate_a/single?client=gtx&sl={}&tl={}&dt=t&q={}'\n",
    "    response = requests.get(\n",
    "        url_.format(desde, hacia, texto), headers=headers_tor\n",
    "    )\n",
    "    \n",
    "    return response.json()[0][0][0] if response.status_code == 200 else 'ERROR'"
   ]
  },
  {
   "cell_type": "code",
   "execution_count": 5,
   "id": "hybrid-lawsuit",
   "metadata": {},
   "outputs": [],
   "source": [
    "def traducir_simple(texto, desde='es', hacia='en'):\n",
    "\n",
    "    url_ = 'https://translate.googleapis.com/translate_a/single?client=gtx&sl={}&tl={}&dt=t&q={}'\n",
    "    response = requests.get(url_.format(desde, hacia, texto))\n",
    "    \n",
    "    return response.json()[0][0][0] if response.status_code == 200 else 'ERROR'"
   ]
  },
  {
   "cell_type": "code",
   "execution_count": null,
   "id": "severe-thesaurus",
   "metadata": {},
   "outputs": [],
   "source": []
  },
  {
   "cell_type": "code",
   "execution_count": null,
   "id": "486a78ee-d836-4272-8a59-c978956d540c",
   "metadata": {},
   "outputs": [],
   "source": []
  },
  {
   "cell_type": "markdown",
   "id": "0a68495d-d41e-4990-a53f-af95b23a30c4",
   "metadata": {},
   "source": [
    "## >> TRAFALGAR"
   ]
  },
  {
   "cell_type": "code",
   "execution_count": 6,
   "id": "efd8180f-3d2b-4615-b5e1-3b444734de08",
   "metadata": {},
   "outputs": [
    {
     "data": {
      "text/plain": [
       "'Se me permitirá que antes de referir el gran suceso de que fui testigo, diga algunas palabras sobre mi infancia, explicando por qué extraña manera me llevaron los azares de la vida a presenciar la terrible catástrofe de nuestra marina. Al hablar de mi nacimiento, no imitaré a la mayor parte de los que cuentan hechos de su propia vida, quienes empiezan nombrando su parentela, las más veces noble, siempre hidalga por lo menos, si no se dicen descendientes del mismo Emperador de Trapisonda. Yo, en '"
      ]
     },
     "execution_count": 6,
     "metadata": {},
     "output_type": "execute_result"
    }
   ],
   "source": [
    "obra = requests.get(\"https://raw.githubusercontent.com/7PartidasDigital/AnaText/master/datos/episodios/01_EN-01-01-Trafalgar.txt\").content\n",
    "obra = obra.decode('utf-8')\n",
    "obra[:500]"
   ]
  },
  {
   "cell_type": "code",
   "execution_count": 23,
   "id": "7900e456-1899-48d4-833d-937d2af3dccd",
   "metadata": {},
   "outputs": [
    {
     "name": "stdout",
     "output_type": "stream",
     "text": [
      "(2029, 2)\n"
     ]
    },
    {
     "data": {
      "text/html": [
       "<div>\n",
       "<style scoped>\n",
       "    .dataframe tbody tr th:only-of-type {\n",
       "        vertical-align: middle;\n",
       "    }\n",
       "\n",
       "    .dataframe tbody tr th {\n",
       "        vertical-align: top;\n",
       "    }\n",
       "\n",
       "    .dataframe thead th {\n",
       "        text-align: right;\n",
       "    }\n",
       "</style>\n",
       "<table border=\"1\" class=\"dataframe\">\n",
       "  <thead>\n",
       "    <tr style=\"text-align: right;\">\n",
       "      <th></th>\n",
       "      <th>oracion</th>\n",
       "      <th>idd</th>\n",
       "    </tr>\n",
       "  </thead>\n",
       "  <tbody>\n",
       "    <tr>\n",
       "      <th>0</th>\n",
       "      <td>Se me permitirá que antes de referir el gran suceso de que fui testigo, diga algunas palabras sobre mi infancia, explicando por qué extraña manera me llevaron los azares de la vida a presenciar la terrible catástrofe de nuestra marina.</td>\n",
       "      <td>se-me-permitira-que-antes-de-referir-el-gran-suces</td>\n",
       "    </tr>\n",
       "    <tr>\n",
       "      <th>1</th>\n",
       "      <td>Al hablar de mi nacimiento, no imitaré a la mayor parte de los que cuentan hechos de su propia vida, quienes empiezan nombrando su parentela, las más veces noble, siempre hidalga por lo menos, si no se dicen descendientes del mismo Emperador de Trapisonda.</td>\n",
       "      <td>al-hablar-de-mi-nacimiento-no-imitare-a-la-mayor-p</td>\n",
       "    </tr>\n",
       "    <tr>\n",
       "      <th>2</th>\n",
       "      <td>Yo, en esta parte, no puedo adornar mi libro con sonoros apellidos; y fuera de mi madre, a quien conocí por poco tiempo, no tengo noticia de ninguno de mis ascendientes, si no es de Adán, cuyo parentesco me parece indiscutible.</td>\n",
       "      <td>yo-en-esta-parte-no-puedo-adornar-mi-libro-con-son</td>\n",
       "    </tr>\n",
       "    <tr>\n",
       "      <th>3</th>\n",
       "      <td>Doy principio, pues, a mi historia como Pablos, el buscón de Segovia: afortunadamente Dios ha querido que en esto sólo nos parezcamos.</td>\n",
       "      <td>doy-principio-pues-a-mi-historia-como-pablos-el-bu</td>\n",
       "    </tr>\n",
       "    <tr>\n",
       "      <th>4</th>\n",
       "      <td>Yo nací en Cádiz, y en el famoso barrio de la Viña, que no es hoy, ni menos era entonces, academia de buenas costumbres.</td>\n",
       "      <td>yo-naci-en-cadiz-y-en-el-famoso-barrio-de-la-vina-</td>\n",
       "    </tr>\n",
       "  </tbody>\n",
       "</table>\n",
       "</div>"
      ],
      "text/plain": [
       "                                                                                                                                                                                                                                                            oracion                                                 idd\n",
       "0  Se me permitirá que antes de referir el gran suceso de que fui testigo, diga algunas palabras sobre mi infancia, explicando por qué extraña manera me llevaron los azares de la vida a presenciar la terrible catástrofe de nuestra marina.                       se-me-permitira-que-antes-de-referir-el-gran-suces\n",
       "1  Al hablar de mi nacimiento, no imitaré a la mayor parte de los que cuentan hechos de su propia vida, quienes empiezan nombrando su parentela, las más veces noble, siempre hidalga por lo menos, si no se dicen descendientes del mismo Emperador de Trapisonda.  al-hablar-de-mi-nacimiento-no-imitare-a-la-mayor-p\n",
       "2  Yo, en esta parte, no puedo adornar mi libro con sonoros apellidos; y fuera de mi madre, a quien conocí por poco tiempo, no tengo noticia de ninguno de mis ascendientes, si no es de Adán, cuyo parentesco me parece indiscutible.                               yo-en-esta-parte-no-puedo-adornar-mi-libro-con-son\n",
       "3  Doy principio, pues, a mi historia como Pablos, el buscón de Segovia: afortunadamente Dios ha querido que en esto sólo nos parezcamos.                                                                                                                            doy-principio-pues-a-mi-historia-como-pablos-el-bu\n",
       "4  Yo nací en Cádiz, y en el famoso barrio de la Viña, que no es hoy, ni menos era entonces, academia de buenas costumbres.                                                                                                                                          yo-naci-en-cadiz-y-en-el-famoso-barrio-de-la-vina-"
      ]
     },
     "execution_count": 23,
     "metadata": {},
     "output_type": "execute_result"
    }
   ],
   "source": [
    "data = pd.DataFrame(nltk.sent_tokenize(obra))\n",
    "data.columns = ['oracion']\n",
    "data['idd'] = data['oracion'].apply(lambda _: slugify(_)[:50])\n",
    "print(data.shape)\n",
    "\n",
    "data.head()"
   ]
  },
  {
   "cell_type": "code",
   "execution_count": null,
   "id": "88355d93-1888-4e41-9698-19bf104ebdb1",
   "metadata": {},
   "outputs": [],
   "source": []
  },
  {
   "cell_type": "markdown",
   "id": "330aa8db-2b6e-4a86-9bae-f136a78ef853",
   "metadata": {},
   "source": [
    "## >> Traduccion recursiva persistida "
   ]
  },
  {
   "cell_type": "code",
   "execution_count": 58,
   "id": "475b65dd-3e6b-4b20-8674-6f7be1692bc8",
   "metadata": {},
   "outputs": [
    {
     "data": {
      "text/plain": [
       "1920"
      ]
     },
     "execution_count": 58,
     "metadata": {},
     "output_type": "execute_result"
    }
   ],
   "source": [
    "with open(\"trafalgar.json\", \"r\") as inputfile:\n",
    "    dicc_traductor = json.loads(inputfile.read())\n",
    "    \n",
    "size_initial = len(dicc_traductor)\n",
    "size_initial"
   ]
  },
  {
   "cell_type": "code",
   "execution_count": 59,
   "id": "dab4bbdb-d6c7-4067-acda-825029d435d4",
   "metadata": {},
   "outputs": [
    {
     "name": "stdout",
     "output_type": "stream",
     "text": [
      ". . . . . . "
     ]
    },
    {
     "name": "stderr",
     "output_type": "stream",
     "text": [
      "ERROR:root:Internal Python error in the inspect module.\n",
      "Below is the traceback from this internal error.\n",
      "\n",
      "\n",
      "KeyboardInterrupt\n",
      "\n"
     ]
    }
   ],
   "source": [
    "while len([_ for _ in data['idd'].unique() if _ not in dicc_traductor]) > 0:\n",
    "    try:\n",
    "        for idd in [_ for _ in data['idd'].unique() if _ not in dicc_traductor]:\n",
    "            traduction = traducir(data[data['idd'] == idd]['oracion'].values[0])\n",
    "            if traduction != 'ERROR':\n",
    "                dicc_traductor[idd] = traduction\n",
    "            print('.', end=' ')\n",
    "    \n",
    "    except Exception as e:\n",
    "        print(\"-\"*50, str(e))\n",
    "        time.sleep(30)"
   ]
  },
  {
   "cell_type": "code",
   "execution_count": 55,
   "id": "eaea03f2-d2f1-4b14-8156-7cd99040663a",
   "metadata": {},
   "outputs": [],
   "source": [
    "k_del = []\n",
    "for k, v in dicc_traductor.items():\n",
    "    if v == 'ERROR':\n",
    "        k_del.append(k)\n",
    "\n",
    "for k in k_del:\n",
    "    del dicc_traductor[k]"
   ]
  },
  {
   "cell_type": "code",
   "execution_count": 60,
   "id": "bb1e2e5a-ba27-4270-a701-0d2b21bc02b2",
   "metadata": {},
   "outputs": [
    {
     "data": {
      "text/plain": [
       "1925"
      ]
     },
     "execution_count": 60,
     "metadata": {},
     "output_type": "execute_result"
    }
   ],
   "source": [
    "len(dicc_traductor)"
   ]
  },
  {
   "cell_type": "code",
   "execution_count": 61,
   "id": "67c9cae3-54bb-4e4f-9137-f6a4ae00f06c",
   "metadata": {},
   "outputs": [],
   "source": [
    "if len(dicc_traductor) > size_initial:\n",
    "    tupla = dicc_traductor.items()\n",
    "    \n",
    "    with open(\"trafalgar.json\", \"w\") as outfile:\n",
    "        json.dump(dicc_traductor, outfile)"
   ]
  },
  {
   "cell_type": "code",
   "execution_count": null,
   "id": "1430eeea-09e4-4b10-a3cd-e6003536092e",
   "metadata": {},
   "outputs": [],
   "source": []
  },
  {
   "cell_type": "markdown",
   "id": "6c20fd7d-d34e-4619-aac7-a19de6dfcaa6",
   "metadata": {},
   "source": [
    "## >> AGREGADO DE TRADUCCION A INGLES"
   ]
  },
  {
   "cell_type": "code",
   "execution_count": 64,
   "id": "79cbac34-f3d3-4001-bce3-eab635e427d6",
   "metadata": {},
   "outputs": [
    {
     "data": {
      "text/html": [
       "<div>\n",
       "<style scoped>\n",
       "    .dataframe tbody tr th:only-of-type {\n",
       "        vertical-align: middle;\n",
       "    }\n",
       "\n",
       "    .dataframe tbody tr th {\n",
       "        vertical-align: top;\n",
       "    }\n",
       "\n",
       "    .dataframe thead th {\n",
       "        text-align: right;\n",
       "    }\n",
       "</style>\n",
       "<table border=\"1\" class=\"dataframe\">\n",
       "  <thead>\n",
       "    <tr style=\"text-align: right;\">\n",
       "      <th></th>\n",
       "      <th>oracion</th>\n",
       "      <th>idd</th>\n",
       "      <th>traducción</th>\n",
       "    </tr>\n",
       "  </thead>\n",
       "  <tbody>\n",
       "    <tr>\n",
       "      <th>0</th>\n",
       "      <td>Se me permitirá que antes de referir el gran suceso de que fui testigo, diga algunas palabras sobre mi infancia, explicando por qué extraña manera me llevaron los azares de la vida a presenciar la terrible catástrofe de nuestra marina.</td>\n",
       "      <td>se-me-permitira-que-antes-de-referir-el-gran-suces</td>\n",
       "      <td>Before referring to the great event I witnessed, I will be allowed to say a few words about my childhood, explaining why strangely the hazards of life led me to witness the terrible catastrophe of our navy.</td>\n",
       "    </tr>\n",
       "    <tr>\n",
       "      <th>1</th>\n",
       "      <td>Al hablar de mi nacimiento, no imitaré a la mayor parte de los que cuentan hechos de su propia vida, quienes empiezan nombrando su parentela, las más veces noble, siempre hidalga por lo menos, si no se dicen descendientes del mismo Emperador de Trapisonda.</td>\n",
       "      <td>al-hablar-de-mi-nacimiento-no-imitare-a-la-mayor-p</td>\n",
       "      <td>When speaking of my birth, I will not imitate most of those who tell facts about their own lives, who begin by naming their relatives, most of them noble, always noble at least, if they do not call themselves descendants of the Emperor of Trabzon.</td>\n",
       "    </tr>\n",
       "    <tr>\n",
       "      <th>2</th>\n",
       "      <td>Yo, en esta parte, no puedo adornar mi libro con sonoros apellidos; y fuera de mi madre, a quien conocí por poco tiempo, no tengo noticia de ninguno de mis ascendientes, si no es de Adán, cuyo parentesco me parece indiscutible.</td>\n",
       "      <td>yo-en-esta-parte-no-puedo-adornar-mi-libro-con-son</td>\n",
       "      <td>In this part, I cannot decorate my book with sonorous surnames;</td>\n",
       "    </tr>\n",
       "    <tr>\n",
       "      <th>3</th>\n",
       "      <td>Doy principio, pues, a mi historia como Pablos, el buscón de Segovia: afortunadamente Dios ha querido que en esto sólo nos parezcamos.</td>\n",
       "      <td>doy-principio-pues-a-mi-historia-como-pablos-el-bu</td>\n",
       "      <td>So I begin my story as Pablos, the buscón from Segovia: fortunately God has wanted us to only be alike in this.</td>\n",
       "    </tr>\n",
       "    <tr>\n",
       "      <th>4</th>\n",
       "      <td>Yo nací en Cádiz, y en el famoso barrio de la Viña, que no es hoy, ni menos era entonces, academia de buenas costumbres.</td>\n",
       "      <td>yo-naci-en-cadiz-y-en-el-famoso-barrio-de-la-vina-</td>\n",
       "      <td>I was born in Cádiz, and in the famous neighborhood of La Viña, which is not today, nor was it then, an academy of good customs.</td>\n",
       "    </tr>\n",
       "  </tbody>\n",
       "</table>\n",
       "</div>"
      ],
      "text/plain": [
       "                                                                                                                                                                                                                                                            oracion                                                 idd                                                                                                                                                                                                                                               traducción\n",
       "0  Se me permitirá que antes de referir el gran suceso de que fui testigo, diga algunas palabras sobre mi infancia, explicando por qué extraña manera me llevaron los azares de la vida a presenciar la terrible catástrofe de nuestra marina.                       se-me-permitira-que-antes-de-referir-el-gran-suces  Before referring to the great event I witnessed, I will be allowed to say a few words about my childhood, explaining why strangely the hazards of life led me to witness the terrible catastrophe of our navy.                                         \n",
       "1  Al hablar de mi nacimiento, no imitaré a la mayor parte de los que cuentan hechos de su propia vida, quienes empiezan nombrando su parentela, las más veces noble, siempre hidalga por lo menos, si no se dicen descendientes del mismo Emperador de Trapisonda.  al-hablar-de-mi-nacimiento-no-imitare-a-la-mayor-p  When speaking of my birth, I will not imitate most of those who tell facts about their own lives, who begin by naming their relatives, most of them noble, always noble at least, if they do not call themselves descendants of the Emperor of Trabzon.\n",
       "2  Yo, en esta parte, no puedo adornar mi libro con sonoros apellidos; y fuera de mi madre, a quien conocí por poco tiempo, no tengo noticia de ninguno de mis ascendientes, si no es de Adán, cuyo parentesco me parece indiscutible.                               yo-en-esta-parte-no-puedo-adornar-mi-libro-con-son  In this part, I cannot decorate my book with sonorous surnames;                                                                                                                                                                                        \n",
       "3  Doy principio, pues, a mi historia como Pablos, el buscón de Segovia: afortunadamente Dios ha querido que en esto sólo nos parezcamos.                                                                                                                            doy-principio-pues-a-mi-historia-como-pablos-el-bu  So I begin my story as Pablos, the buscón from Segovia: fortunately God has wanted us to only be alike in this.                                                                                                                                        \n",
       "4  Yo nací en Cádiz, y en el famoso barrio de la Viña, que no es hoy, ni menos era entonces, academia de buenas costumbres.                                                                                                                                          yo-naci-en-cadiz-y-en-el-famoso-barrio-de-la-vina-  I was born in Cádiz, and in the famous neighborhood of La Viña, which is not today, nor was it then, an academy of good customs.                                                                                                                       "
      ]
     },
     "execution_count": 64,
     "metadata": {},
     "output_type": "execute_result"
    }
   ],
   "source": [
    "data['traducción'] = data['idd'].apply(lambda _: dicc_traductor.get(_, ''))\n",
    "data.head()"
   ]
  },
  {
   "cell_type": "code",
   "execution_count": null,
   "id": "a7d9cfe3-6847-4346-b5af-5a3f60f0083c",
   "metadata": {},
   "outputs": [],
   "source": []
  },
  {
   "cell_type": "markdown",
   "id": "30104f0a-c94f-4db7-a702-0b6c36625f79",
   "metadata": {},
   "source": [
    "## >> LIMPIEZA STOPWORD EN INGLES"
   ]
  },
  {
   "cell_type": "code",
   "execution_count": 65,
   "id": "259ff5f3-032d-41d4-bbbb-cf517680bbfb",
   "metadata": {},
   "outputs": [
    {
     "name": "stdout",
     "output_type": "stream",
     "text": [
      "['i', 'me', 'my', 'myself', 'we', 'our', 'ours', 'ourselves', 'you', \"you're\", \"you've\", \"you'll\", \"you'd\", 'your', 'yours', 'yourself', 'yourselves', 'he', 'him', 'his', 'himself', 'she', \"she's\", 'her', 'hers', 'herself', 'it', \"it's\", 'its', 'itself', 'they', 'them', 'their', 'theirs', 'themselves', 'what', 'which', 'who', 'whom', 'this', 'that', \"that'll\", 'these', 'those', 'am', 'is', 'are', 'was', 'were', 'be', 'been', 'being', 'have', 'has', 'had', 'having', 'do', 'does', 'did', 'doing', 'a', 'an', 'the', 'and', 'but', 'if', 'or', 'because', 'as', 'until', 'while', 'of', 'at', 'by', 'for', 'with', 'about', 'against', 'between', 'into', 'through', 'during', 'before', 'after', 'above', 'below', 'to', 'from', 'up', 'down', 'in', 'out', 'on', 'off', 'over', 'under', 'again', 'further', 'then', 'once', 'here', 'there', 'when', 'where', 'why', 'how', 'all', 'any', 'both', 'each', 'few', 'more', 'most', 'other', 'some', 'such', 'no', 'nor', 'not', 'only', 'own', 'same', 'so', 'than', 'too', 'very', 's', 't', 'can', 'will', 'just', 'don', \"don't\", 'should', \"should've\", 'now', 'd', 'll', 'm', 'o', 're', 've', 'y', 'ain', 'aren', \"aren't\", 'couldn', \"couldn't\", 'didn', \"didn't\", 'doesn', \"doesn't\", 'hadn', \"hadn't\", 'hasn', \"hasn't\", 'haven', \"haven't\", 'isn', \"isn't\", 'ma', 'mightn', \"mightn't\", 'mustn', \"mustn't\", 'needn', \"needn't\", 'shan', \"shan't\", 'shouldn', \"shouldn't\", 'wasn', \"wasn't\", 'weren', \"weren't\", 'won', \"won't\", 'wouldn', \"wouldn't\"]\n"
     ]
    }
   ],
   "source": [
    "import nltk\n",
    "from nltk.corpus import stopwords\n",
    "stopwords_english = stopwords.words('english')\n",
    "\n",
    "print(stopwords_english)"
   ]
  },
  {
   "cell_type": "code",
   "execution_count": 77,
   "id": "b86a5c7a-89f5-4d11-8b0b-2d7cd3568e10",
   "metadata": {},
   "outputs": [],
   "source": [
    "data['traducción'] = data['traducción'].apply(\n",
    "    lambda _:  ' '.join([word for word in _.replace(',', '').replace('.', '').replace(';', '').replace(':', '').split()if word not in stopwords_english]).strip()\n",
    ")"
   ]
  },
  {
   "cell_type": "code",
   "execution_count": 78,
   "id": "8df011b1-b1bb-487f-a0e3-f875229142ea",
   "metadata": {},
   "outputs": [
    {
     "data": {
      "text/html": [
       "<div>\n",
       "<style scoped>\n",
       "    .dataframe tbody tr th:only-of-type {\n",
       "        vertical-align: middle;\n",
       "    }\n",
       "\n",
       "    .dataframe tbody tr th {\n",
       "        vertical-align: top;\n",
       "    }\n",
       "\n",
       "    .dataframe thead th {\n",
       "        text-align: right;\n",
       "    }\n",
       "</style>\n",
       "<table border=\"1\" class=\"dataframe\">\n",
       "  <thead>\n",
       "    <tr style=\"text-align: right;\">\n",
       "      <th></th>\n",
       "      <th>oracion</th>\n",
       "      <th>idd</th>\n",
       "      <th>traducción</th>\n",
       "      <th>sentiment_dict</th>\n",
       "      <th>negativo</th>\n",
       "      <th>positivo</th>\n",
       "      <th>neutro</th>\n",
       "      <th>composicion</th>\n",
       "    </tr>\n",
       "  </thead>\n",
       "  <tbody>\n",
       "    <tr>\n",
       "      <th>0</th>\n",
       "      <td>Se me permitirá que antes de referir el gran suceso de que fui testigo, diga algunas palabras sobre mi infancia, explicando por qué extraña manera me llevaron los azares de la vida a presenciar la terrible catástrofe de nuestra marina.</td>\n",
       "      <td>se-me-permitira-que-antes-de-referir-el-gran-suces</td>\n",
       "      <td>Before referring great event I witnessed I allowed say words childhood explaining strangely hazards life led witness terrible catastrophe navy</td>\n",
       "      <td>{'neg': 0.326, 'neu': 0.537, 'pos': 0.138, 'compound': -0.6808}</td>\n",
       "      <td>0.326</td>\n",
       "      <td>0.138</td>\n",
       "      <td>0.537</td>\n",
       "      <td>-0.6808</td>\n",
       "    </tr>\n",
       "    <tr>\n",
       "      <th>1</th>\n",
       "      <td>Al hablar de mi nacimiento, no imitaré a la mayor parte de los que cuentan hechos de su propia vida, quienes empiezan nombrando su parentela, las más veces noble, siempre hidalga por lo menos, si no se dicen descendientes del mismo Emperador de Trapisonda.</td>\n",
       "      <td>al-hablar-de-mi-nacimiento-no-imitare-a-la-mayor-p</td>\n",
       "      <td>When speaking birth I imitate tell facts lives begin naming relatives noble always noble least call descendants Emperor Trabzon</td>\n",
       "      <td>{'neg': 0.0, 'neu': 0.739, 'pos': 0.261, 'compound': 0.7184}</td>\n",
       "      <td>0.000</td>\n",
       "      <td>0.261</td>\n",
       "      <td>0.739</td>\n",
       "      <td>0.7184</td>\n",
       "    </tr>\n",
       "    <tr>\n",
       "      <th>2</th>\n",
       "      <td>Yo, en esta parte, no puedo adornar mi libro con sonoros apellidos; y fuera de mi madre, a quien conocí por poco tiempo, no tengo noticia de ninguno de mis ascendientes, si no es de Adán, cuyo parentesco me parece indiscutible.</td>\n",
       "      <td>yo-en-esta-parte-no-puedo-adornar-mi-libro-con-son</td>\n",
       "      <td>In part I cannot decorate book sonorous surnames</td>\n",
       "      <td>{'neg': 0.0, 'neu': 1.0, 'pos': 0.0, 'compound': 0.0}</td>\n",
       "      <td>0.000</td>\n",
       "      <td>0.000</td>\n",
       "      <td>1.000</td>\n",
       "      <td>0.0000</td>\n",
       "    </tr>\n",
       "    <tr>\n",
       "      <th>3</th>\n",
       "      <td>Doy principio, pues, a mi historia como Pablos, el buscón de Segovia: afortunadamente Dios ha querido que en esto sólo nos parezcamos.</td>\n",
       "      <td>doy-principio-pues-a-mi-historia-como-pablos-el-bu</td>\n",
       "      <td>So I begin story Pablos buscón Segovia fortunately God wanted us alike</td>\n",
       "      <td>{'neg': 0.0, 'neu': 0.84, 'pos': 0.16, 'compound': 0.2732}</td>\n",
       "      <td>0.000</td>\n",
       "      <td>0.160</td>\n",
       "      <td>0.840</td>\n",
       "      <td>0.2732</td>\n",
       "    </tr>\n",
       "    <tr>\n",
       "      <th>4</th>\n",
       "      <td>Yo nací en Cádiz, y en el famoso barrio de la Viña, que no es hoy, ni menos era entonces, academia de buenas costumbres.</td>\n",
       "      <td>yo-naci-en-cadiz-y-en-el-famoso-barrio-de-la-vina-</td>\n",
       "      <td>I born Cádiz famous neighborhood La Viña today academy good customs</td>\n",
       "      <td>{'neg': 0.0, 'neu': 0.775, 'pos': 0.225, 'compound': 0.4404}</td>\n",
       "      <td>0.000</td>\n",
       "      <td>0.225</td>\n",
       "      <td>0.775</td>\n",
       "      <td>0.4404</td>\n",
       "    </tr>\n",
       "  </tbody>\n",
       "</table>\n",
       "</div>"
      ],
      "text/plain": [
       "                                                                                                                                                                                                                                                            oracion                                                 idd                                                                                                                                      traducción                                                   sentiment_dict  negativo  positivo  neutro  composicion\n",
       "0  Se me permitirá que antes de referir el gran suceso de que fui testigo, diga algunas palabras sobre mi infancia, explicando por qué extraña manera me llevaron los azares de la vida a presenciar la terrible catástrofe de nuestra marina.                       se-me-permitira-que-antes-de-referir-el-gran-suces  Before referring great event I witnessed I allowed say words childhood explaining strangely hazards life led witness terrible catastrophe navy  {'neg': 0.326, 'neu': 0.537, 'pos': 0.138, 'compound': -0.6808}  0.326     0.138     0.537  -0.6808     \n",
       "1  Al hablar de mi nacimiento, no imitaré a la mayor parte de los que cuentan hechos de su propia vida, quienes empiezan nombrando su parentela, las más veces noble, siempre hidalga por lo menos, si no se dicen descendientes del mismo Emperador de Trapisonda.  al-hablar-de-mi-nacimiento-no-imitare-a-la-mayor-p  When speaking birth I imitate tell facts lives begin naming relatives noble always noble least call descendants Emperor Trabzon                 {'neg': 0.0, 'neu': 0.739, 'pos': 0.261, 'compound': 0.7184}     0.000     0.261     0.739   0.7184     \n",
       "2  Yo, en esta parte, no puedo adornar mi libro con sonoros apellidos; y fuera de mi madre, a quien conocí por poco tiempo, no tengo noticia de ninguno de mis ascendientes, si no es de Adán, cuyo parentesco me parece indiscutible.                               yo-en-esta-parte-no-puedo-adornar-mi-libro-con-son  In part I cannot decorate book sonorous surnames                                                                                                {'neg': 0.0, 'neu': 1.0, 'pos': 0.0, 'compound': 0.0}            0.000     0.000     1.000   0.0000     \n",
       "3  Doy principio, pues, a mi historia como Pablos, el buscón de Segovia: afortunadamente Dios ha querido que en esto sólo nos parezcamos.                                                                                                                            doy-principio-pues-a-mi-historia-como-pablos-el-bu  So I begin story Pablos buscón Segovia fortunately God wanted us alike                                                                          {'neg': 0.0, 'neu': 0.84, 'pos': 0.16, 'compound': 0.2732}       0.000     0.160     0.840   0.2732     \n",
       "4  Yo nací en Cádiz, y en el famoso barrio de la Viña, que no es hoy, ni menos era entonces, academia de buenas costumbres.                                                                                                                                          yo-naci-en-cadiz-y-en-el-famoso-barrio-de-la-vina-  I born Cádiz famous neighborhood La Viña today academy good customs                                                                             {'neg': 0.0, 'neu': 0.775, 'pos': 0.225, 'compound': 0.4404}     0.000     0.225     0.775   0.4404     "
      ]
     },
     "execution_count": 78,
     "metadata": {},
     "output_type": "execute_result"
    }
   ],
   "source": [
    "data.head()"
   ]
  },
  {
   "cell_type": "code",
   "execution_count": null,
   "id": "f036a8f0-a7bc-48fe-86d2-e2e477bb8492",
   "metadata": {},
   "outputs": [],
   "source": []
  },
  {
   "cell_type": "markdown",
   "id": "5fa149df-421d-46de-a25b-f841e6985540",
   "metadata": {},
   "source": [
    "## >> POLARIDAD"
   ]
  },
  {
   "cell_type": "code",
   "execution_count": 79,
   "id": "a694eb46-248e-4bc1-8668-d401b01eb7e7",
   "metadata": {},
   "outputs": [
    {
     "data": {
      "text/plain": [
       "0    {'neg': 0.326, 'neu': 0.537, 'pos': 0.138, 'compound': -0.6808}\n",
       "1    {'neg': 0.0, 'neu': 0.739, 'pos': 0.261, 'compound': 0.7184}   \n",
       "2    {'neg': 0.0, 'neu': 1.0, 'pos': 0.0, 'compound': 0.0}          \n",
       "3    {'neg': 0.0, 'neu': 0.84, 'pos': 0.16, 'compound': 0.2732}     \n",
       "4    {'neg': 0.0, 'neu': 0.775, 'pos': 0.225, 'compound': 0.4404}   \n",
       "Name: sentiment_dict, dtype: object"
      ]
     },
     "execution_count": 79,
     "metadata": {},
     "output_type": "execute_result"
    }
   ],
   "source": [
    "from vaderSentiment.vaderSentiment import SentimentIntensityAnalyzer\n",
    "analyser = SentimentIntensityAnalyzer()\n",
    "\n",
    "data['sentiment_dict'] = data['traducción'].apply(lambda _: analyser.polarity_scores(_))\n",
    "data['sentiment_dict'].head()"
   ]
  },
  {
   "cell_type": "code",
   "execution_count": 80,
   "id": "e2821091-473a-4c0b-a4c9-83218fef7016",
   "metadata": {},
   "outputs": [],
   "source": [
    "data['negativo'] = data['sentiment_dict'].apply(lambda _: _.get('neg', 0))\n",
    "data['positivo'] = data['sentiment_dict'].apply(lambda _: _.get('pos', 0))\n",
    "data['neutro'] = data['sentiment_dict'].apply(lambda _: _.get('neu', 0))\n",
    "data['composicion'] = data['sentiment_dict'].apply(lambda _: _.get('compound', 0))"
   ]
  },
  {
   "cell_type": "code",
   "execution_count": null,
   "id": "c2bd5d99-0c77-42ed-86c4-5d6e9e153073",
   "metadata": {},
   "outputs": [],
   "source": []
  },
  {
   "cell_type": "markdown",
   "id": "b1d78910-b481-4f19-8441-8559e62a378a",
   "metadata": {},
   "source": [
    "## >> Vistazo de histograma de polaridad"
   ]
  },
  {
   "cell_type": "code",
   "execution_count": 81,
   "id": "d2766c17-afa6-463e-8493-4354aaac2446",
   "metadata": {},
   "outputs": [
    {
     "data": {
      "text/plain": [
       "<AxesSubplot:>"
      ]
     },
     "execution_count": 81,
     "metadata": {},
     "output_type": "execute_result"
    },
    {
     "data": {
      "image/png": "[encoded data removed]",
      "text/plain": [
       "<Figure size 432x288 with 1 Axes>"
      ]
     },
     "metadata": {
      "needs_background": "light"
     },
     "output_type": "display_data"
    }
   ],
   "source": [
    "data['negativo'].hist()"
   ]
  },
  {
   "cell_type": "code",
   "execution_count": 82,
   "id": "a73571c6-5231-4ab5-bab9-b851646d7113",
   "metadata": {},
   "outputs": [
    {
     "data": {
      "text/plain": [
       "<AxesSubplot:>"
      ]
     },
     "execution_count": 82,
     "metadata": {},
     "output_type": "execute_result"
    },
    {
     "data": {
      "image/png": "[encoded data removed]",
      "text/plain": [
       "<Figure size 432x288 with 1 Axes>"
      ]
     },
     "metadata": {
      "needs_background": "light"
     },
     "output_type": "display_data"
    }
   ],
   "source": [
    "data['positivo'].hist()"
   ]
  },
  {
   "cell_type": "code",
   "execution_count": 83,
   "id": "8e65ec84-3eb3-405e-8709-d63fb88bb744",
   "metadata": {},
   "outputs": [
    {
     "data": {
      "text/plain": [
       "<AxesSubplot:>"
      ]
     },
     "execution_count": 83,
     "metadata": {},
     "output_type": "execute_result"
    },
    {
     "data": {
      "image/png": "[encoded data removed]",
      "text/plain": [
       "<Figure size 432x288 with 1 Axes>"
      ]
     },
     "metadata": {
      "needs_background": "light"
     },
     "output_type": "display_data"
    }
   ],
   "source": [
    "data['neutro'].hist()"
   ]
  },
  {
   "cell_type": "code",
   "execution_count": 84,
   "id": "f63e5c40-b323-45ea-aea7-44fdbcdd07d0",
   "metadata": {},
   "outputs": [
    {
     "data": {
      "text/plain": [
       "<AxesSubplot:>"
      ]
     },
     "execution_count": 84,
     "metadata": {},
     "output_type": "execute_result"
    },
    {
     "data": {
      "image/png": "[encoded data removed]",
      "text/plain": [
       "<Figure size 432x288 with 1 Axes>"
      ]
     },
     "metadata": {
      "needs_background": "light"
     },
     "output_type": "display_data"
    }
   ],
   "source": [
    "data['composicion'].hist()"
   ]
  },
  {
   "cell_type": "code",
   "execution_count": null,
   "id": "525b4a9f-592f-43b6-a2d7-48dcaaf39f9b",
   "metadata": {},
   "outputs": [],
   "source": []
  },
  {
   "cell_type": "markdown",
   "id": "26b73183-11d7-4fe2-81cf-6722ccb28d02",
   "metadata": {},
   "source": [
    "## CORRELACION"
   ]
  },
  {
   "cell_type": "code",
   "execution_count": 85,
   "id": "7a707b38-a4da-480e-90b3-7451503b0450",
   "metadata": {},
   "outputs": [
    {
     "data": {
      "text/html": [
       "<style  type=\"text/css\" >\n",
       "#T_6f056_row0_col0,#T_6f056_row1_col1,#T_6f056_row2_col2,#T_6f056_row3_col3{\n",
       "            background-color:  #b40426;\n",
       "            color:  #f1f1f1;\n",
       "        }#T_6f056_row0_col1,#T_6f056_row1_col0{\n",
       "            background-color:  #536edd;\n",
       "            color:  #000000;\n",
       "        }#T_6f056_row0_col2,#T_6f056_row2_col0{\n",
       "            background-color:  #5875e1;\n",
       "            color:  #000000;\n",
       "        }#T_6f056_row0_col3,#T_6f056_row3_col0{\n",
       "            background-color:  #b7cff9;\n",
       "            color:  #000000;\n",
       "        }#T_6f056_row1_col2,#T_6f056_row2_col1{\n",
       "            background-color:  #adc9fd;\n",
       "            color:  #000000;\n",
       "        }#T_6f056_row1_col3,#T_6f056_row3_col1{\n",
       "            background-color:  #ec8165;\n",
       "            color:  #000000;\n",
       "        }#T_6f056_row2_col3,#T_6f056_row3_col2{\n",
       "            background-color:  #3b4cc0;\n",
       "            color:  #f1f1f1;\n",
       "        }</style><table id=\"T_6f056_\" ><thead>    <tr>        <th class=\"blank level0\" ></th>        <th class=\"col_heading level0 col0\" >neutro</th>        <th class=\"col_heading level0 col1\" >positivo</th>        <th class=\"col_heading level0 col2\" >negativo</th>        <th class=\"col_heading level0 col3\" >composicion</th>    </tr></thead><tbody>\n",
       "                <tr>\n",
       "                        <th id=\"T_6f056_level0_row0\" class=\"row_heading level0 row0\" >neutro</th>\n",
       "                        <td id=\"T_6f056_row0_col0\" class=\"data row0 col0\" >1.000</td>\n",
       "                        <td id=\"T_6f056_row0_col1\" class=\"data row0 col1\" >-0.506</td>\n",
       "                        <td id=\"T_6f056_row0_col2\" class=\"data row0 col2\" >-0.479</td>\n",
       "                        <td id=\"T_6f056_row0_col3\" class=\"data row0 col3\" >-0.023</td>\n",
       "            </tr>\n",
       "            <tr>\n",
       "                        <th id=\"T_6f056_level0_row1\" class=\"row_heading level0 row1\" >positivo</th>\n",
       "                        <td id=\"T_6f056_row1_col0\" class=\"data row1 col0\" >-0.506</td>\n",
       "                        <td id=\"T_6f056_row1_col1\" class=\"data row1 col1\" >1.000</td>\n",
       "                        <td id=\"T_6f056_row1_col2\" class=\"data row1 col2\" >-0.077</td>\n",
       "                        <td id=\"T_6f056_row1_col3\" class=\"data row1 col3\" >0.686</td>\n",
       "            </tr>\n",
       "            <tr>\n",
       "                        <th id=\"T_6f056_level0_row2\" class=\"row_heading level0 row2\" >negativo</th>\n",
       "                        <td id=\"T_6f056_row2_col0\" class=\"data row2 col0\" >-0.479</td>\n",
       "                        <td id=\"T_6f056_row2_col1\" class=\"data row2 col1\" >-0.077</td>\n",
       "                        <td id=\"T_6f056_row2_col2\" class=\"data row2 col2\" >1.000</td>\n",
       "                        <td id=\"T_6f056_row2_col3\" class=\"data row2 col3\" >-0.636</td>\n",
       "            </tr>\n",
       "            <tr>\n",
       "                        <th id=\"T_6f056_level0_row3\" class=\"row_heading level0 row3\" >composicion</th>\n",
       "                        <td id=\"T_6f056_row3_col0\" class=\"data row3 col0\" >-0.023</td>\n",
       "                        <td id=\"T_6f056_row3_col1\" class=\"data row3 col1\" >0.686</td>\n",
       "                        <td id=\"T_6f056_row3_col2\" class=\"data row3 col2\" >-0.636</td>\n",
       "                        <td id=\"T_6f056_row3_col3\" class=\"data row3 col3\" >1.000</td>\n",
       "            </tr>\n",
       "    </tbody></table>"
      ],
      "text/plain": [
       "<pandas.io.formats.style.Styler at 0x1d13ddcf820>"
      ]
     },
     "execution_count": 85,
     "metadata": {},
     "output_type": "execute_result"
    }
   ],
   "source": [
    "data[['neutro', 'positivo', 'negativo', 'composicion']].corr(\n",
    "    method='spearman').style.background_gradient(cmap='coolwarm', axis=None).set_precision(3)"
   ]
  },
  {
   "cell_type": "code",
   "execution_count": 86,
   "id": "7499bbc2-ee07-4437-9da7-cc72f42f4994",
   "metadata": {},
   "outputs": [
    {
     "data": {
      "text/html": [
       "<div>\n",
       "<style scoped>\n",
       "    .dataframe tbody tr th:only-of-type {\n",
       "        vertical-align: middle;\n",
       "    }\n",
       "\n",
       "    .dataframe tbody tr th {\n",
       "        vertical-align: top;\n",
       "    }\n",
       "\n",
       "    .dataframe thead th {\n",
       "        text-align: right;\n",
       "    }\n",
       "</style>\n",
       "<table border=\"1\" class=\"dataframe\">\n",
       "  <thead>\n",
       "    <tr style=\"text-align: right;\">\n",
       "      <th></th>\n",
       "      <th>oracion</th>\n",
       "      <th>idd</th>\n",
       "      <th>traducción</th>\n",
       "      <th>sentiment_dict</th>\n",
       "      <th>negativo</th>\n",
       "      <th>positivo</th>\n",
       "      <th>neutro</th>\n",
       "      <th>composicion</th>\n",
       "    </tr>\n",
       "  </thead>\n",
       "  <tbody>\n",
       "    <tr>\n",
       "      <th>0</th>\n",
       "      <td>Se me permitirá que antes de referir el gran suceso de que fui testigo, diga algunas palabras sobre mi infancia, explicando por qué extraña manera me llevaron los azares de la vida a presenciar la terrible catástrofe de nuestra marina.</td>\n",
       "      <td>se-me-permitira-que-antes-de-referir-el-gran-suces</td>\n",
       "      <td>Before referring great event I witnessed I allowed say words childhood explaining strangely hazards life led witness terrible catastrophe navy</td>\n",
       "      <td>{'neg': 0.326, 'neu': 0.537, 'pos': 0.138, 'compound': -0.6808}</td>\n",
       "      <td>0.326</td>\n",
       "      <td>0.138</td>\n",
       "      <td>0.537</td>\n",
       "      <td>-0.6808</td>\n",
       "    </tr>\n",
       "    <tr>\n",
       "      <th>1</th>\n",
       "      <td>Al hablar de mi nacimiento, no imitaré a la mayor parte de los que cuentan hechos de su propia vida, quienes empiezan nombrando su parentela, las más veces noble, siempre hidalga por lo menos, si no se dicen descendientes del mismo Emperador de Trapisonda.</td>\n",
       "      <td>al-hablar-de-mi-nacimiento-no-imitare-a-la-mayor-p</td>\n",
       "      <td>When speaking birth I imitate tell facts lives begin naming relatives noble always noble least call descendants Emperor Trabzon</td>\n",
       "      <td>{'neg': 0.0, 'neu': 0.739, 'pos': 0.261, 'compound': 0.7184}</td>\n",
       "      <td>0.000</td>\n",
       "      <td>0.261</td>\n",
       "      <td>0.739</td>\n",
       "      <td>0.7184</td>\n",
       "    </tr>\n",
       "    <tr>\n",
       "      <th>2</th>\n",
       "      <td>Yo, en esta parte, no puedo adornar mi libro con sonoros apellidos; y fuera de mi madre, a quien conocí por poco tiempo, no tengo noticia de ninguno de mis ascendientes, si no es de Adán, cuyo parentesco me parece indiscutible.</td>\n",
       "      <td>yo-en-esta-parte-no-puedo-adornar-mi-libro-con-son</td>\n",
       "      <td>In part I cannot decorate book sonorous surnames</td>\n",
       "      <td>{'neg': 0.0, 'neu': 1.0, 'pos': 0.0, 'compound': 0.0}</td>\n",
       "      <td>0.000</td>\n",
       "      <td>0.000</td>\n",
       "      <td>1.000</td>\n",
       "      <td>0.0000</td>\n",
       "    </tr>\n",
       "    <tr>\n",
       "      <th>3</th>\n",
       "      <td>Doy principio, pues, a mi historia como Pablos, el buscón de Segovia: afortunadamente Dios ha querido que en esto sólo nos parezcamos.</td>\n",
       "      <td>doy-principio-pues-a-mi-historia-como-pablos-el-bu</td>\n",
       "      <td>So I begin story Pablos buscón Segovia fortunately God wanted us alike</td>\n",
       "      <td>{'neg': 0.0, 'neu': 0.84, 'pos': 0.16, 'compound': 0.2732}</td>\n",
       "      <td>0.000</td>\n",
       "      <td>0.160</td>\n",
       "      <td>0.840</td>\n",
       "      <td>0.2732</td>\n",
       "    </tr>\n",
       "    <tr>\n",
       "      <th>4</th>\n",
       "      <td>Yo nací en Cádiz, y en el famoso barrio de la Viña, que no es hoy, ni menos era entonces, academia de buenas costumbres.</td>\n",
       "      <td>yo-naci-en-cadiz-y-en-el-famoso-barrio-de-la-vina-</td>\n",
       "      <td>I born Cádiz famous neighborhood La Viña today academy good customs</td>\n",
       "      <td>{'neg': 0.0, 'neu': 0.775, 'pos': 0.225, 'compound': 0.4404}</td>\n",
       "      <td>0.000</td>\n",
       "      <td>0.225</td>\n",
       "      <td>0.775</td>\n",
       "      <td>0.4404</td>\n",
       "    </tr>\n",
       "  </tbody>\n",
       "</table>\n",
       "</div>"
      ],
      "text/plain": [
       "                                                                                                                                                                                                                                                            oracion                                                 idd                                                                                                                                      traducción                                                   sentiment_dict  negativo  positivo  neutro  composicion\n",
       "0  Se me permitirá que antes de referir el gran suceso de que fui testigo, diga algunas palabras sobre mi infancia, explicando por qué extraña manera me llevaron los azares de la vida a presenciar la terrible catástrofe de nuestra marina.                       se-me-permitira-que-antes-de-referir-el-gran-suces  Before referring great event I witnessed I allowed say words childhood explaining strangely hazards life led witness terrible catastrophe navy  {'neg': 0.326, 'neu': 0.537, 'pos': 0.138, 'compound': -0.6808}  0.326     0.138     0.537  -0.6808     \n",
       "1  Al hablar de mi nacimiento, no imitaré a la mayor parte de los que cuentan hechos de su propia vida, quienes empiezan nombrando su parentela, las más veces noble, siempre hidalga por lo menos, si no se dicen descendientes del mismo Emperador de Trapisonda.  al-hablar-de-mi-nacimiento-no-imitare-a-la-mayor-p  When speaking birth I imitate tell facts lives begin naming relatives noble always noble least call descendants Emperor Trabzon                 {'neg': 0.0, 'neu': 0.739, 'pos': 0.261, 'compound': 0.7184}     0.000     0.261     0.739   0.7184     \n",
       "2  Yo, en esta parte, no puedo adornar mi libro con sonoros apellidos; y fuera de mi madre, a quien conocí por poco tiempo, no tengo noticia de ninguno de mis ascendientes, si no es de Adán, cuyo parentesco me parece indiscutible.                               yo-en-esta-parte-no-puedo-adornar-mi-libro-con-son  In part I cannot decorate book sonorous surnames                                                                                                {'neg': 0.0, 'neu': 1.0, 'pos': 0.0, 'compound': 0.0}            0.000     0.000     1.000   0.0000     \n",
       "3  Doy principio, pues, a mi historia como Pablos, el buscón de Segovia: afortunadamente Dios ha querido que en esto sólo nos parezcamos.                                                                                                                            doy-principio-pues-a-mi-historia-como-pablos-el-bu  So I begin story Pablos buscón Segovia fortunately God wanted us alike                                                                          {'neg': 0.0, 'neu': 0.84, 'pos': 0.16, 'compound': 0.2732}       0.000     0.160     0.840   0.2732     \n",
       "4  Yo nací en Cádiz, y en el famoso barrio de la Viña, que no es hoy, ni menos era entonces, academia de buenas costumbres.                                                                                                                                          yo-naci-en-cadiz-y-en-el-famoso-barrio-de-la-vina-  I born Cádiz famous neighborhood La Viña today academy good customs                                                                             {'neg': 0.0, 'neu': 0.775, 'pos': 0.225, 'compound': 0.4404}     0.000     0.225     0.775   0.4404     "
      ]
     },
     "execution_count": 86,
     "metadata": {},
     "output_type": "execute_result"
    }
   ],
   "source": [
    "data.head()"
   ]
  },
  {
   "cell_type": "code",
   "execution_count": null,
   "id": "a76f0693-40d1-4b2d-a0ae-bdcb1dc9a030",
   "metadata": {},
   "outputs": [],
   "source": []
  },
  {
   "cell_type": "markdown",
   "id": "5048d65d-cb2c-47d3-9bda-fcf9e2f8bb39",
   "metadata": {},
   "source": [
    "## >> Palabras por oración"
   ]
  },
  {
   "cell_type": "code",
   "execution_count": 87,
   "id": "971efcfc-6845-4125-a7c1-b3f20de99c19",
   "metadata": {},
   "outputs": [],
   "source": [
    "data['words'] = data['traducción'].apply(lambda _: len(_.split()))"
   ]
  },
  {
   "cell_type": "code",
   "execution_count": 89,
   "id": "ebc6f4b0-6960-4519-aed5-ce9f3e13c1eb",
   "metadata": {},
   "outputs": [
    {
     "data": {
      "text/html": [
       "<style  type=\"text/css\" >\n",
       "#T_3bce8_row0_col0,#T_3bce8_row1_col1,#T_3bce8_row2_col2,#T_3bce8_row3_col3,#T_3bce8_row4_col4{\n",
       "            background-color:  #b40426;\n",
       "            color:  #f1f1f1;\n",
       "        }#T_3bce8_row0_col1,#T_3bce8_row1_col0{\n",
       "            background-color:  #c0d4f5;\n",
       "            color:  #000000;\n",
       "        }#T_3bce8_row0_col2,#T_3bce8_row2_col0{\n",
       "            background-color:  #ecd3c5;\n",
       "            color:  #000000;\n",
       "        }#T_3bce8_row0_col3,#T_3bce8_row3_col0{\n",
       "            background-color:  #ebd3c6;\n",
       "            color:  #000000;\n",
       "        }#T_3bce8_row0_col4,#T_3bce8_row4_col0{\n",
       "            background-color:  #ccd9ed;\n",
       "            color:  #000000;\n",
       "        }#T_3bce8_row1_col2,#T_3bce8_row2_col1{\n",
       "            background-color:  #536edd;\n",
       "            color:  #000000;\n",
       "        }#T_3bce8_row1_col3,#T_3bce8_row3_col1{\n",
       "            background-color:  #5875e1;\n",
       "            color:  #000000;\n",
       "        }#T_3bce8_row1_col4,#T_3bce8_row4_col1{\n",
       "            background-color:  #b7cff9;\n",
       "            color:  #000000;\n",
       "        }#T_3bce8_row2_col3,#T_3bce8_row3_col2{\n",
       "            background-color:  #adc9fd;\n",
       "            color:  #000000;\n",
       "        }#T_3bce8_row2_col4,#T_3bce8_row4_col2{\n",
       "            background-color:  #ec8165;\n",
       "            color:  #000000;\n",
       "        }#T_3bce8_row3_col4,#T_3bce8_row4_col3{\n",
       "            background-color:  #3b4cc0;\n",
       "            color:  #f1f1f1;\n",
       "        }</style><table id=\"T_3bce8_\" ><thead>    <tr>        <th class=\"blank level0\" ></th>        <th class=\"col_heading level0 col0\" >words</th>        <th class=\"col_heading level0 col1\" >neutro</th>        <th class=\"col_heading level0 col2\" >positivo</th>        <th class=\"col_heading level0 col3\" >negativo</th>        <th class=\"col_heading level0 col4\" >composicion</th>    </tr></thead><tbody>\n",
       "                <tr>\n",
       "                        <th id=\"T_3bce8_level0_row0\" class=\"row_heading level0 row0\" >words</th>\n",
       "                        <td id=\"T_3bce8_row0_col0\" class=\"data row0 col0\" >1.000</td>\n",
       "                        <td id=\"T_3bce8_row0_col1\" class=\"data row0 col1\" >0.020</td>\n",
       "                        <td id=\"T_3bce8_row0_col2\" class=\"data row0 col2\" >0.286</td>\n",
       "                        <td id=\"T_3bce8_row0_col3\" class=\"data row0 col3\" >0.278</td>\n",
       "                        <td id=\"T_3bce8_row0_col4\" class=\"data row0 col4\" >0.081</td>\n",
       "            </tr>\n",
       "            <tr>\n",
       "                        <th id=\"T_3bce8_level0_row1\" class=\"row_heading level0 row1\" >neutro</th>\n",
       "                        <td id=\"T_3bce8_row1_col0\" class=\"data row1 col0\" >0.020</td>\n",
       "                        <td id=\"T_3bce8_row1_col1\" class=\"data row1 col1\" >1.000</td>\n",
       "                        <td id=\"T_3bce8_row1_col2\" class=\"data row1 col2\" >-0.506</td>\n",
       "                        <td id=\"T_3bce8_row1_col3\" class=\"data row1 col3\" >-0.479</td>\n",
       "                        <td id=\"T_3bce8_row1_col4\" class=\"data row1 col4\" >-0.023</td>\n",
       "            </tr>\n",
       "            <tr>\n",
       "                        <th id=\"T_3bce8_level0_row2\" class=\"row_heading level0 row2\" >positivo</th>\n",
       "                        <td id=\"T_3bce8_row2_col0\" class=\"data row2 col0\" >0.286</td>\n",
       "                        <td id=\"T_3bce8_row2_col1\" class=\"data row2 col1\" >-0.506</td>\n",
       "                        <td id=\"T_3bce8_row2_col2\" class=\"data row2 col2\" >1.000</td>\n",
       "                        <td id=\"T_3bce8_row2_col3\" class=\"data row2 col3\" >-0.077</td>\n",
       "                        <td id=\"T_3bce8_row2_col4\" class=\"data row2 col4\" >0.686</td>\n",
       "            </tr>\n",
       "            <tr>\n",
       "                        <th id=\"T_3bce8_level0_row3\" class=\"row_heading level0 row3\" >negativo</th>\n",
       "                        <td id=\"T_3bce8_row3_col0\" class=\"data row3 col0\" >0.278</td>\n",
       "                        <td id=\"T_3bce8_row3_col1\" class=\"data row3 col1\" >-0.479</td>\n",
       "                        <td id=\"T_3bce8_row3_col2\" class=\"data row3 col2\" >-0.077</td>\n",
       "                        <td id=\"T_3bce8_row3_col3\" class=\"data row3 col3\" >1.000</td>\n",
       "                        <td id=\"T_3bce8_row3_col4\" class=\"data row3 col4\" >-0.636</td>\n",
       "            </tr>\n",
       "            <tr>\n",
       "                        <th id=\"T_3bce8_level0_row4\" class=\"row_heading level0 row4\" >composicion</th>\n",
       "                        <td id=\"T_3bce8_row4_col0\" class=\"data row4 col0\" >0.081</td>\n",
       "                        <td id=\"T_3bce8_row4_col1\" class=\"data row4 col1\" >-0.023</td>\n",
       "                        <td id=\"T_3bce8_row4_col2\" class=\"data row4 col2\" >0.686</td>\n",
       "                        <td id=\"T_3bce8_row4_col3\" class=\"data row4 col3\" >-0.636</td>\n",
       "                        <td id=\"T_3bce8_row4_col4\" class=\"data row4 col4\" >1.000</td>\n",
       "            </tr>\n",
       "    </tbody></table>"
      ],
      "text/plain": [
       "<pandas.io.formats.style.Styler at 0x1d13bb44820>"
      ]
     },
     "execution_count": 89,
     "metadata": {},
     "output_type": "execute_result"
    }
   ],
   "source": [
    "data[['words','neutro', 'positivo', 'negativo', 'composicion']].corr(\n",
    "    method='spearman').style.background_gradient(cmap='coolwarm', axis=None).set_precision(3)"
   ]
  },
  {
   "cell_type": "code",
   "execution_count": null,
   "id": "3c1f754c-df5b-4664-b57b-b08b81af5401",
   "metadata": {},
   "outputs": [],
   "source": []
  },
  {
   "cell_type": "code",
   "execution_count": null,
   "id": "06f03329-c145-4be5-8279-d3728ea69b94",
   "metadata": {},
   "outputs": [],
   "source": []
  },
  {
   "cell_type": "code",
   "execution_count": null,
   "id": "ad61f4c7-a894-4f76-bf8e-c1994f122cdd",
   "metadata": {},
   "outputs": [],
   "source": []
  },
  {
   "cell_type": "code",
   "execution_count": null,
   "id": "198b9354-7555-46eb-9166-318b88dbb37d",
   "metadata": {},
   "outputs": [],
   "source": []
  },
  {
   "cell_type": "code",
   "execution_count": null,
   "id": "cc3fe51d-dcd4-443f-80c4-38c55a33a391",
   "metadata": {},
   "outputs": [],
   "source": []
  },
  {
   "cell_type": "code",
   "execution_count": null,
   "id": "5476f21e-107b-4bb6-b7aa-6836c60b2e7f",
   "metadata": {},
   "outputs": [],
   "source": []
  },
  {
   "cell_type": "markdown",
   "id": "66ff5044-114b-4391-bd97-03a75b117194",
   "metadata": {},
   "source": [
    "## >> Opcional no usado EMOJIS"
   ]
  },
  {
   "cell_type": "markdown",
   "id": "prime-steal",
   "metadata": {},
   "source": [
    "### Conversion de emojis y/o emoticones ---> significado"
   ]
  },
  {
   "cell_type": "code",
   "execution_count": null,
   "id": "graduate-savings",
   "metadata": {},
   "outputs": [],
   "source": [
    "import emot\n",
    "\n",
    "text = ':-) Woohooo😍✌️'\n",
    "\n",
    "def clean_mean(val):\n",
    "    return val.replace('_', ' ').replace('-', ' ').replace(':', ' ')\n",
    "\n",
    "def handle_emoji_emoti(text):\n",
    "    for emoti in emot.emo_unicode.EMOTICONS:\n",
    "        if emoti in text:\n",
    "            text = text.replace(emoti, ' ' + clean_mean(emot.emo_unicode.EMOTICONS.get(emoti, '')))\n",
    "            print(emoti, end=' ')\n",
    "\n",
    "    for emoti in emot.emo_unicode.UNICODE_EMO:\n",
    "        if emoti in text:\n",
    "            text = text.replace(emoti, ' ' + clean_mean(emot.emo_unicode.UNICODE_EMO.get(emoti, '')))\n",
    "            print(emoti, end=' ')\n",
    "\n",
    "    for emoti in emot.emo_unicode.EMOTICONS_EMO:\n",
    "        if emoti in text:\n",
    "            text = text.replace(emoti, ' ' + clean_mean(emot.emo_unicode.EMOTICONS_EMO.get(emoti, '')))\n",
    "            print(emoti, end=' ')\n",
    "        \n",
    "    return text\n",
    "        \n",
    "text = handle_emoji_emoti(text)\n",
    "print(text)"
   ]
  },
  {
   "cell_type": "code",
   "execution_count": null,
   "id": "looking-observation",
   "metadata": {},
   "outputs": [],
   "source": []
  },
  {
   "cell_type": "code",
   "execution_count": null,
   "id": "da51f7e6-3b5b-4b12-9473-adfff2a33878",
   "metadata": {},
   "outputs": [],
   "source": []
  }
 ],
 "metadata": {
  "kernelspec": {
   "display_name": "Python 3",
   "language": "python",
   "name": "python3"
  },
  "language_info": {
   "codemirror_mode": {
    "name": "ipython",
    "version": 3
   },
   "file_extension": ".py",
   "mimetype": "text/x-python",
   "name": "python",
   "nbconvert_exporter": "python",
   "pygments_lexer": "ipython3",
   "version": "3.8.5"
  }
 },
 "nbformat": 4,
 "nbformat_minor": 5
}
