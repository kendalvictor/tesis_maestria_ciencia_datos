{
 "cells": [
  {
   "cell_type": "code",
   "execution_count": 1,
   "id": "bb3b0bd7-0992-4785-b894-e07f084a4cc7",
   "metadata": {},
   "outputs": [],
   "source": [
    "import os\n",
    "import re\n",
    "import time\n",
    "from pathlib import Path\n",
    "import shutil\n",
    "import glob\n",
    "import string\n",
    "import unicodedata\n",
    "from datetime import datetime, timedelta\n",
    "\n",
    "import pandas as pd\n",
    "from selenium import webdriver\n",
    "from selenium.webdriver.chrome.options import Options\n",
    "from selenium.webdriver.support.select import Select\n",
    "from sqlalchemy import create_engine\n",
    "from selenium.webdriver.support.ui import WebDriverWait\n",
    "from selenium.webdriver.support import expected_conditions as EC\n",
    "from selenium.webdriver.common.by import By\n",
    "\n",
    "from unicodedata import normalize, category"
   ]
  },
  {
   "cell_type": "code",
   "execution_count": 2,
   "id": "3d8af48c-8833-4cb0-bfbc-c06509c02d34",
   "metadata": {},
   "outputs": [],
   "source": [
    "import nltk"
   ]
  },
  {
   "cell_type": "code",
   "execution_count": 5,
   "id": "548343a2-4f45-4d46-897b-28bffd663667",
   "metadata": {},
   "outputs": [
    {
     "data": {
      "text/plain": [
       "'05092021'"
      ]
     },
     "execution_count": 5,
     "metadata": {},
     "output_type": "execute_result"
    }
   ],
   "source": [
    "hoy = datetime.today()\n",
    "hoy_format = hoy.strftime('%d%m%Y') \n",
    "hoy_format"
   ]
  },
  {
   "cell_type": "code",
   "execution_count": 6,
   "id": "c391b396-bb94-4f53-9929-1a281065c0ba",
   "metadata": {},
   "outputs": [
    {
     "name": "stdout",
     "output_type": "stream",
     "text": [
      "['news', '05092021', 'original', 'coronavirus-mas-de-diez-millones-941-mil-peruanos-ya-fueron-inmunizados-contra-el-covid-19-nndc-noticia.txt']\n"
     ]
    }
   ],
   "source": [
    "for file in glob.iglob('news/{}/**/*.txt'.format(hoy_format), recursive=True):\n",
    "    listado = file.replace('/', '\\\\').split('\\\\')\n",
    "    print(listado)\n",
    "    with open(file, encoding='UTF-8') as f:\n",
    "        new = f.read()\n",
    "        \n",
    "    break"
   ]
  },
  {
   "cell_type": "code",
   "execution_count": 34,
   "id": "71aa2b13-2be8-4308-9598-e7d8bc47d808",
   "metadata": {},
   "outputs": [],
   "source": [
    "from unicodedata import normalize, category\n",
    "\n",
    "def clean_text_1(_text):\n",
    "    \"\"\"\n",
    "        Ll : minusculas\n",
    "        Zs : espacios\n",
    "        Lu : mayusculas\n",
    "        Nd : numeros\n",
    "        Mn : tildes\n",
    "        Ps : abre dieresis, .....\n",
    "        Pe : cierra dieresis, .......\n",
    "        Pi : abre parentesis, .....\n",
    "        Po : cierra parentesis, punto, coma, .....        \n",
    "        ...\n",
    "    \"\"\"\n",
    "    selects_characters = ['Ll', 'Zs', 'Lu', 'Nd']\n",
    "    \n",
    "    return ''.join([_ for _ in normalize('NFD', _text.replace(' ', 'ZZZ')) if category(_) in selects_characters])"
   ]
  },
  {
   "cell_type": "code",
   "execution_count": 36,
   "id": "6aa23d5a-d7db-466a-84dc-c12ff406a018",
   "metadata": {},
   "outputs": [
    {
     "name": "stdout",
     "output_type": "stream",
     "text": [
      "['El', 'Ministerio', 'de', 'Salud', 'Minsa', 'informo', 'que', 'hasta', 'este', 'domingo', '5', 'de', 'setiembre', 'el', 'numero', 'de', 'personas', 'vacunadas', 'contra', 'el', 'COVID19', 'con', 'al', 'menos', 'una', 'dosis', 'asciende', 'a', '10941131']\n",
      "----------------------------------------------------------------------------------------------------\n",
      "['En', 'tanto', 'el', 'total', 'de', 'ciudadanos', 'inmunizados', 'con', 'dos', 'dosis', 'es', 'de', '8516953', 'hasta', 'las', '700', 'am', 'de', 'hoy']\n",
      "----------------------------------------------------------------------------------------------------\n",
      "['Hasta', 'el', 'momento', 'Peru', 'ha', 'recibido', 'tres', 'millones', 'de', 'vacunas', 'de', 'Sinopharm', 'mas', 'de', 'seis', 'millones', 'de', 'Pfizer', 'y', 'mas', 'de', '400', 'mil', 'del', 'mecanismo', 'Covax', 'Facility', 'de', 'AstraZeneca', 'y', 'Pfizer']\n",
      "----------------------------------------------------------------------------------------------------\n",
      "['Todas', 'estas', 'se', 'aplican', 'a', 'personal', 'de', 'salud', 'adultos', 'mayores', 'miembros', 'de', 'la', 'Policia', 'Nacional', 'Fuerzas', 'Armadas', 'y', 'Bomberos', 'comprendidos', 'en', 'la', 'primera', 'fase', 'del', 'Plan', 'Nacional', 'de', 'Vacunacion']\n",
      "----------------------------------------------------------------------------------------------------\n",
      "['Tanto', 'la', 'vacuna', 'de', 'Sinopharm', 'como', 'la', 'de', 'Pfizer', 'y', 'la', 'de', 'AstraZeneca', 'deben', 'aplicarse', 'en', 'dos', 'dosis', 'para', 'inmunizar', 'a', 'una', 'persona', 'contra', 'el', 'COVID19']\n",
      "----------------------------------------------------------------------------------------------------\n",
      "['El', 'proceso', 'de', 'vacunacion', 'en', 'el', 'Peru', 'comenzo', 'el', 'martes', '9', 'de', 'febrero', 'en', 'los', 'principales', 'centros', 'de', 'salud', 'en', 'Lima', 'y', 'Callao']\n",
      "----------------------------------------------------------------------------------------------------\n",
      "['Una', 'herramienta', 'digital', 'implementada', 'por', 'el', 'Minsa', 'permite', 'acceder', 'a', 'la', 'informacion', 'del', 'avance', 'de', 'la', 'vacunacion']\n",
      "----------------------------------------------------------------------------------------------------\n",
      "['Solo', 'debes', 'darle', 'clic', 'AQUI', 'para', 'revisar', 'el', 'numero', 'de', 'personas', 'vacunadas', 'con', 'ambas', 'dosis', 'o', 'con', 'una', 'sola']\n",
      "----------------------------------------------------------------------------------------------------\n",
      "['El', 'Gobierno', 'establecio', 'que', 'el', '16', 'de', 'abril', 'se', 'inicie', 'un', 'nuevo', 'plan', 'de', 'vacunacion', 'contra', 'el', 'COVID19', 'con', 'el', 'objetivo', 'de', 'inmunizar', 'primero', 'a', 'los', 'adultos', 'mayores']\n",
      "----------------------------------------------------------------------------------------------------\n",
      "['Para', 'ello', 'el', 'Ejecutivo', 'implemento', 'la', 'plataforma', 'Pongo', 'el', 'Hombro', 'a', 'fin', 'de', 'que', 'las', 'personas', 'puedan', 'conocer', 'el', 'local', 'la', 'fecha', 'y', 'el', 'horario', 'en', 'que', 'seran', 'vacunados', 'contra', 'el', 'coronavirus', 'COVID19']\n",
      "----------------------------------------------------------------------------------------------------\n",
      "['Actualmente', 'se', 'viene', 'vacunando', 'a', 'la', 'poblacion', 'a', 'partir', 'de', '32', 'anos', 'en', 'Lima', 'Callao', 'y', 'nueve', 'regiones', 'del', 'pais']\n",
      "----------------------------------------------------------------------------------------------------\n",
      "['Las', 'personas', 'de', 'la', 'tercera', 'edad', 'que', 'no', 'puedan', 'desplazarse', 'hasta', 'sus', 'centros', 'de', 'inmunizacion', 'tienen', 'la', 'opcion', 'de', 'llamar', 'a', 'la', 'Linea', '113', 'para', 'que', 'una', 'brigada', 'acuda', 'a', 'su', 'vivienda', 'y', 'les', 'apliquen', 'las', 'dosis']\n",
      "----------------------------------------------------------------------------------------------------\n"
     ]
    }
   ],
   "source": [
    "tokenizacion = [\n",
    "    [clean_text_1(_) for _ in nltk.word_tokenize(sentence) if len(clean_text_1(_)) > 0] for sentence in nltk.sent_tokenize(new)\n",
    "]\n",
    "\n",
    "for oracion in tokenizacion:\n",
    "    print(oracion)\n",
    "    print(\"-\"*100)"
   ]
  },
  {
   "cell_type": "code",
   "execution_count": null,
   "id": "6882977a-afc8-46c5-b29f-3c6874e25d76",
   "metadata": {},
   "outputs": [],
   "source": []
  },
  {
   "cell_type": "code",
   "execution_count": null,
   "id": "818aba68-7a32-4591-8b8d-e41106360da8",
   "metadata": {},
   "outputs": [],
   "source": []
  },
  {
   "cell_type": "code",
   "execution_count": null,
   "id": "48650bc9-726c-41bd-bee7-b293448c2f3b",
   "metadata": {},
   "outputs": [],
   "source": []
  }
 ],
 "metadata": {
  "kernelspec": {
   "display_name": "Python 3",
   "language": "python",
   "name": "python3"
  },
  "language_info": {
   "codemirror_mode": {
    "name": "ipython",
    "version": 3
   },
   "file_extension": ".py",
   "mimetype": "text/x-python",
   "name": "python",
   "nbconvert_exporter": "python",
   "pygments_lexer": "ipython3",
   "version": "3.8.5"
  }
 },
 "nbformat": 4,
 "nbformat_minor": 5
}
