{
 "cells": [
  {
   "cell_type": "markdown",
   "id": "8b02d6df-56f7-446f-8d26-5a1d833c765b",
   "metadata": {},
   "source": [
    "### >> DEPENDENCIAS PREVIAS"
   ]
  },
  {
   "cell_type": "raw",
   "id": "087f245c-74bf-473d-9154-e72cebc06cbd",
   "metadata": {},
   "source": [
    "!git clone https://github.com/huggingface/transformers\n",
    "%cd transformers\n",
    "!pip install ."
   ]
  },
  {
   "cell_type": "code",
   "execution_count": 1,
   "id": "afef82b0-cc39-4029-836d-056682b7ebec",
   "metadata": {},
   "outputs": [
    {
     "name": "stdout",
     "output_type": "stream",
     "text": [
      "Requirement already satisfied: rouge-metric in c:\\programdata\\anaconda3\\lib\\site-packages (1.0.1)\n"
     ]
    }
   ],
   "source": [
    "!pip install rouge-metric"
   ]
  },
  {
   "cell_type": "code",
   "execution_count": 2,
   "id": "fb855e41-a578-48df-8067-ad7e6bcebda5",
   "metadata": {},
   "outputs": [
    {
     "name": "stdout",
     "output_type": "stream",
     "text": [
      "Requirement already satisfied: sentencepiece in c:\\programdata\\anaconda3\\lib\\site-packages (0.1.96)\n"
     ]
    }
   ],
   "source": [
    "!pip install sentencepiece"
   ]
  },
  {
   "cell_type": "code",
   "execution_count": null,
   "id": "8d3dc0db-2dfd-47ff-9803-f694d3f39d5e",
   "metadata": {},
   "outputs": [],
   "source": []
  },
  {
   "cell_type": "markdown",
   "id": "cb32b186-9c75-41a2-8180-7b2529224bea",
   "metadata": {},
   "source": [
    "### >> IMPORTACIONES"
   ]
  },
  {
   "cell_type": "code",
   "execution_count": 3,
   "id": "a28ab78a-f05f-4bec-8e83-1e9e6dcded10",
   "metadata": {},
   "outputs": [],
   "source": [
    "# nativo\n",
    "import glob\n",
    "from datetime import datetime\n",
    "\n",
    "#terceros\n",
    "import pandas as pd"
   ]
  },
  {
   "cell_type": "code",
   "execution_count": null,
   "id": "31f37f7f-0455-4995-b0c6-affabe46762a",
   "metadata": {},
   "outputs": [],
   "source": []
  },
  {
   "cell_type": "markdown",
   "id": "50c3e4cd-4e62-4dd9-a8a7-c3e8a532fd8b",
   "metadata": {},
   "source": [
    "### >> CONFIG"
   ]
  },
  {
   "cell_type": "code",
   "execution_count": 4,
   "id": "7b482ee6-b25a-4cef-911b-136df516549b",
   "metadata": {},
   "outputs": [
    {
     "data": {
      "text/plain": [
       "'2021_12_18_14_40_10'"
      ]
     },
     "execution_count": 4,
     "metadata": {},
     "output_type": "execute_result"
    }
   ],
   "source": [
    "marca_tiempo = str(datetime.now()).split('.')[0].replace('-', '_').replace(' ', '_').replace(':', '_')\n",
    "marca_tiempo"
   ]
  },
  {
   "cell_type": "code",
   "execution_count": null,
   "id": "afdf4e26-6db4-48d5-b58c-e3eea6fae3ca",
   "metadata": {},
   "outputs": [],
   "source": []
  },
  {
   "cell_type": "markdown",
   "id": "74c0dc7c-0d45-4e05-8e97-8f2dade82f84",
   "metadata": {},
   "source": [
    "### >> CARGA DE HISTORICO DE NOTIICIAS"
   ]
  },
  {
   "cell_type": "code",
   "execution_count": 5,
   "id": "0f2a6384-5ae8-422d-b56c-bfa5c4523bc1",
   "metadata": {},
   "outputs": [
    {
     "data": {
      "text/html": [
       "<div>\n",
       "<style scoped>\n",
       "    .dataframe tbody tr th:only-of-type {\n",
       "        vertical-align: middle;\n",
       "    }\n",
       "\n",
       "    .dataframe tbody tr th {\n",
       "        vertical-align: top;\n",
       "    }\n",
       "\n",
       "    .dataframe thead th {\n",
       "        text-align: right;\n",
       "    }\n",
       "</style>\n",
       "<table border=\"1\" class=\"dataframe\">\n",
       "  <thead>\n",
       "    <tr style=\"text-align: right;\">\n",
       "      <th></th>\n",
       "      <th>dia</th>\n",
       "      <th>tipo</th>\n",
       "      <th>titulo</th>\n",
       "      <th>contenido</th>\n",
       "      <th>tamanio</th>\n",
       "    </tr>\n",
       "  </thead>\n",
       "  <tbody>\n",
       "    <tr>\n",
       "      <th>0</th>\n",
       "      <td>01082021</td>\n",
       "      <td>descartado</td>\n",
       "      <td>coronavirus-bolivia-en-vivo-hoy-sabado-31-de-j...</td>\n",
       "      <td>Bolivia registró este sábado 15 fallecidos a c...</td>\n",
       "      <td>406</td>\n",
       "    </tr>\n",
       "    <tr>\n",
       "      <th>1</th>\n",
       "      <td>01082021</td>\n",
       "      <td>descartado</td>\n",
       "      <td>coronavirus-estados-unidos-vacunados-contra-el...</td>\n",
       "      <td>En otro desalentador revés a las acciones de E...</td>\n",
       "      <td>460</td>\n",
       "    </tr>\n",
       "    <tr>\n",
       "      <th>2</th>\n",
       "      <td>01082021</td>\n",
       "      <td>descartado</td>\n",
       "      <td>coronavirus-japon-tokio-registra-por-primera-v...</td>\n",
       "      <td>Las autoridades de la capital de Japón, Tokio,...</td>\n",
       "      <td>232</td>\n",
       "    </tr>\n",
       "    <tr>\n",
       "      <th>3</th>\n",
       "      <td>01082021</td>\n",
       "      <td>descartado</td>\n",
       "      <td>coronavirus-sputnik-v-las-demoras-quejas-y-can...</td>\n",
       "      <td>El gobierno peruano adquirió recientemente 20 ...</td>\n",
       "      <td>904</td>\n",
       "    </tr>\n",
       "    <tr>\n",
       "      <th>4</th>\n",
       "      <td>01082021</td>\n",
       "      <td>descartado</td>\n",
       "      <td>coronavirus-usa-joe-biden-el-presidente-de-est...</td>\n",
       "      <td>El presidente de Estados Unidos, Joe Biden, ha...</td>\n",
       "      <td>264</td>\n",
       "    </tr>\n",
       "    <tr>\n",
       "      <th>5</th>\n",
       "      <td>01082021</td>\n",
       "      <td>descartado</td>\n",
       "      <td>covid-19-coronavirus-no-podran-trabajar-hacer-...</td>\n",
       "      <td>Arabia Saudita prohíbe a partir de este doming...</td>\n",
       "      <td>376</td>\n",
       "    </tr>\n",
       "    <tr>\n",
       "      <th>6</th>\n",
       "      <td>01082021</td>\n",
       "      <td>descartado</td>\n",
       "      <td>covid-19-estudios-cientificos-erroneos-aliment...</td>\n",
       "      <td>Estudios científicos con metodología deficient...</td>\n",
       "      <td>709</td>\n",
       "    </tr>\n",
       "    <tr>\n",
       "      <th>7</th>\n",
       "      <td>01082021</td>\n",
       "      <td>original</td>\n",
       "      <td>bono-600-link-revisa-aqui-si-eres-beneficiario...</td>\n",
       "      <td>La pandemia de coronavirus ha dejado a muchas ...</td>\n",
       "      <td>365</td>\n",
       "    </tr>\n",
       "    <tr>\n",
       "      <th>8</th>\n",
       "      <td>01082021</td>\n",
       "      <td>original</td>\n",
       "      <td>covid-19-conoce-los-paraderos-donde-se-entrega...</td>\n",
       "      <td>La Autoridad de Transporte Urbano para Lima y ...</td>\n",
       "      <td>277</td>\n",
       "    </tr>\n",
       "    <tr>\n",
       "      <th>9</th>\n",
       "      <td>01082021</td>\n",
       "      <td>original</td>\n",
       "      <td>covid-19-cuales-son-las-restricciones-para-el-...</td>\n",
       "      <td>Las personas que viven en Lima y Callao tendrá...</td>\n",
       "      <td>741</td>\n",
       "    </tr>\n",
       "    <tr>\n",
       "      <th>10</th>\n",
       "      <td>01082021</td>\n",
       "      <td>original</td>\n",
       "      <td>covid-19-este-sabado-31-de-julio-se-inicia-vac...</td>\n",
       "      <td>La Dirección Regional de Salud de Tacna inform...</td>\n",
       "      <td>155</td>\n",
       "    </tr>\n",
       "    <tr>\n",
       "      <th>11</th>\n",
       "      <td>01082021</td>\n",
       "      <td>original</td>\n",
       "      <td>fiorella-molinelli-rechaza-imputaciones-por-pr...</td>\n",
       "      <td>La presidenta ejecutiva de Essalud, Fiorella M...</td>\n",
       "      <td>472</td>\n",
       "    </tr>\n",
       "    <tr>\n",
       "      <th>12</th>\n",
       "      <td>01082021</td>\n",
       "      <td>original</td>\n",
       "      <td>ministerio-de-salud-reporta-28-fallecidos-y-19...</td>\n",
       "      <td>El Ministerio de Salud (Minsa) informó el 30 d...</td>\n",
       "      <td>177</td>\n",
       "    </tr>\n",
       "    <tr>\n",
       "      <th>13</th>\n",
       "      <td>01082021</td>\n",
       "      <td>original</td>\n",
       "      <td>minsa-reporta-27-fallecidos-y-2099-nuevos-cont...</td>\n",
       "      <td>El Ministerio de Salud (Minsa) informó el 31 d...</td>\n",
       "      <td>177</td>\n",
       "    </tr>\n",
       "    <tr>\n",
       "      <th>14</th>\n",
       "      <td>01082021</td>\n",
       "      <td>original</td>\n",
       "      <td>netflix-cual-sera-el-requisito-que-pida-para-t...</td>\n",
       "      <td>La vuelta al trabajo presencial en uno de los ...</td>\n",
       "      <td>284</td>\n",
       "    </tr>\n",
       "    <tr>\n",
       "      <th>15</th>\n",
       "      <td>01082021</td>\n",
       "      <td>original</td>\n",
       "      <td>tokio-2020-por-que-protestan-los-japoneses-con...</td>\n",
       "      <td>Al menos una media del 56,4 % en Tokio y sus a...</td>\n",
       "      <td>559</td>\n",
       "    </tr>\n",
       "    <tr>\n",
       "      <th>16</th>\n",
       "      <td>01082021</td>\n",
       "      <td>original</td>\n",
       "      <td>vacuna-covid-19-aislamiento-por-renato-cisnero...</td>\n",
       "      <td>Se suponía que, llegadas las últimas semanas d...</td>\n",
       "      <td>707</td>\n",
       "    </tr>\n",
       "    <tr>\n",
       "      <th>17</th>\n",
       "      <td>01082021</td>\n",
       "      <td>original</td>\n",
       "      <td>vacuna-covid-19-minsa-informa-que-este-fin-de-...</td>\n",
       "      <td>El Ministerio de Salud (Minsa) informó que est...</td>\n",
       "      <td>265</td>\n",
       "    </tr>\n",
       "    <tr>\n",
       "      <th>18</th>\n",
       "      <td>01082021</td>\n",
       "      <td>original</td>\n",
       "      <td>vacunacion-covid-19-en-peru-mas-de-siete-millo...</td>\n",
       "      <td>El Ministerio de Salud (Minsa) informó que has...</td>\n",
       "      <td>292</td>\n",
       "    </tr>\n",
       "    <tr>\n",
       "      <th>19</th>\n",
       "      <td>01082021</td>\n",
       "      <td>original</td>\n",
       "      <td>vacunacion-covid-19-mas-de-siete-millones-984-...</td>\n",
       "      <td>El Ministerio de Salud (Minsa) informó que has...</td>\n",
       "      <td>292</td>\n",
       "    </tr>\n",
       "  </tbody>\n",
       "</table>\n",
       "</div>"
      ],
      "text/plain": [
       "         dia        tipo                                             titulo  \\\n",
       "0   01082021  descartado  coronavirus-bolivia-en-vivo-hoy-sabado-31-de-j...   \n",
       "1   01082021  descartado  coronavirus-estados-unidos-vacunados-contra-el...   \n",
       "2   01082021  descartado  coronavirus-japon-tokio-registra-por-primera-v...   \n",
       "3   01082021  descartado  coronavirus-sputnik-v-las-demoras-quejas-y-can...   \n",
       "4   01082021  descartado  coronavirus-usa-joe-biden-el-presidente-de-est...   \n",
       "5   01082021  descartado  covid-19-coronavirus-no-podran-trabajar-hacer-...   \n",
       "6   01082021  descartado  covid-19-estudios-cientificos-erroneos-aliment...   \n",
       "7   01082021    original  bono-600-link-revisa-aqui-si-eres-beneficiario...   \n",
       "8   01082021    original  covid-19-conoce-los-paraderos-donde-se-entrega...   \n",
       "9   01082021    original  covid-19-cuales-son-las-restricciones-para-el-...   \n",
       "10  01082021    original  covid-19-este-sabado-31-de-julio-se-inicia-vac...   \n",
       "11  01082021    original  fiorella-molinelli-rechaza-imputaciones-por-pr...   \n",
       "12  01082021    original  ministerio-de-salud-reporta-28-fallecidos-y-19...   \n",
       "13  01082021    original  minsa-reporta-27-fallecidos-y-2099-nuevos-cont...   \n",
       "14  01082021    original  netflix-cual-sera-el-requisito-que-pida-para-t...   \n",
       "15  01082021    original  tokio-2020-por-que-protestan-los-japoneses-con...   \n",
       "16  01082021    original  vacuna-covid-19-aislamiento-por-renato-cisnero...   \n",
       "17  01082021    original  vacuna-covid-19-minsa-informa-que-este-fin-de-...   \n",
       "18  01082021    original  vacunacion-covid-19-en-peru-mas-de-siete-millo...   \n",
       "19  01082021    original  vacunacion-covid-19-mas-de-siete-millones-984-...   \n",
       "\n",
       "                                            contenido  tamanio  \n",
       "0   Bolivia registró este sábado 15 fallecidos a c...      406  \n",
       "1   En otro desalentador revés a las acciones de E...      460  \n",
       "2   Las autoridades de la capital de Japón, Tokio,...      232  \n",
       "3   El gobierno peruano adquirió recientemente 20 ...      904  \n",
       "4   El presidente de Estados Unidos, Joe Biden, ha...      264  \n",
       "5   Arabia Saudita prohíbe a partir de este doming...      376  \n",
       "6   Estudios científicos con metodología deficient...      709  \n",
       "7   La pandemia de coronavirus ha dejado a muchas ...      365  \n",
       "8   La Autoridad de Transporte Urbano para Lima y ...      277  \n",
       "9   Las personas que viven en Lima y Callao tendrá...      741  \n",
       "10  La Dirección Regional de Salud de Tacna inform...      155  \n",
       "11  La presidenta ejecutiva de Essalud, Fiorella M...      472  \n",
       "12  El Ministerio de Salud (Minsa) informó el 30 d...      177  \n",
       "13  El Ministerio de Salud (Minsa) informó el 31 d...      177  \n",
       "14  La vuelta al trabajo presencial en uno de los ...      284  \n",
       "15  Al menos una media del 56,4 % en Tokio y sus a...      559  \n",
       "16  Se suponía que, llegadas las últimas semanas d...      707  \n",
       "17  El Ministerio de Salud (Minsa) informó que est...      265  \n",
       "18  El Ministerio de Salud (Minsa) informó que has...      292  \n",
       "19  El Ministerio de Salud (Minsa) informó que has...      292  "
      ]
     },
     "execution_count": 5,
     "metadata": {},
     "output_type": "execute_result"
    }
   ],
   "source": [
    "dicc_data = {\n",
    "    'dia': [],\n",
    "    'tipo': [],\n",
    "    'titulo': [],\n",
    "    'contenido': [],\n",
    "    'tamanio': []\n",
    "}\n",
    "\n",
    "for file in glob.iglob('news/**/*.txt', recursive=True):\n",
    "    listado = file.split('\\\\')\n",
    "    #print(listado)\n",
    "    with open(file, encoding='UTF-8') as f:\n",
    "        new = f.read()\n",
    "        dicc_data['dia'].append(listado[1])\n",
    "        dicc_data['tipo'].append(listado[2])\n",
    "        dicc_data['titulo'].append(listado[-1].split('.')[0])\n",
    "        dicc_data['contenido'].append(new)\n",
    "        dicc_data['tamanio'].append(len(new.split(' ')))\n",
    "        \n",
    "data = pd.DataFrame(dicc_data)\n",
    "del dicc_data\n",
    "data.head(20)"
   ]
  },
  {
   "cell_type": "code",
   "execution_count": 6,
   "id": "c018ca31-456a-44e5-bfa8-d4e3071a9552",
   "metadata": {},
   "outputs": [
    {
     "data": {
      "text/html": [
       "<div>\n",
       "<style scoped>\n",
       "    .dataframe tbody tr th:only-of-type {\n",
       "        vertical-align: middle;\n",
       "    }\n",
       "\n",
       "    .dataframe tbody tr th {\n",
       "        vertical-align: top;\n",
       "    }\n",
       "\n",
       "    .dataframe thead th {\n",
       "        text-align: right;\n",
       "    }\n",
       "</style>\n",
       "<table border=\"1\" class=\"dataframe\">\n",
       "  <thead>\n",
       "    <tr style=\"text-align: right;\">\n",
       "      <th></th>\n",
       "      <th>dia</th>\n",
       "      <th>tipo</th>\n",
       "      <th>titulo</th>\n",
       "      <th>contenido</th>\n",
       "      <th>tamanio</th>\n",
       "    </tr>\n",
       "  </thead>\n",
       "  <tbody>\n",
       "    <tr>\n",
       "      <th>307</th>\n",
       "      <td>2021-12-18</td>\n",
       "      <td>original</td>\n",
       "      <td>premier-league-pep-guardiola-dio-negativo-tras...</td>\n",
       "      <td>La Premier League está atravesando por una cri...</td>\n",
       "      <td>426</td>\n",
       "    </tr>\n",
       "    <tr>\n",
       "      <th>306</th>\n",
       "      <td>2021-12-18</td>\n",
       "      <td>original</td>\n",
       "      <td>omicron-las-preguntas-mas-frecuentes-sobre-la-...</td>\n",
       "      <td>Ómicron es una variante del coronavirus detect...</td>\n",
       "      <td>538</td>\n",
       "    </tr>\n",
       "    <tr>\n",
       "      <th>305</th>\n",
       "      <td>2021-12-18</td>\n",
       "      <td>original</td>\n",
       "      <td>omicron-como-responde-nuestro-sistema-inmunolo...</td>\n",
       "      <td>En la lucha contra el coronavirus, un componen...</td>\n",
       "      <td>1130</td>\n",
       "    </tr>\n",
       "    <tr>\n",
       "      <th>304</th>\n",
       "      <td>2021-12-18</td>\n",
       "      <td>original</td>\n",
       "      <td>minsa-advierte-que-90-de-pacientes-hospitaliza...</td>\n",
       "      <td>El ministro de Salud, Hernando Cevallos, advir...</td>\n",
       "      <td>374</td>\n",
       "    </tr>\n",
       "    <tr>\n",
       "      <th>308</th>\n",
       "      <td>2021-12-18</td>\n",
       "      <td>original</td>\n",
       "      <td>resumen-2021-negacionistas-asi-va-la-situacion...</td>\n",
       "      <td>El movimiento antivacuna ha encontrado en la p...</td>\n",
       "      <td>1035</td>\n",
       "    </tr>\n",
       "  </tbody>\n",
       "</table>\n",
       "</div>"
      ],
      "text/plain": [
       "           dia      tipo                                             titulo  \\\n",
       "307 2021-12-18  original  premier-league-pep-guardiola-dio-negativo-tras...   \n",
       "306 2021-12-18  original  omicron-las-preguntas-mas-frecuentes-sobre-la-...   \n",
       "305 2021-12-18  original  omicron-como-responde-nuestro-sistema-inmunolo...   \n",
       "304 2021-12-18  original  minsa-advierte-que-90-de-pacientes-hospitaliza...   \n",
       "308 2021-12-18  original  resumen-2021-negacionistas-asi-va-la-situacion...   \n",
       "\n",
       "                                             contenido  tamanio  \n",
       "307  La Premier League está atravesando por una cri...      426  \n",
       "306  Ómicron es una variante del coronavirus detect...      538  \n",
       "305  En la lucha contra el coronavirus, un componen...     1130  \n",
       "304  El ministro de Salud, Hernando Cevallos, advir...      374  \n",
       "308  El movimiento antivacuna ha encontrado en la p...     1035  "
      ]
     },
     "execution_count": 6,
     "metadata": {},
     "output_type": "execute_result"
    }
   ],
   "source": [
    "data = data[data['tipo'] == 'original']\n",
    "data['dia'] = pd.to_datetime(\n",
    "    data['dia'], errors='coerce', format='%d%m%Y'\n",
    ")\n",
    "data = data.sort_values(by=['dia'], ascending=True)\n",
    "data.tail()"
   ]
  },
  {
   "cell_type": "code",
   "execution_count": 7,
   "id": "3f89563b-14ad-4849-a6d7-820a273fcca2",
   "metadata": {},
   "outputs": [],
   "source": [
    "#contenido = data.groupby(by=['dia']).agg({\n",
    "#    'contenido': lambda _: '\\n'.join(list(_)),\n",
    "#    'tamanio': 'sum'\n",
    "#}).sort_index().iloc[8:]\n",
    "\n",
    "#contenido"
   ]
  },
  {
   "cell_type": "code",
   "execution_count": null,
   "id": "23fd0d04-793e-4001-b984-3a37c5c66639",
   "metadata": {},
   "outputs": [],
   "source": []
  },
  {
   "cell_type": "markdown",
   "id": "a29220bf-e6bb-4304-86ba-5e1fb39c25cf",
   "metadata": {},
   "source": [
    "## >> ULTIMAS NOTICIAS"
   ]
  },
  {
   "cell_type": "code",
   "execution_count": 8,
   "id": "d6a766cf-d31e-49d1-a242-8b548d3631a3",
   "metadata": {},
   "outputs": [
    {
     "data": {
      "text/html": [
       "<div>\n",
       "<style scoped>\n",
       "    .dataframe tbody tr th:only-of-type {\n",
       "        vertical-align: middle;\n",
       "    }\n",
       "\n",
       "    .dataframe tbody tr th {\n",
       "        vertical-align: top;\n",
       "    }\n",
       "\n",
       "    .dataframe thead th {\n",
       "        text-align: right;\n",
       "    }\n",
       "</style>\n",
       "<table border=\"1\" class=\"dataframe\">\n",
       "  <thead>\n",
       "    <tr style=\"text-align: right;\">\n",
       "      <th></th>\n",
       "      <th>dia</th>\n",
       "      <th>tipo</th>\n",
       "      <th>titulo</th>\n",
       "      <th>contenido</th>\n",
       "      <th>tamanio</th>\n",
       "    </tr>\n",
       "  </thead>\n",
       "  <tbody>\n",
       "    <tr>\n",
       "      <th>307</th>\n",
       "      <td>2021-12-18</td>\n",
       "      <td>original</td>\n",
       "      <td>premier-league-pep-guardiola-dio-negativo-tras...</td>\n",
       "      <td>La Premier League está atravesando por una cri...</td>\n",
       "      <td>426</td>\n",
       "    </tr>\n",
       "    <tr>\n",
       "      <th>306</th>\n",
       "      <td>2021-12-18</td>\n",
       "      <td>original</td>\n",
       "      <td>omicron-las-preguntas-mas-frecuentes-sobre-la-...</td>\n",
       "      <td>Ómicron es una variante del coronavirus detect...</td>\n",
       "      <td>538</td>\n",
       "    </tr>\n",
       "    <tr>\n",
       "      <th>305</th>\n",
       "      <td>2021-12-18</td>\n",
       "      <td>original</td>\n",
       "      <td>omicron-como-responde-nuestro-sistema-inmunolo...</td>\n",
       "      <td>En la lucha contra el coronavirus, un componen...</td>\n",
       "      <td>1130</td>\n",
       "    </tr>\n",
       "    <tr>\n",
       "      <th>304</th>\n",
       "      <td>2021-12-18</td>\n",
       "      <td>original</td>\n",
       "      <td>minsa-advierte-que-90-de-pacientes-hospitaliza...</td>\n",
       "      <td>El ministro de Salud, Hernando Cevallos, advir...</td>\n",
       "      <td>374</td>\n",
       "    </tr>\n",
       "    <tr>\n",
       "      <th>308</th>\n",
       "      <td>2021-12-18</td>\n",
       "      <td>original</td>\n",
       "      <td>resumen-2021-negacionistas-asi-va-la-situacion...</td>\n",
       "      <td>El movimiento antivacuna ha encontrado en la p...</td>\n",
       "      <td>1035</td>\n",
       "    </tr>\n",
       "  </tbody>\n",
       "</table>\n",
       "</div>"
      ],
      "text/plain": [
       "           dia      tipo                                             titulo  \\\n",
       "307 2021-12-18  original  premier-league-pep-guardiola-dio-negativo-tras...   \n",
       "306 2021-12-18  original  omicron-las-preguntas-mas-frecuentes-sobre-la-...   \n",
       "305 2021-12-18  original  omicron-como-responde-nuestro-sistema-inmunolo...   \n",
       "304 2021-12-18  original  minsa-advierte-que-90-de-pacientes-hospitaliza...   \n",
       "308 2021-12-18  original  resumen-2021-negacionistas-asi-va-la-situacion...   \n",
       "\n",
       "                                             contenido  tamanio  \n",
       "307  La Premier League está atravesando por una cri...      426  \n",
       "306  Ómicron es una variante del coronavirus detect...      538  \n",
       "305  En la lucha contra el coronavirus, un componen...     1130  \n",
       "304  El ministro de Salud, Hernando Cevallos, advir...      374  \n",
       "308  El movimiento antivacuna ha encontrado en la p...     1035  "
      ]
     },
     "execution_count": 8,
     "metadata": {},
     "output_type": "execute_result"
    }
   ],
   "source": [
    "ultimas_noticias = data.iloc[-5:]\n",
    "ultimas_noticias"
   ]
  },
  {
   "cell_type": "code",
   "execution_count": null,
   "id": "e70bc71a-8dc1-4462-8faa-7be0ff7eb68b",
   "metadata": {},
   "outputs": [],
   "source": []
  },
  {
   "cell_type": "markdown",
   "id": "e85d2dea-9da7-4542-ba9c-fb18895f0fff",
   "metadata": {},
   "source": [
    "## >> PEGASUS INGLES"
   ]
  },
  {
   "cell_type": "code",
   "execution_count": 9,
   "id": "cf7d2390-3230-49e6-9ec8-a7cb07455256",
   "metadata": {},
   "outputs": [
    {
     "data": {
      "text/plain": [
       "'cpu'"
      ]
     },
     "execution_count": 9,
     "metadata": {},
     "output_type": "execute_result"
    }
   ],
   "source": [
    "import torch\n",
    "torch_device = 'cuda' if torch.cuda.is_available() else 'cpu'\n",
    "torch_device"
   ]
  },
  {
   "cell_type": "code",
   "execution_count": 10,
   "id": "2ed335f5-0c37-4d2e-9a8a-1ca947396f8b",
   "metadata": {},
   "outputs": [
    {
     "name": "stdout",
     "output_type": "stream",
     "text": [
      "Wall time: 1min 29s\n"
     ]
    },
    {
     "data": {
      "text/plain": [
       "transformers.models.pegasus.tokenization_pegasus.PegasusTokenizer"
      ]
     },
     "execution_count": 10,
     "metadata": {},
     "output_type": "execute_result"
    }
   ],
   "source": [
    "%%time\n",
    "\n",
    "from transformers import PegasusForConditionalGeneration, PegasusTokenizer\n",
    "\n",
    "model_name = 'google/pegasus-reddit_tifu'\n",
    "tokenizer = PegasusTokenizer.from_pretrained(model_name)\n",
    "print(type(tokenizer))\n",
    "\n",
    "model_pegasus = PegasusForConditionalGeneration.from_pretrained(model_name).to(torch_device)\n",
    "print(type(model_pegasus))"
   ]
  },
  {
   "cell_type": "code",
   "execution_count": null,
   "id": "085688e4-4d62-4312-9f6b-2f0d23c2a3fa",
   "metadata": {},
   "outputs": [],
   "source": [
    "%%time\n",
    "\n",
    "def get_resumen_pegausus_ingles(texto, model):\n",
    "    batch = tokenizer.prepare_seq2seq_batch([texto], truncation=True, padding='longest', return_tensors=\"pt\").to(torch_device)\n",
    "    translated = model.generate(**batch)\n",
    "    tgt_text = tokenizer.batch_decode(translated, skip_special_tokens=True)\n",
    "    return tgt_text[0]\n",
    "\n",
    "ultimas_noticias['resumen_pegaus'] = ultimas_noticias['contenido'].apply(lambda _: get_resumen_pegausus_ingles(_, model_pegasus))\n",
    "ultimas_noticias.head()"
   ]
  },
  {
   "cell_type": "code",
   "execution_count": null,
   "id": "db05b26f-421d-47e0-af78-781fcfa15698",
   "metadata": {},
   "outputs": [],
   "source": [
    "ultimas_noticias.to_csv('resumenes_ultimas_noticias_{}.csv'.format(marca_tiempo), index=False)"
   ]
  },
  {
   "cell_type": "code",
   "execution_count": null,
   "id": "d354595f-fa09-40cf-90d9-295b8fe84f71",
   "metadata": {},
   "outputs": [],
   "source": []
  },
  {
   "cell_type": "code",
   "execution_count": null,
   "id": "7087c363-3430-4589-9628-460c784bc330",
   "metadata": {},
   "outputs": [],
   "source": []
  },
  {
   "cell_type": "markdown",
   "id": "eedee9d6-9919-4137-8aa2-8df08e484074",
   "metadata": {},
   "source": [
    "## >> LeoCordoba/mt5-small-ccnews-titles-es"
   ]
  },
  {
   "cell_type": "code",
   "execution_count": null,
   "id": "dcce7b63-231d-4c22-899e-052c56f90c1f",
   "metadata": {},
   "outputs": [],
   "source": [
    "%%time\n",
    "\n",
    "from transformers import pipeline\n",
    "summarizer_fb = pipeline(\"summarization\", model=\"facebook/bart-large-cnn\")"
   ]
  },
  {
   "cell_type": "code",
   "execution_count": null,
   "id": "ba60f7da-b6ae-425f-b3c9-59ed3df1b903",
   "metadata": {},
   "outputs": [],
   "source": [
    "%%time\n",
    "\n",
    "resumen_facebook_bart = summarizer(ultima_noticia.contenido)\n",
    "resumen_facebook_bart"
   ]
  },
  {
   "cell_type": "code",
   "execution_count": null,
   "id": "6d9628dc-d42d-48ae-8796-9233bd9f8827",
   "metadata": {},
   "outputs": [],
   "source": []
  },
  {
   "cell_type": "code",
   "execution_count": null,
   "id": "e77a3819-b402-4a60-9bfb-07aad542c9cb",
   "metadata": {},
   "outputs": [],
   "source": []
  },
  {
   "cell_type": "code",
   "execution_count": null,
   "id": "dfbb1bcd-bbb7-40b5-b0d2-f805fdacec1c",
   "metadata": {},
   "outputs": [],
   "source": [
    "from transformers import pipeline\n",
    "txt = r'''\n",
    "Machine learning is the study of computer algorithms that improve automatically through experience and by the use of data. It is seen as a part of artificial intelligence. Machine learning is an important component of the growing field of data \n",
    "science . Machine learning, deep learning, and neural networks are all sub-fields of artificial intelligence . As big data continues to grow, the market demand for data scientists will increase, requiring them to assist in the identification of \n",
    "the most relevant business questions. Machine learning is a method of data analysis that automates analytical model building. It is a branch of artificial intelligence based on the idea that systems can learn from data, identify patterns and make \n",
    "decisions with minimal human intervention.\n",
    "'''\n",
    "nlp = pipeline(task='summarization')\n",
    "nlp(txt, max_length=130, min_length=30)"
   ]
  },
  {
   "cell_type": "code",
   "execution_count": null,
   "id": "fc834af5-fdea-421b-9bbf-df5e00803f8b",
   "metadata": {},
   "outputs": [],
   "source": [
    "new"
   ]
  },
  {
   "cell_type": "code",
   "execution_count": null,
   "id": "37baa68e-e139-43da-9c6f-d942d8dbcae8",
   "metadata": {},
   "outputs": [],
   "source": [
    "nlp = pipeline(task='summarization')\n",
    "nlp(new, max_length=500, min_length=30)"
   ]
  },
  {
   "cell_type": "code",
   "execution_count": null,
   "id": "452a1dac-9251-43b7-a5fd-5fbda7d9f75d",
   "metadata": {},
   "outputs": [],
   "source": []
  },
  {
   "cell_type": "code",
   "execution_count": null,
   "id": "81cb9de0-9fdf-42d7-b605-79c700736ce9",
   "metadata": {},
   "outputs": [],
   "source": []
  },
  {
   "cell_type": "code",
   "execution_count": null,
   "id": "0da8c3e1-918a-42de-9aff-a8f52b047a4c",
   "metadata": {},
   "outputs": [],
   "source": []
  },
  {
   "cell_type": "code",
   "execution_count": null,
   "id": "2b3e4b61-a289-4630-958e-9acaf50b6f7d",
   "metadata": {},
   "outputs": [],
   "source": []
  },
  {
   "cell_type": "code",
   "execution_count": null,
   "id": "d95937d2-9b97-4bb5-9862-9c08b0032800",
   "metadata": {},
   "outputs": [],
   "source": []
  },
  {
   "cell_type": "code",
   "execution_count": null,
   "id": "45608ae9-91bd-4b74-98f7-7924dd9b2f58",
   "metadata": {},
   "outputs": [],
   "source": []
  },
  {
   "cell_type": "code",
   "execution_count": null,
   "id": "f63cebce-ce47-4294-a365-c76379eba0b1",
   "metadata": {},
   "outputs": [],
   "source": []
  },
  {
   "cell_type": "code",
   "execution_count": null,
   "id": "8b58a519-13ba-4bfb-adbd-90639c9853da",
   "metadata": {},
   "outputs": [],
   "source": []
  },
  {
   "cell_type": "code",
   "execution_count": null,
   "id": "9b7d44ae-f873-4fa9-a80e-941c31d6b68f",
   "metadata": {},
   "outputs": [],
   "source": [
    "from scipy.spatial.distance import jensenshannon\n",
    "\n",
    "a = [0.2, 0.4, 0.4]\n",
    "b = [0.3, 0.2, 0.5]\n",
    "\n",
    "jensenshannon(a,b, base=2.0)"
   ]
  },
  {
   "cell_type": "code",
   "execution_count": null,
   "id": "c35426f2-5c5d-4043-96d1-c4f0ecad6c5b",
   "metadata": {},
   "outputs": [],
   "source": [
    "jensenshannon(a,b, base=2.0) ** 2"
   ]
  },
  {
   "cell_type": "code",
   "execution_count": null,
   "id": "ebb93228-5b88-4601-bf08-aa32a0ca6f35",
   "metadata": {},
   "outputs": [],
   "source": []
  },
  {
   "cell_type": "code",
   "execution_count": null,
   "id": "fa29c387-d050-4955-8f08-7a1769e17602",
   "metadata": {},
   "outputs": [],
   "source": [
    "a = [0.9, 0.6, 0.1]\n",
    "b = [0.3, 0.2, 0.5]\n",
    "\n",
    "jensenshannon(a,b, base=2.0) ** 2"
   ]
  },
  {
   "cell_type": "code",
   "execution_count": null,
   "id": "3c8ffb48-d04e-47a9-8e0e-b0abe7e53117",
   "metadata": {},
   "outputs": [],
   "source": []
  },
  {
   "cell_type": "code",
   "execution_count": null,
   "id": "03a5a35e-b3a0-4ed5-bd3e-ea6c743f078a",
   "metadata": {},
   "outputs": [],
   "source": [
    "a = [0.2, 0.6, 0.1]\n",
    "b = [0.2, 0.6, 0.1]\n",
    "\n",
    "jensenshannon(a,b, base=2.0) ** 2"
   ]
  },
  {
   "cell_type": "code",
   "execution_count": null,
   "id": "0ec9370d-b826-40ba-9de9-4ce99d67130a",
   "metadata": {},
   "outputs": [],
   "source": []
  },
  {
   "cell_type": "code",
   "execution_count": null,
   "id": "a057202d-ef3c-4d2f-8884-d803f447d4b5",
   "metadata": {},
   "outputs": [],
   "source": []
  }
 ],
 "metadata": {
  "kernelspec": {
   "display_name": "Python 3",
   "language": "python",
   "name": "python3"
  },
  "language_info": {
   "codemirror_mode": {
    "name": "ipython",
    "version": 3
   },
   "file_extension": ".py",
   "mimetype": "text/x-python",
   "name": "python",
   "nbconvert_exporter": "python",
   "pygments_lexer": "ipython3",
   "version": "3.8.5"
  }
 },
 "nbformat": 4,
 "nbformat_minor": 5
}
