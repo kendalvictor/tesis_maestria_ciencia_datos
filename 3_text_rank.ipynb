{
 "cells": [
  {
   "cell_type": "code",
   "execution_count": 1,
   "id": "57d056db-9a40-4f6c-9060-c72ecca242f3",
   "metadata": {},
   "outputs": [],
   "source": [
    "import glob\n",
    "import os\n",
    "\n",
    "\n",
    "from wordcloud import WordCloud, STOPWORDS\n",
    "from nltk.corpus import stopwords\n",
    "\n",
    "import pandas as pd\n",
    "\n",
    "from PIL import Image \n",
    "import matplotlib.pylab as plt"
   ]
  },
  {
   "cell_type": "code",
   "execution_count": 2,
   "id": "3c77658b-6b13-495c-81ee-0a91d8764430",
   "metadata": {},
   "outputs": [],
   "source": [
    "import os\n",
    "import re\n",
    "import time\n",
    "from pathlib import Path\n",
    "import shutil\n",
    "import glob\n",
    "import string\n",
    "import unicodedata\n",
    "from datetime import datetime, timedelta\n",
    "\n",
    "import pandas as pd\n",
    "from selenium import webdriver\n",
    "from selenium.webdriver.chrome.options import Options\n",
    "from selenium.webdriver.support.select import Select\n",
    "from sqlalchemy import create_engine\n",
    "from selenium.webdriver.support.ui import WebDriverWait\n",
    "from selenium.webdriver.support import expected_conditions as EC\n",
    "from selenium.webdriver.common.by import By\n",
    "\n",
    "from unicodedata import normalize, category"
   ]
  },
  {
   "cell_type": "code",
   "execution_count": 3,
   "id": "7fca6a88-caef-4bdb-9b2c-cfcaa31419f6",
   "metadata": {},
   "outputs": [],
   "source": [
    "import numpy as np\n",
    "import pandas as pd\n",
    "import nltk\n",
    "import re\n",
    "from nltk.tokenize import sent_tokenize\n",
    "from nltk.corpus import stopwords\n",
    "from gensim.models import Word2Vec\n",
    "from scipy import spatial\n",
    "import networkx as nx"
   ]
  },
  {
   "cell_type": "code",
   "execution_count": 4,
   "id": "0cf1af30-6ee5-42fc-9a41-3c72217c74d4",
   "metadata": {},
   "outputs": [],
   "source": [
    "class ApplyTextRank(object):\n",
    "    \n",
    "    def __init__(self, hoy_format=None,  metodo=1):\n",
    "        #-------------------------- Habilitacion de ruta --------------------------#\n",
    "        self.folder_news = 'news'\n",
    "        if not os.path.exists(self.folder_news):\n",
    "            os.makedirs(self.folder_news)\n",
    "        \n",
    "        self.hoy = datetime.today()\n",
    "        self.hoy_format = self.hoy.strftime('%d%m%Y') if hoy_format is None else hoy_format\n",
    "        self.newsletter_path = os.path.join(self.folder_news, self.hoy_format, 'consolidado')\n",
    "        \n",
    "        path_ = os.path.join(self.newsletter_path, 'consolidado.csv'.format(metodo))\n",
    "        data = pd.read_csv(path_, encoding='UTF-8')\n",
    "        data = data[data['tipo'] == 'original']\n",
    "        #display(data)\n",
    "        \n",
    "        self._sentences_origen = [oracion for oracion in data['oracion']]\n",
    "        self._sentences = []\n",
    "        self._stopwords = stopwords.words('spanish')\n",
    "\n",
    "        \n",
    "    def remove_stopwords(self):\n",
    "        self._sentences = [\n",
    "            [words for words in sentence.split() if words not in self._stopwords] \n",
    "            for sentence in self._sentences_origen\n",
    "        ]"
   ]
  },
  {
   "cell_type": "code",
   "execution_count": 5,
   "id": "59addf4b-8017-4633-b929-70187e803df8",
   "metadata": {},
   "outputs": [],
   "source": [
    "apply_text_rank = ApplyTextRank()"
   ]
  },
  {
   "cell_type": "code",
   "execution_count": 6,
   "id": "a76b97d6-9f2a-4612-9187-f5fd97fd3ef6",
   "metadata": {},
   "outputs": [],
   "source": [
    "#apply_text_rank._sentences_origen"
   ]
  },
  {
   "cell_type": "code",
   "execution_count": 7,
   "id": "731df4e5-2a16-4adb-825e-f57de25ee9f4",
   "metadata": {},
   "outputs": [],
   "source": [
    "apply_text_rank.remove_stopwords()"
   ]
  },
  {
   "cell_type": "code",
   "execution_count": 8,
   "id": "060d9b7c-2585-48b8-8b1d-d311ec8e8384",
   "metadata": {},
   "outputs": [
    {
     "name": "stdout",
     "output_type": "stream",
     "text": [
      "Wall time: 4.27 s\n"
     ]
    }
   ],
   "source": [
    "%%time\n",
    "\n",
    "w2v = Word2Vec(\n",
    "    apply_text_rank._sentences, \n",
    "    size=1,\n",
    "    min_count=1,\n",
    "    iter=1000\n",
    ")"
   ]
  },
  {
   "cell_type": "code",
   "execution_count": 9,
   "id": "5c3d40cd-cf49-42d2-b4f5-5d11360324d2",
   "metadata": {},
   "outputs": [
    {
     "name": "stderr",
     "output_type": "stream",
     "text": [
      "<ipython-input-9-516a21e910ff>:2: DeprecationWarning: Call to deprecated `__getitem__` (Method will be removed in 4.0.0, use self.wv.__getitem__() instead).\n",
      "  [w2v[word][0] for word in words]\n"
     ]
    }
   ],
   "source": [
    "sentence_embeddings = [\n",
    "    [w2v[word][0] for word in words] \n",
    "    for words in apply_text_rank._sentences\n",
    "]"
   ]
  },
  {
   "cell_type": "code",
   "execution_count": 10,
   "id": "78b922d4-29ec-4e2c-a0c6-f6ad9c9a67ac",
   "metadata": {},
   "outputs": [
    {
     "data": {
      "text/plain": [
       "45"
      ]
     },
     "execution_count": 10,
     "metadata": {},
     "output_type": "execute_result"
    }
   ],
   "source": [
    "max_len =max(\n",
    "    [len(tokens) for tokens in apply_text_rank._sentences]\n",
    ")\n",
    "max_len"
   ]
  },
  {
   "cell_type": "code",
   "execution_count": 11,
   "id": "71707353-8b31-40db-9e14-4c2326cd8852",
   "metadata": {},
   "outputs": [],
   "source": [
    "sentence_embeddings = [\n",
    "    np.pad(embedding,(0,max_len-len(embedding)),'constant') \n",
    "    for embedding in sentence_embeddings\n",
    "]"
   ]
  },
  {
   "cell_type": "code",
   "execution_count": 12,
   "id": "a2a18f5c-41ad-453d-a915-77fb1aaa4849",
   "metadata": {},
   "outputs": [
    {
     "data": {
      "text/plain": [
       "(240, 240)"
      ]
     },
     "execution_count": 12,
     "metadata": {},
     "output_type": "execute_result"
    }
   ],
   "source": [
    "similarity_matrix = np.zeros([len(apply_text_rank._sentences), len(apply_text_rank._sentences)])\n",
    "similarity_matrix.shape"
   ]
  },
  {
   "cell_type": "code",
   "execution_count": 13,
   "id": "ebf4d4de-e0d8-46da-bdd0-a05a13affdcb",
   "metadata": {},
   "outputs": [],
   "source": [
    "for i, row_embedding in enumerate(sentence_embeddings):\n",
    "    for j, column_embedding in enumerate(sentence_embeddings):\n",
    "        similarity_matrix[i][j] = 1 - spatial.distance.cosine(row_embedding, column_embedding)"
   ]
  },
  {
   "cell_type": "markdown",
   "id": "a246fdc3-2bc8-47cf-95c3-efdd69b3cabc",
   "metadata": {},
   "source": [
    "### PAGE RANK"
   ]
  },
  {
   "cell_type": "code",
   "execution_count": 14,
   "id": "6a3af4ea-87f0-4502-9ae3-901537fec5c5",
   "metadata": {},
   "outputs": [],
   "source": [
    "nx_graph = nx.from_numpy_array(similarity_matrix)\n",
    "scores = nx.pagerank(nx_graph)"
   ]
  },
  {
   "cell_type": "code",
   "execution_count": 15,
   "id": "cce168fe-6b7b-498f-87dc-3c7516fd3930",
   "metadata": {},
   "outputs": [
    {
     "data": {
      "text/html": [
       "<div>\n",
       "<style scoped>\n",
       "    .dataframe tbody tr th:only-of-type {\n",
       "        vertical-align: middle;\n",
       "    }\n",
       "\n",
       "    .dataframe tbody tr th {\n",
       "        vertical-align: top;\n",
       "    }\n",
       "\n",
       "    .dataframe thead th {\n",
       "        text-align: right;\n",
       "    }\n",
       "</style>\n",
       "<table border=\"1\" class=\"dataframe\">\n",
       "  <thead>\n",
       "    <tr style=\"text-align: right;\">\n",
       "      <th></th>\n",
       "      <th>orden</th>\n",
       "      <th>score</th>\n",
       "    </tr>\n",
       "  </thead>\n",
       "  <tbody>\n",
       "    <tr>\n",
       "      <th>0</th>\n",
       "      <td>0</td>\n",
       "      <td>0.004622</td>\n",
       "    </tr>\n",
       "    <tr>\n",
       "      <th>1</th>\n",
       "      <td>1</td>\n",
       "      <td>0.004379</td>\n",
       "    </tr>\n",
       "    <tr>\n",
       "      <th>2</th>\n",
       "      <td>2</td>\n",
       "      <td>0.004554</td>\n",
       "    </tr>\n",
       "    <tr>\n",
       "      <th>3</th>\n",
       "      <td>3</td>\n",
       "      <td>0.004369</td>\n",
       "    </tr>\n",
       "    <tr>\n",
       "      <th>4</th>\n",
       "      <td>4</td>\n",
       "      <td>0.004452</td>\n",
       "    </tr>\n",
       "    <tr>\n",
       "      <th>...</th>\n",
       "      <td>...</td>\n",
       "      <td>...</td>\n",
       "    </tr>\n",
       "    <tr>\n",
       "      <th>235</th>\n",
       "      <td>235</td>\n",
       "      <td>0.003151</td>\n",
       "    </tr>\n",
       "    <tr>\n",
       "      <th>236</th>\n",
       "      <td>236</td>\n",
       "      <td>0.004262</td>\n",
       "    </tr>\n",
       "    <tr>\n",
       "      <th>237</th>\n",
       "      <td>237</td>\n",
       "      <td>0.003158</td>\n",
       "    </tr>\n",
       "    <tr>\n",
       "      <th>238</th>\n",
       "      <td>238</td>\n",
       "      <td>0.004514</td>\n",
       "    </tr>\n",
       "    <tr>\n",
       "      <th>239</th>\n",
       "      <td>239</td>\n",
       "      <td>0.004358</td>\n",
       "    </tr>\n",
       "  </tbody>\n",
       "</table>\n",
       "<p>240 rows × 2 columns</p>\n",
       "</div>"
      ],
      "text/plain": [
       "     orden     score\n",
       "0        0  0.004622\n",
       "1        1  0.004379\n",
       "2        2  0.004554\n",
       "3        3  0.004369\n",
       "4        4  0.004452\n",
       "..     ...       ...\n",
       "235    235  0.003151\n",
       "236    236  0.004262\n",
       "237    237  0.003158\n",
       "238    238  0.004514\n",
       "239    239  0.004358\n",
       "\n",
       "[240 rows x 2 columns]"
      ]
     },
     "execution_count": 15,
     "metadata": {},
     "output_type": "execute_result"
    }
   ],
   "source": [
    "_scores = pd.Series(scores).reset_index()\n",
    "_scores.columns = ['orden', 'score']\n",
    "_scores"
   ]
  },
  {
   "cell_type": "code",
   "execution_count": null,
   "id": "fe526872-8e03-494a-87ef-8423e6cedd7d",
   "metadata": {},
   "outputs": [],
   "source": []
  },
  {
   "cell_type": "markdown",
   "id": "7dc1b112-f200-450f-8c3a-0b40c315f51b",
   "metadata": {},
   "source": [
    "### TOP"
   ]
  },
  {
   "cell_type": "code",
   "execution_count": 16,
   "id": "409fbf72-428f-4f6d-8bfa-64bbf6ed7b6a",
   "metadata": {},
   "outputs": [
    {
     "data": {
      "text/html": [
       "<div>\n",
       "<style scoped>\n",
       "    .dataframe tbody tr th:only-of-type {\n",
       "        vertical-align: middle;\n",
       "    }\n",
       "\n",
       "    .dataframe tbody tr th {\n",
       "        vertical-align: top;\n",
       "    }\n",
       "\n",
       "    .dataframe thead th {\n",
       "        text-align: right;\n",
       "    }\n",
       "</style>\n",
       "<table border=\"1\" class=\"dataframe\">\n",
       "  <thead>\n",
       "    <tr style=\"text-align: right;\">\n",
       "      <th></th>\n",
       "      <th>orden</th>\n",
       "      <th>oracion</th>\n",
       "    </tr>\n",
       "  </thead>\n",
       "  <tbody>\n",
       "    <tr>\n",
       "      <th>0</th>\n",
       "      <td>0</td>\n",
       "      <td>la pandemia de coronavirus ha dejado a muchas ...</td>\n",
       "    </tr>\n",
       "    <tr>\n",
       "      <th>1</th>\n",
       "      <td>1</td>\n",
       "      <td>ante ello el anterior gobierno de francisco s...</td>\n",
       "    </tr>\n",
       "    <tr>\n",
       "      <th>2</th>\n",
       "      <td>2</td>\n",
       "      <td>aqui te alcanzamos el link oficial de consult...</td>\n",
       "    </tr>\n",
       "    <tr>\n",
       "      <th>3</th>\n",
       "      <td>3</td>\n",
       "      <td>como se sabe el pago del bono 600 empezo en fe...</td>\n",
       "    </tr>\n",
       "    <tr>\n",
       "      <th>4</th>\n",
       "      <td>4</td>\n",
       "      <td>hace unas semanas la anterior gestion anuncio...</td>\n",
       "    </tr>\n",
       "    <tr>\n",
       "      <th>...</th>\n",
       "      <td>...</td>\n",
       "      <td>...</td>\n",
       "    </tr>\n",
       "    <tr>\n",
       "      <th>235</th>\n",
       "      <td>235</td>\n",
       "      <td>por eso estamos incentivando la vacunacion</td>\n",
       "    </tr>\n",
       "    <tr>\n",
       "      <th>236</th>\n",
       "      <td>236</td>\n",
       "      <td>seguimos insistiendo en la poblacion se cuide...</td>\n",
       "    </tr>\n",
       "    <tr>\n",
       "      <th>237</th>\n",
       "      <td>237</td>\n",
       "      <td>no hay que confiarse insto</td>\n",
       "    </tr>\n",
       "    <tr>\n",
       "      <th>238</th>\n",
       "      <td>238</td>\n",
       "      <td>consultado respecto a que regiones presentan c...</td>\n",
       "    </tr>\n",
       "    <tr>\n",
       "      <th>239</th>\n",
       "      <td>239</td>\n",
       "      <td>no solamente es en lima y en arequipa tambien...</td>\n",
       "    </tr>\n",
       "  </tbody>\n",
       "</table>\n",
       "<p>240 rows × 2 columns</p>\n",
       "</div>"
      ],
      "text/plain": [
       "     orden                                            oracion\n",
       "0        0  la pandemia de coronavirus ha dejado a muchas ...\n",
       "1        1   ante ello el anterior gobierno de francisco s...\n",
       "2        2   aqui te alcanzamos el link oficial de consult...\n",
       "3        3  como se sabe el pago del bono 600 empezo en fe...\n",
       "4        4   hace unas semanas la anterior gestion anuncio...\n",
       "..     ...                                                ...\n",
       "235    235         por eso estamos incentivando la vacunacion\n",
       "236    236   seguimos insistiendo en la poblacion se cuide...\n",
       "237    237                         no hay que confiarse insto\n",
       "238    238  consultado respecto a que regiones presentan c...\n",
       "239    239   no solamente es en lima y en arequipa tambien...\n",
       "\n",
       "[240 rows x 2 columns]"
      ]
     },
     "execution_count": 16,
     "metadata": {},
     "output_type": "execute_result"
    }
   ],
   "source": [
    "oraciones = pd.Series(apply_text_rank._sentences_origen).reset_index()\n",
    "oraciones.columns = ['orden', 'oracion']\n",
    "oraciones"
   ]
  },
  {
   "cell_type": "code",
   "execution_count": 17,
   "id": "ddf73f7c-b11f-486c-9ed7-ed641e402284",
   "metadata": {},
   "outputs": [
    {
     "data": {
      "text/html": [
       "<div>\n",
       "<style scoped>\n",
       "    .dataframe tbody tr th:only-of-type {\n",
       "        vertical-align: middle;\n",
       "    }\n",
       "\n",
       "    .dataframe tbody tr th {\n",
       "        vertical-align: top;\n",
       "    }\n",
       "\n",
       "    .dataframe thead th {\n",
       "        text-align: right;\n",
       "    }\n",
       "</style>\n",
       "<table border=\"1\" class=\"dataframe\">\n",
       "  <thead>\n",
       "    <tr style=\"text-align: right;\">\n",
       "      <th></th>\n",
       "      <th>orden</th>\n",
       "      <th>score</th>\n",
       "      <th>oracion</th>\n",
       "    </tr>\n",
       "  </thead>\n",
       "  <tbody>\n",
       "    <tr>\n",
       "      <th>0</th>\n",
       "      <td>0</td>\n",
       "      <td>0.004622</td>\n",
       "      <td>la pandemia de coronavirus ha dejado a muchas ...</td>\n",
       "    </tr>\n",
       "    <tr>\n",
       "      <th>1</th>\n",
       "      <td>1</td>\n",
       "      <td>0.004379</td>\n",
       "      <td>ante ello el anterior gobierno de francisco s...</td>\n",
       "    </tr>\n",
       "    <tr>\n",
       "      <th>2</th>\n",
       "      <td>2</td>\n",
       "      <td>0.004554</td>\n",
       "      <td>aqui te alcanzamos el link oficial de consult...</td>\n",
       "    </tr>\n",
       "    <tr>\n",
       "      <th>3</th>\n",
       "      <td>3</td>\n",
       "      <td>0.004369</td>\n",
       "      <td>como se sabe el pago del bono 600 empezo en fe...</td>\n",
       "    </tr>\n",
       "    <tr>\n",
       "      <th>4</th>\n",
       "      <td>4</td>\n",
       "      <td>0.004452</td>\n",
       "      <td>hace unas semanas la anterior gestion anuncio...</td>\n",
       "    </tr>\n",
       "    <tr>\n",
       "      <th>...</th>\n",
       "      <td>...</td>\n",
       "      <td>...</td>\n",
       "      <td>...</td>\n",
       "    </tr>\n",
       "    <tr>\n",
       "      <th>235</th>\n",
       "      <td>235</td>\n",
       "      <td>0.003151</td>\n",
       "      <td>por eso estamos incentivando la vacunacion</td>\n",
       "    </tr>\n",
       "    <tr>\n",
       "      <th>236</th>\n",
       "      <td>236</td>\n",
       "      <td>0.004262</td>\n",
       "      <td>seguimos insistiendo en la poblacion se cuide...</td>\n",
       "    </tr>\n",
       "    <tr>\n",
       "      <th>237</th>\n",
       "      <td>237</td>\n",
       "      <td>0.003158</td>\n",
       "      <td>no hay que confiarse insto</td>\n",
       "    </tr>\n",
       "    <tr>\n",
       "      <th>238</th>\n",
       "      <td>238</td>\n",
       "      <td>0.004514</td>\n",
       "      <td>consultado respecto a que regiones presentan c...</td>\n",
       "    </tr>\n",
       "    <tr>\n",
       "      <th>239</th>\n",
       "      <td>239</td>\n",
       "      <td>0.004358</td>\n",
       "      <td>no solamente es en lima y en arequipa tambien...</td>\n",
       "    </tr>\n",
       "  </tbody>\n",
       "</table>\n",
       "<p>240 rows × 3 columns</p>\n",
       "</div>"
      ],
      "text/plain": [
       "     orden     score                                            oracion\n",
       "0        0  0.004622  la pandemia de coronavirus ha dejado a muchas ...\n",
       "1        1  0.004379   ante ello el anterior gobierno de francisco s...\n",
       "2        2  0.004554   aqui te alcanzamos el link oficial de consult...\n",
       "3        3  0.004369  como se sabe el pago del bono 600 empezo en fe...\n",
       "4        4  0.004452   hace unas semanas la anterior gestion anuncio...\n",
       "..     ...       ...                                                ...\n",
       "235    235  0.003151         por eso estamos incentivando la vacunacion\n",
       "236    236  0.004262   seguimos insistiendo en la poblacion se cuide...\n",
       "237    237  0.003158                         no hay que confiarse insto\n",
       "238    238  0.004514  consultado respecto a que regiones presentan c...\n",
       "239    239  0.004358   no solamente es en lima y en arequipa tambien...\n",
       "\n",
       "[240 rows x 3 columns]"
      ]
     },
     "execution_count": 17,
     "metadata": {},
     "output_type": "execute_result"
    }
   ],
   "source": [
    "_scores = _scores.merge(oraciones, how='left', on='orden')\n",
    "_scores['oracion'] == _scores['oracion'].apply(lambda _: str(_).strip())\n",
    "_scores"
   ]
  },
  {
   "cell_type": "code",
   "execution_count": 18,
   "id": "5d8c355c-fb52-4c58-8a40-7e1251a56210",
   "metadata": {},
   "outputs": [],
   "source": [
    "del oraciones"
   ]
  },
  {
   "cell_type": "code",
   "execution_count": 19,
   "id": "7243ffc1-b2d7-4f34-8c95-785dd7cd4b7d",
   "metadata": {},
   "outputs": [
    {
     "data": {
      "text/html": [
       "<div>\n",
       "<style scoped>\n",
       "    .dataframe tbody tr th:only-of-type {\n",
       "        vertical-align: middle;\n",
       "    }\n",
       "\n",
       "    .dataframe tbody tr th {\n",
       "        vertical-align: top;\n",
       "    }\n",
       "\n",
       "    .dataframe thead th {\n",
       "        text-align: right;\n",
       "    }\n",
       "</style>\n",
       "<table border=\"1\" class=\"dataframe\">\n",
       "  <thead>\n",
       "    <tr style=\"text-align: right;\">\n",
       "      <th></th>\n",
       "      <th>orden</th>\n",
       "      <th>score</th>\n",
       "      <th>oracion</th>\n",
       "    </tr>\n",
       "  </thead>\n",
       "  <tbody>\n",
       "    <tr>\n",
       "      <th>147</th>\n",
       "      <td>147</td>\n",
       "      <td>0.004669</td>\n",
       "      <td>faltaban solo dos dias para las vacaciones sin...</td>\n",
       "    </tr>\n",
       "    <tr>\n",
       "      <th>77</th>\n",
       "      <td>77</td>\n",
       "      <td>0.004666</td>\n",
       "      <td>uno tiene que poner su firma y dar la cara po...</td>\n",
       "    </tr>\n",
       "    <tr>\n",
       "      <th>137</th>\n",
       "      <td>137</td>\n",
       "      <td>0.004665</td>\n",
       "      <td>como soma de 24 anos que la semana pasada part...</td>\n",
       "    </tr>\n",
       "    <tr>\n",
       "      <th>126</th>\n",
       "      <td>126</td>\n",
       "      <td>0.004659</td>\n",
       "      <td>cancelen las olimpiadas gritaban los manifesta...</td>\n",
       "    </tr>\n",
       "    <tr>\n",
       "      <th>12</th>\n",
       "      <td>12</td>\n",
       "      <td>0.004643</td>\n",
       "      <td>ademas te ayudaran a completar los pasos para...</td>\n",
       "    </tr>\n",
       "  </tbody>\n",
       "</table>\n",
       "</div>"
      ],
      "text/plain": [
       "     orden     score                                            oracion\n",
       "147    147  0.004669  faltaban solo dos dias para las vacaciones sin...\n",
       "77      77  0.004666   uno tiene que poner su firma y dar la cara po...\n",
       "137    137  0.004665  como soma de 24 anos que la semana pasada part...\n",
       "126    126  0.004659  cancelen las olimpiadas gritaban los manifesta...\n",
       "12      12  0.004643   ademas te ayudaran a completar los pasos para..."
      ]
     },
     "execution_count": 19,
     "metadata": {},
     "output_type": "execute_result"
    }
   ],
   "source": [
    "_scores.sort_values(by=['score'], ascending=False).head()"
   ]
  },
  {
   "cell_type": "code",
   "execution_count": 20,
   "id": "04f5b4fe-1904-4e5e-a7dd-055605f28f99",
   "metadata": {},
   "outputs": [
    {
     "data": {
      "text/plain": [
       "147    faltaban solo dos dias para las vacaciones sin...\n",
       "77      uno tiene que poner su firma y dar la cara po...\n",
       "137    como soma de 24 anos que la semana pasada part...\n",
       "126    cancelen las olimpiadas gritaban los manifesta...\n",
       "12      ademas te ayudaran a completar los pasos para...\n",
       "87     fiorella molinelli junto a otras 13 personas s...\n",
       "36      en diferentes locales de vacunacion se han im...\n",
       "0      la pandemia de coronavirus ha dejado a muchas ...\n",
       "191    este sabado 31 de julio el minsa informo que s...\n",
       "16     si tras revisar la web el bono 600 soles verif...\n",
       "Name: oracion, dtype: object"
      ]
     },
     "execution_count": 20,
     "metadata": {},
     "output_type": "execute_result"
    }
   ],
   "source": [
    "top = _scores.sort_values(by=['score'], ascending=False).head(10)['oracion']\n",
    "top"
   ]
  },
  {
   "cell_type": "code",
   "execution_count": 25,
   "id": "1bc12ebc-d087-4bc9-80c2-6c4dfacb0d42",
   "metadata": {},
   "outputs": [
    {
     "data": {
      "text/plain": [
       "[' uno tiene que poner su firma y dar la cara porque hay que tomar decisiones sin tener miedo porque la gente se esta muriendo',\n",
       " 'faltaban solo dos dias para las vacaciones sin embargo los planes se frustraron a raiz de un incidente negativo',\n",
       " 'este sabado 31 de julio el minsa informo que se superaron los 5 millones de peruanos que han completado su vacunacion contra el covid19 con las dos dosis',\n",
       " 'cancelen las olimpiadas gritaban los manifestantes subidos en tarimas o furgonetas y rodeados de policias impasibles',\n",
       " 'la pandemia de coronavirus ha dejado a muchas personas sin empleo y afecto economicamente a miles de hogares']"
      ]
     },
     "execution_count": 25,
     "metadata": {},
     "output_type": "execute_result"
    }
   ],
   "source": [
    "top = list(set(top))\n",
    "top[:5]"
   ]
  },
  {
   "cell_type": "code",
   "execution_count": null,
   "id": "46d6a2b9-7723-4659-aacb-d0dc4f92efd0",
   "metadata": {},
   "outputs": [],
   "source": []
  },
  {
   "cell_type": "code",
   "execution_count": null,
   "id": "02dac2e1-572d-4fcd-b0bf-8480f768e306",
   "metadata": {},
   "outputs": [],
   "source": []
  },
  {
   "cell_type": "code",
   "execution_count": null,
   "id": "bdd64d0d-d61a-4070-afc8-0474d2f76519",
   "metadata": {},
   "outputs": [],
   "source": []
  },
  {
   "cell_type": "code",
   "execution_count": null,
   "id": "2e308af0-46de-4ba2-bd0a-fe863670c3bc",
   "metadata": {},
   "outputs": [],
   "source": []
  },
  {
   "cell_type": "code",
   "execution_count": null,
   "id": "5a3b3ef6-6d2a-44db-9454-5e36262e5fd6",
   "metadata": {},
   "outputs": [],
   "source": []
  },
  {
   "cell_type": "code",
   "execution_count": null,
   "id": "92cd6fd0-a033-464a-a7dd-53e8f7a560b0",
   "metadata": {},
   "outputs": [],
   "source": []
  },
  {
   "cell_type": "code",
   "execution_count": null,
   "id": "1ed8f849-7e18-42bc-8063-32799f61ce64",
   "metadata": {},
   "outputs": [],
   "source": []
  },
  {
   "cell_type": "code",
   "execution_count": null,
   "id": "7bf7c51d-24d2-4433-9d46-ac75d52a6681",
   "metadata": {},
   "outputs": [],
   "source": []
  },
  {
   "cell_type": "code",
   "execution_count": null,
   "id": "038fb446-a03b-427b-90ce-76c9665f596e",
   "metadata": {},
   "outputs": [],
   "source": []
  },
  {
   "cell_type": "code",
   "execution_count": 22,
   "id": "6ef4629f-bc55-44e5-84e0-3429f3b60717",
   "metadata": {},
   "outputs": [],
   "source": [
    "#_path_consolidado = os.path.join(\n",
    "#    apply_text_rank.newsletter_path.replace('parseado', 'consolidado'), 'consolidado.csv'\n",
    "#)"
   ]
  },
  {
   "cell_type": "code",
   "execution_count": 23,
   "id": "0ab26177-70b4-4fa2-baac-8b71a7974ea5",
   "metadata": {},
   "outputs": [],
   "source": [
    "#consolidado = pd.read_csv(_path_consolidado, encoding=\"utf-8\")\n",
    "#consolidado = consolidado[consolidado['tipo'] == 'original']\n",
    "#consolidado.head(20)"
   ]
  },
  {
   "cell_type": "code",
   "execution_count": 24,
   "id": "89e8b268-1382-4b58-9ada-d73545193090",
   "metadata": {},
   "outputs": [],
   "source": [
    "#consolidado = consolidado.merge(\n",
    "#    _scores, \n",
    "#    how='left', \n",
    "#    on='parseado_1'\n",
    "#)\n",
    "\n",
    "#consolidado.head()"
   ]
  },
  {
   "cell_type": "code",
   "execution_count": null,
   "id": "dcbe0c84-79a6-4221-9d07-64178c0618db",
   "metadata": {},
   "outputs": [],
   "source": []
  },
  {
   "cell_type": "code",
   "execution_count": null,
   "id": "ca439106-833b-4273-b824-f06fcedbaa84",
   "metadata": {},
   "outputs": [],
   "source": []
  },
  {
   "cell_type": "code",
   "execution_count": null,
   "id": "0eca4cb9-b297-4f44-aee7-5c3fa3370e16",
   "metadata": {},
   "outputs": [],
   "source": []
  },
  {
   "cell_type": "code",
   "execution_count": null,
   "id": "3ad14cf7-d93a-42c6-b063-c4fcf2fd9e29",
   "metadata": {},
   "outputs": [],
   "source": []
  }
 ],
 "metadata": {
  "kernelspec": {
   "display_name": "Python 3",
   "language": "python",
   "name": "python3"
  },
  "language_info": {
   "codemirror_mode": {
    "name": "ipython",
    "version": 3
   },
   "file_extension": ".py",
   "mimetype": "text/x-python",
   "name": "python",
   "nbconvert_exporter": "python",
   "pygments_lexer": "ipython3",
   "version": "3.8.5"
  }
 },
 "nbformat": 4,
 "nbformat_minor": 5
}
