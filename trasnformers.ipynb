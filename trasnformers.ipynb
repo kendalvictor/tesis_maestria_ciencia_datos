{
 "cells": [
  {
   "cell_type": "code",
   "execution_count": 1,
   "id": "30a316a5-5663-4ba0-9743-4ca658bbed00",
   "metadata": {},
   "outputs": [
    {
     "name": "stdout",
     "output_type": "stream",
     "text": [
      "Requirement already satisfied: transformers in c:\\programdata\\anaconda3\\lib\\site-packages (4.6.1)\n",
      "Requirement already satisfied: tqdm>=4.27 in c:\\programdata\\anaconda3\\lib\\site-packages (from transformers) (4.59.0)\n",
      "Requirement already satisfied: numpy>=1.17 in c:\\programdata\\anaconda3\\lib\\site-packages (from transformers) (1.19.5)\n",
      "Requirement already satisfied: requests in c:\\programdata\\anaconda3\\lib\\site-packages (from transformers) (2.25.1)\n",
      "Requirement already satisfied: tokenizers<0.11,>=0.10.1 in c:\\programdata\\anaconda3\\lib\\site-packages (from transformers) (0.10.3)\n",
      "Requirement already satisfied: huggingface-hub==0.0.8 in c:\\programdata\\anaconda3\\lib\\site-packages (from transformers) (0.0.8)\n",
      "Requirement already satisfied: sacremoses in c:\\programdata\\anaconda3\\lib\\site-packages (from transformers) (0.0.45)\n",
      "Requirement already satisfied: regex!=2019.12.17 in c:\\programdata\\anaconda3\\lib\\site-packages (from transformers) (2021.4.4)\n",
      "Requirement already satisfied: filelock in c:\\programdata\\anaconda3\\lib\\site-packages (from transformers) (3.0.12)\n",
      "Requirement already satisfied: packaging in c:\\programdata\\anaconda3\\lib\\site-packages (from transformers) (20.9)\n",
      "Requirement already satisfied: pyparsing>=2.0.2 in c:\\programdata\\anaconda3\\lib\\site-packages (from packaging->transformers) (2.4.7)\n",
      "Requirement already satisfied: urllib3<1.27,>=1.21.1 in c:\\programdata\\anaconda3\\lib\\site-packages (from requests->transformers) (1.26.4)\n",
      "Requirement already satisfied: chardet<5,>=3.0.2 in c:\\programdata\\anaconda3\\lib\\site-packages (from requests->transformers) (3.0.4)\n",
      "Requirement already satisfied: certifi>=2017.4.17 in c:\\programdata\\anaconda3\\lib\\site-packages (from requests->transformers) (2021.5.30)\n",
      "Requirement already satisfied: idna<3,>=2.5 in c:\\programdata\\anaconda3\\lib\\site-packages (from requests->transformers) (2.10)\n",
      "Requirement already satisfied: six in c:\\programdata\\anaconda3\\lib\\site-packages (from sacremoses->transformers) (1.16.0)\n",
      "Requirement already satisfied: click in c:\\programdata\\anaconda3\\lib\\site-packages (from sacremoses->transformers) (8.0.0)\n",
      "Requirement already satisfied: joblib in c:\\programdata\\anaconda3\\lib\\site-packages (from sacremoses->transformers) (1.0.1)\n",
      "Requirement already satisfied: colorama in c:\\programdata\\anaconda3\\lib\\site-packages (from click->sacremoses->transformers) (0.4.4)\n"
     ]
    }
   ],
   "source": [
    "!pip install transformers"
   ]
  },
  {
   "cell_type": "code",
   "execution_count": 7,
   "id": "afef82b0-cc39-4029-836d-056682b7ebec",
   "metadata": {},
   "outputs": [
    {
     "name": "stdout",
     "output_type": "stream",
     "text": [
      "Collecting rouge-metric\n",
      "  Downloading rouge_metric-1.0.1-py3-none-any.whl (151 kB)\n",
      "Installing collected packages: rouge-metric\n",
      "Successfully installed rouge-metric-1.0.1\n"
     ]
    }
   ],
   "source": [
    "!pip install rouge-metric"
   ]
  },
  {
   "cell_type": "code",
   "execution_count": 2,
   "id": "0f2a6384-5ae8-422d-b56c-bfa5c4523bc1",
   "metadata": {},
   "outputs": [
    {
     "name": "stdout",
     "output_type": "stream",
     "text": [
      "news\\13062021\\original\\minsa-reporta-191-decesos-y-1772-nuevos-contagios-de-covid-19-en-las-ultimas-24-horas-segunda-ola-nndc-noticia.txt\n",
      "1551\n"
     ]
    }
   ],
   "source": [
    "import glob\n",
    "\n",
    "for file in glob.iglob('news/**/*.txt', recursive=True):\n",
    "    print(file)\n",
    "    with open(file) as f:\n",
    "        new = f.read()\n",
    "        print(len(new))\n",
    "    #data = pd.read_json(file_json)"
   ]
  },
  {
   "cell_type": "code",
   "execution_count": 3,
   "id": "7c0f6317-aa20-427b-a1f9-cdb0349556d0",
   "metadata": {},
   "outputs": [
    {
     "data": {
      "text/plain": [
       "'El Ministerio de Salud (Minsa) informó este sábado 12 de junio que se elevó a 188.443 la cifra de decesos por coronavirus (COVID-19) en el país. Se trata de 191 nuevos fallecidos frente al reporte de la víspera. Además, informó que se incrementó en 3.003 los contagios (1.772 en las últimas 24 horas), por lo que el número total de personas infectadas llega a 2.001.059. El Minsa reportó también que hay un total de 10.711 pacientes hospitalizados, de los cuales 2.548 están con ventilación mecánica. Para mitigar los efectos de la pandemia, Perú suscribió acuerdos de adquisición de vacunas contra el COVID-19 con Sinopharm (por 2 millones de dosis), Pfizer (32 millones), AstraZeneca (14.04 millones) y con el mecanismo Covax Facility (13.2 millones). La inmunización en el Perú comenzó en febrero, tras el arribo del primer lote de vacunas procedentes de China (Sinopharm). El Gobierno ha anunciado que espera inmunizar a todos los adultos mayores de 60 años antes de que termine la actual gestión. El lunes 31 de mayo, el Gobierno informó que adoptarán los criterios y recomendaciones hechas por el Grupo de Trabajo Técnico (GTT) conformado para establecer la forma en la que se debe llevar el registro de las defunciones por esta enfermedad. Esta comisión determinó que, el número de personas fallecidas por COVID-19 en el Perú del 1 de marzo del 2020 al 22 de mayo de 2021, era de 180.764, mientras que el reporte oficial del Minsa no llegaba a las 70 mil. Desde entonces, el Minsa actualiza sus cifras en función a las recomendaciones del GTT.\\n'"
      ]
     },
     "execution_count": 3,
     "metadata": {},
     "output_type": "execute_result"
    }
   ],
   "source": [
    "new"
   ]
  },
  {
   "cell_type": "code",
   "execution_count": null,
   "id": "ae0e5aa6-1aff-4eab-9876-e0e97ca1ba02",
   "metadata": {},
   "outputs": [],
   "source": []
  },
  {
   "cell_type": "code",
   "execution_count": 4,
   "id": "dfbb1bcd-bbb7-40b5-b0d2-f805fdacec1c",
   "metadata": {},
   "outputs": [
    {
     "name": "stderr",
     "output_type": "stream",
     "text": [
      "C:\\ProgramData\\Anaconda3\\lib\\site-packages\\torchaudio\\extension\\extension.py:13: UserWarning: torchaudio C++ extension is not available.\n",
      "  warnings.warn('torchaudio C++ extension is not available.')\n",
      "C:\\ProgramData\\Anaconda3\\lib\\site-packages\\torchaudio\\backend\\utils.py:89: UserWarning: No audio backend is available.\n",
      "  warnings.warn('No audio backend is available.')\n"
     ]
    },
    {
     "data": {
      "application/vnd.jupyter.widget-view+json": {
       "model_id": "1d36de1b6a794480a571bc40e69c343c",
       "version_major": 2,
       "version_minor": 0
      },
      "text/plain": [
       "Downloading:   0%|          | 0.00/1.65k [00:00<?, ?B/s]"
      ]
     },
     "metadata": {},
     "output_type": "display_data"
    },
    {
     "data": {
      "application/vnd.jupyter.widget-view+json": {
       "model_id": "724c9adc1c2d49a595796f4a43225ceb",
       "version_major": 2,
       "version_minor": 0
      },
      "text/plain": [
       "Downloading:   0%|          | 0.00/1.22G [00:00<?, ?B/s]"
      ]
     },
     "metadata": {},
     "output_type": "display_data"
    },
    {
     "data": {
      "application/vnd.jupyter.widget-view+json": {
       "model_id": "47a5c5cc3a7c4384a0fa18b338dbe81f",
       "version_major": 2,
       "version_minor": 0
      },
      "text/plain": [
       "Downloading:   0%|          | 0.00/899k [00:00<?, ?B/s]"
      ]
     },
     "metadata": {},
     "output_type": "display_data"
    },
    {
     "data": {
      "application/vnd.jupyter.widget-view+json": {
       "model_id": "772d87fef8244f0091b7348a3f9b2359",
       "version_major": 2,
       "version_minor": 0
      },
      "text/plain": [
       "Downloading:   0%|          | 0.00/456k [00:00<?, ?B/s]"
      ]
     },
     "metadata": {},
     "output_type": "display_data"
    },
    {
     "data": {
      "application/vnd.jupyter.widget-view+json": {
       "model_id": "233ce2913d504c56a69ac91f2af9376e",
       "version_major": 2,
       "version_minor": 0
      },
      "text/plain": [
       "Downloading:   0%|          | 0.00/26.0 [00:00<?, ?B/s]"
      ]
     },
     "metadata": {},
     "output_type": "display_data"
    },
    {
     "data": {
      "text/plain": [
       "[{'summary_text': ' Machine learning is the study of computer algorithms that improve automatically through experience and by the use of data . Machine learning, deep learning, and neural networks are all sub-fields of artificial intelligence . As big data continues to grow, the market demand for data scientists will increase .'}]"
      ]
     },
     "execution_count": 4,
     "metadata": {},
     "output_type": "execute_result"
    }
   ],
   "source": [
    "from transformers import pipeline\n",
    "txt = r'''\n",
    "Machine learning is the study of computer algorithms that improve automatically through experience and by the use of data. It is seen as a part of artificial intelligence. Machine learning is an important component of the growing field of data \n",
    "science . Machine learning, deep learning, and neural networks are all sub-fields of artificial intelligence . As big data continues to grow, the market demand for data scientists will increase, requiring them to assist in the identification of \n",
    "the most relevant business questions. Machine learning is a method of data analysis that automates analytical model building. It is a branch of artificial intelligence based on the idea that systems can learn from data, identify patterns and make \n",
    "decisions with minimal human intervention.\n",
    "'''\n",
    "nlp = pipeline(task='summarization')\n",
    "nlp(txt, max_length=130, min_length=30)"
   ]
  },
  {
   "cell_type": "code",
   "execution_count": 8,
   "id": "fc834af5-fdea-421b-9bbf-df5e00803f8b",
   "metadata": {},
   "outputs": [
    {
     "data": {
      "text/plain": [
       "'El Ministerio de Salud (Minsa) informó este sábado 12 de junio que se elevó a 188.443 la cifra de decesos por coronavirus (COVID-19) en el país. Se trata de 191 nuevos fallecidos frente al reporte de la víspera. Además, informó que se incrementó en 3.003 los contagios (1.772 en las últimas 24 horas), por lo que el número total de personas infectadas llega a 2.001.059. El Minsa reportó también que hay un total de 10.711 pacientes hospitalizados, de los cuales 2.548 están con ventilación mecánica. Para mitigar los efectos de la pandemia, Perú suscribió acuerdos de adquisición de vacunas contra el COVID-19 con Sinopharm (por 2 millones de dosis), Pfizer (32 millones), AstraZeneca (14.04 millones) y con el mecanismo Covax Facility (13.2 millones). La inmunización en el Perú comenzó en febrero, tras el arribo del primer lote de vacunas procedentes de China (Sinopharm). El Gobierno ha anunciado que espera inmunizar a todos los adultos mayores de 60 años antes de que termine la actual gestión. El lunes 31 de mayo, el Gobierno informó que adoptarán los criterios y recomendaciones hechas por el Grupo de Trabajo Técnico (GTT) conformado para establecer la forma en la que se debe llevar el registro de las defunciones por esta enfermedad. Esta comisión determinó que, el número de personas fallecidas por COVID-19 en el Perú del 1 de marzo del 2020 al 22 de mayo de 2021, era de 180.764, mientras que el reporte oficial del Minsa no llegaba a las 70 mil. Desde entonces, el Minsa actualiza sus cifras en función a las recomendaciones del GTT.\\n'"
      ]
     },
     "execution_count": 8,
     "metadata": {},
     "output_type": "execute_result"
    }
   ],
   "source": [
    "new"
   ]
  },
  {
   "cell_type": "code",
   "execution_count": 6,
   "id": "37baa68e-e139-43da-9c6f-d942d8dbcae8",
   "metadata": {},
   "outputs": [
    {
     "data": {
      "text/plain": [
       "[{'summary_text': ' El Ministerio de Salud (Minsa) informó a 188.443 la cifra de decesos por coronavirus (COVID-19) Se trata de 191 nuevos fallecidos frente al reporte de la víspera . El Minsa reportó también that hay un total of 10.711 pacientes hospitalizados, of los cuales 2.548 están with ventilación mecánica .'}]"
      ]
     },
     "execution_count": 6,
     "metadata": {},
     "output_type": "execute_result"
    }
   ],
   "source": [
    "nlp = pipeline(task='summarization')\n",
    "nlp(new, max_length=500, min_length=30)"
   ]
  },
  {
   "cell_type": "code",
   "execution_count": null,
   "id": "452a1dac-9251-43b7-a5fd-5fbda7d9f75d",
   "metadata": {},
   "outputs": [],
   "source": []
  },
  {
   "cell_type": "code",
   "execution_count": 10,
   "id": "9b7d44ae-f873-4fa9-a80e-941c31d6b68f",
   "metadata": {},
   "outputs": [
    {
     "data": {
      "text/plain": [
       "0.18918079776442961"
      ]
     },
     "execution_count": 10,
     "metadata": {},
     "output_type": "execute_result"
    }
   ],
   "source": [
    "from scipy.spatial.distance import jensenshannon\n",
    "\n",
    "a = [0.2, 0.4, 0.4]\n",
    "b = [0.3, 0.2, 0.5]\n",
    "\n",
    "jensenshannon(a,b, base=2.0)"
   ]
  },
  {
   "cell_type": "code",
   "execution_count": 12,
   "id": "c35426f2-5c5d-4043-96d1-c4f0ecad6c5b",
   "metadata": {},
   "outputs": [
    {
     "data": {
      "text/plain": [
       "0.03578937424278602"
      ]
     },
     "execution_count": 12,
     "metadata": {},
     "output_type": "execute_result"
    }
   ],
   "source": [
    "jensenshannon(a,b, base=2.0) ** 2"
   ]
  },
  {
   "cell_type": "code",
   "execution_count": null,
   "id": "ebb93228-5b88-4601-bf08-aa32a0ca6f35",
   "metadata": {},
   "outputs": [],
   "source": []
  },
  {
   "cell_type": "code",
   "execution_count": 15,
   "id": "fa29c387-d050-4955-8f08-7a1769e17602",
   "metadata": {},
   "outputs": [
    {
     "data": {
      "text/plain": [
       "0.1885034041198646"
      ]
     },
     "execution_count": 15,
     "metadata": {},
     "output_type": "execute_result"
    }
   ],
   "source": [
    "a = [0.9, 0.6, 0.1]\n",
    "b = [0.3, 0.2, 0.5]\n",
    "\n",
    "jensenshannon(a,b, base=2.0) ** 2"
   ]
  },
  {
   "cell_type": "code",
   "execution_count": null,
   "id": "3c8ffb48-d04e-47a9-8e0e-b0abe7e53117",
   "metadata": {},
   "outputs": [],
   "source": []
  },
  {
   "cell_type": "code",
   "execution_count": 18,
   "id": "03a5a35e-b3a0-4ed5-bd3e-ea6c743f078a",
   "metadata": {},
   "outputs": [
    {
     "data": {
      "text/plain": [
       "0.0"
      ]
     },
     "execution_count": 18,
     "metadata": {},
     "output_type": "execute_result"
    }
   ],
   "source": [
    "a = [0.2, 0.6, 0.1]\n",
    "b = [0.2, 0.6, 0.1]\n",
    "\n",
    "jensenshannon(a,b, base=2.0) ** 2"
   ]
  },
  {
   "cell_type": "code",
   "execution_count": null,
   "id": "0ec9370d-b826-40ba-9de9-4ce99d67130a",
   "metadata": {},
   "outputs": [],
   "source": []
  }
 ],
 "metadata": {
  "kernelspec": {
   "display_name": "Python 3",
   "language": "python",
   "name": "python3"
  },
  "language_info": {
   "codemirror_mode": {
    "name": "ipython",
    "version": 3
   },
   "file_extension": ".py",
   "mimetype": "text/x-python",
   "name": "python",
   "nbconvert_exporter": "python",
   "pygments_lexer": "ipython3",
   "version": "3.8.5"
  }
 },
 "nbformat": 4,
 "nbformat_minor": 5
}
