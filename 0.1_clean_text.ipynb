{
 "cells": [
  {
   "cell_type": "code",
   "execution_count": 1,
   "id": "bb3b0bd7-0992-4785-b894-e07f084a4cc7",
   "metadata": {},
   "outputs": [],
   "source": [
    "import os\n",
    "import re\n",
    "import time\n",
    "from pathlib import Path\n",
    "import shutil\n",
    "import glob\n",
    "import string\n",
    "import unicodedata\n",
    "from datetime import datetime, timedelta\n",
    "\n",
    "import pandas as pd\n",
    "from selenium import webdriver\n",
    "from selenium.webdriver.chrome.options import Options\n",
    "from selenium.webdriver.support.select import Select\n",
    "from sqlalchemy import create_engine\n",
    "from selenium.webdriver.support.ui import WebDriverWait\n",
    "from selenium.webdriver.support import expected_conditions as EC\n",
    "from selenium.webdriver.common.by import By\n",
    "\n",
    "from unicodedata import normalize, category"
   ]
  },
  {
   "cell_type": "code",
   "execution_count": 100,
   "id": "ed3626eb-7a47-4274-9947-2d558c268a91",
   "metadata": {},
   "outputs": [],
   "source": [
    "def clean_text_1(_text):\n",
    "    \"\"\"\n",
    "        Ll : minusculas\n",
    "        Zs : espacios\n",
    "        Lu : mayusculas\n",
    "        Nd : numeros\n",
    "        Mn : tildes\n",
    "        Ps : abre dieresis, .....\n",
    "        Pe : cierra dieresis, .......\n",
    "        Pi : abre parentesis, .....\n",
    "        Po : cierra parentesis, punto, coma, .....        \n",
    "        ...\n",
    "    \"\"\"\n",
    "    \n",
    "    cleaned = ''.join(\n",
    "        (_ for _ in normalize('NFD', _text.replace('.', 'ZZZ')) if category(_) in ['Ll', 'Zs', 'Lu', 'Nd'])\n",
    "    )\n",
    "    return re.sub(\n",
    "        '\\s{2,}', ' ', cleaned.replace('\\n', ' ').replace('.', ' ').replace(',', ' ').replace(';', ' ').replace(':', ' ')\n",
    "    )\n",
    "\n",
    "def uniform_title(_text):\n",
    "    _split = _text.split()\n",
    "    return ' '.join([_.title() if _ == _.upper() else _ for _ in _split])\n",
    "\n",
    "class CleanNews(object):\n",
    "    def __init__(self, hoy_format=None):\n",
    "        #-------------------------- Habilitacion de ruta --------------------------#\n",
    "        self.folder_news = 'news'\n",
    "        if not os.path.exists(self.folder_news):\n",
    "            os.makedirs(self.folder_news)\n",
    "            \n",
    "        self.hoy = datetime.today()\n",
    "        self.hoy_format = self.hoy.strftime('%d%m%Y') if hoy_format is None else hoy_format\n",
    "        \n",
    "        self.newsletter_path = os.path.join(self.folder_news, self.hoy_format, 'parseado')\n",
    "        if not os.path.exists(self.newsletter_path):\n",
    "            os.makedirs(self.newsletter_path)\n",
    "            \n",
    "        self.consol_path = os.path.join(self.folder_news, self.hoy_format, 'consolidado')\n",
    "        if not os.path.exists(self.consol_path):\n",
    "            os.makedirs(self.consol_path)\n",
    "            \n",
    "        self.flg_selected = True\n",
    "        self.news = None\n",
    "        self.consolidado = None\n",
    "        \n",
    "    def get_news(self):\n",
    "        dicc_data = {\n",
    "            'dia': [],\n",
    "            'tipo': [],\n",
    "            'titulo': [],\n",
    "            'contenido': [],\n",
    "            'tamanio': []\n",
    "        }\n",
    "        \n",
    "        for file in glob.iglob('news/{}/**/*.txt'.format(self.hoy_format), recursive=True):\n",
    "            listado = file.replace('/', '\\\\').split('\\\\')\n",
    "            print(listado)\n",
    "            with open(file, encoding='UTF-8') as f:\n",
    "                new = f.read()\n",
    "                dicc_data['dia'].append(listado[1])\n",
    "                dicc_data['tipo'].append(listado[2])\n",
    "                dicc_data['titulo'].append(listado[-1].split('.')[0])\n",
    "                dicc_data['contenido'].append(new)\n",
    "                dicc_data['tamanio'].append(len(new.split(' ')))\n",
    "                \n",
    "        self.news = pd.DataFrame(dicc_data)\n",
    "        return self.news\n",
    "    \n",
    "    def consolidacion(self):\n",
    "        self.news['parseado_1'] =  self.news['contenido'].apply(lambda _: clean_text_1(_).lower())\n",
    "        self.news.to_csv(\n",
    "            os.path.join(self.consol_path, 'consolidado.csv'), index=False\n",
    "        )\n",
    "        \n",
    "        return self.news\n",
    "    \n",
    "    def change_consolidacion(self):\n",
    "        data = []\n",
    "        consol = pd.read_csv(os.path.join(self.consol_path, 'consolidado.csv'))\n",
    "        for row in consol.iterrows():\n",
    "            #print(row[-1], type(row[-1]), len(row[-1]))\n",
    "            contenido = row[-1].iloc[-1].strip().split('zzz')\n",
    "            \n",
    "            for orden, oracion in enumerate(contenido, start=1):\n",
    "                data.append([\n",
    "                    row[-1].iloc[0], row[-1].iloc[1], row[-1].iloc[2], row[-1].iloc[3], row[-1].iloc[4], row[-1].iloc[5], orden, oracion\n",
    "                ])\n",
    "                \n",
    "            #print(contenido)\n",
    "        data = pd.DataFrame(data)\n",
    "        data.columns = list(self.news.columns) + ['suborden', 'oracion']\n",
    "        data['len_oracion'] = data['oracion'].apply(lambda _: len(_.split()))\n",
    "        data = data[data['len_oracion'] > 1]\n",
    "        data.to_csv(\n",
    "            os.path.join(self.consol_path, 'consolidado.csv'), index=False\n",
    "        )\n",
    "        return data\n",
    "        "
   ]
  },
  {
   "cell_type": "code",
   "execution_count": 101,
   "id": "83541041-4ab3-457f-86e8-469e96233c13",
   "metadata": {},
   "outputs": [],
   "source": [
    "#from unicodedata import normalize, category\n",
    "#text_nasty = \"de 8:30 a.m. a 8:00 p.m.\"\n",
    "\n",
    "#for _ in normalize('NFD', text_nasty):\n",
    "#    print(_, category(_))\n",
    "    "
   ]
  },
  {
   "cell_type": "code",
   "execution_count": null,
   "id": "d9d067cd-651f-41e9-bd85-9c93b4e644c2",
   "metadata": {},
   "outputs": [],
   "source": []
  },
  {
   "cell_type": "code",
   "execution_count": 102,
   "id": "709b54a7-0607-4e97-92fd-836ddba73287",
   "metadata": {},
   "outputs": [
    {
     "name": "stdout",
     "output_type": "stream",
     "text": [
      "['news', '01082021', 'descartado', 'coronavirus-bolivia-en-vivo-hoy-sabado-31-de-julio-de-2021-bolivia-registra-693-nuevos-casos-de-covid-19-y-1.txt']\n",
      "['news', '01082021', 'descartado', 'coronavirus-estados-unidos-vacunados-contra-el-covid-19-pueden-tener-carga-viral-alta-tras-infectarse-con-la.txt']\n",
      "['news', '01082021', 'descartado', 'coronavirus-japon-tokio-registra-por-primera-vez-mas-de-4000-casos-diarios-de-covid-19-en-medio-de-los-juego.txt']\n",
      "['news', '01082021', 'descartado', 'coronavirus-sputnik-v-las-demoras-quejas-y-cancelaciones-de-la-vacuna-rusa-en-america-latina-nndc-noticia.txt']\n",
      "['news', '01082021', 'descartado', 'coronavirus-usa-joe-biden-el-presidente-de-estados-unidos-anticipa-con-toda-probabilidad-nuevas-restriccione.txt']\n",
      "['news', '01082021', 'descartado', 'covid-19-coronavirus-no-podran-trabajar-hacer-tramites-ni-usar-transporte-publico-las-sanciones-de-arabia-sa.txt']\n",
      "['news', '01082021', 'descartado', 'covid-19-estudios-cientificos-erroneos-alimentan-la-desinformacion-sobre-el-coronavirus-noticia.txt']\n",
      "['news', '01082021', 'original', 'bono-600-link-revisa-aqui-si-eres-beneficiario-y-cuando-lo-cobraras-consulta-beneficiarios-bono-600-midis-co.txt']\n",
      "['news', '01082021', 'original', 'covid-19-conoce-los-paraderos-donde-se-entregaran-protectores-faciales-de-forma-gratuita-este-fin-de-semana-.txt']\n",
      "['news', '01082021', 'original', 'covid-19-cuales-son-las-restricciones-para-el-sabado-31-julio-y-1-de-agosto-en-lima-callao-toque-de-queda-nn.txt']\n",
      "['news', '01082021', 'original', 'covid-19-este-sabado-31-de-julio-se-inicia-vacunacion-a-jovenes-de-24-anos-a-mas-en-tacna-nndc-noticia.txt']\n",
      "['news', '01082021', 'original', 'fiorella-molinelli-rechaza-imputaciones-por-presuntas-compras-irregulares-en-essalud-siempre-he-actuado-de-m.txt']\n",
      "['news', '01082021', 'original', 'ministerio-de-salud-reporta-28-fallecidos-y-194-nuevos-contagios-de-covid-19-en-las-ultimas-24-horas-segunda.txt']\n",
      "['news', '01082021', 'original', 'minsa-reporta-27-fallecidos-y-2099-nuevos-contagios-de-covid-19-en-las-ultimas-24-horas-segunda-ola-nndc-not.txt']\n",
      "['news', '01082021', 'original', 'netflix-cual-sera-el-requisito-que-pida-para-todos-sus-rodajes-en-estados-unidos-google-facebook-coronavirus.txt']\n",
      "['news', '01082021', 'original', 'tokio-2020-por-que-protestan-los-japoneses-contra-los-juegos-olimpicos-japon-revtli-noticia.txt']\n",
      "['news', '01082021', 'original', 'vacuna-covid-19-aislamiento-por-renato-cisneros-cuarentena-coronavirus-noticia.txt']\n",
      "['news', '01082021', 'original', 'vacuna-covid-19-minsa-informa-que-este-fin-de-semana-continua-vacunacion-a-personas-de-47-anos-a-mas-que-deb.txt']\n",
      "['news', '01082021', 'original', 'vacunacion-covid-19-en-peru-mas-de-siete-millones-944-mil-peruanos-ya-fueron-inmunizados-contra-coronavirus-.txt']\n",
      "['news', '01082021', 'original', 'vacunacion-covid-19-mas-de-siete-millones-984-mil-peruanos-ya-fueron-inmunizados-contra-el-coronavirus-minsa.txt']\n",
      "['news', '01082021', 'original', 'vacunacion-covid-19-minsa-informo-que-ya-se-inmunizo-a-mas-de-5-millones-de-peruanos-con-la-segunda-dosis-nn.txt']\n",
      "['news', '01082021', 'original', 'variante-delta-del-covid-19-cevallos-confirma-que-ya-son-40-casos-los-detectados-en-todo-el-pais-nndc-notici.txt']\n",
      "['news', '01082021', 'parseado', 'metodo_1.txt']\n"
     ]
    },
    {
     "data": {
      "text/html": [
       "<div>\n",
       "<style scoped>\n",
       "    .dataframe tbody tr th:only-of-type {\n",
       "        vertical-align: middle;\n",
       "    }\n",
       "\n",
       "    .dataframe tbody tr th {\n",
       "        vertical-align: top;\n",
       "    }\n",
       "\n",
       "    .dataframe thead th {\n",
       "        text-align: right;\n",
       "    }\n",
       "</style>\n",
       "<table border=\"1\" class=\"dataframe\">\n",
       "  <thead>\n",
       "    <tr style=\"text-align: right;\">\n",
       "      <th></th>\n",
       "      <th>dia</th>\n",
       "      <th>tipo</th>\n",
       "      <th>titulo</th>\n",
       "      <th>contenido</th>\n",
       "      <th>tamanio</th>\n",
       "      <th>parseado_1</th>\n",
       "    </tr>\n",
       "  </thead>\n",
       "  <tbody>\n",
       "    <tr>\n",
       "      <th>0</th>\n",
       "      <td>01082021</td>\n",
       "      <td>descartado</td>\n",
       "      <td>coronavirus-bolivia-en-vivo-hoy-sabado-31-de-j...</td>\n",
       "      <td>Bolivia registró este sábado 15 fallecidos a c...</td>\n",
       "      <td>406</td>\n",
       "      <td>bolivia registro este sabado 15 fallecidos a c...</td>\n",
       "    </tr>\n",
       "    <tr>\n",
       "      <th>1</th>\n",
       "      <td>01082021</td>\n",
       "      <td>descartado</td>\n",
       "      <td>coronavirus-estados-unidos-vacunados-contra-el...</td>\n",
       "      <td>En otro desalentador revés a las acciones de E...</td>\n",
       "      <td>460</td>\n",
       "      <td>en otro desalentador reves a las acciones de e...</td>\n",
       "    </tr>\n",
       "    <tr>\n",
       "      <th>2</th>\n",
       "      <td>01082021</td>\n",
       "      <td>descartado</td>\n",
       "      <td>coronavirus-japon-tokio-registra-por-primera-v...</td>\n",
       "      <td>Las autoridades de la capital de Japón, Tokio,...</td>\n",
       "      <td>232</td>\n",
       "      <td>las autoridades de la capital de japon tokio h...</td>\n",
       "    </tr>\n",
       "    <tr>\n",
       "      <th>3</th>\n",
       "      <td>01082021</td>\n",
       "      <td>descartado</td>\n",
       "      <td>coronavirus-sputnik-v-las-demoras-quejas-y-can...</td>\n",
       "      <td>El gobierno peruano adquirió recientemente 20 ...</td>\n",
       "      <td>904</td>\n",
       "      <td>el gobierno peruano adquirio recientemente 20 ...</td>\n",
       "    </tr>\n",
       "    <tr>\n",
       "      <th>4</th>\n",
       "      <td>01082021</td>\n",
       "      <td>descartado</td>\n",
       "      <td>coronavirus-usa-joe-biden-el-presidente-de-est...</td>\n",
       "      <td>El presidente de Estados Unidos, Joe Biden, ha...</td>\n",
       "      <td>264</td>\n",
       "      <td>el presidente de estados unidos joe biden ha a...</td>\n",
       "    </tr>\n",
       "  </tbody>\n",
       "</table>\n",
       "</div>"
      ],
      "text/plain": [
       "        dia        tipo                                             titulo  \\\n",
       "0  01082021  descartado  coronavirus-bolivia-en-vivo-hoy-sabado-31-de-j...   \n",
       "1  01082021  descartado  coronavirus-estados-unidos-vacunados-contra-el...   \n",
       "2  01082021  descartado  coronavirus-japon-tokio-registra-por-primera-v...   \n",
       "3  01082021  descartado  coronavirus-sputnik-v-las-demoras-quejas-y-can...   \n",
       "4  01082021  descartado  coronavirus-usa-joe-biden-el-presidente-de-est...   \n",
       "\n",
       "                                           contenido  tamanio  \\\n",
       "0  Bolivia registró este sábado 15 fallecidos a c...      406   \n",
       "1  En otro desalentador revés a las acciones de E...      460   \n",
       "2  Las autoridades de la capital de Japón, Tokio,...      232   \n",
       "3  El gobierno peruano adquirió recientemente 20 ...      904   \n",
       "4  El presidente de Estados Unidos, Joe Biden, ha...      264   \n",
       "\n",
       "                                          parseado_1  \n",
       "0  bolivia registro este sabado 15 fallecidos a c...  \n",
       "1  en otro desalentador reves a las acciones de e...  \n",
       "2  las autoridades de la capital de japon tokio h...  \n",
       "3  el gobierno peruano adquirio recientemente 20 ...  \n",
       "4  el presidente de estados unidos joe biden ha a...  "
      ]
     },
     "execution_count": 102,
     "metadata": {},
     "output_type": "execute_result"
    }
   ],
   "source": [
    "cleaner = CleanNews()\n",
    "cleaner.get_news()\n",
    "news = cleaner.consolidacion()\n",
    "news.head()"
   ]
  },
  {
   "cell_type": "code",
   "execution_count": 103,
   "id": "87fa8b0f-aced-4449-9467-08663764cc47",
   "metadata": {},
   "outputs": [
    {
     "data": {
      "text/plain": [
       "((23, 6),\n",
       " Index(['dia', 'tipo', 'titulo', 'contenido', 'tamanio', 'parseado_1'], dtype='object'))"
      ]
     },
     "execution_count": 103,
     "metadata": {},
     "output_type": "execute_result"
    }
   ],
   "source": [
    "news.shape, news.columns"
   ]
  },
  {
   "cell_type": "code",
   "execution_count": 104,
   "id": "f81cfbf0-7609-4422-b9f7-c31906393313",
   "metadata": {},
   "outputs": [
    {
     "data": {
      "text/html": [
       "<div>\n",
       "<style scoped>\n",
       "    .dataframe tbody tr th:only-of-type {\n",
       "        vertical-align: middle;\n",
       "    }\n",
       "\n",
       "    .dataframe tbody tr th {\n",
       "        vertical-align: top;\n",
       "    }\n",
       "\n",
       "    .dataframe thead th {\n",
       "        text-align: right;\n",
       "    }\n",
       "</style>\n",
       "<table border=\"1\" class=\"dataframe\">\n",
       "  <thead>\n",
       "    <tr style=\"text-align: right;\">\n",
       "      <th></th>\n",
       "      <th>dia</th>\n",
       "      <th>tipo</th>\n",
       "      <th>titulo</th>\n",
       "      <th>contenido</th>\n",
       "      <th>tamanio</th>\n",
       "      <th>parseado_1</th>\n",
       "      <th>suborden</th>\n",
       "      <th>oracion</th>\n",
       "      <th>len_oracion</th>\n",
       "    </tr>\n",
       "  </thead>\n",
       "  <tbody>\n",
       "    <tr>\n",
       "      <th>0</th>\n",
       "      <td>1082021</td>\n",
       "      <td>descartado</td>\n",
       "      <td>coronavirus-bolivia-en-vivo-hoy-sabado-31-de-j...</td>\n",
       "      <td>Bolivia registró este sábado 15 fallecidos a c...</td>\n",
       "      <td>406</td>\n",
       "      <td>bolivia registro este sabado 15 fallecidos a c...</td>\n",
       "      <td>1</td>\n",
       "      <td>bolivia registro este sabado 15 fallecidos a c...</td>\n",
       "      <td>14</td>\n",
       "    </tr>\n",
       "    <tr>\n",
       "      <th>1</th>\n",
       "      <td>1082021</td>\n",
       "      <td>descartado</td>\n",
       "      <td>coronavirus-bolivia-en-vivo-hoy-sabado-31-de-j...</td>\n",
       "      <td>Bolivia registró este sábado 15 fallecidos a c...</td>\n",
       "      <td>406</td>\n",
       "      <td>bolivia registro este sabado 15 fallecidos a c...</td>\n",
       "      <td>2</td>\n",
       "      <td>821 las muertes acumuladas desde marzo de 2020...</td>\n",
       "      <td>21</td>\n",
       "    </tr>\n",
       "    <tr>\n",
       "      <th>2</th>\n",
       "      <td>1082021</td>\n",
       "      <td>descartado</td>\n",
       "      <td>coronavirus-bolivia-en-vivo-hoy-sabado-31-de-j...</td>\n",
       "      <td>Bolivia registró este sábado 15 fallecidos a c...</td>\n",
       "      <td>406</td>\n",
       "      <td>bolivia registro este sabado 15 fallecidos a c...</td>\n",
       "      <td>3</td>\n",
       "      <td>506 el total de contagios hasta el momento</td>\n",
       "      <td>8</td>\n",
       "    </tr>\n",
       "    <tr>\n",
       "      <th>3</th>\n",
       "      <td>1082021</td>\n",
       "      <td>descartado</td>\n",
       "      <td>coronavirus-bolivia-en-vivo-hoy-sabado-31-de-j...</td>\n",
       "      <td>Bolivia registró este sábado 15 fallecidos a c...</td>\n",
       "      <td>406</td>\n",
       "      <td>bolivia registro este sabado 15 fallecidos a c...</td>\n",
       "      <td>4</td>\n",
       "      <td>las regiones con la mayor cantidad de nuevos c...</td>\n",
       "      <td>34</td>\n",
       "    </tr>\n",
       "    <tr>\n",
       "      <th>4</th>\n",
       "      <td>1082021</td>\n",
       "      <td>descartado</td>\n",
       "      <td>coronavirus-bolivia-en-vivo-hoy-sabado-31-de-j...</td>\n",
       "      <td>Bolivia registró este sábado 15 fallecidos a c...</td>\n",
       "      <td>406</td>\n",
       "      <td>bolivia registro este sabado 15 fallecidos a c...</td>\n",
       "      <td>5</td>\n",
       "      <td>el ministerio de salud de bolivia tambien info...</td>\n",
       "      <td>10</td>\n",
       "    </tr>\n",
       "  </tbody>\n",
       "</table>\n",
       "</div>"
      ],
      "text/plain": [
       "       dia        tipo                                             titulo  \\\n",
       "0  1082021  descartado  coronavirus-bolivia-en-vivo-hoy-sabado-31-de-j...   \n",
       "1  1082021  descartado  coronavirus-bolivia-en-vivo-hoy-sabado-31-de-j...   \n",
       "2  1082021  descartado  coronavirus-bolivia-en-vivo-hoy-sabado-31-de-j...   \n",
       "3  1082021  descartado  coronavirus-bolivia-en-vivo-hoy-sabado-31-de-j...   \n",
       "4  1082021  descartado  coronavirus-bolivia-en-vivo-hoy-sabado-31-de-j...   \n",
       "\n",
       "                                           contenido  tamanio  \\\n",
       "0  Bolivia registró este sábado 15 fallecidos a c...      406   \n",
       "1  Bolivia registró este sábado 15 fallecidos a c...      406   \n",
       "2  Bolivia registró este sábado 15 fallecidos a c...      406   \n",
       "3  Bolivia registró este sábado 15 fallecidos a c...      406   \n",
       "4  Bolivia registró este sábado 15 fallecidos a c...      406   \n",
       "\n",
       "                                          parseado_1  suborden  \\\n",
       "0  bolivia registro este sabado 15 fallecidos a c...         1   \n",
       "1  bolivia registro este sabado 15 fallecidos a c...         2   \n",
       "2  bolivia registro este sabado 15 fallecidos a c...         3   \n",
       "3  bolivia registro este sabado 15 fallecidos a c...         4   \n",
       "4  bolivia registro este sabado 15 fallecidos a c...         5   \n",
       "\n",
       "                                             oracion  len_oracion  \n",
       "0  bolivia registro este sabado 15 fallecidos a c...           14  \n",
       "1  821 las muertes acumuladas desde marzo de 2020...           21  \n",
       "2         506 el total de contagios hasta el momento            8  \n",
       "3  las regiones con la mayor cantidad de nuevos c...           34  \n",
       "4  el ministerio de salud de bolivia tambien info...           10  "
      ]
     },
     "execution_count": 104,
     "metadata": {},
     "output_type": "execute_result"
    }
   ],
   "source": [
    "consol = cleaner.change_consolidacion()\n",
    "consol.head()"
   ]
  },
  {
   "cell_type": "code",
   "execution_count": 105,
   "id": "d7d05b21-21ad-46fe-b4a4-824cb93d8dd6",
   "metadata": {},
   "outputs": [
    {
     "data": {
      "text/plain": [
       "<AxesSubplot:>"
      ]
     },
     "execution_count": 105,
     "metadata": {},
     "output_type": "execute_result"
    },
    {
     "data": {
      "image/png": "[encoded data removed]",
      "text/plain": [
       "<Figure size 432x288 with 1 Axes>"
      ]
     },
     "metadata": {
      "needs_background": "light"
     },
     "output_type": "display_data"
    }
   ],
   "source": [
    "consol['len_oracion'].hist()"
   ]
  },
  {
   "cell_type": "code",
   "execution_count": 106,
   "id": "8fb9d55d-9edf-4781-9d22-07e70e9f2d28",
   "metadata": {},
   "outputs": [
    {
     "data": {
      "text/plain": [
       "'la pandemia de coronavirus ha dejado a muchas personas sin empleo y afecto economicamente a miles de hogares. ante ello el anterior gobierno de francisco sagasti ofrecio el bono 600 soles para que con este beneficio puedan enfrentar los retos economicos que la actual coyuntura sanitaria ha traido. aqui te alcanzamos el link oficial de consulta y todos los pasos que debes seguir para acceder a este subsidio.como se sabe el pago del bono 600 empezo en febrero de este ano y se viene entregando en fechas establecidas para que los beneficiarios puedan cobrarlo sin riesgo de contagiarse de covid19. hace unas semanas la anterior gestion anuncio que el plazo para la entrega de este beneficio economico fue ampliado hasta el 31 de agosto de 2021.para cumplir con este fin desde el inicio de su entrega el gobierno puso en funcionamiento la plataforma httpsbono600.pe para que los ciudadanos puedan verificar si han sido seleccionados.para saber si tu hogar es beneficiario del subsidio economico del bono 600 debes realizar los siguientes pasosen caso de que tengas dificultades para entrar en la pagina o dudas puedes pedir orientacion e informacion telefonica o presencial. ten en cuenta que las oficinas de los bancos no dan orientacion ni informacion sobre los bonos. estos son los canales de orientacion disponibles para la consulta ciudadanala linea 101 funciona de lunes a domingo de 830 a. a 800 p. incluso los dias feriados para informarte si tu hogar es beneficiario y la modalidad de pago que te corresponde. ademas te ayudaran a completar los pasos para acceder a tu banca celular u otra modalidad de cobro.los tambos o plataformas fijas del ministerio de desarrollo e inclusion social midis estan a disposicion de la ciudadania en comunidades y centros poblados de las zonas rurales del pais. se cuenta con 176 tambos ubicados en las regiones priorizadas con nivel de alerta extremo donde podras recibir orientacion sobre el bono 600. recuerda que no podras cobrar el bono en los tambos.si tras revisar la web el bono 600 soles verificas que eres uno de los beneficiarios de este subsidio se te asignara una de cinco modalidades para recibir el dinero. a continuacion las puedes revisar.la autoridad de transporte urbano para lima y callao atu continuara entregando protectores faciales de manera gratuita este sabado 31 de julio y domingo 1 de agosto respectivamente en paraderos de diversos distritos de la capital y el primer puerto con el fin de evitar la propagacion del coronavirus covid19.se trata de la cuarta semana de entrega de estos escudos faciales en lo que va el mes de julio. se entregan desde las 7 a. hasta las 7 p. para que un usuario reciba un protector facial gratuitamente debe presentar su dni y brindar sus datos personales para ser ingresados en un aplicativo de registro. tambien puede ver los lugares aqui.para este sabado 31 de julio los distritos que figuran para la distribucion de los protectores son independencia san martin de porres comas carabayllo san miguel san juan de lurigancho cercado de lima san luis surquillo san juan de miraflores villa el salvador y chorrillos.mientras para el domingo 1 de agosto las jurisdicciones donde estan programadas la reparticion de estos escudos faciales figuran independencia san martin de porres comas san miguel san juan de lurigancho cercado de lima bellavista san luis san juan de miraflores villa maria del triunfo chorrillos y villa el salvador.para que un usuario reciba un protector facial debe presentar su dni y brindar sus datos personales para ser ingresados en un aplicativo de registro. finalmente se tomara una fotografia al usuario con el protector facial.hasta el momento la atu ha repartido casi dos millones de escudos faciales a usuarios del metropolitano de los corredores complementarios de la linea 1 del metro de lima y callao asi como del transporte publico convencional.las personas que viven en lima y callao tendran que cumplir con las restricciones este sabado 31 de julio y domingo 1 de agosto en el marco del estado de emergencia por el covid19 vigente desde marzo del ano pasado en todo el pais. estas medidas rigen hasta el 22 de agosto y vale recordar que lima metropolitana sigue en riesgo sanitario alto y callao entro a nivel moderado.en el decreto supremo 1442021pcm publicado en el diario el peruano figura cuales son los horarios de toque de queda inmovilizacion social obligatoria que se prolongaran por cuatro semanas segun el nivel de alerta de cada jurisdiccionhasta el domingo 22 de agosto y pese a que figuren en diferentes niveles de alerta el toque de queda inmovilizacion social obligatoria en lima y callao es el mismo por lo que se inicia a la medianoche de la noche hasta las 4 de la manana del dia siguiente.no obstante este fin de semana se brindara facilidades para movilizacion durante la madrugada para el grupo que personas que tienen programadas la aplicacion de dosis de vacunas contra el covid19. a la fecha la inmunizacion para los mayores de 40 anos continua siempre que este de acuerdo con las fechas de programacion indicadas en la web pongo el hombro.ademas podran ser vacunados los rezagados de la primera dosis personas pendientes de la segunda dosis asi como personas de otros grupos que no se hayan vacunado mayores de 50 anos adultos mayores embarazadas personas con comorbilidades y con enfermedades raras y huerfanas.las personas que deseen ir a vacunarse solo deberan presentar su dni si se movilizan en toque de queda a los centros de inmunizacion. en diferentes locales de vacunacion se han implementado areas de esparcimiento para realizar actividades recreativas como el baile.en lima y callao pese a que figuren en los niveles alto y moderado respectivamente no tienen la restriccion de uso de autos particulares los domingos mientras que el transporte interprovincial en ambos lugares funcionara sin restricciones. esto quiere decir que los domingos 1 8. 15 y 22 de agosto los autos no estaran impedidos de salir en la capital y el primer puerto.tanto en los niveles alto y moderado las tiendas de abastecimiento de productos de primera necesidad supermercados mercados mercados itinerantes bodegas y farmacias con aforo segun el nivel de alerta y atencion desde las 0400 a. las 600 p. vale precisar que estos negocios en lima y callao deben cumplir con el aforo al 60.en tanto que el servicio de farmacias y boticas para entrega a domicilio delivery se realizara durante las 24 horas y los restaurantes podran efectuar el servicio de entrega a domicilio hasta las 1100 p.la vacunacion contra el covid19 continua todos lo dias. de esta manera las personas que tengan programada su inmunizacion para esa fecha si podran desplazarse sin inconvenientes con un acompanante hacia su centro de inmunizacion asignado. recordar que ambas personas deben portar su documento nacional de identidad dni.a la fecha en lima y callao el gobierno vacuna a personas mayores de 40 anos que este de acuerdo con las fechas de programacion indicadas en la web pongo el hombro mujeres embarazadas con 28 semanas de gestacion adolescentes con sindrome de down y con cancer entre otros.asimismo tambien se vacunaron a pacientes adultos con cancer y de vih en la capital y el primer puerto.el transporte interprovincial terrestre continua funcionando de forma libre en lima y callao con un aforo del 50 al 100 segun lo indicado por el ministerio de transportes.ahora son 12 regiones las que a partir del 26 de julio al 22 de agosto figuraran con la clasificacion de alto. las provincias de lima barranca cajatambo canta canete huaral huarochiri huaura oyon y yauyos figuran ahora en este nivel de alerta sanitaria. el toque de queda en ambos lugares comienza a la medianoche.en tanto la circulacion de vehiculos particulares esta permitida los domingos.las otras regiones en este nivel de alerta son amazonas ancash apurimac ayacucho cusco ica junin loreto puno san martin y tacna.en cuanto a aforosactividades en espacios cerradosactividades en espacios abiertosel gobierno dispuso que entre el 26 de julio hasta el 22 de agosto unas 12 regiones entre las que figuran lima metropolitana y el callao ahora califiquen en el nivel de riesgo moderado.tambien estan los departamentos de cajamarca huancavelica huanuco la libertad lambayeque madre de dios pasco piura tumbes y ucayali.en cuanto a aforosactividades en espacios cerradosactividades en espacios abiertos.la direccion regional de salud de tacna informo que desde este sabado 31 de julio iniciara el proceso de vacunacion contra el covid19 para los ciudadanos mayores de 24 anos que residen en esa region. de esta manera tacna se convierte en el primer departamento del pais en inocular con la primera dosis a los ciudadanos que se encuentran en este rango de edad.la entidad preciso que para acceder a la inoculacion las personas de este grupo etario deben acreditar que residen en la ciudad heroica con la presentacion de un documento a su nombre como un recibo de luz o agua constancia de trabajo contrato de alquiler u otro documento. tambien deben llevar su dni y carne de vacunacion.los ciudadanos pueden acudir a los siguientes puntos de vacunacion habilitadosen paralelo tambien se inmunizara a gestantes y pacientes oncologicos con la primera y segunda dosis de la vacuna contra el covid19 en los siguientes establecimientos.la presidenta ejecutiva de essalud fiorella molinelli rechazo tajantemente las imputaciones que pesan sobre ella por presuntas compras irregulares de tomografos y lentes contra salpicaduras en el ano 2020 en medio de la pandemia del covid19.categoricamente senalo que siempre he actuado de manera responsable comprometida. rechazo tajantemente las afirmaciones que se han hecho al respecto. cada vez que han solicitado informacion la hemos entregado. estamos dispuestos a colaborar aseguro en entrevista a rpp noticias.asimismo molinelli expreso su indignacion por los calificativos que se han utilizado en el marco de la investigacion preliminar. rechazo tajantemente calificativos que violan la presuncion de inocencia. para la justicia parece que este principio no existiese sobre todo si se considera que son diligencias preliminares. quien nos devuelve luego nuestra dignidad sostuvo.en otro momento la presidenta ejecutiva de essalud se refirio a las compras directas que su cartera realizo en medio de la pandemia.toda compra directa de emergencia debe ser firmada por el titular del pliego. incluso si contraloria fiscalia el poder judicial comprara mascarillas gel cualquier equipo o dispositivo dentro del contexto de la emergencia es el titular del pliego quien esta obligado a formalizar y regularizar una compra preciso.el titular del pliego no asume la responsabilidad sobre la compra. en una epidemia universal en todos los paises del mundo asume riesgos. uno tiene que poner su firma y dar la cara porque hay que tomar decisiones sin tener miedo porque la gente se esta muriendo. a nadie le gusta firmar algo y hacerse responsable. lo hacemos por el compromiso con el pais y para salvar a las personas que viven y sufren en medio de esta emergencia anadio.por ultimo molinelli manifesto que le hubiera encantado que la llamen para pedir informacion respecto al caso antes de humillarla.imaginate una carrera intachable reconocida por diferentes personas por diferentes tiendas politicas periodistas personas en general que siempre se refieren a mi y creo haber hecho un trabajo impecable durante la pandemia sacrificando mi vida la vida de mi familia. he demostrado valentia trabajo esforzado dedicado permanentemente y sin descanso al servicio del pais asevero.lo que me resulta sospechoso es que justo en el cambio de gobierno espero que no se trate de una caceria de brujas se realice este allanamiento. cual es el mensaje que estamos dando. podrian haber hecho el allanamiento antes o despues y me hubiera gustado aun mas que me llamen previamente sobre la informacion y no me humillen de esa manera. siempre he dado la cara puntualizo.fiorella molinelli junto a otras 13 personas son investigadas por presuntamente integrar la organizacion criminal denominada el club de las farmaceuticas. entre las personas involucradas figuran funcionarios de la entidad y representantes de empresas privadas.segun la investigacion de la segunda fiscalia provincial corporativa especializada en delitos de corrupcion de funcionarios esta organizacion criminal estaria liderada por fiorella molinelli aristondo.el ministerio de salud minsa informo el 30 de julio que se elevo a 196.291 la cifra de fallecidos por coronavirus covid19 en el pais. se trata de 28 nuevos decesos frente al reporte de la vispera. ademas informo que se incremento en 699 los contagios 194 en las ultimas 24 horas por lo que el numero total de personas infectadas llega a 2.el minsa reporto tambien que hay un total de 5.562 pacientes hospitalizados de los cuales 1.814 estan con ventilacion mecanica.para mitigar los efectos de la pandemia peru suscribio acuerdos de adquisicion de vacunas contra el covid19 con sinopharm por 3 millones de dosis pfizer 32 millones astrazeneca 14.04 millones con el mecanismo covax facility 13.2 millones y con human vaccine llc una subsidiaria del fondo ruso de inversiones directas 10 millones.la inmunizacion en el peru comenzo en febrero tras el arribo del primer lote de vacunas procedentes de china sinopharm. a la fecha se continua la vacunacion en todo el pais y a la fecha se realiza a personas de 40 anos a mas.el ministerio de salud minsa informo el 31 de julio que se elevo a 196.353 la cifra de fallecidos por coronavirus covid19 en el pais. se trata de 27 nuevos decesos frente al reporte de la vispera. ademas informo que se incremento en 2.099 los contagios 860 en las ultimas 24 horas por lo que el numero total de personas infectadas llega a 2.el minsa reporto tambien que hay un total de 5.378 pacientes hospitalizados de los cuales 1.797 estan con ventilacion mecanica.para mitigar los efectos de la pandemia peru suscribio acuerdos de adquisicion de vacunas contra el covid19 con sinopharm por 3 millones de dosis pfizer 32 millones astrazeneca 14.04 millones con el mecanismo covax facility 13.2 millones y con human vaccine llc una subsidiaria del fondo ruso de inversiones directas 10 millones.la inmunizacion en el peru comenzo en febrero tras el arribo del primer lote de vacunas procedentes de china sinopharm. a la fecha se continua la vacunacion en todo el pais y a la fecha se realiza a personas de 40 anos a mas.la vuelta al trabajo presencial en uno de los sectores como el cine y television en los que prima este tipo de labores va tomando rumbo al igual que empresas en silicon valley california. en esta ocasion netflix se convierte en el primero en optar por una decision que contribuya a frenar de una vez por todas la pandemia del covid19.asi como lo anunciaron twitter google y facebook ahora sera la plataforma de streaming la que exija un certificado de vacunacion en todos sus rodajes que se den en estados unidos. la medida convierte a la gran n roja en el primer estudio de hollywood en aplicarla aunque por ahora solo sea en la zona a segun the hollywood reporter.la decision ha sido bien tomada por sindicatos de actores guionistas y profesionales del medio quienes aceptarian lo indicado en pro de facilitar el trabajo que permite relajar algunos protocolos sanitarios pese a la situacion que aun preocupa tras el avance de la variante delta.sin embargo existen excepciones para que un no vacunado pueda estar presente en la jurisdiccion de la empresa por motivos religiosos asuntos medicos o cuestiones de edad.cabe destacar que si bien los centros de control y prevencion de enfermedades cdc por sus siglas en ingles recomendaron en mayo que la poblacion inmunizada en su totalidad podia permanecer sin mascarilla incluso en espacios cerrados y junto a un gran numero de personas esto cambiaria en los proximos dias.anthony fauci virologo director del instituto nacional de alergia y enfermedades naid en ingles ya habria planteado volver a la sugerencia de portar mascarilla pues el embate de la variante delta estaria provocando una nueva ola que ataca a los no inoculados contra la enfermedad.al menos una media del 564 en tokio y sus alrededores vieron la inauguracion de los juegos olimpicos tokio 2020 segun un informe publicado este lunes por una firma especializada en indices de audiencia. pero otra parte de la poblacion estuvo ocupada en manifestaciones contra el evento mas esperado del deporte.cientos de japoneses llegados de todo el pais y organizados en grupos tambien tomaron las inmediaciones del ayuntamiento protestando por la llegada de la antorcha y la celebracion de los juegos olimpicos.cancelen las olimpiadas gritaban los manifestantes subidos en tarimas o furgonetas y rodeados de policias impasibles. marcharon por horas antes de la apertura para finalmente apostarse en las cercanias del estadio olimpico. las arengas fueron audibles durante los primeros instantes del evento inaugural debido a la falta de publico en el interior del estadio como parte de los protocolos contra el coronavirus.el acceso al ayuntamiento vallado impedia ver la llegada de la antorcha un simbolo que ha recorrido el archipielago durante cuatro meses casi a escondidas.otro simbolo el de los anillos olimpicos tambien esta tachado en las pancartas de los manifestantes que afirman convencidos no miraremos al cielo en lo que se refiere a ver el inminente paso del escuadron aereo.ya estabamos en contra del evento cuando se anuncio en 2013 pero ahora con la pandemia se confirmaron nuestras denuncias senala una joven de 24 anos que prefiere mantenerse en el anonimato por posibles represalias policiales.ademas de la mascarilla viste casco protector y unas gafas de sol opacas ya que ella no quiere que su rostro pueda ser rastreado por la policia nipona.pertenece a la federacion japonesa de asociaciones estudiantiles una organizacion de izquierdas fundada en 1948.con el coronavirus han salido a la luz problemas de japon como la pobreza el estancamiento economico o la situacion de las mujeres. las grandes empresas solo buscan el beneficio este evento es un ejemplo afirma la estudiante.para este dia han llegado jovenes de todo el pais kioto okinawa y hiroshima entre otras ciudades.como soma de 24 anos que la semana pasada participo en las manifestaciones en contra de la llegada del presidente del comite internacional thomas bach a hiroshima.no lo queriamos en hiroshima por que tiene que usar el simbolo de paz de nuestra ciudad para las olimpiadas en este momento comenta el joven que llego ayer a la capital para marchar junto a otros cientos hacia el estadio nacional donde se celebra la inauguracion.un hombre fue arrestado por la policia de tokio en las inmediaciones del estadio olimpico cuando se manisfestaba en contra de los jj. coincidiendo con la celebracion de la ceremonia de apertura de este viernes.susumu yamamoto de 40 anos y residente en la prefectura de fukuoka sudoeste de japon se encontraba con decenas de manifestantes en el distrito de shibuya cercano al estadio olimpico cuando fue detenido por presuntamente obstaculizar la labor del cuerpo policial segun recogio el diario local nikkei.el manifestante habria agarrado de la muneca a uno de los agentes que fueron desplegados durante toda la jornada en la capital anfitriona segun el relato del citado medio.el manifestante que guardo silencio durante el interrogatorio forma parte de uno de los grupos opositores a la celebracion del evento que desde la manana se apostaron alrededor del edificio metropolitano de tokio para mostrar su oposicion con pancartas y consignas contra la competicion internacional.con informacion de efe.se suponia que llegadas las ultimas semanas de julio escapariamos del calor calcinante de madrid internandonos en una isla del mediterraneo. asi lo hicimos el ano pasado pretendiamos repetir la expedicion y cumplir el libreto visitar playas comer pescado ver a la nina correr y construir esculturas de arena nadar en la mansedumbre de las aguas transparentes tumbarnos en la toalla y beber mojitos hasta que se oculte el sol fenomeno que en verano suele retrasarse hasta pasadas las diez de la noche.faltaban solo dos dias para las vacaciones sin embargo los planes se frustraron a raiz de un incidente negativo. o mas bien positivo. un amigo mexicano informo en el chat grupal del futbol que acababan de diagnosticarle covid. lo lamento chicos anadio. no era para menos dos dias atras despues del ultimo partido nos habiamos reunido a beber cervezas de modo que ahora los demas eramos sospechosos comunes. no bien llegue a casa me aplique una prueba de antigenos. salio positiva. no podia creerlo. maldije a mi amigo a mexico al futbol y al destino. quise negar lo evidente pensando que a lo mejor habia manipulado incorrectamente el hisopo a la hora de introducirlo en mi nariz asi que acudi a un laboratorio cercano para una segunda muestra. a la media hora un documento confirmo la presencia del virus en mi organismo.apenas le conte lo sucedido mi esposa que llevaba meses disenando el viaje comenzo a echar humo por la cabeza y a dirigirme unas frases que aunque no alcance a oir con exactitud resultaban claramente ignominiosas. superada la colera saco a relucir su espiritu resolutivo de medico y en dos patadas definio como nos distribuiriamos familiarmente para cumplir el rigor de la cuarentena. tu al cuarto ahora ordeno.mi hija de tres anos con el flotador en la cintura y el balde en una mano lista para subirse al avion aunque todavia faltaban cuarentaiocho horas no encajo bien las tristes novedades pero la pena le duro diez segundos bueno veinte pasados los cuales en conmovedor gesto de desprendimiento me presto su muneco de papa pig para que me hiciera compania durante el confinamiento.durante los tres primeros dias arreciaron el dolor de cabeza la tos seca y el malestar general luego los sintomas fueron remitiendo gracias a que estaba vacunado. hoy es el septimo de los diez dias que debo permanecer aislado. en esta habitacion convertida en isla sanitaria no hay mar ni palmeras ni mojitos. apenas un ventilador de pie cuyo aire constituye una pesima imitacion de la brisa mediterranea un velador que es tambien escritorio y una bolsa donde se mezclan mascarillas sobreusadas cajas de paracetamol y botellas de agua vacias. en vez de gaviotas me ronda una mosca que se cuela diariamente por la ventana no puedo asegurar que sea la misma y a falta de horizonte marino tengo frente a mi una laptop que me rescata del aburrimiento donde se me ha dado por ver peliculas con tema isleno la isla siniestra la isla de los condenados la isla del doctor moreau la isla de las mentiras.aunque la cama tiende a succionar al enfermo y el enfermo a dejarse absorber estar echado mucho tiempo es peligroso para un infectado por covid pueden formarse coagulos en las piernas o brazos y trasladarse a otras zonas como los pulmones. para evitarlo hago calistenia matutina desinfecto las superficies aledanas ordeno el guardarropa y hasta leo de pie pero no mucho rato porque me complica el subrayado. tambien me levanto para recoger los alimentos que mi esposa deja tres veces por dia al otro lado de la puerta junto a los dibujos que envia mi hija. a ellas solo las veo por facetime. el encierro es tan severo que aunque nos separa solamente una pared a veces me siento recluido en el ultimo pabellon de piedras gordas aunque dadas las gollerias esto se parece mas a la base naval.me tranquiliza comprobar que la vacuna funciona. no dejen de vacunarse ni dejen de vacunar a su familia. la vacuna no impide que te contagies pero si que mueras. vacunense pero mantengan la guardia arriba no asuman la inmunizacion no se relajen no piensen que ya estan fuera de peligro. lamentablemente esto todavia tiene para largo. video recomendado.el ministerio de salud minsa informo que este fin de semana sabado 31 de julio y domingo 1 de agosto los centros de vacunacion de lima metropolitana y callao continuaran inoculando a las personas de 47 anos a mas que requieran la segunda dosis de la vacuna contra el covid19.a traves de twitter el sector salud indico que la jornada para este grupo etario se realizara estos dos dias. especifico que las personas deben respetar la hora y local de vacunacion en el que fueron programados.tambien recordo que la atencion a todas las personas programadas segun la plataforma pongo el hombro del minsa se realizara con el dni del paciente y su carne de vacunacion.de acuerdo con el minsa la segunda dosis se debe aplicar a los 21 dias de recibida la primera dosis de la vacuna y que ambas deben ser del mismo laboratorio.en el documento aqui encontraras los centros de atencion peatonal y centros de vacunacion denominados vacunacar. revisar la citada informacion debido a que existen diversos horarios de 700 a. 700 p. y de 700 a. 400 p. para los puntos ubicados en lima norte lima sur lima centro y lima este.en tanto para el callao el horario es de 800 a. 400 p.este sabado 31 de julio el minsa informo que se superaron los 5 millones de peruanos que han completado su vacunacion contra el covid19 con las dos dosis. la vacuna es vida publico en un tuit al recordar que los ciudadanos deben acudir por su segunda dosis al mismo centro de inmunizacion donde se aplico la primera.el ministerio de salud minsa informo que hasta este 31 de julio el numero de personas vacunadas contra el covid19 con al menos una dosis asciende a 7944. en tanto el total de ciudadanos inmunizados con dos dosis es de 4968.483 hasta las 700 a. de hoy.hasta el momento peru ha recibido tres millones de vacunas de sinopharm mas de seis millones de pfizer y mas de 400 mil del mecanismo covax facility de astrazeneca y pfizer. todas estas se aplican a personal de salud adultos mayores miembros de la policia nacional fuerzas armadas y bomberos comprendidos en la primera fase del plan nacional de vacunacion.tanto la vacuna de sinopharm como la de pfizer y la de astrazeneca deben aplicarse en dos dosis para inmunizar a una persona contra el covid19.el proceso de vacunacion en el peru comenzo el martes 9 de febrero en los principales centros de salud en lima y callao. una herramienta digital implementada por el minsa permite acceder a la informacion del avance de la vacunacion. solo debes darle clic aqui para revisar el numero de personas vacunadas con ambas dosis o con una sola.el gobierno establecio que el 16 de abril se inicie un nuevo plan de vacunacion contra el covid19 con el objetivo de inmunizar primero a los adultos mayores.para ello el ejecutivo implemento la plataforma pongo el hombro a fin de que las personas puedan conocer el local la fecha y el horario en que seran vacunados contra el coronavirus covid19.el ministro de salud oscar ugarte senalo que las personas de la tercera edad que no puedan desplazarse hasta sus centros de inmunizacion tienen la opcion de llamar a la linea 113 para que una brigada acuda a su vivienda y les apliquen las dosis.el ministerio de salud minsa informo que hasta este 1 de agosto el numero de personas vacunadas contra el covid19 con al menos una dosis asciende a 7. en tanto el total de ciudadanos inmunizados con dos dosis es de 5.567 hasta las 700 a. de hoy.hasta el momento peru ha recibido tres millones de vacunas de sinopharm mas de seis millones de pfizer y mas de 400 mil del mecanismo covax facility de astrazeneca y pfizer. todas estas se aplican a personal de salud adultos mayores miembros de la policia nacional fuerzas armadas y bomberos comprendidos en la primera fase del plan nacional de vacunacion.tanto la vacuna de sinopharm como la de pfizer y la de astrazeneca deben aplicarse en dos dosis para inmunizar a una persona contra el covid19.el proceso de vacunacion en el peru comenzo el martes 9 de febrero en los principales centros de salud en lima y callao. una herramienta digital implementada por el minsa permite acceder a la informacion del avance de la vacunacion. solo debes darle clic aqui para revisar el numero de personas vacunadas con ambas dosis o con una sola.el gobierno establecio que el 16 de abril se inicie un nuevo plan de vacunacion contra el covid19 con el objetivo de inmunizar primero a los adultos mayores.para ello el ejecutivo implemento la plataforma pongo el hombro a fin de que las personas puedan conocer el local la fecha y el horario en que seran vacunados contra el coronavirus covid19.el ministro de salud oscar ugarte senalo que las personas de la tercera edad que no puedan desplazarse hasta sus centros de inmunizacion tienen la opcion de llamar a la linea 113 para que una brigada acuda a su vivienda y les apliquen las dosis.el ministerio de salud minsa informo que mas de 5 millones de personas de todo el pais han recibido a la fecha su segunda dosis contra el coronavirus covid19 mientras que el numero de ciudadanos con una sola vacuna es de 7944.609 hasta las 1153 a. de este sabado 31 de julio.si te toca tu segunda dosis acude al mismo centro de vacunacion donde te aplicaste tu primera dosis. la vacuna es vida remarca la publicacion del minsa en twitter.cabe recordar que el gobierno peruano ha firmado acuerdos de suministros con sinopharm pfizer astrazeneca y con el mecanismo covax facility.el proceso de vacunacion en el peru comenzo con los adultos mayores el martes 9 de febrero en los principales centros de salud en lima y callao.de otro lado se informo que una herramienta digital implementada por el minsa permite acceder a la informacion del avance de la vacunacion. solo debes darle clic aqui para revisar el numero de personas vacunadas con ambas dosis o con una sola.el ministro de salud hernando cevallos informo que el numero de casos de la variante delta del covid19 aumento a 40 a nivel nacional. hasta el sabado 24 de julio habia 19 personas detectadas con la nueva variante detectadas por primera vez en la india.esta variante delta viene aumentando. ahorita el reporte que tengo es que habria 40 casos de esta variante delta. no hay que bajar la guardia hay que seguir manteniendo el control genomico para que no se nos dispare esta variante que todos sabemos es mas contagiosa preciso en tv peru noticias.en esa linea indico que su sector esta tomando medidas rapidas para poder establecer los contactos que han tenido las personas con la variante delta a fin de establecer un cerco y evitar que se disperse contagiando a mas ciudadanos.aunque suponemos que si se han detectado a 40 debe haber muchas mas contagiados por esta variante. por eso estamos incentivando la vacunacion. seguimos insistiendo en la poblacion se cuide con el uso de mascarilla con el distanciamiento social. no hay que confiarse insto.consultado respecto a que regiones presentan casos de la variante india el titular de salud senalo que es en diversos puntos del pais. no solamente es en lima y en arequipa tambien hemos tenido en el centro del pais algunos casos mas detallo'"
      ]
     },
     "execution_count": 106,
     "metadata": {},
     "output_type": "execute_result"
    }
   ],
   "source": [
    "parseado = '.'.join(list(consol[consol['tipo'] == 'original']['oracion']))\n",
    "parseado"
   ]
  },
  {
   "cell_type": "code",
   "execution_count": 107,
   "id": "c401a5da-cd68-44bd-b148-9c77c5fb5d9b",
   "metadata": {},
   "outputs": [
    {
     "data": {
      "text/plain": [
       "'news\\\\01082021\\\\parseado\\\\metodo_1.txt'"
      ]
     },
     "execution_count": 107,
     "metadata": {},
     "output_type": "execute_result"
    }
   ],
   "source": [
    "path_ = os.path.join(cleaner.newsletter_path, 'metodo_1.txt')\n",
    "path_"
   ]
  },
  {
   "cell_type": "code",
   "execution_count": 108,
   "id": "b16d8dfe-3982-4ccb-946c-c8413d71a43a",
   "metadata": {},
   "outputs": [],
   "source": [
    "with open(path_, 'w+', encoding=\"utf-8\") as file:\n",
    "    file.write(parseado)"
   ]
  },
  {
   "cell_type": "code",
   "execution_count": null,
   "id": "6882977a-afc8-46c5-b29f-3c6874e25d76",
   "metadata": {},
   "outputs": [],
   "source": []
  },
  {
   "cell_type": "code",
   "execution_count": null,
   "id": "818aba68-7a32-4591-8b8d-e41106360da8",
   "metadata": {},
   "outputs": [],
   "source": []
  },
  {
   "cell_type": "code",
   "execution_count": null,
   "id": "48650bc9-726c-41bd-bee7-b293448c2f3b",
   "metadata": {},
   "outputs": [],
   "source": []
  }
 ],
 "metadata": {
  "kernelspec": {
   "display_name": "Python 3",
   "language": "python",
   "name": "python3"
  },
  "language_info": {
   "codemirror_mode": {
    "name": "ipython",
    "version": 3
   },
   "file_extension": ".py",
   "mimetype": "text/x-python",
   "name": "python",
   "nbconvert_exporter": "python",
   "pygments_lexer": "ipython3",
   "version": "3.8.5"
  }
 },
 "nbformat": 4,
 "nbformat_minor": 5
}
